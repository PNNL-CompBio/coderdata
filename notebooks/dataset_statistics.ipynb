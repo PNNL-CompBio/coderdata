{
 "cells": [
  {
   "cell_type": "code",
   "execution_count": null,
   "metadata": {},
   "outputs": [],
   "source": [
    "# iPython magic to autoreload modules everytime code is executed to propagate changes to the code\n",
    "%load_ext autoreload\n",
    "%autoreload 2"
   ]
  },
  {
   "cell_type": "code",
   "execution_count": 8,
   "metadata": {},
   "outputs": [],
   "source": [
    "import coderdata as cd\n",
    "from coderdata.utils.stats import summarize_response_metric\n",
    "from coderdata.utils.stats import plot_response_metric\n",
    "\n",
    "import matplotlib.pyplot as plt\n",
    "import math"
   ]
  },
  {
   "cell_type": "code",
   "execution_count": 9,
   "metadata": {},
   "outputs": [],
   "source": [
    "dataset_prefix = 'beataml'"
   ]
  },
  {
   "cell_type": "code",
   "execution_count": null,
   "metadata": {},
   "outputs": [],
   "source": [
    "cd.download_data_by_prefix(dataset_prefix)"
   ]
  },
  {
   "cell_type": "code",
   "execution_count": null,
   "metadata": {},
   "outputs": [],
   "source": [
    "data = cd.DatasetLoader(dataset_prefix)\n",
    "summary_stats = summarize_response_metric(data=data)\n",
    "summary_stats"
   ]
  },
  {
   "cell_type": "code",
   "execution_count": 14,
   "metadata": {},
   "outputs": [],
   "source": [
    "metrics = summary_stats.index.values"
   ]
  },
  {
   "cell_type": "code",
   "execution_count": 23,
   "metadata": {},
   "outputs": [],
   "source": [
    "ncol = 3\n",
    "nrow = math.ceil(len(metrics)/ncol)"
   ]
  },
  {
   "cell_type": "code",
   "execution_count": null,
   "metadata": {},
   "outputs": [],
   "source": [
    "fig, axs = plt.subplots(nrows=nrow, ncols=ncol, figsize=(ncol*3, nrow*3))\n",
    "\n",
    "k = 0\n",
    "for i in range(0, nrow):\n",
    "    for j in range(0, ncol):\n",
    "        if k < len(metrics):\n",
    "            plot_response_metric(data=data, metric=metrics[k], bins=10, ax=axs[i, j])\n",
    "        else:\n",
    "            axs[i, j].axis('off')\n",
    "        k += 1\n",
    "\n",
    "fig.set_layout_engine('tight')\n",
    "fig.suptitle(f'Distribution of drug response values in \"{dataset_prefix}\"')\n",
    "\n",
    "# uncomment next line to save plot\n",
    "# fig.savefig(f'{dataset_prefix}.png')"
   ]
  }
 ],
 "metadata": {
  "kernelspec": {
   "display_name": "coderdata",
   "language": "python",
   "name": "python3"
  },
  "language_info": {
   "codemirror_mode": {
    "name": "ipython",
    "version": 3
   },
   "file_extension": ".py",
   "mimetype": "text/x-python",
   "name": "python",
   "nbconvert_exporter": "python",
   "pygments_lexer": "ipython3",
   "version": "3.12.6"
  }
 },
 "nbformat": 4,
 "nbformat_minor": 2
}

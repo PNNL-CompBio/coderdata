{
 "cells": [
  {
   "cell_type": "markdown",
   "id": "11f00d32",
   "metadata": {},
   "source": [
    "# Dataset Documentation for Coderdata\n",
    "### Table of Contents:\n",
    "* Publication of Origin\n",
    "* Data Modalities Available\n",
    "* Data Transformations\n",
    "* Samples x Drugs combinations\n",
    "  "
   ]
  },
  {
   "cell_type": "markdown",
   "id": "41e754b1",
   "metadata": {},
   "source": [
    "## Publication of Origin\n",
    "BeatAML -  \n",
    "bladderpdo\n",
    "broad_sanger\n",
    "cptac\n",
    "crcpdo\n",
    "hcmi\n",
    "lincs\n",
    "liverpdo\n",
    "mpnst\n",
    "novartispdx\n",
    "pancpdo\n",
    "sarcpdo"
   ]
  },
  {
   "cell_type": "code",
   "execution_count": null,
   "id": "c11a3fc5",
   "metadata": {},
   "outputs": [],
   "source": []
  }
 ],
 "metadata": {
  "language_info": {
   "name": "python"
  }
 },
 "nbformat": 4,
 "nbformat_minor": 5
}

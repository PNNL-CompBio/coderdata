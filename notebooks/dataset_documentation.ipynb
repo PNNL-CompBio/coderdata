{
 "cells": [
  {
   "cell_type": "markdown",
   "id": "11f00d32",
   "metadata": {},
   "source": [
    "# Dataset Documentation for Coderdata\n",
    "### Table of Contents:\n",
    "* Publication of Origin\n",
    "* Data Modalities Available\n",
    "* Data Transformations\n",
    "* Samples x Drugs combinations\n",
    "  "
   ]
  },
  {
   "cell_type": "markdown",
   "id": "41e754b1",
   "metadata": {},
   "source": [
    "## Publication of Origin\n",
    "BeatAML -  \n",
    "bladderpdo\n",
    "broad_sanger\n",
    "cptac\n",
    "crcpdo\n",
    "hcmi\n",
    "lincs\n",
    "liverpdo\n",
    "mpnst\n",
    "novartispdx\n",
    "pancpdo\n",
    "sarcpdo"
   ]
  },
  {
   "cell_type": "code",
   "execution_count": 28,
   "id": "c11a3fc5",
   "metadata": {},
   "outputs": [],
   "source": [
    "from pathlib import Path\n",
    "from copy import deepcopy\n",
    "\n",
    "import coderdata as cd\n",
    "\n",
    "import matplotlib.pyplot as plt\n",
    "import math\n",
    "import os\n",
    "import glob\n",
    "\n",
    "import pandas as pd\n",
    "import numpy as np"
   ]
  },
  {
   "cell_type": "code",
   "execution_count": 22,
   "id": "b4fdfec2",
   "metadata": {},
   "outputs": [],
   "source": [
    "# Load in all Datasets\n",
    "dataset_names = ['hcmi','beataml','mpnst','pancpdo','cptac','sarcpdo','colorectal','bladderpdo','liver','novartis']\n",
    "broad_sanger_datasets = [\"ccle\",\"ctrpv2\",\"fimm\",\"gdscv1\",\"gdscv2\",\"gcsi\",\"prism\",\"nci60\"]"
   ]
  },
  {
   "cell_type": "markdown",
   "id": "8fdcbc65",
   "metadata": {},
   "source": [
    "### Reading in # of Samples and Drugs"
   ]
  },
  {
   "cell_type": "code",
   "execution_count": 23,
   "id": "519a7386",
   "metadata": {},
   "outputs": [
    {
     "name": "stdout",
     "output_type": "stream",
     "text": [
      "886\n",
      "1022\n",
      "50\n",
      "70\n",
      "1139\n",
      "36\n",
      "61\n",
      "134\n",
      "62\n",
      "386\n"
     ]
    }
   ],
   "source": [
    "# samples first\n",
    "for dataset in dataset_names:\n",
    "    sample_file = glob.glob(\"/Users/imal967/pnnl/projects/coderdata/all_datasets/{}_samples.*\".format(dataset))\n",
    "    if sample_file:\n",
    "        samples_df = pd.read_csv(sample_file[0], sep=\"\\t\" if sample_file[0].endswith(\".tsv\") else \",\")\n",
    "        print(samples_df['improve_sample_id'].nunique())\n",
    "    else:\n",
    "        print(f\"No sample file found for dataset: {dataset}\")"
   ]
  },
  {
   "cell_type": "code",
   "execution_count": 24,
   "id": "51776d2e",
   "metadata": {},
   "outputs": [
    {
     "name": "stdout",
     "output_type": "stream",
     "text": [
      "No drug file found for dataset: hcmi\n",
      "164\n",
      "25\n",
      "25\n",
      "No drug file found for dataset: cptac\n",
      "34\n",
      "10\n",
      "50\n",
      "76\n",
      "25\n"
     ]
    }
   ],
   "source": [
    "# drugs next\n",
    "for dataset in dataset_names:\n",
    "    drug_file = glob.glob(\"/Users/imal967/pnnl/projects/coderdata/all_datasets/{}_drugs.*\".format(dataset))\n",
    "    if drug_file:\n",
    "        drugs_df = pd.read_csv(drug_file[0], sep=\"\\t\" if drug_file[0].endswith(\".tsv\") else \",\")\n",
    "        print(drugs_df['improve_drug_id'].nunique())\n",
    "    else:\n",
    "        print(f\"No drug file found for dataset: {dataset}\")"
   ]
  },
  {
   "cell_type": "code",
   "execution_count": 27,
   "id": "3c1250ab",
   "metadata": {},
   "outputs": [
    {
     "name": "stdout",
     "output_type": "stream",
     "text": [
      "No experimental data file found for dataset: hcmi\n",
      "23662\n",
      "212\n",
      "290\n",
      "No experimental data file found for dataset: cptac\n",
      "276\n",
      "140\n",
      "3300\n",
      "4453\n",
      "1766\n"
     ]
    }
   ],
   "source": [
    "# now getting unique sample-drug pairs in the experimental data\n",
    "for dataset in dataset_names:\n",
    "    exp_file = glob.glob(\"/Users/imal967/pnnl/projects/coderdata/all_datasets/{}_experiments.*\".format(dataset))\n",
    "    if exp_file:\n",
    "        exp_df = pd.read_csv(exp_file[0], sep=\"\\t\" if exp_file[0].endswith(\".tsv\") else \",\")\n",
    "        print(exp_df[['improve_sample_id','improve_drug_id']].drop_duplicates().shape[0])\n",
    "    else:\n",
    "        print(f\"No experimental data file found for dataset: {dataset}\")"
   ]
  },
  {
   "cell_type": "code",
   "execution_count": 35,
   "id": "85d54e9e",
   "metadata": {},
   "outputs": [
    {
     "name": "stdout",
     "output_type": "stream",
     "text": [
      "No experimental data file found for dataset: hcmi\n",
      "3033\n",
      "163\n",
      "180\n",
      "No experimental data file found for dataset: cptac\n",
      "234\n",
      "60\n",
      "840\n",
      "4453\n",
      "1734\n"
     ]
    }
   ],
   "source": [
    "# now doing rnaseq x drugs\n",
    "# going to need rnaseq data and experimental data\n",
    "for dataset in dataset_names:\n",
    "    exp_file = glob.glob(\"/Users/imal967/pnnl/projects/coderdata/all_datasets/{}_experiments.*\".format(dataset))\n",
    "    transcriptomics_file = glob.glob(\"/Users/imal967/pnnl/projects/coderdata/all_datasets/{}_transcriptomics.*\".format(dataset))\n",
    "    if transcriptomics_file:\n",
    "        transcriptomics_df = pd.read_csv(transcriptomics_file[0], sep=\"\\t\" if transcriptomics_file[0].endswith(\".tsv\") else \",\")\n",
    "        all_transcriptomics_samples = transcriptomics_df['improve_sample_id'].unique() # unique samples with transcriptomics data\n",
    "    if exp_file:\n",
    "        exp_df = pd.read_csv(exp_file[0], sep=\"\\t\" if exp_file[0].endswith(\".tsv\") else \",\")\n",
    "        # now filter to only those samples with transcriptomics data\n",
    "        exp_transcriptomics_df = exp_df[exp_df['improve_sample_id'].isin(all_transcriptomics_samples)]\n",
    "        number_of_unique_sample_drug_pairs = exp_transcriptomics_df[['improve_sample_id','improve_drug_id']].drop_duplicates().shape[0]\n",
    "        print(number_of_unique_sample_drug_pairs)\n",
    "    else:\n",
    "        print(f\"No experimental data file found for dataset: {dataset}\")"
   ]
  },
  {
   "cell_type": "code",
   "execution_count": 38,
   "id": "8f97d5e1",
   "metadata": {},
   "outputs": [
    {
     "name": "stdout",
     "output_type": "stream",
     "text": [
      "No experimental data file found for dataset: hcmi\n",
      "2905\n",
      "163\n",
      "175\n",
      "No experimental data file found for dataset: cptac\n",
      "187\n",
      "60\n",
      "640\n",
      "4453\n",
      "1734\n"
     ]
    }
   ],
   "source": [
    "# rnaseq x mutations x drugs \n",
    "# loading in mutation data\n",
    "for dataset in dataset_names:\n",
    "    mutation_file = glob.glob(\"/Users/imal967/pnnl/projects/coderdata/all_datasets/{}_mutations.*\".format(dataset))\n",
    "    if mutation_file:\n",
    "        mutations_df = pd.read_csv(mutation_file[0], sep=\"\\t\" if mutation_file[0].endswith(\".tsv\") else \",\")\n",
    "        all_mutation_samples = mutations_df['improve_sample_id'].unique() # unique samples with mutation data\n",
    "    exp_file = glob.glob(\"/Users/imal967/pnnl/projects/coderdata/all_datasets/{}_experiments.*\".format(dataset))\n",
    "    transcriptomics_file = glob.glob(\"/Users/imal967/pnnl/projects/coderdata/all_datasets/{}_transcriptomics.*\".format(dataset))\n",
    "    if transcriptomics_file:\n",
    "        transcriptomics_df = pd.read_csv(transcriptomics_file[0], sep=\"\\t\" if transcriptomics_file[0].endswith(\".tsv\") else \",\")\n",
    "        all_transcriptomics_samples = transcriptomics_df['improve_sample_id'].unique() # unique samples with transcriptomics data\n",
    "    if exp_file:  \n",
    "        exp_df = pd.read_csv(exp_file[0], sep=\"\\t\" if exp_file[0].endswith(\".tsv\") else \",\")\n",
    "        # now filter to only those samples with transcriptomics data and mutation data\n",
    "        exp_transcriptomics_mutation_df = exp_df[exp_df['improve_sample_id'].isin(all_transcriptomics_samples) & exp_df['improve_sample_id'].isin(all_mutation_samples)]\n",
    "        number_of_unique_sample_drug_pairs = exp_transcriptomics_mutation_df[['improve_sample_id','improve_drug_id']].drop_duplicates().shape[0]\n",
    "        print(number_of_unique_sample_drug_pairs)\n",
    "    else:\n",
    "        print(f\"No experimental data file found for dataset: {dataset}\")"
   ]
  },
  {
   "cell_type": "code",
   "execution_count": 43,
   "id": "8cb33073",
   "metadata": {},
   "outputs": [
    {
     "name": "stdout",
     "output_type": "stream",
     "text": [
      "Missing files for dataset: hcmi\n",
      "Missing files for dataset: cptac\n"
     ]
    }
   ],
   "source": [
    "# adding to the dataframe\n",
    "datset_stats = pd.DataFrame(columns=['dataset','num_samples','num_drugs','num_sample_drug_pairs','num_sample_drug_transcript_pairs','num_sample_drug_transcript_mutation_pairs','num_sample_drug_transcript_copynum_pairs'])\n",
    "for dataset in dataset_names:\n",
    "    sample_file = glob.glob(\"/Users/imal967/pnnl/projects/coderdata/all_datasets/{}_samples.*\".format(dataset))\n",
    "    drug_file = glob.glob(\"/Users/imal967/pnnl/projects/coderdata/all_datasets/{}_drugs.*\".format(dataset))\n",
    "    exp_file = glob.glob(\"/Users/imal967/pnnl/projects/coderdata/all_datasets/{}_experiments.*\".format(dataset))\n",
    "    transcriptomics_file = glob.glob(\"/Users/imal967/pnnl/projects/coderdata/all_datasets/{}_transcriptomics.*\".format(dataset))\n",
    "    mutation_file = glob.glob(\"/Users/imal967/pnnl/projects/coderdata/all_datasets/{}_mutations.*\".format(dataset))\n",
    "    copy_number_file = glob.glob(\"/Users/imal967/pnnl/projects/coderdata/all_datasets/{}_copy_number.*\".format(dataset)) \n",
    "    # getting number of samples\n",
    "    if sample_file:\n",
    "        samples_df = pd.read_csv(sample_file[0], sep=\"\\t\" if sample_file[0].endswith(\".tsv\") else \",\")\n",
    "        num_samples = samples_df['improve_sample_id'].nunique() # unique samples\n",
    "    else:\n",
    "        print(f\"Missing files for dataset: {dataset}\")\n",
    "        num_samples = np.nan\n",
    "    # getting number of drugs\n",
    "    if drug_file:\n",
    "        drugs_df = pd.read_csv(drug_file[0], sep=\"\\t\" if drug_file[0].endswith(\".tsv\") else \",\")\n",
    "        num_drugs = drugs_df['improve_drug_id'].nunique() # unique drugs\n",
    "    else:\n",
    "        print(f\"Missing files for dataset: {dataset}\")\n",
    "        num_drugs = np.nan\n",
    "    # getting number of unique sample-drug pairs\n",
    "    if exp_file:\n",
    "        exp_df = pd.read_csv(exp_file[0], sep=\"\\t\" if exp_file[0].endswith(\".tsv\") else \",\")\n",
    "        num_sample_drug_pairs = exp_df[['improve_sample_id','improve_drug_id']].drop_duplicates().shape[0]\n",
    "    else:\n",
    "        num_sample_drug_pairs = np.nan\n",
    "    # getting number of unique sample-drug pairs with transcriptomics data\n",
    "    if transcriptomics_file and exp_file:\n",
    "        transcriptomics_df = pd.read_csv(transcriptomics_file[0], sep=\"\\t\" if transcriptomics_file[0].endswith(\".tsv\") else \",\")\n",
    "        all_transcriptomics_samples = transcriptomics_df['improve_sample_id'].unique() # unique samples with transcriptomics data\n",
    "        # now filter to only those samples with transcriptomics data\n",
    "        exp_transcriptomics_df = exp_df[exp_df['improve_sample_id'].isin(all_transcriptomics_samples)]\n",
    "        num_sample_drug_transcript_pairs = exp_transcriptomics_df[['improve_sample_id','improve_drug_id']].drop_duplicates().shape[0]\n",
    "    else:\n",
    "        num_sample_drug_transcript_pairs = np.nan\n",
    "    # unique sample-drug pairs with mutation data and transcriptomics data\n",
    "    if transcriptomics_file and mutation_file and exp_file:\n",
    "        mutations_df = pd.read_csv(mutation_file[0], sep=\"\\t\" if mutation_file[0].endswith(\".tsv\") else \",\")\n",
    "        all_mutation_samples = mutations_df['improve_sample_id'].unique() # unique samples with mutation data\n",
    "        all_transcriptomics_samples = transcriptomics_df['improve_sample_id'].unique() # unique samples with transcriptomics data\n",
    "        # now filter to only those samples with transcriptomics data and mutation data\n",
    "        exp_transcriptomics_mutation_df = exp_df[exp_df['improve_sample_id'].isin(all_transcriptomics_samples) & exp_df['improve_sample_id'].isin(all_mutation_samples)]\n",
    "        num_sample_drug_transcript_mutation_pairs = exp_transcriptomics_mutation_df[['improve_sample_id','improve_drug_id']].drop_duplicates().shape[0]\n",
    "    else:\n",
    "        num_sample_drug_transcript_mutation_pairs = np.nan\n",
    "    # unique sample-drug pairs with copynum data and transcriptomics data\n",
    "    if transcriptomics_file and copy_number_file and exp_file:\n",
    "        copy_number_df = pd.read_csv(copy_number_file[0], sep=\"\\t\" if copy_number_file[0].endswith(\".tsv\") else \",\")\n",
    "        all_copy_number_samples = copy_number_df['improve_sample_id'].unique() # unique samples with copy number data\n",
    "        all_transcriptomics_samples = transcriptomics_df['improve_sample_id'].unique() # unique samples with transcriptomics data\n",
    "        # now filter to only those samples with transcriptomics data and copy number data\n",
    "        exp_transcriptomics_copy_number_df = exp_df[exp_df['improve_sample_id'].isin(all_transcriptomics_samples) & exp_df['improve_sample_id'].isin(all_copy_number_samples)]\n",
    "        num_sample_drug_transcript_copynum_pairs = exp_transcriptomics_copy_number_df[['improve_sample_id','improve_drug_id']].drop_duplicates().shape[0]\n",
    "    else:\n",
    "        num_sample_drug_transcript_copynum_pairs = np.nan\n",
    "    # adding to dataframe\n",
    "    datset_stats = pd.concat([datset_stats, pd.DataFrame({'dataset':[dataset],'num_samples':[num_samples],'num_drugs':[num_drugs],'num_sample_drug_pairs':[num_sample_drug_pairs],'num_sample_drug_transcript_pairs':num_sample_drug_transcript_pairs,'num_sample_drug_transcript_mutation_pairs':num_sample_drug_transcript_mutation_pairs,'num_sample_drug_transcript_copynum_pairs':num_sample_drug_transcript_copynum_pairs})], ignore_index=True)\n"
   ]
  },
  {
   "cell_type": "code",
   "execution_count": 44,
   "id": "c7c21581",
   "metadata": {},
   "outputs": [
    {
     "data": {
      "application/vnd.microsoft.datawrangler.viewer.v0+json": {
       "columns": [
        {
         "name": "index",
         "rawType": "int64",
         "type": "integer"
        },
        {
         "name": "dataset",
         "rawType": "object",
         "type": "string"
        },
        {
         "name": "num_samples",
         "rawType": "object",
         "type": "unknown"
        },
        {
         "name": "num_drugs",
         "rawType": "object",
         "type": "unknown"
        },
        {
         "name": "num_sample_drug_pairs",
         "rawType": "object",
         "type": "unknown"
        },
        {
         "name": "num_sample_drug_transcript_pairs",
         "rawType": "object",
         "type": "unknown"
        },
        {
         "name": "num_sample_drug_transcript_mutation_pairs",
         "rawType": "object",
         "type": "unknown"
        },
        {
         "name": "num_sample_drug_transcript_copynum_pairs",
         "rawType": "object",
         "type": "unknown"
        }
       ],
       "ref": "21487ed2-c275-4471-8cdd-9fa9dfc976db",
       "rows": [
        [
         "0",
         "hcmi",
         "886",
         null,
         null,
         null,
         null,
         null
        ],
        [
         "1",
         "beataml",
         "1022",
         "164",
         "23662",
         "3033",
         "2905",
         null
        ],
        [
         "2",
         "mpnst",
         "50",
         "25",
         "212",
         "163",
         "163",
         "163"
        ],
        [
         "3",
         "pancpdo",
         "70",
         "25",
         "290",
         "180",
         "175",
         "175"
        ],
        [
         "4",
         "cptac",
         "1139",
         null,
         null,
         null,
         null,
         null
        ],
        [
         "5",
         "sarcpdo",
         "36",
         "34",
         "276",
         "234",
         "187",
         null
        ],
        [
         "6",
         "colorectal",
         "61",
         "10",
         "140",
         "60",
         "60",
         "60"
        ],
        [
         "7",
         "bladderpdo",
         "134",
         "50",
         "3300",
         "840",
         "640",
         "640"
        ],
        [
         "8",
         "liver",
         "62",
         "76",
         "4453",
         "4453",
         "4453",
         "4453"
        ],
        [
         "9",
         "novartis",
         "386",
         "25",
         "1766",
         "1734",
         "1734",
         "1723"
        ]
       ],
       "shape": {
        "columns": 7,
        "rows": 10
       }
      },
      "text/html": [
       "<div>\n",
       "<style scoped>\n",
       "    .dataframe tbody tr th:only-of-type {\n",
       "        vertical-align: middle;\n",
       "    }\n",
       "\n",
       "    .dataframe tbody tr th {\n",
       "        vertical-align: top;\n",
       "    }\n",
       "\n",
       "    .dataframe thead th {\n",
       "        text-align: right;\n",
       "    }\n",
       "</style>\n",
       "<table border=\"1\" class=\"dataframe\">\n",
       "  <thead>\n",
       "    <tr style=\"text-align: right;\">\n",
       "      <th></th>\n",
       "      <th>dataset</th>\n",
       "      <th>num_samples</th>\n",
       "      <th>num_drugs</th>\n",
       "      <th>num_sample_drug_pairs</th>\n",
       "      <th>num_sample_drug_transcript_pairs</th>\n",
       "      <th>num_sample_drug_transcript_mutation_pairs</th>\n",
       "      <th>num_sample_drug_transcript_copynum_pairs</th>\n",
       "    </tr>\n",
       "  </thead>\n",
       "  <tbody>\n",
       "    <tr>\n",
       "      <th>0</th>\n",
       "      <td>hcmi</td>\n",
       "      <td>886</td>\n",
       "      <td>NaN</td>\n",
       "      <td>NaN</td>\n",
       "      <td>NaN</td>\n",
       "      <td>NaN</td>\n",
       "      <td>NaN</td>\n",
       "    </tr>\n",
       "    <tr>\n",
       "      <th>1</th>\n",
       "      <td>beataml</td>\n",
       "      <td>1022</td>\n",
       "      <td>164</td>\n",
       "      <td>23662</td>\n",
       "      <td>3033</td>\n",
       "      <td>2905</td>\n",
       "      <td>NaN</td>\n",
       "    </tr>\n",
       "    <tr>\n",
       "      <th>2</th>\n",
       "      <td>mpnst</td>\n",
       "      <td>50</td>\n",
       "      <td>25</td>\n",
       "      <td>212</td>\n",
       "      <td>163</td>\n",
       "      <td>163</td>\n",
       "      <td>163</td>\n",
       "    </tr>\n",
       "    <tr>\n",
       "      <th>3</th>\n",
       "      <td>pancpdo</td>\n",
       "      <td>70</td>\n",
       "      <td>25</td>\n",
       "      <td>290</td>\n",
       "      <td>180</td>\n",
       "      <td>175</td>\n",
       "      <td>175</td>\n",
       "    </tr>\n",
       "    <tr>\n",
       "      <th>4</th>\n",
       "      <td>cptac</td>\n",
       "      <td>1139</td>\n",
       "      <td>NaN</td>\n",
       "      <td>NaN</td>\n",
       "      <td>NaN</td>\n",
       "      <td>NaN</td>\n",
       "      <td>NaN</td>\n",
       "    </tr>\n",
       "    <tr>\n",
       "      <th>5</th>\n",
       "      <td>sarcpdo</td>\n",
       "      <td>36</td>\n",
       "      <td>34</td>\n",
       "      <td>276</td>\n",
       "      <td>234</td>\n",
       "      <td>187</td>\n",
       "      <td>NaN</td>\n",
       "    </tr>\n",
       "    <tr>\n",
       "      <th>6</th>\n",
       "      <td>colorectal</td>\n",
       "      <td>61</td>\n",
       "      <td>10</td>\n",
       "      <td>140</td>\n",
       "      <td>60</td>\n",
       "      <td>60</td>\n",
       "      <td>60</td>\n",
       "    </tr>\n",
       "    <tr>\n",
       "      <th>7</th>\n",
       "      <td>bladderpdo</td>\n",
       "      <td>134</td>\n",
       "      <td>50</td>\n",
       "      <td>3300</td>\n",
       "      <td>840</td>\n",
       "      <td>640</td>\n",
       "      <td>640</td>\n",
       "    </tr>\n",
       "    <tr>\n",
       "      <th>8</th>\n",
       "      <td>liver</td>\n",
       "      <td>62</td>\n",
       "      <td>76</td>\n",
       "      <td>4453</td>\n",
       "      <td>4453</td>\n",
       "      <td>4453</td>\n",
       "      <td>4453</td>\n",
       "    </tr>\n",
       "    <tr>\n",
       "      <th>9</th>\n",
       "      <td>novartis</td>\n",
       "      <td>386</td>\n",
       "      <td>25</td>\n",
       "      <td>1766</td>\n",
       "      <td>1734</td>\n",
       "      <td>1734</td>\n",
       "      <td>1723</td>\n",
       "    </tr>\n",
       "  </tbody>\n",
       "</table>\n",
       "</div>"
      ],
      "text/plain": [
       "      dataset num_samples num_drugs num_sample_drug_pairs  \\\n",
       "0        hcmi         886       NaN                   NaN   \n",
       "1     beataml        1022       164                 23662   \n",
       "2       mpnst          50        25                   212   \n",
       "3     pancpdo          70        25                   290   \n",
       "4       cptac        1139       NaN                   NaN   \n",
       "5     sarcpdo          36        34                   276   \n",
       "6  colorectal          61        10                   140   \n",
       "7  bladderpdo         134        50                  3300   \n",
       "8       liver          62        76                  4453   \n",
       "9    novartis         386        25                  1766   \n",
       "\n",
       "  num_sample_drug_transcript_pairs num_sample_drug_transcript_mutation_pairs  \\\n",
       "0                              NaN                                       NaN   \n",
       "1                             3033                                      2905   \n",
       "2                              163                                       163   \n",
       "3                              180                                       175   \n",
       "4                              NaN                                       NaN   \n",
       "5                              234                                       187   \n",
       "6                               60                                        60   \n",
       "7                              840                                       640   \n",
       "8                             4453                                      4453   \n",
       "9                             1734                                      1734   \n",
       "\n",
       "  num_sample_drug_transcript_copynum_pairs  \n",
       "0                                      NaN  \n",
       "1                                      NaN  \n",
       "2                                      163  \n",
       "3                                      175  \n",
       "4                                      NaN  \n",
       "5                                      NaN  \n",
       "6                                       60  \n",
       "7                                      640  \n",
       "8                                     4453  \n",
       "9                                     1723  "
      ]
     },
     "execution_count": 44,
     "metadata": {},
     "output_type": "execute_result"
    }
   ],
   "source": [
    "datset_stats"
   ]
  }
 ],
 "metadata": {
  "kernelspec": {
   "display_name": "cdc_organoids",
   "language": "python",
   "name": "python3"
  },
  "language_info": {
   "codemirror_mode": {
    "name": "ipython",
    "version": 3
   },
   "file_extension": ".py",
   "mimetype": "text/x-python",
   "name": "python",
   "nbconvert_exporter": "python",
   "pygments_lexer": "ipython3",
   "version": "3.9.18"
  }
 },
 "nbformat": 4,
 "nbformat_minor": 5
}

{
 "cells": [
  {
   "cell_type": "code",
   "execution_count": 1,
   "id": "69bbae7d-69ba-44a7-96e4-1473af90cb8f",
   "metadata": {},
   "outputs": [],
   "source": [
    "import wget\n",
    "import os\n",
    "import subprocess\n",
    "import sys\n",
    "from subprocess import Popen\n",
    "import pandas as pd\n",
    "from shutil import which\n",
    "import platform\n",
    "import zipfile"
   ]
  },
  {
   "cell_type": "markdown",
   "id": "7dd2f1ca-3687-4c3d-a20e-8227bb058618",
   "metadata": {},
   "source": [
    "### making gdc tool function"
   ]
  },
  {
   "cell_type": "code",
   "execution_count": 2,
   "id": "1c53d6a0-aeb2-4a7f-bbac-823184b7455c",
   "metadata": {},
   "outputs": [],
   "source": [
    "def download_tool(url):\n",
    "    \"\"\"Download tool using wget. Input is a URL.\"\"\"\n",
    "    filename = wget.download(url)\n",
    "    with zipfile.ZipFile(filename, 'r') as zip_ref:\n",
    "        zip_ref.extractall()\n",
    "    return filename\n"
   ]
  },
  {
   "cell_type": "code",
   "execution_count": 4,
   "id": "e7b5fd8e",
   "metadata": {},
   "outputs": [],
   "source": [
    "def is_tool(name):\n",
    "    \"\"\"Check whether `name` is on PATH and marked as executable. Or if the exe file is in the directory.\"\"\"\n",
    "    check_1 = which(name) is not None\n",
    "    files = os.listdir()\n",
    "    filename = False\n",
    "    for file in files:\n",
    "        if \"gdc-client\" == file:\n",
    "            filename = True\n",
    "    return filename"
   ]
  },
  {
   "cell_type": "code",
   "execution_count": 5,
   "id": "9fe057f3",
   "metadata": {},
   "outputs": [
    {
     "name": "stdout",
     "output_type": "stream",
     "text": [
      "False\n",
      "100% [........................................................................] 74322586 / 74322586"
     ]
    },
    {
     "ename": "BadZipFile",
     "evalue": "File is not a zip file",
     "output_type": "error",
     "traceback": [
      "\u001b[0;31m---------------------------------------------------------------------------\u001b[0m",
      "\u001b[0;31mBadZipFile\u001b[0m                                Traceback (most recent call last)",
      "Cell \u001b[0;32mIn[5], line 9\u001b[0m\n\u001b[1;32m      7\u001b[0m \u001b[38;5;28;01mif\u001b[39;00m op \u001b[38;5;241m==\u001b[39m \u001b[38;5;124m\"\u001b[39m\u001b[38;5;124mDarwin\u001b[39m\u001b[38;5;124m\"\u001b[39m:\n\u001b[1;32m      8\u001b[0m     download_tool(\u001b[38;5;124m'\u001b[39m\u001b[38;5;124mhttps://gdc.cancer.gov/files/public/file/gdc-client_v1.6.1_OSX_x64.zip\u001b[39m\u001b[38;5;124m'\u001b[39m)\n\u001b[0;32m----> 9\u001b[0m     \u001b[43mdownload_tool\u001b[49m\u001b[43m(\u001b[49m\u001b[38;5;124;43m'\u001b[39;49m\u001b[38;5;124;43mhttps://gdc.cancer.gov/files/public/file/gdc_dtt-ui_v1.0.0_mac_x64.zip\u001b[39;49m\u001b[38;5;124;43m'\u001b[39;49m\u001b[43m)\u001b[49m\n\u001b[1;32m     10\u001b[0m \u001b[38;5;28;01melif\u001b[39;00m op \u001b[38;5;241m==\u001b[39m \u001b[38;5;124m\"\u001b[39m\u001b[38;5;124mWindows\u001b[39m\u001b[38;5;124m\"\u001b[39m:\n\u001b[1;32m     11\u001b[0m     download_tool(\u001b[38;5;124m'\u001b[39m\u001b[38;5;124mhttps://gdc.cancer.gov/files/public/file/gdc-client_v1.6.1_Windows_x64.zip\u001b[39m\u001b[38;5;124m'\u001b[39m)\n",
      "Cell \u001b[0;32mIn[2], line 4\u001b[0m, in \u001b[0;36mdownload_tool\u001b[0;34m(url)\u001b[0m\n\u001b[1;32m      2\u001b[0m \u001b[38;5;250m\u001b[39m\u001b[38;5;124;03m\"\"\"Download tool using wget. Input is a URL.\"\"\"\u001b[39;00m\n\u001b[1;32m      3\u001b[0m filename \u001b[38;5;241m=\u001b[39m wget\u001b[38;5;241m.\u001b[39mdownload(url)\n\u001b[0;32m----> 4\u001b[0m \u001b[38;5;28;01mwith\u001b[39;00m \u001b[43mzipfile\u001b[49m\u001b[38;5;241;43m.\u001b[39;49m\u001b[43mZipFile\u001b[49m\u001b[43m(\u001b[49m\u001b[43mfilename\u001b[49m\u001b[43m,\u001b[49m\u001b[43m \u001b[49m\u001b[38;5;124;43m'\u001b[39;49m\u001b[38;5;124;43mr\u001b[39;49m\u001b[38;5;124;43m'\u001b[39;49m\u001b[43m)\u001b[49m \u001b[38;5;28;01mas\u001b[39;00m zip_ref:\n\u001b[1;32m      5\u001b[0m     zip_ref\u001b[38;5;241m.\u001b[39mextractall()\n\u001b[1;32m      6\u001b[0m \u001b[38;5;28;01mreturn\u001b[39;00m filename\n",
      "File \u001b[0;32m~/miniconda3/lib/python3.10/zipfile.py:1267\u001b[0m, in \u001b[0;36mZipFile.__init__\u001b[0;34m(self, file, mode, compression, allowZip64, compresslevel, strict_timestamps)\u001b[0m\n\u001b[1;32m   1265\u001b[0m \u001b[38;5;28;01mtry\u001b[39;00m:\n\u001b[1;32m   1266\u001b[0m     \u001b[38;5;28;01mif\u001b[39;00m mode \u001b[38;5;241m==\u001b[39m \u001b[38;5;124m'\u001b[39m\u001b[38;5;124mr\u001b[39m\u001b[38;5;124m'\u001b[39m:\n\u001b[0;32m-> 1267\u001b[0m         \u001b[38;5;28;43mself\u001b[39;49m\u001b[38;5;241;43m.\u001b[39;49m\u001b[43m_RealGetContents\u001b[49m\u001b[43m(\u001b[49m\u001b[43m)\u001b[49m\n\u001b[1;32m   1268\u001b[0m     \u001b[38;5;28;01melif\u001b[39;00m mode \u001b[38;5;129;01min\u001b[39;00m (\u001b[38;5;124m'\u001b[39m\u001b[38;5;124mw\u001b[39m\u001b[38;5;124m'\u001b[39m, \u001b[38;5;124m'\u001b[39m\u001b[38;5;124mx\u001b[39m\u001b[38;5;124m'\u001b[39m):\n\u001b[1;32m   1269\u001b[0m         \u001b[38;5;66;03m# set the modified flag so central directory gets written\u001b[39;00m\n\u001b[1;32m   1270\u001b[0m         \u001b[38;5;66;03m# even if no files are added to the archive\u001b[39;00m\n\u001b[1;32m   1271\u001b[0m         \u001b[38;5;28mself\u001b[39m\u001b[38;5;241m.\u001b[39m_didModify \u001b[38;5;241m=\u001b[39m \u001b[38;5;28;01mTrue\u001b[39;00m\n",
      "File \u001b[0;32m~/miniconda3/lib/python3.10/zipfile.py:1334\u001b[0m, in \u001b[0;36mZipFile._RealGetContents\u001b[0;34m(self)\u001b[0m\n\u001b[1;32m   1332\u001b[0m     \u001b[38;5;28;01mraise\u001b[39;00m BadZipFile(\u001b[38;5;124m\"\u001b[39m\u001b[38;5;124mFile is not a zip file\u001b[39m\u001b[38;5;124m\"\u001b[39m)\n\u001b[1;32m   1333\u001b[0m \u001b[38;5;28;01mif\u001b[39;00m \u001b[38;5;129;01mnot\u001b[39;00m endrec:\n\u001b[0;32m-> 1334\u001b[0m     \u001b[38;5;28;01mraise\u001b[39;00m BadZipFile(\u001b[38;5;124m\"\u001b[39m\u001b[38;5;124mFile is not a zip file\u001b[39m\u001b[38;5;124m\"\u001b[39m)\n\u001b[1;32m   1335\u001b[0m \u001b[38;5;28;01mif\u001b[39;00m \u001b[38;5;28mself\u001b[39m\u001b[38;5;241m.\u001b[39mdebug \u001b[38;5;241m>\u001b[39m \u001b[38;5;241m1\u001b[39m:\n\u001b[1;32m   1336\u001b[0m     \u001b[38;5;28mprint\u001b[39m(endrec)\n",
      "\u001b[0;31mBadZipFile\u001b[0m: File is not a zip file"
     ]
    }
   ],
   "source": [
    "op = platform.system()\n",
    "tool_name = \"gdc-client\"\n",
    "tool_avail = is_tool(tool_name)\n",
    "print(tool_avail)\n",
    "if tool_avail == False:\n",
    "    \"\"\"Check operating system and download appropriate gdc-client\"\"\"\n",
    "    if op == \"Darwin\":\n",
    "        download_tool('https://gdc.cancer.gov/files/public/file/gdc-client_v1.6.1_OSX_x64.zip')\n",
    "#         download_tool('https://gdc.cancer.gov/files/public/file/gdc_dtt-ui_v1.0.0_mac_x64.zip')\n",
    "    elif op == \"Windows\":\n",
    "        download_tool('https://gdc.cancer.gov/files/public/file/gdc-client_v1.6.1_Windows_x64.zip')\n",
    "#         download_tool('https://gdc.cancer.gov/files/public/file/gdc_dtt-ui_v1.0.0_win_x64.zip')\n",
    "    elif op == \"Linux\":\n",
    "        download_tool('https://gdc.cancer.gov/files/public/file/gdc-client_v1.6.1_Ubuntu_x64.zip')\n",
    "#         download_tool('https://gdc.cancer.gov/files/public/file/gdc_dtt-ui_v1.0.0_linux_x86_64.AppImage.zip')\n",
    "\n",
    "\n",
    "    \n"
   ]
  },
  {
   "cell_type": "code",
   "execution_count": null,
   "id": "cc027fa1",
   "metadata": {},
   "outputs": [],
   "source": [
    "os.getcwd()"
   ]
  },
  {
   "cell_type": "code",
   "execution_count": null,
   "id": "c6b360e1-da2b-49aa-adae-17b116cb2e65",
   "metadata": {},
   "outputs": [],
   "source": [
    "# use the gdc client tool to download the files in your manifest\n",
    "def use_gdc_tool(manifest_data):\n",
    "    # create a new folder in the directory to store the files\n",
    "    manifest_loc = \"manifest_files\"\n",
    "    \n",
    "    if os.path.isdir(manifest_loc):\n",
    "        shutil.rmtree(manifest_loc)\n",
    "    os.makedirs(manifest_loc)\n",
    "    \n",
    "\n",
    "    # changing directory path so files are downloaded into proper folder\n",
    "    # need to change this path so it automatically changes paths to the folder (manifest_files)\n",
    "    os.chdir(manifest_loc)\n",
    "\n",
    "    # using the gdc tool to download files\n",
    "    p1 = subprocess.run(['../gdc-client', 'download', '-m', manifest_data])\n",
    "    return p1.stdout\n",
    "\n",
    "#use_gdc_tool()"
   ]
  },
  {
   "cell_type": "code",
   "execution_count": null,
   "id": "0e5f7b55-fa25-43f6-969d-31315e3f4fab",
   "metadata": {},
   "outputs": [],
   "source": [
    "use_gdc_tool('gdc_manifest.2023-05-18.txt')"
   ]
  },
  {
   "cell_type": "markdown",
   "id": "85a4ac24-6bb2-406b-a804-3e15f2e7ad21",
   "metadata": {},
   "source": [
    "###  need to access each sample file in each sample folder in manifest files and clean"
   ]
  },
  {
   "cell_type": "code",
   "execution_count": null,
   "id": "9124aac0-15b8-467c-b20f-4c1b4bf94deb",
   "metadata": {},
   "outputs": [],
   "source": [
    "def get_clean_files():\n",
    "    manifest_folders = []\n",
    "    sample_filenames = []\n",
    "    file_paths = []\n",
    "    #access the folder with all of the downloaded file folders\n",
    "    for folder in os.listdir('/Users/schw939/candle_stuff/GDC/manifest_files'):\n",
    "        manifest_folders.append(folder)\n",
    "    #if this exists in the list you created, get it out\n",
    "    if '.DS_Store' in manifest_folders:\n",
    "        manifest_folders.remove('.DS_Store')\n",
    "    #get the names of each of the files that were downloaded    \n",
    "    for folder_name in manifest_folders:\n",
    "        for x in os.listdir('/Users/schw939/candle_stuff/GDC/manifest_files/' + folder_name):\n",
    "            #get rid of the 'logs' folders that are contained in each folder\n",
    "            if len(x) >4:\n",
    "                sample_filenames.append(x)\n",
    "    #remove checkpoint string if it exists\n",
    "    for each_sample in sample_filenames:\n",
    "        if '.ipynb_checkpoints' in each_sample:\n",
    "            sample_filenames.remove('.ipynb_checkpoints')\n",
    "\n",
    "    #set a list that will hold all of the cleaned up dataframes\n",
    "    all_dataframes = []\n",
    "    #get the final file path for each file by looping through each of the lists\n",
    "    for folder_n, sample in zip(manifest_folders, sample_filenames):\n",
    "        #read in all of the dataframes and add them to the df list\n",
    "        dataframe = pd.read_csv((os.path.join('/Users/schw939/candle_stuff/GDC/manifest_files/' + folder_n + '/' + sample)), delimiter = '\\t')  \n",
    "        #clean up files so they read better\n",
    "        dataframe = dataframe.reset_index()\n",
    "        dataframe.columns = dataframe.iloc[0]\n",
    "        #first rows of files don't look like they matter (tpm data is NAN)\n",
    "        dataframe = dataframe[5:]\n",
    "        #Grabbing the columns that we want\n",
    "        if 'tpm_unstranded' in dataframe.columns:\n",
    "            dataframe = dataframe[['gene_id', 'gene_name','gene_type', 'tpm_unstranded']]\n",
    "            all_dataframes.append(dataframe)\n",
    "\n",
    "        \n",
    "\n",
    "    \n",
    "    \n",
    "    \n",
    "    return all_dataframes"
   ]
  },
  {
   "cell_type": "code",
   "execution_count": null,
   "id": "27e50283-cb40-40d6-8135-70399d457863",
   "metadata": {},
   "outputs": [],
   "source": [
    "get_clean_files()"
   ]
  },
  {
   "cell_type": "markdown",
   "id": "fc904ad4-cfd4-40ab-8165-2943b5fdd430",
   "metadata": {},
   "source": [
    "# Mapping"
   ]
  },
  {
   "cell_type": "code",
   "execution_count": null,
   "id": "27dd21bd-e143-44b2-87c4-f7366f3d4aa6",
   "metadata": {},
   "outputs": [],
   "source": [
    "def map_and_combine(dataframe_list):\n",
    "    df_list = []\n",
    "    #read in genes.csv from cell_line data to map gene_name to entrez_id's\n",
    "    genes = pd.read_csv('/Users/schw939/candle_stuff/data/genes.csv', delimiter = ',')\n",
    "    #read in mutations.csv from cell_line data to map improve_id to entrez_id's\n",
    "    mut = pd.read_csv('/Users/schw939/candle_stuff/data/mutations.csv', delimiter = ',')\n",
    "   \n",
    "    #for each dataframe map the entrez id using the gene_name column\n",
    "    for df in dataframe_list:\n",
    "        mapped_entrez = (df.merge(genes, left_on = 'gene_name', right_on = 'gene_symbol', how = 'left').reindex(columns = ['gene_id', 'gene_name', 'gene_type',\n",
    "       'tpm_unstranded', 'entrez_id']))\n",
    "    #for each dataframe map the improve_sample_id using the entrez_id column\n",
    "        mapped_improve = (mapped_entrez.merge(mut, left_on = 'entrez_id', right_on = 'entrez_id', how = 'left').reindex(columns = ['gene_id', 'gene_name', 'gene_type', \n",
    "       'tpm_unstranded','entrez_id', 'improve_sample_id']))\n",
    "    #merge all dataframes into one \n",
    "        df_list.append(mapped_improve)\n",
    "    \n",
    "    final_dataframe = pd. concat(df_list)\n",
    "\n",
    "    return final_dataframe"
   ]
  },
  {
   "cell_type": "code",
   "execution_count": null,
   "id": "22ad9a34-0e59-4603-80a4-33a0aba9ee14",
   "metadata": {},
   "outputs": [],
   "source": [
    "data = map_and_combine(get_clean_files())\n",
    "# print(('there are {} missing values for entrez_id').format(data.entrez_id.isna().sum()))\n",
    "# print(('there are {} missing values for improve_sample_id').format(data.improve_sample_id.isna().sum()))\n",
    "# print(('there are {} missing values for tpm_unstranded').format(data.tpm_unstranded.isna().sum()))\n",
    "data"
   ]
  },
  {
   "cell_type": "code",
   "execution_count": null,
   "id": "a46c0b35-0ff0-4331-a445-be0d48e658e1",
   "metadata": {},
   "outputs": [],
   "source": [
    "def clean_gene_id(final_dataframe):\n",
    "    #getting rid of decimal places so this column can map to other id columns in datasets if needed\n",
    "    other_id = []\n",
    "    for id_name in final_dataframe.gene_id:\n",
    "        if '.' not in id_name:\n",
    "            other_id.append(id_name)\n",
    "        else:\n",
    "            head, sep, tail = id_name.partition('.')\n",
    "            other_id.append(head)\n",
    "            \n",
    "    final_dataframe.gene_id = other_id\n",
    "    return final_dataframe"
   ]
  },
  {
   "cell_type": "code",
   "execution_count": null,
   "id": "05ce5bf6-ac66-4908-a428-33bec3d8b240",
   "metadata": {},
   "outputs": [],
   "source": [
    "clean_gene_id(map_and_combine(get_clean_files()))"
   ]
  }
 ],
 "metadata": {
  "kernelspec": {
   "display_name": "Python 3 (ipykernel)",
   "language": "python",
   "name": "python3"
  },
  "language_info": {
   "codemirror_mode": {
    "name": "ipython",
    "version": 3
   },
   "file_extension": ".py",
   "mimetype": "text/x-python",
   "name": "python",
   "nbconvert_exporter": "python",
   "pygments_lexer": "ipython3",
   "version": "3.10.9"
  }
 },
 "nbformat": 4,
 "nbformat_minor": 5
}

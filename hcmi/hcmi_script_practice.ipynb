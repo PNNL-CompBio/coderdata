{
 "cells": [
  {
   "cell_type": "code",
   "execution_count": 40,
   "id": "69bbae7d-69ba-44a7-96e4-1473af90cb8f",
   "metadata": {},
   "outputs": [],
   "source": [
    "import wget\n",
    "import os\n",
    "import subprocess\n",
    "import sys\n",
    "from subprocess import Popen\n",
    "import pandas as pd\n",
    "from shutil import which\n",
    "import platform\n",
    "import zipfile\n",
    "import shutil\n",
    "import stat"
   ]
  },
  {
   "cell_type": "markdown",
   "id": "7dd2f1ca-3687-4c3d-a20e-8227bb058618",
   "metadata": {},
   "source": [
    "### making gdc tool function"
   ]
  },
  {
   "cell_type": "code",
   "execution_count": 52,
   "id": "1c53d6a0-aeb2-4a7f-bbac-823184b7455c",
   "metadata": {},
   "outputs": [],
   "source": [
    "def download_tool(url):\n",
    "    \"\"\"Download tool using wget. Input is a URL.\"\"\"\n",
    "    filename = wget.download(url)\n",
    "    # with zipfile.ZipFile(filename, 'r') as zip_ref:\n",
    "    #     zip_ref.extractall()\n",
    "    files_before = os.listdir()\n",
    "    shutil.unpack_archive(filename)\n",
    "    files_after = os.listdir()\n",
    "    new_file = str(next(iter((set(files_after) - set(files_before)))))\n",
    "    print(filename)\n",
    "    print(new_file)\n",
    "    # subprocess.call(['chmod', '+x', filename])\n",
    "    st = os.stat(new_file)\n",
    "    os.chmod(new_file, st.st_mode | stat.S_IEXEC)\n",
    "    return filename"
   ]
  },
  {
   "cell_type": "code",
   "execution_count": 41,
   "id": "e7b5fd8e",
   "metadata": {},
   "outputs": [],
   "source": [
    "def is_tool(name):\n",
    "    \"\"\"Check whether `name` is on PATH and marked as executable. Or if the exe file is in the directory.\"\"\"\n",
    "    check_1 = which(name) is not None\n",
    "    files = os.listdir()\n",
    "    filename = False\n",
    "    for file in files:\n",
    "        if \"gdc-client\" == file:\n",
    "            filename = True\n",
    "    return filename"
   ]
  },
  {
   "cell_type": "code",
   "execution_count": 53,
   "id": "9fe057f3",
   "metadata": {},
   "outputs": [
    {
     "name": "stdout",
     "output_type": "stream",
     "text": [
      "Downloading gdc-client\n",
      "100% [........................................................................] 15650334 / 15650334gdc-client_v1.6.1_OSX_x64.zip\n",
      "gdc-client\n"
     ]
    }
   ],
   "source": [
    "op = platform.system()\n",
    "tool_name = \"gdc-client\"\n",
    "tool_avail = is_tool(tool_name)\n",
    "if tool_avail == False:\n",
    "    \"\"\"Check operating system and download appropriate gdc-client\"\"\"\n",
    "    print(\"Downloading gdc-client\")\n",
    "    if op == \"Darwin\":\n",
    "        download_tool('https://gdc.cancer.gov/files/public/file/gdc-client_v1.6.1_OSX_x64.zip')\n",
    "#         download_tool('https://gdc.cancer.gov/files/public/file/gdc_dtt-ui_v1.0.0_mac_x64.zip')\n",
    "    elif op == \"Windows\":\n",
    "        download_tool('https://gdc.cancer.gov/files/public/file/gdc-client_v1.6.1_Windows_x64.zip')\n",
    "#         download_tool('https://gdc.cancer.gov/files/public/file/gdc_dtt-ui_v1.0.0_win_x64.zip')\n",
    "    elif op == \"Linux\":\n",
    "        download_tool('https://gdc.cancer.gov/files/public/file/gdc-client_v1.6.1_Ubuntu_x64.zip')\n",
    "#         download_tool('https://gdc.cancer.gov/files/public/file/gdc_dtt-ui_v1.0.0_linux_x86_64.AppImage.zip')\n",
    "else:\n",
    "    print(\"gdc-client already installed\")\n",
    "\n",
    "    \n"
   ]
  },
  {
   "cell_type": "code",
   "execution_count": 87,
   "id": "cc027fa1",
   "metadata": {},
   "outputs": [
    {
     "data": {
      "text/plain": [
       "'/Users/jaco059/Desktop/CANDLE_IMPROVE/candleDataProcessing/hcmi'"
      ]
     },
     "execution_count": 87,
     "metadata": {},
     "output_type": "execute_result"
    }
   ],
   "source": [
    "\n",
    "# os.chdir(\")\n",
    "\n",
    "os.getcwd()\n",
    "\n"
   ]
  },
  {
   "cell_type": "code",
   "execution_count": 98,
   "id": "c6b360e1-da2b-49aa-adae-17b116cb2e65",
   "metadata": {},
   "outputs": [],
   "source": [
    "# use the gdc client tool to download the files in your manifest\n",
    "def use_gdc_tool(manifest_data):\n",
    "    # create a new folder in the directory to store the files\n",
    "    manifest_loc = \"manifest_files\"\n",
    "    \n",
    "    if os.path.isdir(manifest_loc):\n",
    "        shutil.rmtree(manifest_loc)\n",
    "    os.makedirs(manifest_loc)\n",
    "    \n",
    "    # changing directory path so files are downloaded into proper folder\n",
    "    # need to change this path so it automatically changes paths to the folder (manifest_files)\n",
    "    # os.chdir(manifest_loc)\n",
    "\n",
    "    # using the gdc tool to download files\n",
    "    p1 = subprocess.run(['./gdc-client', 'download', '-d', manifest_loc, '-m', manifest_data])\n",
    "    return p1.stdout\n",
    "\n",
    "#use_gdc_tool()"
   ]
  },
  {
   "cell_type": "code",
   "execution_count": null,
   "id": "0e5f7b55-fa25-43f6-969d-31315e3f4fab",
   "metadata": {},
   "outputs": [
    {
     "name": "stderr",
     "output_type": "stream",
     "text": [
      "N/A% [                                                                       ] "
     ]
    },
    {
     "name": "stdout",
     "output_type": "stream",
     "text": [
      "\u001b[33mWARNING: \u001b[0mSome of the files have been superseded. See superseded_files_20230803_191142.178392.txt for reference.\n"
     ]
    },
    {
     "name": "stderr",
     "output_type": "stream",
     "text": [
      "100% [#######################################################################] \n",
      "N/A% [                                                                       ] "
     ]
    },
    {
     "name": "stdout",
     "output_type": "stream",
     "text": [
      "\u001b[33mWARNING: \u001b[0mSome of the files have been superseded. See superseded_files_20230803_191148.354992.txt for reference.\n"
     ]
    },
    {
     "name": "stderr",
     "output_type": "stream",
     "text": [
      "100% [#######################################################################] \n",
      "N/A% [                                                                       ] "
     ]
    },
    {
     "name": "stdout",
     "output_type": "stream",
     "text": [
      "\u001b[33mWARNING: \u001b[0mSome of the files have been superseded. See superseded_files_20230803_191149.676325.txt for reference.\n"
     ]
    },
    {
     "name": "stderr",
     "output_type": "stream",
     "text": [
      "100% [#######################################################################] \n",
      "N/A% [                                                                       ] "
     ]
    },
    {
     "name": "stdout",
     "output_type": "stream",
     "text": [
      "\u001b[33mWARNING: \u001b[0mSome of the files have been superseded. See superseded_files_20230803_191154.918042.txt for reference.\n"
     ]
    },
    {
     "name": "stderr",
     "output_type": "stream",
     "text": [
      "100% [#######################################################################] \n",
      "100% [#######################################################################] \n",
      "N/A% [                                                                       ] "
     ]
    },
    {
     "name": "stdout",
     "output_type": "stream",
     "text": [
      "\u001b[33mWARNING: \u001b[0mSome of the files have been superseded. See superseded_files_20230803_191200.172078.txt for reference.\n"
     ]
    },
    {
     "name": "stderr",
     "output_type": "stream",
     "text": [
      "100% [#######################################################################] \n",
      "N/A% [                                                                       ] "
     ]
    },
    {
     "name": "stdout",
     "output_type": "stream",
     "text": [
      "\u001b[33mWARNING: \u001b[0mSome of the files have been superseded. See superseded_files_20230803_191202.122649.txt for reference.\n"
     ]
    },
    {
     "name": "stderr",
     "output_type": "stream",
     "text": [
      "100% [#######################################################################] \n",
      "N/A% [                                                                       ] "
     ]
    },
    {
     "name": "stdout",
     "output_type": "stream",
     "text": [
      "\u001b[33mWARNING: \u001b[0mSome of the files have been superseded. See superseded_files_20230803_191207.408886.txt for reference.\n"
     ]
    },
    {
     "name": "stderr",
     "output_type": "stream",
     "text": [
      "100% [#######################################################################] \n",
      "N/A% [                                                                       ] "
     ]
    },
    {
     "name": "stdout",
     "output_type": "stream",
     "text": [
      "\u001b[33mWARNING: \u001b[0mSome of the files have been superseded. See superseded_files_20230803_191209.231345.txt for reference.\n"
     ]
    },
    {
     "name": "stderr",
     "output_type": "stream",
     "text": [
      "100% [#######################################################################] \n",
      "N/A% [                                                                       ] "
     ]
    },
    {
     "name": "stdout",
     "output_type": "stream",
     "text": [
      "\u001b[33mWARNING: \u001b[0mSome of the files have been superseded. See superseded_files_20230803_191214.346142.txt for reference.\n"
     ]
    },
    {
     "name": "stderr",
     "output_type": "stream",
     "text": [
      "100% [#######################################################################] \n",
      "N/A% [                                                                       ] "
     ]
    },
    {
     "name": "stdout",
     "output_type": "stream",
     "text": [
      "\u001b[33mWARNING: \u001b[0mSome of the files have been superseded. See superseded_files_20230803_191216.684246.txt for reference.\n"
     ]
    },
    {
     "name": "stderr",
     "output_type": "stream",
     "text": [
      "100% [#######################################################################] \n",
      "N/A% [                                                                       ] "
     ]
    },
    {
     "name": "stdout",
     "output_type": "stream",
     "text": [
      "\u001b[33mWARNING: \u001b[0mSome of the files have been superseded. See superseded_files_20230803_191220.100309.txt for reference.\n"
     ]
    },
    {
     "name": "stderr",
     "output_type": "stream",
     "text": [
      "100% [#######################################################################] \n",
      "N/A% [                                                                       ] "
     ]
    },
    {
     "name": "stdout",
     "output_type": "stream",
     "text": [
      "\u001b[33mWARNING: \u001b[0mSome of the files have been superseded. See superseded_files_20230803_191225.871190.txt for reference.\n"
     ]
    },
    {
     "name": "stderr",
     "output_type": "stream",
     "text": [
      "100% [#######################################################################] \n",
      "N/A% [                                                                       ] "
     ]
    },
    {
     "name": "stdout",
     "output_type": "stream",
     "text": [
      "\u001b[33mWARNING: \u001b[0mSome of the files have been superseded. See superseded_files_20230803_191229.254708.txt for reference.\n"
     ]
    },
    {
     "name": "stderr",
     "output_type": "stream",
     "text": [
      "100% [#######################################################################] \n",
      "N/A% [                                                                       ] "
     ]
    },
    {
     "name": "stdout",
     "output_type": "stream",
     "text": [
      "\u001b[33mWARNING: \u001b[0mSome of the files have been superseded. See superseded_files_20230803_191232.736504.txt for reference.\n"
     ]
    },
    {
     "name": "stderr",
     "output_type": "stream",
     "text": [
      "100% [#######################################################################] \n",
      "N/A% [                                                                       ] "
     ]
    },
    {
     "name": "stdout",
     "output_type": "stream",
     "text": [
      "\u001b[33mWARNING: \u001b[0mSome of the files have been superseded. See superseded_files_20230803_191235.528832.txt for reference.\n"
     ]
    },
    {
     "name": "stderr",
     "output_type": "stream",
     "text": [
      "100% [#######################################################################] \n",
      "N/A% [                                                                       ] "
     ]
    },
    {
     "name": "stdout",
     "output_type": "stream",
     "text": [
      "\u001b[33mWARNING: \u001b[0mSome of the files have been superseded. See superseded_files_20230803_191237.497007.txt for reference.\n"
     ]
    },
    {
     "name": "stderr",
     "output_type": "stream",
     "text": [
      "100% [#######################################################################] \n",
      "N/A% [                                                                       ] "
     ]
    },
    {
     "name": "stdout",
     "output_type": "stream",
     "text": [
      "\u001b[33mWARNING: \u001b[0mSome of the files have been superseded. See superseded_files_20230803_191240.679014.txt for reference.\n"
     ]
    },
    {
     "name": "stderr",
     "output_type": "stream",
     "text": [
      "100% [#######################################################################] \n",
      "N/A% [                                                                       ] "
     ]
    },
    {
     "name": "stdout",
     "output_type": "stream",
     "text": [
      "\u001b[33mWARNING: \u001b[0mSome of the files have been superseded. See superseded_files_20230803_191245.414306.txt for reference.\n"
     ]
    },
    {
     "name": "stderr",
     "output_type": "stream",
     "text": [
      "100% [#######################################################################] \n",
      "N/A% [                                                                       ] "
     ]
    },
    {
     "name": "stdout",
     "output_type": "stream",
     "text": [
      "\u001b[33mWARNING: \u001b[0mSome of the files have been superseded. See superseded_files_20230803_191247.147878.txt for reference.\n"
     ]
    },
    {
     "name": "stderr",
     "output_type": "stream",
     "text": [
      "100% [#######################################################################] \n",
      "N/A% [                                                                       ] "
     ]
    },
    {
     "name": "stdout",
     "output_type": "stream",
     "text": [
      "\u001b[33mWARNING: \u001b[0mSome of the files have been superseded. See superseded_files_20230803_191247.962555.txt for reference.\n"
     ]
    },
    {
     "name": "stderr",
     "output_type": "stream",
     "text": [
      "100% [#######################################################################] \n",
      "N/A% [                                                                       ] "
     ]
    },
    {
     "name": "stdout",
     "output_type": "stream",
     "text": [
      "\u001b[33mWARNING: \u001b[0mSome of the files have been superseded. See superseded_files_20230803_191252.865085.txt for reference.\n"
     ]
    },
    {
     "name": "stderr",
     "output_type": "stream",
     "text": [
      "100% [#######################################################################] \n",
      "N/A% [                                                                       ] "
     ]
    },
    {
     "name": "stdout",
     "output_type": "stream",
     "text": [
      "\u001b[33mWARNING: \u001b[0mSome of the files have been superseded. See superseded_files_20230803_191256.305280.txt for reference.\n"
     ]
    },
    {
     "name": "stderr",
     "output_type": "stream",
     "text": [
      "100% [#######################################################################] \n",
      "N/A% [                                                                       ] "
     ]
    },
    {
     "name": "stdout",
     "output_type": "stream",
     "text": [
      "\u001b[33mWARNING: \u001b[0mSome of the files have been superseded. See superseded_files_20230803_191259.093304.txt for reference.\n"
     ]
    },
    {
     "name": "stderr",
     "output_type": "stream",
     "text": [
      "100% [#######################################################################] \n",
      "N/A% [                                                                       ] "
     ]
    },
    {
     "name": "stdout",
     "output_type": "stream",
     "text": [
      "\u001b[33mWARNING: \u001b[0mSome of the files have been superseded. See superseded_files_20230803_191302.769280.txt for reference.\n"
     ]
    },
    {
     "name": "stderr",
     "output_type": "stream",
     "text": [
      "100% [#######################################################################] \n",
      "N/A% [                                                                       ] "
     ]
    },
    {
     "name": "stdout",
     "output_type": "stream",
     "text": [
      "\u001b[33mWARNING: \u001b[0mSome of the files have been superseded. See superseded_files_20230803_191310.298833.txt for reference.\n"
     ]
    },
    {
     "name": "stderr",
     "output_type": "stream",
     "text": [
      "100% [#######################################################################] \n",
      "N/A% [                                                                       ] "
     ]
    },
    {
     "name": "stdout",
     "output_type": "stream",
     "text": [
      "\u001b[33mWARNING: \u001b[0mSome of the files have been superseded. See superseded_files_20230803_191314.012516.txt for reference.\n"
     ]
    },
    {
     "name": "stderr",
     "output_type": "stream",
     "text": [
      "100% [#######################################################################] \n",
      "N/A% [                                                                       ] "
     ]
    },
    {
     "name": "stdout",
     "output_type": "stream",
     "text": [
      "\u001b[33mWARNING: \u001b[0mSome of the files have been superseded. See superseded_files_20230803_191317.506197.txt for reference.\n"
     ]
    },
    {
     "name": "stderr",
     "output_type": "stream",
     "text": [
      "100% [#######################################################################] \n",
      "100% [#######################################################################] \n",
      "N/A% [                                                                       ] "
     ]
    },
    {
     "name": "stdout",
     "output_type": "stream",
     "text": [
      "\u001b[33mWARNING: \u001b[0mSome of the files have been superseded. See superseded_files_20230803_191323.694225.txt for reference.\n"
     ]
    },
    {
     "name": "stderr",
     "output_type": "stream",
     "text": [
      "100% [#######################################################################] \n",
      "N/A% [                                                                       ] "
     ]
    },
    {
     "name": "stdout",
     "output_type": "stream",
     "text": [
      "\u001b[33mWARNING: \u001b[0mSome of the files have been superseded. See superseded_files_20230803_191327.556164.txt for reference.\n"
     ]
    },
    {
     "name": "stderr",
     "output_type": "stream",
     "text": [
      "100% [#######################################################################] \n",
      "N/A% [                                                                       ] "
     ]
    },
    {
     "name": "stdout",
     "output_type": "stream",
     "text": [
      "\u001b[33mWARNING: \u001b[0mSome of the files have been superseded. See superseded_files_20230803_191332.777267.txt for reference.\n"
     ]
    },
    {
     "name": "stderr",
     "output_type": "stream",
     "text": [
      "100% [#######################################################################] \n",
      "100% [#######################################################################] \n",
      "N/A% [                                                                       ] "
     ]
    },
    {
     "name": "stdout",
     "output_type": "stream",
     "text": [
      "\u001b[33mWARNING: \u001b[0mSome of the files have been superseded. See superseded_files_20230803_191338.192037.txt for reference.\n"
     ]
    },
    {
     "name": "stderr",
     "output_type": "stream",
     "text": [
      "100% [#######################################################################] \n",
      "N/A% [                                                                       ] "
     ]
    },
    {
     "name": "stdout",
     "output_type": "stream",
     "text": [
      "\u001b[33mWARNING: \u001b[0mSome of the files have been superseded. See superseded_files_20230803_191340.260029.txt for reference.\n"
     ]
    },
    {
     "name": "stderr",
     "output_type": "stream",
     "text": [
      "100% [#######################################################################] \n",
      "N/A% [                                                                       ] "
     ]
    },
    {
     "name": "stdout",
     "output_type": "stream",
     "text": [
      "\u001b[33mWARNING: \u001b[0mSome of the files have been superseded. See superseded_files_20230803_191343.418424.txt for reference.\n"
     ]
    },
    {
     "name": "stderr",
     "output_type": "stream",
     "text": [
      "100% [#######################################################################] \n",
      "N/A% [                                                                       ] "
     ]
    },
    {
     "name": "stdout",
     "output_type": "stream",
     "text": [
      "\u001b[33mWARNING: \u001b[0mSome of the files have been superseded. See superseded_files_20230803_191344.764044.txt for reference.\n"
     ]
    },
    {
     "name": "stderr",
     "output_type": "stream",
     "text": [
      "100% [#######################################################################] \n",
      "N/A% [                                                                       ] "
     ]
    },
    {
     "name": "stdout",
     "output_type": "stream",
     "text": [
      "\u001b[33mWARNING: \u001b[0mSome of the files have been superseded. See superseded_files_20230803_191350.367692.txt for reference.\n"
     ]
    },
    {
     "name": "stderr",
     "output_type": "stream",
     "text": [
      "100% [#######################################################################] \n",
      "N/A% [                                                                       ] "
     ]
    },
    {
     "name": "stdout",
     "output_type": "stream",
     "text": [
      "\u001b[33mWARNING: \u001b[0mSome of the files have been superseded. See superseded_files_20230803_191354.733673.txt for reference.\n"
     ]
    },
    {
     "name": "stderr",
     "output_type": "stream",
     "text": [
      "100% [#######################################################################] \n",
      "N/A% [                                                                       ] "
     ]
    },
    {
     "name": "stdout",
     "output_type": "stream",
     "text": [
      "\u001b[33mWARNING: \u001b[0mSome of the files have been superseded. See superseded_files_20230803_191358.791744.txt for reference.\n"
     ]
    },
    {
     "name": "stderr",
     "output_type": "stream",
     "text": [
      "100% [#######################################################################] \n",
      "N/A% [                                                                       ] "
     ]
    },
    {
     "name": "stdout",
     "output_type": "stream",
     "text": [
      "\u001b[33mWARNING: \u001b[0mSome of the files have been superseded. See superseded_files_20230803_191401.293047.txt for reference.\n"
     ]
    },
    {
     "name": "stderr",
     "output_type": "stream",
     "text": [
      "100% [#######################################################################] \n",
      "N/A% [                                                                       ] "
     ]
    },
    {
     "name": "stdout",
     "output_type": "stream",
     "text": [
      "\u001b[33mWARNING: \u001b[0mSome of the files have been superseded. See superseded_files_20230803_191405.365023.txt for reference.\n"
     ]
    },
    {
     "name": "stderr",
     "output_type": "stream",
     "text": [
      "100% [#######################################################################] \n",
      "N/A% [                                                                       ] "
     ]
    },
    {
     "name": "stdout",
     "output_type": "stream",
     "text": [
      "\u001b[33mWARNING: \u001b[0mSome of the files have been superseded. See superseded_files_20230803_191408.867266.txt for reference.\n"
     ]
    },
    {
     "name": "stderr",
     "output_type": "stream",
     "text": [
      "100% [#######################################################################] \n",
      "N/A% [                                                                       ] "
     ]
    },
    {
     "name": "stdout",
     "output_type": "stream",
     "text": [
      "\u001b[33mWARNING: \u001b[0mSome of the files have been superseded. See superseded_files_20230803_191410.758147.txt for reference.\n"
     ]
    },
    {
     "name": "stderr",
     "output_type": "stream",
     "text": [
      "100% [#######################################################################] \n",
      "N/A% [                                                                       ] "
     ]
    },
    {
     "name": "stdout",
     "output_type": "stream",
     "text": [
      "\u001b[33mWARNING: \u001b[0mSome of the files have been superseded. See superseded_files_20230803_191414.624964.txt for reference.\n"
     ]
    },
    {
     "name": "stderr",
     "output_type": "stream",
     "text": [
      "100% [#######################################################################] \n",
      "N/A% [                                                                       ] "
     ]
    },
    {
     "name": "stdout",
     "output_type": "stream",
     "text": [
      "\u001b[33mWARNING: \u001b[0mSome of the files have been superseded. See superseded_files_20230803_191420.185176.txt for reference.\n"
     ]
    },
    {
     "name": "stderr",
     "output_type": "stream",
     "text": [
      "100% [#######################################################################] \n",
      "N/A% [                                                                       ] "
     ]
    },
    {
     "name": "stdout",
     "output_type": "stream",
     "text": [
      "\u001b[33mWARNING: \u001b[0mSome of the files have been superseded. See superseded_files_20230803_191421.833517.txt for reference.\n"
     ]
    },
    {
     "name": "stderr",
     "output_type": "stream",
     "text": [
      "100% [#######################################################################] \n",
      "N/A% [                                                                       ] "
     ]
    },
    {
     "name": "stdout",
     "output_type": "stream",
     "text": [
      "\u001b[33mWARNING: \u001b[0mSome of the files have been superseded. See superseded_files_20230803_191425.414344.txt for reference.\n"
     ]
    },
    {
     "name": "stderr",
     "output_type": "stream",
     "text": [
      "100% [#######################################################################] \n",
      "N/A% [                                                                       ] "
     ]
    },
    {
     "name": "stdout",
     "output_type": "stream",
     "text": [
      "\u001b[33mWARNING: \u001b[0mSome of the files have been superseded. See superseded_files_20230803_191428.807708.txt for reference.\n"
     ]
    },
    {
     "name": "stderr",
     "output_type": "stream",
     "text": [
      "100% [#######################################################################] \n",
      "N/A% [                                                                       ] "
     ]
    },
    {
     "name": "stdout",
     "output_type": "stream",
     "text": [
      "\u001b[33mWARNING: \u001b[0m[410] Unable to download group\n"
     ]
    },
    {
     "name": "stderr",
     "output_type": "stream",
     "text": [
      "N/A% [                                                                       ] "
     ]
    },
    {
     "name": "stdout",
     "output_type": "stream",
     "text": [
      "\u001b[33mWARNING: \u001b[0m[410] Unable to download group\n"
     ]
    },
    {
     "name": "stderr",
     "output_type": "stream",
     "text": [
      "N/A% [                                                                       ] "
     ]
    },
    {
     "name": "stdout",
     "output_type": "stream",
     "text": [
      "\u001b[33mWARNING: \u001b[0m[410] Unable to download group\n"
     ]
    },
    {
     "name": "stderr",
     "output_type": "stream",
     "text": [
      "N/A% [                                                                       ] "
     ]
    },
    {
     "name": "stdout",
     "output_type": "stream",
     "text": [
      "\u001b[33mWARNING: \u001b[0m[410] Unable to download group\n"
     ]
    },
    {
     "name": "stderr",
     "output_type": "stream",
     "text": [
      "N/A% [                                                                       ] "
     ]
    },
    {
     "name": "stdout",
     "output_type": "stream",
     "text": [
      "\u001b[33mWARNING: \u001b[0m[410] Unable to download group\n"
     ]
    },
    {
     "name": "stderr",
     "output_type": "stream",
     "text": [
      "N/A% [                                                                       ] "
     ]
    },
    {
     "name": "stdout",
     "output_type": "stream",
     "text": [
      "\u001b[33mWARNING: \u001b[0m[410] Unable to download group\n"
     ]
    },
    {
     "name": "stderr",
     "output_type": "stream",
     "text": [
      "N/A% [                                                                       ] "
     ]
    },
    {
     "name": "stdout",
     "output_type": "stream",
     "text": [
      "\u001b[33mWARNING: \u001b[0m[410] Unable to download group\n"
     ]
    },
    {
     "name": "stderr",
     "output_type": "stream",
     "text": [
      "N/A% [                                                                       ] "
     ]
    },
    {
     "name": "stdout",
     "output_type": "stream",
     "text": [
      "\u001b[33mWARNING: \u001b[0m[410] Unable to download group\n"
     ]
    },
    {
     "name": "stderr",
     "output_type": "stream",
     "text": [
      "N/A% [                                                                       ] "
     ]
    },
    {
     "name": "stdout",
     "output_type": "stream",
     "text": [
      "\u001b[33mWARNING: \u001b[0m[410] Unable to download group\n"
     ]
    },
    {
     "name": "stderr",
     "output_type": "stream",
     "text": [
      "N/A% [                                                                       ] "
     ]
    },
    {
     "name": "stdout",
     "output_type": "stream",
     "text": [
      "\u001b[33mWARNING: \u001b[0m[410] Unable to download group\n"
     ]
    },
    {
     "name": "stderr",
     "output_type": "stream",
     "text": [
      "N/A% [                                                                       ] "
     ]
    },
    {
     "name": "stdout",
     "output_type": "stream",
     "text": [
      "\u001b[33mWARNING: \u001b[0m[410] Unable to download group\n"
     ]
    },
    {
     "name": "stderr",
     "output_type": "stream",
     "text": [
      "N/A% [                                                                       ] "
     ]
    },
    {
     "name": "stdout",
     "output_type": "stream",
     "text": [
      "\u001b[33mWARNING: \u001b[0m[410] Unable to download group\n"
     ]
    },
    {
     "name": "stderr",
     "output_type": "stream",
     "text": [
      "N/A% [                                                                       ] "
     ]
    },
    {
     "name": "stdout",
     "output_type": "stream",
     "text": [
      "\u001b[33mWARNING: \u001b[0m[410] Unable to download group\n"
     ]
    },
    {
     "name": "stderr",
     "output_type": "stream",
     "text": [
      "N/A% [                                                                       ] "
     ]
    },
    {
     "name": "stdout",
     "output_type": "stream",
     "text": [
      "\u001b[33mWARNING: \u001b[0m[410] Unable to download group\n"
     ]
    },
    {
     "name": "stderr",
     "output_type": "stream",
     "text": [
      "N/A% [                                                                       ] "
     ]
    },
    {
     "name": "stdout",
     "output_type": "stream",
     "text": [
      "\u001b[33mWARNING: \u001b[0m[410] Unable to download group\n"
     ]
    },
    {
     "name": "stderr",
     "output_type": "stream",
     "text": [
      "N/A% [                                                                       ] "
     ]
    },
    {
     "name": "stdout",
     "output_type": "stream",
     "text": [
      "\u001b[33mWARNING: \u001b[0m[410] Unable to download group\n"
     ]
    },
    {
     "name": "stderr",
     "output_type": "stream",
     "text": [
      "N/A% [                                                                       ] "
     ]
    },
    {
     "name": "stdout",
     "output_type": "stream",
     "text": [
      "\u001b[33mWARNING: \u001b[0m[410] Unable to download group\n"
     ]
    },
    {
     "name": "stderr",
     "output_type": "stream",
     "text": [
      "N/A% [                                                                       ] "
     ]
    },
    {
     "name": "stdout",
     "output_type": "stream",
     "text": [
      "\u001b[33mWARNING: \u001b[0m[410] Unable to download group\n"
     ]
    },
    {
     "name": "stderr",
     "output_type": "stream",
     "text": [
      "N/A% [                                                                       ] "
     ]
    },
    {
     "name": "stdout",
     "output_type": "stream",
     "text": [
      "\u001b[33mWARNING: \u001b[0m[410] Unable to download group\n"
     ]
    },
    {
     "name": "stderr",
     "output_type": "stream",
     "text": [
      "N/A% [                                                                       ] "
     ]
    },
    {
     "name": "stdout",
     "output_type": "stream",
     "text": [
      "\u001b[33mWARNING: \u001b[0m[410] Unable to download group\n"
     ]
    },
    {
     "name": "stderr",
     "output_type": "stream",
     "text": [
      "N/A% [                                                                       ] "
     ]
    },
    {
     "name": "stdout",
     "output_type": "stream",
     "text": [
      "\u001b[33mWARNING: \u001b[0m[410] Unable to download group\n"
     ]
    },
    {
     "name": "stderr",
     "output_type": "stream",
     "text": [
      "N/A% [                                                                       ] "
     ]
    },
    {
     "name": "stdout",
     "output_type": "stream",
     "text": [
      "\u001b[33mWARNING: \u001b[0m[410] Unable to download group\n"
     ]
    },
    {
     "name": "stderr",
     "output_type": "stream",
     "text": [
      "N/A% [                                                                       ] "
     ]
    },
    {
     "name": "stdout",
     "output_type": "stream",
     "text": [
      "\u001b[33mWARNING: \u001b[0m[410] Unable to download group\n"
     ]
    },
    {
     "name": "stderr",
     "output_type": "stream",
     "text": [
      "N/A% [                                                                       ] "
     ]
    },
    {
     "name": "stdout",
     "output_type": "stream",
     "text": [
      "\u001b[33mWARNING: \u001b[0m[410] Unable to download group\n"
     ]
    },
    {
     "name": "stderr",
     "output_type": "stream",
     "text": [
      "N/A% [                                                                       ] "
     ]
    },
    {
     "name": "stdout",
     "output_type": "stream",
     "text": [
      "\u001b[33mWARNING: \u001b[0m[410] Unable to download group\n"
     ]
    },
    {
     "name": "stderr",
     "output_type": "stream",
     "text": [
      "N/A% [                                                                       ] "
     ]
    },
    {
     "name": "stdout",
     "output_type": "stream",
     "text": [
      "\u001b[33mWARNING: \u001b[0m[410] Unable to download group\n"
     ]
    },
    {
     "name": "stderr",
     "output_type": "stream",
     "text": [
      "N/A% [                                                                       ] "
     ]
    },
    {
     "name": "stdout",
     "output_type": "stream",
     "text": [
      "\u001b[33mWARNING: \u001b[0m[410] Unable to download group\n"
     ]
    },
    {
     "name": "stderr",
     "output_type": "stream",
     "text": [
      "N/A% [                                                                       ] "
     ]
    },
    {
     "name": "stdout",
     "output_type": "stream",
     "text": [
      "\u001b[33mWARNING: \u001b[0m[410] Unable to download group\n"
     ]
    },
    {
     "name": "stderr",
     "output_type": "stream",
     "text": [
      "N/A% [                                                                       ] "
     ]
    },
    {
     "name": "stdout",
     "output_type": "stream",
     "text": [
      "\u001b[33mWARNING: \u001b[0m[410] Unable to download group\n"
     ]
    },
    {
     "name": "stderr",
     "output_type": "stream",
     "text": [
      "N/A% [                                                                       ] "
     ]
    },
    {
     "name": "stdout",
     "output_type": "stream",
     "text": [
      "\u001b[33mWARNING: \u001b[0m[410] Unable to download group\n"
     ]
    },
    {
     "name": "stderr",
     "output_type": "stream",
     "text": [
      "N/A% [                                                                       ] "
     ]
    },
    {
     "name": "stdout",
     "output_type": "stream",
     "text": [
      "\u001b[33mWARNING: \u001b[0m[410] Unable to download group\n"
     ]
    },
    {
     "name": "stderr",
     "output_type": "stream",
     "text": [
      "N/A% [                                                                       ] "
     ]
    },
    {
     "name": "stdout",
     "output_type": "stream",
     "text": [
      "\u001b[33mWARNING: \u001b[0m[410] Unable to download group\n"
     ]
    },
    {
     "name": "stderr",
     "output_type": "stream",
     "text": [
      "N/A% [                                                                       ] "
     ]
    },
    {
     "name": "stdout",
     "output_type": "stream",
     "text": [
      "\u001b[33mWARNING: \u001b[0m[410] Unable to download group\n"
     ]
    },
    {
     "name": "stderr",
     "output_type": "stream",
     "text": [
      "N/A% [                                                                       ] "
     ]
    },
    {
     "name": "stdout",
     "output_type": "stream",
     "text": [
      "\u001b[33mWARNING: \u001b[0m[410] Unable to download group\n"
     ]
    },
    {
     "name": "stderr",
     "output_type": "stream",
     "text": [
      "N/A% [                                                                       ] "
     ]
    },
    {
     "name": "stdout",
     "output_type": "stream",
     "text": [
      "\u001b[33mWARNING: \u001b[0m[410] Unable to download group\n"
     ]
    },
    {
     "name": "stderr",
     "output_type": "stream",
     "text": [
      "N/A% [                                                                       ] "
     ]
    },
    {
     "name": "stdout",
     "output_type": "stream",
     "text": [
      "\u001b[33mWARNING: \u001b[0m[410] Unable to download group\n"
     ]
    },
    {
     "name": "stderr",
     "output_type": "stream",
     "text": [
      "N/A% [                                                                       ] "
     ]
    },
    {
     "name": "stdout",
     "output_type": "stream",
     "text": [
      "\u001b[33mWARNING: \u001b[0m[410] Unable to download group\n"
     ]
    },
    {
     "name": "stderr",
     "output_type": "stream",
     "text": [
      "N/A% [                                                                       ] "
     ]
    },
    {
     "name": "stdout",
     "output_type": "stream",
     "text": [
      "\u001b[33mWARNING: \u001b[0m[410] Unable to download group\n"
     ]
    },
    {
     "name": "stderr",
     "output_type": "stream",
     "text": [
      "N/A% [                                                                       ] "
     ]
    },
    {
     "name": "stdout",
     "output_type": "stream",
     "text": [
      "\u001b[33mWARNING: \u001b[0m[410] Unable to download group\n"
     ]
    },
    {
     "name": "stderr",
     "output_type": "stream",
     "text": [
      "N/A% [                                                                       ] "
     ]
    },
    {
     "name": "stdout",
     "output_type": "stream",
     "text": [
      "\u001b[33mWARNING: \u001b[0m[410] Unable to download group\n"
     ]
    },
    {
     "name": "stderr",
     "output_type": "stream",
     "text": [
      "N/A% [                                                                       ] "
     ]
    },
    {
     "name": "stdout",
     "output_type": "stream",
     "text": [
      "\u001b[33mWARNING: \u001b[0m[410] Unable to download group\n"
     ]
    },
    {
     "name": "stderr",
     "output_type": "stream",
     "text": [
      "N/A% [                                                                       ] "
     ]
    },
    {
     "name": "stdout",
     "output_type": "stream",
     "text": [
      "\u001b[33mWARNING: \u001b[0m[410] Unable to download group\n"
     ]
    },
    {
     "name": "stderr",
     "output_type": "stream",
     "text": [
      "N/A% [                                                                       ] "
     ]
    },
    {
     "name": "stdout",
     "output_type": "stream",
     "text": [
      "\u001b[33mWARNING: \u001b[0m[410] Unable to download group\n"
     ]
    },
    {
     "name": "stderr",
     "output_type": "stream",
     "text": [
      "N/A% [                                                                       ] "
     ]
    },
    {
     "name": "stdout",
     "output_type": "stream",
     "text": [
      "\u001b[33mWARNING: \u001b[0m[410] Unable to download group\n"
     ]
    },
    {
     "name": "stderr",
     "output_type": "stream",
     "text": [
      "N/A% [                                                                       ] "
     ]
    },
    {
     "name": "stdout",
     "output_type": "stream",
     "text": [
      "\u001b[33mWARNING: \u001b[0m[410] Unable to download group\n"
     ]
    },
    {
     "name": "stderr",
     "output_type": "stream",
     "text": [
      "N/A% [                                                                       ] "
     ]
    },
    {
     "name": "stdout",
     "output_type": "stream",
     "text": [
      "\u001b[33mWARNING: \u001b[0m[410] Unable to download group\n"
     ]
    },
    {
     "name": "stderr",
     "output_type": "stream",
     "text": [
      "N/A% [                                                                       ] "
     ]
    },
    {
     "name": "stdout",
     "output_type": "stream",
     "text": [
      "\u001b[33mWARNING: \u001b[0m[410] Unable to download group\n"
     ]
    },
    {
     "name": "stderr",
     "output_type": "stream",
     "text": [
      "N/A% [                                                                       ] "
     ]
    },
    {
     "name": "stdout",
     "output_type": "stream",
     "text": [
      "\u001b[33mWARNING: \u001b[0m[410] Unable to download group\n"
     ]
    },
    {
     "name": "stderr",
     "output_type": "stream",
     "text": [
      "N/A% [                                                                       ] "
     ]
    },
    {
     "name": "stdout",
     "output_type": "stream",
     "text": [
      "\u001b[33mWARNING: \u001b[0m[410] Unable to download group\n"
     ]
    },
    {
     "name": "stderr",
     "output_type": "stream",
     "text": [
      "N/A% [                                                                       ] "
     ]
    },
    {
     "name": "stdout",
     "output_type": "stream",
     "text": [
      "\u001b[33mWARNING: \u001b[0m[410] Unable to download group\n"
     ]
    },
    {
     "name": "stderr",
     "output_type": "stream",
     "text": [
      "N/A% [                                                                       ] "
     ]
    },
    {
     "name": "stdout",
     "output_type": "stream",
     "text": [
      "\u001b[33mWARNING: \u001b[0m[410] Unable to download group\n"
     ]
    },
    {
     "name": "stderr",
     "output_type": "stream",
     "text": [
      "N/A% [                                                                       ] "
     ]
    },
    {
     "name": "stdout",
     "output_type": "stream",
     "text": [
      "\u001b[33mWARNING: \u001b[0m[410] Unable to download group\n"
     ]
    },
    {
     "name": "stderr",
     "output_type": "stream",
     "text": [
      "N/A% [                                                                       ] "
     ]
    },
    {
     "name": "stdout",
     "output_type": "stream",
     "text": [
      "\u001b[33mWARNING: \u001b[0m[410] Unable to download group\n"
     ]
    },
    {
     "name": "stderr",
     "output_type": "stream",
     "text": [
      "N/A% [                                                                       ] "
     ]
    },
    {
     "name": "stdout",
     "output_type": "stream",
     "text": [
      "\u001b[33mWARNING: \u001b[0m[410] Unable to download group\n"
     ]
    },
    {
     "name": "stderr",
     "output_type": "stream",
     "text": [
      "N/A% [                                                                       ] "
     ]
    },
    {
     "name": "stdout",
     "output_type": "stream",
     "text": [
      "\u001b[33mWARNING: \u001b[0m[410] Unable to download group\n"
     ]
    },
    {
     "name": "stderr",
     "output_type": "stream",
     "text": [
      "N/A% [                                                                       ] "
     ]
    },
    {
     "name": "stdout",
     "output_type": "stream",
     "text": [
      "\u001b[33mWARNING: \u001b[0m[410] Unable to download group\n"
     ]
    },
    {
     "name": "stderr",
     "output_type": "stream",
     "text": [
      "N/A% [                                                                       ] "
     ]
    },
    {
     "name": "stdout",
     "output_type": "stream",
     "text": [
      "\u001b[33mWARNING: \u001b[0m[410] Unable to download group\n"
     ]
    },
    {
     "name": "stderr",
     "output_type": "stream",
     "text": [
      "N/A% [                                                                       ] "
     ]
    },
    {
     "name": "stdout",
     "output_type": "stream",
     "text": [
      "\u001b[33mWARNING: \u001b[0m[410] Unable to download group\n"
     ]
    },
    {
     "name": "stderr",
     "output_type": "stream",
     "text": [
      "N/A% [                                                                       ] "
     ]
    },
    {
     "name": "stdout",
     "output_type": "stream",
     "text": [
      "\u001b[33mWARNING: \u001b[0m[410] Unable to download group\n"
     ]
    },
    {
     "name": "stderr",
     "output_type": "stream",
     "text": [
      "N/A% [                                                                       ] "
     ]
    },
    {
     "name": "stdout",
     "output_type": "stream",
     "text": [
      "\u001b[33mWARNING: \u001b[0m[410] Unable to download group\n"
     ]
    },
    {
     "name": "stderr",
     "output_type": "stream",
     "text": [
      "N/A% [                                                                       ] "
     ]
    },
    {
     "name": "stdout",
     "output_type": "stream",
     "text": [
      "\u001b[33mWARNING: \u001b[0m[410] Unable to download group\n"
     ]
    },
    {
     "name": "stderr",
     "output_type": "stream",
     "text": [
      "N/A% [                                                                       ] "
     ]
    },
    {
     "name": "stdout",
     "output_type": "stream",
     "text": [
      "\u001b[33mWARNING: \u001b[0m[410] Unable to download group\n"
     ]
    },
    {
     "name": "stderr",
     "output_type": "stream",
     "text": [
      "N/A% [                                                                       ] "
     ]
    },
    {
     "name": "stdout",
     "output_type": "stream",
     "text": [
      "\u001b[33mWARNING: \u001b[0m[410] Unable to download group\n"
     ]
    },
    {
     "name": "stderr",
     "output_type": "stream",
     "text": [
      "N/A% [                                                                       ] "
     ]
    },
    {
     "name": "stdout",
     "output_type": "stream",
     "text": [
      "\u001b[33mWARNING: \u001b[0m[410] Unable to download group\n"
     ]
    },
    {
     "name": "stderr",
     "output_type": "stream",
     "text": [
      "N/A% [                                                                       ] "
     ]
    },
    {
     "name": "stdout",
     "output_type": "stream",
     "text": [
      "\u001b[33mWARNING: \u001b[0m[410] Unable to download group\n"
     ]
    },
    {
     "name": "stderr",
     "output_type": "stream",
     "text": [
      "N/A% [                                                                       ] "
     ]
    },
    {
     "name": "stdout",
     "output_type": "stream",
     "text": [
      "\u001b[33mWARNING: \u001b[0m[410] Unable to download group\n"
     ]
    },
    {
     "name": "stderr",
     "output_type": "stream",
     "text": [
      "N/A% [                                                                       ] "
     ]
    },
    {
     "name": "stdout",
     "output_type": "stream",
     "text": [
      "\u001b[33mWARNING: \u001b[0m[410] Unable to download group\n"
     ]
    },
    {
     "name": "stderr",
     "output_type": "stream",
     "text": [
      "N/A% [                                                                       ] "
     ]
    },
    {
     "name": "stdout",
     "output_type": "stream",
     "text": [
      "\u001b[33mWARNING: \u001b[0m[410] Unable to download group\n"
     ]
    },
    {
     "name": "stderr",
     "output_type": "stream",
     "text": [
      "N/A% [                                                                       ] "
     ]
    },
    {
     "name": "stdout",
     "output_type": "stream",
     "text": [
      "\u001b[33mWARNING: \u001b[0m[410] Unable to download group\n"
     ]
    },
    {
     "name": "stderr",
     "output_type": "stream",
     "text": [
      "N/A% [                                                                       ] "
     ]
    },
    {
     "name": "stdout",
     "output_type": "stream",
     "text": [
      "\u001b[33mWARNING: \u001b[0m[410] Unable to download group\n"
     ]
    },
    {
     "name": "stderr",
     "output_type": "stream",
     "text": [
      "N/A% [                                                                       ] "
     ]
    },
    {
     "name": "stdout",
     "output_type": "stream",
     "text": [
      "\u001b[33mWARNING: \u001b[0m[410] Unable to download group\n"
     ]
    },
    {
     "name": "stderr",
     "output_type": "stream",
     "text": [
      "N/A% [                                                                       ] "
     ]
    },
    {
     "name": "stdout",
     "output_type": "stream",
     "text": [
      "\u001b[33mWARNING: \u001b[0m[410] Unable to download group\n"
     ]
    },
    {
     "name": "stderr",
     "output_type": "stream",
     "text": [
      "N/A% [                                                                       ] "
     ]
    },
    {
     "name": "stdout",
     "output_type": "stream",
     "text": [
      "\u001b[33mWARNING: \u001b[0m[410] Unable to download group\n"
     ]
    },
    {
     "name": "stderr",
     "output_type": "stream",
     "text": [
      "N/A% [                                                                       ] "
     ]
    },
    {
     "name": "stdout",
     "output_type": "stream",
     "text": [
      "\u001b[33mWARNING: \u001b[0m[410] Unable to download group\n"
     ]
    },
    {
     "name": "stderr",
     "output_type": "stream",
     "text": [
      "N/A% [                                                                       ] "
     ]
    },
    {
     "name": "stdout",
     "output_type": "stream",
     "text": [
      "\u001b[33mWARNING: \u001b[0m[410] Unable to download group\n"
     ]
    },
    {
     "name": "stderr",
     "output_type": "stream",
     "text": [
      "N/A% [                                                                       ] "
     ]
    },
    {
     "name": "stdout",
     "output_type": "stream",
     "text": [
      "\u001b[33mWARNING: \u001b[0m[410] Unable to download group\n"
     ]
    },
    {
     "name": "stderr",
     "output_type": "stream",
     "text": [
      "N/A% [                                                                       ] "
     ]
    },
    {
     "name": "stdout",
     "output_type": "stream",
     "text": [
      "\u001b[33mWARNING: \u001b[0m[410] Unable to download group\n"
     ]
    },
    {
     "name": "stderr",
     "output_type": "stream",
     "text": [
      "N/A% [                                                                       ] "
     ]
    },
    {
     "name": "stdout",
     "output_type": "stream",
     "text": [
      "\u001b[33mWARNING: \u001b[0m[410] Unable to download group\n"
     ]
    },
    {
     "name": "stderr",
     "output_type": "stream",
     "text": [
      "N/A% [                                                                       ] "
     ]
    },
    {
     "name": "stdout",
     "output_type": "stream",
     "text": [
      "\u001b[33mWARNING: \u001b[0m[410] Unable to download group\n"
     ]
    },
    {
     "name": "stderr",
     "output_type": "stream",
     "text": [
      "N/A% [                                                                       ] "
     ]
    },
    {
     "name": "stdout",
     "output_type": "stream",
     "text": [
      "\u001b[33mWARNING: \u001b[0m[410] Unable to download group\n"
     ]
    },
    {
     "name": "stderr",
     "output_type": "stream",
     "text": [
      "N/A% [                                                                       ] "
     ]
    },
    {
     "name": "stdout",
     "output_type": "stream",
     "text": [
      "\u001b[33mWARNING: \u001b[0m[410] Unable to download group\n"
     ]
    },
    {
     "name": "stderr",
     "output_type": "stream",
     "text": [
      "N/A% [                                                                       ] "
     ]
    },
    {
     "name": "stdout",
     "output_type": "stream",
     "text": [
      "\u001b[33mWARNING: \u001b[0m[410] Unable to download group\n"
     ]
    },
    {
     "name": "stderr",
     "output_type": "stream",
     "text": [
      "N/A% [                                                                       ] "
     ]
    },
    {
     "name": "stdout",
     "output_type": "stream",
     "text": [
      "\u001b[33mWARNING: \u001b[0m[410] Unable to download group\n"
     ]
    },
    {
     "name": "stderr",
     "output_type": "stream",
     "text": [
      "N/A% [                                                                       ] "
     ]
    },
    {
     "name": "stdout",
     "output_type": "stream",
     "text": [
      "\u001b[33mWARNING: \u001b[0m[410] Unable to download group\n"
     ]
    },
    {
     "name": "stderr",
     "output_type": "stream",
     "text": [
      "N/A% [                                                                       ] "
     ]
    },
    {
     "name": "stdout",
     "output_type": "stream",
     "text": [
      "\u001b[33mWARNING: \u001b[0m[410] Unable to download group\n"
     ]
    },
    {
     "name": "stderr",
     "output_type": "stream",
     "text": [
      "N/A% [                                                                       ] "
     ]
    },
    {
     "name": "stdout",
     "output_type": "stream",
     "text": [
      "\u001b[33mWARNING: \u001b[0m[410] Unable to download group\n"
     ]
    },
    {
     "name": "stderr",
     "output_type": "stream",
     "text": [
      "N/A% [                                                                       ] "
     ]
    },
    {
     "name": "stdout",
     "output_type": "stream",
     "text": [
      "\u001b[33mWARNING: \u001b[0m[410] Unable to download group\n"
     ]
    },
    {
     "name": "stderr",
     "output_type": "stream",
     "text": [
      "N/A% [                                                                       ] "
     ]
    },
    {
     "name": "stdout",
     "output_type": "stream",
     "text": [
      "\u001b[33mWARNING: \u001b[0m[410] Unable to download group\n"
     ]
    },
    {
     "name": "stderr",
     "output_type": "stream",
     "text": [
      "N/A% [                                                                       ] "
     ]
    },
    {
     "name": "stdout",
     "output_type": "stream",
     "text": [
      "\u001b[33mWARNING: \u001b[0m[410] Unable to download group\n"
     ]
    },
    {
     "name": "stderr",
     "output_type": "stream",
     "text": [
      "N/A% [                                                                       ] "
     ]
    },
    {
     "name": "stdout",
     "output_type": "stream",
     "text": [
      "\u001b[33mWARNING: \u001b[0m[410] Unable to download group\n"
     ]
    },
    {
     "name": "stderr",
     "output_type": "stream",
     "text": [
      "N/A% [                                                                       ] "
     ]
    },
    {
     "name": "stdout",
     "output_type": "stream",
     "text": [
      "\u001b[33mWARNING: \u001b[0m[410] Unable to download group\n"
     ]
    },
    {
     "name": "stderr",
     "output_type": "stream",
     "text": [
      "N/A% [                                                                       ] "
     ]
    },
    {
     "name": "stdout",
     "output_type": "stream",
     "text": [
      "\u001b[33mWARNING: \u001b[0m[410] Unable to download group\n"
     ]
    },
    {
     "name": "stderr",
     "output_type": "stream",
     "text": [
      "N/A% [                                                                       ] "
     ]
    },
    {
     "name": "stdout",
     "output_type": "stream",
     "text": [
      "\u001b[33mWARNING: \u001b[0m[410] Unable to download group\n"
     ]
    },
    {
     "name": "stderr",
     "output_type": "stream",
     "text": [
      "N/A% [                                                                       ] "
     ]
    },
    {
     "name": "stdout",
     "output_type": "stream",
     "text": [
      "\u001b[33mWARNING: \u001b[0m[410] Unable to download group\n"
     ]
    },
    {
     "name": "stderr",
     "output_type": "stream",
     "text": [
      "N/A% [                                                                       ] "
     ]
    },
    {
     "name": "stdout",
     "output_type": "stream",
     "text": [
      "\u001b[33mWARNING: \u001b[0m[410] Unable to download group\n"
     ]
    },
    {
     "name": "stderr",
     "output_type": "stream",
     "text": [
      "N/A% [                                                                       ] "
     ]
    },
    {
     "name": "stdout",
     "output_type": "stream",
     "text": [
      "\u001b[33mWARNING: \u001b[0m[410] Unable to download group\n"
     ]
    },
    {
     "name": "stderr",
     "output_type": "stream",
     "text": [
      "N/A% [                                                                       ] "
     ]
    },
    {
     "name": "stdout",
     "output_type": "stream",
     "text": [
      "\u001b[33mWARNING: \u001b[0m[410] Unable to download group\n"
     ]
    },
    {
     "name": "stderr",
     "output_type": "stream",
     "text": [
      "N/A% [                                                                       ] "
     ]
    },
    {
     "name": "stdout",
     "output_type": "stream",
     "text": [
      "\u001b[33mWARNING: \u001b[0m[410] Unable to download group\n"
     ]
    },
    {
     "name": "stderr",
     "output_type": "stream",
     "text": [
      "N/A% [                                                                       ] "
     ]
    },
    {
     "name": "stdout",
     "output_type": "stream",
     "text": [
      "\u001b[33mWARNING: \u001b[0m[410] Unable to download group\n"
     ]
    },
    {
     "name": "stderr",
     "output_type": "stream",
     "text": [
      "N/A% [                                                                       ] "
     ]
    },
    {
     "name": "stdout",
     "output_type": "stream",
     "text": [
      "\u001b[33mWARNING: \u001b[0m[410] Unable to download group\n"
     ]
    },
    {
     "name": "stderr",
     "output_type": "stream",
     "text": [
      "N/A% [                                                                       ] "
     ]
    },
    {
     "name": "stdout",
     "output_type": "stream",
     "text": [
      "\u001b[33mWARNING: \u001b[0m[410] Unable to download group\n"
     ]
    },
    {
     "name": "stderr",
     "output_type": "stream",
     "text": [
      "N/A% [                                                                       ] "
     ]
    },
    {
     "name": "stdout",
     "output_type": "stream",
     "text": [
      "\u001b[33mWARNING: \u001b[0m[410] Unable to download group\n"
     ]
    },
    {
     "name": "stderr",
     "output_type": "stream",
     "text": [
      "N/A% [                                                                       ] "
     ]
    },
    {
     "name": "stdout",
     "output_type": "stream",
     "text": [
      "\u001b[33mWARNING: \u001b[0m[410] Unable to download group\n"
     ]
    },
    {
     "name": "stderr",
     "output_type": "stream",
     "text": [
      "N/A% [                                                                       ] "
     ]
    },
    {
     "name": "stdout",
     "output_type": "stream",
     "text": [
      "\u001b[33mWARNING: \u001b[0m[410] Unable to download group\n"
     ]
    },
    {
     "name": "stderr",
     "output_type": "stream",
     "text": [
      "N/A% [                                                                       ] "
     ]
    },
    {
     "name": "stdout",
     "output_type": "stream",
     "text": [
      "\u001b[33mWARNING: \u001b[0m[410] Unable to download group\n"
     ]
    },
    {
     "name": "stderr",
     "output_type": "stream",
     "text": [
      "N/A% [                                                                       ] "
     ]
    },
    {
     "name": "stdout",
     "output_type": "stream",
     "text": [
      "\u001b[33mWARNING: \u001b[0m[410] Unable to download group\n"
     ]
    },
    {
     "name": "stderr",
     "output_type": "stream",
     "text": [
      "N/A% [                                                                       ] "
     ]
    },
    {
     "name": "stdout",
     "output_type": "stream",
     "text": [
      "\u001b[33mWARNING: \u001b[0m[410] Unable to download group\n"
     ]
    },
    {
     "name": "stderr",
     "output_type": "stream",
     "text": [
      "N/A% [                                                                       ] "
     ]
    },
    {
     "name": "stdout",
     "output_type": "stream",
     "text": [
      "\u001b[33mWARNING: \u001b[0m[410] Unable to download group\n"
     ]
    },
    {
     "name": "stderr",
     "output_type": "stream",
     "text": [
      "N/A% [                                                                       ] "
     ]
    },
    {
     "name": "stdout",
     "output_type": "stream",
     "text": [
      "\u001b[33mWARNING: \u001b[0m[410] Unable to download group\n"
     ]
    },
    {
     "name": "stderr",
     "output_type": "stream",
     "text": [
      "N/A% [                                                                       ] "
     ]
    },
    {
     "name": "stdout",
     "output_type": "stream",
     "text": [
      "\u001b[33mWARNING: \u001b[0m[410] Unable to download group\n"
     ]
    },
    {
     "name": "stderr",
     "output_type": "stream",
     "text": [
      "N/A% [                                                                       ] "
     ]
    },
    {
     "name": "stdout",
     "output_type": "stream",
     "text": [
      "\u001b[33mWARNING: \u001b[0m[410] Unable to download group\n"
     ]
    },
    {
     "name": "stderr",
     "output_type": "stream",
     "text": [
      "N/A% [                                                                       ] "
     ]
    },
    {
     "name": "stdout",
     "output_type": "stream",
     "text": [
      "\u001b[33mWARNING: \u001b[0m[410] Unable to download group\n"
     ]
    },
    {
     "name": "stderr",
     "output_type": "stream",
     "text": [
      "N/A% [                                                                       ] "
     ]
    },
    {
     "name": "stdout",
     "output_type": "stream",
     "text": [
      "\u001b[33mWARNING: \u001b[0m[410] Unable to download group\n"
     ]
    },
    {
     "name": "stderr",
     "output_type": "stream",
     "text": [
      "N/A% [                                                                       ] "
     ]
    },
    {
     "name": "stdout",
     "output_type": "stream",
     "text": [
      "\u001b[33mWARNING: \u001b[0m[410] Unable to download group\n"
     ]
    },
    {
     "name": "stderr",
     "output_type": "stream",
     "text": [
      "N/A% [                                                                       ] "
     ]
    },
    {
     "name": "stdout",
     "output_type": "stream",
     "text": [
      "\u001b[33mWARNING: \u001b[0m[410] Unable to download group\n"
     ]
    },
    {
     "name": "stderr",
     "output_type": "stream",
     "text": [
      "N/A% [                                                                       ] "
     ]
    },
    {
     "name": "stdout",
     "output_type": "stream",
     "text": [
      "\u001b[33mWARNING: \u001b[0m[410] Unable to download group\n"
     ]
    },
    {
     "name": "stderr",
     "output_type": "stream",
     "text": [
      "N/A% [                                                                       ] "
     ]
    },
    {
     "name": "stdout",
     "output_type": "stream",
     "text": [
      "\u001b[33mWARNING: \u001b[0m[410] Unable to download group\n"
     ]
    },
    {
     "name": "stderr",
     "output_type": "stream",
     "text": [
      "N/A% [                                                                       ] "
     ]
    },
    {
     "name": "stdout",
     "output_type": "stream",
     "text": [
      "\u001b[33mWARNING: \u001b[0m[410] Unable to download group\n"
     ]
    },
    {
     "name": "stderr",
     "output_type": "stream",
     "text": [
      "N/A% [                                                                       ] "
     ]
    },
    {
     "name": "stdout",
     "output_type": "stream",
     "text": [
      "\u001b[33mWARNING: \u001b[0m[410] Unable to download group\n"
     ]
    },
    {
     "name": "stderr",
     "output_type": "stream",
     "text": [
      "N/A% [                                                                       ] "
     ]
    },
    {
     "name": "stdout",
     "output_type": "stream",
     "text": [
      "\u001b[33mWARNING: \u001b[0m[410] Unable to download group\n"
     ]
    },
    {
     "name": "stderr",
     "output_type": "stream",
     "text": [
      "N/A% [                                                                       ] "
     ]
    },
    {
     "name": "stdout",
     "output_type": "stream",
     "text": [
      "\u001b[33mWARNING: \u001b[0m[410] Unable to download group\n"
     ]
    },
    {
     "name": "stderr",
     "output_type": "stream",
     "text": [
      "N/A% [                                                                       ] "
     ]
    },
    {
     "name": "stdout",
     "output_type": "stream",
     "text": [
      "\u001b[33mWARNING: \u001b[0m[410] Unable to download group\n"
     ]
    },
    {
     "name": "stderr",
     "output_type": "stream",
     "text": [
      "N/A% [                                                                       ] "
     ]
    },
    {
     "name": "stdout",
     "output_type": "stream",
     "text": [
      "\u001b[33mWARNING: \u001b[0m[410] Unable to download group\n"
     ]
    },
    {
     "name": "stderr",
     "output_type": "stream",
     "text": [
      "N/A% [                                                                       ] "
     ]
    },
    {
     "name": "stdout",
     "output_type": "stream",
     "text": [
      "\u001b[33mWARNING: \u001b[0m[410] Unable to download group\n"
     ]
    },
    {
     "name": "stderr",
     "output_type": "stream",
     "text": [
      "N/A% [                                                                       ] "
     ]
    },
    {
     "name": "stdout",
     "output_type": "stream",
     "text": [
      "\u001b[33mWARNING: \u001b[0m[410] Unable to download group\n"
     ]
    },
    {
     "name": "stderr",
     "output_type": "stream",
     "text": [
      "N/A% [                                                                       ] "
     ]
    },
    {
     "name": "stdout",
     "output_type": "stream",
     "text": [
      "\u001b[33mWARNING: \u001b[0m[410] Unable to download group\n"
     ]
    },
    {
     "name": "stderr",
     "output_type": "stream",
     "text": [
      "N/A% [                                                                       ] "
     ]
    },
    {
     "name": "stdout",
     "output_type": "stream",
     "text": [
      "\u001b[33mWARNING: \u001b[0m[410] Unable to download group\n"
     ]
    },
    {
     "name": "stderr",
     "output_type": "stream",
     "text": [
      "N/A% [                                                                       ] "
     ]
    },
    {
     "name": "stdout",
     "output_type": "stream",
     "text": [
      "\u001b[33mWARNING: \u001b[0m[410] Unable to download group\n"
     ]
    },
    {
     "name": "stderr",
     "output_type": "stream",
     "text": [
      "N/A% [                                                                       ] "
     ]
    },
    {
     "name": "stdout",
     "output_type": "stream",
     "text": [
      "\u001b[33mWARNING: \u001b[0m[410] Unable to download group\n"
     ]
    },
    {
     "name": "stderr",
     "output_type": "stream",
     "text": [
      "N/A% [                                                                       ] "
     ]
    },
    {
     "name": "stdout",
     "output_type": "stream",
     "text": [
      "\u001b[33mWARNING: \u001b[0m[410] Unable to download group\n"
     ]
    },
    {
     "name": "stderr",
     "output_type": "stream",
     "text": [
      "N/A% [                                                                       ] "
     ]
    },
    {
     "name": "stdout",
     "output_type": "stream",
     "text": [
      "\u001b[33mWARNING: \u001b[0m[410] Unable to download group\n"
     ]
    },
    {
     "name": "stderr",
     "output_type": "stream",
     "text": [
      "N/A% [                                                                       ] "
     ]
    },
    {
     "name": "stdout",
     "output_type": "stream",
     "text": [
      "\u001b[33mWARNING: \u001b[0m[410] Unable to download group\n"
     ]
    },
    {
     "name": "stderr",
     "output_type": "stream",
     "text": [
      "N/A% [                                                                       ] "
     ]
    },
    {
     "name": "stdout",
     "output_type": "stream",
     "text": [
      "\u001b[33mWARNING: \u001b[0m[410] Unable to download group\n"
     ]
    },
    {
     "name": "stderr",
     "output_type": "stream",
     "text": [
      "N/A% [                                                                       ] "
     ]
    },
    {
     "name": "stdout",
     "output_type": "stream",
     "text": [
      "\u001b[33mWARNING: \u001b[0m[410] Unable to download group\n"
     ]
    },
    {
     "name": "stderr",
     "output_type": "stream",
     "text": [
      "N/A% [                                                                       ] "
     ]
    },
    {
     "name": "stdout",
     "output_type": "stream",
     "text": [
      "\u001b[33mWARNING: \u001b[0m[410] Unable to download group\n"
     ]
    },
    {
     "name": "stderr",
     "output_type": "stream",
     "text": [
      "N/A% [                                                                       ] "
     ]
    },
    {
     "name": "stdout",
     "output_type": "stream",
     "text": [
      "\u001b[33mWARNING: \u001b[0m[410] Unable to download group\n"
     ]
    },
    {
     "name": "stderr",
     "output_type": "stream",
     "text": [
      "N/A% [                                                                       ] "
     ]
    },
    {
     "name": "stdout",
     "output_type": "stream",
     "text": [
      "\u001b[33mWARNING: \u001b[0m[410] Unable to download group\n"
     ]
    },
    {
     "name": "stderr",
     "output_type": "stream",
     "text": [
      "N/A% [                                                                       ] "
     ]
    },
    {
     "name": "stdout",
     "output_type": "stream",
     "text": [
      "\u001b[33mWARNING: \u001b[0m[410] Unable to download group\n"
     ]
    },
    {
     "name": "stderr",
     "output_type": "stream",
     "text": [
      "N/A% [                                                                       ] "
     ]
    },
    {
     "name": "stdout",
     "output_type": "stream",
     "text": [
      "\u001b[33mWARNING: \u001b[0m[410] Unable to download group\n"
     ]
    },
    {
     "name": "stderr",
     "output_type": "stream",
     "text": [
      "N/A% [                                                                       ] "
     ]
    },
    {
     "name": "stdout",
     "output_type": "stream",
     "text": [
      "\u001b[33mWARNING: \u001b[0m[410] Unable to download group\n"
     ]
    },
    {
     "name": "stderr",
     "output_type": "stream",
     "text": [
      "N/A% [                                                                       ] "
     ]
    },
    {
     "name": "stdout",
     "output_type": "stream",
     "text": [
      "\u001b[33mWARNING: \u001b[0m[410] Unable to download group\n"
     ]
    },
    {
     "name": "stderr",
     "output_type": "stream",
     "text": [
      "N/A% [                                                                       ] "
     ]
    },
    {
     "name": "stdout",
     "output_type": "stream",
     "text": [
      "\u001b[33mWARNING: \u001b[0m[410] Unable to download group\n"
     ]
    },
    {
     "name": "stderr",
     "output_type": "stream",
     "text": [
      "N/A% [                                                                       ] "
     ]
    },
    {
     "name": "stdout",
     "output_type": "stream",
     "text": [
      "\u001b[33mWARNING: \u001b[0m[410] Unable to download group\n"
     ]
    },
    {
     "name": "stderr",
     "output_type": "stream",
     "text": [
      "N/A% [                                                                       ] "
     ]
    },
    {
     "name": "stdout",
     "output_type": "stream",
     "text": [
      "\u001b[33mWARNING: \u001b[0m[410] Unable to download group\n"
     ]
    },
    {
     "name": "stderr",
     "output_type": "stream",
     "text": [
      "N/A% [                                                                       ] "
     ]
    },
    {
     "name": "stdout",
     "output_type": "stream",
     "text": [
      "\u001b[33mWARNING: \u001b[0m[410] Unable to download group\n"
     ]
    },
    {
     "name": "stderr",
     "output_type": "stream",
     "text": [
      "N/A% [                                                                       ] "
     ]
    },
    {
     "name": "stdout",
     "output_type": "stream",
     "text": [
      "\u001b[33mWARNING: \u001b[0m[410] Unable to download group\n"
     ]
    },
    {
     "name": "stderr",
     "output_type": "stream",
     "text": [
      "N/A% [                                                                       ] "
     ]
    },
    {
     "name": "stdout",
     "output_type": "stream",
     "text": [
      "\u001b[33mWARNING: \u001b[0m[410] Unable to download group\n"
     ]
    },
    {
     "name": "stderr",
     "output_type": "stream",
     "text": [
      "N/A% [                                                                       ] "
     ]
    },
    {
     "name": "stdout",
     "output_type": "stream",
     "text": [
      "\u001b[33mWARNING: \u001b[0m[410] Unable to download group\n"
     ]
    },
    {
     "name": "stderr",
     "output_type": "stream",
     "text": [
      "N/A% [                                                                       ] "
     ]
    },
    {
     "name": "stdout",
     "output_type": "stream",
     "text": [
      "\u001b[33mWARNING: \u001b[0m[410] Unable to download group\n"
     ]
    },
    {
     "name": "stderr",
     "output_type": "stream",
     "text": [
      "N/A% [                                                                       ] "
     ]
    },
    {
     "name": "stdout",
     "output_type": "stream",
     "text": [
      "\u001b[33mWARNING: \u001b[0m[410] Unable to download group\n"
     ]
    },
    {
     "name": "stderr",
     "output_type": "stream",
     "text": [
      "N/A% [                                                                       ] "
     ]
    },
    {
     "name": "stdout",
     "output_type": "stream",
     "text": [
      "\u001b[33mWARNING: \u001b[0m[410] Unable to download group\n"
     ]
    },
    {
     "name": "stderr",
     "output_type": "stream",
     "text": [
      "N/A% [                                                                       ] "
     ]
    },
    {
     "name": "stdout",
     "output_type": "stream",
     "text": [
      "\u001b[33mWARNING: \u001b[0m[410] Unable to download group\n"
     ]
    },
    {
     "name": "stderr",
     "output_type": "stream",
     "text": [
      "N/A% [                                                                       ] "
     ]
    },
    {
     "name": "stdout",
     "output_type": "stream",
     "text": [
      "\u001b[33mWARNING: \u001b[0m[410] Unable to download group\n"
     ]
    },
    {
     "name": "stderr",
     "output_type": "stream",
     "text": [
      "N/A% [                                                                       ] "
     ]
    },
    {
     "name": "stdout",
     "output_type": "stream",
     "text": [
      "\u001b[33mWARNING: \u001b[0m[410] Unable to download group\n"
     ]
    },
    {
     "name": "stderr",
     "output_type": "stream",
     "text": [
      "N/A% [                                                                       ] "
     ]
    },
    {
     "name": "stdout",
     "output_type": "stream",
     "text": [
      "\u001b[33mWARNING: \u001b[0m[410] Unable to download group\n"
     ]
    },
    {
     "name": "stderr",
     "output_type": "stream",
     "text": [
      "N/A% [                                                                       ] "
     ]
    },
    {
     "name": "stdout",
     "output_type": "stream",
     "text": [
      "\u001b[33mWARNING: \u001b[0m[410] Unable to download group\n"
     ]
    },
    {
     "name": "stderr",
     "output_type": "stream",
     "text": [
      "N/A% [                                                                       ] "
     ]
    },
    {
     "name": "stdout",
     "output_type": "stream",
     "text": [
      "\u001b[33mWARNING: \u001b[0m[410] Unable to download group\n"
     ]
    },
    {
     "name": "stderr",
     "output_type": "stream",
     "text": [
      "N/A% [                                                                       ] "
     ]
    },
    {
     "name": "stdout",
     "output_type": "stream",
     "text": [
      "\u001b[33mWARNING: \u001b[0m[410] Unable to download group\n"
     ]
    },
    {
     "name": "stderr",
     "output_type": "stream",
     "text": [
      "N/A% [                                                                       ] "
     ]
    },
    {
     "name": "stdout",
     "output_type": "stream",
     "text": [
      "\u001b[33mWARNING: \u001b[0m[410] Unable to download group\n"
     ]
    },
    {
     "name": "stderr",
     "output_type": "stream",
     "text": [
      "N/A% [                                                                       ] "
     ]
    },
    {
     "name": "stdout",
     "output_type": "stream",
     "text": [
      "\u001b[33mWARNING: \u001b[0m[410] Unable to download group\n"
     ]
    },
    {
     "name": "stderr",
     "output_type": "stream",
     "text": [
      "N/A% [                                                                       ] "
     ]
    },
    {
     "name": "stdout",
     "output_type": "stream",
     "text": [
      "\u001b[33mWARNING: \u001b[0m[410] Unable to download group\n"
     ]
    },
    {
     "name": "stderr",
     "output_type": "stream",
     "text": [
      "N/A% [                                                                       ] "
     ]
    },
    {
     "name": "stdout",
     "output_type": "stream",
     "text": [
      "\u001b[33mWARNING: \u001b[0m[410] Unable to download group\n"
     ]
    },
    {
     "name": "stderr",
     "output_type": "stream",
     "text": [
      "N/A% [                                                                       ] "
     ]
    },
    {
     "name": "stdout",
     "output_type": "stream",
     "text": [
      "\u001b[33mWARNING: \u001b[0m[410] Unable to download group\n"
     ]
    },
    {
     "name": "stderr",
     "output_type": "stream",
     "text": [
      "N/A% [                                                                       ] "
     ]
    },
    {
     "name": "stdout",
     "output_type": "stream",
     "text": [
      "\u001b[33mWARNING: \u001b[0m[410] Unable to download group\n"
     ]
    },
    {
     "name": "stderr",
     "output_type": "stream",
     "text": [
      "N/A% [                                                                       ] "
     ]
    },
    {
     "name": "stdout",
     "output_type": "stream",
     "text": [
      "\u001b[33mWARNING: \u001b[0m[410] Unable to download group\n"
     ]
    },
    {
     "name": "stderr",
     "output_type": "stream",
     "text": [
      "N/A% [                                                                       ] "
     ]
    },
    {
     "name": "stdout",
     "output_type": "stream",
     "text": [
      "\u001b[33mWARNING: \u001b[0m[410] Unable to download group\n"
     ]
    },
    {
     "name": "stderr",
     "output_type": "stream",
     "text": [
      "N/A% [                                                                       ] "
     ]
    },
    {
     "name": "stdout",
     "output_type": "stream",
     "text": [
      "\u001b[33mWARNING: \u001b[0m[410] Unable to download group\n"
     ]
    },
    {
     "name": "stderr",
     "output_type": "stream",
     "text": [
      "N/A% [                                                                       ] "
     ]
    },
    {
     "name": "stdout",
     "output_type": "stream",
     "text": [
      "\u001b[33mWARNING: \u001b[0m[410] Unable to download group\n"
     ]
    },
    {
     "name": "stderr",
     "output_type": "stream",
     "text": [
      "N/A% [                                                                       ] "
     ]
    },
    {
     "name": "stdout",
     "output_type": "stream",
     "text": [
      "\u001b[33mWARNING: \u001b[0m[410] Unable to download group\n"
     ]
    },
    {
     "name": "stderr",
     "output_type": "stream",
     "text": [
      "N/A% [                                                                       ] "
     ]
    },
    {
     "name": "stdout",
     "output_type": "stream",
     "text": [
      "\u001b[33mWARNING: \u001b[0m[410] Unable to download group\n"
     ]
    },
    {
     "name": "stderr",
     "output_type": "stream",
     "text": [
      "N/A% [                                                                       ] "
     ]
    },
    {
     "name": "stdout",
     "output_type": "stream",
     "text": [
      "\u001b[33mWARNING: \u001b[0m[410] Unable to download group\n"
     ]
    },
    {
     "name": "stderr",
     "output_type": "stream",
     "text": [
      "N/A% [                                                                       ] "
     ]
    },
    {
     "name": "stdout",
     "output_type": "stream",
     "text": [
      "\u001b[33mWARNING: \u001b[0m[410] Unable to download group\n"
     ]
    },
    {
     "name": "stderr",
     "output_type": "stream",
     "text": [
      "N/A% [                                                                       ] "
     ]
    },
    {
     "name": "stdout",
     "output_type": "stream",
     "text": [
      "\u001b[33mWARNING: \u001b[0m[410] Unable to download group\n"
     ]
    },
    {
     "name": "stderr",
     "output_type": "stream",
     "text": [
      "N/A% [                                                                       ] "
     ]
    },
    {
     "name": "stdout",
     "output_type": "stream",
     "text": [
      "\u001b[33mWARNING: \u001b[0m[410] Unable to download group\n"
     ]
    },
    {
     "name": "stderr",
     "output_type": "stream",
     "text": [
      "N/A% [                                                                       ] "
     ]
    },
    {
     "name": "stdout",
     "output_type": "stream",
     "text": [
      "\u001b[33mWARNING: \u001b[0m[410] Unable to download group\n"
     ]
    },
    {
     "name": "stderr",
     "output_type": "stream",
     "text": [
      "N/A% [                                                                       ] "
     ]
    },
    {
     "name": "stdout",
     "output_type": "stream",
     "text": [
      "\u001b[33mWARNING: \u001b[0m[410] Unable to download group\n"
     ]
    },
    {
     "name": "stderr",
     "output_type": "stream",
     "text": [
      "N/A% [                                                                       ] "
     ]
    },
    {
     "name": "stdout",
     "output_type": "stream",
     "text": [
      "\u001b[33mWARNING: \u001b[0m[410] Unable to download group\n"
     ]
    },
    {
     "name": "stderr",
     "output_type": "stream",
     "text": [
      "N/A% [                                                                       ] "
     ]
    },
    {
     "name": "stdout",
     "output_type": "stream",
     "text": [
      "\u001b[33mWARNING: \u001b[0m[410] Unable to download group\n"
     ]
    },
    {
     "name": "stderr",
     "output_type": "stream",
     "text": [
      "N/A% [                                                                       ] "
     ]
    },
    {
     "name": "stdout",
     "output_type": "stream",
     "text": [
      "\u001b[33mWARNING: \u001b[0m[410] Unable to download group\n"
     ]
    },
    {
     "name": "stderr",
     "output_type": "stream",
     "text": [
      "N/A% [                                                                       ] "
     ]
    },
    {
     "name": "stdout",
     "output_type": "stream",
     "text": [
      "\u001b[33mWARNING: \u001b[0m[410] Unable to download group\n"
     ]
    },
    {
     "name": "stderr",
     "output_type": "stream",
     "text": [
      "N/A% [                                                                       ] "
     ]
    },
    {
     "name": "stdout",
     "output_type": "stream",
     "text": [
      "\u001b[33mWARNING: \u001b[0m[410] Unable to download group\n"
     ]
    },
    {
     "name": "stderr",
     "output_type": "stream",
     "text": [
      "N/A% [                                                                       ] "
     ]
    },
    {
     "name": "stdout",
     "output_type": "stream",
     "text": [
      "\u001b[33mWARNING: \u001b[0m[410] Unable to download group\n"
     ]
    },
    {
     "name": "stderr",
     "output_type": "stream",
     "text": [
      "N/A% [                                                                       ] "
     ]
    },
    {
     "name": "stdout",
     "output_type": "stream",
     "text": [
      "\u001b[33mWARNING: \u001b[0m[410] Unable to download group\n"
     ]
    },
    {
     "name": "stderr",
     "output_type": "stream",
     "text": [
      "N/A% [                                                                       ] "
     ]
    },
    {
     "name": "stdout",
     "output_type": "stream",
     "text": [
      "\u001b[33mWARNING: \u001b[0m[410] Unable to download group\n"
     ]
    },
    {
     "name": "stderr",
     "output_type": "stream",
     "text": [
      "N/A% [                                                                       ] "
     ]
    },
    {
     "name": "stdout",
     "output_type": "stream",
     "text": [
      "\u001b[33mWARNING: \u001b[0m[410] Unable to download group\n"
     ]
    },
    {
     "name": "stderr",
     "output_type": "stream",
     "text": [
      "N/A% [                                                                       ] "
     ]
    },
    {
     "name": "stdout",
     "output_type": "stream",
     "text": [
      "\u001b[33mWARNING: \u001b[0m[410] Unable to download group\n"
     ]
    },
    {
     "name": "stderr",
     "output_type": "stream",
     "text": [
      "N/A% [                                                                       ] "
     ]
    },
    {
     "name": "stdout",
     "output_type": "stream",
     "text": [
      "\u001b[33mWARNING: \u001b[0m[410] Unable to download group\n"
     ]
    },
    {
     "name": "stderr",
     "output_type": "stream",
     "text": [
      "N/A% [                                                                       ] "
     ]
    },
    {
     "name": "stdout",
     "output_type": "stream",
     "text": [
      "\u001b[33mWARNING: \u001b[0m[410] Unable to download group\n"
     ]
    },
    {
     "name": "stderr",
     "output_type": "stream",
     "text": [
      "N/A% [                                                                       ] "
     ]
    },
    {
     "name": "stdout",
     "output_type": "stream",
     "text": [
      "\u001b[33mWARNING: \u001b[0m[410] Unable to download group\n"
     ]
    },
    {
     "name": "stderr",
     "output_type": "stream",
     "text": [
      "N/A% [                                                                       ] "
     ]
    },
    {
     "name": "stdout",
     "output_type": "stream",
     "text": [
      "\u001b[33mWARNING: \u001b[0m[410] Unable to download group\n"
     ]
    },
    {
     "name": "stderr",
     "output_type": "stream",
     "text": [
      "N/A% [                                                                       ] "
     ]
    },
    {
     "name": "stdout",
     "output_type": "stream",
     "text": [
      "\u001b[33mWARNING: \u001b[0m[410] Unable to download group\n"
     ]
    },
    {
     "name": "stderr",
     "output_type": "stream",
     "text": [
      "N/A% [                                                                       ] "
     ]
    },
    {
     "name": "stdout",
     "output_type": "stream",
     "text": [
      "\u001b[33mWARNING: \u001b[0m[410] Unable to download group\n"
     ]
    },
    {
     "name": "stderr",
     "output_type": "stream",
     "text": [
      "N/A% [                                                                       ] "
     ]
    },
    {
     "name": "stdout",
     "output_type": "stream",
     "text": [
      "\u001b[33mWARNING: \u001b[0m[410] Unable to download group\n"
     ]
    },
    {
     "name": "stderr",
     "output_type": "stream",
     "text": [
      "N/A% [                                                                       ] "
     ]
    },
    {
     "name": "stdout",
     "output_type": "stream",
     "text": [
      "\u001b[33mWARNING: \u001b[0m[410] Unable to download group\n"
     ]
    },
    {
     "name": "stderr",
     "output_type": "stream",
     "text": [
      "N/A% [                                                                       ] "
     ]
    },
    {
     "name": "stdout",
     "output_type": "stream",
     "text": [
      "\u001b[33mWARNING: \u001b[0m[410] Unable to download group\n"
     ]
    },
    {
     "name": "stderr",
     "output_type": "stream",
     "text": [
      "N/A% [                                                                       ] "
     ]
    },
    {
     "name": "stdout",
     "output_type": "stream",
     "text": [
      "\u001b[33mWARNING: \u001b[0m[410] Unable to download group\n"
     ]
    },
    {
     "name": "stderr",
     "output_type": "stream",
     "text": [
      "N/A% [                                                                       ] "
     ]
    },
    {
     "name": "stdout",
     "output_type": "stream",
     "text": [
      "\u001b[33mWARNING: \u001b[0m[410] Unable to download group\n"
     ]
    },
    {
     "name": "stderr",
     "output_type": "stream",
     "text": [
      "N/A% [                                                                       ] "
     ]
    },
    {
     "name": "stdout",
     "output_type": "stream",
     "text": [
      "\u001b[33mWARNING: \u001b[0m[410] Unable to download group\n"
     ]
    },
    {
     "name": "stderr",
     "output_type": "stream",
     "text": [
      "N/A% [                                                                       ] "
     ]
    },
    {
     "name": "stdout",
     "output_type": "stream",
     "text": [
      "\u001b[33mWARNING: \u001b[0m[410] Unable to download group\n"
     ]
    },
    {
     "name": "stderr",
     "output_type": "stream",
     "text": [
      "N/A% [                                                                       ] "
     ]
    },
    {
     "name": "stdout",
     "output_type": "stream",
     "text": [
      "\u001b[33mWARNING: \u001b[0m[410] Unable to download group\n"
     ]
    },
    {
     "name": "stderr",
     "output_type": "stream",
     "text": [
      "N/A% [                                                                       ] "
     ]
    },
    {
     "name": "stdout",
     "output_type": "stream",
     "text": [
      "\u001b[33mWARNING: \u001b[0m[410] Unable to download group\n"
     ]
    },
    {
     "name": "stderr",
     "output_type": "stream",
     "text": [
      "N/A% [                                                                       ] "
     ]
    },
    {
     "name": "stdout",
     "output_type": "stream",
     "text": [
      "\u001b[33mWARNING: \u001b[0m[410] Unable to download group\n"
     ]
    },
    {
     "name": "stderr",
     "output_type": "stream",
     "text": [
      "N/A% [                                                                       ] "
     ]
    },
    {
     "name": "stdout",
     "output_type": "stream",
     "text": [
      "\u001b[33mWARNING: \u001b[0m[410] Unable to download group\n"
     ]
    },
    {
     "name": "stderr",
     "output_type": "stream",
     "text": [
      "N/A% [                                                                       ] "
     ]
    },
    {
     "name": "stdout",
     "output_type": "stream",
     "text": [
      "\u001b[33mWARNING: \u001b[0m[410] Unable to download group\n"
     ]
    },
    {
     "name": "stderr",
     "output_type": "stream",
     "text": [
      "N/A% [                                                                       ] "
     ]
    },
    {
     "name": "stdout",
     "output_type": "stream",
     "text": [
      "\u001b[33mWARNING: \u001b[0m[410] Unable to download group\n"
     ]
    },
    {
     "name": "stderr",
     "output_type": "stream",
     "text": [
      "N/A% [                                                                       ] "
     ]
    },
    {
     "name": "stdout",
     "output_type": "stream",
     "text": [
      "\u001b[33mWARNING: \u001b[0m[410] Unable to download group\n"
     ]
    },
    {
     "name": "stderr",
     "output_type": "stream",
     "text": [
      "N/A% [                                                                       ] "
     ]
    },
    {
     "name": "stdout",
     "output_type": "stream",
     "text": [
      "\u001b[33mWARNING: \u001b[0m[410] Unable to download group\n"
     ]
    },
    {
     "name": "stderr",
     "output_type": "stream",
     "text": [
      "N/A% [                                                                       ] "
     ]
    },
    {
     "name": "stdout",
     "output_type": "stream",
     "text": [
      "\u001b[33mWARNING: \u001b[0m[410] Unable to download group\n"
     ]
    },
    {
     "name": "stderr",
     "output_type": "stream",
     "text": [
      "N/A% [                                                                       ] "
     ]
    },
    {
     "name": "stdout",
     "output_type": "stream",
     "text": [
      "\u001b[33mWARNING: \u001b[0m[410] Unable to download group\n"
     ]
    },
    {
     "name": "stderr",
     "output_type": "stream",
     "text": [
      "N/A% [                                                                       ] "
     ]
    },
    {
     "name": "stdout",
     "output_type": "stream",
     "text": [
      "\u001b[33mWARNING: \u001b[0m[410] Unable to download group\n"
     ]
    },
    {
     "name": "stderr",
     "output_type": "stream",
     "text": [
      "N/A% [                                                                       ] "
     ]
    },
    {
     "name": "stdout",
     "output_type": "stream",
     "text": [
      "\u001b[33mWARNING: \u001b[0m[410] Unable to download group\n"
     ]
    },
    {
     "name": "stderr",
     "output_type": "stream",
     "text": [
      "N/A% [                                                                       ] "
     ]
    },
    {
     "name": "stdout",
     "output_type": "stream",
     "text": [
      "\u001b[33mWARNING: \u001b[0m[410] Unable to download group\n"
     ]
    },
    {
     "name": "stderr",
     "output_type": "stream",
     "text": [
      "N/A% [                                                                       ] "
     ]
    },
    {
     "name": "stdout",
     "output_type": "stream",
     "text": [
      "\u001b[33mWARNING: \u001b[0m[410] Unable to download group\n"
     ]
    },
    {
     "name": "stderr",
     "output_type": "stream",
     "text": [
      "N/A% [                                                                       ] "
     ]
    },
    {
     "name": "stdout",
     "output_type": "stream",
     "text": [
      "\u001b[33mWARNING: \u001b[0m[410] Unable to download group\n"
     ]
    },
    {
     "name": "stderr",
     "output_type": "stream",
     "text": [
      "N/A% [                                                                       ] "
     ]
    },
    {
     "name": "stdout",
     "output_type": "stream",
     "text": [
      "\u001b[33mWARNING: \u001b[0m[410] Unable to download group\n"
     ]
    },
    {
     "name": "stderr",
     "output_type": "stream",
     "text": [
      "N/A% [                                                                       ] "
     ]
    },
    {
     "name": "stdout",
     "output_type": "stream",
     "text": [
      "\u001b[33mWARNING: \u001b[0m[410] Unable to download group\n"
     ]
    },
    {
     "name": "stderr",
     "output_type": "stream",
     "text": [
      "N/A% [                                                                       ] "
     ]
    },
    {
     "name": "stdout",
     "output_type": "stream",
     "text": [
      "\u001b[33mWARNING: \u001b[0m[410] Unable to download group\n"
     ]
    },
    {
     "name": "stderr",
     "output_type": "stream",
     "text": [
      "N/A% [                                                                       ] "
     ]
    },
    {
     "name": "stdout",
     "output_type": "stream",
     "text": [
      "\u001b[33mWARNING: \u001b[0m[410] Unable to download group\n"
     ]
    },
    {
     "name": "stderr",
     "output_type": "stream",
     "text": [
      "N/A% [                                                                       ] "
     ]
    },
    {
     "name": "stdout",
     "output_type": "stream",
     "text": [
      "\u001b[33mWARNING: \u001b[0m[410] Unable to download group\n"
     ]
    },
    {
     "name": "stderr",
     "output_type": "stream",
     "text": [
      "N/A% [                                                                       ] "
     ]
    },
    {
     "name": "stdout",
     "output_type": "stream",
     "text": [
      "\u001b[33mWARNING: \u001b[0m[410] Unable to download group\n"
     ]
    },
    {
     "name": "stderr",
     "output_type": "stream",
     "text": [
      "N/A% [                                                                       ] "
     ]
    },
    {
     "name": "stdout",
     "output_type": "stream",
     "text": [
      "\u001b[33mWARNING: \u001b[0m[410] Unable to download group\n"
     ]
    },
    {
     "name": "stderr",
     "output_type": "stream",
     "text": [
      "N/A% [                                                                       ] "
     ]
    },
    {
     "name": "stdout",
     "output_type": "stream",
     "text": [
      "\u001b[33mWARNING: \u001b[0m[410] Unable to download group\n"
     ]
    },
    {
     "name": "stderr",
     "output_type": "stream",
     "text": [
      "N/A% [                                                                       ] "
     ]
    },
    {
     "name": "stdout",
     "output_type": "stream",
     "text": [
      "\u001b[33mWARNING: \u001b[0m[410] Unable to download group\n"
     ]
    },
    {
     "name": "stderr",
     "output_type": "stream",
     "text": [
      "N/A% [                                                                       ] "
     ]
    },
    {
     "name": "stdout",
     "output_type": "stream",
     "text": [
      "\u001b[33mWARNING: \u001b[0m[410] Unable to download group\n"
     ]
    },
    {
     "name": "stderr",
     "output_type": "stream",
     "text": [
      "N/A% [                                                                       ] "
     ]
    },
    {
     "name": "stdout",
     "output_type": "stream",
     "text": [
      "\u001b[33mWARNING: \u001b[0m[410] Unable to download group\n"
     ]
    },
    {
     "name": "stderr",
     "output_type": "stream",
     "text": [
      "N/A% [                                                                       ] "
     ]
    },
    {
     "name": "stdout",
     "output_type": "stream",
     "text": [
      "\u001b[33mWARNING: \u001b[0m[410] Unable to download group\n"
     ]
    },
    {
     "name": "stderr",
     "output_type": "stream",
     "text": [
      "N/A% [                                                                       ] "
     ]
    },
    {
     "name": "stdout",
     "output_type": "stream",
     "text": [
      "\u001b[33mWARNING: \u001b[0m[410] Unable to download group\n"
     ]
    },
    {
     "name": "stderr",
     "output_type": "stream",
     "text": [
      "N/A% [                                                                       ] "
     ]
    },
    {
     "name": "stdout",
     "output_type": "stream",
     "text": [
      "\u001b[33mWARNING: \u001b[0m[410] Unable to download group\n"
     ]
    },
    {
     "name": "stderr",
     "output_type": "stream",
     "text": [
      "N/A% [                                                                       ] "
     ]
    },
    {
     "name": "stdout",
     "output_type": "stream",
     "text": [
      "\u001b[33mWARNING: \u001b[0m[410] Unable to download group\n"
     ]
    },
    {
     "name": "stderr",
     "output_type": "stream",
     "text": [
      "N/A% [                                                                       ] "
     ]
    },
    {
     "name": "stdout",
     "output_type": "stream",
     "text": [
      "\u001b[33mWARNING: \u001b[0m[410] Unable to download group\n"
     ]
    },
    {
     "name": "stderr",
     "output_type": "stream",
     "text": [
      "N/A% [                                                                       ] "
     ]
    },
    {
     "name": "stdout",
     "output_type": "stream",
     "text": [
      "\u001b[33mWARNING: \u001b[0m[410] Unable to download group\n"
     ]
    },
    {
     "name": "stderr",
     "output_type": "stream",
     "text": [
      "N/A% [                                                                       ] "
     ]
    },
    {
     "name": "stdout",
     "output_type": "stream",
     "text": [
      "\u001b[33mWARNING: \u001b[0m[410] Unable to download group\n"
     ]
    },
    {
     "name": "stderr",
     "output_type": "stream",
     "text": [
      "N/A% [                                                                       ] "
     ]
    },
    {
     "name": "stdout",
     "output_type": "stream",
     "text": [
      "\u001b[33mWARNING: \u001b[0m[410] Unable to download group\n"
     ]
    },
    {
     "name": "stderr",
     "output_type": "stream",
     "text": [
      "N/A% [                                                                       ] "
     ]
    },
    {
     "name": "stdout",
     "output_type": "stream",
     "text": [
      "\u001b[33mWARNING: \u001b[0m[410] Unable to download group\n"
     ]
    },
    {
     "name": "stderr",
     "output_type": "stream",
     "text": [
      "N/A% [                                                                       ] "
     ]
    },
    {
     "name": "stdout",
     "output_type": "stream",
     "text": [
      "\u001b[33mWARNING: \u001b[0m[410] Unable to download group\n"
     ]
    },
    {
     "name": "stderr",
     "output_type": "stream",
     "text": [
      "N/A% [                                                                       ] "
     ]
    },
    {
     "name": "stdout",
     "output_type": "stream",
     "text": [
      "\u001b[33mWARNING: \u001b[0m[410] Unable to download group\n"
     ]
    },
    {
     "name": "stderr",
     "output_type": "stream",
     "text": [
      "N/A% [                                                                       ] "
     ]
    },
    {
     "name": "stdout",
     "output_type": "stream",
     "text": [
      "\u001b[33mWARNING: \u001b[0m[410] Unable to download group\n"
     ]
    },
    {
     "name": "stderr",
     "output_type": "stream",
     "text": [
      "N/A% [                                                                       ] "
     ]
    },
    {
     "name": "stdout",
     "output_type": "stream",
     "text": [
      "\u001b[33mWARNING: \u001b[0m[410] Unable to download group\n"
     ]
    },
    {
     "name": "stderr",
     "output_type": "stream",
     "text": [
      "N/A% [                                                                       ] "
     ]
    },
    {
     "name": "stdout",
     "output_type": "stream",
     "text": [
      "\u001b[33mWARNING: \u001b[0m[410] Unable to download group\n"
     ]
    },
    {
     "name": "stderr",
     "output_type": "stream",
     "text": [
      "N/A% [                                                                       ] "
     ]
    },
    {
     "name": "stdout",
     "output_type": "stream",
     "text": [
      "\u001b[33mWARNING: \u001b[0m[410] Unable to download group\n"
     ]
    },
    {
     "name": "stderr",
     "output_type": "stream",
     "text": [
      "N/A% [                                                                       ] "
     ]
    },
    {
     "name": "stdout",
     "output_type": "stream",
     "text": [
      "\u001b[33mWARNING: \u001b[0m[410] Unable to download group\n"
     ]
    },
    {
     "name": "stderr",
     "output_type": "stream",
     "text": [
      "N/A% [                                                                       ] "
     ]
    },
    {
     "name": "stdout",
     "output_type": "stream",
     "text": [
      "\u001b[33mWARNING: \u001b[0m[410] Unable to download group\n"
     ]
    },
    {
     "name": "stderr",
     "output_type": "stream",
     "text": [
      "N/A% [                                                                       ] "
     ]
    },
    {
     "name": "stdout",
     "output_type": "stream",
     "text": [
      "\u001b[33mWARNING: \u001b[0m[410] Unable to download group\n"
     ]
    },
    {
     "name": "stderr",
     "output_type": "stream",
     "text": [
      "N/A% [                                                                       ] "
     ]
    },
    {
     "name": "stdout",
     "output_type": "stream",
     "text": [
      "\u001b[33mWARNING: \u001b[0m[410] Unable to download group\n"
     ]
    },
    {
     "name": "stderr",
     "output_type": "stream",
     "text": [
      "N/A% [                                                                       ] "
     ]
    },
    {
     "name": "stdout",
     "output_type": "stream",
     "text": [
      "\u001b[33mWARNING: \u001b[0m[410] Unable to download group\n"
     ]
    },
    {
     "name": "stderr",
     "output_type": "stream",
     "text": [
      "N/A% [                                                                       ] "
     ]
    },
    {
     "name": "stdout",
     "output_type": "stream",
     "text": [
      "\u001b[33mWARNING: \u001b[0m[410] Unable to download group\n"
     ]
    },
    {
     "name": "stderr",
     "output_type": "stream",
     "text": [
      "N/A% [                                                                       ] "
     ]
    },
    {
     "name": "stdout",
     "output_type": "stream",
     "text": [
      "\u001b[33mWARNING: \u001b[0m[410] Unable to download group\n"
     ]
    },
    {
     "name": "stderr",
     "output_type": "stream",
     "text": [
      "N/A% [                                                                       ] "
     ]
    },
    {
     "name": "stdout",
     "output_type": "stream",
     "text": [
      "\u001b[33mWARNING: \u001b[0m[410] Unable to download group\n"
     ]
    },
    {
     "name": "stderr",
     "output_type": "stream",
     "text": [
      "N/A% [                                                                       ] "
     ]
    },
    {
     "name": "stdout",
     "output_type": "stream",
     "text": [
      "\u001b[33mWARNING: \u001b[0m[410] Unable to download group\n"
     ]
    },
    {
     "name": "stderr",
     "output_type": "stream",
     "text": [
      "N/A% [                                                                       ] "
     ]
    },
    {
     "name": "stdout",
     "output_type": "stream",
     "text": [
      "\u001b[33mWARNING: \u001b[0m[410] Unable to download group\n"
     ]
    },
    {
     "name": "stderr",
     "output_type": "stream",
     "text": [
      "N/A% [                                                                       ] "
     ]
    },
    {
     "name": "stdout",
     "output_type": "stream",
     "text": [
      "\u001b[33mWARNING: \u001b[0m[410] Unable to download group\n"
     ]
    },
    {
     "name": "stderr",
     "output_type": "stream",
     "text": [
      "N/A% [                                                                       ] "
     ]
    },
    {
     "name": "stdout",
     "output_type": "stream",
     "text": [
      "\u001b[33mWARNING: \u001b[0m[410] Unable to download group\n"
     ]
    },
    {
     "name": "stderr",
     "output_type": "stream",
     "text": [
      "N/A% [                                                                       ] "
     ]
    },
    {
     "name": "stdout",
     "output_type": "stream",
     "text": [
      "\u001b[33mWARNING: \u001b[0m[410] Unable to download group\n"
     ]
    },
    {
     "name": "stderr",
     "output_type": "stream",
     "text": [
      "N/A% [                                                                       ] "
     ]
    },
    {
     "name": "stdout",
     "output_type": "stream",
     "text": [
      "\u001b[33mWARNING: \u001b[0m[410] Unable to download group\n"
     ]
    },
    {
     "name": "stderr",
     "output_type": "stream",
     "text": [
      "N/A% [                                                                       ] "
     ]
    },
    {
     "name": "stdout",
     "output_type": "stream",
     "text": [
      "\u001b[33mWARNING: \u001b[0m[410] Unable to download group\n"
     ]
    },
    {
     "name": "stderr",
     "output_type": "stream",
     "text": [
      "N/A% [                                                                       ] "
     ]
    },
    {
     "name": "stdout",
     "output_type": "stream",
     "text": [
      "\u001b[33mWARNING: \u001b[0m[410] Unable to download group\n"
     ]
    },
    {
     "name": "stderr",
     "output_type": "stream",
     "text": [
      "N/A% [                                                                       ] "
     ]
    },
    {
     "name": "stdout",
     "output_type": "stream",
     "text": [
      "\u001b[33mWARNING: \u001b[0m[410] Unable to download group\n"
     ]
    },
    {
     "name": "stderr",
     "output_type": "stream",
     "text": [
      "N/A% [                                                                       ] "
     ]
    },
    {
     "name": "stdout",
     "output_type": "stream",
     "text": [
      "\u001b[33mWARNING: \u001b[0m[410] Unable to download group\n"
     ]
    },
    {
     "name": "stderr",
     "output_type": "stream",
     "text": [
      "N/A% [                                                                       ] "
     ]
    },
    {
     "name": "stdout",
     "output_type": "stream",
     "text": [
      "\u001b[33mWARNING: \u001b[0m[410] Unable to download group\n"
     ]
    },
    {
     "name": "stderr",
     "output_type": "stream",
     "text": [
      "N/A% [                                                                       ] "
     ]
    },
    {
     "name": "stdout",
     "output_type": "stream",
     "text": [
      "\u001b[33mWARNING: \u001b[0m[410] Unable to download group\n"
     ]
    },
    {
     "name": "stderr",
     "output_type": "stream",
     "text": [
      "N/A% [                                                                       ] "
     ]
    },
    {
     "name": "stdout",
     "output_type": "stream",
     "text": [
      "\u001b[33mWARNING: \u001b[0m[410] Unable to download group\n"
     ]
    },
    {
     "name": "stderr",
     "output_type": "stream",
     "text": [
      "N/A% [                                                                       ] "
     ]
    },
    {
     "name": "stdout",
     "output_type": "stream",
     "text": [
      "\u001b[33mWARNING: \u001b[0m[410] Unable to download group\n"
     ]
    },
    {
     "name": "stderr",
     "output_type": "stream",
     "text": [
      "N/A% [                                                                       ] "
     ]
    },
    {
     "name": "stdout",
     "output_type": "stream",
     "text": [
      "\u001b[33mWARNING: \u001b[0m[410] Unable to download group\n"
     ]
    },
    {
     "name": "stderr",
     "output_type": "stream",
     "text": [
      "N/A% [                                                                       ] "
     ]
    },
    {
     "name": "stdout",
     "output_type": "stream",
     "text": [
      "\u001b[33mWARNING: \u001b[0m[410] Unable to download group\n"
     ]
    },
    {
     "name": "stderr",
     "output_type": "stream",
     "text": [
      "N/A% [                                                                       ] "
     ]
    },
    {
     "name": "stdout",
     "output_type": "stream",
     "text": [
      "\u001b[33mWARNING: \u001b[0m[410] Unable to download group\n"
     ]
    },
    {
     "name": "stderr",
     "output_type": "stream",
     "text": [
      "N/A% [                                                                       ] "
     ]
    },
    {
     "name": "stdout",
     "output_type": "stream",
     "text": [
      "\u001b[33mWARNING: \u001b[0m[410] Unable to download group\n"
     ]
    },
    {
     "name": "stderr",
     "output_type": "stream",
     "text": [
      "N/A% [                                                                       ] "
     ]
    },
    {
     "name": "stdout",
     "output_type": "stream",
     "text": [
      "\u001b[33mWARNING: \u001b[0m[410] Unable to download group\n"
     ]
    },
    {
     "name": "stderr",
     "output_type": "stream",
     "text": [
      "N/A% [                                                                       ] "
     ]
    },
    {
     "name": "stdout",
     "output_type": "stream",
     "text": [
      "\u001b[33mWARNING: \u001b[0m[410] Unable to download group\n"
     ]
    },
    {
     "name": "stderr",
     "output_type": "stream",
     "text": [
      "N/A% [                                                                       ] "
     ]
    },
    {
     "name": "stdout",
     "output_type": "stream",
     "text": [
      "\u001b[33mWARNING: \u001b[0m[410] Unable to download group\n"
     ]
    },
    {
     "name": "stderr",
     "output_type": "stream",
     "text": [
      "N/A% [                                                                       ] "
     ]
    },
    {
     "name": "stdout",
     "output_type": "stream",
     "text": [
      "\u001b[33mWARNING: \u001b[0m[410] Unable to download group\n"
     ]
    },
    {
     "name": "stderr",
     "output_type": "stream",
     "text": [
      "N/A% [                                                                       ] "
     ]
    },
    {
     "name": "stdout",
     "output_type": "stream",
     "text": [
      "\u001b[33mWARNING: \u001b[0m[410] Unable to download group\n"
     ]
    },
    {
     "name": "stderr",
     "output_type": "stream",
     "text": [
      "N/A% [                                                                       ] "
     ]
    },
    {
     "name": "stdout",
     "output_type": "stream",
     "text": [
      "\u001b[33mWARNING: \u001b[0m[410] Unable to download group\n"
     ]
    },
    {
     "name": "stderr",
     "output_type": "stream",
     "text": [
      "N/A% [                                                                       ] "
     ]
    },
    {
     "name": "stdout",
     "output_type": "stream",
     "text": [
      "\u001b[33mWARNING: \u001b[0m[410] Unable to download group\n"
     ]
    },
    {
     "name": "stderr",
     "output_type": "stream",
     "text": [
      "N/A% [                                                                       ] "
     ]
    },
    {
     "name": "stdout",
     "output_type": "stream",
     "text": [
      "\u001b[33mWARNING: \u001b[0m[410] Unable to download group\n"
     ]
    },
    {
     "name": "stderr",
     "output_type": "stream",
     "text": [
      "N/A% [                                                                       ] "
     ]
    },
    {
     "name": "stdout",
     "output_type": "stream",
     "text": [
      "\u001b[33mWARNING: \u001b[0m[410] Unable to download group\n"
     ]
    },
    {
     "name": "stderr",
     "output_type": "stream",
     "text": [
      "N/A% [                                                                       ] "
     ]
    },
    {
     "name": "stdout",
     "output_type": "stream",
     "text": [
      "\u001b[33mWARNING: \u001b[0m[410] Unable to download group\n"
     ]
    },
    {
     "name": "stderr",
     "output_type": "stream",
     "text": [
      "N/A% [                                                                       ] "
     ]
    },
    {
     "name": "stdout",
     "output_type": "stream",
     "text": [
      "\u001b[33mWARNING: \u001b[0m[410] Unable to download group\n"
     ]
    },
    {
     "name": "stderr",
     "output_type": "stream",
     "text": [
      "N/A% [                                                                       ] "
     ]
    },
    {
     "name": "stdout",
     "output_type": "stream",
     "text": [
      "\u001b[33mWARNING: \u001b[0m[410] Unable to download group\n"
     ]
    },
    {
     "name": "stderr",
     "output_type": "stream",
     "text": [
      "N/A% [                                                                       ] "
     ]
    },
    {
     "name": "stdout",
     "output_type": "stream",
     "text": [
      "\u001b[33mWARNING: \u001b[0m[410] Unable to download group\n"
     ]
    },
    {
     "name": "stderr",
     "output_type": "stream",
     "text": [
      "N/A% [                                                                       ] "
     ]
    },
    {
     "name": "stdout",
     "output_type": "stream",
     "text": [
      "\u001b[33mWARNING: \u001b[0m[410] Unable to download group\n",
      "100% [############################################] Time:  0:00:02   1.4 MiB/s \n",
      "100% [############################################] Time:  0:00:02   6.0 MiB/s \n",
      "100% [############################################] Time:  0:00:02   5.4 MiB/s \n",
      "100% [############################################] Time:  0:00:02   7.6 MiB/s \n",
      "100% [############################################] Time:  0:00:00  52.6 KiB/s \n",
      "100% [############################################] Time:  0:00:00  57.9 KiB/s \n",
      "100% [############################################] Time:  0:00:03   1.3 MiB/s \n",
      "100% [############################################] Time:  0:00:03   7.0 MiB/s \n",
      "100% [############################################] Time:  0:00:02   1.5 MiB/s \n",
      "100% [############################################] Time:  0:00:02   5.7 MiB/s \n",
      "100% [############################################] Time:  0:00:02   5.2 MiB/s \n",
      "100% [############################################] Time:  0:00:02   1.4 MiB/s \n",
      "100% [############################################] Time:  0:00:00  55.5 KiB/s \n",
      "100% [############################################] Time:  0:00:02   1.4 MiB/s \n",
      "100% [############################################] Time:  0:00:02   5.5 MiB/s \n",
      "100% [############################################] Time:  0:00:02   6.1 MiB/s \n",
      "100% [############################################] Time:  0:00:02   1.3 MiB/s \n",
      "100% [############################################] Time:  0:00:02   8.7 MiB/s \n",
      "100% [############################################] Time:  0:00:03   1.3 MiB/s \n",
      "100% [############################################] Time:  0:00:02   6.0 MiB/s \n",
      "100% [############################################] Time:  0:00:00 174.0 KiB/s \n",
      "100% [############################################] Time:  0:00:02   1.4 MiB/s \n",
      "100% [############################################] Time:  0:00:02   6.0 MiB/s \n",
      "100% [############################################] Time:  0:00:02   7.2 MiB/s \n",
      "100% [############################################] Time:  0:00:02   1.4 MiB/s \n",
      "100% [############################################] Time:  0:00:03   1.2 MiB/s \n",
      "100% [############################################] Time:  0:00:02   1.4 MiB/s \n",
      "100% [############################################] Time:  0:00:01   6.9 MiB/s \n",
      "100% [############################################] Time:  0:00:02   1.6 MiB/s \n",
      "100% [############################################] Time:  0:00:02   8.6 MiB/s \n",
      "100% [############################################] Time:  0:00:03   6.7 MiB/s \n",
      "100% [############################################] Time:  0:00:01 894.8 KiB/s \n",
      "100% [############################################] Time:  0:00:03   1.3 MiB/s \n",
      "100% [############################################] Time:  0:00:02   4.9 MiB/s \n",
      "100% [############################################] Time:  0:00:02   1.4 MiB/s \n",
      "100% [############################################] Time:  0:00:02   1.7 MiB/s \n",
      "100% [############################################] Time:  0:00:02   5.8 MiB/s \n",
      "100% [############################################] Time:  0:00:02   1.4 MiB/s \n",
      "100% [############################################] Time:  0:00:02   1.2 MiB/s \n",
      "100% [############################################] Time:  0:00:02   1.6 MiB/s \n",
      "100% [############################################] Time:  0:00:02   1.6 MiB/s \n",
      "100% [############################################] Time:  0:00:03   7.1 MiB/s \n",
      "100% [############################################] Time:  0:00:02   5.2 MiB/s \n",
      "100% [############################################] Time:  0:00:02   5.6 MiB/s \n",
      "100% [############################################] Time:  0:00:02   5.2 MiB/s \n",
      "100% [############################################] Time:  0:00:02   5.7 MiB/s \n",
      "100% [############################################] Time:  0:00:02   5.7 MiB/s \n",
      "100% [############################################] Time:  0:00:02   1.2 MiB/s \n",
      "100% [############################################] Time:  0:00:02   5.4 MiB/s \n",
      "100% [############################################] Time:  0:00:02   1.5 MiB/s \n",
      "100% [############################################] Time:  0:00:03   1.0 MiB/s \n",
      "100% [############################################] Time:  0:00:02   5.4 MiB/s \n",
      "100% [############################################] Time:  0:00:03   1.0 MiB/s \n",
      "100% [############################################] Time:  0:00:00  59.1 KiB/s \n",
      "100% [############################################] Time:  0:00:00  74.8 KiB/s \n",
      "100% [############################################] Time:  0:00:02   5.2 MiB/s \n",
      "100% [############################################] Time:  0:00:02   1.5 MiB/s \n",
      "100% [############################################] Time:  0:00:02   7.7 MiB/s \n",
      "100% [############################################] Time:  0:00:00  34.5 KiB/s \n",
      "100% [############################################] Time:  0:00:02   1.3 MiB/s \n",
      "100% [############################################] Time:  0:00:03   1.0 MiB/s \n",
      "100% [############################################] Time:  0:00:02   5.2 MiB/s \n",
      "100% [############################################] Time:  0:00:02   1.2 MiB/s \n",
      "100% [############################################] Time:  0:00:02   1.1 MiB/s \n",
      "100% [############################################] Time:  0:00:02   1.4 MiB/s \n",
      "100% [############################################] Time:  0:00:02   8.0 MiB/s \n",
      "100% [############################################] Time:  0:00:02   1.6 MiB/s \n",
      "100% [############################################] Time:  0:00:03   6.8 MiB/s \n",
      "100% [############################################] Time:  0:00:02   5.7 MiB/s \n",
      "100% [############################################] Time:  0:00:02   5.7 MiB/s \n",
      "100% [############################################] Time:  0:00:03   1.3 MiB/s \n",
      "100% [############################################] Time:  0:00:02   5.8 MiB/s \n",
      "100% [############################################] Time:  0:00:02   1.1 MiB/s \n",
      "100% [############################################] Time:  0:00:02   4.7 MiB/s \n",
      "100% [############################################] Time:  0:00:02   5.4 MiB/s \n",
      "100% [############################################] Time:  0:00:02   1.4 MiB/s \n",
      "100% [############################################] Time:  0:00:03   1.3 MiB/s \n",
      "100% [############################################] Time:  0:00:02   1.1 MiB/s \n",
      "100% [############################################] Time:  0:00:00  61.6 KiB/s \n",
      "100% [############################################] Time:  0:00:02   5.0 MiB/s \n",
      "100% [############################################] Time:  0:00:02   5.0 MiB/s \n",
      "100% [############################################] Time:  0:00:02   5.5 MiB/s \n",
      "100% [############################################] Time:  0:00:00  37.1 KiB/s \n",
      "100% [############################################] Time:  0:00:03   6.4 MiB/s \n",
      "100% [############################################] Time:  0:00:00  88.0 KiB/s \n",
      "100% [############################################] Time:  0:00:03   1.3 MiB/s \n",
      "100% [############################################] Time:  0:00:03   1.1 MiB/s \n",
      "100% [############################################] Time:  0:00:03   1.1 MiB/s \n",
      "100% [############################################] Time:  0:00:02   5.1 MiB/s \n",
      "100% [############################################] Time:  0:00:02   8.1 MiB/s \n",
      "100% [############################################] Time:  0:00:02   7.6 MiB/s \n",
      "100% [############################################] Time:  0:00:02   5.6 MiB/s \n",
      "100% [############################################] Time:  0:00:02   5.2 MiB/s \n",
      "100% [############################################] Time:  0:00:02   5.4 MiB/s \n",
      "100% [############################################] Time:  0:00:02   1.3 MiB/s \n",
      "100% [############################################] Time:  0:00:02   1.5 MiB/s \n",
      "100% [############################################] Time:  0:00:00  64.6 KiB/s \n",
      "100% [############################################] Time:  0:00:03   4.0 MiB/s \n",
      "100% [############################################] Time:  0:00:02   4.9 MiB/s \n",
      "100% [############################################] Time:  0:00:03   7.2 MiB/s \n",
      "100% [############################################] Time:  0:00:02   6.0 MiB/s \n",
      "100% [############################################] Time:  0:00:02   5.1 MiB/s \n",
      "100% [############################################] Time:  0:00:02   5.6 MiB/s \n",
      "100% [############################################] Time:  0:00:02   1.2 MiB/s \n",
      "100% [############################################] Time:  0:00:00  30.7 KiB/s \n",
      "100% [############################################] Time:  0:00:03   7.0 MiB/s \n",
      "100% [############################################] Time:  0:00:02   1.5 MiB/s \n",
      "100% [############################################] Time:  0:00:00  36.4 KiB/s \n",
      "100% [############################################] Time:  0:00:03   6.2 MiB/s \n",
      "100% [############################################] Time:  0:00:02   1.1 MiB/s \n",
      "100% [############################################] Time:  0:00:02   1.5 MiB/s \n",
      "100% [############################################] Time:  0:00:01 510.5 KiB/s \n",
      "100% [############################################] Time:  0:00:02   5.1 MiB/s \n",
      "100% [############################################] Time:  0:00:02   7.7 MiB/s \n",
      "100% [############################################] Time:  0:00:01   6.6 MiB/s \n",
      "100% [############################################] Time:  0:00:02   5.2 MiB/s \n",
      "100% [############################################] Time:  0:00:03   6.6 MiB/s \n",
      "100% [############################################] Time:  0:00:02   1.3 MiB/s \n",
      "100% [############################################] Time:  0:00:02   6.3 MiB/s \n",
      "100% [############################################] Time:  0:00:02   7.3 MiB/s \n",
      "100% [############################################] Time:  0:00:00  77.0 KiB/s \n",
      "100% [############################################] Time:  0:00:02   7.1 MiB/s \n",
      "100% [############################################] Time:  0:00:02   1.3 MiB/s \n",
      "100% [############################################] Time:  0:00:02   5.0 MiB/s \n",
      "100% [############################################] Time:  0:00:02   1.3 MiB/s \n",
      "100% [############################################] Time:  0:00:02   8.6 MiB/s \n",
      "100% [############################################] Time:  0:00:02   6.1 MiB/s \n",
      "100% [############################################] Time:  0:00:03   6.9 MiB/s \n",
      "100% [############################################] Time:  0:00:02   1.1 MiB/s \n",
      "100% [############################################] Time:  0:00:02   5.2 MiB/s \n",
      "100% [############################################] Time:  0:00:03   7.3 MiB/s \n",
      "100% [############################################] Time:  0:00:02   1.3 MiB/s \n",
      "100% [############################################] Time:  0:00:02   5.4 MiB/s \n",
      "100% [############################################] Time:  0:00:03   1.2 MiB/s \n",
      "100% [############################################] Time:  0:00:02   8.3 MiB/s \n",
      "100% [############################################] Time:  0:00:03   6.6 MiB/s \n",
      "100% [############################################] Time:  0:00:03   4.3 MiB/s \n",
      "100% [############################################] Time:  0:00:02   1.4 MiB/s \n",
      "100% [############################################] Time:  0:00:00  14.4 KiB/s \n",
      "100% [############################################] Time:  0:00:02   1.3 MiB/s \n",
      "100% [############################################] Time:  0:00:03   1.3 MiB/s \n",
      "100% [############################################] Time:  0:00:02   1.6 MiB/s \n",
      "100% [############################################] Time:  0:00:02   1.6 MiB/s \n",
      "100% [############################################] Time:  0:00:01   1.7 MiB/s \n",
      "100% [############################################] Time:  0:00:02   1.2 MiB/s \n",
      "100% [############################################] Time:  0:00:02   1.5 MiB/s \n",
      "100% [############################################] Time:  0:00:02   8.2 MiB/s \n",
      "100% [############################################] Time:  0:00:02   5.2 MiB/s \n",
      "100% [############################################] Time:  0:00:03   1.0 MiB/s \n",
      "100% [############################################] Time:  0:00:03   1.3 MiB/s \n",
      "100% [############################################] Time:  0:00:02   6.1 MiB/s \n",
      "100% [############################################] Time:  0:00:02   5.3 MiB/s \n",
      "100% [############################################] Time:  0:00:02   4.8 MiB/s \n",
      "100% [############################################] Time:  0:00:03   1.2 MiB/s \n",
      "100% [############################################] Time:  0:00:02   1.2 MiB/s \n",
      "100% [############################################] Time:  0:00:00  69.9 KiB/s \n",
      "100% [############################################] Time:  0:00:02   7.4 MiB/s \n",
      "100% [############################################] Time:  0:00:02   4.9 MiB/s \n",
      "100% [############################################] Time:  0:00:02   1.6 MiB/s \n",
      "100% [############################################] Time:  0:00:02   1.7 MiB/s \n",
      "100% [############################################] Time:  0:00:02   1.4 MiB/s \n",
      "100% [############################################] Time:  0:00:02   1.5 MiB/s \n",
      "100% [############################################] Time:  0:00:03   7.1 MiB/s \n",
      "100% [############################################] Time:  0:00:02   1.5 MiB/s \n",
      "100% [############################################] Time:  0:00:03   1.2 MiB/s \n",
      "100% [############################################] Time:  0:00:02   5.2 MiB/s \n",
      "100% [############################################] Time:  0:00:02   1.3 MiB/s \n",
      "100% [############################################] Time:  0:00:02   1.4 MiB/s \n",
      "100% [############################################] Time:  0:00:01 336.1 KiB/s \n",
      "100% [############################################] Time:  0:00:02   1.1 MiB/s \n",
      "100% [############################################] Time:  0:00:02   1.4 MiB/s \n",
      "100% [############################################] Time:  0:00:02   1.2 MiB/s \n",
      "100% [############################################] Time:  0:00:02   4.6 MiB/s \n",
      "100% [############################################] Time:  0:00:03   1.3 MiB/s \n",
      "100% [############################################] Time:  0:00:03   6.6 MiB/s \n",
      "100% [############################################] Time:  0:00:02   7.4 MiB/s \n",
      "100% [############################################] Time:  0:00:02   6.1 MiB/s \n",
      "100% [############################################] Time:  0:00:03   1.2 MiB/s \n",
      "100% [############################################] Time:  0:00:02   1.1 MiB/s \n",
      "100% [############################################] Time:  0:00:02   1.1 MiB/s \n",
      "100% [############################################] Time:  0:00:02   5.0 MiB/s \n",
      "100% [############################################] Time:  0:00:03   7.4 MiB/s \n",
      "100% [############################################] Time:  0:00:02   5.0 MiB/s \n",
      "100% [###########################################] Time:  0:00:03 1018.4 KiB/s \n",
      "100% [############################################] Time:  0:00:03   1.3 MiB/s \n",
      "100% [############################################] Time:  0:00:03   1.3 MiB/s \n",
      "100% [############################################] Time:  0:00:03   1.0 MiB/s \n",
      "100% [############################################] Time:  0:00:02   1.6 MiB/s \n",
      "100% [############################################] Time:  0:00:02   1.5 MiB/s \n",
      "100% [############################################] Time:  0:00:02   5.2 MiB/s \n",
      "100% [############################################] Time:  0:00:02   4.9 MiB/s \n",
      "100% [############################################] Time:  0:00:02   1.5 MiB/s \n",
      "100% [############################################] Time:  0:00:00   6.8 KiB/s \n",
      "100% [############################################] Time:  0:00:02   5.1 MiB/s \n",
      "100% [############################################] Time:  0:00:03   1.2 MiB/s \n",
      "100% [############################################] Time:  0:00:03   1.1 MiB/s \n",
      "100% [############################################] Time:  0:00:02   5.3 MiB/s \n",
      "100% [############################################] Time:  0:00:02   5.5 MiB/s \n",
      "100% [############################################] Time:  0:00:02   5.9 MiB/s \n",
      "100% [############################################] Time:  0:00:02   1.7 MiB/s \n",
      "100% [############################################] Time:  0:00:03   1.3 MiB/s \n",
      "100% [############################################] Time:  0:00:02   1.4 MiB/s \n",
      "100% [############################################] Time:  0:00:01   7.8 MiB/s \n",
      "100% [############################################] Time:  0:00:02   5.4 MiB/s \n",
      "100% [############################################] Time:  0:00:00  73.8 KiB/s \n",
      "100% [############################################] Time:  0:00:02   4.9 MiB/s \n",
      "100% [############################################] Time:  0:00:03   1.2 MiB/s \n",
      "100% [############################################] Time:  0:00:03   3.9 MiB/s \n",
      "100% [############################################] Time:  0:00:00 200.2 KiB/s \n",
      "100% [############################################] Time:  0:00:02   5.2 MiB/s \n",
      "100% [############################################] Time:  0:00:03   6.0 MiB/s \n",
      "100% [############################################] Time:  0:00:02   5.7 MiB/s \n",
      "100% [############################################] Time:  0:00:03   1.0 MiB/s \n",
      "100% [############################################] Time:  0:00:02   1.2 MiB/s \n",
      "100% [############################################] Time:  0:00:03   1.2 MiB/s \n",
      "100% [############################################] Time:  0:00:02   4.7 MiB/s \n",
      "100% [############################################] Time:  0:00:03   1.1 MiB/s \n",
      "100% [############################################] Time:  0:00:02   5.0 MiB/s \n",
      "100% [############################################] Time:  0:00:02   8.0 MiB/s \n",
      "100% [############################################] Time:  0:00:02   4.9 MiB/s \n",
      "100% [############################################] Time:  0:00:02   5.5 MiB/s \n",
      "100% [############################################] Time:  0:00:02   5.6 MiB/s \n",
      "100% [############################################] Time:  0:00:02   1.2 MiB/s \n",
      "100% [############################################] Time:  0:00:03   1.3 MiB/s \n",
      "100% [############################################] Time:  0:00:02   1.1 MiB/s \n",
      "100% [############################################] Time:  0:00:02   1.3 MiB/s \n",
      "100% [############################################] Time:  0:00:00  52.0 KiB/s \n",
      "100% [############################################] Time:  0:00:02   4.8 MiB/s \n",
      "100% [############################################] Time:  0:00:02   4.8 MiB/s \n",
      "100% [############################################] Time:  0:00:02   5.5 MiB/s \n",
      "100% [############################################] Time:  0:00:02   4.8 MiB/s \n",
      "100% [############################################] Time:  0:00:00 148.2 KiB/s \n",
      "100% [############################################] Time:  0:00:03   1.1 MiB/s \n",
      "100% [############################################] Time:  0:00:02   5.7 MiB/s \n",
      "100% [############################################] Time:  0:00:02   1.4 MiB/s \n",
      "100% [############################################] Time:  0:00:02   1.5 MiB/s \n",
      "100% [############################################] Time:  0:00:03   1.1 MiB/s \n",
      "100% [############################################] Time:  0:00:03   1.1 MiB/s \n",
      "100% [############################################] Time:  0:00:02   1.1 MiB/s \n",
      "100% [############################################] Time:  0:00:00  25.8 KiB/s \n",
      "100% [############################################] Time:  0:00:03   7.4 MiB/s \n",
      "100% [############################################] Time:  0:00:02   7.5 MiB/s \n",
      "100% [############################################] Time:  0:00:01 751.1 KiB/s \n",
      "100% [############################################] Time:  0:00:02   7.4 MiB/s \n",
      "100% [############################################] Time:  0:00:00  22.6 KiB/s \n",
      "100% [############################################] Time:  0:00:02   7.4 MiB/s \n",
      "100% [############################################] Time:  0:00:02   9.4 MiB/s \n",
      "100% [############################################] Time:  0:00:02   9.1 MiB/s \n",
      "100% [############################################] Time:  0:00:00  28.5 KiB/s \n",
      "100% [############################################] Time:  0:00:02   1.2 MiB/s \n",
      "100% [############################################] Time:  0:00:02   1.2 MiB/s \n",
      "100% [############################################] Time:  0:00:02   9.1 MiB/s \n",
      "100% [############################################] Time:  0:00:02   5.4 MiB/s \n",
      "100% [############################################] Time:  0:00:02   1.7 MiB/s \n",
      "100% [############################################] Time:  0:00:02   7.2 MiB/s \n",
      "100% [############################################] Time:  0:00:02   1.3 MiB/s \n",
      "100% [############################################] Time:  0:00:02   1.4 MiB/s \n",
      "100% [############################################] Time:  0:00:02   6.3 MiB/s \n",
      "100% [############################################] Time:  0:00:02   5.4 MiB/s \n",
      "100% [############################################] Time:  0:00:03   1.1 MiB/s \n",
      "100% [############################################] Time:  0:00:02   5.6 MiB/s \n",
      "100% [############################################] Time:  0:00:02   1.5 MiB/s \n",
      "100% [############################################] Time:  0:00:02   1.2 MiB/s \n",
      "100% [############################################] Time:  0:00:03   6.2 MiB/s \n",
      "100% [############################################] Time:  0:00:02   1.4 MiB/s \n",
      "100% [############################################] Time:  0:00:02   1.5 MiB/s \n",
      "100% [############################################] Time:  0:00:03   6.8 MiB/s \n",
      "100% [############################################] Time:  0:00:02   1.5 MiB/s \n",
      "100% [############################################] Time:  0:00:02   1.2 MiB/s \n",
      "100% [############################################] Time:  0:00:02   6.0 MiB/s \n",
      "100% [############################################] Time:  0:00:03   6.9 MiB/s \n",
      "100% [############################################] Time:  0:00:02   5.1 MiB/s \n",
      "100% [############################################] Time:  0:00:03   6.9 MiB/s \n",
      "100% [############################################] Time:  0:00:03   1.3 MiB/s \n",
      "100% [############################################] Time:  0:00:03   1.2 MiB/s \n",
      "100% [############################################] Time:  0:00:02   1.5 MiB/s \n",
      "100% [############################################] Time:  0:00:02   5.8 MiB/s \n",
      "100% [############################################] Time:  0:00:01 497.1 KiB/s \n",
      "100% [############################################] Time:  0:00:00  58.7 KiB/s \n",
      "100% [############################################] Time:  0:00:02   7.9 MiB/s \n",
      "100% [############################################] Time:  0:00:02   7.7 MiB/s \n",
      "100% [############################################] Time:  0:00:02   8.2 MiB/s \n",
      "100% [############################################] Time:  0:00:02   7.9 MiB/s \n",
      "100% [############################################] Time:  0:00:02   1.1 MiB/s \n",
      "100% [############################################] Time:  0:00:02   1.6 MiB/s \n",
      "100% [############################################] Time:  0:00:00 102.7 KiB/s \n",
      "100% [############################################] Time:  0:00:02   1.2 MiB/s \n",
      "100% [############################################] Time:  0:00:03   1.2 MiB/s \n",
      "100% [############################################] Time:  0:00:03 983.8 KiB/s \n",
      "100% [############################################] Time:  0:00:03   7.2 MiB/s \n",
      "100% [############################################] Time:  0:00:02   5.1 MiB/s \n",
      "100% [############################################] Time:  0:00:02   4.9 MiB/s \n",
      "100% [############################################] Time:  0:00:02   5.0 MiB/s \n",
      "100% [############################################] Time:  0:00:00  91.7 KiB/s \n",
      "100% [############################################] Time:  0:00:02   4.6 MiB/s \n",
      "100% [############################################] Time:  0:00:02   1.4 MiB/s \n",
      "100% [############################################] Time:  0:00:02   1.5 MiB/s \n",
      "100% [############################################] Time:  0:00:03   6.9 MiB/s \n",
      "100% [############################################] Time:  0:00:02   5.5 MiB/s \n",
      "100% [############################################] Time:  0:00:02   1.2 MiB/s \n",
      "100% [############################################] Time:  0:00:02   6.1 MiB/s \n",
      "100% [############################################] Time:  0:00:02   5.3 MiB/s \n",
      "100% [############################################] Time:  0:00:02   1.5 MiB/s \n",
      "100% [############################################] Time:  0:00:03   1.1 MiB/s \n",
      "100% [############################################] Time:  0:00:02   8.7 MiB/s \n",
      "100% [############################################] Time:  0:00:02   1.6 MiB/s \n",
      "100% [############################################] Time:  0:00:02   9.4 MiB/s \n",
      "100% [############################################] Time:  0:00:02   1.4 MiB/s \n",
      "100% [############################################] Time:  0:00:02   1.7 MiB/s \n",
      "100% [############################################] Time:  0:00:02   1.4 MiB/s \n",
      "100% [############################################] Time:  0:00:02   6.4 MiB/s \n",
      "100% [############################################] Time:  0:00:02   7.5 MiB/s \n",
      "100% [############################################] Time:  0:00:02   5.7 MiB/s \n",
      "100% [############################################] Time:  0:00:02   5.2 MiB/s \n",
      "100% [############################################] Time:  0:00:02   7.7 MiB/s \n",
      "100% [############################################] Time:  0:00:02   1.4 MiB/s \n",
      "100% [############################################] Time:  0:00:01   6.6 MiB/s \n",
      "100% [############################################] Time:  0:00:02   5.6 MiB/s \n",
      "100% [############################################] Time:  0:00:02   5.3 MiB/s \n",
      "100% [############################################] Time:  0:00:02   1.6 MiB/s \n",
      "100% [############################################] Time:  0:00:02   6.5 MiB/s \n",
      "100% [############################################] Time:  0:00:02   1.7 MiB/s \n",
      "100% [############################################] Time:  0:00:02   6.2 MiB/s \n",
      "100% [############################################] Time:  0:00:02   1.2 MiB/s \n",
      "100% [############################################] Time:  0:00:02   1.3 MiB/s \n",
      "100% [############################################] Time:  0:00:02   1.2 MiB/s \n",
      "100% [############################################] Time:  0:00:02   1.5 MiB/s \n",
      "100% [############################################] Time:  0:00:02   1.5 MiB/s \n",
      "100% [############################################] Time:  0:00:02   5.1 MiB/s \n",
      "100% [############################################] Time:  0:00:02   5.1 MiB/s \n",
      "100% [############################################] Time:  0:00:00  63.2 KiB/s \n",
      "100% [############################################] Time:  0:00:02   5.1 MiB/s \n",
      "100% [############################################] Time:  0:00:02   5.4 MiB/s \n",
      "100% [############################################] Time:  0:00:02   1.6 MiB/s \n",
      "100% [############################################] Time:  0:00:02   1.7 MiB/s \n",
      "100% [############################################] Time:  0:00:02   7.7 MiB/s \n",
      "100% [############################################] Time:  0:00:02   1.6 MiB/s \n",
      "100% [############################################] Time:  0:00:02   6.1 MiB/s \n",
      "100% [############################################] Time:  0:00:02   1.9 MiB/s \n",
      "100% [############################################] Time:  0:00:02   1.5 MiB/s \n",
      "100% [############################################] Time:  0:00:02   8.4 MiB/s \n",
      "100% [############################################] Time:  0:00:02   1.3 MiB/s \n",
      "100% [############################################] Time:  0:00:02   1.5 MiB/s \n",
      "100% [############################################] Time:  0:00:01   1.8 MiB/s \n",
      "100% [############################################] Time:  0:00:02   1.4 MiB/s \n",
      "100% [############################################] Time:  0:00:02   8.1 MiB/s \n",
      "100% [############################################] Time:  0:00:02   5.5 MiB/s \n",
      "100% [############################################] Time:  0:00:02   5.1 MiB/s \n",
      "100% [############################################] Time:  0:00:02   4.8 MiB/s \n",
      "100% [############################################] Time:  0:00:02   5.1 MiB/s \n",
      "100% [############################################] Time:  0:00:03   1.3 MiB/s \n",
      "100% [############################################] Time:  0:00:02   8.4 MiB/s \n",
      "100% [############################################] Time:  0:00:02   5.2 MiB/s \n",
      "100% [############################################] Time:  0:00:00  98.0 KiB/s \n",
      "100% [############################################] Time:  0:00:02   1.4 MiB/s \n",
      "100% [############################################] Time:  0:00:02   1.4 MiB/s \n",
      "100% [############################################] Time:  0:00:00  44.9 KiB/s \n",
      "100% [############################################] Time:  0:00:03   6.9 MiB/s \n",
      "100% [############################################] Time:  0:00:02   1.2 MiB/s \n",
      "100% [############################################] Time:  0:00:02   1.2 MiB/s \n",
      "100% [############################################] Time:  0:00:02   1.8 MiB/s \n",
      "100% [############################################] Time:  0:00:02   8.7 MiB/s \n",
      "100% [############################################] Time:  0:00:02   5.4 MiB/s \n",
      "100% [############################################] Time:  0:00:02   5.0 MiB/s \n",
      "100% [############################################] Time:  0:00:02   4.7 MiB/s \n",
      "100% [############################################] Time:  0:00:02   1.3 MiB/s \n",
      "100% [############################################] Time:  0:00:02   5.5 MiB/s \n",
      "100% [############################################] Time:  0:00:02   1.4 MiB/s \n",
      "100% [############################################] Time:  0:00:02   1.3 MiB/s \n",
      "100% [############################################] Time:  0:00:02   6.2 MiB/s \n",
      "100% [############################################] Time:  0:00:02   7.9 MiB/s \n",
      "100% [############################################] Time:  0:00:02   1.3 MiB/s \n",
      "100% [############################################] Time:  0:00:02   1.5 MiB/s \n",
      "100% [############################################] Time:  0:00:02   1.5 MiB/s \n",
      "100% [############################################] Time:  0:00:02   1.3 MiB/s \n",
      "100% [############################################] Time:  0:00:02   1.5 MiB/s \n",
      "100% [############################################] Time:  0:00:02   1.3 MiB/s \n",
      "100% [############################################] Time:  0:00:02   1.5 MiB/s \n",
      "100% [############################################] Time:  0:00:03   1.2 MiB/s \n",
      "100% [############################################] Time:  0:00:02   5.1 MiB/s \n",
      "100% [############################################] Time:  0:00:02   1.7 MiB/s \n",
      "100% [############################################] Time:  0:00:02   7.3 MiB/s \n",
      "100% [############################################] Time:  0:00:03   1.2 MiB/s \n",
      "100% [############################################] Time:  0:00:03   1.2 MiB/s \n",
      "100% [############################################] Time:  0:00:03   1.1 MiB/s \n",
      "100% [############################################] Time:  0:00:02   1.4 MiB/s \n",
      "100% [############################################] Time:  0:00:02   1.6 MiB/s \n",
      "100% [############################################] Time:  0:00:02   1.6 MiB/s \n",
      "100% [############################################] Time:  0:00:02   1.4 MiB/s \n",
      "100% [############################################] Time:  0:00:02   1.3 MiB/s \n",
      "100% [############################################] Time:  0:00:02   8.5 MiB/s \n",
      "100% [############################################] Time:  0:00:00  41.4 KiB/s \n",
      "100% [############################################] Time:  0:00:03   1.2 MiB/s \n",
      "100% [############################################] Time:  0:00:02   1.5 MiB/s \n",
      "100% [############################################] Time:  0:00:03   7.3 MiB/s \n",
      "100% [############################################] Time:  0:00:02   4.8 MiB/s \n",
      "100% [############################################] Time:  0:00:02   1.3 MiB/s \n",
      "100% [############################################] Time:  0:00:02   1.4 MiB/s \n",
      "100% [############################################] Time:  0:00:02   7.3 MiB/s \n",
      "100% [############################################] Time:  0:00:02   1.1 MiB/s \n",
      "100% [############################################] Time:  0:00:02   5.3 MiB/s \n",
      "100% [############################################] Time:  0:00:00  54.0 KiB/s \n",
      "100% [############################################] Time:  0:00:02   1.5 MiB/s \n",
      "100% [############################################] Time:  0:00:02   5.3 MiB/s \n",
      "100% [############################################] Time:  0:00:03   1.3 MiB/s \n",
      "100% [############################################] Time:  0:00:02   1.2 MiB/s \n",
      "100% [############################################] Time:  0:00:03   1.0 MiB/s \n",
      "100% [############################################] Time:  0:00:02   7.1 MiB/s \n",
      "100% [############################################] Time:  0:00:02   1.3 MiB/s \n",
      "100% [############################################] Time:  0:00:02   1.4 MiB/s \n",
      "100% [############################################] Time:  0:00:02   5.5 MiB/s \n",
      "100% [############################################] Time:  0:00:02   1.3 MiB/s \n",
      "100% [############################################] Time:  0:00:02   5.1 MiB/s \n",
      "100% [############################################] Time:  0:00:02   5.5 MiB/s \n",
      "100% [############################################] Time:  0:00:02   8.5 MiB/s \n",
      "100% [############################################] Time:  0:00:02   1.4 MiB/s \n",
      "100% [############################################] Time:  0:00:01   7.0 MiB/s \n",
      "100% [############################################] Time:  0:00:02   1.7 MiB/s \n",
      "100% [############################################] Time:  0:00:02   1.3 MiB/s \n",
      "100% [############################################] Time:  0:00:02   5.0 MiB/s \n",
      "100% [############################################] Time:  0:00:00  62.5 KiB/s \n",
      "100% [############################################] Time:  0:00:03   1.3 MiB/s \n",
      "100% [############################################] Time:  0:00:02   7.9 MiB/s \n",
      "100% [############################################] Time:  0:00:02   5.1 MiB/s \n",
      "100% [############################################] Time:  0:00:02   5.3 MiB/s \n",
      "100% [############################################] Time:  0:00:02   7.6 MiB/s \n",
      "100% [############################################] Time:  0:00:02   1.2 MiB/s \n",
      "100% [############################################] Time:  0:00:02   1.1 MiB/s \n",
      "100% [############################################] Time:  0:00:02   5.4 MiB/s \n",
      "100% [############################################] Time:  0:00:03   6.6 MiB/s \n",
      "100% [############################################] Time:  0:00:02   5.0 MiB/s \n",
      "100% [############################################] Time:  0:00:03   1.3 MiB/s \n",
      "100% [############################################] Time:  0:00:03   6.2 MiB/s \n",
      "100% [###########################################] Time:  0:00:03 1011.1 KiB/s \n",
      "100% [############################################] Time:  0:00:00  44.3 KiB/s \n",
      "100% [############################################] Time:  0:00:02   5.1 MiB/s \n",
      "100% [############################################] Time:  0:00:02   5.8 MiB/s \n",
      "100% [############################################] Time:  0:00:03   1.0 MiB/s \n",
      "100% [############################################] Time:  0:00:02   1.3 MiB/s \n",
      "100% [############################################] Time:  0:00:02   1.3 MiB/s \n",
      "100% [############################################] Time:  0:00:01 608.4 KiB/s \n",
      "100% [############################################] Time:  0:00:02   1.3 MiB/s \n",
      "100% [############################################] Time:  0:00:02   5.1 MiB/s \n",
      "100% [############################################] Time:  0:00:03   1.2 MiB/s \n",
      "100% [############################################] Time:  0:00:02   4.8 MiB/s \n",
      "100% [############################################] Time:  0:00:02   1.2 MiB/s \n",
      "100% [############################################] Time:  0:00:03   1.1 MiB/s \n",
      "100% [############################################] Time:  0:00:02   7.2 MiB/s \n",
      "100% [############################################] Time:  0:00:01   6.8 MiB/s \n",
      "100% [############################################] Time:  0:00:03   1.1 MiB/s \n",
      "100% [############################################] Time:  0:00:02   7.6 MiB/s \n",
      "100% [############################################] Time:  0:00:02   7.3 MiB/s \n",
      "100% [############################################] Time:  0:00:02   8.7 MiB/s \n",
      "100% [############################################] Time:  0:00:02   5.6 MiB/s \n",
      "100% [############################################] Time:  0:00:02   5.8 MiB/s \n",
      "100% [############################################] Time:  0:00:03   1.0 MiB/s \n",
      "100% [############################################] Time:  0:00:03   1.3 MiB/s \n",
      "100% [############################################] Time:  0:00:03   7.3 MiB/s \n",
      "100% [############################################] Time:  0:00:02   5.3 MiB/s \n",
      "100% [############################################] Time:  0:00:02   1.4 MiB/s \n",
      "100% [############################################] Time:  0:00:03   7.2 MiB/s \n",
      "N/A% [                                              ] ETA:  --:--:--   0.0 s/B "
     ]
    }
   ],
   "source": [
    "use_gdc_tool('gdc_manifest.2023-05-18.txt')"
   ]
  },
  {
   "cell_type": "markdown",
   "id": "85a4ac24-6bb2-406b-a804-3e15f2e7ad21",
   "metadata": {},
   "source": [
    "###  need to access each sample file in each sample folder in manifest files and clean"
   ]
  },
  {
   "cell_type": "code",
   "execution_count": null,
   "id": "9124aac0-15b8-467c-b20f-4c1b4bf94deb",
   "metadata": {},
   "outputs": [],
   "source": [
    "def get_clean_files():\n",
    "    manifest_folders = []\n",
    "    sample_filenames = []\n",
    "    file_paths = []\n",
    "    #access the folder with all of the downloaded file folders\n",
    "    for folder in os.listdir('/Users/schw939/candle_stuff/GDC/manifest_files'):\n",
    "        manifest_folders.append(folder)\n",
    "    #if this exists in the list you created, get it out\n",
    "    if '.DS_Store' in manifest_folders:\n",
    "        manifest_folders.remove('.DS_Store')\n",
    "    #get the names of each of the files that were downloaded    \n",
    "    for folder_name in manifest_folders:\n",
    "        for x in os.listdir('/Users/schw939/candle_stuff/GDC/manifest_files/' + folder_name):\n",
    "            #get rid of the 'logs' folders that are contained in each folder\n",
    "            if len(x) >4:\n",
    "                sample_filenames.append(x)\n",
    "    #remove checkpoint string if it exists\n",
    "    for each_sample in sample_filenames:\n",
    "        if '.ipynb_checkpoints' in each_sample:\n",
    "            sample_filenames.remove('.ipynb_checkpoints')\n",
    "\n",
    "    #set a list that will hold all of the cleaned up dataframes\n",
    "    all_dataframes = []\n",
    "    #get the final file path for each file by looping through each of the lists\n",
    "    for folder_n, sample in zip(manifest_folders, sample_filenames):\n",
    "        #read in all of the dataframes and add them to the df list\n",
    "        dataframe = pd.read_csv((os.path.join('/Users/schw939/candle_stuff/GDC/manifest_files/' + folder_n + '/' + sample)), delimiter = '\\t')  \n",
    "        #clean up files so they read better\n",
    "        dataframe = dataframe.reset_index()\n",
    "        dataframe.columns = dataframe.iloc[0]\n",
    "        #first rows of files don't look like they matter (tpm data is NAN)\n",
    "        dataframe = dataframe[5:]\n",
    "        #Grabbing the columns that we want\n",
    "        if 'tpm_unstranded' in dataframe.columns:\n",
    "            dataframe = dataframe[['gene_id', 'gene_name','gene_type', 'tpm_unstranded']]\n",
    "            all_dataframes.append(dataframe)\n",
    "\n",
    "        \n",
    "\n",
    "    \n",
    "    \n",
    "    \n",
    "    return all_dataframes"
   ]
  },
  {
   "cell_type": "code",
   "execution_count": null,
   "id": "27e50283-cb40-40d6-8135-70399d457863",
   "metadata": {},
   "outputs": [],
   "source": [
    "get_clean_files()"
   ]
  },
  {
   "cell_type": "markdown",
   "id": "fc904ad4-cfd4-40ab-8165-2943b5fdd430",
   "metadata": {},
   "source": [
    "# Mapping"
   ]
  },
  {
   "cell_type": "code",
   "execution_count": null,
   "id": "27dd21bd-e143-44b2-87c4-f7366f3d4aa6",
   "metadata": {},
   "outputs": [],
   "source": [
    "def map_and_combine(dataframe_list):\n",
    "    df_list = []\n",
    "    #read in genes.csv from cell_line data to map gene_name to entrez_id's\n",
    "    genes = pd.read_csv('/Users/schw939/candle_stuff/data/genes.csv', delimiter = ',')\n",
    "    #read in mutations.csv from cell_line data to map improve_id to entrez_id's\n",
    "    mut = pd.read_csv('/Users/schw939/candle_stuff/data/mutations.csv', delimiter = ',')\n",
    "   \n",
    "    #for each dataframe map the entrez id using the gene_name column\n",
    "    for df in dataframe_list:\n",
    "        mapped_entrez = (df.merge(genes, left_on = 'gene_name', right_on = 'gene_symbol', how = 'left').reindex(columns = ['gene_id', 'gene_name', 'gene_type',\n",
    "       'tpm_unstranded', 'entrez_id']))\n",
    "    #for each dataframe map the improve_sample_id using the entrez_id column\n",
    "        mapped_improve = (mapped_entrez.merge(mut, left_on = 'entrez_id', right_on = 'entrez_id', how = 'left').reindex(columns = ['gene_id', 'gene_name', 'gene_type', \n",
    "       'tpm_unstranded','entrez_id', 'improve_sample_id']))\n",
    "    #merge all dataframes into one \n",
    "        df_list.append(mapped_improve)\n",
    "    \n",
    "    final_dataframe = pd. concat(df_list)\n",
    "\n",
    "    return final_dataframe"
   ]
  },
  {
   "cell_type": "code",
   "execution_count": null,
   "id": "22ad9a34-0e59-4603-80a4-33a0aba9ee14",
   "metadata": {},
   "outputs": [],
   "source": [
    "data = map_and_combine(get_clean_files())\n",
    "# print(('there are {} missing values for entrez_id').format(data.entrez_id.isna().sum()))\n",
    "# print(('there are {} missing values for improve_sample_id').format(data.improve_sample_id.isna().sum()))\n",
    "# print(('there are {} missing values for tpm_unstranded').format(data.tpm_unstranded.isna().sum()))\n",
    "data"
   ]
  },
  {
   "cell_type": "code",
   "execution_count": null,
   "id": "a46c0b35-0ff0-4331-a445-be0d48e658e1",
   "metadata": {},
   "outputs": [],
   "source": [
    "def clean_gene_id(final_dataframe):\n",
    "    #getting rid of decimal places so this column can map to other id columns in datasets if needed\n",
    "    other_id = []\n",
    "    for id_name in final_dataframe.gene_id:\n",
    "        if '.' not in id_name:\n",
    "            other_id.append(id_name)\n",
    "        else:\n",
    "            head, sep, tail = id_name.partition('.')\n",
    "            other_id.append(head)\n",
    "            \n",
    "    final_dataframe.gene_id = other_id\n",
    "    return final_dataframe"
   ]
  },
  {
   "cell_type": "code",
   "execution_count": null,
   "id": "05ce5bf6-ac66-4908-a428-33bec3d8b240",
   "metadata": {},
   "outputs": [],
   "source": [
    "clean_gene_id(map_and_combine(get_clean_files()))"
   ]
  }
 ],
 "metadata": {
  "kernelspec": {
   "display_name": "Python 3 (ipykernel)",
   "language": "python",
   "name": "python3"
  },
  "language_info": {
   "codemirror_mode": {
    "name": "ipython",
    "version": 3
   },
   "file_extension": ".py",
   "mimetype": "text/x-python",
   "name": "python",
   "nbconvert_exporter": "python",
   "pygments_lexer": "ipython3",
   "version": "3.9.7"
  }
 },
 "nbformat": 4,
 "nbformat_minor": 5
}

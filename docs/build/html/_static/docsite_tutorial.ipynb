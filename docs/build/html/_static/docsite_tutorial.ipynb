{
 "cells": [
  {
   "cell_type": "markdown",
   "id": "d74cbc71",
   "metadata": {},
   "source": [
    "# Deep Learning Tutorial\n",
    "**Includes:** \n",
    "- Instructions to use the split functions within in the CoderData package.\n",
    "- Using a small subset of the BeatAML data to predict the dose_response_value of drug response values. The predictive variables will be transcriptomics, proteomics, and drug structure. \\\n",
    "Note: This small subset does not have high predictive power and as such, this is just meant as a guide for creating your own models.\n",
    "\n",
    "**Sections:** \n",
    "- [Command Line Interactions](#Command-Line-Interactions) \n",
    "- [CoderData Split Functions](#CoderData-Split-Functions) \n",
    "- [Develop Deep Learning Model](#develop-deep-learning-model)"
   ]
  },
  {
   "cell_type": "markdown",
   "id": "8661de37",
   "metadata": {},
   "source": [
    "We will be using functions included in CoderData throughout the tutorial. For more information on functions used from the coderdata package look to the API reference."
   ]
  },
  {
   "cell_type": "markdown",
   "id": "6aa3d2f7",
   "metadata": {},
   "source": [
    "Import coderdata, pandas, and numpy"
   ]
  },
  {
   "cell_type": "code",
   "execution_count": 2,
   "id": "4df7650e-8a78-4665-90bf-a367185cd15d",
   "metadata": {},
   "outputs": [],
   "source": [
    "import pandas as pd\n",
    "import numpy as np\n",
    "import coderdata as cd"
   ]
  },
  {
   "cell_type": "markdown",
   "id": "941d5272",
   "metadata": {},
   "source": [
    "### Command Line Interactions"
   ]
  },
  {
   "cell_type": "markdown",
   "id": "48a68a9e",
   "metadata": {},
   "source": [
    "To view the help and usage message. "
   ]
  },
  {
   "cell_type": "code",
   "execution_count": 2,
   "id": "cd9bdfd9",
   "metadata": {
    "vscode": {
     "languageId": "powershell"
    }
   },
   "outputs": [
    {
     "name": "stderr",
     "output_type": "stream",
     "text": [
      "usage: coderdata [-h] [-l | -v] {download} ...\n",
      "\n",
      "options:\n",
      "  -h, --help     show this help message and exit\n",
      "  -l, --list     prints list of available datasets and exits program.\n",
      "  -v, --version  prints the versions of the coderdata API and dataset and\n",
      "                 exits the program\n",
      "\n",
      "commands:\n",
      "  {download}\n",
      "    download     subroutine to download datasets. See \"coderdata download -h\"\n",
      "                 for more options.\n"
     ]
    }
   ],
   "source": [
    "!python -m coderdata.cli"
   ]
  },
  {
   "cell_type": "markdown",
   "id": "d34b4339",
   "metadata": {},
   "source": [
    "To view the datasets available in the package."
   ]
  },
  {
   "cell_type": "code",
   "execution_count": 3,
   "id": "5f388680",
   "metadata": {
    "vscode": {
     "languageId": "powershell"
    }
   },
   "outputs": [
    {
     "name": "stdout",
     "output_type": "stream",
     "text": [
      "\n",
      "Available datasets\n",
      "------------------\n",
      "\n",
      "beataml: Beat acute myeloid leukemia (BeatAML) focuses on acute myeloid leukemia tumor data. Data includes drug response, proteomics, and transcriptomics datasets.\n",
      "bladderpdo: Tumor Evolution and Drug Response in Patient-Derived Organoid Models of Bladder Cancer Data includes transcriptomics, mutations, copy number, and drug response data.\n",
      "ccle: Cancer Cell Line Encyclopedia (CCLE).\n",
      "cptac: The Clinical Proteomic Tumor Analysis Consortium (CPTAC) project is a collaborative network funded by the National Cancer Institute (NCI) focused on improving our understanding of cancer biology through the integration of transcriptomic, proteomic, and genomic data.\n",
      "ctrpv2: Cancer Therapeutics Response Portal version 2 (CTRPv2)\n",
      "fimm: Institute for Molecular Medicine Finland (FIMM) dataset.\n",
      "gcsi: The Genentech Cell Line Screening Initiative (gCSI)\n",
      "gdscv1: Genomics of Drug Sensitivity in Cancer (GDSC) v1\n",
      "gdscv2: Genomics of Drug Sensitivity in Cancer (GDSC) v2\n",
      "hcmi: Human Cancer Models Initiative (HCMI) encompasses numerous cancer types and includes cell line, organoid, and tumor data. Data includes the transcriptomics, somatic mutation, and copy number datasets.\n",
      "mpnst: Malignant Peripheral Nerve Sheath Tumor is a rare, agressive sarcoma that affects peripheral nerves throughout the body.\n",
      "mpnstpdx: Patient derived xenograft data for MPNST\n",
      "nci60: National Cancer Institute 60\n",
      "pancpdo: Organoid Profiling Identifies Common Responders to Chemotherapy in Pancreatic Cancer Data includes transcriptomics, mutations, copy number, and drug response data.\n",
      "prism: Profiling Relative Inhibition Simultaneously in Mixtures\n",
      "sarcpdo: The landscape of drug sensitivity and resistance in sarcoma Data includes transcriptomics, mutations, and drug response data.\n",
      "\n",
      "------------------\n",
      "\n",
      "To download individual datasets run \"coderdata download --name DATASET_NAME\" where \"DATASET_NAME\" is for example \"beataml\".\n"
     ]
    }
   ],
   "source": [
    "!python -m coderdata.cli -l"
   ]
  },
  {
   "cell_type": "markdown",
   "id": "cd364575",
   "metadata": {},
   "source": [
    "To view the available arguments of the download function."
   ]
  },
  {
   "cell_type": "code",
   "execution_count": 4,
   "id": "38683089",
   "metadata": {
    "vscode": {
     "languageId": "powershell"
    }
   },
   "outputs": [
    {
     "name": "stdout",
     "output_type": "stream",
     "text": [
      "usage: coderdata download [-h] [-n DATASET_NAME] [-p LOCAL_PATH] [-o]\n",
      "\n",
      "options:\n",
      "  -h, --help            show this help message and exit\n",
      "  -n DATASET_NAME, --name DATASET_NAME\n",
      "                        name of the dataset to download (e.g., \"beataml\").\n",
      "                        Alternatively, \"all\" will download the full repository\n",
      "                        of coderdata datasets. See \"coderdata --list\" for a\n",
      "                        complete list of available datasets. Defaults to \"all\"\n",
      "  -p LOCAL_PATH, --local_path LOCAL_PATH\n",
      "                        defines the folder the datasets should be stored in.\n",
      "                        Defaults to the current working directory if omitted.\n",
      "  -o, --overwrite       allow dataset files to be overwritten if they already\n",
      "                        exist.\n"
     ]
    }
   ],
   "source": [
    "!python -m coderdata.cli download -h"
   ]
  },
  {
   "cell_type": "markdown",
   "id": "d2167ee0",
   "metadata": {},
   "source": [
    "To download a dataset through CLI."
   ]
  },
  {
   "cell_type": "code",
   "execution_count": null,
   "id": "fa467503-b32f-4c98-9f18-f153a342174a",
   "metadata": {},
   "outputs": [],
   "source": [
    "!python -m coderdata.cli download -n beataml"
   ]
  },
  {
   "cell_type": "markdown",
   "id": "7525e3f3",
   "metadata": {},
   "source": [
    "Downloaded 'https://ndownloader.figshare.com/files/53779292' to '/tmp/beataml_proteomics.csv.gz' \\\n",
    "Downloaded 'https://ndownloader.figshare.com/files/53779295' to '/tmp/beataml_transcriptomics.csv.gz' \\\n",
    "Downloaded 'https://ndownloader.figshare.com/files/53779304' to '/tmp/beataml_samples.csv' \\\n",
    "Downloaded 'https://ndownloader.figshare.com/files/53779334' to '/tmp/beataml_drug_descriptors.tsv.gz' \\\n",
    "Downloaded 'https://ndownloader.figshare.com/files/53779337' to '/tmp/beataml_drugs.tsv.gz' \\\n",
    "Downloaded 'https://ndownloader.figshare.com/files/53779340' to '/tmp/beataml_experiments.tsv.gz' \\\n",
    "Downloaded 'https://ndownloader.figshare.com/files/53779343' to '/tmp/beataml_mutations.csv.gz' \\\n",
    "Downloaded 'https://ndownloader.figshare.com/files/53779532' to '/tmp/genes.csv.gz' "
   ]
  },
  {
   "cell_type": "markdown",
   "id": "4726ea0f",
   "metadata": {},
   "source": [
    "Import keras the deep learning framework.\n",
    "We will be using the keras functional API. This allows us to use multiple inputs in our model.\n",
    "You may need to install a couple of these dependancies to proceed.\n",
    "\n",
    "Dependencies needed that are not included in coderdata: \n",
    "- tensorflow (Note: Tensorflow is only supported up to the a python version of 3.12)\n",
    "- rdkit\n",
    "- matplotlib"
   ]
  },
  {
   "cell_type": "code",
   "execution_count": 6,
   "id": "68d38cbc-9399-400b-81e3-72f5d107eaa8",
   "metadata": {},
   "outputs": [],
   "source": [
    "import keras\n",
    "from numpy import loadtxt\n",
    "from tensorflow.keras.models import Sequential\n",
    "from tensorflow.keras.layers import Dense\n",
    "from sklearn.preprocessing import MinMaxScaler\n",
    "from sklearn.model_selection import train_test_split\n",
    "from rdkit import Chem\n",
    "from rdkit.Chem import AllChem\n",
    "from rdkit.Chem.rdFingerprintGenerator import GetMorganGenerator\n",
    "from keras.models import Model\n",
    "from keras.layers import Input, Dense, concatenate\n",
    "from keras.optimizers import Adam\n",
    "from keras.losses import MeanSquaredError\n",
    "from keras.metrics import MeanAbsoluteError\n",
    "from keras import layers\n",
    "from sklearn.metrics import mean_absolute_error, mean_squared_error, r2_score\n",
    "import matplotlib.pyplot as plt\n",
    "from sklearn.linear_model import LinearRegression"
   ]
  },
  {
   "cell_type": "markdown",
   "id": "f36a92e7",
   "metadata": {},
   "source": [
    "## Download and View Datasets"
   ]
  },
  {
   "cell_type": "markdown",
   "id": "28358efa",
   "metadata": {},
   "source": [
    "To view the available datasets in within the coderdata API"
   ]
  },
  {
   "cell_type": "code",
   "execution_count": 7,
   "id": "3b5e41a1",
   "metadata": {},
   "outputs": [
    {
     "name": "stdout",
     "output_type": "stream",
     "text": [
      "beataml: Beat acute myeloid leukemia (BeatAML) focuses on acute myeloid leukemia tumor data. Data includes drug response, proteomics, and transcriptomics datasets.\n",
      "bladderpdo: Tumor Evolution and Drug Response in Patient-Derived Organoid Models of Bladder Cancer Data includes transcriptomics, mutations, copy number, and drug response data.\n",
      "ccle: Cancer Cell Line Encyclopedia (CCLE).\n",
      "cptac: The Clinical Proteomic Tumor Analysis Consortium (CPTAC) project is a collaborative network funded by the National Cancer Institute (NCI) focused on improving our understanding of cancer biology through the integration of transcriptomic, proteomic, and genomic data.\n",
      "ctrpv2: Cancer Therapeutics Response Portal version 2 (CTRPv2)\n",
      "fimm: Institute for Molecular Medicine Finland (FIMM) dataset.\n",
      "gcsi: The Genentech Cell Line Screening Initiative (gCSI)\n",
      "gdscv1: Genomics of Drug Sensitivity in Cancer (GDSC) v1\n",
      "gdscv2: Genomics of Drug Sensitivity in Cancer (GDSC) v2\n",
      "hcmi: Human Cancer Models Initiative (HCMI) encompasses numerous cancer types and includes cell line, organoid, and tumor data. Data includes the transcriptomics, somatic mutation, and copy number datasets.\n",
      "mpnst: Malignant Peripheral Nerve Sheath Tumor is a rare, agressive sarcoma that affects peripheral nerves throughout the body.\n",
      "mpnstpdx: Patient derived xenograft data for MPNST\n",
      "nci60: National Cancer Institute 60\n",
      "pancpdo: Organoid Profiling Identifies Common Responders to Chemotherapy in Pancreatic Cancer Data includes transcriptomics, mutations, copy number, and drug response data.\n",
      "prism: Profiling Relative Inhibition Simultaneously in Mixtures\n",
      "sarcpdo: The landscape of drug sensitivity and resistance in sarcoma Data includes transcriptomics, mutations, and drug response data.\n"
     ]
    }
   ],
   "source": [
    "cd.list_datasets()"
   ]
  },
  {
   "cell_type": "markdown",
   "id": "a5d2e391",
   "metadata": {},
   "source": [
    "Download and load the dataset(s) that will be needed. In this example we will be using the beataml dataset."
   ]
  },
  {
   "cell_type": "code",
   "execution_count": null,
   "id": "46e05bf7-1692-429c-90a8-ee8a7ac29276",
   "metadata": {},
   "outputs": [],
   "source": [
    "cd.download(\"beataml\")"
   ]
  },
  {
   "cell_type": "markdown",
   "id": "5b77d78b-9657-4c39-8bcf-5e7c93928b12",
   "metadata": {},
   "source": [
    "Downloaded 'https://ndownloader.figshare.com/files/53779292' to '/tmp/beataml_proteomics.csv.gz' \\\n",
    "Downloaded 'https://ndownloader.figshare.com/files/53779295' to '/tmp/beataml_transcriptomics.csv.gz' \\\n",
    "Downloaded 'https://ndownloader.figshare.com/files/53779304' to '/tmp/beataml_samples.csv' \\\n",
    "Downloaded 'https://ndownloader.figshare.com/files/53779334' to '/tmp/beataml_drug_descriptors.tsv.gz' \\\n",
    "Downloaded 'https://ndownloader.figshare.com/files/53779337' to '/tmp/beataml_drugs.tsv.gz' \\\n",
    "Downloaded 'https://ndownloader.figshare.com/files/53779340' to '/tmp/beataml_experiments.tsv.gz' \\\n",
    "Downloaded 'https://ndownloader.figshare.com/files/53779343' to '/tmp/beataml_mutations.csv.gz' \\\n",
    "Downloaded 'https://ndownloader.figshare.com/files/53779532' to '/tmp/genes.csv.gz' "
   ]
  },
  {
   "cell_type": "code",
   "execution_count": null,
   "id": "8d11a11c-031b-44b4-ae9d-6ee490c73819",
   "metadata": {},
   "outputs": [],
   "source": [
    "beataml=cd.load(\"beataml\")"
   ]
  },
  {
   "cell_type": "markdown",
   "id": "e8fcb211-50f8-49da-8417-40a8acb03e4f",
   "metadata": {},
   "source": [
    "Importing raw data ... \\\n",
    "Importing 'drugs' from /tmp/beataml_drugs.tsv.gz ... DONE \\\n",
    "Importing 'drug_descriptors' from /tmp/beataml_drug_descriptors.tsv.gz ... DONE \\\n",
    "Importing 'experiments' from /tmp/beataml_experiments.tsv.gz ... DONE \\\n",
    "Importing 'mutations' from /tmp/beataml_mutations.csv.gz ... DONE \\\n",
    "Importing 'proteomics' from /tmp/beataml_proteomics.csv.gz ... DONE \\\n",
    "Importing 'samples' from /tmp/beataml_samples.csv ... DONE \\\n",
    "Importing 'transcriptomics' from /tmp/beataml_transcriptomics.csv.gz ... DONE \\\n",
    "Importing 'genes' from /tmp/genes.csv.gz ... DONE \\\n",
    "Importing raw data ... DONE "
   ]
  },
  {
   "cell_type": "markdown",
   "id": "39184b59",
   "metadata": {},
   "source": [
    "To view all the datatypes included with a dataset object use the function below.\n",
    "The info command allows us to see which data types are included in the beataml dataset object.\n",
    "We will be using the Transcriptomics, Proteomics, Drugs, and Experiments Data in our example.\n",
    "In other examples you may want to include the samples data to associate cancer and model type with each sample. However, in the BeatAML data, all data is from Acute Myeloid Leukemia patients."
   ]
  },
  {
   "cell_type": "code",
   "execution_count": 10,
   "id": "abed810b",
   "metadata": {},
   "outputs": [
    {
     "data": {
      "text/plain": [
       "['transcriptomics',\n",
       " 'proteomics',\n",
       " 'mutations',\n",
       " 'samples',\n",
       " 'drugs',\n",
       " 'experiments',\n",
       " 'genes']"
      ]
     },
     "execution_count": 10,
     "metadata": {},
     "output_type": "execute_result"
    }
   ],
   "source": [
    "beataml.types()"
   ]
  },
  {
   "cell_type": "markdown",
   "id": "2d66ce33",
   "metadata": {},
   "source": [
    "Note that each datatype have different available arguments. To view all options for each types navigate to the usage page. \\\n",
    "Examples are shown below of viewing a regular dataset and datatype combination and a formatted dataset using `format( )`."
   ]
  },
  {
   "cell_type": "code",
   "execution_count": 11,
   "id": "6b81125b",
   "metadata": {},
   "outputs": [
    {
     "data": {
      "application/vnd.microsoft.datawrangler.viewer.v0+json": {
       "columns": [
        {
         "name": "index",
         "rawType": "int64",
         "type": "integer"
        },
        {
         "name": "improve_drug_id",
         "rawType": "object",
         "type": "string"
        },
        {
         "name": "chem_name",
         "rawType": "object",
         "type": "string"
        },
        {
         "name": "pubchem_id",
         "rawType": "float64",
         "type": "float"
        },
        {
         "name": "formula",
         "rawType": "object",
         "type": "unknown"
        },
        {
         "name": "weight",
         "rawType": "float64",
         "type": "float"
        },
        {
         "name": "InChIKey",
         "rawType": "object",
         "type": "unknown"
        },
        {
         "name": "canSMILES",
         "rawType": "object",
         "type": "unknown"
        }
       ],
       "ref": "b1d18d0b-708b-4e63-ba58-b204a7710a4f",
       "rows": [
        [
         "0",
         "SMI_43282",
         "cytarabine",
         "6253.0",
         "C9H13N3O5",
         "243.22",
         "UHDGCWIWMRVCDJ-CCXZUQQUSA-N",
         "C1=CN(C(=O)N=C1N)C2C(C(C(O2)CO)O)O"
        ],
        [
         "1",
         "SMI_23975",
         "entospletinib",
         "59473233.0",
         "C23H21N7O",
         "411.5",
         "XSMSNFMDVXXHGJ-UHFFFAOYSA-N",
         "C1COCCN1C2=CC=C(C=C2)NC3=NC(=CN4C3=NC=C4)C5=CC6=C(C=C5)C=NN6"
        ],
        [
         "2",
         "SMI_10282",
         "nutlin 3a",
         "11433190.0",
         "C30H30Cl2N4O4",
         "581.5",
         "BDUHCSBCVGXTJM-WUFINQPMSA-N",
         "CC(C)OC1=C(C=CC(=C1)OC)C2=NC(C(N2C(=O)N3CCNC(=O)C3)C4=CC=C(C=C4)Cl)C5=CC=C(C=C5)Cl"
        ],
        [
         "3",
         "SMI_56581",
         "akt inhibitor iv",
         "5719375.0",
         "C31H27IN4S",
         "614.5",
         "NAYRELMNTQSBIN-UHFFFAOYSA-M",
         "CC[N+]1=C(N(C2=C1C=C(C=C2)C3=NC4=CC=CC=C4S3)C5=CC=CC=C5)C=CN(C)C6=CC=CC=C6.[I-]"
        ],
        [
         "4",
         "SMI_56572",
         "akt inhibitor x",
         "16760284.0",
         "C20H26Cl2N2O",
         "381.3",
         "SVKSJUIYYCQZEC-UHFFFAOYSA-N",
         "CCN(CC)CCCCN1C2=CC=CC=C2OC3=C1C=C(C=C3)Cl.Cl"
        ],
        [
         "5",
         "SMI_56597",
         "ampk inhibitor",
         "11524144.0",
         "C24H25N5O",
         "399.5",
         "XHBVYDAKJHETMP-UHFFFAOYSA-N",
         "C1CCN(CC1)CCOC2=CC=C(C=C2)C3=CN4C(=C(C=N4)C5=CC=NC=C5)N=C3"
        ],
        [
         "6",
         "SMI_56591",
         "ast-487",
         "11409972.0",
         "C26H30F3N7O2",
         "529.6",
         "ODPGGGTTYSGTGO-UHFFFAOYSA-N",
         "CCN1CCN(CC1)CC2=C(C=C(C=C2)NC(=O)NC3=CC=C(C=C3)OC4=NC=NC(=C4)NC)C(F)(F)F"
        ],
        [
         "7",
         "SMI_52710",
         "azd1152-hqpa",
         "16007391.0",
         "C26H30FN7O3",
         "507.6",
         "QYZOGCMHVIGURT-UHFFFAOYSA-N",
         "CCN(CCCOC1=CC2=C(C=C1)C(=NC=N2)NC3=NNC(=C3)CC(=O)NC4=CC(=CC=C4)F)CCO"
        ],
        [
         "8",
         "SMI_42845",
         "alisertib",
         "24771867.0",
         "C27H20ClFN4O4",
         "518.9",
         "ZLHFILGSQDJULK-UHFFFAOYSA-N",
         "COC1=C(C(=CC=C1)F)C2=NCC3=CN=C(N=C3C4=C2C=C(C=C4)Cl)NC5=CC(=C(C=C5)C(=O)O)OC"
        ],
        [
         "9",
         "SMI_31858",
         "bortezomib",
         "387447.0",
         "C19H25BN4O4",
         "384.2",
         "GXJABQQUPOEUTA-RDJZCZTQSA-N",
         "B(C(CC(C)C)NC(=O)C(CC1=CC=CC=C1)NC(=O)C2=NC=CN=C2)(O)O"
        ],
        [
         "10",
         "SMI_14356",
         "cyt387",
         "25062766.0",
         "C23H22N6O2",
         "414.5",
         "ZVHNDZWQTBEVRY-UHFFFAOYSA-N",
         "C1COCCN1C2=CC=C(C=C2)NC3=NC=CC(=N3)C4=CC=C(C=C4)C(=O)NCC#N"
        ],
        [
         "11",
         "SMI_21328",
         "canertinib",
         "156414.0",
         "C24H25ClFN5O3",
         "485.9",
         "OMZCMEYTWSXEPZ-UHFFFAOYSA-N",
         "C=CC(=O)NC1=C(C=C2C(=C1)C(=NC=N2)NC3=CC(=C(C=C3)F)Cl)OCCCN4CCOCC4"
        ],
        [
         "12",
         "SMI_3109",
         "crenolanib",
         "10366136.0",
         "C26H29N5O2",
         "443.5",
         "DYNHJHQFHQTFTP-UHFFFAOYSA-N",
         "CC1(COC1)COC2=CC3=C(C=C2)N(C=N3)C4=NC5=C(C=CC=C5N6CCC(CC6)N)C=C4"
        ],
        [
         "13",
         "SMI_41466",
         "dasatinib",
         "3062316.0",
         "C22H26ClN7O2S",
         "488.0",
         "ZBNZXTGUTAYRHI-UHFFFAOYSA-N",
         "CC1=C(C(=CC=C1)Cl)NC(=O)C2=CN=C(S2)NC3=CC(=NC(=N3)C)N4CCN(CC4)CCO"
        ],
        [
         "14",
         "SMI_55531",
         "doramapimod",
         "156422.0",
         "C31H37N5O3",
         "527.7",
         "MVCOAUNKQVWQHZ-UHFFFAOYSA-N",
         "CC1=CC=C(C=C1)N2C(=CC(=N2)C(C)(C)C)NC(=O)NC3=CC=C(C4=CC=CC=C43)OCCN5CCOCC5"
        ],
        [
         "15",
         "SMI_34999",
         "dovitinib",
         "135398510.0",
         "C21H21FN6O",
         "392.4",
         "PIQCTGMSNWUMAF-UHFFFAOYSA-N",
         "CN1CCN(CC1)C2=CC3=C(C=C2)N=C(N3)C4=C(C5=C(C=CC=C5F)NC4=O)N"
        ],
        [
         "16",
         "SMI_55606",
         "erlotinib",
         "176870.0",
         "C22H23N3O4",
         "393.4",
         "AAKJLRGGTJKAMG-UHFFFAOYSA-N",
         "COCCOC1=C(C=C2C(=C1)C(=NC=N2)NC3=CC=CC(=C3)C#C)OCCOC"
        ],
        [
         "17",
         "SMI_16810",
         "flavopiridol",
         "5287969.0",
         "C21H20ClNO5",
         "401.8",
         "BIIVYFLTOXDAOV-YVEFUNNKSA-N",
         "CN1CCC(C(C1)O)C2=C(C=C(C3=C2OC(=CC3=O)C4=CC=CC=C4Cl)O)O"
        ],
        [
         "18",
         "SMI_11502",
         "gdc-0941",
         "17755052.0",
         "C23H27N7O3S2",
         "513.6",
         "LHNIIDJUOCFXAP-UHFFFAOYSA-N",
         "CS(=O)(=O)N1CCN(CC1)CC2=CC3=C(S2)C(=NC(=N3)C4=C5C=NNC5=CC=C4)N6CCOCC6"
        ],
        [
         "19",
         "SMI_13100",
         "gw-2580",
         "11617559.0",
         "C20H22N4O3",
         "366.4",
         "MYQAUKPBNJWPIE-UHFFFAOYSA-N",
         "COC1=CC=C(C=C1)COC2=C(C=C(C=C2)CC3=CN=C(N=C3N)N)OC"
        ],
        [
         "20",
         "SMI_18541",
         "gefitinib",
         "123631.0",
         "C22H24ClFN4O3",
         "446.9",
         "XGALLCVXEZPNRQ-UHFFFAOYSA-N",
         "COC1=C(C=C2C(=C1)N=CN=C2NC3=CC(=C(C=C3)F)Cl)OCCCN4CCOCC4"
        ],
        [
         "21",
         "SMI_56594",
         "go6976",
         "3501.0",
         "C24H18N4O",
         "378.4",
         "VWVYILCFSYNJHF-UHFFFAOYSA-N",
         "CN1C2=CC=CC=C2C3=C4C(=C5C6=CC=CC=C6N(C5=C31)CCC#N)CNC4=O"
        ],
        [
         "22",
         "SMI_6419",
         "h-89",
         "449241.0",
         "C20H20BrN3O2S",
         "446.4",
         "ZKZXNDJNWUTGDK-NSCUHMNNSA-N",
         "C1=CC2=C(C=CN=C2)C(=C1)S(=O)(=O)NCCNCC=CC3=CC=C(C=C3)Br"
        ],
        [
         "23",
         "SMI_19449",
         "ink-128",
         "45375953.0",
         "C15H15N7O",
         "309.33",
         "GYLDXIAOMVERTK-UHFFFAOYSA-N",
         "CC(C)N1C2=NC=NC(=C2C(=N1)C3=CC4=C(C=C3)OC(=N4)N)N"
        ],
        [
         "24",
         "SMI_31077",
         "idelalisib",
         "11625818.0",
         "C22H18FN7O",
         "415.4",
         "IFSDAJWBUCMOAH-HNNXBMFYSA-N",
         "CCC(C1=NC2=C(C(=CC=C2)F)C(=O)N1C3=CC=CC=C3)NC4=NC=NC5=C4NC=N5"
        ],
        [
         "25",
         "SMI_28228",
         "imatinib",
         "5291.0",
         "C29H31N7O",
         "493.6",
         "KTUFNOKKBVMGRW-UHFFFAOYSA-N",
         "CC1=C(C=C(C=C1)NC(=O)C2=CC=C(C=C2)CN3CCN(CC3)C)NC4=NC=CC(=N4)C5=CN=CC=C5"
        ],
        [
         "26",
         "SMI_56577",
         "jak inhibitor i",
         "5494425.0",
         "C18H16FN3O",
         "309.3",
         "VNDWQCSOSCCWIP-UHFFFAOYSA-N",
         "CC(C)(C)C1=NC2=C(N1)C3=C(C=C(C=C3)F)C4=C2C=CNC4=O"
        ],
        [
         "27",
         "SMI_56545",
         "jnj-7706621",
         "5330790.0",
         "C15H12F2N6O3S",
         "394.4",
         "KDKUVYLMPJIGKA-UHFFFAOYSA-N",
         "C1=CC(=C(C(=C1)F)C(=O)N2C(=NC(=N2)NC3=CC=C(C=C3)S(=O)(=O)N)N)F"
        ],
        [
         "28",
         "SMI_4862",
         "jnk inhibitor ii",
         "8515.0",
         "C14H8N2O",
         "220.23",
         "ACPOUJIDANTYHO-UHFFFAOYSA-N",
         "C1=CC=C2C(=C1)C3=NNC4=CC=CC(=C43)C2=O"
        ],
        [
         "29",
         "SMI_56579",
         "kn92",
         "5353702.0",
         "C24H25ClN2O3S",
         "457.0",
         "RUAOVVIUGUOYHA-AATRIKPKSA-N",
         "CN(CC=CC1=CC=C(C=C1)Cl)CC2=CC=CC=C2NS(=O)(=O)C3=CC=C(C=C3)OC"
        ],
        [
         "30",
         "SMI_56592",
         "kn93",
         "5312122.0",
         "C26H29ClN2O4S",
         "501.0",
         "LLLQTDSSHZREGW-AATRIKPKSA-N",
         "CN(CC=CC1=CC=C(C=C1)Cl)CC2=CC=CC=C2N(CCO)S(=O)(=O)C3=CC=C(C=C3)OC"
        ],
        [
         "31",
         "SMI_44535",
         "ly-333531",
         "153999.0",
         "C28H28N4O3",
         "468.5",
         "ZCBUQCWBWNUWSU-SFHVURJKSA-N",
         "CN(C)CC1CCN2C=C(C3=CC=CC=C32)C4=C(C5=CN(CCO1)C6=CC=CC=C65)C(=O)NC4=O"
        ],
        [
         "32",
         "SMI_5476",
         "ly294002",
         "3973.0",
         "C19H17NO3",
         "307.3",
         "CZQHHVNHHHRRDU-UHFFFAOYSA-N",
         "C1COCCN1C2=CC(=O)C3=C(O2)C(=CC=C3)C4=CC=CC=C4"
        ],
        [
         "33",
         "SMI_24635",
         "lapatinib",
         "208908.0",
         "C29H26ClFN4O4S",
         "581.1",
         "BCFGMOOMADDAQU-UHFFFAOYSA-N",
         "CS(=O)(=O)CCNCC1=CC=C(O1)C2=CC3=C(C=C2)N=CN=C3NC4=CC(=C(C=C4)OCC5=CC(=CC=C5)F)Cl"
        ],
        [
         "34",
         "SMI_8988",
         "linifanib",
         "11485656.0",
         "C21H18FN5O",
         "375.4",
         "MPVGZUGXCQEXTM-UHFFFAOYSA-N",
         "CC1=CC(=C(C=C1)F)NC(=O)NC2=CC=C(C=C2)C3=C4C(=CC=C3)NN=C4N"
        ],
        [
         "35",
         "SMI_56588",
         "mek1/2 inhibitor",
         null,
         null,
         null,
         null,
         null
        ],
        [
         "36",
         "SMI_13815",
         "midostaurin",
         "9829523.0",
         "C35H30N4O4",
         "570.6",
         "BMGQWWVMWDBQGC-IIFHNQTCSA-N",
         "CC12C(C(CC(O1)N3C4=CC=CC=C4C5=C6C(=C7C8=CC=CC=C8N2C7=C53)CNC6=O)N(C)C(=O)C9=CC=CC=C9)OC"
        ],
        [
         "37",
         "SMI_32694",
         "motesanib",
         "11667893.0",
         "C22H23N5O",
         "373.5",
         "RAHBGWKEPAQNFF-UHFFFAOYSA-N",
         "CC1(CNC2=C1C=CC(=C2)NC(=O)C3=C(N=CC=C3)NCC4=CC=NC=C4)C"
        ],
        [
         "38",
         "SMI_56093",
         "nf-kb activation inhibitor",
         "509554.0",
         "C22H20N4O",
         "356.4",
         "IBAKVEUZKHOWNG-UHFFFAOYSA-N",
         "C1=CC=C(C=C1)OC2=CC=C(C=C2)CCNC3=NC=NC4=C3C=C(C=C4)N"
        ],
        [
         "39",
         "SMI_40153",
         "nilotinib",
         "644241.0",
         "C28H22F3N7O",
         "529.5",
         "HHZIURLSWUIHRB-UHFFFAOYSA-N",
         "CC1=C(C=C(C=C1)C(=O)NC2=CC(=CC(=C2)C(F)(F)F)N3C=C(N=C3)C)NC4=NC=CC(=N4)C5=CN=CC=C5"
        ],
        [
         "40",
         "SMI_55624",
         "pd153035",
         "4705.0",
         "C16H14BrN3O2",
         "360.2",
         "LSPANGZZENHZNJ-UHFFFAOYSA-N",
         "COC1=C(C=C2C(=C1)C(=NC=N2)NC3=CC(=CC=C3)Br)OC"
        ],
        [
         "41",
         "SMI_26507",
         "pd98059",
         "4713.0",
         "C16H13NO3",
         "267.28",
         "QFWCYNPOPKQOKV-UHFFFAOYSA-N",
         "COC1=CC=CC(=C1N)C2=CC(=O)C3=CC=CC=C3O2"
        ],
        [
         "42",
         "SMI_20505",
         "pi-103",
         "9884685.0",
         "C19H16N4O3",
         "348.4",
         "TUVCWJQQGGETHL-UHFFFAOYSA-N",
         "C1COCCN1C2=NC(=NC3=C2OC4=C3C=CC=N4)C5=CC(=CC=C5)O"
        ],
        [
         "43",
         "SMI_56270",
         "pp2",
         "4878.0",
         "C15H16ClN5",
         "301.77",
         "PBBRWFOVCUAONR-UHFFFAOYSA-N",
         "CC(C)(C)N1C2=NC=NC(=C2C(=N1)C3=CC=C(C=C3)Cl)N"
        ],
        [
         "44",
         "SMI_56578",
         "prt062070",
         "56960607.0",
         "C20H28ClN7O3S",
         "482.0",
         "IYULGYKOHUAYCG-UHFFFAOYSA-N",
         "CCS(=O)(=O)N1CCN(CC1)C2=CC=C(C=C2)NC3=NC=C(C(=N3)NC4CC4)C(=O)N.Cl"
        ],
        [
         "45",
         "SMI_6144",
         "pazopanib",
         "10113978.0",
         "C21H23N7O2S",
         "437.5",
         "CUIHSIWYWATEQL-UHFFFAOYSA-N",
         "CC1=C(C=C(C=C1)NC2=NC=CC(=N2)N(C)C3=CC4=NN(C(=C4C=C3)C)C)S(=O)(=O)N"
        ],
        [
         "46",
         "SMI_33210",
         "pelitinib",
         "6445562.0",
         "C24H23ClFN5O2",
         "467.9",
         "WVUNYSQLFKLYNI-AATRIKPKSA-N",
         "CCOC1=C(C=C2C(=C1)N=CC(=C2NC3=CC(=C(C=C3)F)Cl)C#N)NC(=O)C=CCN(C)C"
        ],
        [
         "47",
         "SMI_45063",
         "ponatinib",
         "24826799.0",
         "C29H27F3N6O",
         "532.6",
         "PHXJVRSECIGDHY-UHFFFAOYSA-N",
         "CC1=C(C=C(C=C1)C(=O)NC2=CC(=C(C=C2)CN3CCN(CC3)C)C(F)(F)F)C#CC4=CN=C5N4N=CC=C5"
        ],
        [
         "48",
         "SMI_54268",
         "quizartinib",
         "24889392.0",
         "C29H32N6O4S",
         "560.7",
         "CVWXJKQAOSCOAB-UHFFFAOYSA-N",
         "CC(C)(C)C1=CC(=NO1)NC(=O)NC2=CC=C(C=C2)C3=CN4C5=C(C=C(C=C5)OCCN6CCOCC6)SC4=N3"
        ],
        [
         "49",
         "SMI_56407",
         "r406",
         "11984591.0",
         "C28H29FN6O8S",
         "628.6",
         "UXDRJPYSTZHIOE-UHFFFAOYSA-N",
         "CC1(C(=O)NC2=C(O1)C=CC(=N2)NC3=NC(=NC=C3F)NC4=CC(=C(C(=C4)OC)OC)OC)C.C1=CC=C(C=C1)S(=O)(=O)O"
        ]
       ],
       "shape": {
        "columns": 7,
        "rows": 166
       }
      },
      "text/html": [
       "<div>\n",
       "<style scoped>\n",
       "    .dataframe tbody tr th:only-of-type {\n",
       "        vertical-align: middle;\n",
       "    }\n",
       "\n",
       "    .dataframe tbody tr th {\n",
       "        vertical-align: top;\n",
       "    }\n",
       "\n",
       "    .dataframe thead th {\n",
       "        text-align: right;\n",
       "    }\n",
       "</style>\n",
       "<table border=\"1\" class=\"dataframe\">\n",
       "  <thead>\n",
       "    <tr style=\"text-align: right;\">\n",
       "      <th></th>\n",
       "      <th>improve_drug_id</th>\n",
       "      <th>chem_name</th>\n",
       "      <th>pubchem_id</th>\n",
       "      <th>formula</th>\n",
       "      <th>weight</th>\n",
       "      <th>InChIKey</th>\n",
       "      <th>canSMILES</th>\n",
       "    </tr>\n",
       "  </thead>\n",
       "  <tbody>\n",
       "    <tr>\n",
       "      <th>0</th>\n",
       "      <td>SMI_43282</td>\n",
       "      <td>cytarabine</td>\n",
       "      <td>6253.0</td>\n",
       "      <td>C9H13N3O5</td>\n",
       "      <td>243.22</td>\n",
       "      <td>UHDGCWIWMRVCDJ-CCXZUQQUSA-N</td>\n",
       "      <td>C1=CN(C(=O)N=C1N)C2C(C(C(O2)CO)O)O</td>\n",
       "    </tr>\n",
       "    <tr>\n",
       "      <th>1</th>\n",
       "      <td>SMI_23975</td>\n",
       "      <td>entospletinib</td>\n",
       "      <td>59473233.0</td>\n",
       "      <td>C23H21N7O</td>\n",
       "      <td>411.50</td>\n",
       "      <td>XSMSNFMDVXXHGJ-UHFFFAOYSA-N</td>\n",
       "      <td>C1COCCN1C2=CC=C(C=C2)NC3=NC(=CN4C3=NC=C4)C5=CC...</td>\n",
       "    </tr>\n",
       "    <tr>\n",
       "      <th>2</th>\n",
       "      <td>SMI_10282</td>\n",
       "      <td>nutlin 3a</td>\n",
       "      <td>11433190.0</td>\n",
       "      <td>C30H30Cl2N4O4</td>\n",
       "      <td>581.50</td>\n",
       "      <td>BDUHCSBCVGXTJM-WUFINQPMSA-N</td>\n",
       "      <td>CC(C)OC1=C(C=CC(=C1)OC)C2=NC(C(N2C(=O)N3CCNC(=...</td>\n",
       "    </tr>\n",
       "    <tr>\n",
       "      <th>3</th>\n",
       "      <td>SMI_56581</td>\n",
       "      <td>akt inhibitor iv</td>\n",
       "      <td>5719375.0</td>\n",
       "      <td>C31H27IN4S</td>\n",
       "      <td>614.50</td>\n",
       "      <td>NAYRELMNTQSBIN-UHFFFAOYSA-M</td>\n",
       "      <td>CC[N+]1=C(N(C2=C1C=C(C=C2)C3=NC4=CC=CC=C4S3)C5...</td>\n",
       "    </tr>\n",
       "    <tr>\n",
       "      <th>4</th>\n",
       "      <td>SMI_56572</td>\n",
       "      <td>akt inhibitor x</td>\n",
       "      <td>16760284.0</td>\n",
       "      <td>C20H26Cl2N2O</td>\n",
       "      <td>381.30</td>\n",
       "      <td>SVKSJUIYYCQZEC-UHFFFAOYSA-N</td>\n",
       "      <td>CCN(CC)CCCCN1C2=CC=CC=C2OC3=C1C=C(C=C3)Cl.Cl</td>\n",
       "    </tr>\n",
       "    <tr>\n",
       "      <th>...</th>\n",
       "      <td>...</td>\n",
       "      <td>...</td>\n",
       "      <td>...</td>\n",
       "      <td>...</td>\n",
       "      <td>...</td>\n",
       "      <td>...</td>\n",
       "      <td>...</td>\n",
       "    </tr>\n",
       "    <tr>\n",
       "      <th>161</th>\n",
       "      <td>SMI_2955</td>\n",
       "      <td>ralimetinib</td>\n",
       "      <td>11539025.0</td>\n",
       "      <td>C24H29FN6</td>\n",
       "      <td>420.50</td>\n",
       "      <td>XPPBBJCBDOEXDN-UHFFFAOYSA-N</td>\n",
       "      <td>CC(C)(C)CN1C2=C(C=CC(=N2)C3=C(N=C(N3)C(C)(C)C)...</td>\n",
       "    </tr>\n",
       "    <tr>\n",
       "      <th>162</th>\n",
       "      <td>SMI_56589</td>\n",
       "      <td>ranolazine</td>\n",
       "      <td>56959.0</td>\n",
       "      <td>C24H33N3O4</td>\n",
       "      <td>427.50</td>\n",
       "      <td>XKLMZUWKNUAPSZ-UHFFFAOYSA-N</td>\n",
       "      <td>CC1=C(C(=CC=C1)C)NC(=O)CN2CCN(CC2)CC(COC3=CC=C...</td>\n",
       "    </tr>\n",
       "    <tr>\n",
       "      <th>163</th>\n",
       "      <td>SMI_56573</td>\n",
       "      <td>xmd 8-87</td>\n",
       "      <td>53322923.0</td>\n",
       "      <td>C24H27N7O2</td>\n",
       "      <td>445.50</td>\n",
       "      <td>LGLHCXISMKHLIK-UHFFFAOYSA-N</td>\n",
       "      <td>CN1CCN(CC1)C2=CC(=C(C=C2)NC3=NC=C4C(=N3)N(C5=C...</td>\n",
       "    </tr>\n",
       "    <tr>\n",
       "      <th>164</th>\n",
       "      <td>SMI_39543</td>\n",
       "      <td>bms-754807</td>\n",
       "      <td>24785538.0</td>\n",
       "      <td>C23H24FN9O</td>\n",
       "      <td>461.50</td>\n",
       "      <td>LQVXSNNAFNGRAH-QHCPKHFHSA-N</td>\n",
       "      <td>CC1(CCCN1C2=NN3C=CC=C3C(=N2)NC4=NNC(=C4)C5CC5)...</td>\n",
       "    </tr>\n",
       "    <tr>\n",
       "      <th>165</th>\n",
       "      <td>SMI_5202</td>\n",
       "      <td>everolimus</td>\n",
       "      <td>6442177.0</td>\n",
       "      <td>C53H83NO14</td>\n",
       "      <td>958.20</td>\n",
       "      <td>HKVAMNSJSFKALM-GKUWKFKPSA-N</td>\n",
       "      <td>CC1CCC2CC(C(=CC=CC=CC(CC(C(=O)C(C(C(=CC(C(=O)C...</td>\n",
       "    </tr>\n",
       "  </tbody>\n",
       "</table>\n",
       "<p>166 rows × 7 columns</p>\n",
       "</div>"
      ],
      "text/plain": [
       "    improve_drug_id         chem_name  pubchem_id        formula  weight  \\\n",
       "0         SMI_43282        cytarabine      6253.0      C9H13N3O5  243.22   \n",
       "1         SMI_23975     entospletinib  59473233.0      C23H21N7O  411.50   \n",
       "2         SMI_10282         nutlin 3a  11433190.0  C30H30Cl2N4O4  581.50   \n",
       "3         SMI_56581  akt inhibitor iv   5719375.0     C31H27IN4S  614.50   \n",
       "4         SMI_56572   akt inhibitor x  16760284.0   C20H26Cl2N2O  381.30   \n",
       "..              ...               ...         ...            ...     ...   \n",
       "161        SMI_2955       ralimetinib  11539025.0      C24H29FN6  420.50   \n",
       "162       SMI_56589        ranolazine     56959.0     C24H33N3O4  427.50   \n",
       "163       SMI_56573          xmd 8-87  53322923.0     C24H27N7O2  445.50   \n",
       "164       SMI_39543        bms-754807  24785538.0     C23H24FN9O  461.50   \n",
       "165        SMI_5202        everolimus   6442177.0     C53H83NO14  958.20   \n",
       "\n",
       "                        InChIKey  \\\n",
       "0    UHDGCWIWMRVCDJ-CCXZUQQUSA-N   \n",
       "1    XSMSNFMDVXXHGJ-UHFFFAOYSA-N   \n",
       "2    BDUHCSBCVGXTJM-WUFINQPMSA-N   \n",
       "3    NAYRELMNTQSBIN-UHFFFAOYSA-M   \n",
       "4    SVKSJUIYYCQZEC-UHFFFAOYSA-N   \n",
       "..                           ...   \n",
       "161  XPPBBJCBDOEXDN-UHFFFAOYSA-N   \n",
       "162  XKLMZUWKNUAPSZ-UHFFFAOYSA-N   \n",
       "163  LGLHCXISMKHLIK-UHFFFAOYSA-N   \n",
       "164  LQVXSNNAFNGRAH-QHCPKHFHSA-N   \n",
       "165  HKVAMNSJSFKALM-GKUWKFKPSA-N   \n",
       "\n",
       "                                             canSMILES  \n",
       "0                   C1=CN(C(=O)N=C1N)C2C(C(C(O2)CO)O)O  \n",
       "1    C1COCCN1C2=CC=C(C=C2)NC3=NC(=CN4C3=NC=C4)C5=CC...  \n",
       "2    CC(C)OC1=C(C=CC(=C1)OC)C2=NC(C(N2C(=O)N3CCNC(=...  \n",
       "3    CC[N+]1=C(N(C2=C1C=C(C=C2)C3=NC4=CC=CC=C4S3)C5...  \n",
       "4         CCN(CC)CCCCN1C2=CC=CC=C2OC3=C1C=C(C=C3)Cl.Cl  \n",
       "..                                                 ...  \n",
       "161  CC(C)(C)CN1C2=C(C=CC(=N2)C3=C(N=C(N3)C(C)(C)C)...  \n",
       "162  CC1=C(C(=CC=C1)C)NC(=O)CN2CCN(CC2)CC(COC3=CC=C...  \n",
       "163  CN1CCN(CC1)C2=CC(=C(C=C2)NC3=NC=C4C(=N3)N(C5=C...  \n",
       "164  CC1(CCCN1C2=NN3C=CC=C3C(=N2)NC4=NNC(=C4)C5CC5)...  \n",
       "165  CC1CCC2CC(C(=CC=CC=CC(CC(C(=O)C(C(C(=CC(C(=O)C...  \n",
       "\n",
       "[166 rows x 7 columns]"
      ]
     },
     "execution_count": 11,
     "metadata": {},
     "output_type": "execute_result"
    }
   ],
   "source": [
    "beataml.drugs"
   ]
  },
  {
   "cell_type": "code",
   "execution_count": 15,
   "id": "6416b0a3",
   "metadata": {},
   "outputs": [
    {
     "data": {
      "application/vnd.microsoft.datawrangler.viewer.v0+json": {
       "columns": [
        {
         "name": "index",
         "rawType": "int64",
         "type": "integer"
        },
        {
         "name": "source",
         "rawType": "object",
         "type": "string"
        },
        {
         "name": "improve_sample_id",
         "rawType": "int64",
         "type": "integer"
        },
        {
         "name": "improve_drug_id",
         "rawType": "object",
         "type": "string"
        },
        {
         "name": "study",
         "rawType": "object",
         "type": "string"
        },
        {
         "name": "time",
         "rawType": "int64",
         "type": "integer"
        },
        {
         "name": "time_unit",
         "rawType": "object",
         "type": "string"
        },
        {
         "name": "dose_response_metric",
         "rawType": "object",
         "type": "string"
        },
        {
         "name": "dose_response_value",
         "rawType": "float64",
         "type": "float"
        }
       ],
       "ref": "b71d9b85-f431-4e16-8dd8-e924e43a4b4c",
       "rows": [
        [
         "189296",
         "synapse",
         "3909",
         "SMI_3871",
         "BeatAML",
         "72",
         "hrs",
         "auc",
         "0.7293"
        ],
        [
         "189297",
         "synapse",
         "3909",
         "SMI_4862",
         "BeatAML",
         "72",
         "hrs",
         "auc",
         "0.8712"
        ],
        [
         "189298",
         "synapse",
         "3909",
         "SMI_11493",
         "BeatAML",
         "72",
         "hrs",
         "auc",
         "0.4649"
        ],
        [
         "189299",
         "synapse",
         "3909",
         "SMI_23048",
         "BeatAML",
         "72",
         "hrs",
         "auc",
         "0.7243"
        ],
        [
         "189300",
         "synapse",
         "3909",
         "SMI_51801",
         "BeatAML",
         "72",
         "hrs",
         "auc",
         "0.481"
        ],
        [
         "189301",
         "synapse",
         "3909",
         "SMI_3962",
         "BeatAML",
         "72",
         "hrs",
         "auc",
         "0.4803"
        ],
        [
         "189302",
         "synapse",
         "3909",
         "SMI_44394",
         "BeatAML",
         "72",
         "hrs",
         "auc",
         "0.6934"
        ],
        [
         "189303",
         "synapse",
         "3909",
         "SMI_5108",
         "BeatAML",
         "72",
         "hrs",
         "auc",
         "0.9585"
        ],
        [
         "189304",
         "synapse",
         "3909",
         "SMI_46879",
         "BeatAML",
         "72",
         "hrs",
         "auc",
         "0.6469"
        ],
        [
         "189305",
         "synapse",
         "3909",
         "SMI_19449",
         "BeatAML",
         "72",
         "hrs",
         "auc",
         "0.8501"
        ],
        [
         "189306",
         "synapse",
         "3909",
         "SMI_14356",
         "BeatAML",
         "72",
         "hrs",
         "auc",
         "0.8196"
        ],
        [
         "189307",
         "synapse",
         "3909",
         "SMI_7971",
         "BeatAML",
         "72",
         "hrs",
         "auc",
         "0.1926"
        ],
        [
         "189308",
         "synapse",
         "3909",
         "SMI_8294",
         "BeatAML",
         "72",
         "hrs",
         "auc",
         "0.6519"
        ],
        [
         "189309",
         "synapse",
         "3909",
         "SMI_5060",
         "BeatAML",
         "72",
         "hrs",
         "auc",
         "0.5047"
        ],
        [
         "189310",
         "synapse",
         "3909",
         "SMI_31077",
         "BeatAML",
         "72",
         "hrs",
         "auc",
         "0.8458"
        ],
        [
         "189311",
         "synapse",
         "3909",
         "SMI_53245",
         "BeatAML",
         "72",
         "hrs",
         "auc",
         "0.6418"
        ],
        [
         "189312",
         "synapse",
         "3909",
         "SMI_25125",
         "BeatAML",
         "72",
         "hrs",
         "auc",
         "0.7362"
        ],
        [
         "189313",
         "synapse",
         "3909",
         "SMI_3109",
         "BeatAML",
         "72",
         "hrs",
         "auc",
         "0.7226"
        ],
        [
         "189314",
         "synapse",
         "3909",
         "SMI_11502",
         "BeatAML",
         "72",
         "hrs",
         "auc",
         "0.7813"
        ],
        [
         "189315",
         "synapse",
         "3909",
         "SMI_18541",
         "BeatAML",
         "72",
         "hrs",
         "auc",
         "0.7703"
        ],
        [
         "189316",
         "synapse",
         "3909",
         "SMI_20505",
         "BeatAML",
         "72",
         "hrs",
         "auc",
         "0.2031"
        ],
        [
         "189317",
         "synapse",
         "3909",
         "SMI_41466",
         "BeatAML",
         "72",
         "hrs",
         "auc",
         "0.9095"
        ],
        [
         "189318",
         "synapse",
         "3909",
         "SMI_39432",
         "BeatAML",
         "72",
         "hrs",
         "auc",
         "0.7919"
        ],
        [
         "189319",
         "synapse",
         "3909",
         "SMI_24635",
         "BeatAML",
         "72",
         "hrs",
         "auc",
         "0.7403"
        ],
        [
         "189320",
         "synapse",
         "3909",
         "SMI_41952",
         "BeatAML",
         "72",
         "hrs",
         "auc",
         "0.6777"
        ],
        [
         "189321",
         "synapse",
         "3909",
         "SMI_6419",
         "BeatAML",
         "72",
         "hrs",
         "auc",
         "0.8643"
        ],
        [
         "189322",
         "synapse",
         "3909",
         "SMI_11509",
         "BeatAML",
         "72",
         "hrs",
         "auc",
         "0.0752"
        ],
        [
         "189323",
         "synapse",
         "3909",
         "SMI_53126",
         "BeatAML",
         "72",
         "hrs",
         "auc",
         "0.5279"
        ],
        [
         "189324",
         "synapse",
         "3909",
         "SMI_28228",
         "BeatAML",
         "72",
         "hrs",
         "auc",
         "0.9082"
        ],
        [
         "189325",
         "synapse",
         "3909",
         "SMI_54944",
         "BeatAML",
         "72",
         "hrs",
         "auc",
         "0.7623"
        ],
        [
         "189326",
         "synapse",
         "3909",
         "SMI_18303",
         "BeatAML",
         "72",
         "hrs",
         "auc",
         "0.8212"
        ],
        [
         "189327",
         "synapse",
         "3909",
         "SMI_55592",
         "BeatAML",
         "72",
         "hrs",
         "auc",
         "0.3349"
        ],
        [
         "189328",
         "synapse",
         "3909",
         "SMI_55588",
         "BeatAML",
         "72",
         "hrs",
         "auc",
         "0.9667"
        ],
        [
         "189329",
         "synapse",
         "3909",
         "SMI_55461",
         "BeatAML",
         "72",
         "hrs",
         "auc",
         "0.7543"
        ],
        [
         "189330",
         "synapse",
         "3909",
         "SMI_55606",
         "BeatAML",
         "72",
         "hrs",
         "auc",
         "0.7571"
        ],
        [
         "189331",
         "synapse",
         "3909",
         "SMI_55656",
         "BeatAML",
         "72",
         "hrs",
         "auc",
         "0.9885"
        ],
        [
         "189332",
         "synapse",
         "3909",
         "SMI_55628",
         "BeatAML",
         "72",
         "hrs",
         "auc",
         "0.5898"
        ],
        [
         "189333",
         "synapse",
         "3909",
         "SMI_56397",
         "BeatAML",
         "72",
         "hrs",
         "auc",
         "0.7277"
        ],
        [
         "189334",
         "synapse",
         "3909",
         "SMI_55905",
         "BeatAML",
         "72",
         "hrs",
         "auc",
         "0.7221"
        ],
        [
         "189335",
         "synapse",
         "3909",
         "SMI_56545",
         "BeatAML",
         "72",
         "hrs",
         "auc",
         "0.8241"
        ],
        [
         "189336",
         "synapse",
         "3909",
         "SMI_56575",
         "BeatAML",
         "72",
         "hrs",
         "auc",
         "0.8714"
        ],
        [
         "189337",
         "synapse",
         "3909",
         "SMI_56584",
         "BeatAML",
         "72",
         "hrs",
         "auc",
         "0.6488"
        ],
        [
         "189338",
         "synapse",
         "3909",
         "SMI_56595",
         "BeatAML",
         "72",
         "hrs",
         "auc",
         "0.8296"
        ],
        [
         "189339",
         "synapse",
         "3909",
         "SMI_56574",
         "BeatAML",
         "72",
         "hrs",
         "auc",
         "0.9391"
        ],
        [
         "189340",
         "synapse",
         "3909",
         "SMI_56579",
         "BeatAML",
         "72",
         "hrs",
         "auc",
         "0.9294"
        ],
        [
         "189341",
         "synapse",
         "3909",
         "SMI_56577",
         "BeatAML",
         "72",
         "hrs",
         "auc",
         "0.7797"
        ],
        [
         "189342",
         "synapse",
         "3909",
         "SMI_56592",
         "BeatAML",
         "72",
         "hrs",
         "auc",
         "0.9125"
        ],
        [
         "189343",
         "synapse",
         "3909",
         "SMI_56581",
         "BeatAML",
         "72",
         "hrs",
         "auc",
         "0.4593"
        ],
        [
         "189344",
         "synapse",
         "3909",
         "SMI_56597",
         "BeatAML",
         "72",
         "hrs",
         "auc",
         "0.7619"
        ],
        [
         "189345",
         "synapse",
         "3909",
         "SMI_56587",
         "BeatAML",
         "72",
         "hrs",
         "auc",
         "0.398"
        ]
       ],
       "shape": {
        "columns": 8,
        "rows": 23662
       }
      },
      "text/html": [
       "<div>\n",
       "<style scoped>\n",
       "    .dataframe tbody tr th:only-of-type {\n",
       "        vertical-align: middle;\n",
       "    }\n",
       "\n",
       "    .dataframe tbody tr th {\n",
       "        vertical-align: top;\n",
       "    }\n",
       "\n",
       "    .dataframe thead th {\n",
       "        text-align: right;\n",
       "    }\n",
       "</style>\n",
       "<table border=\"1\" class=\"dataframe\">\n",
       "  <thead>\n",
       "    <tr style=\"text-align: right;\">\n",
       "      <th></th>\n",
       "      <th>source</th>\n",
       "      <th>improve_sample_id</th>\n",
       "      <th>improve_drug_id</th>\n",
       "      <th>study</th>\n",
       "      <th>time</th>\n",
       "      <th>time_unit</th>\n",
       "      <th>dose_response_metric</th>\n",
       "      <th>dose_response_value</th>\n",
       "    </tr>\n",
       "  </thead>\n",
       "  <tbody>\n",
       "    <tr>\n",
       "      <th>189296</th>\n",
       "      <td>synapse</td>\n",
       "      <td>3909</td>\n",
       "      <td>SMI_3871</td>\n",
       "      <td>BeatAML</td>\n",
       "      <td>72</td>\n",
       "      <td>hrs</td>\n",
       "      <td>auc</td>\n",
       "      <td>0.7293</td>\n",
       "    </tr>\n",
       "    <tr>\n",
       "      <th>189297</th>\n",
       "      <td>synapse</td>\n",
       "      <td>3909</td>\n",
       "      <td>SMI_4862</td>\n",
       "      <td>BeatAML</td>\n",
       "      <td>72</td>\n",
       "      <td>hrs</td>\n",
       "      <td>auc</td>\n",
       "      <td>0.8712</td>\n",
       "    </tr>\n",
       "    <tr>\n",
       "      <th>189298</th>\n",
       "      <td>synapse</td>\n",
       "      <td>3909</td>\n",
       "      <td>SMI_11493</td>\n",
       "      <td>BeatAML</td>\n",
       "      <td>72</td>\n",
       "      <td>hrs</td>\n",
       "      <td>auc</td>\n",
       "      <td>0.4649</td>\n",
       "    </tr>\n",
       "    <tr>\n",
       "      <th>189299</th>\n",
       "      <td>synapse</td>\n",
       "      <td>3909</td>\n",
       "      <td>SMI_23048</td>\n",
       "      <td>BeatAML</td>\n",
       "      <td>72</td>\n",
       "      <td>hrs</td>\n",
       "      <td>auc</td>\n",
       "      <td>0.7243</td>\n",
       "    </tr>\n",
       "    <tr>\n",
       "      <th>189300</th>\n",
       "      <td>synapse</td>\n",
       "      <td>3909</td>\n",
       "      <td>SMI_51801</td>\n",
       "      <td>BeatAML</td>\n",
       "      <td>72</td>\n",
       "      <td>hrs</td>\n",
       "      <td>auc</td>\n",
       "      <td>0.4810</td>\n",
       "    </tr>\n",
       "    <tr>\n",
       "      <th>...</th>\n",
       "      <td>...</td>\n",
       "      <td>...</td>\n",
       "      <td>...</td>\n",
       "      <td>...</td>\n",
       "      <td>...</td>\n",
       "      <td>...</td>\n",
       "      <td>...</td>\n",
       "      <td>...</td>\n",
       "    </tr>\n",
       "    <tr>\n",
       "      <th>212953</th>\n",
       "      <td>synapse</td>\n",
       "      <td>3628</td>\n",
       "      <td>SMI_13100</td>\n",
       "      <td>BeatAML</td>\n",
       "      <td>72</td>\n",
       "      <td>hrs</td>\n",
       "      <td>auc</td>\n",
       "      <td>0.6932</td>\n",
       "    </tr>\n",
       "    <tr>\n",
       "      <th>212954</th>\n",
       "      <td>synapse</td>\n",
       "      <td>3628</td>\n",
       "      <td>SMI_40233</td>\n",
       "      <td>BeatAML</td>\n",
       "      <td>72</td>\n",
       "      <td>hrs</td>\n",
       "      <td>auc</td>\n",
       "      <td>0.1915</td>\n",
       "    </tr>\n",
       "    <tr>\n",
       "      <th>212955</th>\n",
       "      <td>synapse</td>\n",
       "      <td>3628</td>\n",
       "      <td>SMI_16810</td>\n",
       "      <td>BeatAML</td>\n",
       "      <td>72</td>\n",
       "      <td>hrs</td>\n",
       "      <td>auc</td>\n",
       "      <td>0.3392</td>\n",
       "    </tr>\n",
       "    <tr>\n",
       "      <th>212956</th>\n",
       "      <td>synapse</td>\n",
       "      <td>3628</td>\n",
       "      <td>SMI_35928</td>\n",
       "      <td>BeatAML</td>\n",
       "      <td>72</td>\n",
       "      <td>hrs</td>\n",
       "      <td>auc</td>\n",
       "      <td>0.4730</td>\n",
       "    </tr>\n",
       "    <tr>\n",
       "      <th>212957</th>\n",
       "      <td>synapse</td>\n",
       "      <td>3628</td>\n",
       "      <td>SMI_32922</td>\n",
       "      <td>BeatAML</td>\n",
       "      <td>72</td>\n",
       "      <td>hrs</td>\n",
       "      <td>auc</td>\n",
       "      <td>0.8515</td>\n",
       "    </tr>\n",
       "  </tbody>\n",
       "</table>\n",
       "<p>23662 rows × 8 columns</p>\n",
       "</div>"
      ],
      "text/plain": [
       "         source  improve_sample_id improve_drug_id    study  time time_unit  \\\n",
       "189296  synapse               3909        SMI_3871  BeatAML    72       hrs   \n",
       "189297  synapse               3909        SMI_4862  BeatAML    72       hrs   \n",
       "189298  synapse               3909       SMI_11493  BeatAML    72       hrs   \n",
       "189299  synapse               3909       SMI_23048  BeatAML    72       hrs   \n",
       "189300  synapse               3909       SMI_51801  BeatAML    72       hrs   \n",
       "...         ...                ...             ...      ...   ...       ...   \n",
       "212953  synapse               3628       SMI_13100  BeatAML    72       hrs   \n",
       "212954  synapse               3628       SMI_40233  BeatAML    72       hrs   \n",
       "212955  synapse               3628       SMI_16810  BeatAML    72       hrs   \n",
       "212956  synapse               3628       SMI_35928  BeatAML    72       hrs   \n",
       "212957  synapse               3628       SMI_32922  BeatAML    72       hrs   \n",
       "\n",
       "       dose_response_metric  dose_response_value  \n",
       "189296                  auc               0.7293  \n",
       "189297                  auc               0.8712  \n",
       "189298                  auc               0.4649  \n",
       "189299                  auc               0.7243  \n",
       "189300                  auc               0.4810  \n",
       "...                     ...                  ...  \n",
       "212953                  auc               0.6932  \n",
       "212954                  auc               0.1915  \n",
       "212955                  auc               0.3392  \n",
       "212956                  auc               0.4730  \n",
       "212957                  auc               0.8515  \n",
       "\n",
       "[23662 rows x 8 columns]"
      ]
     },
     "execution_count": 15,
     "metadata": {},
     "output_type": "execute_result"
    }
   ],
   "source": [
    "beataml.experiments "
   ]
  },
  {
   "cell_type": "markdown",
   "id": "f175a79b",
   "metadata": {},
   "source": [
    "To view all metric options for a dataset use the pandas unique function. For this tutorial we are focused on the auc metric."
   ]
  },
  {
   "cell_type": "code",
   "execution_count": 12,
   "id": "7246245e",
   "metadata": {},
   "outputs": [
    {
     "data": {
      "text/plain": [
       "array(['fit_auc', 'fit_ic50', 'fit_ec50', 'fit_r2', 'fit_ec50se',\n",
       "       'fit_einf', 'fit_hs', 'aac', 'auc', 'dss'], dtype=object)"
      ]
     },
     "execution_count": 12,
     "metadata": {},
     "output_type": "execute_result"
    }
   ],
   "source": [
    "beataml.experiments.dose_response_metric.unique()"
   ]
  },
  {
   "cell_type": "markdown",
   "id": "5aff46a9",
   "metadata": {},
   "source": [
    "Use the dataset object function below to format a dataset based on specific arguments.\n",
    "Then adjust the beataml experiments dataset to only include samples where the dose_response_metric is auc. "
   ]
  },
  {
   "cell_type": "code",
   "execution_count": 13,
   "id": "d3b8cead",
   "metadata": {},
   "outputs": [
    {
     "data": {
      "application/vnd.microsoft.datawrangler.viewer.v0+json": {
       "columns": [
        {
         "name": "index",
         "rawType": "int64",
         "type": "integer"
        },
        {
         "name": "source",
         "rawType": "object",
         "type": "string"
        },
        {
         "name": "improve_sample_id",
         "rawType": "int64",
         "type": "integer"
        },
        {
         "name": "improve_drug_id",
         "rawType": "object",
         "type": "string"
        },
        {
         "name": "study",
         "rawType": "object",
         "type": "string"
        },
        {
         "name": "time",
         "rawType": "int64",
         "type": "integer"
        },
        {
         "name": "time_unit",
         "rawType": "object",
         "type": "string"
        },
        {
         "name": "dose_response_metric",
         "rawType": "object",
         "type": "string"
        },
        {
         "name": "dose_response_value",
         "rawType": "float64",
         "type": "float"
        }
       ],
       "ref": "c934ea8d-b5bb-41df-9594-915d6cb33653",
       "rows": [
        [
         "189296",
         "synapse",
         "3909",
         "SMI_3871",
         "BeatAML",
         "72",
         "hrs",
         "auc",
         "0.7293"
        ],
        [
         "189297",
         "synapse",
         "3909",
         "SMI_4862",
         "BeatAML",
         "72",
         "hrs",
         "auc",
         "0.8712"
        ],
        [
         "189298",
         "synapse",
         "3909",
         "SMI_11493",
         "BeatAML",
         "72",
         "hrs",
         "auc",
         "0.4649"
        ],
        [
         "189299",
         "synapse",
         "3909",
         "SMI_23048",
         "BeatAML",
         "72",
         "hrs",
         "auc",
         "0.7243"
        ],
        [
         "189300",
         "synapse",
         "3909",
         "SMI_51801",
         "BeatAML",
         "72",
         "hrs",
         "auc",
         "0.481"
        ],
        [
         "189301",
         "synapse",
         "3909",
         "SMI_3962",
         "BeatAML",
         "72",
         "hrs",
         "auc",
         "0.4803"
        ],
        [
         "189302",
         "synapse",
         "3909",
         "SMI_44394",
         "BeatAML",
         "72",
         "hrs",
         "auc",
         "0.6934"
        ],
        [
         "189303",
         "synapse",
         "3909",
         "SMI_5108",
         "BeatAML",
         "72",
         "hrs",
         "auc",
         "0.9585"
        ],
        [
         "189304",
         "synapse",
         "3909",
         "SMI_46879",
         "BeatAML",
         "72",
         "hrs",
         "auc",
         "0.6469"
        ],
        [
         "189305",
         "synapse",
         "3909",
         "SMI_19449",
         "BeatAML",
         "72",
         "hrs",
         "auc",
         "0.8501"
        ],
        [
         "189306",
         "synapse",
         "3909",
         "SMI_14356",
         "BeatAML",
         "72",
         "hrs",
         "auc",
         "0.8196"
        ],
        [
         "189307",
         "synapse",
         "3909",
         "SMI_7971",
         "BeatAML",
         "72",
         "hrs",
         "auc",
         "0.1926"
        ],
        [
         "189308",
         "synapse",
         "3909",
         "SMI_8294",
         "BeatAML",
         "72",
         "hrs",
         "auc",
         "0.6519"
        ],
        [
         "189309",
         "synapse",
         "3909",
         "SMI_5060",
         "BeatAML",
         "72",
         "hrs",
         "auc",
         "0.5047"
        ],
        [
         "189310",
         "synapse",
         "3909",
         "SMI_31077",
         "BeatAML",
         "72",
         "hrs",
         "auc",
         "0.8458"
        ],
        [
         "189311",
         "synapse",
         "3909",
         "SMI_53245",
         "BeatAML",
         "72",
         "hrs",
         "auc",
         "0.6418"
        ],
        [
         "189312",
         "synapse",
         "3909",
         "SMI_25125",
         "BeatAML",
         "72",
         "hrs",
         "auc",
         "0.7362"
        ],
        [
         "189313",
         "synapse",
         "3909",
         "SMI_3109",
         "BeatAML",
         "72",
         "hrs",
         "auc",
         "0.7226"
        ],
        [
         "189314",
         "synapse",
         "3909",
         "SMI_11502",
         "BeatAML",
         "72",
         "hrs",
         "auc",
         "0.7813"
        ],
        [
         "189315",
         "synapse",
         "3909",
         "SMI_18541",
         "BeatAML",
         "72",
         "hrs",
         "auc",
         "0.7703"
        ],
        [
         "189316",
         "synapse",
         "3909",
         "SMI_20505",
         "BeatAML",
         "72",
         "hrs",
         "auc",
         "0.2031"
        ],
        [
         "189317",
         "synapse",
         "3909",
         "SMI_41466",
         "BeatAML",
         "72",
         "hrs",
         "auc",
         "0.9095"
        ],
        [
         "189318",
         "synapse",
         "3909",
         "SMI_39432",
         "BeatAML",
         "72",
         "hrs",
         "auc",
         "0.7919"
        ],
        [
         "189319",
         "synapse",
         "3909",
         "SMI_24635",
         "BeatAML",
         "72",
         "hrs",
         "auc",
         "0.7403"
        ],
        [
         "189320",
         "synapse",
         "3909",
         "SMI_41952",
         "BeatAML",
         "72",
         "hrs",
         "auc",
         "0.6777"
        ],
        [
         "189321",
         "synapse",
         "3909",
         "SMI_6419",
         "BeatAML",
         "72",
         "hrs",
         "auc",
         "0.8643"
        ],
        [
         "189322",
         "synapse",
         "3909",
         "SMI_11509",
         "BeatAML",
         "72",
         "hrs",
         "auc",
         "0.0752"
        ],
        [
         "189323",
         "synapse",
         "3909",
         "SMI_53126",
         "BeatAML",
         "72",
         "hrs",
         "auc",
         "0.5279"
        ],
        [
         "189324",
         "synapse",
         "3909",
         "SMI_28228",
         "BeatAML",
         "72",
         "hrs",
         "auc",
         "0.9082"
        ],
        [
         "189325",
         "synapse",
         "3909",
         "SMI_54944",
         "BeatAML",
         "72",
         "hrs",
         "auc",
         "0.7623"
        ],
        [
         "189326",
         "synapse",
         "3909",
         "SMI_18303",
         "BeatAML",
         "72",
         "hrs",
         "auc",
         "0.8212"
        ],
        [
         "189327",
         "synapse",
         "3909",
         "SMI_55592",
         "BeatAML",
         "72",
         "hrs",
         "auc",
         "0.3349"
        ],
        [
         "189328",
         "synapse",
         "3909",
         "SMI_55588",
         "BeatAML",
         "72",
         "hrs",
         "auc",
         "0.9667"
        ],
        [
         "189329",
         "synapse",
         "3909",
         "SMI_55461",
         "BeatAML",
         "72",
         "hrs",
         "auc",
         "0.7543"
        ],
        [
         "189330",
         "synapse",
         "3909",
         "SMI_55606",
         "BeatAML",
         "72",
         "hrs",
         "auc",
         "0.7571"
        ],
        [
         "189331",
         "synapse",
         "3909",
         "SMI_55656",
         "BeatAML",
         "72",
         "hrs",
         "auc",
         "0.9885"
        ],
        [
         "189332",
         "synapse",
         "3909",
         "SMI_55628",
         "BeatAML",
         "72",
         "hrs",
         "auc",
         "0.5898"
        ],
        [
         "189333",
         "synapse",
         "3909",
         "SMI_56397",
         "BeatAML",
         "72",
         "hrs",
         "auc",
         "0.7277"
        ],
        [
         "189334",
         "synapse",
         "3909",
         "SMI_55905",
         "BeatAML",
         "72",
         "hrs",
         "auc",
         "0.7221"
        ],
        [
         "189335",
         "synapse",
         "3909",
         "SMI_56545",
         "BeatAML",
         "72",
         "hrs",
         "auc",
         "0.8241"
        ],
        [
         "189336",
         "synapse",
         "3909",
         "SMI_56575",
         "BeatAML",
         "72",
         "hrs",
         "auc",
         "0.8714"
        ],
        [
         "189337",
         "synapse",
         "3909",
         "SMI_56584",
         "BeatAML",
         "72",
         "hrs",
         "auc",
         "0.6488"
        ],
        [
         "189338",
         "synapse",
         "3909",
         "SMI_56595",
         "BeatAML",
         "72",
         "hrs",
         "auc",
         "0.8296"
        ],
        [
         "189339",
         "synapse",
         "3909",
         "SMI_56574",
         "BeatAML",
         "72",
         "hrs",
         "auc",
         "0.9391"
        ],
        [
         "189340",
         "synapse",
         "3909",
         "SMI_56579",
         "BeatAML",
         "72",
         "hrs",
         "auc",
         "0.9294"
        ],
        [
         "189341",
         "synapse",
         "3909",
         "SMI_56577",
         "BeatAML",
         "72",
         "hrs",
         "auc",
         "0.7797"
        ],
        [
         "189342",
         "synapse",
         "3909",
         "SMI_56592",
         "BeatAML",
         "72",
         "hrs",
         "auc",
         "0.9125"
        ],
        [
         "189343",
         "synapse",
         "3909",
         "SMI_56581",
         "BeatAML",
         "72",
         "hrs",
         "auc",
         "0.4593"
        ],
        [
         "189344",
         "synapse",
         "3909",
         "SMI_56597",
         "BeatAML",
         "72",
         "hrs",
         "auc",
         "0.7619"
        ],
        [
         "189345",
         "synapse",
         "3909",
         "SMI_56587",
         "BeatAML",
         "72",
         "hrs",
         "auc",
         "0.398"
        ]
       ],
       "shape": {
        "columns": 8,
        "rows": 23662
       }
      },
      "text/html": [
       "<div>\n",
       "<style scoped>\n",
       "    .dataframe tbody tr th:only-of-type {\n",
       "        vertical-align: middle;\n",
       "    }\n",
       "\n",
       "    .dataframe tbody tr th {\n",
       "        vertical-align: top;\n",
       "    }\n",
       "\n",
       "    .dataframe thead th {\n",
       "        text-align: right;\n",
       "    }\n",
       "</style>\n",
       "<table border=\"1\" class=\"dataframe\">\n",
       "  <thead>\n",
       "    <tr style=\"text-align: right;\">\n",
       "      <th></th>\n",
       "      <th>source</th>\n",
       "      <th>improve_sample_id</th>\n",
       "      <th>improve_drug_id</th>\n",
       "      <th>study</th>\n",
       "      <th>time</th>\n",
       "      <th>time_unit</th>\n",
       "      <th>dose_response_metric</th>\n",
       "      <th>dose_response_value</th>\n",
       "    </tr>\n",
       "  </thead>\n",
       "  <tbody>\n",
       "    <tr>\n",
       "      <th>189296</th>\n",
       "      <td>synapse</td>\n",
       "      <td>3909</td>\n",
       "      <td>SMI_3871</td>\n",
       "      <td>BeatAML</td>\n",
       "      <td>72</td>\n",
       "      <td>hrs</td>\n",
       "      <td>auc</td>\n",
       "      <td>0.7293</td>\n",
       "    </tr>\n",
       "    <tr>\n",
       "      <th>189297</th>\n",
       "      <td>synapse</td>\n",
       "      <td>3909</td>\n",
       "      <td>SMI_4862</td>\n",
       "      <td>BeatAML</td>\n",
       "      <td>72</td>\n",
       "      <td>hrs</td>\n",
       "      <td>auc</td>\n",
       "      <td>0.8712</td>\n",
       "    </tr>\n",
       "    <tr>\n",
       "      <th>189298</th>\n",
       "      <td>synapse</td>\n",
       "      <td>3909</td>\n",
       "      <td>SMI_11493</td>\n",
       "      <td>BeatAML</td>\n",
       "      <td>72</td>\n",
       "      <td>hrs</td>\n",
       "      <td>auc</td>\n",
       "      <td>0.4649</td>\n",
       "    </tr>\n",
       "    <tr>\n",
       "      <th>189299</th>\n",
       "      <td>synapse</td>\n",
       "      <td>3909</td>\n",
       "      <td>SMI_23048</td>\n",
       "      <td>BeatAML</td>\n",
       "      <td>72</td>\n",
       "      <td>hrs</td>\n",
       "      <td>auc</td>\n",
       "      <td>0.7243</td>\n",
       "    </tr>\n",
       "    <tr>\n",
       "      <th>189300</th>\n",
       "      <td>synapse</td>\n",
       "      <td>3909</td>\n",
       "      <td>SMI_51801</td>\n",
       "      <td>BeatAML</td>\n",
       "      <td>72</td>\n",
       "      <td>hrs</td>\n",
       "      <td>auc</td>\n",
       "      <td>0.4810</td>\n",
       "    </tr>\n",
       "    <tr>\n",
       "      <th>...</th>\n",
       "      <td>...</td>\n",
       "      <td>...</td>\n",
       "      <td>...</td>\n",
       "      <td>...</td>\n",
       "      <td>...</td>\n",
       "      <td>...</td>\n",
       "      <td>...</td>\n",
       "      <td>...</td>\n",
       "    </tr>\n",
       "    <tr>\n",
       "      <th>212953</th>\n",
       "      <td>synapse</td>\n",
       "      <td>3628</td>\n",
       "      <td>SMI_13100</td>\n",
       "      <td>BeatAML</td>\n",
       "      <td>72</td>\n",
       "      <td>hrs</td>\n",
       "      <td>auc</td>\n",
       "      <td>0.6932</td>\n",
       "    </tr>\n",
       "    <tr>\n",
       "      <th>212954</th>\n",
       "      <td>synapse</td>\n",
       "      <td>3628</td>\n",
       "      <td>SMI_40233</td>\n",
       "      <td>BeatAML</td>\n",
       "      <td>72</td>\n",
       "      <td>hrs</td>\n",
       "      <td>auc</td>\n",
       "      <td>0.1915</td>\n",
       "    </tr>\n",
       "    <tr>\n",
       "      <th>212955</th>\n",
       "      <td>synapse</td>\n",
       "      <td>3628</td>\n",
       "      <td>SMI_16810</td>\n",
       "      <td>BeatAML</td>\n",
       "      <td>72</td>\n",
       "      <td>hrs</td>\n",
       "      <td>auc</td>\n",
       "      <td>0.3392</td>\n",
       "    </tr>\n",
       "    <tr>\n",
       "      <th>212956</th>\n",
       "      <td>synapse</td>\n",
       "      <td>3628</td>\n",
       "      <td>SMI_35928</td>\n",
       "      <td>BeatAML</td>\n",
       "      <td>72</td>\n",
       "      <td>hrs</td>\n",
       "      <td>auc</td>\n",
       "      <td>0.4730</td>\n",
       "    </tr>\n",
       "    <tr>\n",
       "      <th>212957</th>\n",
       "      <td>synapse</td>\n",
       "      <td>3628</td>\n",
       "      <td>SMI_32922</td>\n",
       "      <td>BeatAML</td>\n",
       "      <td>72</td>\n",
       "      <td>hrs</td>\n",
       "      <td>auc</td>\n",
       "      <td>0.8515</td>\n",
       "    </tr>\n",
       "  </tbody>\n",
       "</table>\n",
       "<p>23662 rows × 8 columns</p>\n",
       "</div>"
      ],
      "text/plain": [
       "         source  improve_sample_id improve_drug_id    study  time time_unit  \\\n",
       "189296  synapse               3909        SMI_3871  BeatAML    72       hrs   \n",
       "189297  synapse               3909        SMI_4862  BeatAML    72       hrs   \n",
       "189298  synapse               3909       SMI_11493  BeatAML    72       hrs   \n",
       "189299  synapse               3909       SMI_23048  BeatAML    72       hrs   \n",
       "189300  synapse               3909       SMI_51801  BeatAML    72       hrs   \n",
       "...         ...                ...             ...      ...   ...       ...   \n",
       "212953  synapse               3628       SMI_13100  BeatAML    72       hrs   \n",
       "212954  synapse               3628       SMI_40233  BeatAML    72       hrs   \n",
       "212955  synapse               3628       SMI_16810  BeatAML    72       hrs   \n",
       "212956  synapse               3628       SMI_35928  BeatAML    72       hrs   \n",
       "212957  synapse               3628       SMI_32922  BeatAML    72       hrs   \n",
       "\n",
       "       dose_response_metric  dose_response_value  \n",
       "189296                  auc               0.7293  \n",
       "189297                  auc               0.8712  \n",
       "189298                  auc               0.4649  \n",
       "189299                  auc               0.7243  \n",
       "189300                  auc               0.4810  \n",
       "...                     ...                  ...  \n",
       "212953                  auc               0.6932  \n",
       "212954                  auc               0.1915  \n",
       "212955                  auc               0.3392  \n",
       "212956                  auc               0.4730  \n",
       "212957                  auc               0.8515  \n",
       "\n",
       "[23662 rows x 8 columns]"
      ]
     },
     "execution_count": 13,
     "metadata": {},
     "output_type": "execute_result"
    }
   ],
   "source": [
    "beataml.format(data_type='experiments', metrics='auc')"
   ]
  },
  {
   "cell_type": "code",
   "execution_count": 14,
   "id": "ecc14155",
   "metadata": {},
   "outputs": [],
   "source": [
    "beataml.experiments =  beataml.format(data_type= 'experiments', metrics='auc')"
   ]
  },
  {
   "cell_type": "markdown",
   "id": "8d381f74",
   "metadata": {},
   "source": [
    "## CoderData Split Functions\n",
    "The CoderData package includes its own split function that is intended for only coderdata specific datasets that have not been merged with other dataframes/ datasets. Here will show the use of this function before continuing to show training and validation on merged dataframes/ datasets. This is a quick overview of how to create train, test and validation splits."
   ]
  },
  {
   "cell_type": "markdown",
   "id": "1f4db9eb",
   "metadata": {},
   "source": [
    "Here we will use a different dataset to demonstrate the functions."
   ]
  },
  {
   "cell_type": "code",
   "execution_count": 2,
   "id": "6d074e6d",
   "metadata": {},
   "outputs": [
    {
     "name": "stderr",
     "output_type": "stream",
     "text": [
      "C:\\Users\\andr307\\AppData\\Local\\Programs\\Python\\Python312\\Lib\\site-packages\\coderdata\\download\\downloader.py:95: UserWarning: C:\\Users\\andr307\\Desktop\\tutorials\\docuTutorials\\genes.csv.gz already exists. Use argument 'exist_ok=True'to overwrite existing file.\n",
      "  warnings.warn(\n"
     ]
    },
    {
     "name": "stdout",
     "output_type": "stream",
     "text": [
      "Downloaded 'https://ndownloader.figshare.com/files/53779532' to 'C:\\Users\\andr307\\Desktop\\tutorials\\docuTutorials\\genes.csv.gz'\n"
     ]
    },
    {
     "name": "stderr",
     "output_type": "stream",
     "text": [
      "C:\\Users\\andr307\\AppData\\Local\\Programs\\Python\\Python312\\Lib\\site-packages\\coderdata\\download\\downloader.py:95: UserWarning: C:\\Users\\andr307\\Desktop\\tutorials\\docuTutorials\\mpnst_copy_number.csv.gz already exists. Use argument 'exist_ok=True'to overwrite existing file.\n",
      "  warnings.warn(\n"
     ]
    },
    {
     "name": "stdout",
     "output_type": "stream",
     "text": [
      "Downloaded 'https://ndownloader.figshare.com/files/53779559' to 'C:\\Users\\andr307\\Desktop\\tutorials\\docuTutorials\\mpnst_copy_number.csv.gz'\n"
     ]
    },
    {
     "name": "stderr",
     "output_type": "stream",
     "text": [
      "C:\\Users\\andr307\\AppData\\Local\\Programs\\Python\\Python312\\Lib\\site-packages\\coderdata\\download\\downloader.py:95: UserWarning: C:\\Users\\andr307\\Desktop\\tutorials\\docuTutorials\\mpnst_drug_descriptors.tsv.gz already exists. Use argument 'exist_ok=True'to overwrite existing file.\n",
      "  warnings.warn(\n"
     ]
    },
    {
     "name": "stdout",
     "output_type": "stream",
     "text": [
      "Downloaded 'https://ndownloader.figshare.com/files/53779562' to 'C:\\Users\\andr307\\Desktop\\tutorials\\docuTutorials\\mpnst_drug_descriptors.tsv.gz'\n"
     ]
    },
    {
     "name": "stderr",
     "output_type": "stream",
     "text": [
      "C:\\Users\\andr307\\AppData\\Local\\Programs\\Python\\Python312\\Lib\\site-packages\\coderdata\\download\\downloader.py:95: UserWarning: C:\\Users\\andr307\\Desktop\\tutorials\\docuTutorials\\mpnst_drugs.tsv.gz already exists. Use argument 'exist_ok=True'to overwrite existing file.\n",
      "  warnings.warn(\n"
     ]
    },
    {
     "name": "stdout",
     "output_type": "stream",
     "text": [
      "Downloaded 'https://ndownloader.figshare.com/files/53779565' to 'C:\\Users\\andr307\\Desktop\\tutorials\\docuTutorials\\mpnst_drugs.tsv.gz'\n"
     ]
    },
    {
     "name": "stderr",
     "output_type": "stream",
     "text": [
      "C:\\Users\\andr307\\AppData\\Local\\Programs\\Python\\Python312\\Lib\\site-packages\\coderdata\\download\\downloader.py:95: UserWarning: C:\\Users\\andr307\\Desktop\\tutorials\\docuTutorials\\mpnst_experiments.tsv.gz already exists. Use argument 'exist_ok=True'to overwrite existing file.\n",
      "  warnings.warn(\n"
     ]
    },
    {
     "name": "stdout",
     "output_type": "stream",
     "text": [
      "Downloaded 'https://ndownloader.figshare.com/files/53779568' to 'C:\\Users\\andr307\\Desktop\\tutorials\\docuTutorials\\mpnst_experiments.tsv.gz'\n"
     ]
    },
    {
     "name": "stderr",
     "output_type": "stream",
     "text": [
      "C:\\Users\\andr307\\AppData\\Local\\Programs\\Python\\Python312\\Lib\\site-packages\\coderdata\\download\\downloader.py:95: UserWarning: C:\\Users\\andr307\\Desktop\\tutorials\\docuTutorials\\mpnst_mutations.csv.gz already exists. Use argument 'exist_ok=True'to overwrite existing file.\n",
      "  warnings.warn(\n"
     ]
    },
    {
     "name": "stdout",
     "output_type": "stream",
     "text": [
      "Downloaded 'https://ndownloader.figshare.com/files/53779577' to 'C:\\Users\\andr307\\Desktop\\tutorials\\docuTutorials\\mpnst_mutations.csv.gz'\n"
     ]
    },
    {
     "name": "stderr",
     "output_type": "stream",
     "text": [
      "C:\\Users\\andr307\\AppData\\Local\\Programs\\Python\\Python312\\Lib\\site-packages\\coderdata\\download\\downloader.py:95: UserWarning: C:\\Users\\andr307\\Desktop\\tutorials\\docuTutorials\\mpnstpdx_combinations.tsv.gz already exists. Use argument 'exist_ok=True'to overwrite existing file.\n",
      "  warnings.warn(\n"
     ]
    },
    {
     "name": "stdout",
     "output_type": "stream",
     "text": [
      "Downloaded 'https://ndownloader.figshare.com/files/53779580' to 'C:\\Users\\andr307\\Desktop\\tutorials\\docuTutorials\\mpnstpdx_combinations.tsv.gz'\n"
     ]
    },
    {
     "name": "stderr",
     "output_type": "stream",
     "text": [
      "C:\\Users\\andr307\\AppData\\Local\\Programs\\Python\\Python312\\Lib\\site-packages\\coderdata\\download\\downloader.py:95: UserWarning: C:\\Users\\andr307\\Desktop\\tutorials\\docuTutorials\\mpnstpdx_copy_number.csv.gz already exists. Use argument 'exist_ok=True'to overwrite existing file.\n",
      "  warnings.warn(\n"
     ]
    },
    {
     "name": "stdout",
     "output_type": "stream",
     "text": [
      "Downloaded 'https://ndownloader.figshare.com/files/53779583' to 'C:\\Users\\andr307\\Desktop\\tutorials\\docuTutorials\\mpnstpdx_copy_number.csv.gz'\n"
     ]
    },
    {
     "name": "stderr",
     "output_type": "stream",
     "text": [
      "C:\\Users\\andr307\\AppData\\Local\\Programs\\Python\\Python312\\Lib\\site-packages\\coderdata\\download\\downloader.py:95: UserWarning: C:\\Users\\andr307\\Desktop\\tutorials\\docuTutorials\\mpnstpdx_drug_descriptors.tsv.gz already exists. Use argument 'exist_ok=True'to overwrite existing file.\n",
      "  warnings.warn(\n"
     ]
    },
    {
     "name": "stdout",
     "output_type": "stream",
     "text": [
      "Downloaded 'https://ndownloader.figshare.com/files/53779586' to 'C:\\Users\\andr307\\Desktop\\tutorials\\docuTutorials\\mpnstpdx_drug_descriptors.tsv.gz'\n"
     ]
    },
    {
     "name": "stderr",
     "output_type": "stream",
     "text": [
      "C:\\Users\\andr307\\AppData\\Local\\Programs\\Python\\Python312\\Lib\\site-packages\\coderdata\\download\\downloader.py:95: UserWarning: C:\\Users\\andr307\\Desktop\\tutorials\\docuTutorials\\mpnstpdx_drugs.tsv.gz already exists. Use argument 'exist_ok=True'to overwrite existing file.\n",
      "  warnings.warn(\n"
     ]
    },
    {
     "name": "stdout",
     "output_type": "stream",
     "text": [
      "Downloaded 'https://ndownloader.figshare.com/files/53779589' to 'C:\\Users\\andr307\\Desktop\\tutorials\\docuTutorials\\mpnstpdx_drugs.tsv.gz'\n"
     ]
    },
    {
     "name": "stderr",
     "output_type": "stream",
     "text": [
      "C:\\Users\\andr307\\AppData\\Local\\Programs\\Python\\Python312\\Lib\\site-packages\\coderdata\\download\\downloader.py:95: UserWarning: C:\\Users\\andr307\\Desktop\\tutorials\\docuTutorials\\mpnstpdx_experiments.tsv.gz already exists. Use argument 'exist_ok=True'to overwrite existing file.\n",
      "  warnings.warn(\n"
     ]
    },
    {
     "name": "stdout",
     "output_type": "stream",
     "text": [
      "Downloaded 'https://ndownloader.figshare.com/files/53779592' to 'C:\\Users\\andr307\\Desktop\\tutorials\\docuTutorials\\mpnstpdx_experiments.tsv.gz'\n"
     ]
    },
    {
     "name": "stderr",
     "output_type": "stream",
     "text": [
      "C:\\Users\\andr307\\AppData\\Local\\Programs\\Python\\Python312\\Lib\\site-packages\\coderdata\\download\\downloader.py:95: UserWarning: C:\\Users\\andr307\\Desktop\\tutorials\\docuTutorials\\mpnstpdx_mutations.csv.gz already exists. Use argument 'exist_ok=True'to overwrite existing file.\n",
      "  warnings.warn(\n"
     ]
    },
    {
     "name": "stdout",
     "output_type": "stream",
     "text": [
      "Downloaded 'https://ndownloader.figshare.com/files/53779595' to 'C:\\Users\\andr307\\Desktop\\tutorials\\docuTutorials\\mpnstpdx_mutations.csv.gz'\n"
     ]
    },
    {
     "name": "stderr",
     "output_type": "stream",
     "text": [
      "C:\\Users\\andr307\\AppData\\Local\\Programs\\Python\\Python312\\Lib\\site-packages\\coderdata\\download\\downloader.py:95: UserWarning: C:\\Users\\andr307\\Desktop\\tutorials\\docuTutorials\\mpnstpdx_proteomics.csv.gz already exists. Use argument 'exist_ok=True'to overwrite existing file.\n",
      "  warnings.warn(\n"
     ]
    },
    {
     "name": "stdout",
     "output_type": "stream",
     "text": [
      "Downloaded 'https://ndownloader.figshare.com/files/53779598' to 'C:\\Users\\andr307\\Desktop\\tutorials\\docuTutorials\\mpnstpdx_proteomics.csv.gz'\n"
     ]
    },
    {
     "name": "stderr",
     "output_type": "stream",
     "text": [
      "C:\\Users\\andr307\\AppData\\Local\\Programs\\Python\\Python312\\Lib\\site-packages\\coderdata\\download\\downloader.py:95: UserWarning: C:\\Users\\andr307\\Desktop\\tutorials\\docuTutorials\\mpnstpdx_transcriptomics.csv.gz already exists. Use argument 'exist_ok=True'to overwrite existing file.\n",
      "  warnings.warn(\n"
     ]
    },
    {
     "name": "stdout",
     "output_type": "stream",
     "text": [
      "Downloaded 'https://ndownloader.figshare.com/files/53779601' to 'C:\\Users\\andr307\\Desktop\\tutorials\\docuTutorials\\mpnstpdx_transcriptomics.csv.gz'\n"
     ]
    },
    {
     "name": "stderr",
     "output_type": "stream",
     "text": [
      "C:\\Users\\andr307\\AppData\\Local\\Programs\\Python\\Python312\\Lib\\site-packages\\coderdata\\download\\downloader.py:95: UserWarning: C:\\Users\\andr307\\Desktop\\tutorials\\docuTutorials\\mpnstpdx_samples.csv already exists. Use argument 'exist_ok=True'to overwrite existing file.\n",
      "  warnings.warn(\n"
     ]
    },
    {
     "name": "stdout",
     "output_type": "stream",
     "text": [
      "Downloaded 'https://ndownloader.figshare.com/files/53779604' to 'C:\\Users\\andr307\\Desktop\\tutorials\\docuTutorials\\mpnstpdx_samples.csv'\n"
     ]
    },
    {
     "name": "stderr",
     "output_type": "stream",
     "text": [
      "C:\\Users\\andr307\\AppData\\Local\\Programs\\Python\\Python312\\Lib\\site-packages\\coderdata\\download\\downloader.py:95: UserWarning: C:\\Users\\andr307\\Desktop\\tutorials\\docuTutorials\\mpnst_proteomics.csv.gz already exists. Use argument 'exist_ok=True'to overwrite existing file.\n",
      "  warnings.warn(\n"
     ]
    },
    {
     "name": "stdout",
     "output_type": "stream",
     "text": [
      "Downloaded 'https://ndownloader.figshare.com/files/53779607' to 'C:\\Users\\andr307\\Desktop\\tutorials\\docuTutorials\\mpnst_proteomics.csv.gz'\n"
     ]
    },
    {
     "name": "stderr",
     "output_type": "stream",
     "text": [
      "C:\\Users\\andr307\\AppData\\Local\\Programs\\Python\\Python312\\Lib\\site-packages\\coderdata\\download\\downloader.py:95: UserWarning: C:\\Users\\andr307\\Desktop\\tutorials\\docuTutorials\\mpnst_samples.csv already exists. Use argument 'exist_ok=True'to overwrite existing file.\n",
      "  warnings.warn(\n"
     ]
    },
    {
     "name": "stdout",
     "output_type": "stream",
     "text": [
      "Downloaded 'https://ndownloader.figshare.com/files/53779613' to 'C:\\Users\\andr307\\Desktop\\tutorials\\docuTutorials\\mpnst_samples.csv'\n",
      "Downloaded 'https://ndownloader.figshare.com/files/53779655' to 'C:\\Users\\andr307\\Desktop\\tutorials\\docuTutorials\\mpnst_transcriptomics.csv.gz'\n"
     ]
    },
    {
     "name": "stderr",
     "output_type": "stream",
     "text": [
      "C:\\Users\\andr307\\AppData\\Local\\Programs\\Python\\Python312\\Lib\\site-packages\\coderdata\\download\\downloader.py:95: UserWarning: C:\\Users\\andr307\\Desktop\\tutorials\\docuTutorials\\mpnst_transcriptomics.csv.gz already exists. Use argument 'exist_ok=True'to overwrite existing file.\n",
      "  warnings.warn(\n"
     ]
    }
   ],
   "source": [
    "cd.download(\"mpnst\")"
   ]
  },
  {
   "cell_type": "code",
   "execution_count": 3,
   "id": "c970faa5-92b1-4801-ad2d-86a50f9df4a4",
   "metadata": {},
   "outputs": [
    {
     "name": "stderr",
     "output_type": "stream",
     "text": [
      "Importing raw data ...\n",
      "Importing 'genes' from C:\\Users\\andr307\\Desktop\\tutorials\\docuTutorials\\genes.csv.gz ... DONE\n",
      "Importing 'dx_combinations' from C:\\Users\\andr307\\Desktop\\tutorials\\docuTutorials\\mpnstpdx_combinations.tsv.gz ... Importing 'dx_copy_number' from C:\\Users\\andr307\\Desktop\\tutorials\\docuTutorials\\mpnstpdx_copy_number.csv.gz ... Importing 'dx_drugs' from C:\\Users\\andr307\\Desktop\\tutorials\\docuTutorials\\mpnstpdx_drugs.tsv.gz ... Importing 'dx_drug_descriptors' from C:\\Users\\andr307\\Desktop\\tutorials\\docuTutorials\\mpnstpdx_drug_descriptors.tsv.gz ... Importing 'dx_experiments' from C:\\Users\\andr307\\Desktop\\tutorials\\docuTutorials\\mpnstpdx_experiments.tsv.gz ... Importing 'dx_mutations' from C:\\Users\\andr307\\Desktop\\tutorials\\docuTutorials\\mpnstpdx_mutations.csv.gz ... Importing 'dx_proteomics' from C:\\Users\\andr307\\Desktop\\tutorials\\docuTutorials\\mpnstpdx_proteomics.csv.gz ... Importing 'dx_samples' from C:\\Users\\andr307\\Desktop\\tutorials\\docuTutorials\\mpnstpdx_samples.csv ... Importing 'dx_transcriptomics' from C:\\Users\\andr307\\Desktop\\tutorials\\docuTutorials\\mpnstpdx_transcriptomics.csv.gz ... Importing 'copy_number' from C:\\Users\\andr307\\Desktop\\tutorials\\docuTutorials\\mpnst_copy_number.csv.gz ... DONE\n",
      "Importing 'drugs' from C:\\Users\\andr307\\Desktop\\tutorials\\docuTutorials\\mpnst_drugs.tsv.gz ... DONE\n",
      "Importing 'drug_descriptors' from C:\\Users\\andr307\\Desktop\\tutorials\\docuTutorials\\mpnst_drug_descriptors.tsv.gz ... DONE\n",
      "Importing 'experiments' from C:\\Users\\andr307\\Desktop\\tutorials\\docuTutorials\\mpnst_experiments.tsv.gz ... DONE\n",
      "Importing 'mutations' from C:\\Users\\andr307\\Desktop\\tutorials\\docuTutorials\\mpnst_mutations.csv.gz ... DONE\n",
      "Importing 'proteomics' from C:\\Users\\andr307\\Desktop\\tutorials\\docuTutorials\\mpnst_proteomics.csv.gz ... DONE\n",
      "Importing 'samples' from C:\\Users\\andr307\\Desktop\\tutorials\\docuTutorials\\mpnst_samples.csv ... DONE\n",
      "Importing 'transcriptomics' from C:\\Users\\andr307\\Desktop\\tutorials\\docuTutorials\\mpnst_transcriptomics.csv.gz ... DONE\n",
      "Importing raw data ... DONE\n"
     ]
    }
   ],
   "source": [
    "mpnst = cd.load(\"mpnst\")"
   ]
  },
  {
   "cell_type": "markdown",
   "id": "0d9fdd50",
   "metadata": {},
   "source": [
    "### Two Way Split"
   ]
  },
  {
   "cell_type": "markdown",
   "id": "ee9eff3c",
   "metadata": {},
   "source": [
    "To view all available arguments for the split functions use the help function."
   ]
  },
  {
   "cell_type": "code",
   "execution_count": 60,
   "id": "fb73b694",
   "metadata": {},
   "outputs": [
    {
     "name": "stdout",
     "output_type": "stream",
     "text": [
      "Help on method split_train_other in module coderdata.dataset.dataset:\n",
      "\n",
      "split_train_other(split_type: \"Literal['mixed-set', 'drug-blind', 'cancer-blind']\" = 'mixed-set', ratio: 'tuple[int, int]' = (8, 2), stratify_by: 'Optional[str]' = None, balance: 'bool' = False, random_state: 'Optional[Union[int, RandomState]]' = None, **kwargs: 'dict') -> 'TwoWaySplit' method of coderdata.dataset.dataset.Dataset instance\n",
      "\n"
     ]
    }
   ],
   "source": [
    "help(mpnst.split_train_other)"
   ]
  },
  {
   "cell_type": "markdown",
   "id": "c4886e06",
   "metadata": {},
   "source": [
    "An example of a two way split that is trained on mpnst datasets experiments dataframe. To view the definition of different split_type view the API reference."
   ]
  },
  {
   "cell_type": "code",
   "execution_count": 8,
   "id": "e10ed889",
   "metadata": {},
   "outputs": [],
   "source": [
    "two_way_split = mpnst.split_train_other(split_type='drug-blind',\n",
    "                                        ratio= [8,2],\n",
    "                                         random_state =42,\n",
    "                                         )"
   ]
  },
  {
   "cell_type": "markdown",
   "id": "257c6c60",
   "metadata": {},
   "source": [
    "To view both the train and other splits."
   ]
  },
  {
   "cell_type": "code",
   "execution_count": 9,
   "id": "28e333da",
   "metadata": {},
   "outputs": [
    {
     "data": {
      "text/html": [
       "<div>\n",
       "<style scoped>\n",
       "    .dataframe tbody tr th:only-of-type {\n",
       "        vertical-align: middle;\n",
       "    }\n",
       "\n",
       "    .dataframe tbody tr th {\n",
       "        vertical-align: top;\n",
       "    }\n",
       "\n",
       "    .dataframe thead th {\n",
       "        text-align: right;\n",
       "    }\n",
       "</style>\n",
       "<table border=\"1\" class=\"dataframe\">\n",
       "  <thead>\n",
       "    <tr style=\"text-align: right;\">\n",
       "      <th></th>\n",
       "      <th>source</th>\n",
       "      <th>improve_sample_id</th>\n",
       "      <th>improve_drug_id</th>\n",
       "      <th>study</th>\n",
       "      <th>time</th>\n",
       "      <th>time_unit</th>\n",
       "      <th>dose_response_metric</th>\n",
       "      <th>dose_response_value</th>\n",
       "    </tr>\n",
       "  </thead>\n",
       "  <tbody>\n",
       "    <tr>\n",
       "      <th>0</th>\n",
       "      <td>NF Data Portal</td>\n",
       "      <td>5373</td>\n",
       "      <td>SMI_12635</td>\n",
       "      <td>MT 210413 exp</td>\n",
       "      <td>48</td>\n",
       "      <td>hours</td>\n",
       "      <td>aac</td>\n",
       "      <td>0.7336</td>\n",
       "    </tr>\n",
       "    <tr>\n",
       "      <th>1</th>\n",
       "      <td>NF Data Portal</td>\n",
       "      <td>5373</td>\n",
       "      <td>SMI_12635</td>\n",
       "      <td>MT 210609 exp</td>\n",
       "      <td>48</td>\n",
       "      <td>hours</td>\n",
       "      <td>aac</td>\n",
       "      <td>0.4773</td>\n",
       "    </tr>\n",
       "    <tr>\n",
       "      <th>2</th>\n",
       "      <td>NF Data Portal</td>\n",
       "      <td>5373</td>\n",
       "      <td>SMI_12635</td>\n",
       "      <td>MT 210616 exp</td>\n",
       "      <td>48</td>\n",
       "      <td>hours</td>\n",
       "      <td>aac</td>\n",
       "      <td>0.5616</td>\n",
       "    </tr>\n",
       "    <tr>\n",
       "      <th>3</th>\n",
       "      <td>NF Data Portal</td>\n",
       "      <td>5373</td>\n",
       "      <td>SMI_13747</td>\n",
       "      <td>MT 210413 exp</td>\n",
       "      <td>48</td>\n",
       "      <td>hours</td>\n",
       "      <td>aac</td>\n",
       "      <td>0.8560</td>\n",
       "    </tr>\n",
       "    <tr>\n",
       "      <th>4</th>\n",
       "      <td>NF Data Portal</td>\n",
       "      <td>5373</td>\n",
       "      <td>SMI_13747</td>\n",
       "      <td>MT 210609 exp</td>\n",
       "      <td>48</td>\n",
       "      <td>hours</td>\n",
       "      <td>aac</td>\n",
       "      <td>0.4864</td>\n",
       "    </tr>\n",
       "    <tr>\n",
       "      <th>...</th>\n",
       "      <td>...</td>\n",
       "      <td>...</td>\n",
       "      <td>...</td>\n",
       "      <td>...</td>\n",
       "      <td>...</td>\n",
       "      <td>...</td>\n",
       "      <td>...</td>\n",
       "      <td>...</td>\n",
       "    </tr>\n",
       "    <tr>\n",
       "      <th>2095</th>\n",
       "      <td>NF Data Portal</td>\n",
       "      <td>5382</td>\n",
       "      <td>SMI_50659</td>\n",
       "      <td>MT 210609 exp</td>\n",
       "      <td>48</td>\n",
       "      <td>hours</td>\n",
       "      <td>fit_r2</td>\n",
       "      <td>0.0005</td>\n",
       "    </tr>\n",
       "    <tr>\n",
       "      <th>2096</th>\n",
       "      <td>NF Data Portal</td>\n",
       "      <td>5382</td>\n",
       "      <td>SMI_51826</td>\n",
       "      <td>MT 210609 exp</td>\n",
       "      <td>48</td>\n",
       "      <td>hours</td>\n",
       "      <td>fit_r2</td>\n",
       "      <td>-0.0106</td>\n",
       "    </tr>\n",
       "    <tr>\n",
       "      <th>2097</th>\n",
       "      <td>NF Data Portal</td>\n",
       "      <td>5382</td>\n",
       "      <td>SMI_56599</td>\n",
       "      <td>MT 210609 exp</td>\n",
       "      <td>48</td>\n",
       "      <td>hours</td>\n",
       "      <td>fit_r2</td>\n",
       "      <td>-0.0000</td>\n",
       "    </tr>\n",
       "    <tr>\n",
       "      <th>2098</th>\n",
       "      <td>NF Data Portal</td>\n",
       "      <td>5382</td>\n",
       "      <td>SMI_56600</td>\n",
       "      <td>MT 210609 exp</td>\n",
       "      <td>48</td>\n",
       "      <td>hours</td>\n",
       "      <td>fit_r2</td>\n",
       "      <td>-0.1038</td>\n",
       "    </tr>\n",
       "    <tr>\n",
       "      <th>2099</th>\n",
       "      <td>NF Data Portal</td>\n",
       "      <td>5382</td>\n",
       "      <td>SMI_9830</td>\n",
       "      <td>MT 210609 exp</td>\n",
       "      <td>48</td>\n",
       "      <td>hours</td>\n",
       "      <td>fit_r2</td>\n",
       "      <td>0.0033</td>\n",
       "    </tr>\n",
       "  </tbody>\n",
       "</table>\n",
       "<p>2100 rows × 8 columns</p>\n",
       "</div>"
      ],
      "text/plain": [
       "              source  improve_sample_id improve_drug_id          study  time  \\\n",
       "0     NF Data Portal               5373       SMI_12635  MT 210413 exp    48   \n",
       "1     NF Data Portal               5373       SMI_12635  MT 210609 exp    48   \n",
       "2     NF Data Portal               5373       SMI_12635  MT 210616 exp    48   \n",
       "3     NF Data Portal               5373       SMI_13747  MT 210413 exp    48   \n",
       "4     NF Data Portal               5373       SMI_13747  MT 210609 exp    48   \n",
       "...              ...                ...             ...            ...   ...   \n",
       "2095  NF Data Portal               5382       SMI_50659  MT 210609 exp    48   \n",
       "2096  NF Data Portal               5382       SMI_51826  MT 210609 exp    48   \n",
       "2097  NF Data Portal               5382       SMI_56599  MT 210609 exp    48   \n",
       "2098  NF Data Portal               5382       SMI_56600  MT 210609 exp    48   \n",
       "2099  NF Data Portal               5382        SMI_9830  MT 210609 exp    48   \n",
       "\n",
       "     time_unit dose_response_metric  dose_response_value  \n",
       "0        hours                  aac               0.7336  \n",
       "1        hours                  aac               0.4773  \n",
       "2        hours                  aac               0.5616  \n",
       "3        hours                  aac               0.8560  \n",
       "4        hours                  aac               0.4864  \n",
       "...        ...                  ...                  ...  \n",
       "2095     hours               fit_r2               0.0005  \n",
       "2096     hours               fit_r2              -0.0106  \n",
       "2097     hours               fit_r2              -0.0000  \n",
       "2098     hours               fit_r2              -0.1038  \n",
       "2099     hours               fit_r2               0.0033  \n",
       "\n",
       "[2100 rows x 8 columns]"
      ]
     },
     "execution_count": 9,
     "metadata": {},
     "output_type": "execute_result"
    }
   ],
   "source": [
    "two_way_split.train.experiments"
   ]
  },
  {
   "cell_type": "code",
   "execution_count": 10,
   "id": "851ecf61",
   "metadata": {},
   "outputs": [
    {
     "data": {
      "text/html": [
       "<div>\n",
       "<style scoped>\n",
       "    .dataframe tbody tr th:only-of-type {\n",
       "        vertical-align: middle;\n",
       "    }\n",
       "\n",
       "    .dataframe tbody tr th {\n",
       "        vertical-align: top;\n",
       "    }\n",
       "\n",
       "    .dataframe thead th {\n",
       "        text-align: right;\n",
       "    }\n",
       "</style>\n",
       "<table border=\"1\" class=\"dataframe\">\n",
       "  <thead>\n",
       "    <tr style=\"text-align: right;\">\n",
       "      <th></th>\n",
       "      <th>source</th>\n",
       "      <th>improve_sample_id</th>\n",
       "      <th>improve_drug_id</th>\n",
       "      <th>study</th>\n",
       "      <th>time</th>\n",
       "      <th>time_unit</th>\n",
       "      <th>dose_response_metric</th>\n",
       "      <th>dose_response_value</th>\n",
       "    </tr>\n",
       "  </thead>\n",
       "  <tbody>\n",
       "    <tr>\n",
       "      <th>0</th>\n",
       "      <td>NF Data Portal</td>\n",
       "      <td>5373</td>\n",
       "      <td>SMI_11472</td>\n",
       "      <td>MT 210413 exp</td>\n",
       "      <td>48</td>\n",
       "      <td>hours</td>\n",
       "      <td>aac</td>\n",
       "      <td>0.8177</td>\n",
       "    </tr>\n",
       "    <tr>\n",
       "      <th>1</th>\n",
       "      <td>NF Data Portal</td>\n",
       "      <td>5373</td>\n",
       "      <td>SMI_11472</td>\n",
       "      <td>MT 210609 exp</td>\n",
       "      <td>48</td>\n",
       "      <td>hours</td>\n",
       "      <td>aac</td>\n",
       "      <td>0.3903</td>\n",
       "    </tr>\n",
       "    <tr>\n",
       "      <th>2</th>\n",
       "      <td>NF Data Portal</td>\n",
       "      <td>5373</td>\n",
       "      <td>SMI_11472</td>\n",
       "      <td>MT 210616 exp</td>\n",
       "      <td>48</td>\n",
       "      <td>hours</td>\n",
       "      <td>aac</td>\n",
       "      <td>0.3457</td>\n",
       "    </tr>\n",
       "    <tr>\n",
       "      <th>3</th>\n",
       "      <td>NF Data Portal</td>\n",
       "      <td>5373</td>\n",
       "      <td>SMI_24544</td>\n",
       "      <td>MT 210413 exp</td>\n",
       "      <td>48</td>\n",
       "      <td>hours</td>\n",
       "      <td>aac</td>\n",
       "      <td>0.8843</td>\n",
       "    </tr>\n",
       "    <tr>\n",
       "      <th>4</th>\n",
       "      <td>NF Data Portal</td>\n",
       "      <td>5373</td>\n",
       "      <td>SMI_24544</td>\n",
       "      <td>MT 210609 exp</td>\n",
       "      <td>48</td>\n",
       "      <td>hours</td>\n",
       "      <td>aac</td>\n",
       "      <td>0.3410</td>\n",
       "    </tr>\n",
       "    <tr>\n",
       "      <th>...</th>\n",
       "      <td>...</td>\n",
       "      <td>...</td>\n",
       "      <td>...</td>\n",
       "      <td>...</td>\n",
       "      <td>...</td>\n",
       "      <td>...</td>\n",
       "      <td>...</td>\n",
       "      <td>...</td>\n",
       "    </tr>\n",
       "    <tr>\n",
       "      <th>535</th>\n",
       "      <td>NF Data Portal</td>\n",
       "      <td>5381</td>\n",
       "      <td>SMI_11472</td>\n",
       "      <td>MT 210428 exp</td>\n",
       "      <td>48</td>\n",
       "      <td>hours</td>\n",
       "      <td>fit_r2</td>\n",
       "      <td>0.0084</td>\n",
       "    </tr>\n",
       "    <tr>\n",
       "      <th>536</th>\n",
       "      <td>NF Data Portal</td>\n",
       "      <td>5381</td>\n",
       "      <td>SMI_24544</td>\n",
       "      <td>MT 210428 exp</td>\n",
       "      <td>48</td>\n",
       "      <td>hours</td>\n",
       "      <td>fit_r2</td>\n",
       "      <td>-0.0531</td>\n",
       "    </tr>\n",
       "    <tr>\n",
       "      <th>537</th>\n",
       "      <td>NF Data Portal</td>\n",
       "      <td>5381</td>\n",
       "      <td>SMI_33215</td>\n",
       "      <td>MT 210428 exp</td>\n",
       "      <td>48</td>\n",
       "      <td>hours</td>\n",
       "      <td>fit_r2</td>\n",
       "      <td>0.0393</td>\n",
       "    </tr>\n",
       "    <tr>\n",
       "      <th>538</th>\n",
       "      <td>NF Data Portal</td>\n",
       "      <td>5381</td>\n",
       "      <td>SMI_46210</td>\n",
       "      <td>MT 210428 exp</td>\n",
       "      <td>48</td>\n",
       "      <td>hours</td>\n",
       "      <td>fit_r2</td>\n",
       "      <td>0.1115</td>\n",
       "    </tr>\n",
       "    <tr>\n",
       "      <th>539</th>\n",
       "      <td>NF Data Portal</td>\n",
       "      <td>5381</td>\n",
       "      <td>SMI_605</td>\n",
       "      <td>MT 210428 exp</td>\n",
       "      <td>48</td>\n",
       "      <td>hours</td>\n",
       "      <td>fit_r2</td>\n",
       "      <td>-0.0501</td>\n",
       "    </tr>\n",
       "  </tbody>\n",
       "</table>\n",
       "<p>540 rows × 8 columns</p>\n",
       "</div>"
      ],
      "text/plain": [
       "             source  improve_sample_id improve_drug_id          study  time  \\\n",
       "0    NF Data Portal               5373       SMI_11472  MT 210413 exp    48   \n",
       "1    NF Data Portal               5373       SMI_11472  MT 210609 exp    48   \n",
       "2    NF Data Portal               5373       SMI_11472  MT 210616 exp    48   \n",
       "3    NF Data Portal               5373       SMI_24544  MT 210413 exp    48   \n",
       "4    NF Data Portal               5373       SMI_24544  MT 210609 exp    48   \n",
       "..              ...                ...             ...            ...   ...   \n",
       "535  NF Data Portal               5381       SMI_11472  MT 210428 exp    48   \n",
       "536  NF Data Portal               5381       SMI_24544  MT 210428 exp    48   \n",
       "537  NF Data Portal               5381       SMI_33215  MT 210428 exp    48   \n",
       "538  NF Data Portal               5381       SMI_46210  MT 210428 exp    48   \n",
       "539  NF Data Portal               5381         SMI_605  MT 210428 exp    48   \n",
       "\n",
       "    time_unit dose_response_metric  dose_response_value  \n",
       "0       hours                  aac               0.8177  \n",
       "1       hours                  aac               0.3903  \n",
       "2       hours                  aac               0.3457  \n",
       "3       hours                  aac               0.8843  \n",
       "4       hours                  aac               0.3410  \n",
       "..        ...                  ...                  ...  \n",
       "535     hours               fit_r2               0.0084  \n",
       "536     hours               fit_r2              -0.0531  \n",
       "537     hours               fit_r2               0.0393  \n",
       "538     hours               fit_r2               0.1115  \n",
       "539     hours               fit_r2              -0.0501  \n",
       "\n",
       "[540 rows x 8 columns]"
      ]
     },
     "execution_count": 10,
     "metadata": {},
     "output_type": "execute_result"
    }
   ],
   "source": [
    "two_way_split.other.experiments"
   ]
  },
  {
   "cell_type": "markdown",
   "id": "4580372d",
   "metadata": {},
   "source": [
    "### Three-Way Split\n",
    "The three-way split uses similar input arguments as the two-way split. However, the three-way split is used when validation is needed so it is available for a train, test and validate.   "
   ]
  },
  {
   "cell_type": "code",
   "execution_count": 4,
   "id": "64886bdc",
   "metadata": {},
   "outputs": [
    {
     "data": {
      "text/html": [
       "<div>\n",
       "<style scoped>\n",
       "    .dataframe tbody tr th:only-of-type {\n",
       "        vertical-align: middle;\n",
       "    }\n",
       "\n",
       "    .dataframe tbody tr th {\n",
       "        vertical-align: top;\n",
       "    }\n",
       "\n",
       "    .dataframe thead th {\n",
       "        text-align: right;\n",
       "    }\n",
       "</style>\n",
       "<table border=\"1\" class=\"dataframe\">\n",
       "  <thead>\n",
       "    <tr style=\"text-align: right;\">\n",
       "      <th></th>\n",
       "      <th>source</th>\n",
       "      <th>improve_sample_id</th>\n",
       "      <th>improve_drug_id</th>\n",
       "      <th>study</th>\n",
       "      <th>time</th>\n",
       "      <th>time_unit</th>\n",
       "      <th>dose_response_metric</th>\n",
       "      <th>dose_response_value</th>\n",
       "    </tr>\n",
       "  </thead>\n",
       "  <tbody>\n",
       "    <tr>\n",
       "      <th>0</th>\n",
       "      <td>NF Data Portal</td>\n",
       "      <td>5373</td>\n",
       "      <td>SMI_13747</td>\n",
       "      <td>MT 210413 exp</td>\n",
       "      <td>48</td>\n",
       "      <td>hours</td>\n",
       "      <td>aac</td>\n",
       "      <td>0.8560</td>\n",
       "    </tr>\n",
       "    <tr>\n",
       "      <th>1</th>\n",
       "      <td>NF Data Portal</td>\n",
       "      <td>5373</td>\n",
       "      <td>SMI_13747</td>\n",
       "      <td>MT 210609 exp</td>\n",
       "      <td>48</td>\n",
       "      <td>hours</td>\n",
       "      <td>aac</td>\n",
       "      <td>0.4864</td>\n",
       "    </tr>\n",
       "    <tr>\n",
       "      <th>2</th>\n",
       "      <td>NF Data Portal</td>\n",
       "      <td>5373</td>\n",
       "      <td>SMI_13747</td>\n",
       "      <td>MT 210616 exp</td>\n",
       "      <td>48</td>\n",
       "      <td>hours</td>\n",
       "      <td>aac</td>\n",
       "      <td>0.5115</td>\n",
       "    </tr>\n",
       "    <tr>\n",
       "      <th>3</th>\n",
       "      <td>NF Data Portal</td>\n",
       "      <td>5373</td>\n",
       "      <td>SMI_17669</td>\n",
       "      <td>MT 210413 exp</td>\n",
       "      <td>48</td>\n",
       "      <td>hours</td>\n",
       "      <td>aac</td>\n",
       "      <td>0.7912</td>\n",
       "    </tr>\n",
       "    <tr>\n",
       "      <th>4</th>\n",
       "      <td>NF Data Portal</td>\n",
       "      <td>5373</td>\n",
       "      <td>SMI_17669</td>\n",
       "      <td>MT 210609 exp</td>\n",
       "      <td>48</td>\n",
       "      <td>hours</td>\n",
       "      <td>aac</td>\n",
       "      <td>0.5016</td>\n",
       "    </tr>\n",
       "    <tr>\n",
       "      <th>...</th>\n",
       "      <td>...</td>\n",
       "      <td>...</td>\n",
       "      <td>...</td>\n",
       "      <td>...</td>\n",
       "      <td>...</td>\n",
       "      <td>...</td>\n",
       "      <td>...</td>\n",
       "      <td>...</td>\n",
       "    </tr>\n",
       "    <tr>\n",
       "      <th>1795</th>\n",
       "      <td>NF Data Portal</td>\n",
       "      <td>5382</td>\n",
       "      <td>SMI_50659</td>\n",
       "      <td>MT 210609 exp</td>\n",
       "      <td>48</td>\n",
       "      <td>hours</td>\n",
       "      <td>fit_r2</td>\n",
       "      <td>0.0005</td>\n",
       "    </tr>\n",
       "    <tr>\n",
       "      <th>1796</th>\n",
       "      <td>NF Data Portal</td>\n",
       "      <td>5382</td>\n",
       "      <td>SMI_51826</td>\n",
       "      <td>MT 210609 exp</td>\n",
       "      <td>48</td>\n",
       "      <td>hours</td>\n",
       "      <td>fit_r2</td>\n",
       "      <td>-0.0106</td>\n",
       "    </tr>\n",
       "    <tr>\n",
       "      <th>1797</th>\n",
       "      <td>NF Data Portal</td>\n",
       "      <td>5382</td>\n",
       "      <td>SMI_56599</td>\n",
       "      <td>MT 210609 exp</td>\n",
       "      <td>48</td>\n",
       "      <td>hours</td>\n",
       "      <td>fit_r2</td>\n",
       "      <td>-0.0000</td>\n",
       "    </tr>\n",
       "    <tr>\n",
       "      <th>1798</th>\n",
       "      <td>NF Data Portal</td>\n",
       "      <td>5382</td>\n",
       "      <td>SMI_56600</td>\n",
       "      <td>MT 210609 exp</td>\n",
       "      <td>48</td>\n",
       "      <td>hours</td>\n",
       "      <td>fit_r2</td>\n",
       "      <td>-0.1038</td>\n",
       "    </tr>\n",
       "    <tr>\n",
       "      <th>1799</th>\n",
       "      <td>NF Data Portal</td>\n",
       "      <td>5382</td>\n",
       "      <td>SMI_9830</td>\n",
       "      <td>MT 210609 exp</td>\n",
       "      <td>48</td>\n",
       "      <td>hours</td>\n",
       "      <td>fit_r2</td>\n",
       "      <td>0.0033</td>\n",
       "    </tr>\n",
       "  </tbody>\n",
       "</table>\n",
       "<p>1800 rows × 8 columns</p>\n",
       "</div>"
      ],
      "text/plain": [
       "              source  improve_sample_id improve_drug_id          study  time  \\\n",
       "0     NF Data Portal               5373       SMI_13747  MT 210413 exp    48   \n",
       "1     NF Data Portal               5373       SMI_13747  MT 210609 exp    48   \n",
       "2     NF Data Portal               5373       SMI_13747  MT 210616 exp    48   \n",
       "3     NF Data Portal               5373       SMI_17669  MT 210413 exp    48   \n",
       "4     NF Data Portal               5373       SMI_17669  MT 210609 exp    48   \n",
       "...              ...                ...             ...            ...   ...   \n",
       "1795  NF Data Portal               5382       SMI_50659  MT 210609 exp    48   \n",
       "1796  NF Data Portal               5382       SMI_51826  MT 210609 exp    48   \n",
       "1797  NF Data Portal               5382       SMI_56599  MT 210609 exp    48   \n",
       "1798  NF Data Portal               5382       SMI_56600  MT 210609 exp    48   \n",
       "1799  NF Data Portal               5382        SMI_9830  MT 210609 exp    48   \n",
       "\n",
       "     time_unit dose_response_metric  dose_response_value  \n",
       "0        hours                  aac               0.8560  \n",
       "1        hours                  aac               0.4864  \n",
       "2        hours                  aac               0.5115  \n",
       "3        hours                  aac               0.7912  \n",
       "4        hours                  aac               0.5016  \n",
       "...        ...                  ...                  ...  \n",
       "1795     hours               fit_r2               0.0005  \n",
       "1796     hours               fit_r2              -0.0106  \n",
       "1797     hours               fit_r2              -0.0000  \n",
       "1798     hours               fit_r2              -0.1038  \n",
       "1799     hours               fit_r2               0.0033  \n",
       "\n",
       "[1800 rows x 8 columns]"
      ]
     },
     "execution_count": 4,
     "metadata": {},
     "output_type": "execute_result"
    }
   ],
   "source": [
    "split = mpnst.split_train_test_validate(split_type='drug-blind',\n",
    "                                        ratio=[7,2,1],\n",
    "                                        random_state=42,\n",
    "                                        thresh=0.8\n",
    "                                        )\n",
    "split.train.experiments"
   ]
  },
  {
   "cell_type": "code",
   "execution_count": 5,
   "id": "037eecea",
   "metadata": {},
   "outputs": [
    {
     "data": {
      "text/html": [
       "<div>\n",
       "<style scoped>\n",
       "    .dataframe tbody tr th:only-of-type {\n",
       "        vertical-align: middle;\n",
       "    }\n",
       "\n",
       "    .dataframe tbody tr th {\n",
       "        vertical-align: top;\n",
       "    }\n",
       "\n",
       "    .dataframe thead th {\n",
       "        text-align: right;\n",
       "    }\n",
       "</style>\n",
       "<table border=\"1\" class=\"dataframe\">\n",
       "  <thead>\n",
       "    <tr style=\"text-align: right;\">\n",
       "      <th></th>\n",
       "      <th>source</th>\n",
       "      <th>improve_sample_id</th>\n",
       "      <th>improve_drug_id</th>\n",
       "      <th>study</th>\n",
       "      <th>time</th>\n",
       "      <th>time_unit</th>\n",
       "      <th>dose_response_metric</th>\n",
       "      <th>dose_response_value</th>\n",
       "    </tr>\n",
       "  </thead>\n",
       "  <tbody>\n",
       "    <tr>\n",
       "      <th>0</th>\n",
       "      <td>NF Data Portal</td>\n",
       "      <td>5373</td>\n",
       "      <td>SMI_24544</td>\n",
       "      <td>MT 210413 exp</td>\n",
       "      <td>48</td>\n",
       "      <td>hours</td>\n",
       "      <td>aac</td>\n",
       "      <td>0.8843</td>\n",
       "    </tr>\n",
       "    <tr>\n",
       "      <th>1</th>\n",
       "      <td>NF Data Portal</td>\n",
       "      <td>5373</td>\n",
       "      <td>SMI_24544</td>\n",
       "      <td>MT 210609 exp</td>\n",
       "      <td>48</td>\n",
       "      <td>hours</td>\n",
       "      <td>aac</td>\n",
       "      <td>0.3410</td>\n",
       "    </tr>\n",
       "    <tr>\n",
       "      <th>2</th>\n",
       "      <td>NF Data Portal</td>\n",
       "      <td>5373</td>\n",
       "      <td>SMI_24544</td>\n",
       "      <td>MT 210616 exp</td>\n",
       "      <td>48</td>\n",
       "      <td>hours</td>\n",
       "      <td>aac</td>\n",
       "      <td>0.5563</td>\n",
       "    </tr>\n",
       "    <tr>\n",
       "      <th>3</th>\n",
       "      <td>NF Data Portal</td>\n",
       "      <td>5373</td>\n",
       "      <td>SMI_31858</td>\n",
       "      <td>MT 210413 exp</td>\n",
       "      <td>48</td>\n",
       "      <td>hours</td>\n",
       "      <td>aac</td>\n",
       "      <td>0.8790</td>\n",
       "    </tr>\n",
       "    <tr>\n",
       "      <th>4</th>\n",
       "      <td>NF Data Portal</td>\n",
       "      <td>5373</td>\n",
       "      <td>SMI_31858</td>\n",
       "      <td>MT 210609 exp</td>\n",
       "      <td>48</td>\n",
       "      <td>hours</td>\n",
       "      <td>aac</td>\n",
       "      <td>0.8557</td>\n",
       "    </tr>\n",
       "    <tr>\n",
       "      <th>...</th>\n",
       "      <td>...</td>\n",
       "      <td>...</td>\n",
       "      <td>...</td>\n",
       "      <td>...</td>\n",
       "      <td>...</td>\n",
       "      <td>...</td>\n",
       "      <td>...</td>\n",
       "      <td>...</td>\n",
       "    </tr>\n",
       "    <tr>\n",
       "      <th>525</th>\n",
       "      <td>NF Data Portal</td>\n",
       "      <td>5381</td>\n",
       "      <td>SMI_24544</td>\n",
       "      <td>MT 210428 exp</td>\n",
       "      <td>48</td>\n",
       "      <td>hours</td>\n",
       "      <td>fit_r2</td>\n",
       "      <td>-0.0531</td>\n",
       "    </tr>\n",
       "    <tr>\n",
       "      <th>526</th>\n",
       "      <td>NF Data Portal</td>\n",
       "      <td>5381</td>\n",
       "      <td>SMI_31858</td>\n",
       "      <td>MT 210428 exp</td>\n",
       "      <td>48</td>\n",
       "      <td>hours</td>\n",
       "      <td>fit_r2</td>\n",
       "      <td>0.0058</td>\n",
       "    </tr>\n",
       "    <tr>\n",
       "      <th>527</th>\n",
       "      <td>NF Data Portal</td>\n",
       "      <td>5381</td>\n",
       "      <td>SMI_33215</td>\n",
       "      <td>MT 210428 exp</td>\n",
       "      <td>48</td>\n",
       "      <td>hours</td>\n",
       "      <td>fit_r2</td>\n",
       "      <td>0.0393</td>\n",
       "    </tr>\n",
       "    <tr>\n",
       "      <th>528</th>\n",
       "      <td>NF Data Portal</td>\n",
       "      <td>5381</td>\n",
       "      <td>SMI_46210</td>\n",
       "      <td>MT 210428 exp</td>\n",
       "      <td>48</td>\n",
       "      <td>hours</td>\n",
       "      <td>fit_r2</td>\n",
       "      <td>0.1115</td>\n",
       "    </tr>\n",
       "    <tr>\n",
       "      <th>529</th>\n",
       "      <td>NF Data Portal</td>\n",
       "      <td>5381</td>\n",
       "      <td>SMI_605</td>\n",
       "      <td>MT 210428 exp</td>\n",
       "      <td>48</td>\n",
       "      <td>hours</td>\n",
       "      <td>fit_r2</td>\n",
       "      <td>-0.0501</td>\n",
       "    </tr>\n",
       "  </tbody>\n",
       "</table>\n",
       "<p>530 rows × 8 columns</p>\n",
       "</div>"
      ],
      "text/plain": [
       "             source  improve_sample_id improve_drug_id          study  time  \\\n",
       "0    NF Data Portal               5373       SMI_24544  MT 210413 exp    48   \n",
       "1    NF Data Portal               5373       SMI_24544  MT 210609 exp    48   \n",
       "2    NF Data Portal               5373       SMI_24544  MT 210616 exp    48   \n",
       "3    NF Data Portal               5373       SMI_31858  MT 210413 exp    48   \n",
       "4    NF Data Portal               5373       SMI_31858  MT 210609 exp    48   \n",
       "..              ...                ...             ...            ...   ...   \n",
       "525  NF Data Portal               5381       SMI_24544  MT 210428 exp    48   \n",
       "526  NF Data Portal               5381       SMI_31858  MT 210428 exp    48   \n",
       "527  NF Data Portal               5381       SMI_33215  MT 210428 exp    48   \n",
       "528  NF Data Portal               5381       SMI_46210  MT 210428 exp    48   \n",
       "529  NF Data Portal               5381         SMI_605  MT 210428 exp    48   \n",
       "\n",
       "    time_unit dose_response_metric  dose_response_value  \n",
       "0       hours                  aac               0.8843  \n",
       "1       hours                  aac               0.3410  \n",
       "2       hours                  aac               0.5563  \n",
       "3       hours                  aac               0.8790  \n",
       "4       hours                  aac               0.8557  \n",
       "..        ...                  ...                  ...  \n",
       "525     hours               fit_r2              -0.0531  \n",
       "526     hours               fit_r2               0.0058  \n",
       "527     hours               fit_r2               0.0393  \n",
       "528     hours               fit_r2               0.1115  \n",
       "529     hours               fit_r2              -0.0501  \n",
       "\n",
       "[530 rows x 8 columns]"
      ]
     },
     "execution_count": 5,
     "metadata": {},
     "output_type": "execute_result"
    }
   ],
   "source": [
    "split.test.experiments"
   ]
  },
  {
   "cell_type": "code",
   "execution_count": 6,
   "id": "1cc5baa6",
   "metadata": {},
   "outputs": [
    {
     "data": {
      "text/html": [
       "<div>\n",
       "<style scoped>\n",
       "    .dataframe tbody tr th:only-of-type {\n",
       "        vertical-align: middle;\n",
       "    }\n",
       "\n",
       "    .dataframe tbody tr th {\n",
       "        vertical-align: top;\n",
       "    }\n",
       "\n",
       "    .dataframe thead th {\n",
       "        text-align: right;\n",
       "    }\n",
       "</style>\n",
       "<table border=\"1\" class=\"dataframe\">\n",
       "  <thead>\n",
       "    <tr style=\"text-align: right;\">\n",
       "      <th></th>\n",
       "      <th>source</th>\n",
       "      <th>improve_sample_id</th>\n",
       "      <th>improve_drug_id</th>\n",
       "      <th>study</th>\n",
       "      <th>time</th>\n",
       "      <th>time_unit</th>\n",
       "      <th>dose_response_metric</th>\n",
       "      <th>dose_response_value</th>\n",
       "    </tr>\n",
       "  </thead>\n",
       "  <tbody>\n",
       "    <tr>\n",
       "      <th>0</th>\n",
       "      <td>NF Data Portal</td>\n",
       "      <td>5373</td>\n",
       "      <td>SMI_11472</td>\n",
       "      <td>MT 210413 exp</td>\n",
       "      <td>48</td>\n",
       "      <td>hours</td>\n",
       "      <td>aac</td>\n",
       "      <td>0.8177</td>\n",
       "    </tr>\n",
       "    <tr>\n",
       "      <th>1</th>\n",
       "      <td>NF Data Portal</td>\n",
       "      <td>5373</td>\n",
       "      <td>SMI_11472</td>\n",
       "      <td>MT 210609 exp</td>\n",
       "      <td>48</td>\n",
       "      <td>hours</td>\n",
       "      <td>aac</td>\n",
       "      <td>0.3903</td>\n",
       "    </tr>\n",
       "    <tr>\n",
       "      <th>2</th>\n",
       "      <td>NF Data Portal</td>\n",
       "      <td>5373</td>\n",
       "      <td>SMI_11472</td>\n",
       "      <td>MT 210616 exp</td>\n",
       "      <td>48</td>\n",
       "      <td>hours</td>\n",
       "      <td>aac</td>\n",
       "      <td>0.3457</td>\n",
       "    </tr>\n",
       "    <tr>\n",
       "      <th>3</th>\n",
       "      <td>NF Data Portal</td>\n",
       "      <td>5373</td>\n",
       "      <td>SMI_12635</td>\n",
       "      <td>MT 210413 exp</td>\n",
       "      <td>48</td>\n",
       "      <td>hours</td>\n",
       "      <td>aac</td>\n",
       "      <td>0.7336</td>\n",
       "    </tr>\n",
       "    <tr>\n",
       "      <th>4</th>\n",
       "      <td>NF Data Portal</td>\n",
       "      <td>5373</td>\n",
       "      <td>SMI_12635</td>\n",
       "      <td>MT 210609 exp</td>\n",
       "      <td>48</td>\n",
       "      <td>hours</td>\n",
       "      <td>aac</td>\n",
       "      <td>0.4773</td>\n",
       "    </tr>\n",
       "    <tr>\n",
       "      <th>...</th>\n",
       "      <td>...</td>\n",
       "      <td>...</td>\n",
       "      <td>...</td>\n",
       "      <td>...</td>\n",
       "      <td>...</td>\n",
       "      <td>...</td>\n",
       "      <td>...</td>\n",
       "      <td>...</td>\n",
       "    </tr>\n",
       "    <tr>\n",
       "      <th>305</th>\n",
       "      <td>NF Data Portal</td>\n",
       "      <td>5380</td>\n",
       "      <td>SMI_11472</td>\n",
       "      <td>MT 210602 exp</td>\n",
       "      <td>48</td>\n",
       "      <td>hours</td>\n",
       "      <td>fit_r2</td>\n",
       "      <td>0.2121</td>\n",
       "    </tr>\n",
       "    <tr>\n",
       "      <th>306</th>\n",
       "      <td>NF Data Portal</td>\n",
       "      <td>5380</td>\n",
       "      <td>SMI_12635</td>\n",
       "      <td>MT 210602 exp</td>\n",
       "      <td>48</td>\n",
       "      <td>hours</td>\n",
       "      <td>fit_r2</td>\n",
       "      <td>0.3753</td>\n",
       "    </tr>\n",
       "    <tr>\n",
       "      <th>307</th>\n",
       "      <td>NF Data Portal</td>\n",
       "      <td>5380</td>\n",
       "      <td>SMI_39432</td>\n",
       "      <td>MT 210602 exp</td>\n",
       "      <td>48</td>\n",
       "      <td>hours</td>\n",
       "      <td>fit_r2</td>\n",
       "      <td>0.0951</td>\n",
       "    </tr>\n",
       "    <tr>\n",
       "      <th>308</th>\n",
       "      <td>NF Data Portal</td>\n",
       "      <td>5381</td>\n",
       "      <td>SMI_11472</td>\n",
       "      <td>MT 210428 exp</td>\n",
       "      <td>48</td>\n",
       "      <td>hours</td>\n",
       "      <td>fit_r2</td>\n",
       "      <td>0.0084</td>\n",
       "    </tr>\n",
       "    <tr>\n",
       "      <th>309</th>\n",
       "      <td>NF Data Portal</td>\n",
       "      <td>5382</td>\n",
       "      <td>SMI_39432</td>\n",
       "      <td>MT 210609 exp</td>\n",
       "      <td>48</td>\n",
       "      <td>hours</td>\n",
       "      <td>fit_r2</td>\n",
       "      <td>-0.1724</td>\n",
       "    </tr>\n",
       "  </tbody>\n",
       "</table>\n",
       "<p>310 rows × 8 columns</p>\n",
       "</div>"
      ],
      "text/plain": [
       "             source  improve_sample_id improve_drug_id          study  time  \\\n",
       "0    NF Data Portal               5373       SMI_11472  MT 210413 exp    48   \n",
       "1    NF Data Portal               5373       SMI_11472  MT 210609 exp    48   \n",
       "2    NF Data Portal               5373       SMI_11472  MT 210616 exp    48   \n",
       "3    NF Data Portal               5373       SMI_12635  MT 210413 exp    48   \n",
       "4    NF Data Portal               5373       SMI_12635  MT 210609 exp    48   \n",
       "..              ...                ...             ...            ...   ...   \n",
       "305  NF Data Portal               5380       SMI_11472  MT 210602 exp    48   \n",
       "306  NF Data Portal               5380       SMI_12635  MT 210602 exp    48   \n",
       "307  NF Data Portal               5380       SMI_39432  MT 210602 exp    48   \n",
       "308  NF Data Portal               5381       SMI_11472  MT 210428 exp    48   \n",
       "309  NF Data Portal               5382       SMI_39432  MT 210609 exp    48   \n",
       "\n",
       "    time_unit dose_response_metric  dose_response_value  \n",
       "0       hours                  aac               0.8177  \n",
       "1       hours                  aac               0.3903  \n",
       "2       hours                  aac               0.3457  \n",
       "3       hours                  aac               0.7336  \n",
       "4       hours                  aac               0.4773  \n",
       "..        ...                  ...                  ...  \n",
       "305     hours               fit_r2               0.2121  \n",
       "306     hours               fit_r2               0.3753  \n",
       "307     hours               fit_r2               0.0951  \n",
       "308     hours               fit_r2               0.0084  \n",
       "309     hours               fit_r2              -0.1724  \n",
       "\n",
       "[310 rows x 8 columns]"
      ]
     },
     "execution_count": 6,
     "metadata": {},
     "output_type": "execute_result"
    }
   ],
   "source": [
    "split.validate.experiments"
   ]
  },
  {
   "cell_type": "markdown",
   "id": "87adbdee",
   "metadata": {},
   "source": [
    "We have three splits:\n",
    "- Train (70%)   : This gathers majority of the data and it allows the model to learn from the patterns and relationships of the data. This involves iteratively adjusting its parameters to bettter fit the model.\n",
    "\n",
    "- Validate (10%): Gathering generally the smallest portion of data is used to refine the model's hyperparameters. It evaluates the training performance by comparing it to validation performance based on overfitting or underfitting. Here it will follow each training iteration (epoch) and evaluating the performance based on the validation set. \n",
    "\n",
    "- Test (20%)    : Finally to evaluate the final model performance the test data will be used to provide an estimate to how the model will perform on unseen data\n",
    "\n",
    "Note: The percentage of data pulled for each step may vary but should typically follows this size comparison (Train > Test >= Validate). For a more in depth explanation on splits [visit Train, Test, and Validation Sets](https://mlu-explain.github.io/train-test-validation/) "
   ]
  },
  {
   "cell_type": "markdown",
   "id": "04b9029c-d71e-4847-bb79-89732f79ac9e",
   "metadata": {},
   "source": [
    "Use `save()` to use the splits for a later date.\n",
    "Note: The save function can be used with any CoderData Dataset object"
   ]
  },
  {
   "cell_type": "code",
   "execution_count": null,
   "id": "84f12562-b9c2-48f3-ac51-1f1976e40c88",
   "metadata": {},
   "outputs": [],
   "source": [
    "split.train.save(path='/tmp/coderdata/beataml_train.pickle')"
   ]
  },
  {
   "cell_type": "markdown",
   "id": "024194e4-5519-4ede-8db3-bf94fe1d4e1c",
   "metadata": {},
   "source": [
    "Now that the dataset is split it is ready to be used in developing your own learning model.\n"
   ]
  },
  {
   "cell_type": "markdown",
   "id": "ec9fa053-0886-48b7-b1c3-eb20f6eac635",
   "metadata": {},
   "source": [
    "## Develop Deep Learning Model "
   ]
  },
  {
   "cell_type": "markdown",
   "id": "ce5eb47f",
   "metadata": {},
   "source": [
    "### Merge Drug and Experiments\n",
    "Now moving back to working with the beataml datasets and creating a deep learning model with merged datasets. \\\n",
    "This merge allows us to place canSMILES, sample ID, drug ID and dose_response_value related to auc dose_reponse_metric together."
   ]
  },
  {
   "cell_type": "code",
   "execution_count": 16,
   "id": "2e9d3556",
   "metadata": {},
   "outputs": [],
   "source": [
    "merged_df = pd.merge(beataml.experiments[['improve_sample_id', 'improve_drug_id', 'dose_response_value']],\n",
    "                    beataml.drugs[['improve_drug_id', 'canSMILES']],\n",
    "                    on='improve_drug_id',\n",
    "                    how='inner').drop_duplicates()\n",
    "\n",
    "merged_df = merged_df.dropna(subset=['canSMILES'])"
   ]
  },
  {
   "cell_type": "code",
   "execution_count": 17,
   "id": "fd56f646",
   "metadata": {},
   "outputs": [
    {
     "data": {
      "application/vnd.microsoft.datawrangler.viewer.v0+json": {
       "columns": [
        {
         "name": "index",
         "rawType": "int64",
         "type": "integer"
        },
        {
         "name": "improve_sample_id",
         "rawType": "int64",
         "type": "integer"
        },
        {
         "name": "improve_drug_id",
         "rawType": "object",
         "type": "string"
        },
        {
         "name": "dose_response_value",
         "rawType": "float64",
         "type": "float"
        },
        {
         "name": "canSMILES",
         "rawType": "object",
         "type": "string"
        }
       ],
       "ref": "05e15593-56bb-45cf-ba07-3e8f1e1ee5c8",
       "rows": [
        [
         "0",
         "3909",
         "SMI_3871",
         "0.7293",
         "CC(C)(C#N)C1=CC=C(C=C1)N2C3=C4C=C(C=CC4=NC=C3N(C2=O)C)C5=CC6=CC=CC=C6N=C5"
        ],
        [
         "1",
         "3909",
         "SMI_4862",
         "0.8712",
         "C1=CC=C2C(=C1)C3=NNC4=CC=CC(=C43)C2=O"
        ],
        [
         "2",
         "3909",
         "SMI_11493",
         "0.4649",
         "CCN1C2=C(C(=NC=C2OCC3CCCNC3)C#CC(C)(C)O)N=C1C4=NON=C4N"
        ],
        [
         "3",
         "3909",
         "SMI_23048",
         "0.7243",
         "CC1=CC(=NN1)NC2=NC(=NC=C2Cl)NC(C)C3=NC=C(C=N3)F"
        ],
        [
         "4",
         "3909",
         "SMI_51801",
         "0.481",
         "CN(C(=S)C1=CC=CC=C1)NC(=O)CC(=O)NN(C)C(=S)C2=CC=CC=C2"
        ],
        [
         "5",
         "3909",
         "SMI_3962",
         "0.4803",
         "CC1=CN=C(N=C1NC2=CC(=CC=C2)S(=O)(=O)NC(C)(C)C)NC3=CC=C(C=C3)OCCN4CCCC4"
        ],
        [
         "6",
         "3909",
         "SMI_44394",
         "0.6934",
         "CN1C=C(C=N1)C2=NN3C(=NN=C3C(C4=CC5=C(C=C4)N=CC=C5)(F)F)C=C2"
        ],
        [
         "7",
         "3909",
         "SMI_5108",
         "0.9585",
         "CC12C(C(CC(O1)N3C4=CC=CC=C4C5=C6C(=C7C8=CC=CC=C8N2C7=C53)CNC6=O)NC)OC"
        ],
        [
         "8",
         "3909",
         "SMI_46879",
         "0.6469",
         "C1CCN(C1)CC2CC(C2)N3C=C(C4=C(N=CN=C43)N)C5=CC(=CC=C5)OCC6=CC=CC=C6"
        ],
        [
         "9",
         "3909",
         "SMI_19449",
         "0.8501",
         "CC(C)N1C2=NC=NC(=C2C(=N1)C3=CC4=C(C=C3)OC(=N4)N)N"
        ],
        [
         "10",
         "3909",
         "SMI_14356",
         "0.8196",
         "C1COCCN1C2=CC=C(C=C2)NC3=NC=CC(=N3)C4=CC=C(C=C4)C(=O)NCC#N"
        ],
        [
         "11",
         "3909",
         "SMI_7971",
         "0.1926",
         "CC1=C(NC(=C1C(=O)N2CCCC2CN3CCCC3)C)C=C4C5=C(C=CC(=C5)S(=O)(=O)CC6=C(C=CC=C6Cl)Cl)NC4=O"
        ],
        [
         "12",
         "3909",
         "SMI_8294",
         "0.6519",
         "CCC1C(=O)N(C2=CN=C(N=C2N1C3CCCC3)NC4=C(C=C(C=C4)C(=O)NC5CCN(CC5)C)OC)C"
        ],
        [
         "13",
         "3909",
         "SMI_5060",
         "0.5047",
         "CC1CCC2CC(C(=CC=CC=CC(CC(C(=O)C(C(C(=CC(C(=O)CC(OC(=O)C3CCCCN3C(=O)C(=O)C1(O2)O)C(C)CC4CCC(C(C4)OC)O)C)C)O)OC)C)C)C)OC"
        ],
        [
         "14",
         "3909",
         "SMI_31077",
         "0.8458",
         "CCC(C1=NC2=C(C(=CC=C2)F)C(=O)N1C3=CC=CC=C3)NC4=NC=NC5=C4NC=N5"
        ],
        [
         "15",
         "3909",
         "SMI_53245",
         "0.6418",
         "CN(C)CC(=O)N1CCC(CC1)C2=CC(=C(C=C2)NC(=O)C3=NC=C(N3)C#N)C4=CCCCC4"
        ],
        [
         "16",
         "3909",
         "SMI_25125",
         "0.7362",
         "C1CN(CCN1)C(=O)C2=CC=C(C=C2)C=CC3=NNC4=CC=CC=C43"
        ],
        [
         "17",
         "3909",
         "SMI_3109",
         "0.7226",
         "CC1(COC1)COC2=CC3=C(C=C2)N(C=N3)C4=NC5=C(C=CC=C5N6CCC(CC6)N)C=C4"
        ],
        [
         "18",
         "3909",
         "SMI_11502",
         "0.7813",
         "CS(=O)(=O)N1CCN(CC1)CC2=CC3=C(S2)C(=NC(=N3)C4=C5C=NNC5=CC=C4)N6CCOCC6"
        ],
        [
         "19",
         "3909",
         "SMI_18541",
         "0.7703",
         "COC1=C(C=C2C(=C1)N=CN=C2NC3=CC(=C(C=C3)F)Cl)OCCCN4CCOCC4"
        ],
        [
         "20",
         "3909",
         "SMI_20505",
         "0.2031",
         "C1COCCN1C2=NC(=NC3=C2OC4=C3C=CC=N4)C5=CC(=CC=C5)O"
        ],
        [
         "21",
         "3909",
         "SMI_41466",
         "0.9095",
         "CC1=C(C(=CC=C1)Cl)NC(=O)C2=CN=C(S2)NC3=CC(=NC(=N3)C)N4CCN(CC4)CCO"
        ],
        [
         "22",
         "3909",
         "SMI_39432",
         "0.7919",
         "COC1=CC2=C(C=CN=C2C=C1OC)OC3=CC=C(C=C3)NC(=O)C4(CC4)C(=O)NC5=CC=C(C=C5)F"
        ],
        [
         "23",
         "3909",
         "SMI_24635",
         "0.7403",
         "CS(=O)(=O)CCNCC1=CC=C(O1)C2=CC3=C(C=C2)N=CN=C3NC4=CC(=C(C=C4)OCC5=CC(=CC=C5)F)Cl"
        ],
        [
         "24",
         "3909",
         "SMI_41952",
         "0.6777",
         "C1COCCN1C2=CC(=O)C=C(O2)C3=C4C(=CC=C3)SC5=CC=CC=C5S4"
        ],
        [
         "25",
         "3909",
         "SMI_6419",
         "0.8643",
         "C1=CC2=C(C=CN=C2)C(=C1)S(=O)(=O)NCCNCC=CC3=CC=C(C=C3)Br"
        ],
        [
         "26",
         "3909",
         "SMI_11509",
         "0.0752",
         "CC(C)S(=O)(=O)C1=CC=CC=C1NC2=NC(=NC=C2Cl)NC3=C(C=C(C=C3)N4CCC(CC4)N5CCN(CC5)C)OC"
        ],
        [
         "27",
         "3909",
         "SMI_53126",
         "0.5279",
         "CCN(CC)CCNC(=O)C1=C(NC(=C1C)C=C2C3=C(C=CC(=C3)F)NC2=O)C"
        ],
        [
         "28",
         "3909",
         "SMI_28228",
         "0.9082",
         "CC1=C(C=C(C=C1)NC(=O)C2=CC=C(C=C2)CN3CCN(CC3)C)NC4=NC=CC(=N4)C5=CN=CC=C5"
        ],
        [
         "29",
         "3909",
         "SMI_54944",
         "0.7623",
         "C1CSCC2=C1N=C(NC2=O)C3=CC=C(C=C3)C(F)(F)F"
        ],
        [
         "30",
         "3909",
         "SMI_18303",
         "0.8212",
         "CCC1=CC(=C(C=C1N2CCC(CC2)N3CCN(CC3)S(=O)(=O)C)OC)NC4=NC=CC(=N4)C5=C(N=C6N5C=CC=C6)C7=CC(=C(C=C7)OC)C(=O)NC8=C(C=CC=C8F)F"
        ],
        [
         "31",
         "3909",
         "SMI_55592",
         "0.3349",
         "CC1=C(NC(=C1C(=O)N2CCN(CC2)C)C)C=C3C4=C(C=CC(=C4)S(=O)(=O)N(C)C5=CC(=CC=C5)Cl)NC3=O"
        ],
        [
         "32",
         "3909",
         "SMI_55588",
         "0.9667",
         "CC1=CN=C(N1)C2=CN=C(N=C2C3=C(C=C(C=C3)Cl)Cl)NCCNC4=NC=C(C=C4)C#N"
        ],
        [
         "33",
         "3909",
         "SMI_55461",
         "0.7543",
         "C1=CC(=CC(=C1)O)C2=NC3=C(N=C(N=C3N=C2C4=CC(=CC=C4)O)N)N"
        ],
        [
         "34",
         "3909",
         "SMI_55606",
         "0.7571",
         "COCCOC1=C(C=C2C(=C1)C(=NC=N2)NC3=CC=CC(=C3)C#C)OCCOC"
        ],
        [
         "35",
         "3909",
         "SMI_55656",
         "0.9885",
         "CC1=[N+](C2=C(N1CCOC)C(=O)C3=CC=CC=C3C2=O)CC4=NC=CN=C4.[Br-]"
        ],
        [
         "36",
         "3909",
         "SMI_55628",
         "0.5898",
         "C1CC(=NO)C2=C1C=C(C=C2)C3=CN(N=C3C4=CC=NC=C4)CCO"
        ],
        [
         "37",
         "3909",
         "SMI_56397",
         "0.7277",
         "CC1=C2C=C(C=CC2=NN1)C3=CC(=CN=C3)OCC(CC4=CC=CC=C4)N"
        ],
        [
         "38",
         "3909",
         "SMI_55905",
         "0.7221",
         "CNC(=O)C1=C(C=CC=C1F)NC2=NC(=NC3=C2C=CN3)NC4=C(C=C5C=CN(C5=C4)C(=O)CN(C)C)OC"
        ],
        [
         "39",
         "3909",
         "SMI_56545",
         "0.8241",
         "C1=CC(=C(C(=C1)F)C(=O)N2C(=NC(=N2)NC3=CC=C(C=C3)S(=O)(=O)N)N)F"
        ],
        [
         "40",
         "3909",
         "SMI_56575",
         "0.8714",
         "CN1C2=NC(=NC=C2C=C(C1=O)C3=C(C=CC=C3Cl)Cl)NC4=CC(=CC=C4)SC"
        ],
        [
         "41",
         "3909",
         "SMI_56584",
         "0.6488",
         "CC1=CC2=C(C=C1)N=C(C3=NC=C(N23)C)NCCN.Cl"
        ],
        [
         "42",
         "3909",
         "SMI_56595",
         "0.8296",
         "C1=CC(=CC=C1C2=C(NN(C2=O)C3=CC=C(C=C3)Cl)C4=CC=NC=C4)F"
        ],
        [
         "43",
         "3909",
         "SMI_56574",
         "0.9391",
         "CC(C1=NC=CS1)NC(=O)NC2=C(C=C(C=C2)OC3=C4C=C(C(=CC4=NC=C3)OC)OC)OC"
        ],
        [
         "44",
         "3909",
         "SMI_56579",
         "0.9294",
         "CN(CC=CC1=CC=C(C=C1)Cl)CC2=CC=CC=C2NS(=O)(=O)C3=CC=C(C=C3)OC"
        ],
        [
         "45",
         "3909",
         "SMI_56577",
         "0.7797",
         "CC(C)(C)C1=NC2=C(N1)C3=C(C=C(C=C3)F)C4=C2C=CNC4=O"
        ],
        [
         "46",
         "3909",
         "SMI_56592",
         "0.9125",
         "CN(CC=CC1=CC=C(C=C1)Cl)CC2=CC=CC=C2N(CCO)S(=O)(=O)C3=CC=C(C=C3)OC"
        ],
        [
         "47",
         "3909",
         "SMI_56581",
         "0.4593",
         "CC[N+]1=C(N(C2=C1C=C(C=C2)C3=NC4=CC=CC=C4S3)C5=CC=CC=C5)C=CN(C)C6=CC=CC=C6.[I-]"
        ],
        [
         "48",
         "3909",
         "SMI_56597",
         "0.7619",
         "C1CCN(CC1)CCOC2=CC=C(C=C2)C3=CN4C(=C(C=N4)C5=CC=NC=C5)N=C3"
        ],
        [
         "49",
         "3909",
         "SMI_56587",
         "0.398",
         "CC1=C(C=CC=N1)C(=O)NC2=C3C(=CC(=C2OC)Cl)C4=C(N3)C=NC=C4"
        ]
       ],
       "shape": {
        "columns": 4,
        "rows": 23662
       }
      },
      "text/html": [
       "<div>\n",
       "<style scoped>\n",
       "    .dataframe tbody tr th:only-of-type {\n",
       "        vertical-align: middle;\n",
       "    }\n",
       "\n",
       "    .dataframe tbody tr th {\n",
       "        vertical-align: top;\n",
       "    }\n",
       "\n",
       "    .dataframe thead th {\n",
       "        text-align: right;\n",
       "    }\n",
       "</style>\n",
       "<table border=\"1\" class=\"dataframe\">\n",
       "  <thead>\n",
       "    <tr style=\"text-align: right;\">\n",
       "      <th></th>\n",
       "      <th>improve_sample_id</th>\n",
       "      <th>improve_drug_id</th>\n",
       "      <th>dose_response_value</th>\n",
       "      <th>canSMILES</th>\n",
       "    </tr>\n",
       "  </thead>\n",
       "  <tbody>\n",
       "    <tr>\n",
       "      <th>0</th>\n",
       "      <td>3909</td>\n",
       "      <td>SMI_3871</td>\n",
       "      <td>0.7293</td>\n",
       "      <td>CC(C)(C#N)C1=CC=C(C=C1)N2C3=C4C=C(C=CC4=NC=C3N...</td>\n",
       "    </tr>\n",
       "    <tr>\n",
       "      <th>1</th>\n",
       "      <td>3909</td>\n",
       "      <td>SMI_4862</td>\n",
       "      <td>0.8712</td>\n",
       "      <td>C1=CC=C2C(=C1)C3=NNC4=CC=CC(=C43)C2=O</td>\n",
       "    </tr>\n",
       "    <tr>\n",
       "      <th>2</th>\n",
       "      <td>3909</td>\n",
       "      <td>SMI_11493</td>\n",
       "      <td>0.4649</td>\n",
       "      <td>CCN1C2=C(C(=NC=C2OCC3CCCNC3)C#CC(C)(C)O)N=C1C4...</td>\n",
       "    </tr>\n",
       "    <tr>\n",
       "      <th>3</th>\n",
       "      <td>3909</td>\n",
       "      <td>SMI_23048</td>\n",
       "      <td>0.7243</td>\n",
       "      <td>CC1=CC(=NN1)NC2=NC(=NC=C2Cl)NC(C)C3=NC=C(C=N3)F</td>\n",
       "    </tr>\n",
       "    <tr>\n",
       "      <th>4</th>\n",
       "      <td>3909</td>\n",
       "      <td>SMI_51801</td>\n",
       "      <td>0.4810</td>\n",
       "      <td>CN(C(=S)C1=CC=CC=C1)NC(=O)CC(=O)NN(C)C(=S)C2=C...</td>\n",
       "    </tr>\n",
       "    <tr>\n",
       "      <th>...</th>\n",
       "      <td>...</td>\n",
       "      <td>...</td>\n",
       "      <td>...</td>\n",
       "      <td>...</td>\n",
       "    </tr>\n",
       "    <tr>\n",
       "      <th>23657</th>\n",
       "      <td>3628</td>\n",
       "      <td>SMI_13100</td>\n",
       "      <td>0.6932</td>\n",
       "      <td>COC1=CC=C(C=C1)COC2=C(C=C(C=C2)CC3=CN=C(N=C3N)...</td>\n",
       "    </tr>\n",
       "    <tr>\n",
       "      <th>23658</th>\n",
       "      <td>3628</td>\n",
       "      <td>SMI_40233</td>\n",
       "      <td>0.1915</td>\n",
       "      <td>CC1=C(C2=CC=CC=C2N1)CCNCC3=CC=C(C=C3)C=CC(=O)NO</td>\n",
       "    </tr>\n",
       "    <tr>\n",
       "      <th>23659</th>\n",
       "      <td>3628</td>\n",
       "      <td>SMI_16810</td>\n",
       "      <td>0.3392</td>\n",
       "      <td>CN1CCC(C(C1)O)C2=C(C=C(C3=C2OC(=CC3=O)C4=CC=CC...</td>\n",
       "    </tr>\n",
       "    <tr>\n",
       "      <th>23660</th>\n",
       "      <td>3628</td>\n",
       "      <td>SMI_35928</td>\n",
       "      <td>0.4730</td>\n",
       "      <td>CC(C)N1C2=NC=NC(=C2C(=N1)C3=CC4=C(N3)C=CC(=C4)O)N</td>\n",
       "    </tr>\n",
       "    <tr>\n",
       "      <th>23661</th>\n",
       "      <td>3628</td>\n",
       "      <td>SMI_32922</td>\n",
       "      <td>0.8515</td>\n",
       "      <td>CC1=CC=CC=C1C(C(=O)NC2CCCCC2)N(C3=CC(=CC=C3)F)...</td>\n",
       "    </tr>\n",
       "  </tbody>\n",
       "</table>\n",
       "<p>23662 rows × 4 columns</p>\n",
       "</div>"
      ],
      "text/plain": [
       "       improve_sample_id improve_drug_id  dose_response_value  \\\n",
       "0                   3909        SMI_3871               0.7293   \n",
       "1                   3909        SMI_4862               0.8712   \n",
       "2                   3909       SMI_11493               0.4649   \n",
       "3                   3909       SMI_23048               0.7243   \n",
       "4                   3909       SMI_51801               0.4810   \n",
       "...                  ...             ...                  ...   \n",
       "23657               3628       SMI_13100               0.6932   \n",
       "23658               3628       SMI_40233               0.1915   \n",
       "23659               3628       SMI_16810               0.3392   \n",
       "23660               3628       SMI_35928               0.4730   \n",
       "23661               3628       SMI_32922               0.8515   \n",
       "\n",
       "                                               canSMILES  \n",
       "0      CC(C)(C#N)C1=CC=C(C=C1)N2C3=C4C=C(C=CC4=NC=C3N...  \n",
       "1                  C1=CC=C2C(=C1)C3=NNC4=CC=CC(=C43)C2=O  \n",
       "2      CCN1C2=C(C(=NC=C2OCC3CCCNC3)C#CC(C)(C)O)N=C1C4...  \n",
       "3        CC1=CC(=NN1)NC2=NC(=NC=C2Cl)NC(C)C3=NC=C(C=N3)F  \n",
       "4      CN(C(=S)C1=CC=CC=C1)NC(=O)CC(=O)NN(C)C(=S)C2=C...  \n",
       "...                                                  ...  \n",
       "23657  COC1=CC=C(C=C1)COC2=C(C=C(C=C2)CC3=CN=C(N=C3N)...  \n",
       "23658    CC1=C(C2=CC=CC=C2N1)CCNCC3=CC=C(C=C3)C=CC(=O)NO  \n",
       "23659  CN1CCC(C(C1)O)C2=C(C=C(C3=C2OC(=CC3=O)C4=CC=CC...  \n",
       "23660  CC(C)N1C2=NC=NC(=C2C(=N1)C3=CC4=C(N3)C=CC(=C4)O)N  \n",
       "23661  CC1=CC=CC=C1C(C(=O)NC2CCCCC2)N(C3=CC(=CC=C3)F)...  \n",
       "\n",
       "[23662 rows x 4 columns]"
      ]
     },
     "execution_count": 17,
     "metadata": {},
     "output_type": "execute_result"
    }
   ],
   "source": [
    "merged_df"
   ]
  },
  {
   "cell_type": "markdown",
   "id": "88e9c33d",
   "metadata": {},
   "source": [
    "### Using the RDKit package, we can convert canSMILES into a machine readable format\n",
    "The chemical fingerprint is then mapped to improve_drug_id in the fingerprint_map. These values will be retrieved later. The merged_df is also subsetted to remove redundant information."
   ]
  },
  {
   "cell_type": "code",
   "execution_count": 18,
   "id": "5edeea18",
   "metadata": {},
   "outputs": [],
   "source": [
    "# Convert SMILES to Morgan fingerprints\n",
    "def smiles_to_fingerprint(smiles):\n",
    "    try:\n",
    "        mol = Chem.MolFromSmiles(smiles)\n",
    "        if mol is None: # Handle cases where MolFromSmiles fails\n",
    "                return None\n",
    "        morgan_gen= GetMorganGenerator(radius=2, fpSize=1024)\n",
    "        fingerprint = morgan_gen.GetFingerprint(mol)  # Adjust radius and nBits as needed\n",
    "        fingerprint_array = np.array(fingerprint)\n",
    "        return fingerprint_array\n",
    "    except Exception as e:\n",
    "        print(f\"Error processing SMILES '{smiles}': {e}\")\n",
    "        return None\n",
    "\n",
    "\n",
    "# smiles_to_fingerprint(merged_df.canSMILES[0])\n",
    "# # Apply the function to your SMILES column\n",
    "merged_df['fingerprint'] = merged_df['canSMILES'].apply(smiles_to_fingerprint)\n",
    "\n",
    "fingerprint_map = merged_df[['fingerprint',\"improve_drug_id\"]]\n",
    "#merged_df = merged_df[[\"improve_sample_id\",\"improve_drug_id\",\"drug_response_value\"]]\n"
   ]
  },
  {
   "cell_type": "code",
   "execution_count": 19,
   "id": "3b131d4a",
   "metadata": {},
   "outputs": [
    {
     "data": {
      "application/vnd.microsoft.datawrangler.viewer.v0+json": {
       "columns": [
        {
         "name": "index",
         "rawType": "int64",
         "type": "integer"
        },
        {
         "name": "improve_sample_id",
         "rawType": "int64",
         "type": "integer"
        },
        {
         "name": "improve_drug_id",
         "rawType": "object",
         "type": "string"
        },
        {
         "name": "dose_response_value",
         "rawType": "float64",
         "type": "float"
        },
        {
         "name": "canSMILES",
         "rawType": "object",
         "type": "string"
        },
        {
         "name": "fingerprint",
         "rawType": "object",
         "type": "unknown"
        }
       ],
       "ref": "6ace30b5-8a42-41aa-88a0-57dad547199f",
       "rows": [
        [
         "0",
         "3909",
         "SMI_3871",
         "0.7293",
         "CC(C)(C#N)C1=CC=C(C=C1)N2C3=C4C=C(C=CC4=NC=C3N(C2=O)C)C5=CC6=CC=CC=C6N=C5",
         "[0 0 0 ... 0 0 0]"
        ],
        [
         "1",
         "3909",
         "SMI_4862",
         "0.8712",
         "C1=CC=C2C(=C1)C3=NNC4=CC=CC(=C43)C2=O",
         "[0 1 0 ... 0 0 0]"
        ],
        [
         "2",
         "3909",
         "SMI_11493",
         "0.4649",
         "CCN1C2=C(C(=NC=C2OCC3CCCNC3)C#CC(C)(C)O)N=C1C4=NON=C4N",
         "[0 0 0 ... 0 0 0]"
        ],
        [
         "3",
         "3909",
         "SMI_23048",
         "0.7243",
         "CC1=CC(=NN1)NC2=NC(=NC=C2Cl)NC(C)C3=NC=C(C=N3)F",
         "[0 1 0 ... 0 0 0]"
        ],
        [
         "4",
         "3909",
         "SMI_51801",
         "0.481",
         "CN(C(=S)C1=CC=CC=C1)NC(=O)CC(=O)NN(C)C(=S)C2=CC=CC=C2",
         "[0 0 0 ... 0 0 0]"
        ],
        [
         "5",
         "3909",
         "SMI_3962",
         "0.4803",
         "CC1=CN=C(N=C1NC2=CC(=CC=C2)S(=O)(=O)NC(C)(C)C)NC3=CC=C(C=C3)OCCN4CCCC4",
         "[0 0 0 ... 0 0 0]"
        ],
        [
         "6",
         "3909",
         "SMI_44394",
         "0.6934",
         "CN1C=C(C=N1)C2=NN3C(=NN=C3C(C4=CC5=C(C=C4)N=CC=C5)(F)F)C=C2",
         "[0 1 0 ... 0 0 0]"
        ],
        [
         "7",
         "3909",
         "SMI_5108",
         "0.9585",
         "CC12C(C(CC(O1)N3C4=CC=CC=C4C5=C6C(=C7C8=CC=CC=C8N2C7=C53)CNC6=O)NC)OC",
         "[0 0 0 ... 0 0 0]"
        ],
        [
         "8",
         "3909",
         "SMI_46879",
         "0.6469",
         "C1CCN(C1)CC2CC(C2)N3C=C(C4=C(N=CN=C43)N)C5=CC(=CC=C5)OCC6=CC=CC=C6",
         "[0 0 0 ... 0 0 0]"
        ],
        [
         "9",
         "3909",
         "SMI_19449",
         "0.8501",
         "CC(C)N1C2=NC=NC(=C2C(=N1)C3=CC4=C(C=C3)OC(=N4)N)N",
         "[0 1 0 ... 0 0 0]"
        ],
        [
         "10",
         "3909",
         "SMI_14356",
         "0.8196",
         "C1COCCN1C2=CC=C(C=C2)NC3=NC=CC(=N3)C4=CC=C(C=C4)C(=O)NCC#N",
         "[0 0 0 ... 0 0 0]"
        ],
        [
         "11",
         "3909",
         "SMI_7971",
         "0.1926",
         "CC1=C(NC(=C1C(=O)N2CCCC2CN3CCCC3)C)C=C4C5=C(C=CC(=C5)S(=O)(=O)CC6=C(C=CC=C6Cl)Cl)NC4=O",
         "[0 0 0 ... 0 0 0]"
        ],
        [
         "12",
         "3909",
         "SMI_8294",
         "0.6519",
         "CCC1C(=O)N(C2=CN=C(N=C2N1C3CCCC3)NC4=C(C=C(C=C4)C(=O)NC5CCN(CC5)C)OC)C",
         "[0 0 0 ... 1 0 0]"
        ],
        [
         "13",
         "3909",
         "SMI_5060",
         "0.5047",
         "CC1CCC2CC(C(=CC=CC=CC(CC(C(=O)C(C(C(=CC(C(=O)CC(OC(=O)C3CCCCN3C(=O)C(=O)C1(O2)O)C(C)CC4CCC(C(C4)OC)O)C)C)O)OC)C)C)C)OC",
         "[0 1 0 ... 0 0 0]"
        ],
        [
         "14",
         "3909",
         "SMI_31077",
         "0.8458",
         "CCC(C1=NC2=C(C(=CC=C2)F)C(=O)N1C3=CC=CC=C3)NC4=NC=NC5=C4NC=N5",
         "[0 1 0 ... 0 0 0]"
        ],
        [
         "15",
         "3909",
         "SMI_53245",
         "0.6418",
         "CN(C)CC(=O)N1CCC(CC1)C2=CC(=C(C=C2)NC(=O)C3=NC=C(N3)C#N)C4=CCCCC4",
         "[0 0 0 ... 0 0 0]"
        ],
        [
         "16",
         "3909",
         "SMI_25125",
         "0.7362",
         "C1CN(CCN1)C(=O)C2=CC=C(C=C2)C=CC3=NNC4=CC=CC=C43",
         "[0 0 0 ... 0 0 0]"
        ],
        [
         "17",
         "3909",
         "SMI_3109",
         "0.7226",
         "CC1(COC1)COC2=CC3=C(C=C2)N(C=N3)C4=NC5=C(C=CC=C5N6CCC(CC6)N)C=C4",
         "[0 0 0 ... 0 0 0]"
        ],
        [
         "18",
         "3909",
         "SMI_11502",
         "0.7813",
         "CS(=O)(=O)N1CCN(CC1)CC2=CC3=C(S2)C(=NC(=N3)C4=C5C=NNC5=CC=C4)N6CCOCC6",
         "[0 0 0 ... 0 0 0]"
        ],
        [
         "19",
         "3909",
         "SMI_18541",
         "0.7703",
         "COC1=C(C=C2C(=C1)N=CN=C2NC3=CC(=C(C=C3)F)Cl)OCCCN4CCOCC4",
         "[0 0 0 ... 0 0 0]"
        ],
        [
         "20",
         "3909",
         "SMI_20505",
         "0.2031",
         "C1COCCN1C2=NC(=NC3=C2OC4=C3C=CC=N4)C5=CC(=CC=C5)O",
         "[0 0 0 ... 0 0 0]"
        ],
        [
         "21",
         "3909",
         "SMI_41466",
         "0.9095",
         "CC1=C(C(=CC=C1)Cl)NC(=O)C2=CN=C(S2)NC3=CC(=NC(=N3)C)N4CCN(CC4)CCO",
         "[0 0 0 ... 0 0 0]"
        ],
        [
         "22",
         "3909",
         "SMI_39432",
         "0.7919",
         "COC1=CC2=C(C=CN=C2C=C1OC)OC3=CC=C(C=C3)NC(=O)C4(CC4)C(=O)NC5=CC=C(C=C5)F",
         "[0 0 0 ... 0 0 0]"
        ],
        [
         "23",
         "3909",
         "SMI_24635",
         "0.7403",
         "CS(=O)(=O)CCNCC1=CC=C(O1)C2=CC3=C(C=C2)N=CN=C3NC4=CC(=C(C=C4)OCC5=CC(=CC=C5)F)Cl",
         "[0 0 0 ... 0 0 0]"
        ],
        [
         "24",
         "3909",
         "SMI_41952",
         "0.6777",
         "C1COCCN1C2=CC(=O)C=C(O2)C3=C4C(=CC=C3)SC5=CC=CC=C5S4",
         "[0 0 0 ... 0 0 0]"
        ],
        [
         "25",
         "3909",
         "SMI_6419",
         "0.8643",
         "C1=CC2=C(C=CN=C2)C(=C1)S(=O)(=O)NCCNCC=CC3=CC=C(C=C3)Br",
         "[0 0 0 ... 0 0 0]"
        ],
        [
         "26",
         "3909",
         "SMI_11509",
         "0.0752",
         "CC(C)S(=O)(=O)C1=CC=CC=C1NC2=NC(=NC=C2Cl)NC3=C(C=C(C=C3)N4CCC(CC4)N5CCN(CC5)C)OC",
         "[0 1 0 ... 0 0 0]"
        ],
        [
         "27",
         "3909",
         "SMI_53126",
         "0.5279",
         "CCN(CC)CCNC(=O)C1=C(NC(=C1C)C=C2C3=C(C=CC(=C3)F)NC2=O)C",
         "[0 0 0 ... 0 0 0]"
        ],
        [
         "28",
         "3909",
         "SMI_28228",
         "0.9082",
         "CC1=C(C=C(C=C1)NC(=O)C2=CC=C(C=C2)CN3CCN(CC3)C)NC4=NC=CC(=N4)C5=CN=CC=C5",
         "[0 0 0 ... 0 0 0]"
        ],
        [
         "29",
         "3909",
         "SMI_54944",
         "0.7623",
         "C1CSCC2=C1N=C(NC2=O)C3=CC=C(C=C3)C(F)(F)F",
         "[0 0 0 ... 0 0 0]"
        ],
        [
         "30",
         "3909",
         "SMI_18303",
         "0.8212",
         "CCC1=CC(=C(C=C1N2CCC(CC2)N3CCN(CC3)S(=O)(=O)C)OC)NC4=NC=CC(=N4)C5=C(N=C6N5C=CC=C6)C7=CC(=C(C=C7)OC)C(=O)NC8=C(C=CC=C8F)F",
         "[0 0 0 ... 0 0 0]"
        ],
        [
         "31",
         "3909",
         "SMI_55592",
         "0.3349",
         "CC1=C(NC(=C1C(=O)N2CCN(CC2)C)C)C=C3C4=C(C=CC(=C4)S(=O)(=O)N(C)C5=CC(=CC=C5)Cl)NC3=O",
         "[0 0 0 ... 0 0 0]"
        ],
        [
         "32",
         "3909",
         "SMI_55588",
         "0.9667",
         "CC1=CN=C(N1)C2=CN=C(N=C2C3=C(C=C(C=C3)Cl)Cl)NCCNC4=NC=C(C=C4)C#N",
         "[0 0 0 ... 0 0 0]"
        ],
        [
         "33",
         "3909",
         "SMI_55461",
         "0.7543",
         "C1=CC(=CC(=C1)O)C2=NC3=C(N=C(N=C3N=C2C4=CC(=CC=C4)O)N)N",
         "[0 0 0 ... 0 0 0]"
        ],
        [
         "34",
         "3909",
         "SMI_55606",
         "0.7571",
         "COCCOC1=C(C=C2C(=C1)C(=NC=N2)NC3=CC=CC(=C3)C#C)OCCOC",
         "[0 0 0 ... 0 0 0]"
        ],
        [
         "35",
         "3909",
         "SMI_55656",
         "0.9885",
         "CC1=[N+](C2=C(N1CCOC)C(=O)C3=CC=CC=C3C2=O)CC4=NC=CN=C4.[Br-]",
         "[0 1 0 ... 0 0 0]"
        ],
        [
         "36",
         "3909",
         "SMI_55628",
         "0.5898",
         "C1CC(=NO)C2=C1C=C(C=C2)C3=CN(N=C3C4=CC=NC=C4)CCO",
         "[0 0 0 ... 0 0 0]"
        ],
        [
         "37",
         "3909",
         "SMI_56397",
         "0.7277",
         "CC1=C2C=C(C=CC2=NN1)C3=CC(=CN=C3)OCC(CC4=CC=CC=C4)N",
         "[0 1 0 ... 0 0 0]"
        ],
        [
         "38",
         "3909",
         "SMI_55905",
         "0.7221",
         "CNC(=O)C1=C(C=CC=C1F)NC2=NC(=NC3=C2C=CN3)NC4=C(C=C5C=CN(C5=C4)C(=O)CN(C)C)OC",
         "[0 0 1 ... 0 0 0]"
        ],
        [
         "39",
         "3909",
         "SMI_56545",
         "0.8241",
         "C1=CC(=C(C(=C1)F)C(=O)N2C(=NC(=N2)NC3=CC=C(C=C3)S(=O)(=O)N)N)F",
         "[0 0 0 ... 0 0 0]"
        ],
        [
         "40",
         "3909",
         "SMI_56575",
         "0.8714",
         "CN1C2=NC(=NC=C2C=C(C1=O)C3=C(C=CC=C3Cl)Cl)NC4=CC(=CC=C4)SC",
         "[0 0 0 ... 0 0 0]"
        ],
        [
         "41",
         "3909",
         "SMI_56584",
         "0.6488",
         "CC1=CC2=C(C=C1)N=C(C3=NC=C(N23)C)NCCN.Cl",
         "[0 0 0 ... 0 0 0]"
        ],
        [
         "42",
         "3909",
         "SMI_56595",
         "0.8296",
         "C1=CC(=CC=C1C2=C(NN(C2=O)C3=CC=C(C=C3)Cl)C4=CC=NC=C4)F",
         "[0 0 0 ... 0 0 0]"
        ],
        [
         "43",
         "3909",
         "SMI_56574",
         "0.9391",
         "CC(C1=NC=CS1)NC(=O)NC2=C(C=C(C=C2)OC3=C4C=C(C(=CC4=NC=C3)OC)OC)OC",
         "[0 1 0 ... 0 0 0]"
        ],
        [
         "44",
         "3909",
         "SMI_56579",
         "0.9294",
         "CN(CC=CC1=CC=C(C=C1)Cl)CC2=CC=CC=C2NS(=O)(=O)C3=CC=C(C=C3)OC",
         "[0 0 0 ... 0 0 0]"
        ],
        [
         "45",
         "3909",
         "SMI_56577",
         "0.7797",
         "CC(C)(C)C1=NC2=C(N1)C3=C(C=C(C=C3)F)C4=C2C=CNC4=O",
         "[0 0 1 ... 0 0 0]"
        ],
        [
         "46",
         "3909",
         "SMI_56592",
         "0.9125",
         "CN(CC=CC1=CC=C(C=C1)Cl)CC2=CC=CC=C2N(CCO)S(=O)(=O)C3=CC=C(C=C3)OC",
         "[0 0 0 ... 0 0 0]"
        ],
        [
         "47",
         "3909",
         "SMI_56581",
         "0.4593",
         "CC[N+]1=C(N(C2=C1C=C(C=C2)C3=NC4=CC=CC=C4S3)C5=CC=CC=C5)C=CN(C)C6=CC=CC=C6.[I-]",
         "[0 0 0 ... 0 0 0]"
        ],
        [
         "48",
         "3909",
         "SMI_56597",
         "0.7619",
         "C1CCN(CC1)CCOC2=CC=C(C=C2)C3=CN4C(=C(C=N4)C5=CC=NC=C5)N=C3",
         "[0 0 1 ... 0 0 0]"
        ],
        [
         "49",
         "3909",
         "SMI_56587",
         "0.398",
         "CC1=C(C=CC=N1)C(=O)NC2=C3C(=CC(=C2OC)Cl)C4=C(N3)C=NC=C4",
         "[0 0 0 ... 1 0 0]"
        ]
       ],
       "shape": {
        "columns": 5,
        "rows": 23662
       }
      },
      "text/html": [
       "<div>\n",
       "<style scoped>\n",
       "    .dataframe tbody tr th:only-of-type {\n",
       "        vertical-align: middle;\n",
       "    }\n",
       "\n",
       "    .dataframe tbody tr th {\n",
       "        vertical-align: top;\n",
       "    }\n",
       "\n",
       "    .dataframe thead th {\n",
       "        text-align: right;\n",
       "    }\n",
       "</style>\n",
       "<table border=\"1\" class=\"dataframe\">\n",
       "  <thead>\n",
       "    <tr style=\"text-align: right;\">\n",
       "      <th></th>\n",
       "      <th>improve_sample_id</th>\n",
       "      <th>improve_drug_id</th>\n",
       "      <th>dose_response_value</th>\n",
       "      <th>canSMILES</th>\n",
       "      <th>fingerprint</th>\n",
       "    </tr>\n",
       "  </thead>\n",
       "  <tbody>\n",
       "    <tr>\n",
       "      <th>0</th>\n",
       "      <td>3909</td>\n",
       "      <td>SMI_3871</td>\n",
       "      <td>0.7293</td>\n",
       "      <td>CC(C)(C#N)C1=CC=C(C=C1)N2C3=C4C=C(C=CC4=NC=C3N...</td>\n",
       "      <td>[0, 0, 0, 0, 0, 0, 0, 0, 0, 0, 0, 1, 0, 0, 0, ...</td>\n",
       "    </tr>\n",
       "    <tr>\n",
       "      <th>1</th>\n",
       "      <td>3909</td>\n",
       "      <td>SMI_4862</td>\n",
       "      <td>0.8712</td>\n",
       "      <td>C1=CC=C2C(=C1)C3=NNC4=CC=CC(=C43)C2=O</td>\n",
       "      <td>[0, 1, 0, 0, 0, 0, 0, 0, 0, 0, 0, 0, 0, 0, 0, ...</td>\n",
       "    </tr>\n",
       "    <tr>\n",
       "      <th>2</th>\n",
       "      <td>3909</td>\n",
       "      <td>SMI_11493</td>\n",
       "      <td>0.4649</td>\n",
       "      <td>CCN1C2=C(C(=NC=C2OCC3CCCNC3)C#CC(C)(C)O)N=C1C4...</td>\n",
       "      <td>[0, 0, 0, 0, 1, 0, 0, 0, 0, 0, 0, 0, 0, 0, 0, ...</td>\n",
       "    </tr>\n",
       "    <tr>\n",
       "      <th>3</th>\n",
       "      <td>3909</td>\n",
       "      <td>SMI_23048</td>\n",
       "      <td>0.7243</td>\n",
       "      <td>CC1=CC(=NN1)NC2=NC(=NC=C2Cl)NC(C)C3=NC=C(C=N3)F</td>\n",
       "      <td>[0, 1, 0, 0, 0, 0, 0, 0, 0, 0, 0, 0, 0, 0, 0, ...</td>\n",
       "    </tr>\n",
       "    <tr>\n",
       "      <th>4</th>\n",
       "      <td>3909</td>\n",
       "      <td>SMI_51801</td>\n",
       "      <td>0.4810</td>\n",
       "      <td>CN(C(=S)C1=CC=CC=C1)NC(=O)CC(=O)NN(C)C(=S)C2=C...</td>\n",
       "      <td>[0, 0, 0, 0, 0, 0, 0, 0, 0, 0, 0, 0, 0, 0, 0, ...</td>\n",
       "    </tr>\n",
       "    <tr>\n",
       "      <th>...</th>\n",
       "      <td>...</td>\n",
       "      <td>...</td>\n",
       "      <td>...</td>\n",
       "      <td>...</td>\n",
       "      <td>...</td>\n",
       "    </tr>\n",
       "    <tr>\n",
       "      <th>23657</th>\n",
       "      <td>3628</td>\n",
       "      <td>SMI_13100</td>\n",
       "      <td>0.6932</td>\n",
       "      <td>COC1=CC=C(C=C1)COC2=C(C=C(C=C2)CC3=CN=C(N=C3N)...</td>\n",
       "      <td>[0, 0, 0, 1, 0, 0, 0, 0, 0, 0, 0, 0, 0, 0, 0, ...</td>\n",
       "    </tr>\n",
       "    <tr>\n",
       "      <th>23658</th>\n",
       "      <td>3628</td>\n",
       "      <td>SMI_40233</td>\n",
       "      <td>0.1915</td>\n",
       "      <td>CC1=C(C2=CC=CC=C2N1)CCNCC3=CC=C(C=C3)C=CC(=O)NO</td>\n",
       "      <td>[0, 0, 0, 0, 0, 0, 0, 0, 0, 0, 0, 0, 0, 0, 0, ...</td>\n",
       "    </tr>\n",
       "    <tr>\n",
       "      <th>23659</th>\n",
       "      <td>3628</td>\n",
       "      <td>SMI_16810</td>\n",
       "      <td>0.3392</td>\n",
       "      <td>CN1CCC(C(C1)O)C2=C(C=C(C3=C2OC(=CC3=O)C4=CC=CC...</td>\n",
       "      <td>[0, 0, 0, 0, 0, 0, 0, 0, 0, 0, 0, 0, 0, 0, 0, ...</td>\n",
       "    </tr>\n",
       "    <tr>\n",
       "      <th>23660</th>\n",
       "      <td>3628</td>\n",
       "      <td>SMI_35928</td>\n",
       "      <td>0.4730</td>\n",
       "      <td>CC(C)N1C2=NC=NC(=C2C(=N1)C3=CC4=C(N3)C=CC(=C4)O)N</td>\n",
       "      <td>[0, 1, 0, 0, 0, 0, 0, 0, 0, 0, 0, 0, 0, 0, 0, ...</td>\n",
       "    </tr>\n",
       "    <tr>\n",
       "      <th>23661</th>\n",
       "      <td>3628</td>\n",
       "      <td>SMI_32922</td>\n",
       "      <td>0.8515</td>\n",
       "      <td>CC1=CC=CC=C1C(C(=O)NC2CCCCC2)N(C3=CC(=CC=C3)F)...</td>\n",
       "      <td>[0, 1, 1, 0, 1, 0, 0, 0, 0, 0, 0, 0, 0, 0, 0, ...</td>\n",
       "    </tr>\n",
       "  </tbody>\n",
       "</table>\n",
       "<p>23662 rows × 5 columns</p>\n",
       "</div>"
      ],
      "text/plain": [
       "       improve_sample_id improve_drug_id  dose_response_value  \\\n",
       "0                   3909        SMI_3871               0.7293   \n",
       "1                   3909        SMI_4862               0.8712   \n",
       "2                   3909       SMI_11493               0.4649   \n",
       "3                   3909       SMI_23048               0.7243   \n",
       "4                   3909       SMI_51801               0.4810   \n",
       "...                  ...             ...                  ...   \n",
       "23657               3628       SMI_13100               0.6932   \n",
       "23658               3628       SMI_40233               0.1915   \n",
       "23659               3628       SMI_16810               0.3392   \n",
       "23660               3628       SMI_35928               0.4730   \n",
       "23661               3628       SMI_32922               0.8515   \n",
       "\n",
       "                                               canSMILES  \\\n",
       "0      CC(C)(C#N)C1=CC=C(C=C1)N2C3=C4C=C(C=CC4=NC=C3N...   \n",
       "1                  C1=CC=C2C(=C1)C3=NNC4=CC=CC(=C43)C2=O   \n",
       "2      CCN1C2=C(C(=NC=C2OCC3CCCNC3)C#CC(C)(C)O)N=C1C4...   \n",
       "3        CC1=CC(=NN1)NC2=NC(=NC=C2Cl)NC(C)C3=NC=C(C=N3)F   \n",
       "4      CN(C(=S)C1=CC=CC=C1)NC(=O)CC(=O)NN(C)C(=S)C2=C...   \n",
       "...                                                  ...   \n",
       "23657  COC1=CC=C(C=C1)COC2=C(C=C(C=C2)CC3=CN=C(N=C3N)...   \n",
       "23658    CC1=C(C2=CC=CC=C2N1)CCNCC3=CC=C(C=C3)C=CC(=O)NO   \n",
       "23659  CN1CCC(C(C1)O)C2=C(C=C(C3=C2OC(=CC3=O)C4=CC=CC...   \n",
       "23660  CC(C)N1C2=NC=NC(=C2C(=N1)C3=CC4=C(N3)C=CC(=C4)O)N   \n",
       "23661  CC1=CC=CC=C1C(C(=O)NC2CCCCC2)N(C3=CC(=CC=C3)F)...   \n",
       "\n",
       "                                             fingerprint  \n",
       "0      [0, 0, 0, 0, 0, 0, 0, 0, 0, 0, 0, 1, 0, 0, 0, ...  \n",
       "1      [0, 1, 0, 0, 0, 0, 0, 0, 0, 0, 0, 0, 0, 0, 0, ...  \n",
       "2      [0, 0, 0, 0, 1, 0, 0, 0, 0, 0, 0, 0, 0, 0, 0, ...  \n",
       "3      [0, 1, 0, 0, 0, 0, 0, 0, 0, 0, 0, 0, 0, 0, 0, ...  \n",
       "4      [0, 0, 0, 0, 0, 0, 0, 0, 0, 0, 0, 0, 0, 0, 0, ...  \n",
       "...                                                  ...  \n",
       "23657  [0, 0, 0, 1, 0, 0, 0, 0, 0, 0, 0, 0, 0, 0, 0, ...  \n",
       "23658  [0, 0, 0, 0, 0, 0, 0, 0, 0, 0, 0, 0, 0, 0, 0, ...  \n",
       "23659  [0, 0, 0, 0, 0, 0, 0, 0, 0, 0, 0, 0, 0, 0, 0, ...  \n",
       "23660  [0, 1, 0, 0, 0, 0, 0, 0, 0, 0, 0, 0, 0, 0, 0, ...  \n",
       "23661  [0, 1, 1, 0, 1, 0, 0, 0, 0, 0, 0, 0, 0, 0, 0, ...  \n",
       "\n",
       "[23662 rows x 5 columns]"
      ]
     },
     "execution_count": 19,
     "metadata": {},
     "output_type": "execute_result"
    }
   ],
   "source": [
    "merged_df"
   ]
  },
  {
   "cell_type": "code",
   "execution_count": 20,
   "id": "362ba738",
   "metadata": {},
   "outputs": [
    {
     "data": {
      "application/vnd.microsoft.datawrangler.viewer.v0+json": {
       "columns": [
        {
         "name": "index",
         "rawType": "int64",
         "type": "integer"
        },
        {
         "name": "fingerprint",
         "rawType": "object",
         "type": "unknown"
        },
        {
         "name": "improve_drug_id",
         "rawType": "object",
         "type": "string"
        }
       ],
       "ref": "92df12c6-bf16-4388-827c-0dd6d93afc84",
       "rows": [
        [
         "0",
         "[0 0 0 ... 0 0 0]",
         "SMI_3871"
        ],
        [
         "1",
         "[0 1 0 ... 0 0 0]",
         "SMI_4862"
        ],
        [
         "2",
         "[0 0 0 ... 0 0 0]",
         "SMI_11493"
        ],
        [
         "3",
         "[0 1 0 ... 0 0 0]",
         "SMI_23048"
        ],
        [
         "4",
         "[0 0 0 ... 0 0 0]",
         "SMI_51801"
        ],
        [
         "5",
         "[0 0 0 ... 0 0 0]",
         "SMI_3962"
        ],
        [
         "6",
         "[0 1 0 ... 0 0 0]",
         "SMI_44394"
        ],
        [
         "7",
         "[0 0 0 ... 0 0 0]",
         "SMI_5108"
        ],
        [
         "8",
         "[0 0 0 ... 0 0 0]",
         "SMI_46879"
        ],
        [
         "9",
         "[0 1 0 ... 0 0 0]",
         "SMI_19449"
        ],
        [
         "10",
         "[0 0 0 ... 0 0 0]",
         "SMI_14356"
        ],
        [
         "11",
         "[0 0 0 ... 0 0 0]",
         "SMI_7971"
        ],
        [
         "12",
         "[0 0 0 ... 1 0 0]",
         "SMI_8294"
        ],
        [
         "13",
         "[0 1 0 ... 0 0 0]",
         "SMI_5060"
        ],
        [
         "14",
         "[0 1 0 ... 0 0 0]",
         "SMI_31077"
        ],
        [
         "15",
         "[0 0 0 ... 0 0 0]",
         "SMI_53245"
        ],
        [
         "16",
         "[0 0 0 ... 0 0 0]",
         "SMI_25125"
        ],
        [
         "17",
         "[0 0 0 ... 0 0 0]",
         "SMI_3109"
        ],
        [
         "18",
         "[0 0 0 ... 0 0 0]",
         "SMI_11502"
        ],
        [
         "19",
         "[0 0 0 ... 0 0 0]",
         "SMI_18541"
        ],
        [
         "20",
         "[0 0 0 ... 0 0 0]",
         "SMI_20505"
        ],
        [
         "21",
         "[0 0 0 ... 0 0 0]",
         "SMI_41466"
        ],
        [
         "22",
         "[0 0 0 ... 0 0 0]",
         "SMI_39432"
        ],
        [
         "23",
         "[0 0 0 ... 0 0 0]",
         "SMI_24635"
        ],
        [
         "24",
         "[0 0 0 ... 0 0 0]",
         "SMI_41952"
        ],
        [
         "25",
         "[0 0 0 ... 0 0 0]",
         "SMI_6419"
        ],
        [
         "26",
         "[0 1 0 ... 0 0 0]",
         "SMI_11509"
        ],
        [
         "27",
         "[0 0 0 ... 0 0 0]",
         "SMI_53126"
        ],
        [
         "28",
         "[0 0 0 ... 0 0 0]",
         "SMI_28228"
        ],
        [
         "29",
         "[0 0 0 ... 0 0 0]",
         "SMI_54944"
        ],
        [
         "30",
         "[0 0 0 ... 0 0 0]",
         "SMI_18303"
        ],
        [
         "31",
         "[0 0 0 ... 0 0 0]",
         "SMI_55592"
        ],
        [
         "32",
         "[0 0 0 ... 0 0 0]",
         "SMI_55588"
        ],
        [
         "33",
         "[0 0 0 ... 0 0 0]",
         "SMI_55461"
        ],
        [
         "34",
         "[0 0 0 ... 0 0 0]",
         "SMI_55606"
        ],
        [
         "35",
         "[0 1 0 ... 0 0 0]",
         "SMI_55656"
        ],
        [
         "36",
         "[0 0 0 ... 0 0 0]",
         "SMI_55628"
        ],
        [
         "37",
         "[0 1 0 ... 0 0 0]",
         "SMI_56397"
        ],
        [
         "38",
         "[0 0 1 ... 0 0 0]",
         "SMI_55905"
        ],
        [
         "39",
         "[0 0 0 ... 0 0 0]",
         "SMI_56545"
        ],
        [
         "40",
         "[0 0 0 ... 0 0 0]",
         "SMI_56575"
        ],
        [
         "41",
         "[0 0 0 ... 0 0 0]",
         "SMI_56584"
        ],
        [
         "42",
         "[0 0 0 ... 0 0 0]",
         "SMI_56595"
        ],
        [
         "43",
         "[0 1 0 ... 0 0 0]",
         "SMI_56574"
        ],
        [
         "44",
         "[0 0 0 ... 0 0 0]",
         "SMI_56579"
        ],
        [
         "45",
         "[0 0 1 ... 0 0 0]",
         "SMI_56577"
        ],
        [
         "46",
         "[0 0 0 ... 0 0 0]",
         "SMI_56592"
        ],
        [
         "47",
         "[0 0 0 ... 0 0 0]",
         "SMI_56581"
        ],
        [
         "48",
         "[0 0 1 ... 0 0 0]",
         "SMI_56597"
        ],
        [
         "49",
         "[0 0 0 ... 1 0 0]",
         "SMI_56587"
        ]
       ],
       "shape": {
        "columns": 2,
        "rows": 23662
       }
      },
      "text/html": [
       "<div>\n",
       "<style scoped>\n",
       "    .dataframe tbody tr th:only-of-type {\n",
       "        vertical-align: middle;\n",
       "    }\n",
       "\n",
       "    .dataframe tbody tr th {\n",
       "        vertical-align: top;\n",
       "    }\n",
       "\n",
       "    .dataframe thead th {\n",
       "        text-align: right;\n",
       "    }\n",
       "</style>\n",
       "<table border=\"1\" class=\"dataframe\">\n",
       "  <thead>\n",
       "    <tr style=\"text-align: right;\">\n",
       "      <th></th>\n",
       "      <th>fingerprint</th>\n",
       "      <th>improve_drug_id</th>\n",
       "    </tr>\n",
       "  </thead>\n",
       "  <tbody>\n",
       "    <tr>\n",
       "      <th>0</th>\n",
       "      <td>[0, 0, 0, 0, 0, 0, 0, 0, 0, 0, 0, 1, 0, 0, 0, ...</td>\n",
       "      <td>SMI_3871</td>\n",
       "    </tr>\n",
       "    <tr>\n",
       "      <th>1</th>\n",
       "      <td>[0, 1, 0, 0, 0, 0, 0, 0, 0, 0, 0, 0, 0, 0, 0, ...</td>\n",
       "      <td>SMI_4862</td>\n",
       "    </tr>\n",
       "    <tr>\n",
       "      <th>2</th>\n",
       "      <td>[0, 0, 0, 0, 1, 0, 0, 0, 0, 0, 0, 0, 0, 0, 0, ...</td>\n",
       "      <td>SMI_11493</td>\n",
       "    </tr>\n",
       "    <tr>\n",
       "      <th>3</th>\n",
       "      <td>[0, 1, 0, 0, 0, 0, 0, 0, 0, 0, 0, 0, 0, 0, 0, ...</td>\n",
       "      <td>SMI_23048</td>\n",
       "    </tr>\n",
       "    <tr>\n",
       "      <th>4</th>\n",
       "      <td>[0, 0, 0, 0, 0, 0, 0, 0, 0, 0, 0, 0, 0, 0, 0, ...</td>\n",
       "      <td>SMI_51801</td>\n",
       "    </tr>\n",
       "    <tr>\n",
       "      <th>...</th>\n",
       "      <td>...</td>\n",
       "      <td>...</td>\n",
       "    </tr>\n",
       "    <tr>\n",
       "      <th>23657</th>\n",
       "      <td>[0, 0, 0, 1, 0, 0, 0, 0, 0, 0, 0, 0, 0, 0, 0, ...</td>\n",
       "      <td>SMI_13100</td>\n",
       "    </tr>\n",
       "    <tr>\n",
       "      <th>23658</th>\n",
       "      <td>[0, 0, 0, 0, 0, 0, 0, 0, 0, 0, 0, 0, 0, 0, 0, ...</td>\n",
       "      <td>SMI_40233</td>\n",
       "    </tr>\n",
       "    <tr>\n",
       "      <th>23659</th>\n",
       "      <td>[0, 0, 0, 0, 0, 0, 0, 0, 0, 0, 0, 0, 0, 0, 0, ...</td>\n",
       "      <td>SMI_16810</td>\n",
       "    </tr>\n",
       "    <tr>\n",
       "      <th>23660</th>\n",
       "      <td>[0, 1, 0, 0, 0, 0, 0, 0, 0, 0, 0, 0, 0, 0, 0, ...</td>\n",
       "      <td>SMI_35928</td>\n",
       "    </tr>\n",
       "    <tr>\n",
       "      <th>23661</th>\n",
       "      <td>[0, 1, 1, 0, 1, 0, 0, 0, 0, 0, 0, 0, 0, 0, 0, ...</td>\n",
       "      <td>SMI_32922</td>\n",
       "    </tr>\n",
       "  </tbody>\n",
       "</table>\n",
       "<p>23662 rows × 2 columns</p>\n",
       "</div>"
      ],
      "text/plain": [
       "                                             fingerprint improve_drug_id\n",
       "0      [0, 0, 0, 0, 0, 0, 0, 0, 0, 0, 0, 1, 0, 0, 0, ...        SMI_3871\n",
       "1      [0, 1, 0, 0, 0, 0, 0, 0, 0, 0, 0, 0, 0, 0, 0, ...        SMI_4862\n",
       "2      [0, 0, 0, 0, 1, 0, 0, 0, 0, 0, 0, 0, 0, 0, 0, ...       SMI_11493\n",
       "3      [0, 1, 0, 0, 0, 0, 0, 0, 0, 0, 0, 0, 0, 0, 0, ...       SMI_23048\n",
       "4      [0, 0, 0, 0, 0, 0, 0, 0, 0, 0, 0, 0, 0, 0, 0, ...       SMI_51801\n",
       "...                                                  ...             ...\n",
       "23657  [0, 0, 0, 1, 0, 0, 0, 0, 0, 0, 0, 0, 0, 0, 0, ...       SMI_13100\n",
       "23658  [0, 0, 0, 0, 0, 0, 0, 0, 0, 0, 0, 0, 0, 0, 0, ...       SMI_40233\n",
       "23659  [0, 0, 0, 0, 0, 0, 0, 0, 0, 0, 0, 0, 0, 0, 0, ...       SMI_16810\n",
       "23660  [0, 1, 0, 0, 0, 0, 0, 0, 0, 0, 0, 0, 0, 0, 0, ...       SMI_35928\n",
       "23661  [0, 1, 1, 0, 1, 0, 0, 0, 0, 0, 0, 0, 0, 0, 0, ...       SMI_32922\n",
       "\n",
       "[23662 rows x 2 columns]"
      ]
     },
     "execution_count": 20,
     "metadata": {},
     "output_type": "execute_result"
    }
   ],
   "source": [
    "fingerprint_map"
   ]
  },
  {
   "cell_type": "code",
   "execution_count": 21,
   "id": "13f8a7c6",
   "metadata": {},
   "outputs": [
    {
     "data": {
      "application/vnd.microsoft.datawrangler.viewer.v0+json": {
       "columns": [
        {
         "name": "index",
         "rawType": "int64",
         "type": "integer"
        },
        {
         "name": "improve_sample_id",
         "rawType": "int64",
         "type": "integer"
        },
        {
         "name": "improve_drug_id",
         "rawType": "object",
         "type": "string"
        },
        {
         "name": "dose_response_value",
         "rawType": "float64",
         "type": "float"
        }
       ],
       "ref": "cc14e0a3-d719-4962-a734-3914454948f2",
       "rows": [
        [
         "0",
         "3909",
         "SMI_3871",
         "0.7293"
        ],
        [
         "1",
         "3909",
         "SMI_4862",
         "0.8712"
        ],
        [
         "2",
         "3909",
         "SMI_11493",
         "0.4649"
        ],
        [
         "3",
         "3909",
         "SMI_23048",
         "0.7243"
        ],
        [
         "4",
         "3909",
         "SMI_51801",
         "0.481"
        ],
        [
         "5",
         "3909",
         "SMI_3962",
         "0.4803"
        ],
        [
         "6",
         "3909",
         "SMI_44394",
         "0.6934"
        ],
        [
         "7",
         "3909",
         "SMI_5108",
         "0.9585"
        ],
        [
         "8",
         "3909",
         "SMI_46879",
         "0.6469"
        ],
        [
         "9",
         "3909",
         "SMI_19449",
         "0.8501"
        ],
        [
         "10",
         "3909",
         "SMI_14356",
         "0.8196"
        ],
        [
         "11",
         "3909",
         "SMI_7971",
         "0.1926"
        ],
        [
         "12",
         "3909",
         "SMI_8294",
         "0.6519"
        ],
        [
         "13",
         "3909",
         "SMI_5060",
         "0.5047"
        ],
        [
         "14",
         "3909",
         "SMI_31077",
         "0.8458"
        ],
        [
         "15",
         "3909",
         "SMI_53245",
         "0.6418"
        ],
        [
         "16",
         "3909",
         "SMI_25125",
         "0.7362"
        ],
        [
         "17",
         "3909",
         "SMI_3109",
         "0.7226"
        ],
        [
         "18",
         "3909",
         "SMI_11502",
         "0.7813"
        ],
        [
         "19",
         "3909",
         "SMI_18541",
         "0.7703"
        ],
        [
         "20",
         "3909",
         "SMI_20505",
         "0.2031"
        ],
        [
         "21",
         "3909",
         "SMI_41466",
         "0.9095"
        ],
        [
         "22",
         "3909",
         "SMI_39432",
         "0.7919"
        ],
        [
         "23",
         "3909",
         "SMI_24635",
         "0.7403"
        ],
        [
         "24",
         "3909",
         "SMI_41952",
         "0.6777"
        ],
        [
         "25",
         "3909",
         "SMI_6419",
         "0.8643"
        ],
        [
         "26",
         "3909",
         "SMI_11509",
         "0.0752"
        ],
        [
         "27",
         "3909",
         "SMI_53126",
         "0.5279"
        ],
        [
         "28",
         "3909",
         "SMI_28228",
         "0.9082"
        ],
        [
         "29",
         "3909",
         "SMI_54944",
         "0.7623"
        ],
        [
         "30",
         "3909",
         "SMI_18303",
         "0.8212"
        ],
        [
         "31",
         "3909",
         "SMI_55592",
         "0.3349"
        ],
        [
         "32",
         "3909",
         "SMI_55588",
         "0.9667"
        ],
        [
         "33",
         "3909",
         "SMI_55461",
         "0.7543"
        ],
        [
         "34",
         "3909",
         "SMI_55606",
         "0.7571"
        ],
        [
         "35",
         "3909",
         "SMI_55656",
         "0.9885"
        ],
        [
         "36",
         "3909",
         "SMI_55628",
         "0.5898"
        ],
        [
         "37",
         "3909",
         "SMI_56397",
         "0.7277"
        ],
        [
         "38",
         "3909",
         "SMI_55905",
         "0.7221"
        ],
        [
         "39",
         "3909",
         "SMI_56545",
         "0.8241"
        ],
        [
         "40",
         "3909",
         "SMI_56575",
         "0.8714"
        ],
        [
         "41",
         "3909",
         "SMI_56584",
         "0.6488"
        ],
        [
         "42",
         "3909",
         "SMI_56595",
         "0.8296"
        ],
        [
         "43",
         "3909",
         "SMI_56574",
         "0.9391"
        ],
        [
         "44",
         "3909",
         "SMI_56579",
         "0.9294"
        ],
        [
         "45",
         "3909",
         "SMI_56577",
         "0.7797"
        ],
        [
         "46",
         "3909",
         "SMI_56592",
         "0.9125"
        ],
        [
         "47",
         "3909",
         "SMI_56581",
         "0.4593"
        ],
        [
         "48",
         "3909",
         "SMI_56597",
         "0.7619"
        ],
        [
         "49",
         "3909",
         "SMI_56587",
         "0.398"
        ]
       ],
       "shape": {
        "columns": 3,
        "rows": 23662
       }
      },
      "text/html": [
       "<div>\n",
       "<style scoped>\n",
       "    .dataframe tbody tr th:only-of-type {\n",
       "        vertical-align: middle;\n",
       "    }\n",
       "\n",
       "    .dataframe tbody tr th {\n",
       "        vertical-align: top;\n",
       "    }\n",
       "\n",
       "    .dataframe thead th {\n",
       "        text-align: right;\n",
       "    }\n",
       "</style>\n",
       "<table border=\"1\" class=\"dataframe\">\n",
       "  <thead>\n",
       "    <tr style=\"text-align: right;\">\n",
       "      <th></th>\n",
       "      <th>improve_sample_id</th>\n",
       "      <th>improve_drug_id</th>\n",
       "      <th>dose_response_value</th>\n",
       "    </tr>\n",
       "  </thead>\n",
       "  <tbody>\n",
       "    <tr>\n",
       "      <th>0</th>\n",
       "      <td>3909</td>\n",
       "      <td>SMI_3871</td>\n",
       "      <td>0.7293</td>\n",
       "    </tr>\n",
       "    <tr>\n",
       "      <th>1</th>\n",
       "      <td>3909</td>\n",
       "      <td>SMI_4862</td>\n",
       "      <td>0.8712</td>\n",
       "    </tr>\n",
       "    <tr>\n",
       "      <th>2</th>\n",
       "      <td>3909</td>\n",
       "      <td>SMI_11493</td>\n",
       "      <td>0.4649</td>\n",
       "    </tr>\n",
       "    <tr>\n",
       "      <th>3</th>\n",
       "      <td>3909</td>\n",
       "      <td>SMI_23048</td>\n",
       "      <td>0.7243</td>\n",
       "    </tr>\n",
       "    <tr>\n",
       "      <th>4</th>\n",
       "      <td>3909</td>\n",
       "      <td>SMI_51801</td>\n",
       "      <td>0.4810</td>\n",
       "    </tr>\n",
       "    <tr>\n",
       "      <th>...</th>\n",
       "      <td>...</td>\n",
       "      <td>...</td>\n",
       "      <td>...</td>\n",
       "    </tr>\n",
       "    <tr>\n",
       "      <th>23657</th>\n",
       "      <td>3628</td>\n",
       "      <td>SMI_13100</td>\n",
       "      <td>0.6932</td>\n",
       "    </tr>\n",
       "    <tr>\n",
       "      <th>23658</th>\n",
       "      <td>3628</td>\n",
       "      <td>SMI_40233</td>\n",
       "      <td>0.1915</td>\n",
       "    </tr>\n",
       "    <tr>\n",
       "      <th>23659</th>\n",
       "      <td>3628</td>\n",
       "      <td>SMI_16810</td>\n",
       "      <td>0.3392</td>\n",
       "    </tr>\n",
       "    <tr>\n",
       "      <th>23660</th>\n",
       "      <td>3628</td>\n",
       "      <td>SMI_35928</td>\n",
       "      <td>0.4730</td>\n",
       "    </tr>\n",
       "    <tr>\n",
       "      <th>23661</th>\n",
       "      <td>3628</td>\n",
       "      <td>SMI_32922</td>\n",
       "      <td>0.8515</td>\n",
       "    </tr>\n",
       "  </tbody>\n",
       "</table>\n",
       "<p>23662 rows × 3 columns</p>\n",
       "</div>"
      ],
      "text/plain": [
       "       improve_sample_id improve_drug_id  dose_response_value\n",
       "0                   3909        SMI_3871               0.7293\n",
       "1                   3909        SMI_4862               0.8712\n",
       "2                   3909       SMI_11493               0.4649\n",
       "3                   3909       SMI_23048               0.7243\n",
       "4                   3909       SMI_51801               0.4810\n",
       "...                  ...             ...                  ...\n",
       "23657               3628       SMI_13100               0.6932\n",
       "23658               3628       SMI_40233               0.1915\n",
       "23659               3628       SMI_16810               0.3392\n",
       "23660               3628       SMI_35928               0.4730\n",
       "23661               3628       SMI_32922               0.8515\n",
       "\n",
       "[23662 rows x 3 columns]"
      ]
     },
     "execution_count": 21,
     "metadata": {},
     "output_type": "execute_result"
    }
   ],
   "source": [
    "merged_df = merged_df[[\"improve_sample_id\",\"improve_drug_id\",\"dose_response_value\"]]\n",
    "merged_df"
   ]
  },
  {
   "cell_type": "code",
   "execution_count": 22,
   "id": "8b8d33cd",
   "metadata": {},
   "outputs": [
    {
     "data": {
      "text/plain": [
       "{'SMI_3871': array([0, 0, 0, ..., 0, 0, 0]),\n",
       " 'SMI_4862': array([0, 1, 0, ..., 0, 0, 0]),\n",
       " 'SMI_11493': array([0, 0, 0, ..., 0, 0, 0]),\n",
       " 'SMI_23048': array([0, 1, 0, ..., 0, 0, 0]),\n",
       " 'SMI_51801': array([0, 0, 0, ..., 0, 0, 0]),\n",
       " 'SMI_3962': array([0, 0, 0, ..., 0, 0, 0]),\n",
       " 'SMI_44394': array([0, 1, 0, ..., 0, 0, 0]),\n",
       " 'SMI_5108': array([0, 0, 0, ..., 0, 0, 0]),\n",
       " 'SMI_46879': array([0, 0, 0, ..., 0, 0, 0]),\n",
       " 'SMI_19449': array([0, 1, 0, ..., 0, 0, 0]),\n",
       " 'SMI_14356': array([0, 0, 0, ..., 0, 0, 0]),\n",
       " 'SMI_7971': array([0, 0, 0, ..., 0, 0, 0]),\n",
       " 'SMI_8294': array([0, 0, 0, ..., 1, 0, 0]),\n",
       " 'SMI_5060': array([0, 1, 0, ..., 0, 0, 0]),\n",
       " 'SMI_31077': array([0, 1, 0, ..., 0, 0, 0]),\n",
       " 'SMI_53245': array([0, 0, 0, ..., 0, 0, 0]),\n",
       " 'SMI_25125': array([0, 0, 0, ..., 0, 0, 0]),\n",
       " 'SMI_3109': array([0, 0, 0, ..., 0, 0, 0]),\n",
       " 'SMI_11502': array([0, 0, 0, ..., 0, 0, 0]),\n",
       " 'SMI_18541': array([0, 0, 0, ..., 0, 0, 0]),\n",
       " 'SMI_20505': array([0, 0, 0, ..., 0, 0, 0]),\n",
       " 'SMI_41466': array([0, 0, 0, ..., 0, 0, 0]),\n",
       " 'SMI_39432': array([0, 0, 0, ..., 0, 0, 0]),\n",
       " 'SMI_24635': array([0, 0, 0, ..., 0, 0, 0]),\n",
       " 'SMI_41952': array([0, 0, 0, ..., 0, 0, 0]),\n",
       " 'SMI_6419': array([0, 0, 0, ..., 0, 0, 0]),\n",
       " 'SMI_11509': array([0, 1, 0, ..., 0, 0, 0]),\n",
       " 'SMI_53126': array([0, 0, 0, ..., 0, 0, 0]),\n",
       " 'SMI_28228': array([0, 0, 0, ..., 0, 0, 0]),\n",
       " 'SMI_54944': array([0, 0, 0, ..., 0, 0, 0]),\n",
       " 'SMI_18303': array([0, 0, 0, ..., 0, 0, 0]),\n",
       " 'SMI_55592': array([0, 0, 0, ..., 0, 0, 0]),\n",
       " 'SMI_55588': array([0, 0, 0, ..., 0, 0, 0]),\n",
       " 'SMI_55461': array([0, 0, 0, ..., 0, 0, 0]),\n",
       " 'SMI_55606': array([0, 0, 0, ..., 0, 0, 0]),\n",
       " 'SMI_55656': array([0, 1, 0, ..., 0, 0, 0]),\n",
       " 'SMI_55628': array([0, 0, 0, ..., 0, 0, 0]),\n",
       " 'SMI_56397': array([0, 1, 0, ..., 0, 0, 0]),\n",
       " 'SMI_55905': array([0, 0, 1, ..., 0, 0, 0]),\n",
       " 'SMI_56545': array([0, 0, 0, ..., 0, 0, 0]),\n",
       " 'SMI_56575': array([0, 0, 0, ..., 0, 0, 0]),\n",
       " 'SMI_56584': array([0, 0, 0, ..., 0, 0, 0]),\n",
       " 'SMI_56595': array([0, 0, 0, ..., 0, 0, 0]),\n",
       " 'SMI_56574': array([0, 1, 0, ..., 0, 0, 0]),\n",
       " 'SMI_56579': array([0, 0, 0, ..., 0, 0, 0]),\n",
       " 'SMI_56577': array([0, 0, 1, ..., 0, 0, 0]),\n",
       " 'SMI_56592': array([0, 0, 0, ..., 0, 0, 0]),\n",
       " 'SMI_56581': array([0, 0, 0, ..., 0, 0, 0]),\n",
       " 'SMI_56597': array([0, 0, 1, ..., 0, 0, 0]),\n",
       " 'SMI_56587': array([0, 0, 0, ..., 1, 0, 0]),\n",
       " 'SMI_56583': array([0, 0, 0, ..., 0, 0, 0]),\n",
       " 'SMI_56594': array([0, 0, 0, ..., 0, 0, 0]),\n",
       " 'SMI_44535': array([0, 0, 0, ..., 0, 0, 0]),\n",
       " 'SMI_34232': array([0, 1, 0, ..., 0, 0, 0]),\n",
       " 'SMI_13100': array([0, 0, 0, ..., 0, 0, 0]),\n",
       " 'SMI_16810': array([0, 0, 0, ..., 0, 0, 0]),\n",
       " 'SMI_35323': array([0, 0, 0, ..., 0, 0, 0]),\n",
       " 'SMI_51900': array([0, 1, 0, ..., 0, 0, 0]),\n",
       " 'SMI_12992': array([0, 0, 0, ..., 0, 0, 0]),\n",
       " 'SMI_10376': array([0, 0, 0, ..., 0, 0, 0]),\n",
       " 'SMI_14902': array([1, 0, 0, ..., 0, 0, 0]),\n",
       " 'SMI_52919': array([0, 0, 0, ..., 0, 0, 0]),\n",
       " 'SMI_5476': array([0, 0, 0, ..., 0, 0, 0]),\n",
       " 'SMI_32681': array([0, 0, 0, ..., 0, 0, 0]),\n",
       " 'SMI_46123': array([0, 0, 0, ..., 0, 0, 0]),\n",
       " 'SMI_20869': array([0, 0, 0, ..., 0, 0, 0]),\n",
       " 'SMI_41335': array([0, 0, 0, ..., 0, 0, 0]),\n",
       " 'SMI_56138': array([0, 0, 0, ..., 0, 0, 0]),\n",
       " 'SMI_56270': array([0, 0, 0, ..., 0, 0, 0]),\n",
       " 'SMI_56093': array([0, 0, 0, ..., 0, 0, 0]),\n",
       " 'SMI_56586': array([0, 0, 0, ..., 0, 0, 0]),\n",
       " 'SMI_56576': array([0, 1, 0, ..., 0, 0, 0]),\n",
       " 'SMI_56596': array([0, 0, 0, ..., 0, 0, 0]),\n",
       " 'SMI_35928': array([0, 1, 0, ..., 0, 0, 0]),\n",
       " 'SMI_18301': array([0, 0, 0, ..., 0, 0, 0]),\n",
       " 'SMI_52219': array([0, 0, 0, ..., 0, 0, 0]),\n",
       " 'SMI_10197': array([0, 0, 0, ..., 0, 0, 0]),\n",
       " 'SMI_43282': array([0, 0, 0, ..., 0, 0, 0]),\n",
       " 'SMI_7473': array([0, 0, 0, ..., 0, 0, 0]),\n",
       " 'SMI_40111': array([0, 0, 0, ..., 0, 0, 0]),\n",
       " 'SMI_33555': array([0, 0, 0, ..., 0, 0, 0]),\n",
       " 'SMI_10282': array([0, 1, 0, ..., 0, 0, 0]),\n",
       " 'SMI_19534': array([0, 0, 1, ..., 0, 0, 0]),\n",
       " 'SMI_13815': array([0, 0, 0, ..., 0, 0, 0]),\n",
       " 'SMI_659': array([0, 0, 0, ..., 0, 1, 0]),\n",
       " 'SMI_55630': array([0, 0, 0, ..., 0, 0, 0]),\n",
       " 'SMI_56560': array([0, 1, 0, ..., 0, 0, 0]),\n",
       " 'SMI_55995': array([0, 0, 0, ..., 0, 0, 0]),\n",
       " 'SMI_56590': array([0, 0, 0, ..., 0, 0, 0]),\n",
       " 'SMI_40153': array([0, 0, 0, ..., 0, 0, 0]),\n",
       " 'SMI_53250': array([0, 0, 0, ..., 0, 0, 0]),\n",
       " 'SMI_40233': array([0, 0, 0, ..., 0, 0, 0]),\n",
       " 'SMI_32922': array([0, 1, 1, ..., 0, 0, 0]),\n",
       " 'SMI_39390': array([1, 0, 0, ..., 0, 0, 0]),\n",
       " 'SMI_20022': array([0, 0, 1, ..., 0, 0, 0]),\n",
       " 'SMI_39631': array([0, 0, 0, ..., 0, 0, 0]),\n",
       " 'SMI_8098': array([0, 0, 0, ..., 0, 0, 0]),\n",
       " 'SMI_56593': array([0, 0, 0, ..., 0, 0, 0]),\n",
       " 'SMI_23119': array([1, 1, 0, ..., 0, 0, 0]),\n",
       " 'SMI_56573': array([0, 0, 0, ..., 0, 0, 0]),\n",
       " 'SMI_50850': array([0, 0, 0, ..., 0, 0, 0]),\n",
       " 'SMI_5287': array([0, 1, 0, ..., 0, 0, 0]),\n",
       " 'SMI_46990': array([0, 0, 0, ..., 0, 0, 0]),\n",
       " 'SMI_5537': array([0, 0, 0, ..., 0, 0, 0]),\n",
       " 'SMI_39543': array([0, 0, 0, ..., 0, 0, 0]),\n",
       " 'SMI_56589': array([0, 1, 0, ..., 0, 0, 0]),\n",
       " 'SMI_55577': array([0, 0, 0, ..., 0, 0, 0]),\n",
       " 'SMI_56580': array([0, 0, 0, ..., 0, 0, 0])}"
      ]
     },
     "execution_count": 22,
     "metadata": {},
     "output_type": "execute_result"
    }
   ],
   "source": [
    "fingerprint_dict=fingerprint_map.set_index('improve_drug_id')['fingerprint'].to_dict()\n",
    "fingerprint_dict"
   ]
  },
  {
   "cell_type": "markdown",
   "id": "5de7b50b",
   "metadata": {},
   "source": [
    "### Merge Proteomics and Transcriptomics Data\n",
    "View the beataml proteomics and transcriptomics dataframes."
   ]
  },
  {
   "cell_type": "code",
   "execution_count": 23,
   "id": "a485e70f",
   "metadata": {},
   "outputs": [
    {
     "data": {
      "application/vnd.microsoft.datawrangler.viewer.v0+json": {
       "columns": [
        {
         "name": "index",
         "rawType": "int64",
         "type": "integer"
        },
        {
         "name": "improve_sample_id",
         "rawType": "int64",
         "type": "integer"
        },
        {
         "name": "transcriptomics",
         "rawType": "float64",
         "type": "float"
        },
        {
         "name": "entrez_id",
         "rawType": "int64",
         "type": "integer"
        },
        {
         "name": "source",
         "rawType": "object",
         "type": "string"
        },
        {
         "name": "study",
         "rawType": "object",
         "type": "string"
        }
       ],
       "ref": "0411e108-18cb-4071-90f9-3ffb2259a765",
       "rows": [
        [
         "0",
         "3832",
         "0.0",
         "7105",
         "synapse",
         "BeatAML"
        ],
        [
         "1",
         "3832",
         "0.0",
         "64102",
         "synapse",
         "BeatAML"
        ],
        [
         "2",
         "3832",
         "17.12585219535488",
         "8813",
         "synapse",
         "BeatAML"
        ],
        [
         "3",
         "3832",
         "4.890274934633382",
         "57147",
         "synapse",
         "BeatAML"
        ],
        [
         "4",
         "3832",
         "1.1747637462528355",
         "55732",
         "synapse",
         "BeatAML"
        ],
        [
         "5",
         "3832",
         "449.4227335963414",
         "2268",
         "synapse",
         "BeatAML"
        ],
        [
         "6",
         "3832",
         "0.2642648422985589",
         "3075",
         "synapse",
         "BeatAML"
        ],
        [
         "7",
         "3832",
         "80.80307235798848",
         "2519",
         "synapse",
         "BeatAML"
        ],
        [
         "8",
         "3832",
         "10.17407628934743",
         "2729",
         "synapse",
         "BeatAML"
        ],
        [
         "9",
         "3832",
         "31.5822477124723",
         "4800",
         "synapse",
         "BeatAML"
        ],
        [
         "10",
         "3832",
         "0.9278004498602108",
         "90529",
         "synapse",
         "BeatAML"
        ],
        [
         "11",
         "3832",
         "7.238468566464047",
         "57185",
         "synapse",
         "BeatAML"
        ],
        [
         "12",
         "3832",
         "10.853167537111243",
         "81887",
         "synapse",
         "BeatAML"
        ],
        [
         "13",
         "3832",
         "4.8117112974972045",
         "22875",
         "synapse",
         "BeatAML"
        ],
        [
         "14",
         "3832",
         "0.0648123569016836",
         "6405",
         "synapse",
         "BeatAML"
        ],
        [
         "15",
         "3832",
         "0.0",
         "1080",
         "synapse",
         "BeatAML"
        ],
        [
         "16",
         "3832",
         "20.534815712662148",
         "54467",
         "synapse",
         "BeatAML"
        ],
        [
         "17",
         "3832",
         "1.2206872233734822",
         "1595",
         "synapse",
         "BeatAML"
        ],
        [
         "18",
         "3832",
         "3.1453399799274244",
         "889",
         "synapse",
         "BeatAML"
        ],
        [
         "19",
         "3832",
         "1.9283649738173927",
         "5893",
         "synapse",
         "BeatAML"
        ],
        [
         "20",
         "3832",
         "0.0",
         "0",
         "synapse",
         "BeatAML"
        ],
        [
         "21",
         "3832",
         "13.871298873300104",
         "572",
         "synapse",
         "BeatAML"
        ],
        [
         "22",
         "3832",
         "27.28991272784525",
         "51056",
         "synapse",
         "BeatAML"
        ],
        [
         "23",
         "3832",
         "111.5020201599539",
         "4267",
         "synapse",
         "BeatAML"
        ],
        [
         "24",
         "3832",
         "0.1264274521414872",
         "9957",
         "synapse",
         "BeatAML"
        ],
        [
         "25",
         "3832",
         "7.65927237065451",
         "26",
         "synapse",
         "BeatAML"
        ],
        [
         "26",
         "3832",
         "0.1955878116329394",
         "51384",
         "synapse",
         "BeatAML"
        ],
        [
         "27",
         "3832",
         "0.0",
         "23072",
         "synapse",
         "BeatAML"
        ],
        [
         "28",
         "3832",
         "8.006384967245625",
         "8379",
         "synapse",
         "BeatAML"
        ],
        [
         "29",
         "3832",
         "153.22375373149248",
         "3927",
         "synapse",
         "BeatAML"
        ],
        [
         "30",
         "3832",
         "13.026842730655051",
         "29916",
         "synapse",
         "BeatAML"
        ],
        [
         "31",
         "3832",
         "54.23790116633732",
         "55365",
         "synapse",
         "BeatAML"
        ],
        [
         "32",
         "3832",
         "82.85040146790209",
         "4074",
         "synapse",
         "BeatAML"
        ],
        [
         "33",
         "3832",
         "0.0242500467967623",
         "90293",
         "synapse",
         "BeatAML"
        ],
        [
         "34",
         "3832",
         "0.0",
         "56603",
         "synapse",
         "BeatAML"
        ],
        [
         "35",
         "3832",
         "0.9021543766000496",
         "3382",
         "synapse",
         "BeatAML"
        ],
        [
         "36",
         "3832",
         "0.3978226950764956",
         "79007",
         "synapse",
         "BeatAML"
        ],
        [
         "37",
         "3832",
         "2.8610691841451854",
         "57679",
         "synapse",
         "BeatAML"
        ],
        [
         "38",
         "3832",
         "7.962339978946945",
         "843",
         "synapse",
         "BeatAML"
        ],
        [
         "39",
         "3832",
         "41.53827444063782",
         "8837",
         "synapse",
         "BeatAML"
        ],
        [
         "40",
         "3832",
         "0.0676786665461914",
         "7035",
         "synapse",
         "BeatAML"
        ],
        [
         "41",
         "3832",
         "3.8293200717866553",
         "55471",
         "synapse",
         "BeatAML"
        ],
        [
         "42",
         "3832",
         "16.992641837563777",
         "10181",
         "synapse",
         "BeatAML"
        ],
        [
         "43",
         "3832",
         "0.0",
         "9108",
         "synapse",
         "BeatAML"
        ],
        [
         "44",
         "3832",
         "0.0",
         "6542",
         "synapse",
         "BeatAML"
        ],
        [
         "45",
         "3832",
         "98.01759223642506",
         "381",
         "synapse",
         "BeatAML"
        ],
        [
         "46",
         "3832",
         "3.1976194451978466",
         "23098",
         "synapse",
         "BeatAML"
        ],
        [
         "47",
         "3832",
         "61.3414901979514",
         "26073",
         "synapse",
         "BeatAML"
        ],
        [
         "48",
         "3832",
         "5.90709753722673",
         "23129",
         "synapse",
         "BeatAML"
        ],
        [
         "49",
         "3832",
         "84.55696374041919",
         "204",
         "synapse",
         "BeatAML"
        ]
       ],
       "shape": {
        "columns": 5,
        "rows": 20043871
       }
      },
      "text/html": [
       "<div>\n",
       "<style scoped>\n",
       "    .dataframe tbody tr th:only-of-type {\n",
       "        vertical-align: middle;\n",
       "    }\n",
       "\n",
       "    .dataframe tbody tr th {\n",
       "        vertical-align: top;\n",
       "    }\n",
       "\n",
       "    .dataframe thead th {\n",
       "        text-align: right;\n",
       "    }\n",
       "</style>\n",
       "<table border=\"1\" class=\"dataframe\">\n",
       "  <thead>\n",
       "    <tr style=\"text-align: right;\">\n",
       "      <th></th>\n",
       "      <th>improve_sample_id</th>\n",
       "      <th>transcriptomics</th>\n",
       "      <th>entrez_id</th>\n",
       "      <th>source</th>\n",
       "      <th>study</th>\n",
       "    </tr>\n",
       "  </thead>\n",
       "  <tbody>\n",
       "    <tr>\n",
       "      <th>0</th>\n",
       "      <td>3832</td>\n",
       "      <td>0.000000</td>\n",
       "      <td>7105</td>\n",
       "      <td>synapse</td>\n",
       "      <td>BeatAML</td>\n",
       "    </tr>\n",
       "    <tr>\n",
       "      <th>1</th>\n",
       "      <td>3832</td>\n",
       "      <td>0.000000</td>\n",
       "      <td>64102</td>\n",
       "      <td>synapse</td>\n",
       "      <td>BeatAML</td>\n",
       "    </tr>\n",
       "    <tr>\n",
       "      <th>2</th>\n",
       "      <td>3832</td>\n",
       "      <td>17.125852</td>\n",
       "      <td>8813</td>\n",
       "      <td>synapse</td>\n",
       "      <td>BeatAML</td>\n",
       "    </tr>\n",
       "    <tr>\n",
       "      <th>3</th>\n",
       "      <td>3832</td>\n",
       "      <td>4.890275</td>\n",
       "      <td>57147</td>\n",
       "      <td>synapse</td>\n",
       "      <td>BeatAML</td>\n",
       "    </tr>\n",
       "    <tr>\n",
       "      <th>4</th>\n",
       "      <td>3832</td>\n",
       "      <td>1.174764</td>\n",
       "      <td>55732</td>\n",
       "      <td>synapse</td>\n",
       "      <td>BeatAML</td>\n",
       "    </tr>\n",
       "    <tr>\n",
       "      <th>...</th>\n",
       "      <td>...</td>\n",
       "      <td>...</td>\n",
       "      <td>...</td>\n",
       "      <td>...</td>\n",
       "      <td>...</td>\n",
       "    </tr>\n",
       "    <tr>\n",
       "      <th>20043866</th>\n",
       "      <td>4109</td>\n",
       "      <td>3.966634</td>\n",
       "      <td>0</td>\n",
       "      <td>synapse</td>\n",
       "      <td>BeatAML</td>\n",
       "    </tr>\n",
       "    <tr>\n",
       "      <th>20043867</th>\n",
       "      <td>4109</td>\n",
       "      <td>16.827714</td>\n",
       "      <td>0</td>\n",
       "      <td>synapse</td>\n",
       "      <td>BeatAML</td>\n",
       "    </tr>\n",
       "    <tr>\n",
       "      <th>20043868</th>\n",
       "      <td>4109</td>\n",
       "      <td>1.673690</td>\n",
       "      <td>0</td>\n",
       "      <td>synapse</td>\n",
       "      <td>BeatAML</td>\n",
       "    </tr>\n",
       "    <tr>\n",
       "      <th>20043869</th>\n",
       "      <td>4109</td>\n",
       "      <td>11.832588</td>\n",
       "      <td>0</td>\n",
       "      <td>synapse</td>\n",
       "      <td>BeatAML</td>\n",
       "    </tr>\n",
       "    <tr>\n",
       "      <th>20043870</th>\n",
       "      <td>4109</td>\n",
       "      <td>0.020689</td>\n",
       "      <td>0</td>\n",
       "      <td>synapse</td>\n",
       "      <td>BeatAML</td>\n",
       "    </tr>\n",
       "  </tbody>\n",
       "</table>\n",
       "<p>20043871 rows × 5 columns</p>\n",
       "</div>"
      ],
      "text/plain": [
       "          improve_sample_id  transcriptomics  entrez_id   source    study\n",
       "0                      3832         0.000000       7105  synapse  BeatAML\n",
       "1                      3832         0.000000      64102  synapse  BeatAML\n",
       "2                      3832        17.125852       8813  synapse  BeatAML\n",
       "3                      3832         4.890275      57147  synapse  BeatAML\n",
       "4                      3832         1.174764      55732  synapse  BeatAML\n",
       "...                     ...              ...        ...      ...      ...\n",
       "20043866               4109         3.966634          0  synapse  BeatAML\n",
       "20043867               4109        16.827714          0  synapse  BeatAML\n",
       "20043868               4109         1.673690          0  synapse  BeatAML\n",
       "20043869               4109        11.832588          0  synapse  BeatAML\n",
       "20043870               4109         0.020689          0  synapse  BeatAML\n",
       "\n",
       "[20043871 rows x 5 columns]"
      ]
     },
     "execution_count": 23,
     "metadata": {},
     "output_type": "execute_result"
    }
   ],
   "source": [
    "beataml.transcriptomics"
   ]
  },
  {
   "cell_type": "code",
   "execution_count": 24,
   "id": "473c061c",
   "metadata": {},
   "outputs": [
    {
     "data": {
      "application/vnd.microsoft.datawrangler.viewer.v0+json": {
       "columns": [
        {
         "name": "index",
         "rawType": "int64",
         "type": "integer"
        },
        {
         "name": "improve_sample_id",
         "rawType": "int64",
         "type": "integer"
        },
        {
         "name": "proteomics",
         "rawType": "float64",
         "type": "float"
        },
        {
         "name": "entrez_id",
         "rawType": "int64",
         "type": "integer"
        },
        {
         "name": "source",
         "rawType": "object",
         "type": "string"
        },
        {
         "name": "study",
         "rawType": "object",
         "type": "string"
        }
       ],
       "ref": "ef6a7b47-1491-40af-ac9e-0b7179ab2fe2",
       "rows": [
        [
         "0",
         "3196",
         "-0.162",
         "2",
         "synapse",
         "BeatAML"
        ],
        [
         "1",
         "3196",
         "0.421",
         "8086",
         "synapse",
         "BeatAML"
        ],
        [
         "2",
         "3196",
         "0.224",
         "65985",
         "synapse",
         "BeatAML"
        ],
        [
         "3",
         "3196",
         "0.447",
         "79719",
         "synapse",
         "BeatAML"
        ],
        [
         "4",
         "3196",
         "0.529",
         "22848",
         "synapse",
         "BeatAML"
        ],
        [
         "5",
         "3196",
         "-0.562",
         "28971",
         "synapse",
         "BeatAML"
        ],
        [
         "6",
         "3196",
         "-0.0681",
         "14",
         "synapse",
         "BeatAML"
        ],
        [
         "7",
         "3196",
         "-0.086",
         "25980",
         "synapse",
         "BeatAML"
        ],
        [
         "8",
         "3196",
         "-0.01",
         "0",
         "synapse",
         "BeatAML"
        ],
        [
         "9",
         "3196",
         "-0.208",
         "57505",
         "synapse",
         "BeatAML"
        ],
        [
         "10",
         "3196",
         "0.081",
         "80755",
         "synapse",
         "BeatAML"
        ],
        [
         "11",
         "3196",
         "-0.582",
         "60496",
         "synapse",
         "BeatAML"
        ],
        [
         "12",
         "3196",
         "-0.526",
         "26574",
         "synapse",
         "BeatAML"
        ],
        [
         "13",
         "3196",
         "0.721",
         "23456",
         "synapse",
         "BeatAML"
        ],
        [
         "14",
         "3196",
         "0.0971",
         "10058",
         "synapse",
         "BeatAML"
        ],
        [
         "15",
         "3196",
         "0.0935",
         "22",
         "synapse",
         "BeatAML"
        ],
        [
         "16",
         "3196",
         "0.0501",
         "11194",
         "synapse",
         "BeatAML"
        ],
        [
         "17",
         "3196",
         "0.218",
         "4363",
         "synapse",
         "BeatAML"
        ],
        [
         "18",
         "3196",
         "0.133",
         "10257",
         "synapse",
         "BeatAML"
        ],
        [
         "19",
         "3196",
         "-0.141",
         "215",
         "synapse",
         "BeatAML"
        ],
        [
         "20",
         "3196",
         "0.569",
         "5825",
         "synapse",
         "BeatAML"
        ],
        [
         "21",
         "3196",
         "-0.574",
         "6059",
         "synapse",
         "BeatAML"
        ],
        [
         "22",
         "3196",
         "0.0942",
         "23",
         "synapse",
         "BeatAML"
        ],
        [
         "23",
         "3196",
         "-0.107",
         "10061",
         "synapse",
         "BeatAML"
        ],
        [
         "24",
         "3196",
         "-0.115",
         "55324",
         "synapse",
         "BeatAML"
        ],
        [
         "25",
         "3196",
         "-0.258",
         "55347",
         "synapse",
         "BeatAML"
        ],
        [
         "26",
         "3196",
         "-0.537",
         "83451",
         "synapse",
         "BeatAML"
        ],
        [
         "27",
         "3196",
         "0.214",
         "26090",
         "synapse",
         "BeatAML"
        ],
        [
         "28",
         "3196",
         "-0.503",
         "100526760",
         "synapse",
         "BeatAML"
        ],
        [
         "29",
         "3196",
         "0.178",
         "84836",
         "synapse",
         "BeatAML"
        ],
        [
         "30",
         "3196",
         "0.13",
         "7920",
         "synapse",
         "BeatAML"
        ],
        [
         "31",
         "3196",
         "0.404",
         "81926",
         "synapse",
         "BeatAML"
        ],
        [
         "32",
         "3196",
         "-0.152",
         "51104",
         "synapse",
         "BeatAML"
        ],
        [
         "33",
         "3196",
         "0.0695",
         "10006",
         "synapse",
         "BeatAML"
        ],
        [
         "34",
         "3196",
         "-0.0336",
         "10152",
         "synapse",
         "BeatAML"
        ],
        [
         "35",
         "3196",
         "0.62",
         "51225",
         "synapse",
         "BeatAML"
        ],
        [
         "36",
         "3196",
         "0.232",
         "25",
         "synapse",
         "BeatAML"
        ],
        [
         "37",
         "3196",
         "0.393",
         "27",
         "synapse",
         "BeatAML"
        ],
        [
         "38",
         "3196",
         "-0.0293",
         "29",
         "synapse",
         "BeatAML"
        ],
        [
         "39",
         "3196",
         "1.08",
         "58527",
         "synapse",
         "BeatAML"
        ],
        [
         "40",
         "3196",
         "-0.032",
         "84142",
         "synapse",
         "BeatAML"
        ],
        [
         "41",
         "3196",
         "0.241",
         "23172",
         "synapse",
         "BeatAML"
        ],
        [
         "42",
         "3196",
         "0.0843",
         "29777",
         "synapse",
         "BeatAML"
        ],
        [
         "43",
         "3196",
         "-0.182",
         "30",
         "synapse",
         "BeatAML"
        ],
        [
         "44",
         "3196",
         "-0.139",
         "10449",
         "synapse",
         "BeatAML"
        ],
        [
         "45",
         "3196",
         "-0.239",
         "31",
         "synapse",
         "BeatAML"
        ],
        [
         "46",
         "3196",
         "0.136",
         "80724",
         "synapse",
         "BeatAML"
        ],
        [
         "47",
         "3196",
         "-0.665",
         "27034",
         "synapse",
         "BeatAML"
        ],
        [
         "48",
         "3196",
         "0.0558",
         "28976",
         "synapse",
         "BeatAML"
        ],
        [
         "49",
         "3196",
         "0.119",
         "34",
         "synapse",
         "BeatAML"
        ]
       ],
       "shape": {
        "columns": 5,
        "rows": 1484445
       }
      },
      "text/html": [
       "<div>\n",
       "<style scoped>\n",
       "    .dataframe tbody tr th:only-of-type {\n",
       "        vertical-align: middle;\n",
       "    }\n",
       "\n",
       "    .dataframe tbody tr th {\n",
       "        vertical-align: top;\n",
       "    }\n",
       "\n",
       "    .dataframe thead th {\n",
       "        text-align: right;\n",
       "    }\n",
       "</style>\n",
       "<table border=\"1\" class=\"dataframe\">\n",
       "  <thead>\n",
       "    <tr style=\"text-align: right;\">\n",
       "      <th></th>\n",
       "      <th>improve_sample_id</th>\n",
       "      <th>proteomics</th>\n",
       "      <th>entrez_id</th>\n",
       "      <th>source</th>\n",
       "      <th>study</th>\n",
       "    </tr>\n",
       "  </thead>\n",
       "  <tbody>\n",
       "    <tr>\n",
       "      <th>0</th>\n",
       "      <td>3196</td>\n",
       "      <td>-0.1620</td>\n",
       "      <td>2</td>\n",
       "      <td>synapse</td>\n",
       "      <td>BeatAML</td>\n",
       "    </tr>\n",
       "    <tr>\n",
       "      <th>1</th>\n",
       "      <td>3196</td>\n",
       "      <td>0.4210</td>\n",
       "      <td>8086</td>\n",
       "      <td>synapse</td>\n",
       "      <td>BeatAML</td>\n",
       "    </tr>\n",
       "    <tr>\n",
       "      <th>2</th>\n",
       "      <td>3196</td>\n",
       "      <td>0.2240</td>\n",
       "      <td>65985</td>\n",
       "      <td>synapse</td>\n",
       "      <td>BeatAML</td>\n",
       "    </tr>\n",
       "    <tr>\n",
       "      <th>3</th>\n",
       "      <td>3196</td>\n",
       "      <td>0.4470</td>\n",
       "      <td>79719</td>\n",
       "      <td>synapse</td>\n",
       "      <td>BeatAML</td>\n",
       "    </tr>\n",
       "    <tr>\n",
       "      <th>4</th>\n",
       "      <td>3196</td>\n",
       "      <td>0.5290</td>\n",
       "      <td>22848</td>\n",
       "      <td>synapse</td>\n",
       "      <td>BeatAML</td>\n",
       "    </tr>\n",
       "    <tr>\n",
       "      <th>...</th>\n",
       "      <td>...</td>\n",
       "      <td>...</td>\n",
       "      <td>...</td>\n",
       "      <td>...</td>\n",
       "      <td>...</td>\n",
       "    </tr>\n",
       "    <tr>\n",
       "      <th>1484440</th>\n",
       "      <td>3292</td>\n",
       "      <td>-0.2770</td>\n",
       "      <td>79364</td>\n",
       "      <td>synapse</td>\n",
       "      <td>BeatAML</td>\n",
       "    </tr>\n",
       "    <tr>\n",
       "      <th>1484441</th>\n",
       "      <td>3292</td>\n",
       "      <td>-0.1120</td>\n",
       "      <td>79699</td>\n",
       "      <td>synapse</td>\n",
       "      <td>BeatAML</td>\n",
       "    </tr>\n",
       "    <tr>\n",
       "      <th>1484442</th>\n",
       "      <td>3292</td>\n",
       "      <td>0.0612</td>\n",
       "      <td>7791</td>\n",
       "      <td>synapse</td>\n",
       "      <td>BeatAML</td>\n",
       "    </tr>\n",
       "    <tr>\n",
       "      <th>1484443</th>\n",
       "      <td>3292</td>\n",
       "      <td>-0.0114</td>\n",
       "      <td>23140</td>\n",
       "      <td>synapse</td>\n",
       "      <td>BeatAML</td>\n",
       "    </tr>\n",
       "    <tr>\n",
       "      <th>1484444</th>\n",
       "      <td>3292</td>\n",
       "      <td>0.0180</td>\n",
       "      <td>26009</td>\n",
       "      <td>synapse</td>\n",
       "      <td>BeatAML</td>\n",
       "    </tr>\n",
       "  </tbody>\n",
       "</table>\n",
       "<p>1484445 rows × 5 columns</p>\n",
       "</div>"
      ],
      "text/plain": [
       "         improve_sample_id  proteomics  entrez_id   source    study\n",
       "0                     3196     -0.1620          2  synapse  BeatAML\n",
       "1                     3196      0.4210       8086  synapse  BeatAML\n",
       "2                     3196      0.2240      65985  synapse  BeatAML\n",
       "3                     3196      0.4470      79719  synapse  BeatAML\n",
       "4                     3196      0.5290      22848  synapse  BeatAML\n",
       "...                    ...         ...        ...      ...      ...\n",
       "1484440               3292     -0.2770      79364  synapse  BeatAML\n",
       "1484441               3292     -0.1120      79699  synapse  BeatAML\n",
       "1484442               3292      0.0612       7791  synapse  BeatAML\n",
       "1484443               3292     -0.0114      23140  synapse  BeatAML\n",
       "1484444               3292      0.0180      26009  synapse  BeatAML\n",
       "\n",
       "[1484445 rows x 5 columns]"
      ]
     },
     "execution_count": 24,
     "metadata": {},
     "output_type": "execute_result"
    }
   ],
   "source": [
    "beataml.proteomics"
   ]
  },
  {
   "cell_type": "markdown",
   "id": "e38bf8c6",
   "metadata": {},
   "source": [
    "This method of merging drops all samples that do not have both transcriptomics and proteomics data and filters through to find matching entrez_ids between the dataframes.\n",
    "This reduces our sample size to 14 and allows the tutorial to run much faster on low powered machines."
   ]
  },
  {
   "cell_type": "markdown",
   "id": "fc328792",
   "metadata": {},
   "source": [
    "Identify the entrez_ids that both the transcriptomics and proteomics share that are not equal to zero. Here we are narrowing down the number of entrez_ids for compilation time and memory space."
   ]
  },
  {
   "cell_type": "code",
   "execution_count": 26,
   "id": "af880096",
   "metadata": {},
   "outputs": [],
   "source": [
    "# Step 1: Find matching entrez_id values between the two datasets (remove zeros)\n",
    "matching_ids = set(beataml.transcriptomics['entrez_id']).intersection(set(beataml.proteomics['entrez_id']))\n",
    "matching_ids = {id for id in matching_ids if id != 0}  # Drop any IDs that are zero"
   ]
  },
  {
   "cell_type": "markdown",
   "id": "b6c75900",
   "metadata": {},
   "source": [
    "Create filtered proteomics and transcriptomics dataframes with corresponding entrez_ids to merge."
   ]
  },
  {
   "cell_type": "code",
   "execution_count": 27,
   "id": "0850e7a3",
   "metadata": {},
   "outputs": [],
   "source": [
    "transcriptomics_filtered = beataml.transcriptomics[beataml.transcriptomics['entrez_id'].isin(matching_ids)]\n",
    "proteomics_filtered = beataml.proteomics[beataml.proteomics['entrez_id'].isin(matching_ids)]"
   ]
  },
  {
   "cell_type": "markdown",
   "id": "f11684ff",
   "metadata": {},
   "source": [
    "Take a smaller sample of the filtered data frames to reduce the memory needed to merge the newly merged dataframe tp with the merged_df curated previously."
   ]
  },
  {
   "cell_type": "code",
   "execution_count": 28,
   "id": "d62e30c1",
   "metadata": {},
   "outputs": [],
   "source": [
    "sampled_transcriptomics = transcriptomics_filtered.sample(frac=0.1, random_state=42)\n",
    "sampled_proteomics = proteomics_filtered.sample(frac=0.1, random_state=42)"
   ]
  },
  {
   "cell_type": "code",
   "execution_count": null,
   "id": "b78c9a04",
   "metadata": {},
   "outputs": [],
   "source": [
    "# merge transcriptomics and filtered proteomics\n",
    "tp = pd.merge(\n",
    "    sampled_transcriptomics,\n",
    "    sampled_proteomics[['improve_sample_id', 'proteomics', 'entrez_id']],\n",
    "    on=['improve_sample_id', 'entrez_id'],\n",
    "    how='inner'\n",
    ").drop_duplicates()\n",
    "\n",
    "# integrate with merged_df\n",
    "merged_df = pd.merge(\n",
    "    merged_df,\n",
    "    tp[['improve_sample_id', 'transcriptomics', 'proteomics', 'entrez_id']],\n",
    "    on='improve_sample_id',\n",
    "    how='inner'\n",
    ").drop_duplicates()"
   ]
  },
  {
   "cell_type": "code",
   "execution_count": null,
   "id": "9925daeb",
   "metadata": {},
   "outputs": [],
   "source": [
    "merged_df"
   ]
  },
  {
   "cell_type": "markdown",
   "id": "3369c131",
   "metadata": {},
   "source": [
    "### Impute Missing Values for Proteomics and Transcriptomics\n",
    "Here we recommend to modify the imputation method. Taking the global mean may not be appropriate for your data. This is just a simple method and reminder that this may need to be done."
   ]
  },
  {
   "cell_type": "code",
   "execution_count": 30,
   "id": "a3abf6c5",
   "metadata": {},
   "outputs": [],
   "source": [
    "#Impute missing proteomics (and transcriptomics if there are any) based on global mean. \n",
    "columns_to_fill = ['transcriptomics', 'proteomics']\n",
    "\n",
    "for i in columns_to_fill:\n",
    "    if i in merged_df.columns[merged_df.isnull().any(axis=0)]:\n",
    "        merged_df[i].fillna(merged_df[i].mean(), inplace=True)"
   ]
  },
  {
   "cell_type": "code",
   "execution_count": 31,
   "id": "ec8e70d8",
   "metadata": {},
   "outputs": [
    {
     "data": {
      "application/vnd.microsoft.datawrangler.viewer.v0+json": {
       "columns": [
        {
         "name": "index",
         "rawType": "int64",
         "type": "integer"
        },
        {
         "name": "improve_sample_id",
         "rawType": "int64",
         "type": "integer"
        },
        {
         "name": "improve_drug_id",
         "rawType": "object",
         "type": "string"
        },
        {
         "name": "dose_response_value",
         "rawType": "float64",
         "type": "float"
        },
        {
         "name": "transcriptomics",
         "rawType": "float64",
         "type": "float"
        },
        {
         "name": "proteomics",
         "rawType": "float64",
         "type": "float"
        },
        {
         "name": "entrez_id",
         "rawType": "int64",
         "type": "integer"
        }
       ],
       "ref": "9921e6ef-b9fd-4e00-8158-3b73a958389f",
       "rows": [
        [
         "0",
         "3247",
         "SMI_7473",
         "0.8691",
         "63.56484859943677",
         "-0.0473",
         "3732"
        ],
        [
         "1",
         "3247",
         "SMI_7473",
         "0.8691",
         "18.437390923431018",
         "0.171",
         "286257"
        ],
        [
         "2",
         "3247",
         "SMI_7473",
         "0.8691",
         "4.137233525661227",
         "0.109",
         "51530"
        ],
        [
         "3",
         "3247",
         "SMI_7473",
         "0.8691",
         "13.448959510861608",
         "-0.183",
         "51147"
        ],
        [
         "4",
         "3247",
         "SMI_7473",
         "0.8691",
         "57.40914496173944",
         "0.0436",
         "51602"
        ],
        [
         "5",
         "3247",
         "SMI_7473",
         "0.8691",
         "9.09309119160151",
         "0.085",
         "11001"
        ],
        [
         "6",
         "3247",
         "SMI_7473",
         "0.8691",
         "8.306839534433",
         "0.466",
         "643853"
        ],
        [
         "7",
         "3247",
         "SMI_7473",
         "0.8691",
         "6.271887974922146",
         "-0.00306",
         "57650"
        ],
        [
         "8",
         "3247",
         "SMI_7473",
         "0.8691",
         "182.7039035818616",
         "0.258",
         "6134"
        ],
        [
         "9",
         "3247",
         "SMI_7473",
         "0.8691",
         "27.65541452021612",
         "-0.202",
         "8924"
        ],
        [
         "10",
         "3247",
         "SMI_7473",
         "0.8691",
         "15.517939845852633",
         "-0.473",
         "6240"
        ],
        [
         "11",
         "3247",
         "SMI_7473",
         "0.8691",
         "33.638584981002644",
         "-0.0223",
         "5710"
        ],
        [
         "12",
         "3247",
         "SMI_7473",
         "0.8691",
         "8.448786639845643",
         "-0.159",
         "10206"
        ],
        [
         "13",
         "3247",
         "SMI_7473",
         "0.8691",
         "30.64037633929645",
         "0.381",
         "4712"
        ],
        [
         "14",
         "3247",
         "SMI_7473",
         "0.8691",
         "58.12490766407346",
         "0.0674",
         "947"
        ],
        [
         "15",
         "3247",
         "SMI_7473",
         "0.8691",
         "22.672799900269304",
         "-0.0993",
         "2997"
        ],
        [
         "16",
         "3247",
         "SMI_7473",
         "0.8691",
         "51.03557902247738",
         "-0.18",
         "11315"
        ],
        [
         "17",
         "3247",
         "SMI_7473",
         "0.8691",
         "51.193118157371686",
         "0.034",
         "6118"
        ],
        [
         "18",
         "3247",
         "SMI_7473",
         "0.8691",
         "849.0246024621188",
         "-0.035",
         "4170"
        ],
        [
         "19",
         "3247",
         "SMI_7473",
         "0.8691",
         "59.54429249699875",
         "0.0865",
         "55173"
        ],
        [
         "20",
         "3247",
         "SMI_7473",
         "0.8691",
         "101.22687712431406",
         "0.0401",
         "55207"
        ],
        [
         "21",
         "3247",
         "SMI_7473",
         "0.8691",
         "272.7440527545987",
         "0.121",
         "4691"
        ],
        [
         "22",
         "3247",
         "SMI_7473",
         "0.8691",
         "135.37034777478752",
         "-0.294",
         "391"
        ],
        [
         "23",
         "3247",
         "SMI_7473",
         "0.8691",
         "32.12616193428942",
         "-0.0883",
         "55813"
        ],
        [
         "24",
         "3247",
         "SMI_7473",
         "0.8691",
         "46.31086595057918",
         "-0.0347",
         "23186"
        ],
        [
         "25",
         "3247",
         "SMI_7473",
         "0.8691",
         "50.325102766974375",
         "-0.0996",
         "26127"
        ],
        [
         "26",
         "3247",
         "SMI_7473",
         "0.8691",
         "26.13987517211237",
         "0.144",
         "23633"
        ],
        [
         "27",
         "3247",
         "SMI_7473",
         "0.8691",
         "65.74387269711421",
         "0.213",
         "79724"
        ],
        [
         "28",
         "3247",
         "SMI_7473",
         "0.8691",
         "11.751719982100916",
         "-0.0315",
         "131544"
        ],
        [
         "29",
         "3247",
         "SMI_7473",
         "0.8691",
         "31.96190083533532",
         "0.0988",
         "51585"
        ],
        [
         "30",
         "3247",
         "SMI_7473",
         "0.8691",
         "3.654769091505787",
         "-0.301",
         "64785"
        ],
        [
         "31",
         "3247",
         "SMI_7473",
         "0.8691",
         "25.64224222884154",
         "-0.237",
         "11168"
        ],
        [
         "32",
         "3247",
         "SMI_7473",
         "0.8691",
         "458.842136828715",
         "-0.251",
         "6230"
        ],
        [
         "33",
         "3247",
         "SMI_7473",
         "0.8691",
         "319.23649648320287",
         "0.0164",
         "5479"
        ],
        [
         "34",
         "3247",
         "SMI_7473",
         "0.8691",
         "0.3960973397056076",
         "-0.527",
         "4008"
        ],
        [
         "35",
         "3247",
         "SMI_7473",
         "0.8691",
         "311.7132617028495",
         "-0.146",
         "6193"
        ],
        [
         "36",
         "3247",
         "SMI_7473",
         "0.8691",
         "23.38216318420079",
         "0.25",
         "79644"
        ],
        [
         "37",
         "3247",
         "SMI_7473",
         "0.8691",
         "46.63943782233728",
         "-0.294",
         "23478"
        ],
        [
         "38",
         "3247",
         "SMI_7473",
         "0.8691",
         "16.45899046404482",
         "0.205",
         "57701"
        ],
        [
         "39",
         "3247",
         "SMI_7473",
         "0.8691",
         "97.18219842519264",
         "0.654",
         "3385"
        ],
        [
         "40",
         "3247",
         "SMI_7473",
         "0.8691",
         "124.63138868677932",
         "-0.0511",
         "6404"
        ],
        [
         "41",
         "3247",
         "SMI_7473",
         "0.8691",
         "12.068383089794189",
         "0.116",
         "7403"
        ],
        [
         "42",
         "3247",
         "SMI_7473",
         "0.8691",
         "26.6746438213731",
         "-0.174",
         "221656"
        ],
        [
         "43",
         "3247",
         "SMI_7473",
         "0.8691",
         "17.425806448888977",
         "0.0952",
         "162427"
        ],
        [
         "44",
         "3247",
         "SMI_7473",
         "0.8691",
         "14.413499666371196",
         "-0.00183",
         "54617"
        ],
        [
         "45",
         "3247",
         "SMI_7473",
         "0.8691",
         "19.367489225707715",
         "-0.309",
         "246175"
        ],
        [
         "46",
         "3247",
         "SMI_7473",
         "0.8691",
         "11.319128337579048",
         "-0.0962",
         "23309"
        ],
        [
         "47",
         "3247",
         "SMI_7473",
         "0.8691",
         "20.58907924126203",
         "-0.24",
         "57473"
        ],
        [
         "48",
         "3247",
         "SMI_7473",
         "0.8691",
         "11.327855801461396",
         "-0.131",
         "9527"
        ],
        [
         "49",
         "3247",
         "SMI_7473",
         "0.8691",
         "58.76089866433503",
         "-0.0554",
         "55699"
        ]
       ],
       "shape": {
        "columns": 6,
        "rows": 46727
       }
      },
      "text/html": [
       "<div>\n",
       "<style scoped>\n",
       "    .dataframe tbody tr th:only-of-type {\n",
       "        vertical-align: middle;\n",
       "    }\n",
       "\n",
       "    .dataframe tbody tr th {\n",
       "        vertical-align: top;\n",
       "    }\n",
       "\n",
       "    .dataframe thead th {\n",
       "        text-align: right;\n",
       "    }\n",
       "</style>\n",
       "<table border=\"1\" class=\"dataframe\">\n",
       "  <thead>\n",
       "    <tr style=\"text-align: right;\">\n",
       "      <th></th>\n",
       "      <th>improve_sample_id</th>\n",
       "      <th>improve_drug_id</th>\n",
       "      <th>dose_response_value</th>\n",
       "      <th>transcriptomics</th>\n",
       "      <th>proteomics</th>\n",
       "      <th>entrez_id</th>\n",
       "    </tr>\n",
       "  </thead>\n",
       "  <tbody>\n",
       "    <tr>\n",
       "      <th>0</th>\n",
       "      <td>3247</td>\n",
       "      <td>SMI_7473</td>\n",
       "      <td>0.8691</td>\n",
       "      <td>63.564849</td>\n",
       "      <td>-0.0473</td>\n",
       "      <td>3732</td>\n",
       "    </tr>\n",
       "    <tr>\n",
       "      <th>1</th>\n",
       "      <td>3247</td>\n",
       "      <td>SMI_7473</td>\n",
       "      <td>0.8691</td>\n",
       "      <td>18.437391</td>\n",
       "      <td>0.1710</td>\n",
       "      <td>286257</td>\n",
       "    </tr>\n",
       "    <tr>\n",
       "      <th>2</th>\n",
       "      <td>3247</td>\n",
       "      <td>SMI_7473</td>\n",
       "      <td>0.8691</td>\n",
       "      <td>4.137234</td>\n",
       "      <td>0.1090</td>\n",
       "      <td>51530</td>\n",
       "    </tr>\n",
       "    <tr>\n",
       "      <th>3</th>\n",
       "      <td>3247</td>\n",
       "      <td>SMI_7473</td>\n",
       "      <td>0.8691</td>\n",
       "      <td>13.448960</td>\n",
       "      <td>-0.1830</td>\n",
       "      <td>51147</td>\n",
       "    </tr>\n",
       "    <tr>\n",
       "      <th>4</th>\n",
       "      <td>3247</td>\n",
       "      <td>SMI_7473</td>\n",
       "      <td>0.8691</td>\n",
       "      <td>57.409145</td>\n",
       "      <td>0.0436</td>\n",
       "      <td>51602</td>\n",
       "    </tr>\n",
       "    <tr>\n",
       "      <th>...</th>\n",
       "      <td>...</td>\n",
       "      <td>...</td>\n",
       "      <td>...</td>\n",
       "      <td>...</td>\n",
       "      <td>...</td>\n",
       "      <td>...</td>\n",
       "    </tr>\n",
       "    <tr>\n",
       "      <th>46722</th>\n",
       "      <td>3289</td>\n",
       "      <td>SMI_35928</td>\n",
       "      <td>0.8753</td>\n",
       "      <td>5.995238</td>\n",
       "      <td>0.3520</td>\n",
       "      <td>90957</td>\n",
       "    </tr>\n",
       "    <tr>\n",
       "      <th>46723</th>\n",
       "      <td>3289</td>\n",
       "      <td>SMI_35928</td>\n",
       "      <td>0.8753</td>\n",
       "      <td>37.670671</td>\n",
       "      <td>0.1110</td>\n",
       "      <td>1105</td>\n",
       "    </tr>\n",
       "    <tr>\n",
       "      <th>46724</th>\n",
       "      <td>3289</td>\n",
       "      <td>SMI_35928</td>\n",
       "      <td>0.8753</td>\n",
       "      <td>571.235689</td>\n",
       "      <td>0.2450</td>\n",
       "      <td>4736</td>\n",
       "    </tr>\n",
       "    <tr>\n",
       "      <th>46725</th>\n",
       "      <td>3289</td>\n",
       "      <td>SMI_35928</td>\n",
       "      <td>0.8753</td>\n",
       "      <td>10.356509</td>\n",
       "      <td>-0.5250</td>\n",
       "      <td>1742</td>\n",
       "    </tr>\n",
       "    <tr>\n",
       "      <th>46726</th>\n",
       "      <td>3289</td>\n",
       "      <td>SMI_35928</td>\n",
       "      <td>0.8753</td>\n",
       "      <td>18.242862</td>\n",
       "      <td>0.0527</td>\n",
       "      <td>4690</td>\n",
       "    </tr>\n",
       "  </tbody>\n",
       "</table>\n",
       "<p>46727 rows × 6 columns</p>\n",
       "</div>"
      ],
      "text/plain": [
       "       improve_sample_id improve_drug_id  dose_response_value  \\\n",
       "0                   3247        SMI_7473               0.8691   \n",
       "1                   3247        SMI_7473               0.8691   \n",
       "2                   3247        SMI_7473               0.8691   \n",
       "3                   3247        SMI_7473               0.8691   \n",
       "4                   3247        SMI_7473               0.8691   \n",
       "...                  ...             ...                  ...   \n",
       "46722               3289       SMI_35928               0.8753   \n",
       "46723               3289       SMI_35928               0.8753   \n",
       "46724               3289       SMI_35928               0.8753   \n",
       "46725               3289       SMI_35928               0.8753   \n",
       "46726               3289       SMI_35928               0.8753   \n",
       "\n",
       "       transcriptomics  proteomics  entrez_id  \n",
       "0            63.564849     -0.0473       3732  \n",
       "1            18.437391      0.1710     286257  \n",
       "2             4.137234      0.1090      51530  \n",
       "3            13.448960     -0.1830      51147  \n",
       "4            57.409145      0.0436      51602  \n",
       "...                ...         ...        ...  \n",
       "46722         5.995238      0.3520      90957  \n",
       "46723        37.670671      0.1110       1105  \n",
       "46724       571.235689      0.2450       4736  \n",
       "46725        10.356509     -0.5250       1742  \n",
       "46726        18.242862      0.0527       4690  \n",
       "\n",
       "[46727 rows x 6 columns]"
      ]
     },
     "execution_count": 31,
     "metadata": {},
     "output_type": "execute_result"
    }
   ],
   "source": [
    "merged_df"
   ]
  },
  {
   "cell_type": "code",
   "execution_count": 32,
   "id": "f2819564",
   "metadata": {},
   "outputs": [],
   "source": [
    "merged_df['fingerprint']=merged_df['improve_drug_id'].map(fingerprint_dict)"
   ]
  },
  {
   "cell_type": "markdown",
   "id": "720c85fd",
   "metadata": {},
   "source": [
    "### Add the Chemical Structure (fingerprint) Data\n",
    "Now all of our data is gathered in one place. However, we will need to do some restructuring to get this into a suitable input for our deep learning model."
   ]
  },
  {
   "cell_type": "code",
   "execution_count": 33,
   "id": "dd405c7f",
   "metadata": {},
   "outputs": [
    {
     "data": {
      "application/vnd.microsoft.datawrangler.viewer.v0+json": {
       "columns": [
        {
         "name": "index",
         "rawType": "int64",
         "type": "integer"
        },
        {
         "name": "improve_sample_id",
         "rawType": "int64",
         "type": "integer"
        },
        {
         "name": "improve_drug_id",
         "rawType": "object",
         "type": "string"
        },
        {
         "name": "dose_response_value",
         "rawType": "float64",
         "type": "float"
        },
        {
         "name": "transcriptomics",
         "rawType": "float64",
         "type": "float"
        },
        {
         "name": "proteomics",
         "rawType": "float64",
         "type": "float"
        },
        {
         "name": "entrez_id",
         "rawType": "int64",
         "type": "integer"
        },
        {
         "name": "fingerprint",
         "rawType": "object",
         "type": "unknown"
        }
       ],
       "ref": "370917f2-4e09-406e-808e-ddd2d7924832",
       "rows": [
        [
         "0",
         "3247",
         "SMI_7473",
         "0.8691",
         "63.56484859943677",
         "-0.0473",
         "3732",
         "[0 0 0 ... 0 0 0]"
        ],
        [
         "1",
         "3247",
         "SMI_7473",
         "0.8691",
         "18.437390923431018",
         "0.171",
         "286257",
         "[0 0 0 ... 0 0 0]"
        ],
        [
         "2",
         "3247",
         "SMI_7473",
         "0.8691",
         "4.137233525661227",
         "0.109",
         "51530",
         "[0 0 0 ... 0 0 0]"
        ],
        [
         "3",
         "3247",
         "SMI_7473",
         "0.8691",
         "13.448959510861608",
         "-0.183",
         "51147",
         "[0 0 0 ... 0 0 0]"
        ],
        [
         "4",
         "3247",
         "SMI_7473",
         "0.8691",
         "57.40914496173944",
         "0.0436",
         "51602",
         "[0 0 0 ... 0 0 0]"
        ],
        [
         "5",
         "3247",
         "SMI_7473",
         "0.8691",
         "9.09309119160151",
         "0.085",
         "11001",
         "[0 0 0 ... 0 0 0]"
        ],
        [
         "6",
         "3247",
         "SMI_7473",
         "0.8691",
         "8.306839534433",
         "0.466",
         "643853",
         "[0 0 0 ... 0 0 0]"
        ],
        [
         "7",
         "3247",
         "SMI_7473",
         "0.8691",
         "6.271887974922146",
         "-0.00306",
         "57650",
         "[0 0 0 ... 0 0 0]"
        ],
        [
         "8",
         "3247",
         "SMI_7473",
         "0.8691",
         "182.7039035818616",
         "0.258",
         "6134",
         "[0 0 0 ... 0 0 0]"
        ],
        [
         "9",
         "3247",
         "SMI_7473",
         "0.8691",
         "27.65541452021612",
         "-0.202",
         "8924",
         "[0 0 0 ... 0 0 0]"
        ],
        [
         "10",
         "3247",
         "SMI_7473",
         "0.8691",
         "15.517939845852633",
         "-0.473",
         "6240",
         "[0 0 0 ... 0 0 0]"
        ],
        [
         "11",
         "3247",
         "SMI_7473",
         "0.8691",
         "33.638584981002644",
         "-0.0223",
         "5710",
         "[0 0 0 ... 0 0 0]"
        ],
        [
         "12",
         "3247",
         "SMI_7473",
         "0.8691",
         "8.448786639845643",
         "-0.159",
         "10206",
         "[0 0 0 ... 0 0 0]"
        ],
        [
         "13",
         "3247",
         "SMI_7473",
         "0.8691",
         "30.64037633929645",
         "0.381",
         "4712",
         "[0 0 0 ... 0 0 0]"
        ],
        [
         "14",
         "3247",
         "SMI_7473",
         "0.8691",
         "58.12490766407346",
         "0.0674",
         "947",
         "[0 0 0 ... 0 0 0]"
        ],
        [
         "15",
         "3247",
         "SMI_7473",
         "0.8691",
         "22.672799900269304",
         "-0.0993",
         "2997",
         "[0 0 0 ... 0 0 0]"
        ],
        [
         "16",
         "3247",
         "SMI_7473",
         "0.8691",
         "51.03557902247738",
         "-0.18",
         "11315",
         "[0 0 0 ... 0 0 0]"
        ],
        [
         "17",
         "3247",
         "SMI_7473",
         "0.8691",
         "51.193118157371686",
         "0.034",
         "6118",
         "[0 0 0 ... 0 0 0]"
        ],
        [
         "18",
         "3247",
         "SMI_7473",
         "0.8691",
         "849.0246024621188",
         "-0.035",
         "4170",
         "[0 0 0 ... 0 0 0]"
        ],
        [
         "19",
         "3247",
         "SMI_7473",
         "0.8691",
         "59.54429249699875",
         "0.0865",
         "55173",
         "[0 0 0 ... 0 0 0]"
        ],
        [
         "20",
         "3247",
         "SMI_7473",
         "0.8691",
         "101.22687712431406",
         "0.0401",
         "55207",
         "[0 0 0 ... 0 0 0]"
        ],
        [
         "21",
         "3247",
         "SMI_7473",
         "0.8691",
         "272.7440527545987",
         "0.121",
         "4691",
         "[0 0 0 ... 0 0 0]"
        ],
        [
         "22",
         "3247",
         "SMI_7473",
         "0.8691",
         "135.37034777478752",
         "-0.294",
         "391",
         "[0 0 0 ... 0 0 0]"
        ],
        [
         "23",
         "3247",
         "SMI_7473",
         "0.8691",
         "32.12616193428942",
         "-0.0883",
         "55813",
         "[0 0 0 ... 0 0 0]"
        ],
        [
         "24",
         "3247",
         "SMI_7473",
         "0.8691",
         "46.31086595057918",
         "-0.0347",
         "23186",
         "[0 0 0 ... 0 0 0]"
        ],
        [
         "25",
         "3247",
         "SMI_7473",
         "0.8691",
         "50.325102766974375",
         "-0.0996",
         "26127",
         "[0 0 0 ... 0 0 0]"
        ],
        [
         "26",
         "3247",
         "SMI_7473",
         "0.8691",
         "26.13987517211237",
         "0.144",
         "23633",
         "[0 0 0 ... 0 0 0]"
        ],
        [
         "27",
         "3247",
         "SMI_7473",
         "0.8691",
         "65.74387269711421",
         "0.213",
         "79724",
         "[0 0 0 ... 0 0 0]"
        ],
        [
         "28",
         "3247",
         "SMI_7473",
         "0.8691",
         "11.751719982100916",
         "-0.0315",
         "131544",
         "[0 0 0 ... 0 0 0]"
        ],
        [
         "29",
         "3247",
         "SMI_7473",
         "0.8691",
         "31.96190083533532",
         "0.0988",
         "51585",
         "[0 0 0 ... 0 0 0]"
        ],
        [
         "30",
         "3247",
         "SMI_7473",
         "0.8691",
         "3.654769091505787",
         "-0.301",
         "64785",
         "[0 0 0 ... 0 0 0]"
        ],
        [
         "31",
         "3247",
         "SMI_7473",
         "0.8691",
         "25.64224222884154",
         "-0.237",
         "11168",
         "[0 0 0 ... 0 0 0]"
        ],
        [
         "32",
         "3247",
         "SMI_7473",
         "0.8691",
         "458.842136828715",
         "-0.251",
         "6230",
         "[0 0 0 ... 0 0 0]"
        ],
        [
         "33",
         "3247",
         "SMI_7473",
         "0.8691",
         "319.23649648320287",
         "0.0164",
         "5479",
         "[0 0 0 ... 0 0 0]"
        ],
        [
         "34",
         "3247",
         "SMI_7473",
         "0.8691",
         "0.3960973397056076",
         "-0.527",
         "4008",
         "[0 0 0 ... 0 0 0]"
        ],
        [
         "35",
         "3247",
         "SMI_7473",
         "0.8691",
         "311.7132617028495",
         "-0.146",
         "6193",
         "[0 0 0 ... 0 0 0]"
        ],
        [
         "36",
         "3247",
         "SMI_7473",
         "0.8691",
         "23.38216318420079",
         "0.25",
         "79644",
         "[0 0 0 ... 0 0 0]"
        ],
        [
         "37",
         "3247",
         "SMI_7473",
         "0.8691",
         "46.63943782233728",
         "-0.294",
         "23478",
         "[0 0 0 ... 0 0 0]"
        ],
        [
         "38",
         "3247",
         "SMI_7473",
         "0.8691",
         "16.45899046404482",
         "0.205",
         "57701",
         "[0 0 0 ... 0 0 0]"
        ],
        [
         "39",
         "3247",
         "SMI_7473",
         "0.8691",
         "97.18219842519264",
         "0.654",
         "3385",
         "[0 0 0 ... 0 0 0]"
        ],
        [
         "40",
         "3247",
         "SMI_7473",
         "0.8691",
         "124.63138868677932",
         "-0.0511",
         "6404",
         "[0 0 0 ... 0 0 0]"
        ],
        [
         "41",
         "3247",
         "SMI_7473",
         "0.8691",
         "12.068383089794189",
         "0.116",
         "7403",
         "[0 0 0 ... 0 0 0]"
        ],
        [
         "42",
         "3247",
         "SMI_7473",
         "0.8691",
         "26.6746438213731",
         "-0.174",
         "221656",
         "[0 0 0 ... 0 0 0]"
        ],
        [
         "43",
         "3247",
         "SMI_7473",
         "0.8691",
         "17.425806448888977",
         "0.0952",
         "162427",
         "[0 0 0 ... 0 0 0]"
        ],
        [
         "44",
         "3247",
         "SMI_7473",
         "0.8691",
         "14.413499666371196",
         "-0.00183",
         "54617",
         "[0 0 0 ... 0 0 0]"
        ],
        [
         "45",
         "3247",
         "SMI_7473",
         "0.8691",
         "19.367489225707715",
         "-0.309",
         "246175",
         "[0 0 0 ... 0 0 0]"
        ],
        [
         "46",
         "3247",
         "SMI_7473",
         "0.8691",
         "11.319128337579048",
         "-0.0962",
         "23309",
         "[0 0 0 ... 0 0 0]"
        ],
        [
         "47",
         "3247",
         "SMI_7473",
         "0.8691",
         "20.58907924126203",
         "-0.24",
         "57473",
         "[0 0 0 ... 0 0 0]"
        ],
        [
         "48",
         "3247",
         "SMI_7473",
         "0.8691",
         "11.327855801461396",
         "-0.131",
         "9527",
         "[0 0 0 ... 0 0 0]"
        ],
        [
         "49",
         "3247",
         "SMI_7473",
         "0.8691",
         "58.76089866433503",
         "-0.0554",
         "55699",
         "[0 0 0 ... 0 0 0]"
        ]
       ],
       "shape": {
        "columns": 7,
        "rows": 46727
       }
      },
      "text/html": [
       "<div>\n",
       "<style scoped>\n",
       "    .dataframe tbody tr th:only-of-type {\n",
       "        vertical-align: middle;\n",
       "    }\n",
       "\n",
       "    .dataframe tbody tr th {\n",
       "        vertical-align: top;\n",
       "    }\n",
       "\n",
       "    .dataframe thead th {\n",
       "        text-align: right;\n",
       "    }\n",
       "</style>\n",
       "<table border=\"1\" class=\"dataframe\">\n",
       "  <thead>\n",
       "    <tr style=\"text-align: right;\">\n",
       "      <th></th>\n",
       "      <th>improve_sample_id</th>\n",
       "      <th>improve_drug_id</th>\n",
       "      <th>dose_response_value</th>\n",
       "      <th>transcriptomics</th>\n",
       "      <th>proteomics</th>\n",
       "      <th>entrez_id</th>\n",
       "      <th>fingerprint</th>\n",
       "    </tr>\n",
       "  </thead>\n",
       "  <tbody>\n",
       "    <tr>\n",
       "      <th>0</th>\n",
       "      <td>3247</td>\n",
       "      <td>SMI_7473</td>\n",
       "      <td>0.8691</td>\n",
       "      <td>63.564849</td>\n",
       "      <td>-0.0473</td>\n",
       "      <td>3732</td>\n",
       "      <td>[0, 0, 0, 0, 0, 0, 0, 0, 0, 1, 0, 0, 0, 0, 1, ...</td>\n",
       "    </tr>\n",
       "    <tr>\n",
       "      <th>1</th>\n",
       "      <td>3247</td>\n",
       "      <td>SMI_7473</td>\n",
       "      <td>0.8691</td>\n",
       "      <td>18.437391</td>\n",
       "      <td>0.1710</td>\n",
       "      <td>286257</td>\n",
       "      <td>[0, 0, 0, 0, 0, 0, 0, 0, 0, 1, 0, 0, 0, 0, 1, ...</td>\n",
       "    </tr>\n",
       "    <tr>\n",
       "      <th>2</th>\n",
       "      <td>3247</td>\n",
       "      <td>SMI_7473</td>\n",
       "      <td>0.8691</td>\n",
       "      <td>4.137234</td>\n",
       "      <td>0.1090</td>\n",
       "      <td>51530</td>\n",
       "      <td>[0, 0, 0, 0, 0, 0, 0, 0, 0, 1, 0, 0, 0, 0, 1, ...</td>\n",
       "    </tr>\n",
       "    <tr>\n",
       "      <th>3</th>\n",
       "      <td>3247</td>\n",
       "      <td>SMI_7473</td>\n",
       "      <td>0.8691</td>\n",
       "      <td>13.448960</td>\n",
       "      <td>-0.1830</td>\n",
       "      <td>51147</td>\n",
       "      <td>[0, 0, 0, 0, 0, 0, 0, 0, 0, 1, 0, 0, 0, 0, 1, ...</td>\n",
       "    </tr>\n",
       "    <tr>\n",
       "      <th>4</th>\n",
       "      <td>3247</td>\n",
       "      <td>SMI_7473</td>\n",
       "      <td>0.8691</td>\n",
       "      <td>57.409145</td>\n",
       "      <td>0.0436</td>\n",
       "      <td>51602</td>\n",
       "      <td>[0, 0, 0, 0, 0, 0, 0, 0, 0, 1, 0, 0, 0, 0, 1, ...</td>\n",
       "    </tr>\n",
       "    <tr>\n",
       "      <th>...</th>\n",
       "      <td>...</td>\n",
       "      <td>...</td>\n",
       "      <td>...</td>\n",
       "      <td>...</td>\n",
       "      <td>...</td>\n",
       "      <td>...</td>\n",
       "      <td>...</td>\n",
       "    </tr>\n",
       "    <tr>\n",
       "      <th>46722</th>\n",
       "      <td>3289</td>\n",
       "      <td>SMI_35928</td>\n",
       "      <td>0.8753</td>\n",
       "      <td>5.995238</td>\n",
       "      <td>0.3520</td>\n",
       "      <td>90957</td>\n",
       "      <td>[0, 1, 0, 0, 0, 0, 0, 0, 0, 0, 0, 0, 0, 0, 0, ...</td>\n",
       "    </tr>\n",
       "    <tr>\n",
       "      <th>46723</th>\n",
       "      <td>3289</td>\n",
       "      <td>SMI_35928</td>\n",
       "      <td>0.8753</td>\n",
       "      <td>37.670671</td>\n",
       "      <td>0.1110</td>\n",
       "      <td>1105</td>\n",
       "      <td>[0, 1, 0, 0, 0, 0, 0, 0, 0, 0, 0, 0, 0, 0, 0, ...</td>\n",
       "    </tr>\n",
       "    <tr>\n",
       "      <th>46724</th>\n",
       "      <td>3289</td>\n",
       "      <td>SMI_35928</td>\n",
       "      <td>0.8753</td>\n",
       "      <td>571.235689</td>\n",
       "      <td>0.2450</td>\n",
       "      <td>4736</td>\n",
       "      <td>[0, 1, 0, 0, 0, 0, 0, 0, 0, 0, 0, 0, 0, 0, 0, ...</td>\n",
       "    </tr>\n",
       "    <tr>\n",
       "      <th>46725</th>\n",
       "      <td>3289</td>\n",
       "      <td>SMI_35928</td>\n",
       "      <td>0.8753</td>\n",
       "      <td>10.356509</td>\n",
       "      <td>-0.5250</td>\n",
       "      <td>1742</td>\n",
       "      <td>[0, 1, 0, 0, 0, 0, 0, 0, 0, 0, 0, 0, 0, 0, 0, ...</td>\n",
       "    </tr>\n",
       "    <tr>\n",
       "      <th>46726</th>\n",
       "      <td>3289</td>\n",
       "      <td>SMI_35928</td>\n",
       "      <td>0.8753</td>\n",
       "      <td>18.242862</td>\n",
       "      <td>0.0527</td>\n",
       "      <td>4690</td>\n",
       "      <td>[0, 1, 0, 0, 0, 0, 0, 0, 0, 0, 0, 0, 0, 0, 0, ...</td>\n",
       "    </tr>\n",
       "  </tbody>\n",
       "</table>\n",
       "<p>46727 rows × 7 columns</p>\n",
       "</div>"
      ],
      "text/plain": [
       "       improve_sample_id improve_drug_id  dose_response_value  \\\n",
       "0                   3247        SMI_7473               0.8691   \n",
       "1                   3247        SMI_7473               0.8691   \n",
       "2                   3247        SMI_7473               0.8691   \n",
       "3                   3247        SMI_7473               0.8691   \n",
       "4                   3247        SMI_7473               0.8691   \n",
       "...                  ...             ...                  ...   \n",
       "46722               3289       SMI_35928               0.8753   \n",
       "46723               3289       SMI_35928               0.8753   \n",
       "46724               3289       SMI_35928               0.8753   \n",
       "46725               3289       SMI_35928               0.8753   \n",
       "46726               3289       SMI_35928               0.8753   \n",
       "\n",
       "       transcriptomics  proteomics  entrez_id  \\\n",
       "0            63.564849     -0.0473       3732   \n",
       "1            18.437391      0.1710     286257   \n",
       "2             4.137234      0.1090      51530   \n",
       "3            13.448960     -0.1830      51147   \n",
       "4            57.409145      0.0436      51602   \n",
       "...                ...         ...        ...   \n",
       "46722         5.995238      0.3520      90957   \n",
       "46723        37.670671      0.1110       1105   \n",
       "46724       571.235689      0.2450       4736   \n",
       "46725        10.356509     -0.5250       1742   \n",
       "46726        18.242862      0.0527       4690   \n",
       "\n",
       "                                             fingerprint  \n",
       "0      [0, 0, 0, 0, 0, 0, 0, 0, 0, 1, 0, 0, 0, 0, 1, ...  \n",
       "1      [0, 0, 0, 0, 0, 0, 0, 0, 0, 1, 0, 0, 0, 0, 1, ...  \n",
       "2      [0, 0, 0, 0, 0, 0, 0, 0, 0, 1, 0, 0, 0, 0, 1, ...  \n",
       "3      [0, 0, 0, 0, 0, 0, 0, 0, 0, 1, 0, 0, 0, 0, 1, ...  \n",
       "4      [0, 0, 0, 0, 0, 0, 0, 0, 0, 1, 0, 0, 0, 0, 1, ...  \n",
       "...                                                  ...  \n",
       "46722  [0, 1, 0, 0, 0, 0, 0, 0, 0, 0, 0, 0, 0, 0, 0, ...  \n",
       "46723  [0, 1, 0, 0, 0, 0, 0, 0, 0, 0, 0, 0, 0, 0, 0, ...  \n",
       "46724  [0, 1, 0, 0, 0, 0, 0, 0, 0, 0, 0, 0, 0, 0, 0, ...  \n",
       "46725  [0, 1, 0, 0, 0, 0, 0, 0, 0, 0, 0, 0, 0, 0, 0, ...  \n",
       "46726  [0, 1, 0, 0, 0, 0, 0, 0, 0, 0, 0, 0, 0, 0, 0, ...  \n",
       "\n",
       "[46727 rows x 7 columns]"
      ]
     },
     "execution_count": 33,
     "metadata": {},
     "output_type": "execute_result"
    }
   ],
   "source": [
    "merged_df"
   ]
  },
  {
   "cell_type": "markdown",
   "id": "cd8a050b",
   "metadata": {},
   "source": [
    "### Scaling the Data (optional)\n",
    "Scale the transcriptomics and proteomics data to the same 0-1 scale if you wish them to have equals weights in the Deep Learning Model"
   ]
  },
  {
   "cell_type": "code",
   "execution_count": 34,
   "id": "df016b35",
   "metadata": {},
   "outputs": [],
   "source": [
    "scaler=MinMaxScaler()\n",
    "merged_df[[\"transcriptomics\",\"proteomics\"]] = scaler.fit_transform(merged_df[[\"transcriptomics\",\"proteomics\"]])"
   ]
  },
  {
   "cell_type": "markdown",
   "id": "13b942e3",
   "metadata": {},
   "source": [
    "### Restructure the Transcriptomics and Proteomics Data\n",
    "These are restructured into lists within the Pandas Dataframe by sample. Each array must be ordered in the dame way be entrez id.\n",
    "In this case, we used a Hashmap for time reduction. This can be done through however method you wish to use.\n",
    "Just make sure that each list of proteomics/ transcriptomics values is linked to an entrez_id list."
   ]
  },
  {
   "cell_type": "code",
   "execution_count": 35,
   "id": "4e7f7507",
   "metadata": {},
   "outputs": [],
   "source": [
    "#Create A Hashmap of {improve_sample_id: {improve_drug_id: { entrez_id: transcriptomics, proteomics, dose_response_value]}}\n",
    "\n",
    "data_dict = {}\n",
    "\n",
    "# Iterate over the DataFrame rows to populate the nested dictionary\n",
    "for index, row in merged_df.iterrows():\n",
    "    improve_sample_id = row['improve_sample_id']\n",
    "    improve_drug_id = row['improve_drug_id']\n",
    "    dose_response_value = row['dose_response_value']\n",
    "    transcriptomics = row['transcriptomics']\n",
    "    proteomics = row['proteomics']\n",
    "    entrez_id = row['entrez_id']\n",
    "    # print(improve_sample_id,improve_drug_id,dose_response_value,transcriptomics,proteomics,entrez_id)\n",
    "\n",
    "    # Initialize improve_sample_id key if not present\n",
    "    if improve_sample_id not in data_dict:\n",
    "        data_dict[improve_sample_id] = {}\n",
    "    # print(data_dict)\n",
    "#     # Initialize improve_drug_id key if not present\n",
    "    if improve_drug_id not in data_dict[improve_sample_id]:\n",
    "        data_dict[improve_sample_id][improve_drug_id] = {}\n",
    "#     # Append data to the nested dictionary\n",
    "    if entrez_id not in data_dict[improve_sample_id][improve_drug_id]:\n",
    "        data_dict[improve_sample_id][improve_drug_id][entrez_id] = {\n",
    "            'transcriptomics': int,\n",
    "            'proteomics': int,\n",
    "            'dose_response_value': dose_response_value \n",
    "        }\n",
    "    data_dict[improve_sample_id][improve_drug_id][entrez_id]['transcriptomics'] = transcriptomics \n",
    "    data_dict[improve_sample_id][improve_drug_id][entrez_id]['proteomics'] = proteomics "
   ]
  },
  {
   "cell_type": "markdown",
   "id": "8031fec7",
   "metadata": {},
   "source": [
    "#### Write [transcriptomics], [proteomics], and dose_response_value data to aggregated_df\n",
    "The key takeaway here is that each of the input variables should be in a list format. "
   ]
  },
  {
   "cell_type": "code",
   "execution_count": 36,
   "id": "19614150",
   "metadata": {},
   "outputs": [
    {
     "data": {
      "application/vnd.microsoft.datawrangler.viewer.v0+json": {
       "columns": [
        {
         "name": "index",
         "rawType": "int64",
         "type": "integer"
        },
        {
         "name": "dose_response_value",
         "rawType": "float64",
         "type": "float"
        },
        {
         "name": "transcriptomics",
         "rawType": "object",
         "type": "unknown"
        },
        {
         "name": "proteomics",
         "rawType": "object",
         "type": "unknown"
        },
        {
         "name": "improve_sample_id",
         "rawType": "int64",
         "type": "integer"
        },
        {
         "name": "improve_drug_id",
         "rawType": "object",
         "type": "string"
        }
       ],
       "ref": "0c0a2afa-b305-4c82-842d-688044c0bb64",
       "rows": [
        [
         "0",
         "0.8691",
         "[0.2403429671694821, 0.5140137516443007, 0.6546307688062354, 0.353785013911042, 0.011964931124634483, 0.013382032588037511, 0.015874975511467854, 0.029278564879530147, 0.09609561555320809, 0.004835867930073388, 0.0031899668817375417, 0.012690517506803216, 0.017828805819870574, 0.024643860325917658, 0.10437576788751596, 0.044264668648973465, 0.04530692297588069, 0.01493308241587405, 0.03943630014082044, 0.009061030109573962, 0.020567180905923254, 0.0037604676040534613, 0.024770511979098787, 0.21029620157566362, 0.023624913885108484, 0.01343596998205222, 0.03570746677233396, 0.02132339300477687, 0.005808887944389448, 0.007011124601479252, 0.006404894198597184, 0.008727485239364929, 0.019771159393383076, 0.04481654934448329, 0.017481604639796592, 0.035960808379153546, 0.017290242031515107, 0.017552692039223473, 0.03935040308027633, 0.020154853617663497, 0.004037607851950566, 0.014930858689140505, 0.0034449106435688773, 0.009305189599229114, 0.002817968163989038, 0.0027461585288251988, 0.00873421445118572, 0.07493122941888185, 0.011113365078494274, 0.00972951030917095, 0.2461436718297364, 0.006162539775186075, 0.032880417809320814, 0.03880259843950415, 0.014215940692396215, 0.02593664857744821, 0.005994792871571415, 0.049010953966505164, 0.02812745237496451, 0.036559902865153954, 0.018028551136489785, 0.050691065727899665, 0.045910949885663424, 0.07804983295369307, 0.00030540635131377796, 0.010369667355584178, 0.006514340900702904, 0.0394718718394782, 0.14087176804871301]",
         "[0.44644194756554306, 0.5481273408239701, 0.46722846441947563, 0.42677902621722846, 0.38520599250936327, 0.45168539325842694, 0.4288389513108614, 0.48138576779026215, 0.4642134831460674, 0.47320973782771536, 0.4941947565543071, 0.5121722846441947, 0.4599250936329588, 0.49228464419475654, 0.41872659176029964, 0.48194756554307117, 0.46340823970037454, 0.4159176029962547, 0.42715355805243443, 0.46788389513108614, 0.4411985018726592, 0.4413857677902622, 0.45724719101123595, 0.49644194756554305, 0.5451310861423221, 0.49161048689138576, 0.46728464419475657, 0.43595505617977526, 0.4544943820224719, 0.4897003745318352, 0.5610486891385768, 0.4557677902621723, 0.42940074906367043, 0.4864044943820225, 0.455187265917603, 0.41872659176029964, 0.46168539325842695, 0.500561797752809, 0.44007490636704116, 0.5007490636704119, 0.47071161048689136, 0.5204119850187265, 0.5074906367041199, 0.49550561797752807, 0.4174157303370786, 0.398876404494382, 0.449250936329588, 0.59625468164794, 0.473440074906367, 0.491685393258427, 0.47685393258426967, 0.43913857677902624, 0.48479400749063667, 0.4551310861423221, 0.5058052434456929, 0.4696067415730337, 0.49644194756554305, 0.4649250936329588, 0.43745318352059925, 0.47129213483146065, 0.5205992509363295, 0.5136704119850187, 0.4899812734082397, 0.48129213483146066, 0.3750936329588015, 0.4395131086142322, 0.4440074906367041, 0.4801498127340824, 0.5220973782771535]",
         "3247",
         "SMI_7473"
        ],
        [
         "1",
         "0.3227",
         "[0.2403429671694821, 0.5140137516443007, 0.6546307688062354, 0.353785013911042, 0.011964931124634483, 0.013382032588037511, 0.015874975511467854, 0.029278564879530147, 0.09609561555320809, 0.004835867930073388, 0.0031899668817375417, 0.012690517506803216, 0.017828805819870574, 0.024643860325917658, 0.10437576788751596, 0.044264668648973465, 0.04530692297588069, 0.01493308241587405, 0.03943630014082044, 0.009061030109573962, 0.020567180905923254, 0.0037604676040534613, 0.024770511979098787, 0.21029620157566362, 0.023624913885108484, 0.01343596998205222, 0.03570746677233396, 0.02132339300477687, 0.005808887944389448, 0.007011124601479252, 0.006404894198597184, 0.008727485239364929, 0.019771159393383076, 0.04481654934448329, 0.017481604639796592, 0.035960808379153546, 0.017290242031515107, 0.017552692039223473, 0.03935040308027633, 0.020154853617663497, 0.004037607851950566, 0.014930858689140505, 0.0034449106435688773, 0.009305189599229114, 0.002817968163989038, 0.0027461585288251988, 0.00873421445118572, 0.07493122941888185, 0.011113365078494274, 0.00972951030917095, 0.2461436718297364, 0.006162539775186075, 0.032880417809320814, 0.03880259843950415, 0.014215940692396215, 0.02593664857744821, 0.005994792871571415, 0.049010953966505164, 0.02812745237496451, 0.036559902865153954, 0.018028551136489785, 0.050691065727899665, 0.045910949885663424, 0.07804983295369307, 0.00030540635131377796, 0.010369667355584178, 0.006514340900702904, 0.0394718718394782, 0.14087176804871301]",
         "[0.44644194756554306, 0.5481273408239701, 0.46722846441947563, 0.42677902621722846, 0.38520599250936327, 0.45168539325842694, 0.4288389513108614, 0.48138576779026215, 0.4642134831460674, 0.47320973782771536, 0.4941947565543071, 0.5121722846441947, 0.4599250936329588, 0.49228464419475654, 0.41872659176029964, 0.48194756554307117, 0.46340823970037454, 0.4159176029962547, 0.42715355805243443, 0.46788389513108614, 0.4411985018726592, 0.4413857677902622, 0.45724719101123595, 0.49644194756554305, 0.5451310861423221, 0.49161048689138576, 0.46728464419475657, 0.43595505617977526, 0.4544943820224719, 0.4897003745318352, 0.5610486891385768, 0.4557677902621723, 0.42940074906367043, 0.4864044943820225, 0.455187265917603, 0.41872659176029964, 0.46168539325842695, 0.500561797752809, 0.44007490636704116, 0.5007490636704119, 0.47071161048689136, 0.5204119850187265, 0.5074906367041199, 0.49550561797752807, 0.4174157303370786, 0.398876404494382, 0.449250936329588, 0.59625468164794, 0.473440074906367, 0.491685393258427, 0.47685393258426967, 0.43913857677902624, 0.48479400749063667, 0.4551310861423221, 0.5058052434456929, 0.4696067415730337, 0.49644194756554305, 0.4649250936329588, 0.43745318352059925, 0.47129213483146065, 0.5205992509363295, 0.5136704119850187, 0.4899812734082397, 0.48129213483146066, 0.3750936329588015, 0.4395131086142322, 0.4440074906367041, 0.4801498127340824, 0.5220973782771535]",
         "3247",
         "SMI_32681"
        ],
        [
         "2",
         "0.6045",
         "[0.0769903831192593, 0.11187755322864364, 0.02635662692001061, 0.013585563340709268, 0.0802788218131158, 0.013812398946516395, 0.020167401951473162, 0.0026616137028785433, 0.10177649121850725, 0.007731945878911109, 0.018911855909277343, 0.013382589378282682, 0.007264579794066283, 0.0023002022764810207, 0.07927436204180141, 0.009648059618914096, 0.014300660289637735, 0.25987269959346604, 0.030059934015463533, 0.10498987604146805, 0.04468368160234291, 0.02438272375575985, 0.015385934952342216, 0.029387815106620148, 0.01310143435996066, 0.08058887496684408, 0.02364058575413446, 0.010591909388100368, 0.08916890745539585, 0.06385530014439465, 0.014931782382446045, 0.03140304347566597, 0.01281975012090719, 0.006679214733578674, 0.0, 0.06093965295557202, 0.015570986969448104, 0.019327940896920665, 0.015012953870564434, 0.014600094229552314, 0.018196208576748384, 0.0077325568365411825, 0.024635300811249303, 0.004987835452427646, 0.014142695003340878, 0.04992579505351394, 0.0035191127474253126, 0.06886412450079779, 0.004868743788307775, 0.013022349935956277, 0.048173633828127456, 0.005092424822454206, 7.051040328362934e-05, 0.024995318503546065, 0.025879341968861727, 0.012562634986956141, 0.013702728078644553, 0.01734904668275538, 0.04919684750349811, 0.021478043936657906, 0.02519774720607623, 0.04517804396992463, 0.11861913350058836, 0.01987652725082873, 0.00716877718011776, 0.01392008056041392, 0.02282817392397124]",
         "[0.44494382022471907, 0.4676779026217228, 0.4632584269662921, 0.47743445692883896, 0.4755767790262172, 0.44101123595505615, 0.48700374531835205, 0.35018726591760296, 0.4406367041198502, 0.3848314606741573, 0.4385767790262172, 0.485187265917603, 0.5187265917602997, 0.5436329588014981, 0.5378277153558052, 0.5441947565543072, 0.4632958801498127, 0.44981273408239697, 0.4895692883895131, 0.7247191011235956, 0.47147940074906364, 0.46191011235955054, 0.48333333333333334, 0.48764044943820223, 0.449063670411985, 0.49475655430711607, 0.4687078651685393, 0.4350187265917603, 0.49219101123595504, 0.4846816479400749, 0.43764044943820224, 0.5878277153558052, 0.46756554307116105, 0.747191011235955, 0.450187265917603, 0.47378041198501875, 0.4239700374531835, 0.5121722846441947, 0.41123595505617977, 0.5205992509363295, 0.5818352059925094, 0.4654681647940075, 0.46672284644194756, 0.4791573033707865, 0.48385767790262174, 0.4822471910112359, 0.5338951310861423, 0.41067415730337076, 0.38146067415730334, 0.4680337078651685, 0.4295880149812734, 0.4736565543071161, 0.3245318352059925, 0.7041198501872659, 0.44157303370786516, 0.4608239700374532, 0.4941947565543071, 0.44831460674157303, 0.5788389513108614, 0.5011235955056179, 0.4342696629213483, 0.4342696629213483, 0.5378277153558052, 0.48586142322097375, 0.4708801498127341, 0.5086142322097378, 0.4802434456928839]",
         "3268",
         "SMI_55592"
        ],
        [
         "3",
         "0.7913",
         "[0.01224300411455304, 0.007865114438717567, 0.005976491528644126, 0.2543641372219961, 0.015817920810002294, 0.006148165052546263, 0.02836471398086075, 0.015381268412609166, 0.009620030370245516, 0.008376485659610718, 0.009688705172508229, 0.008918884354369017, 0.010078516984619026, 0.023236616227162537, 0.3295004131110954, 0.011484440822315718, 0.007317690409899616, 0.06714672434842148, 0.017826211232528526, 0.03678806684523244, 0.01769842790053653, 0.01583826778335709, 0.008297062475324482, 0.03855190631816799, 0.013228614988180747, 0.025429889416740292, 0.05055207564515229, 0.009426536034856351, 0.02464762759562237, 0.007701357029972902, 0.06911983853881154, 0.02425026239805677, 0.0, 0.008656016987912579, 0.004609930322391465, 0.07710566264004984, 0.0195760444626501, 0.03157643406444292, 0.018853472122684598, 0.3251422430836356, 0.022950652970698204, 0.026888105723202372, 0.010651385463206856, 0.06332350416636874, 0.00019376983127529832, 0.02584334183796482, 0.0275848139598186, 0.009650177340301878, 0.0024768992682696316, 0.05215391337612082, 0.01084965771566939, 0.00786290487711265, 0.024115756907662194, 0.018250258952247404, 0.0370350204338817, 0.016358624234344754, 0.010654989620065268, 0.012317974241861021, 0.008998518294221243, 0.0763844702435682, 0.05711196525570363, 0.03228640988848141, 0.010539892712787106, 0.06314974465417005, 0.032554438218825976, 0.5758628620554569]",
         "[0.39269662921348314, 0.23033707865168537, 0.4099250936329588, 0.449250936329588, 0.4808426966292135, 0.40636704119850187, 0.5078651685393258, 0.43745318352059925, 0.5048689138576778, 0.6323970037453184, 0.41217228464419475, 0.5825842696629213, 0.5380149812734083, 0.5110486891385768, 0.44250936329588014, 0.42940074906367043, 0.5273408239700375, 0.4393258426966292, 0.501498127340824, 0.6181647940074906, 0.4554119850187266, 0.5185393258426966, 0.45840823970037453, 0.4728520599250936, 0.48226591760299625, 0.44737827715355805, 0.48621722846441945, 0.5734082397003746, 0.47388352059925093, 0.5011235955056179, 0.5256554307116105, 0.4776404494382022, 0.43014981273408237, 0.45644194756554307, 0.485, 0.43689138576779024, 0.46561797752808987, 0.47749063670411984, 0.37696629213483146, 0.3857677902621723, 0.5468164794007491, 0.4863670411985019, 0.47272284644194756, 0.4553183520599251, 0.44588014981273405, 0.40786516853932586, 0.5213483146067416, 0.4699812734082397, 0.4322097378277153, 0.5571161048689138, 0.47447565543071163, 0.4850374531835206, 0.4209737827715356, 0.45822097378277155, 0.503558052434457, 0.5228464419475656, 0.5093632958801498, 0.547003745318352, 0.5329588014981274, 0.5076779026217229, 0.2790262172284644, 0.49382022471910114, 0.4647940074906367, 0.5632958801498127, 0.399625468164794, 0.6065543071161048]",
         "3271",
         "SMI_54944"
        ],
        [
         "4",
         "0.7527",
         "[0.01224300411455304, 0.007865114438717567, 0.005976491528644126, 0.2543641372219961, 0.015817920810002294, 0.006148165052546263, 0.02836471398086075, 0.015381268412609166, 0.009620030370245516, 0.008376485659610718, 0.009688705172508229, 0.008918884354369017, 0.010078516984619026, 0.023236616227162537, 0.3295004131110954, 0.011484440822315718, 0.007317690409899616, 0.06714672434842148, 0.017826211232528526, 0.03678806684523244, 0.01769842790053653, 0.01583826778335709, 0.008297062475324482, 0.03855190631816799, 0.013228614988180747, 0.025429889416740292, 0.05055207564515229, 0.009426536034856351, 0.02464762759562237, 0.007701357029972902, 0.06911983853881154, 0.02425026239805677, 0.0, 0.008656016987912579, 0.004609930322391465, 0.07710566264004984, 0.0195760444626501, 0.03157643406444292, 0.018853472122684598, 0.3251422430836356, 0.022950652970698204, 0.026888105723202372, 0.010651385463206856, 0.06332350416636874, 0.00019376983127529832, 0.02584334183796482, 0.0275848139598186, 0.009650177340301878, 0.0024768992682696316, 0.05215391337612082, 0.01084965771566939, 0.00786290487711265, 0.024115756907662194, 0.018250258952247404, 0.0370350204338817, 0.016358624234344754, 0.010654989620065268, 0.012317974241861021, 0.008998518294221243, 0.0763844702435682, 0.05711196525570363, 0.03228640988848141, 0.010539892712787106, 0.06314974465417005, 0.032554438218825976, 0.5758628620554569]",
         "[0.39269662921348314, 0.23033707865168537, 0.4099250936329588, 0.449250936329588, 0.4808426966292135, 0.40636704119850187, 0.5078651685393258, 0.43745318352059925, 0.5048689138576778, 0.6323970037453184, 0.41217228464419475, 0.5825842696629213, 0.5380149812734083, 0.5110486891385768, 0.44250936329588014, 0.42940074906367043, 0.5273408239700375, 0.4393258426966292, 0.501498127340824, 0.6181647940074906, 0.4554119850187266, 0.5185393258426966, 0.45840823970037453, 0.4728520599250936, 0.48226591760299625, 0.44737827715355805, 0.48621722846441945, 0.5734082397003746, 0.47388352059925093, 0.5011235955056179, 0.5256554307116105, 0.4776404494382022, 0.43014981273408237, 0.45644194756554307, 0.485, 0.43689138576779024, 0.46561797752808987, 0.47749063670411984, 0.37696629213483146, 0.3857677902621723, 0.5468164794007491, 0.4863670411985019, 0.47272284644194756, 0.4553183520599251, 0.44588014981273405, 0.40786516853932586, 0.5213483146067416, 0.4699812734082397, 0.4322097378277153, 0.5571161048689138, 0.47447565543071163, 0.4850374531835206, 0.4209737827715356, 0.45822097378277155, 0.503558052434457, 0.5228464419475656, 0.5093632958801498, 0.547003745318352, 0.5329588014981274, 0.5076779026217229, 0.2790262172284644, 0.49382022471910114, 0.4647940074906367, 0.5632958801498127, 0.399625468164794, 0.6065543071161048]",
         "3271",
         "SMI_55656"
        ],
        [
         "5",
         "0.5425",
         "[0.07410537751458217, 0.007497824851676049, 0.00989498164872016, 0.009691187853498692, 0.0034970178423382394, 0.014183741064504825, 0.0629727968472583, 0.020192604747973995, 0.028424675045855736, 0.0, 0.011524849344971076, 0.0045502649105570465, 0.17558620342801173, 0.01836834364433678, 0.048151237432665535, 0.009236783573754239, 0.041212768459223836, 0.010194641704642855, 0.030976666269487575, 0.007233873072064496, 0.08800585950053345, 0.05884004159975219, 0.024858732097595298, 0.012880568229249103, 0.013470200091140848, 0.20391192232933028, 0.028127254072097867, 0.08497717748855371, 0.011225831882830715, 0.0824919905307483, 0.0030957303446371284, 0.03694018297029254, 0.012010756287180659, 0.0010878922830546668, 0.0034530006855771757, 0.0045072097263591255, 0.013242002485019602, 0.0047638655425770275, 0.03200303179605, 0.003323441330178365, 0.0030019436627631638, 0.001997760072229211, 0.045580695210702224, 0.012856134170497645, 0.017120313025103664, 0.00024270917368364244, 0.026219715814775998, 0.007094174346496001, 0.006447145946994026, 0.029414102525540546, 0.049389877566368215, 0.0028198802300953376, 0.012933361036440064, 0.014427769031463918, 0.017391597136147345, 0.13525011702881254, 0.006226793238992953, 0.007448152938907491, 0.007095645061226382, 0.0007169438374480547, 0.020457885325054905, 0.006865784100708023, 0.0017908178425589218, 0.025084663593807306, 0.052930249913310405, 0.006756807004973073, 0.0048363450507291125, 0.016528825675512032, 0.015911472757239697, 0.039986781806783646]",
         "[0.46818352059925095, 0.44719101123595506, 0.46668539325842695, 0.458876404494382, 0.447940074906367, 0.4649438202247191, 0.0, 0.6071161048689139, 0.4674531835205992, 0.3799625468164794, 0.5117977528089888, 0.46614232209737827, 0.23595505617977525, 0.5368913857677903, 0.48653558052434454, 0.44494382022471907, 0.45205992509363296, 0.6116104868913858, 0.38614232209737825, 0.5724719101123595, 0.48443820224719103, 0.5322097378277153, 0.5116104868913858, 0.4936329588014981, 0.48749063670411985, 0.5065543071161048, 0.489812734082397, 0.49307116104868914, 0.6543071161048689, 0.4342696629213483, 0.3702247191011236, 0.4323970037453183, 0.5220973782771535, 0.5303370786516854, 0.5294007490636704, 0.400374531835206, 0.500187265917603, 0.4091760299625468, 0.4562546816479401, 0.47197940074906364, 0.37808988764044943, 0.46801498127340824, 0.49189138576779023, 0.4882771535580524, 0.44681647940074903, 0.37284644194756555, 0.40805243445692885, 0.4243445692883895, 0.4656928838951311, 0.4337078651685393, 0.4544943820224719, 0.5140449438202247, 0.5348314606741573, 0.5417602996254681, 0.8464419475655431, 0.5189138576779027, 0.5234082397003745, 0.4956928838951311, 0.40486891385767787, 0.3677902621722846, 0.547752808988764, 0.5543071161048689, 0.5513108614232209, 0.5441947565543072, 0.399063670411985, 0.47199812734082397, 0.43670411985018726, 0.4700374531835206, 0.501685393258427, 0.46786516853932586]",
         "3272",
         "SMI_55995"
        ],
        [
         "6",
         "0.9183",
         "[0.008679288914902867, 0.007795781914657731, 0.0028546703013284116, 0.010816047238342914, 0.005242414661933075, 0.014107556613234573, 0.05095193897529907, 0.0018947057810761116, 0.02583679849007079, 0.005004531738860176, 0.0012235993145752633, 0.006353107169474914, 0.017325356628525183, 0.00842632616476699, 0.08421746422569253, 0.023608865586274112, 0.006011970136994578, 0.004624071909331596, 0.04619623331085203, 0.002654393526465399, 0.023689861585109342, 0.013094011486586187, 0.0028738470522616942, 0.018165116396627306, 0.012975846006790153, 0.010839175319849391, 0.007398654350900255, 0.006481558831692566, 0.003953785214813434, 0.010335923113503741, 0.05381011979845642, 0.014985143625024868, 0.008169083323490606, 0.0069496751702803, 0.005488204349890248, 0.018183399816789337, 0.05418871672080333, 0.015336037889323433, 0.001705892343596395, 0.006137864632918051, 0.01460952283993795, 0.00210550698541878, 0.0033911302339519347, 0.009380698362571691, 0.004685572710115093, 0.011391323937154661, 0.0894307358560836, 0.011821469351730046, 0.047538148830045895, 0.0026217718416303715, 0.21426006172945017, 0.004426066964427707, 0.004431461247040993, 0.01833229579840515, 0.006216482542778951, 0.018125622239449996, 0.08359078781246605, 0.014446722477629653, 0.010412065676980688, 0.004388050684937549, 0.008227596799241423, 0.0025619175906921848, 0.01227214040421948, 0.01744777635463964, 0.021817168850663163, 0.007450172942242894, 0.01784690323961585, 0.009685468757868266, 0.009539759020757422, 0.2818748933000893]",
         "[0.34531835205992506, 0.49241573033707864, 0.3767790262172285, 0.5101123595505618, 0.37958801498127337, 0.41067415730337076, 0.4348314606741573, 0.33202247191011236, 0.4443820224719101, 0.4353932584269663, 0.45280898876404496, 0.6162921348314607, 0.3882022471910112, 0.472940074906367, 0.3808988764044944, 0.5891385767790263, 0.5462546816479401, 0.4850749063670412, 0.45640449438202246, 0.6191011235955056, 0.5046816479400749, 0.5297752808988764, 0.46367041198501874, 0.4054307116104869, 0.47195318352059923, 0.5260299625468164, 0.3563670411985018, 0.33164794007490633, 0.5365168539325843, 0.5589887640449438, 0.5234082397003745, 0.45754681647940076, 0.5166666666666666, 0.3855805243445693, 0.48121722846441944, 0.4742865168539326, 0.6102996254681647, 0.44981273408239697, 0.3447565543071161, 0.4630337078651685, 0.5808988764044943, 0.5125468164794007, 0.2846441947565543, 0.48368913857677903, 0.5189138576779027, 0.4543071161048689, 0.4378277153558052, 0.5127340823970037, 0.5601123595505618, 0.3546816479400749, 0.49812734082397003, 0.46074906367041196, 0.27153558052434457, 0.4237827715355805, 0.47846441947565543, 0.44176029962546814, 0.4958801498127341, 0.40486891385767787, 0.4338951310861423, 0.37003745318352055, 0.4054307116104869, 0.4198501872659176, 0.4800936329588015, 0.49235955056179775, 0.5044943820224719, 0.37565543071161045, 0.59625468164794, 0.597565543071161, 0.42453183520599247, 0.6685393258426966]",
         "3274",
         "SMI_53126"
        ],
        [
         "7",
         "0.9556",
         "[0.008679288914902867, 0.007795781914657731, 0.0028546703013284116, 0.010816047238342914, 0.005242414661933075, 0.014107556613234573, 0.05095193897529907, 0.0018947057810761116, 0.02583679849007079, 0.005004531738860176, 0.0012235993145752633, 0.006353107169474914, 0.017325356628525183, 0.00842632616476699, 0.08421746422569253, 0.023608865586274112, 0.006011970136994578, 0.004624071909331596, 0.04619623331085203, 0.002654393526465399, 0.023689861585109342, 0.013094011486586187, 0.0028738470522616942, 0.018165116396627306, 0.012975846006790153, 0.010839175319849391, 0.007398654350900255, 0.006481558831692566, 0.003953785214813434, 0.010335923113503741, 0.05381011979845642, 0.014985143625024868, 0.008169083323490606, 0.0069496751702803, 0.005488204349890248, 0.018183399816789337, 0.05418871672080333, 0.015336037889323433, 0.001705892343596395, 0.006137864632918051, 0.01460952283993795, 0.00210550698541878, 0.0033911302339519347, 0.009380698362571691, 0.004685572710115093, 0.011391323937154661, 0.0894307358560836, 0.011821469351730046, 0.047538148830045895, 0.0026217718416303715, 0.21426006172945017, 0.004426066964427707, 0.004431461247040993, 0.01833229579840515, 0.006216482542778951, 0.018125622239449996, 0.08359078781246605, 0.014446722477629653, 0.010412065676980688, 0.004388050684937549, 0.008227596799241423, 0.0025619175906921848, 0.01227214040421948, 0.01744777635463964, 0.021817168850663163, 0.007450172942242894, 0.01784690323961585, 0.009685468757868266, 0.009539759020757422, 0.2818748933000893]",
         "[0.34531835205992506, 0.49241573033707864, 0.3767790262172285, 0.5101123595505618, 0.37958801498127337, 0.41067415730337076, 0.4348314606741573, 0.33202247191011236, 0.4443820224719101, 0.4353932584269663, 0.45280898876404496, 0.6162921348314607, 0.3882022471910112, 0.472940074906367, 0.3808988764044944, 0.5891385767790263, 0.5462546816479401, 0.4850749063670412, 0.45640449438202246, 0.6191011235955056, 0.5046816479400749, 0.5297752808988764, 0.46367041198501874, 0.4054307116104869, 0.47195318352059923, 0.5260299625468164, 0.3563670411985018, 0.33164794007490633, 0.5365168539325843, 0.5589887640449438, 0.5234082397003745, 0.45754681647940076, 0.5166666666666666, 0.3855805243445693, 0.48121722846441944, 0.4742865168539326, 0.6102996254681647, 0.44981273408239697, 0.3447565543071161, 0.4630337078651685, 0.5808988764044943, 0.5125468164794007, 0.2846441947565543, 0.48368913857677903, 0.5189138576779027, 0.4543071161048689, 0.4378277153558052, 0.5127340823970037, 0.5601123595505618, 0.3546816479400749, 0.49812734082397003, 0.46074906367041196, 0.27153558052434457, 0.4237827715355805, 0.47846441947565543, 0.44176029962546814, 0.4958801498127341, 0.40486891385767787, 0.4338951310861423, 0.37003745318352055, 0.4054307116104869, 0.4198501872659176, 0.4800936329588015, 0.49235955056179775, 0.5044943820224719, 0.37565543071161045, 0.59625468164794, 0.597565543071161, 0.42453183520599247, 0.6685393258426966]",
         "3274",
         "SMI_55461"
        ],
        [
         "8",
         "0.7298",
         "[0.06338197166779014, 0.05589282749969057, 0.008607670366814193, 0.053305027543569646, 0.03449775864582357, 0.002654019822390285, 0.08403950642203803, 0.019255463816222874, 0.009020893274300877, 0.008909408229696186, 0.0023043696201344352, 0.0027790801157792575, 2.7998458349582083e-05, 2.3020478633280677e-05, 0.010203009969721188, 0.0447953480008158, 0.017762546380684457, 0.03316737619492644, 0.014625494783197041, 0.0014281978828614825, 0.01581670664803721, 0.02520382434365949, 0.023678459346213064, 0.006918350268423413, 0.027625604146007853, 0.10829977745410348, 0.01720336711710299, 0.024069730855536396, 0.05368285244986727, 0.00699812209162673, 0.03732710853200296, 0.02030115753602447, 0.04163778868470459, 0.0019337085103446861, 0.005513737683576875, 0.023278695317886053, 0.19941331810701057, 0.002941363422769446, 0.010677721697920615, 0.021044852082919258, 0.0031370665426979755, 0.028159132256515066, 0.022260494014317074, 0.026484997670805456, 0.005977913485744641, 0.018686182916206596, 0.005317498877280275, 0.17380212411602358, 0.003205641941277885, 0.021400810794433192, 0.00947659892800578, 0.018669768952916884]",
         "[0.4945692883895131, 0.35187265917602994, 0.465561797752809, 0.3808988764044944, 0.5142322097378277, 0.547752808988764, 0.5117977528089888, 0.4157303370786517, 0.37565543071161045, 0.5101123595505618, 0.45691011235955054, 0.37397003745318347, 0.499438202247191, 0.4599812734082397, 0.471310861423221, 0.44232209737827716, 0.47473595505617977, 0.48196629213483144, 0.4342696629213483, 0.5074906367041199, 0.46775280898876404, 0.5194756554307116, 0.5110486891385768, 0.4378277153558052, 0.5102996254681648, 0.39925093632958797, 0.5702247191011236, 0.4639138576779026, 0.4574531835205992, 0.39700374531835203, 0.45597378277153555, 0.31928838951310856, 0.5430711610486891, 0.3382022471910112, 0.48164794007490636, 0.6177902621722846, 0.37134831460674156, 0.5318352059925093, 0.600936329588015, 0.4273408239700374, 0.4700374531835206, 0.4447565543071161, 0.4905805243445693, 0.49812734082397003, 0.397191011235955, 0.38108614232209737, 0.5102996254681648, 0.5574906367041198, 0.5395131086142322, 0.5297752808988764, 0.6037453183520599, 0.5097378277153558]",
         "3279",
         "SMI_35323"
        ],
        [
         "9",
         "0.5885",
         "[0.06338197166779014, 0.05589282749969057, 0.008607670366814193, 0.053305027543569646, 0.03449775864582357, 0.002654019822390285, 0.08403950642203803, 0.019255463816222874, 0.009020893274300877, 0.008909408229696186, 0.0023043696201344352, 0.0027790801157792575, 2.7998458349582083e-05, 2.3020478633280677e-05, 0.010203009969721188, 0.0447953480008158, 0.017762546380684457, 0.03316737619492644, 0.014625494783197041, 0.0014281978828614825, 0.01581670664803721, 0.02520382434365949, 0.023678459346213064, 0.006918350268423413, 0.027625604146007853, 0.10829977745410348, 0.01720336711710299, 0.024069730855536396, 0.05368285244986727, 0.00699812209162673, 0.03732710853200296, 0.02030115753602447, 0.04163778868470459, 0.0019337085103446861, 0.005513737683576875, 0.023278695317886053, 0.19941331810701057, 0.002941363422769446, 0.010677721697920615, 0.021044852082919258, 0.0031370665426979755, 0.028159132256515066, 0.022260494014317074, 0.026484997670805456, 0.005977913485744641, 0.018686182916206596, 0.005317498877280275, 0.17380212411602358, 0.003205641941277885, 0.021400810794433192, 0.00947659892800578, 0.018669768952916884]",
         "[0.4945692883895131, 0.35187265917602994, 0.465561797752809, 0.3808988764044944, 0.5142322097378277, 0.547752808988764, 0.5117977528089888, 0.4157303370786517, 0.37565543071161045, 0.5101123595505618, 0.45691011235955054, 0.37397003745318347, 0.499438202247191, 0.4599812734082397, 0.471310861423221, 0.44232209737827716, 0.47473595505617977, 0.48196629213483144, 0.4342696629213483, 0.5074906367041199, 0.46775280898876404, 0.5194756554307116, 0.5110486891385768, 0.4378277153558052, 0.5102996254681648, 0.39925093632958797, 0.5702247191011236, 0.4639138576779026, 0.4574531835205992, 0.39700374531835203, 0.45597378277153555, 0.31928838951310856, 0.5430711610486891, 0.3382022471910112, 0.48164794007490636, 0.6177902621722846, 0.37134831460674156, 0.5318352059925093, 0.600936329588015, 0.4273408239700374, 0.4700374531835206, 0.4447565543071161, 0.4905805243445693, 0.49812734082397003, 0.397191011235955, 0.38108614232209737, 0.5102996254681648, 0.5574906367041198, 0.5395131086142322, 0.5297752808988764, 0.6037453183520599, 0.5097378277153558]",
         "3279",
         "SMI_3871"
        ],
        [
         "10",
         "0.8854",
         "[0.06338197166779014, 0.05589282749969057, 0.008607670366814193, 0.053305027543569646, 0.03449775864582357, 0.002654019822390285, 0.08403950642203803, 0.019255463816222874, 0.009020893274300877, 0.008909408229696186, 0.0023043696201344352, 0.0027790801157792575, 2.7998458349582083e-05, 2.3020478633280677e-05, 0.010203009969721188, 0.0447953480008158, 0.017762546380684457, 0.03316737619492644, 0.014625494783197041, 0.0014281978828614825, 0.01581670664803721, 0.02520382434365949, 0.023678459346213064, 0.006918350268423413, 0.027625604146007853, 0.10829977745410348, 0.01720336711710299, 0.024069730855536396, 0.05368285244986727, 0.00699812209162673, 0.03732710853200296, 0.02030115753602447, 0.04163778868470459, 0.0019337085103446861, 0.005513737683576875, 0.023278695317886053, 0.19941331810701057, 0.002941363422769446, 0.010677721697920615, 0.021044852082919258, 0.0031370665426979755, 0.028159132256515066, 0.022260494014317074, 0.026484997670805456, 0.005977913485744641, 0.018686182916206596, 0.005317498877280275, 0.17380212411602358, 0.003205641941277885, 0.021400810794433192, 0.00947659892800578, 0.018669768952916884]",
         "[0.4945692883895131, 0.35187265917602994, 0.465561797752809, 0.3808988764044944, 0.5142322097378277, 0.547752808988764, 0.5117977528089888, 0.4157303370786517, 0.37565543071161045, 0.5101123595505618, 0.45691011235955054, 0.37397003745318347, 0.499438202247191, 0.4599812734082397, 0.471310861423221, 0.44232209737827716, 0.47473595505617977, 0.48196629213483144, 0.4342696629213483, 0.5074906367041199, 0.46775280898876404, 0.5194756554307116, 0.5110486891385768, 0.4378277153558052, 0.5102996254681648, 0.39925093632958797, 0.5702247191011236, 0.4639138576779026, 0.4574531835205992, 0.39700374531835203, 0.45597378277153555, 0.31928838951310856, 0.5430711610486891, 0.3382022471910112, 0.48164794007490636, 0.6177902621722846, 0.37134831460674156, 0.5318352059925093, 0.600936329588015, 0.4273408239700374, 0.4700374531835206, 0.4447565543071161, 0.4905805243445693, 0.49812734082397003, 0.397191011235955, 0.38108614232209737, 0.5102996254681648, 0.5574906367041198, 0.5395131086142322, 0.5297752808988764, 0.6037453183520599, 0.5097378277153558]",
         "3279",
         "SMI_11493"
        ],
        [
         "11",
         "0.818",
         "[0.06338197166779014, 0.05589282749969057, 0.008607670366814193, 0.053305027543569646, 0.03449775864582357, 0.002654019822390285, 0.08403950642203803, 0.019255463816222874, 0.009020893274300877, 0.008909408229696186, 0.0023043696201344352, 0.0027790801157792575, 2.7998458349582083e-05, 2.3020478633280677e-05, 0.010203009969721188, 0.0447953480008158, 0.017762546380684457, 0.03316737619492644, 0.014625494783197041, 0.0014281978828614825, 0.01581670664803721, 0.02520382434365949, 0.023678459346213064, 0.006918350268423413, 0.027625604146007853, 0.10829977745410348, 0.01720336711710299, 0.024069730855536396, 0.05368285244986727, 0.00699812209162673, 0.03732710853200296, 0.02030115753602447, 0.04163778868470459, 0.0019337085103446861, 0.005513737683576875, 0.023278695317886053, 0.19941331810701057, 0.002941363422769446, 0.010677721697920615, 0.021044852082919258, 0.0031370665426979755, 0.028159132256515066, 0.022260494014317074, 0.026484997670805456, 0.005977913485744641, 0.018686182916206596, 0.005317498877280275, 0.17380212411602358, 0.003205641941277885, 0.021400810794433192, 0.00947659892800578, 0.018669768952916884]",
         "[0.4945692883895131, 0.35187265917602994, 0.465561797752809, 0.3808988764044944, 0.5142322097378277, 0.547752808988764, 0.5117977528089888, 0.4157303370786517, 0.37565543071161045, 0.5101123595505618, 0.45691011235955054, 0.37397003745318347, 0.499438202247191, 0.4599812734082397, 0.471310861423221, 0.44232209737827716, 0.47473595505617977, 0.48196629213483144, 0.4342696629213483, 0.5074906367041199, 0.46775280898876404, 0.5194756554307116, 0.5110486891385768, 0.4378277153558052, 0.5102996254681648, 0.39925093632958797, 0.5702247191011236, 0.4639138576779026, 0.4574531835205992, 0.39700374531835203, 0.45597378277153555, 0.31928838951310856, 0.5430711610486891, 0.3382022471910112, 0.48164794007490636, 0.6177902621722846, 0.37134831460674156, 0.5318352059925093, 0.600936329588015, 0.4273408239700374, 0.4700374531835206, 0.4447565543071161, 0.4905805243445693, 0.49812734082397003, 0.397191011235955, 0.38108614232209737, 0.5102996254681648, 0.5574906367041198, 0.5395131086142322, 0.5297752808988764, 0.6037453183520599, 0.5097378277153558]",
         "3279",
         "SMI_23048"
        ],
        [
         "12",
         "0.2831",
         "[0.06338197166779014, 0.05589282749969057, 0.008607670366814193, 0.053305027543569646, 0.03449775864582357, 0.002654019822390285, 0.08403950642203803, 0.019255463816222874, 0.009020893274300877, 0.008909408229696186, 0.0023043696201344352, 0.0027790801157792575, 2.7998458349582083e-05, 2.3020478633280677e-05, 0.010203009969721188, 0.0447953480008158, 0.017762546380684457, 0.03316737619492644, 0.014625494783197041, 0.0014281978828614825, 0.01581670664803721, 0.02520382434365949, 0.023678459346213064, 0.006918350268423413, 0.027625604146007853, 0.10829977745410348, 0.01720336711710299, 0.024069730855536396, 0.05368285244986727, 0.00699812209162673, 0.03732710853200296, 0.02030115753602447, 0.04163778868470459, 0.0019337085103446861, 0.005513737683576875, 0.023278695317886053, 0.19941331810701057, 0.002941363422769446, 0.010677721697920615, 0.021044852082919258, 0.0031370665426979755, 0.028159132256515066, 0.022260494014317074, 0.026484997670805456, 0.005977913485744641, 0.018686182916206596, 0.005317498877280275, 0.17380212411602358, 0.003205641941277885, 0.021400810794433192, 0.00947659892800578, 0.018669768952916884]",
         "[0.4945692883895131, 0.35187265917602994, 0.465561797752809, 0.3808988764044944, 0.5142322097378277, 0.547752808988764, 0.5117977528089888, 0.4157303370786517, 0.37565543071161045, 0.5101123595505618, 0.45691011235955054, 0.37397003745318347, 0.499438202247191, 0.4599812734082397, 0.471310861423221, 0.44232209737827716, 0.47473595505617977, 0.48196629213483144, 0.4342696629213483, 0.5074906367041199, 0.46775280898876404, 0.5194756554307116, 0.5110486891385768, 0.4378277153558052, 0.5102996254681648, 0.39925093632958797, 0.5702247191011236, 0.4639138576779026, 0.4574531835205992, 0.39700374531835203, 0.45597378277153555, 0.31928838951310856, 0.5430711610486891, 0.3382022471910112, 0.48164794007490636, 0.6177902621722846, 0.37134831460674156, 0.5318352059925093, 0.600936329588015, 0.4273408239700374, 0.4700374531835206, 0.4447565543071161, 0.4905805243445693, 0.49812734082397003, 0.397191011235955, 0.38108614232209737, 0.5102996254681648, 0.5574906367041198, 0.5395131086142322, 0.5297752808988764, 0.6037453183520599, 0.5097378277153558]",
         "3279",
         "SMI_18301"
        ],
        [
         "13",
         "0.4595",
         "[0.06338197166779014, 0.05589282749969057, 0.008607670366814193, 0.053305027543569646, 0.03449775864582357, 0.002654019822390285, 0.08403950642203803, 0.019255463816222874, 0.009020893274300877, 0.008909408229696186, 0.0023043696201344352, 0.0027790801157792575, 2.7998458349582083e-05, 2.3020478633280677e-05, 0.010203009969721188, 0.0447953480008158, 0.017762546380684457, 0.03316737619492644, 0.014625494783197041, 0.0014281978828614825, 0.01581670664803721, 0.02520382434365949, 0.023678459346213064, 0.006918350268423413, 0.027625604146007853, 0.10829977745410348, 0.01720336711710299, 0.024069730855536396, 0.05368285244986727, 0.00699812209162673, 0.03732710853200296, 0.02030115753602447, 0.04163778868470459, 0.0019337085103446861, 0.005513737683576875, 0.023278695317886053, 0.19941331810701057, 0.002941363422769446, 0.010677721697920615, 0.021044852082919258, 0.0031370665426979755, 0.028159132256515066, 0.022260494014317074, 0.026484997670805456, 0.005977913485744641, 0.018686182916206596, 0.005317498877280275, 0.17380212411602358, 0.003205641941277885, 0.021400810794433192, 0.00947659892800578, 0.018669768952916884]",
         "[0.4945692883895131, 0.35187265917602994, 0.465561797752809, 0.3808988764044944, 0.5142322097378277, 0.547752808988764, 0.5117977528089888, 0.4157303370786517, 0.37565543071161045, 0.5101123595505618, 0.45691011235955054, 0.37397003745318347, 0.499438202247191, 0.4599812734082397, 0.471310861423221, 0.44232209737827716, 0.47473595505617977, 0.48196629213483144, 0.4342696629213483, 0.5074906367041199, 0.46775280898876404, 0.5194756554307116, 0.5110486891385768, 0.4378277153558052, 0.5102996254681648, 0.39925093632958797, 0.5702247191011236, 0.4639138576779026, 0.4574531835205992, 0.39700374531835203, 0.45597378277153555, 0.31928838951310856, 0.5430711610486891, 0.3382022471910112, 0.48164794007490636, 0.6177902621722846, 0.37134831460674156, 0.5318352059925093, 0.600936329588015, 0.4273408239700374, 0.4700374531835206, 0.4447565543071161, 0.4905805243445693, 0.49812734082397003, 0.397191011235955, 0.38108614232209737, 0.5102996254681648, 0.5574906367041198, 0.5395131086142322, 0.5297752808988764, 0.6037453183520599, 0.5097378277153558]",
         "3279",
         "SMI_52219"
        ],
        [
         "14",
         "1.0",
         "[0.06338197166779014, 0.05589282749969057, 0.008607670366814193, 0.053305027543569646, 0.03449775864582357, 0.002654019822390285, 0.08403950642203803, 0.019255463816222874, 0.009020893274300877, 0.008909408229696186, 0.0023043696201344352, 0.0027790801157792575, 2.7998458349582083e-05, 2.3020478633280677e-05, 0.010203009969721188, 0.0447953480008158, 0.017762546380684457, 0.03316737619492644, 0.014625494783197041, 0.0014281978828614825, 0.01581670664803721, 0.02520382434365949, 0.023678459346213064, 0.006918350268423413, 0.027625604146007853, 0.10829977745410348, 0.01720336711710299, 0.024069730855536396, 0.05368285244986727, 0.00699812209162673, 0.03732710853200296, 0.02030115753602447, 0.04163778868470459, 0.0019337085103446861, 0.005513737683576875, 0.023278695317886053, 0.19941331810701057, 0.002941363422769446, 0.010677721697920615, 0.021044852082919258, 0.0031370665426979755, 0.028159132256515066, 0.022260494014317074, 0.026484997670805456, 0.005977913485744641, 0.018686182916206596, 0.005317498877280275, 0.17380212411602358, 0.003205641941277885, 0.021400810794433192, 0.00947659892800578, 0.018669768952916884]",
         "[0.4945692883895131, 0.35187265917602994, 0.465561797752809, 0.3808988764044944, 0.5142322097378277, 0.547752808988764, 0.5117977528089888, 0.4157303370786517, 0.37565543071161045, 0.5101123595505618, 0.45691011235955054, 0.37397003745318347, 0.499438202247191, 0.4599812734082397, 0.471310861423221, 0.44232209737827716, 0.47473595505617977, 0.48196629213483144, 0.4342696629213483, 0.5074906367041199, 0.46775280898876404, 0.5194756554307116, 0.5110486891385768, 0.4378277153558052, 0.5102996254681648, 0.39925093632958797, 0.5702247191011236, 0.4639138576779026, 0.4574531835205992, 0.39700374531835203, 0.45597378277153555, 0.31928838951310856, 0.5430711610486891, 0.3382022471910112, 0.48164794007490636, 0.6177902621722846, 0.37134831460674156, 0.5318352059925093, 0.600936329588015, 0.4273408239700374, 0.4700374531835206, 0.4447565543071161, 0.4905805243445693, 0.49812734082397003, 0.397191011235955, 0.38108614232209737, 0.5102996254681648, 0.5574906367041198, 0.5395131086142322, 0.5297752808988764, 0.6037453183520599, 0.5097378277153558]",
         "3279",
         "SMI_51900"
        ],
        [
         "15",
         "0.9269",
         "[0.06338197166779014, 0.05589282749969057, 0.008607670366814193, 0.053305027543569646, 0.03449775864582357, 0.002654019822390285, 0.08403950642203803, 0.019255463816222874, 0.009020893274300877, 0.008909408229696186, 0.0023043696201344352, 0.0027790801157792575, 2.7998458349582083e-05, 2.3020478633280677e-05, 0.010203009969721188, 0.0447953480008158, 0.017762546380684457, 0.03316737619492644, 0.014625494783197041, 0.0014281978828614825, 0.01581670664803721, 0.02520382434365949, 0.023678459346213064, 0.006918350268423413, 0.027625604146007853, 0.10829977745410348, 0.01720336711710299, 0.024069730855536396, 0.05368285244986727, 0.00699812209162673, 0.03732710853200296, 0.02030115753602447, 0.04163778868470459, 0.0019337085103446861, 0.005513737683576875, 0.023278695317886053, 0.19941331810701057, 0.002941363422769446, 0.010677721697920615, 0.021044852082919258, 0.0031370665426979755, 0.028159132256515066, 0.022260494014317074, 0.026484997670805456, 0.005977913485744641, 0.018686182916206596, 0.005317498877280275, 0.17380212411602358, 0.003205641941277885, 0.021400810794433192, 0.00947659892800578, 0.018669768952916884]",
         "[0.4945692883895131, 0.35187265917602994, 0.465561797752809, 0.3808988764044944, 0.5142322097378277, 0.547752808988764, 0.5117977528089888, 0.4157303370786517, 0.37565543071161045, 0.5101123595505618, 0.45691011235955054, 0.37397003745318347, 0.499438202247191, 0.4599812734082397, 0.471310861423221, 0.44232209737827716, 0.47473595505617977, 0.48196629213483144, 0.4342696629213483, 0.5074906367041199, 0.46775280898876404, 0.5194756554307116, 0.5110486891385768, 0.4378277153558052, 0.5102996254681648, 0.39925093632958797, 0.5702247191011236, 0.4639138576779026, 0.4574531835205992, 0.39700374531835203, 0.45597378277153555, 0.31928838951310856, 0.5430711610486891, 0.3382022471910112, 0.48164794007490636, 0.6177902621722846, 0.37134831460674156, 0.5318352059925093, 0.600936329588015, 0.4273408239700374, 0.4700374531835206, 0.4447565543071161, 0.4905805243445693, 0.49812734082397003, 0.397191011235955, 0.38108614232209737, 0.5102996254681648, 0.5574906367041198, 0.5395131086142322, 0.5297752808988764, 0.6037453183520599, 0.5097378277153558]",
         "3279",
         "SMI_10197"
        ],
        [
         "16",
         "0.8257",
         "[0.06338197166779014, 0.05589282749969057, 0.008607670366814193, 0.053305027543569646, 0.03449775864582357, 0.002654019822390285, 0.08403950642203803, 0.019255463816222874, 0.009020893274300877, 0.008909408229696186, 0.0023043696201344352, 0.0027790801157792575, 2.7998458349582083e-05, 2.3020478633280677e-05, 0.010203009969721188, 0.0447953480008158, 0.017762546380684457, 0.03316737619492644, 0.014625494783197041, 0.0014281978828614825, 0.01581670664803721, 0.02520382434365949, 0.023678459346213064, 0.006918350268423413, 0.027625604146007853, 0.10829977745410348, 0.01720336711710299, 0.024069730855536396, 0.05368285244986727, 0.00699812209162673, 0.03732710853200296, 0.02030115753602447, 0.04163778868470459, 0.0019337085103446861, 0.005513737683576875, 0.023278695317886053, 0.19941331810701057, 0.002941363422769446, 0.010677721697920615, 0.021044852082919258, 0.0031370665426979755, 0.028159132256515066, 0.022260494014317074, 0.026484997670805456, 0.005977913485744641, 0.018686182916206596, 0.005317498877280275, 0.17380212411602358, 0.003205641941277885, 0.021400810794433192, 0.00947659892800578, 0.018669768952916884]",
         "[0.4945692883895131, 0.35187265917602994, 0.465561797752809, 0.3808988764044944, 0.5142322097378277, 0.547752808988764, 0.5117977528089888, 0.4157303370786517, 0.37565543071161045, 0.5101123595505618, 0.45691011235955054, 0.37397003745318347, 0.499438202247191, 0.4599812734082397, 0.471310861423221, 0.44232209737827716, 0.47473595505617977, 0.48196629213483144, 0.4342696629213483, 0.5074906367041199, 0.46775280898876404, 0.5194756554307116, 0.5110486891385768, 0.4378277153558052, 0.5102996254681648, 0.39925093632958797, 0.5702247191011236, 0.4639138576779026, 0.4574531835205992, 0.39700374531835203, 0.45597378277153555, 0.31928838951310856, 0.5430711610486891, 0.3382022471910112, 0.48164794007490636, 0.6177902621722846, 0.37134831460674156, 0.5318352059925093, 0.600936329588015, 0.4273408239700374, 0.4700374531835206, 0.4447565543071161, 0.4905805243445693, 0.49812734082397003, 0.397191011235955, 0.38108614232209737, 0.5102996254681648, 0.5574906367041198, 0.5395131086142322, 0.5297752808988764, 0.6037453183520599, 0.5097378277153558]",
         "3279",
         "SMI_51801"
        ],
        [
         "17",
         "0.9082",
         "[0.06338197166779014, 0.05589282749969057, 0.008607670366814193, 0.053305027543569646, 0.03449775864582357, 0.002654019822390285, 0.08403950642203803, 0.019255463816222874, 0.009020893274300877, 0.008909408229696186, 0.0023043696201344352, 0.0027790801157792575, 2.7998458349582083e-05, 2.3020478633280677e-05, 0.010203009969721188, 0.0447953480008158, 0.017762546380684457, 0.03316737619492644, 0.014625494783197041, 0.0014281978828614825, 0.01581670664803721, 0.02520382434365949, 0.023678459346213064, 0.006918350268423413, 0.027625604146007853, 0.10829977745410348, 0.01720336711710299, 0.024069730855536396, 0.05368285244986727, 0.00699812209162673, 0.03732710853200296, 0.02030115753602447, 0.04163778868470459, 0.0019337085103446861, 0.005513737683576875, 0.023278695317886053, 0.19941331810701057, 0.002941363422769446, 0.010677721697920615, 0.021044852082919258, 0.0031370665426979755, 0.028159132256515066, 0.022260494014317074, 0.026484997670805456, 0.005977913485744641, 0.018686182916206596, 0.005317498877280275, 0.17380212411602358, 0.003205641941277885, 0.021400810794433192, 0.00947659892800578, 0.018669768952916884]",
         "[0.4945692883895131, 0.35187265917602994, 0.465561797752809, 0.3808988764044944, 0.5142322097378277, 0.547752808988764, 0.5117977528089888, 0.4157303370786517, 0.37565543071161045, 0.5101123595505618, 0.45691011235955054, 0.37397003745318347, 0.499438202247191, 0.4599812734082397, 0.471310861423221, 0.44232209737827716, 0.47473595505617977, 0.48196629213483144, 0.4342696629213483, 0.5074906367041199, 0.46775280898876404, 0.5194756554307116, 0.5110486891385768, 0.4378277153558052, 0.5102996254681648, 0.39925093632958797, 0.5702247191011236, 0.4639138576779026, 0.4574531835205992, 0.39700374531835203, 0.45597378277153555, 0.31928838951310856, 0.5430711610486891, 0.3382022471910112, 0.48164794007490636, 0.6177902621722846, 0.37134831460674156, 0.5318352059925093, 0.600936329588015, 0.4273408239700374, 0.4700374531835206, 0.4447565543071161, 0.4905805243445693, 0.49812734082397003, 0.397191011235955, 0.38108614232209737, 0.5102996254681648, 0.5574906367041198, 0.5395131086142322, 0.5297752808988764, 0.6037453183520599, 0.5097378277153558]",
         "3279",
         "SMI_44394"
        ],
        [
         "18",
         "0.9356",
         "[0.06338197166779014, 0.05589282749969057, 0.008607670366814193, 0.053305027543569646, 0.03449775864582357, 0.002654019822390285, 0.08403950642203803, 0.019255463816222874, 0.009020893274300877, 0.008909408229696186, 0.0023043696201344352, 0.0027790801157792575, 2.7998458349582083e-05, 2.3020478633280677e-05, 0.010203009969721188, 0.0447953480008158, 0.017762546380684457, 0.03316737619492644, 0.014625494783197041, 0.0014281978828614825, 0.01581670664803721, 0.02520382434365949, 0.023678459346213064, 0.006918350268423413, 0.027625604146007853, 0.10829977745410348, 0.01720336711710299, 0.024069730855536396, 0.05368285244986727, 0.00699812209162673, 0.03732710853200296, 0.02030115753602447, 0.04163778868470459, 0.0019337085103446861, 0.005513737683576875, 0.023278695317886053, 0.19941331810701057, 0.002941363422769446, 0.010677721697920615, 0.021044852082919258, 0.0031370665426979755, 0.028159132256515066, 0.022260494014317074, 0.026484997670805456, 0.005977913485744641, 0.018686182916206596, 0.005317498877280275, 0.17380212411602358, 0.003205641941277885, 0.021400810794433192, 0.00947659892800578, 0.018669768952916884]",
         "[0.4945692883895131, 0.35187265917602994, 0.465561797752809, 0.3808988764044944, 0.5142322097378277, 0.547752808988764, 0.5117977528089888, 0.4157303370786517, 0.37565543071161045, 0.5101123595505618, 0.45691011235955054, 0.37397003745318347, 0.499438202247191, 0.4599812734082397, 0.471310861423221, 0.44232209737827716, 0.47473595505617977, 0.48196629213483144, 0.4342696629213483, 0.5074906367041199, 0.46775280898876404, 0.5194756554307116, 0.5110486891385768, 0.4378277153558052, 0.5102996254681648, 0.39925093632958797, 0.5702247191011236, 0.4639138576779026, 0.4574531835205992, 0.39700374531835203, 0.45597378277153555, 0.31928838951310856, 0.5430711610486891, 0.3382022471910112, 0.48164794007490636, 0.6177902621722846, 0.37134831460674156, 0.5318352059925093, 0.600936329588015, 0.4273408239700374, 0.4700374531835206, 0.4447565543071161, 0.4905805243445693, 0.49812734082397003, 0.397191011235955, 0.38108614232209737, 0.5102996254681648, 0.5574906367041198, 0.5395131086142322, 0.5297752808988764, 0.6037453183520599, 0.5097378277153558]",
         "3279",
         "SMI_46879"
        ],
        [
         "19",
         "0.6139",
         "[0.06338197166779014, 0.05589282749969057, 0.008607670366814193, 0.053305027543569646, 0.03449775864582357, 0.002654019822390285, 0.08403950642203803, 0.019255463816222874, 0.009020893274300877, 0.008909408229696186, 0.0023043696201344352, 0.0027790801157792575, 2.7998458349582083e-05, 2.3020478633280677e-05, 0.010203009969721188, 0.0447953480008158, 0.017762546380684457, 0.03316737619492644, 0.014625494783197041, 0.0014281978828614825, 0.01581670664803721, 0.02520382434365949, 0.023678459346213064, 0.006918350268423413, 0.027625604146007853, 0.10829977745410348, 0.01720336711710299, 0.024069730855536396, 0.05368285244986727, 0.00699812209162673, 0.03732710853200296, 0.02030115753602447, 0.04163778868470459, 0.0019337085103446861, 0.005513737683576875, 0.023278695317886053, 0.19941331810701057, 0.002941363422769446, 0.010677721697920615, 0.021044852082919258, 0.0031370665426979755, 0.028159132256515066, 0.022260494014317074, 0.026484997670805456, 0.005977913485744641, 0.018686182916206596, 0.005317498877280275, 0.17380212411602358, 0.003205641941277885, 0.021400810794433192, 0.00947659892800578, 0.018669768952916884]",
         "[0.4945692883895131, 0.35187265917602994, 0.465561797752809, 0.3808988764044944, 0.5142322097378277, 0.547752808988764, 0.5117977528089888, 0.4157303370786517, 0.37565543071161045, 0.5101123595505618, 0.45691011235955054, 0.37397003745318347, 0.499438202247191, 0.4599812734082397, 0.471310861423221, 0.44232209737827716, 0.47473595505617977, 0.48196629213483144, 0.4342696629213483, 0.5074906367041199, 0.46775280898876404, 0.5194756554307116, 0.5110486891385768, 0.4378277153558052, 0.5102996254681648, 0.39925093632958797, 0.5702247191011236, 0.4639138576779026, 0.4574531835205992, 0.39700374531835203, 0.45597378277153555, 0.31928838951310856, 0.5430711610486891, 0.3382022471910112, 0.48164794007490636, 0.6177902621722846, 0.37134831460674156, 0.5318352059925093, 0.600936329588015, 0.4273408239700374, 0.4700374531835206, 0.4447565543071161, 0.4905805243445693, 0.49812734082397003, 0.397191011235955, 0.38108614232209737, 0.5102996254681648, 0.5574906367041198, 0.5395131086142322, 0.5297752808988764, 0.6037453183520599, 0.5097378277153558]",
         "3279",
         "SMI_43282"
        ],
        [
         "20",
         "0.8992",
         "[0.06338197166779014, 0.05589282749969057, 0.008607670366814193, 0.053305027543569646, 0.03449775864582357, 0.002654019822390285, 0.08403950642203803, 0.019255463816222874, 0.009020893274300877, 0.008909408229696186, 0.0023043696201344352, 0.0027790801157792575, 2.7998458349582083e-05, 2.3020478633280677e-05, 0.010203009969721188, 0.0447953480008158, 0.017762546380684457, 0.03316737619492644, 0.014625494783197041, 0.0014281978828614825, 0.01581670664803721, 0.02520382434365949, 0.023678459346213064, 0.006918350268423413, 0.027625604146007853, 0.10829977745410348, 0.01720336711710299, 0.024069730855536396, 0.05368285244986727, 0.00699812209162673, 0.03732710853200296, 0.02030115753602447, 0.04163778868470459, 0.0019337085103446861, 0.005513737683576875, 0.023278695317886053, 0.19941331810701057, 0.002941363422769446, 0.010677721697920615, 0.021044852082919258, 0.0031370665426979755, 0.028159132256515066, 0.022260494014317074, 0.026484997670805456, 0.005977913485744641, 0.018686182916206596, 0.005317498877280275, 0.17380212411602358, 0.003205641941277885, 0.021400810794433192, 0.00947659892800578, 0.018669768952916884]",
         "[0.4945692883895131, 0.35187265917602994, 0.465561797752809, 0.3808988764044944, 0.5142322097378277, 0.547752808988764, 0.5117977528089888, 0.4157303370786517, 0.37565543071161045, 0.5101123595505618, 0.45691011235955054, 0.37397003745318347, 0.499438202247191, 0.4599812734082397, 0.471310861423221, 0.44232209737827716, 0.47473595505617977, 0.48196629213483144, 0.4342696629213483, 0.5074906367041199, 0.46775280898876404, 0.5194756554307116, 0.5110486891385768, 0.4378277153558052, 0.5102996254681648, 0.39925093632958797, 0.5702247191011236, 0.4639138576779026, 0.4574531835205992, 0.39700374531835203, 0.45597378277153555, 0.31928838951310856, 0.5430711610486891, 0.3382022471910112, 0.48164794007490636, 0.6177902621722846, 0.37134831460674156, 0.5318352059925093, 0.600936329588015, 0.4273408239700374, 0.4700374531835206, 0.4447565543071161, 0.4905805243445693, 0.49812734082397003, 0.397191011235955, 0.38108614232209737, 0.5102996254681648, 0.5574906367041198, 0.5395131086142322, 0.5297752808988764, 0.6037453183520599, 0.5097378277153558]",
         "3279",
         "SMI_7473"
        ],
        [
         "21",
         "0.9484",
         "[0.06338197166779014, 0.05589282749969057, 0.008607670366814193, 0.053305027543569646, 0.03449775864582357, 0.002654019822390285, 0.08403950642203803, 0.019255463816222874, 0.009020893274300877, 0.008909408229696186, 0.0023043696201344352, 0.0027790801157792575, 2.7998458349582083e-05, 2.3020478633280677e-05, 0.010203009969721188, 0.0447953480008158, 0.017762546380684457, 0.03316737619492644, 0.014625494783197041, 0.0014281978828614825, 0.01581670664803721, 0.02520382434365949, 0.023678459346213064, 0.006918350268423413, 0.027625604146007853, 0.10829977745410348, 0.01720336711710299, 0.024069730855536396, 0.05368285244986727, 0.00699812209162673, 0.03732710853200296, 0.02030115753602447, 0.04163778868470459, 0.0019337085103446861, 0.005513737683576875, 0.023278695317886053, 0.19941331810701057, 0.002941363422769446, 0.010677721697920615, 0.021044852082919258, 0.0031370665426979755, 0.028159132256515066, 0.022260494014317074, 0.026484997670805456, 0.005977913485744641, 0.018686182916206596, 0.005317498877280275, 0.17380212411602358, 0.003205641941277885, 0.021400810794433192, 0.00947659892800578, 0.018669768952916884]",
         "[0.4945692883895131, 0.35187265917602994, 0.465561797752809, 0.3808988764044944, 0.5142322097378277, 0.547752808988764, 0.5117977528089888, 0.4157303370786517, 0.37565543071161045, 0.5101123595505618, 0.45691011235955054, 0.37397003745318347, 0.499438202247191, 0.4599812734082397, 0.471310861423221, 0.44232209737827716, 0.47473595505617977, 0.48196629213483144, 0.4342696629213483, 0.5074906367041199, 0.46775280898876404, 0.5194756554307116, 0.5110486891385768, 0.4378277153558052, 0.5102996254681648, 0.39925093632958797, 0.5702247191011236, 0.4639138576779026, 0.4574531835205992, 0.39700374531835203, 0.45597378277153555, 0.31928838951310856, 0.5430711610486891, 0.3382022471910112, 0.48164794007490636, 0.6177902621722846, 0.37134831460674156, 0.5318352059925093, 0.600936329588015, 0.4273408239700374, 0.4700374531835206, 0.4447565543071161, 0.4905805243445693, 0.49812734082397003, 0.397191011235955, 0.38108614232209737, 0.5102996254681648, 0.5574906367041198, 0.5395131086142322, 0.5297752808988764, 0.6037453183520599, 0.5097378277153558]",
         "3279",
         "SMI_12992"
        ],
        [
         "22",
         "0.9381",
         "[0.06338197166779014, 0.05589282749969057, 0.008607670366814193, 0.053305027543569646, 0.03449775864582357, 0.002654019822390285, 0.08403950642203803, 0.019255463816222874, 0.009020893274300877, 0.008909408229696186, 0.0023043696201344352, 0.0027790801157792575, 2.7998458349582083e-05, 2.3020478633280677e-05, 0.010203009969721188, 0.0447953480008158, 0.017762546380684457, 0.03316737619492644, 0.014625494783197041, 0.0014281978828614825, 0.01581670664803721, 0.02520382434365949, 0.023678459346213064, 0.006918350268423413, 0.027625604146007853, 0.10829977745410348, 0.01720336711710299, 0.024069730855536396, 0.05368285244986727, 0.00699812209162673, 0.03732710853200296, 0.02030115753602447, 0.04163778868470459, 0.0019337085103446861, 0.005513737683576875, 0.023278695317886053, 0.19941331810701057, 0.002941363422769446, 0.010677721697920615, 0.021044852082919258, 0.0031370665426979755, 0.028159132256515066, 0.022260494014317074, 0.026484997670805456, 0.005977913485744641, 0.018686182916206596, 0.005317498877280275, 0.17380212411602358, 0.003205641941277885, 0.021400810794433192, 0.00947659892800578, 0.018669768952916884]",
         "[0.4945692883895131, 0.35187265917602994, 0.465561797752809, 0.3808988764044944, 0.5142322097378277, 0.547752808988764, 0.5117977528089888, 0.4157303370786517, 0.37565543071161045, 0.5101123595505618, 0.45691011235955054, 0.37397003745318347, 0.499438202247191, 0.4599812734082397, 0.471310861423221, 0.44232209737827716, 0.47473595505617977, 0.48196629213483144, 0.4342696629213483, 0.5074906367041199, 0.46775280898876404, 0.5194756554307116, 0.5110486891385768, 0.4378277153558052, 0.5102996254681648, 0.39925093632958797, 0.5702247191011236, 0.4639138576779026, 0.4574531835205992, 0.39700374531835203, 0.45597378277153555, 0.31928838951310856, 0.5430711610486891, 0.3382022471910112, 0.48164794007490636, 0.6177902621722846, 0.37134831460674156, 0.5318352059925093, 0.600936329588015, 0.4273408239700374, 0.4700374531835206, 0.4447565543071161, 0.4905805243445693, 0.49812734082397003, 0.397191011235955, 0.38108614232209737, 0.5102996254681648, 0.5574906367041198, 0.5395131086142322, 0.5297752808988764, 0.6037453183520599, 0.5097378277153558]",
         "3279",
         "SMI_19449"
        ],
        [
         "23",
         "0.6158",
         "[0.06338197166779014, 0.05589282749969057, 0.008607670366814193, 0.053305027543569646, 0.03449775864582357, 0.002654019822390285, 0.08403950642203803, 0.019255463816222874, 0.009020893274300877, 0.008909408229696186, 0.0023043696201344352, 0.0027790801157792575, 2.7998458349582083e-05, 2.3020478633280677e-05, 0.010203009969721188, 0.0447953480008158, 0.017762546380684457, 0.03316737619492644, 0.014625494783197041, 0.0014281978828614825, 0.01581670664803721, 0.02520382434365949, 0.023678459346213064, 0.006918350268423413, 0.027625604146007853, 0.10829977745410348, 0.01720336711710299, 0.024069730855536396, 0.05368285244986727, 0.00699812209162673, 0.03732710853200296, 0.02030115753602447, 0.04163778868470459, 0.0019337085103446861, 0.005513737683576875, 0.023278695317886053, 0.19941331810701057, 0.002941363422769446, 0.010677721697920615, 0.021044852082919258, 0.0031370665426979755, 0.028159132256515066, 0.022260494014317074, 0.026484997670805456, 0.005977913485744641, 0.018686182916206596, 0.005317498877280275, 0.17380212411602358, 0.003205641941277885, 0.021400810794433192, 0.00947659892800578, 0.018669768952916884]",
         "[0.4945692883895131, 0.35187265917602994, 0.465561797752809, 0.3808988764044944, 0.5142322097378277, 0.547752808988764, 0.5117977528089888, 0.4157303370786517, 0.37565543071161045, 0.5101123595505618, 0.45691011235955054, 0.37397003745318347, 0.499438202247191, 0.4599812734082397, 0.471310861423221, 0.44232209737827716, 0.47473595505617977, 0.48196629213483144, 0.4342696629213483, 0.5074906367041199, 0.46775280898876404, 0.5194756554307116, 0.5110486891385768, 0.4378277153558052, 0.5102996254681648, 0.39925093632958797, 0.5702247191011236, 0.4639138576779026, 0.4574531835205992, 0.39700374531835203, 0.45597378277153555, 0.31928838951310856, 0.5430711610486891, 0.3382022471910112, 0.48164794007490636, 0.6177902621722846, 0.37134831460674156, 0.5318352059925093, 0.600936329588015, 0.4273408239700374, 0.4700374531835206, 0.4447565543071161, 0.4905805243445693, 0.49812734082397003, 0.397191011235955, 0.38108614232209737, 0.5102996254681648, 0.5574906367041198, 0.5395131086142322, 0.5297752808988764, 0.6037453183520599, 0.5097378277153558]",
         "3279",
         "SMI_14356"
        ],
        [
         "24",
         "0.806",
         "[0.06338197166779014, 0.05589282749969057, 0.008607670366814193, 0.053305027543569646, 0.03449775864582357, 0.002654019822390285, 0.08403950642203803, 0.019255463816222874, 0.009020893274300877, 0.008909408229696186, 0.0023043696201344352, 0.0027790801157792575, 2.7998458349582083e-05, 2.3020478633280677e-05, 0.010203009969721188, 0.0447953480008158, 0.017762546380684457, 0.03316737619492644, 0.014625494783197041, 0.0014281978828614825, 0.01581670664803721, 0.02520382434365949, 0.023678459346213064, 0.006918350268423413, 0.027625604146007853, 0.10829977745410348, 0.01720336711710299, 0.024069730855536396, 0.05368285244986727, 0.00699812209162673, 0.03732710853200296, 0.02030115753602447, 0.04163778868470459, 0.0019337085103446861, 0.005513737683576875, 0.023278695317886053, 0.19941331810701057, 0.002941363422769446, 0.010677721697920615, 0.021044852082919258, 0.0031370665426979755, 0.028159132256515066, 0.022260494014317074, 0.026484997670805456, 0.005977913485744641, 0.018686182916206596, 0.005317498877280275, 0.17380212411602358, 0.003205641941277885, 0.021400810794433192, 0.00947659892800578, 0.018669768952916884]",
         "[0.4945692883895131, 0.35187265917602994, 0.465561797752809, 0.3808988764044944, 0.5142322097378277, 0.547752808988764, 0.5117977528089888, 0.4157303370786517, 0.37565543071161045, 0.5101123595505618, 0.45691011235955054, 0.37397003745318347, 0.499438202247191, 0.4599812734082397, 0.471310861423221, 0.44232209737827716, 0.47473595505617977, 0.48196629213483144, 0.4342696629213483, 0.5074906367041199, 0.46775280898876404, 0.5194756554307116, 0.5110486891385768, 0.4378277153558052, 0.5102996254681648, 0.39925093632958797, 0.5702247191011236, 0.4639138576779026, 0.4574531835205992, 0.39700374531835203, 0.45597378277153555, 0.31928838951310856, 0.5430711610486891, 0.3382022471910112, 0.48164794007490636, 0.6177902621722846, 0.37134831460674156, 0.5318352059925093, 0.600936329588015, 0.4273408239700374, 0.4700374531835206, 0.4447565543071161, 0.4905805243445693, 0.49812734082397003, 0.397191011235955, 0.38108614232209737, 0.5102996254681648, 0.5574906367041198, 0.5395131086142322, 0.5297752808988764, 0.6037453183520599, 0.5097378277153558]",
         "3279",
         "SMI_7971"
        ],
        [
         "25",
         "0.8609",
         "[0.06338197166779014, 0.05589282749969057, 0.008607670366814193, 0.053305027543569646, 0.03449775864582357, 0.002654019822390285, 0.08403950642203803, 0.019255463816222874, 0.009020893274300877, 0.008909408229696186, 0.0023043696201344352, 0.0027790801157792575, 2.7998458349582083e-05, 2.3020478633280677e-05, 0.010203009969721188, 0.0447953480008158, 0.017762546380684457, 0.03316737619492644, 0.014625494783197041, 0.0014281978828614825, 0.01581670664803721, 0.02520382434365949, 0.023678459346213064, 0.006918350268423413, 0.027625604146007853, 0.10829977745410348, 0.01720336711710299, 0.024069730855536396, 0.05368285244986727, 0.00699812209162673, 0.03732710853200296, 0.02030115753602447, 0.04163778868470459, 0.0019337085103446861, 0.005513737683576875, 0.023278695317886053, 0.19941331810701057, 0.002941363422769446, 0.010677721697920615, 0.021044852082919258, 0.0031370665426979755, 0.028159132256515066, 0.022260494014317074, 0.026484997670805456, 0.005977913485744641, 0.018686182916206596, 0.005317498877280275, 0.17380212411602358, 0.003205641941277885, 0.021400810794433192, 0.00947659892800578, 0.018669768952916884]",
         "[0.4945692883895131, 0.35187265917602994, 0.465561797752809, 0.3808988764044944, 0.5142322097378277, 0.547752808988764, 0.5117977528089888, 0.4157303370786517, 0.37565543071161045, 0.5101123595505618, 0.45691011235955054, 0.37397003745318347, 0.499438202247191, 0.4599812734082397, 0.471310861423221, 0.44232209737827716, 0.47473595505617977, 0.48196629213483144, 0.4342696629213483, 0.5074906367041199, 0.46775280898876404, 0.5194756554307116, 0.5110486891385768, 0.4378277153558052, 0.5102996254681648, 0.39925093632958797, 0.5702247191011236, 0.4639138576779026, 0.4574531835205992, 0.39700374531835203, 0.45597378277153555, 0.31928838951310856, 0.5430711610486891, 0.3382022471910112, 0.48164794007490636, 0.6177902621722846, 0.37134831460674156, 0.5318352059925093, 0.600936329588015, 0.4273408239700374, 0.4700374531835206, 0.4447565543071161, 0.4905805243445693, 0.49812734082397003, 0.397191011235955, 0.38108614232209737, 0.5102996254681648, 0.5574906367041198, 0.5395131086142322, 0.5297752808988764, 0.6037453183520599, 0.5097378277153558]",
         "3279",
         "SMI_5060"
        ],
        [
         "26",
         "0.4694",
         "[0.06338197166779014, 0.05589282749969057, 0.008607670366814193, 0.053305027543569646, 0.03449775864582357, 0.002654019822390285, 0.08403950642203803, 0.019255463816222874, 0.009020893274300877, 0.008909408229696186, 0.0023043696201344352, 0.0027790801157792575, 2.7998458349582083e-05, 2.3020478633280677e-05, 0.010203009969721188, 0.0447953480008158, 0.017762546380684457, 0.03316737619492644, 0.014625494783197041, 0.0014281978828614825, 0.01581670664803721, 0.02520382434365949, 0.023678459346213064, 0.006918350268423413, 0.027625604146007853, 0.10829977745410348, 0.01720336711710299, 0.024069730855536396, 0.05368285244986727, 0.00699812209162673, 0.03732710853200296, 0.02030115753602447, 0.04163778868470459, 0.0019337085103446861, 0.005513737683576875, 0.023278695317886053, 0.19941331810701057, 0.002941363422769446, 0.010677721697920615, 0.021044852082919258, 0.0031370665426979755, 0.028159132256515066, 0.022260494014317074, 0.026484997670805456, 0.005977913485744641, 0.018686182916206596, 0.005317498877280275, 0.17380212411602358, 0.003205641941277885, 0.021400810794433192, 0.00947659892800578, 0.018669768952916884]",
         "[0.4945692883895131, 0.35187265917602994, 0.465561797752809, 0.3808988764044944, 0.5142322097378277, 0.547752808988764, 0.5117977528089888, 0.4157303370786517, 0.37565543071161045, 0.5101123595505618, 0.45691011235955054, 0.37397003745318347, 0.499438202247191, 0.4599812734082397, 0.471310861423221, 0.44232209737827716, 0.47473595505617977, 0.48196629213483144, 0.4342696629213483, 0.5074906367041199, 0.46775280898876404, 0.5194756554307116, 0.5110486891385768, 0.4378277153558052, 0.5102996254681648, 0.39925093632958797, 0.5702247191011236, 0.4639138576779026, 0.4574531835205992, 0.39700374531835203, 0.45597378277153555, 0.31928838951310856, 0.5430711610486891, 0.3382022471910112, 0.48164794007490636, 0.6177902621722846, 0.37134831460674156, 0.5318352059925093, 0.600936329588015, 0.4273408239700374, 0.4700374531835206, 0.4447565543071161, 0.4905805243445693, 0.49812734082397003, 0.397191011235955, 0.38108614232209737, 0.5102996254681648, 0.5574906367041198, 0.5395131086142322, 0.5297752808988764, 0.6037453183520599, 0.5097378277153558]",
         "3279",
         "SMI_40111"
        ],
        [
         "27",
         "0.5821",
         "[0.06338197166779014, 0.05589282749969057, 0.008607670366814193, 0.053305027543569646, 0.03449775864582357, 0.002654019822390285, 0.08403950642203803, 0.019255463816222874, 0.009020893274300877, 0.008909408229696186, 0.0023043696201344352, 0.0027790801157792575, 2.7998458349582083e-05, 2.3020478633280677e-05, 0.010203009969721188, 0.0447953480008158, 0.017762546380684457, 0.03316737619492644, 0.014625494783197041, 0.0014281978828614825, 0.01581670664803721, 0.02520382434365949, 0.023678459346213064, 0.006918350268423413, 0.027625604146007853, 0.10829977745410348, 0.01720336711710299, 0.024069730855536396, 0.05368285244986727, 0.00699812209162673, 0.03732710853200296, 0.02030115753602447, 0.04163778868470459, 0.0019337085103446861, 0.005513737683576875, 0.023278695317886053, 0.19941331810701057, 0.002941363422769446, 0.010677721697920615, 0.021044852082919258, 0.0031370665426979755, 0.028159132256515066, 0.022260494014317074, 0.026484997670805456, 0.005977913485744641, 0.018686182916206596, 0.005317498877280275, 0.17380212411602358, 0.003205641941277885, 0.021400810794433192, 0.00947659892800578, 0.018669768952916884]",
         "[0.4945692883895131, 0.35187265917602994, 0.465561797752809, 0.3808988764044944, 0.5142322097378277, 0.547752808988764, 0.5117977528089888, 0.4157303370786517, 0.37565543071161045, 0.5101123595505618, 0.45691011235955054, 0.37397003745318347, 0.499438202247191, 0.4599812734082397, 0.471310861423221, 0.44232209737827716, 0.47473595505617977, 0.48196629213483144, 0.4342696629213483, 0.5074906367041199, 0.46775280898876404, 0.5194756554307116, 0.5110486891385768, 0.4378277153558052, 0.5102996254681648, 0.39925093632958797, 0.5702247191011236, 0.4639138576779026, 0.4574531835205992, 0.39700374531835203, 0.45597378277153555, 0.31928838951310856, 0.5430711610486891, 0.3382022471910112, 0.48164794007490636, 0.6177902621722846, 0.37134831460674156, 0.5318352059925093, 0.600936329588015, 0.4273408239700374, 0.4700374531835206, 0.4447565543071161, 0.4905805243445693, 0.49812734082397003, 0.397191011235955, 0.38108614232209737, 0.5102996254681648, 0.5574906367041198, 0.5395131086142322, 0.5297752808988764, 0.6037453183520599, 0.5097378277153558]",
         "3279",
         "SMI_31077"
        ],
        [
         "28",
         "0.2446",
         "[0.06338197166779014, 0.05589282749969057, 0.008607670366814193, 0.053305027543569646, 0.03449775864582357, 0.002654019822390285, 0.08403950642203803, 0.019255463816222874, 0.009020893274300877, 0.008909408229696186, 0.0023043696201344352, 0.0027790801157792575, 2.7998458349582083e-05, 2.3020478633280677e-05, 0.010203009969721188, 0.0447953480008158, 0.017762546380684457, 0.03316737619492644, 0.014625494783197041, 0.0014281978828614825, 0.01581670664803721, 0.02520382434365949, 0.023678459346213064, 0.006918350268423413, 0.027625604146007853, 0.10829977745410348, 0.01720336711710299, 0.024069730855536396, 0.05368285244986727, 0.00699812209162673, 0.03732710853200296, 0.02030115753602447, 0.04163778868470459, 0.0019337085103446861, 0.005513737683576875, 0.023278695317886053, 0.19941331810701057, 0.002941363422769446, 0.010677721697920615, 0.021044852082919258, 0.0031370665426979755, 0.028159132256515066, 0.022260494014317074, 0.026484997670805456, 0.005977913485744641, 0.018686182916206596, 0.005317498877280275, 0.17380212411602358, 0.003205641941277885, 0.021400810794433192, 0.00947659892800578, 0.018669768952916884]",
         "[0.4945692883895131, 0.35187265917602994, 0.465561797752809, 0.3808988764044944, 0.5142322097378277, 0.547752808988764, 0.5117977528089888, 0.4157303370786517, 0.37565543071161045, 0.5101123595505618, 0.45691011235955054, 0.37397003745318347, 0.499438202247191, 0.4599812734082397, 0.471310861423221, 0.44232209737827716, 0.47473595505617977, 0.48196629213483144, 0.4342696629213483, 0.5074906367041199, 0.46775280898876404, 0.5194756554307116, 0.5110486891385768, 0.4378277153558052, 0.5102996254681648, 0.39925093632958797, 0.5702247191011236, 0.4639138576779026, 0.4574531835205992, 0.39700374531835203, 0.45597378277153555, 0.31928838951310856, 0.5430711610486891, 0.3382022471910112, 0.48164794007490636, 0.6177902621722846, 0.37134831460674156, 0.5318352059925093, 0.600936329588015, 0.4273408239700374, 0.4700374531835206, 0.4447565543071161, 0.4905805243445693, 0.49812734082397003, 0.397191011235955, 0.38108614232209737, 0.5102996254681648, 0.5574906367041198, 0.5395131086142322, 0.5297752808988764, 0.6037453183520599, 0.5097378277153558]",
         "3279",
         "SMI_33555"
        ],
        [
         "29",
         "0.6938",
         "[0.06338197166779014, 0.05589282749969057, 0.008607670366814193, 0.053305027543569646, 0.03449775864582357, 0.002654019822390285, 0.08403950642203803, 0.019255463816222874, 0.009020893274300877, 0.008909408229696186, 0.0023043696201344352, 0.0027790801157792575, 2.7998458349582083e-05, 2.3020478633280677e-05, 0.010203009969721188, 0.0447953480008158, 0.017762546380684457, 0.03316737619492644, 0.014625494783197041, 0.0014281978828614825, 0.01581670664803721, 0.02520382434365949, 0.023678459346213064, 0.006918350268423413, 0.027625604146007853, 0.10829977745410348, 0.01720336711710299, 0.024069730855536396, 0.05368285244986727, 0.00699812209162673, 0.03732710853200296, 0.02030115753602447, 0.04163778868470459, 0.0019337085103446861, 0.005513737683576875, 0.023278695317886053, 0.19941331810701057, 0.002941363422769446, 0.010677721697920615, 0.021044852082919258, 0.0031370665426979755, 0.028159132256515066, 0.022260494014317074, 0.026484997670805456, 0.005977913485744641, 0.018686182916206596, 0.005317498877280275, 0.17380212411602358, 0.003205641941277885, 0.021400810794433192, 0.00947659892800578, 0.018669768952916884]",
         "[0.4945692883895131, 0.35187265917602994, 0.465561797752809, 0.3808988764044944, 0.5142322097378277, 0.547752808988764, 0.5117977528089888, 0.4157303370786517, 0.37565543071161045, 0.5101123595505618, 0.45691011235955054, 0.37397003745318347, 0.499438202247191, 0.4599812734082397, 0.471310861423221, 0.44232209737827716, 0.47473595505617977, 0.48196629213483144, 0.4342696629213483, 0.5074906367041199, 0.46775280898876404, 0.5194756554307116, 0.5110486891385768, 0.4378277153558052, 0.5102996254681648, 0.39925093632958797, 0.5702247191011236, 0.4639138576779026, 0.4574531835205992, 0.39700374531835203, 0.45597378277153555, 0.31928838951310856, 0.5430711610486891, 0.3382022471910112, 0.48164794007490636, 0.6177902621722846, 0.37134831460674156, 0.5318352059925093, 0.600936329588015, 0.4273408239700374, 0.4700374531835206, 0.4447565543071161, 0.4905805243445693, 0.49812734082397003, 0.397191011235955, 0.38108614232209737, 0.5102996254681648, 0.5574906367041198, 0.5395131086142322, 0.5297752808988764, 0.6037453183520599, 0.5097378277153558]",
         "3279",
         "SMI_14902"
        ],
        [
         "30",
         "0.0001",
         "[0.06338197166779014, 0.05589282749969057, 0.008607670366814193, 0.053305027543569646, 0.03449775864582357, 0.002654019822390285, 0.08403950642203803, 0.019255463816222874, 0.009020893274300877, 0.008909408229696186, 0.0023043696201344352, 0.0027790801157792575, 2.7998458349582083e-05, 2.3020478633280677e-05, 0.010203009969721188, 0.0447953480008158, 0.017762546380684457, 0.03316737619492644, 0.014625494783197041, 0.0014281978828614825, 0.01581670664803721, 0.02520382434365949, 0.023678459346213064, 0.006918350268423413, 0.027625604146007853, 0.10829977745410348, 0.01720336711710299, 0.024069730855536396, 0.05368285244986727, 0.00699812209162673, 0.03732710853200296, 0.02030115753602447, 0.04163778868470459, 0.0019337085103446861, 0.005513737683576875, 0.023278695317886053, 0.19941331810701057, 0.002941363422769446, 0.010677721697920615, 0.021044852082919258, 0.0031370665426979755, 0.028159132256515066, 0.022260494014317074, 0.026484997670805456, 0.005977913485744641, 0.018686182916206596, 0.005317498877280275, 0.17380212411602358, 0.003205641941277885, 0.021400810794433192, 0.00947659892800578, 0.018669768952916884]",
         "[0.4945692883895131, 0.35187265917602994, 0.465561797752809, 0.3808988764044944, 0.5142322097378277, 0.547752808988764, 0.5117977528089888, 0.4157303370786517, 0.37565543071161045, 0.5101123595505618, 0.45691011235955054, 0.37397003745318347, 0.499438202247191, 0.4599812734082397, 0.471310861423221, 0.44232209737827716, 0.47473595505617977, 0.48196629213483144, 0.4342696629213483, 0.5074906367041199, 0.46775280898876404, 0.5194756554307116, 0.5110486891385768, 0.4378277153558052, 0.5102996254681648, 0.39925093632958797, 0.5702247191011236, 0.4639138576779026, 0.4574531835205992, 0.39700374531835203, 0.45597378277153555, 0.31928838951310856, 0.5430711610486891, 0.3382022471910112, 0.48164794007490636, 0.6177902621722846, 0.37134831460674156, 0.5318352059925093, 0.600936329588015, 0.4273408239700374, 0.4700374531835206, 0.4447565543071161, 0.4905805243445693, 0.49812734082397003, 0.397191011235955, 0.38108614232209737, 0.5102996254681648, 0.5574906367041198, 0.5395131086142322, 0.5297752808988764, 0.6037453183520599, 0.5097378277153558]",
         "3279",
         "SMI_52919"
        ],
        [
         "31",
         "0.4024",
         "[0.06338197166779014, 0.05589282749969057, 0.008607670366814193, 0.053305027543569646, 0.03449775864582357, 0.002654019822390285, 0.08403950642203803, 0.019255463816222874, 0.009020893274300877, 0.008909408229696186, 0.0023043696201344352, 0.0027790801157792575, 2.7998458349582083e-05, 2.3020478633280677e-05, 0.010203009969721188, 0.0447953480008158, 0.017762546380684457, 0.03316737619492644, 0.014625494783197041, 0.0014281978828614825, 0.01581670664803721, 0.02520382434365949, 0.023678459346213064, 0.006918350268423413, 0.027625604146007853, 0.10829977745410348, 0.01720336711710299, 0.024069730855536396, 0.05368285244986727, 0.00699812209162673, 0.03732710853200296, 0.02030115753602447, 0.04163778868470459, 0.0019337085103446861, 0.005513737683576875, 0.023278695317886053, 0.19941331810701057, 0.002941363422769446, 0.010677721697920615, 0.021044852082919258, 0.0031370665426979755, 0.028159132256515066, 0.022260494014317074, 0.026484997670805456, 0.005977913485744641, 0.018686182916206596, 0.005317498877280275, 0.17380212411602358, 0.003205641941277885, 0.021400810794433192, 0.00947659892800578, 0.018669768952916884]",
         "[0.4945692883895131, 0.35187265917602994, 0.465561797752809, 0.3808988764044944, 0.5142322097378277, 0.547752808988764, 0.5117977528089888, 0.4157303370786517, 0.37565543071161045, 0.5101123595505618, 0.45691011235955054, 0.37397003745318347, 0.499438202247191, 0.4599812734082397, 0.471310861423221, 0.44232209737827716, 0.47473595505617977, 0.48196629213483144, 0.4342696629213483, 0.5074906367041199, 0.46775280898876404, 0.5194756554307116, 0.5110486891385768, 0.4378277153558052, 0.5102996254681648, 0.39925093632958797, 0.5702247191011236, 0.4639138576779026, 0.4574531835205992, 0.39700374531835203, 0.45597378277153555, 0.31928838951310856, 0.5430711610486891, 0.3382022471910112, 0.48164794007490636, 0.6177902621722846, 0.37134831460674156, 0.5318352059925093, 0.600936329588015, 0.4273408239700374, 0.4700374531835206, 0.4447565543071161, 0.4905805243445693, 0.49812734082397003, 0.397191011235955, 0.38108614232209737, 0.5102996254681648, 0.5574906367041198, 0.5395131086142322, 0.5297752808988764, 0.6037453183520599, 0.5097378277153558]",
         "3279",
         "SMI_32681"
        ],
        [
         "32",
         "0.8752",
         "[0.06338197166779014, 0.05589282749969057, 0.008607670366814193, 0.053305027543569646, 0.03449775864582357, 0.002654019822390285, 0.08403950642203803, 0.019255463816222874, 0.009020893274300877, 0.008909408229696186, 0.0023043696201344352, 0.0027790801157792575, 2.7998458349582083e-05, 2.3020478633280677e-05, 0.010203009969721188, 0.0447953480008158, 0.017762546380684457, 0.03316737619492644, 0.014625494783197041, 0.0014281978828614825, 0.01581670664803721, 0.02520382434365949, 0.023678459346213064, 0.006918350268423413, 0.027625604146007853, 0.10829977745410348, 0.01720336711710299, 0.024069730855536396, 0.05368285244986727, 0.00699812209162673, 0.03732710853200296, 0.02030115753602447, 0.04163778868470459, 0.0019337085103446861, 0.005513737683576875, 0.023278695317886053, 0.19941331810701057, 0.002941363422769446, 0.010677721697920615, 0.021044852082919258, 0.0031370665426979755, 0.028159132256515066, 0.022260494014317074, 0.026484997670805456, 0.005977913485744641, 0.018686182916206596, 0.005317498877280275, 0.17380212411602358, 0.003205641941277885, 0.021400810794433192, 0.00947659892800578, 0.018669768952916884]",
         "[0.4945692883895131, 0.35187265917602994, 0.465561797752809, 0.3808988764044944, 0.5142322097378277, 0.547752808988764, 0.5117977528089888, 0.4157303370786517, 0.37565543071161045, 0.5101123595505618, 0.45691011235955054, 0.37397003745318347, 0.499438202247191, 0.4599812734082397, 0.471310861423221, 0.44232209737827716, 0.47473595505617977, 0.48196629213483144, 0.4342696629213483, 0.5074906367041199, 0.46775280898876404, 0.5194756554307116, 0.5110486891385768, 0.4378277153558052, 0.5102996254681648, 0.39925093632958797, 0.5702247191011236, 0.4639138576779026, 0.4574531835205992, 0.39700374531835203, 0.45597378277153555, 0.31928838951310856, 0.5430711610486891, 0.3382022471910112, 0.48164794007490636, 0.6177902621722846, 0.37134831460674156, 0.5318352059925093, 0.600936329588015, 0.4273408239700374, 0.4700374531835206, 0.4447565543071161, 0.4905805243445693, 0.49812734082397003, 0.397191011235955, 0.38108614232209737, 0.5102996254681648, 0.5574906367041198, 0.5395131086142322, 0.5297752808988764, 0.6037453183520599, 0.5097378277153558]",
         "3279",
         "SMI_23119"
        ],
        [
         "33",
         "0.9152",
         "[0.06338197166779014, 0.05589282749969057, 0.008607670366814193, 0.053305027543569646, 0.03449775864582357, 0.002654019822390285, 0.08403950642203803, 0.019255463816222874, 0.009020893274300877, 0.008909408229696186, 0.0023043696201344352, 0.0027790801157792575, 2.7998458349582083e-05, 2.3020478633280677e-05, 0.010203009969721188, 0.0447953480008158, 0.017762546380684457, 0.03316737619492644, 0.014625494783197041, 0.0014281978828614825, 0.01581670664803721, 0.02520382434365949, 0.023678459346213064, 0.006918350268423413, 0.027625604146007853, 0.10829977745410348, 0.01720336711710299, 0.024069730855536396, 0.05368285244986727, 0.00699812209162673, 0.03732710853200296, 0.02030115753602447, 0.04163778868470459, 0.0019337085103446861, 0.005513737683576875, 0.023278695317886053, 0.19941331810701057, 0.002941363422769446, 0.010677721697920615, 0.021044852082919258, 0.0031370665426979755, 0.028159132256515066, 0.022260494014317074, 0.026484997670805456, 0.005977913485744641, 0.018686182916206596, 0.005317498877280275, 0.17380212411602358, 0.003205641941277885, 0.021400810794433192, 0.00947659892800578, 0.018669768952916884]",
         "[0.4945692883895131, 0.35187265917602994, 0.465561797752809, 0.3808988764044944, 0.5142322097378277, 0.547752808988764, 0.5117977528089888, 0.4157303370786517, 0.37565543071161045, 0.5101123595505618, 0.45691011235955054, 0.37397003745318347, 0.499438202247191, 0.4599812734082397, 0.471310861423221, 0.44232209737827716, 0.47473595505617977, 0.48196629213483144, 0.4342696629213483, 0.5074906367041199, 0.46775280898876404, 0.5194756554307116, 0.5110486891385768, 0.4378277153558052, 0.5102996254681648, 0.39925093632958797, 0.5702247191011236, 0.4639138576779026, 0.4574531835205992, 0.39700374531835203, 0.45597378277153555, 0.31928838951310856, 0.5430711610486891, 0.3382022471910112, 0.48164794007490636, 0.6177902621722846, 0.37134831460674156, 0.5318352059925093, 0.600936329588015, 0.4273408239700374, 0.4700374531835206, 0.4447565543071161, 0.4905805243445693, 0.49812734082397003, 0.397191011235955, 0.38108614232209737, 0.5102996254681648, 0.5574906367041198, 0.5395131086142322, 0.5297752808988764, 0.6037453183520599, 0.5097378277153558]",
         "3279",
         "SMI_10282"
        ],
        [
         "34",
         "0.4071",
         "[0.06338197166779014, 0.05589282749969057, 0.008607670366814193, 0.053305027543569646, 0.03449775864582357, 0.002654019822390285, 0.08403950642203803, 0.019255463816222874, 0.009020893274300877, 0.008909408229696186, 0.0023043696201344352, 0.0027790801157792575, 2.7998458349582083e-05, 2.3020478633280677e-05, 0.010203009969721188, 0.0447953480008158, 0.017762546380684457, 0.03316737619492644, 0.014625494783197041, 0.0014281978828614825, 0.01581670664803721, 0.02520382434365949, 0.023678459346213064, 0.006918350268423413, 0.027625604146007853, 0.10829977745410348, 0.01720336711710299, 0.024069730855536396, 0.05368285244986727, 0.00699812209162673, 0.03732710853200296, 0.02030115753602447, 0.04163778868470459, 0.0019337085103446861, 0.005513737683576875, 0.023278695317886053, 0.19941331810701057, 0.002941363422769446, 0.010677721697920615, 0.021044852082919258, 0.0031370665426979755, 0.028159132256515066, 0.022260494014317074, 0.026484997670805456, 0.005977913485744641, 0.018686182916206596, 0.005317498877280275, 0.17380212411602358, 0.003205641941277885, 0.021400810794433192, 0.00947659892800578, 0.018669768952916884]",
         "[0.4945692883895131, 0.35187265917602994, 0.465561797752809, 0.3808988764044944, 0.5142322097378277, 0.547752808988764, 0.5117977528089888, 0.4157303370786517, 0.37565543071161045, 0.5101123595505618, 0.45691011235955054, 0.37397003745318347, 0.499438202247191, 0.4599812734082397, 0.471310861423221, 0.44232209737827716, 0.47473595505617977, 0.48196629213483144, 0.4342696629213483, 0.5074906367041199, 0.46775280898876404, 0.5194756554307116, 0.5110486891385768, 0.4378277153558052, 0.5102996254681648, 0.39925093632958797, 0.5702247191011236, 0.4639138576779026, 0.4574531835205992, 0.39700374531835203, 0.45597378277153555, 0.31928838951310856, 0.5430711610486891, 0.3382022471910112, 0.48164794007490636, 0.6177902621722846, 0.37134831460674156, 0.5318352059925093, 0.600936329588015, 0.4273408239700374, 0.4700374531835206, 0.4447565543071161, 0.4905805243445693, 0.49812734082397003, 0.397191011235955, 0.38108614232209737, 0.5102996254681648, 0.5574906367041198, 0.5395131086142322, 0.5297752808988764, 0.6037453183520599, 0.5097378277153558]",
         "3279",
         "SMI_53245"
        ],
        [
         "35",
         "1.0",
         "[0.06338197166779014, 0.05589282749969057, 0.008607670366814193, 0.053305027543569646, 0.03449775864582357, 0.002654019822390285, 0.08403950642203803, 0.019255463816222874, 0.009020893274300877, 0.008909408229696186, 0.0023043696201344352, 0.0027790801157792575, 2.7998458349582083e-05, 2.3020478633280677e-05, 0.010203009969721188, 0.0447953480008158, 0.017762546380684457, 0.03316737619492644, 0.014625494783197041, 0.0014281978828614825, 0.01581670664803721, 0.02520382434365949, 0.023678459346213064, 0.006918350268423413, 0.027625604146007853, 0.10829977745410348, 0.01720336711710299, 0.024069730855536396, 0.05368285244986727, 0.00699812209162673, 0.03732710853200296, 0.02030115753602447, 0.04163778868470459, 0.0019337085103446861, 0.005513737683576875, 0.023278695317886053, 0.19941331810701057, 0.002941363422769446, 0.010677721697920615, 0.021044852082919258, 0.0031370665426979755, 0.028159132256515066, 0.022260494014317074, 0.026484997670805456, 0.005977913485744641, 0.018686182916206596, 0.005317498877280275, 0.17380212411602358, 0.003205641941277885, 0.021400810794433192, 0.00947659892800578, 0.018669768952916884]",
         "[0.4945692883895131, 0.35187265917602994, 0.465561797752809, 0.3808988764044944, 0.5142322097378277, 0.547752808988764, 0.5117977528089888, 0.4157303370786517, 0.37565543071161045, 0.5101123595505618, 0.45691011235955054, 0.37397003745318347, 0.499438202247191, 0.4599812734082397, 0.471310861423221, 0.44232209737827716, 0.47473595505617977, 0.48196629213483144, 0.4342696629213483, 0.5074906367041199, 0.46775280898876404, 0.5194756554307116, 0.5110486891385768, 0.4378277153558052, 0.5102996254681648, 0.39925093632958797, 0.5702247191011236, 0.4639138576779026, 0.4574531835205992, 0.39700374531835203, 0.45597378277153555, 0.31928838951310856, 0.5430711610486891, 0.3382022471910112, 0.48164794007490636, 0.6177902621722846, 0.37134831460674156, 0.5318352059925093, 0.600936329588015, 0.4273408239700374, 0.4700374531835206, 0.4447565543071161, 0.4905805243445693, 0.49812734082397003, 0.397191011235955, 0.38108614232209737, 0.5102996254681648, 0.5574906367041198, 0.5395131086142322, 0.5297752808988764, 0.6037453183520599, 0.5097378277153558]",
         "3279",
         "SMI_19534"
        ],
        [
         "36",
         "0.7663",
         "[0.06338197166779014, 0.05589282749969057, 0.008607670366814193, 0.053305027543569646, 0.03449775864582357, 0.002654019822390285, 0.08403950642203803, 0.019255463816222874, 0.009020893274300877, 0.008909408229696186, 0.0023043696201344352, 0.0027790801157792575, 2.7998458349582083e-05, 2.3020478633280677e-05, 0.010203009969721188, 0.0447953480008158, 0.017762546380684457, 0.03316737619492644, 0.014625494783197041, 0.0014281978828614825, 0.01581670664803721, 0.02520382434365949, 0.023678459346213064, 0.006918350268423413, 0.027625604146007853, 0.10829977745410348, 0.01720336711710299, 0.024069730855536396, 0.05368285244986727, 0.00699812209162673, 0.03732710853200296, 0.02030115753602447, 0.04163778868470459, 0.0019337085103446861, 0.005513737683576875, 0.023278695317886053, 0.19941331810701057, 0.002941363422769446, 0.010677721697920615, 0.021044852082919258, 0.0031370665426979755, 0.028159132256515066, 0.022260494014317074, 0.026484997670805456, 0.005977913485744641, 0.018686182916206596, 0.005317498877280275, 0.17380212411602358, 0.003205641941277885, 0.021400810794433192, 0.00947659892800578, 0.018669768952916884]",
         "[0.4945692883895131, 0.35187265917602994, 0.465561797752809, 0.3808988764044944, 0.5142322097378277, 0.547752808988764, 0.5117977528089888, 0.4157303370786517, 0.37565543071161045, 0.5101123595505618, 0.45691011235955054, 0.37397003745318347, 0.499438202247191, 0.4599812734082397, 0.471310861423221, 0.44232209737827716, 0.47473595505617977, 0.48196629213483144, 0.4342696629213483, 0.5074906367041199, 0.46775280898876404, 0.5194756554307116, 0.5110486891385768, 0.4378277153558052, 0.5102996254681648, 0.39925093632958797, 0.5702247191011236, 0.4639138576779026, 0.4574531835205992, 0.39700374531835203, 0.45597378277153555, 0.31928838951310856, 0.5430711610486891, 0.3382022471910112, 0.48164794007490636, 0.6177902621722846, 0.37134831460674156, 0.5318352059925093, 0.600936329588015, 0.4273408239700374, 0.4700374531835206, 0.4447565543071161, 0.4905805243445693, 0.49812734082397003, 0.397191011235955, 0.38108614232209737, 0.5102996254681648, 0.5574906367041198, 0.5395131086142322, 0.5297752808988764, 0.6037453183520599, 0.5097378277153558]",
         "3279",
         "SMI_20022"
        ],
        [
         "37",
         "0.8257",
         "[0.06338197166779014, 0.05589282749969057, 0.008607670366814193, 0.053305027543569646, 0.03449775864582357, 0.002654019822390285, 0.08403950642203803, 0.019255463816222874, 0.009020893274300877, 0.008909408229696186, 0.0023043696201344352, 0.0027790801157792575, 2.7998458349582083e-05, 2.3020478633280677e-05, 0.010203009969721188, 0.0447953480008158, 0.017762546380684457, 0.03316737619492644, 0.014625494783197041, 0.0014281978828614825, 0.01581670664803721, 0.02520382434365949, 0.023678459346213064, 0.006918350268423413, 0.027625604146007853, 0.10829977745410348, 0.01720336711710299, 0.024069730855536396, 0.05368285244986727, 0.00699812209162673, 0.03732710853200296, 0.02030115753602447, 0.04163778868470459, 0.0019337085103446861, 0.005513737683576875, 0.023278695317886053, 0.19941331810701057, 0.002941363422769446, 0.010677721697920615, 0.021044852082919258, 0.0031370665426979755, 0.028159132256515066, 0.022260494014317074, 0.026484997670805456, 0.005977913485744641, 0.018686182916206596, 0.005317498877280275, 0.17380212411602358, 0.003205641941277885, 0.021400810794433192, 0.00947659892800578, 0.018669768952916884]",
         "[0.4945692883895131, 0.35187265917602994, 0.465561797752809, 0.3808988764044944, 0.5142322097378277, 0.547752808988764, 0.5117977528089888, 0.4157303370786517, 0.37565543071161045, 0.5101123595505618, 0.45691011235955054, 0.37397003745318347, 0.499438202247191, 0.4599812734082397, 0.471310861423221, 0.44232209737827716, 0.47473595505617977, 0.48196629213483144, 0.4342696629213483, 0.5074906367041199, 0.46775280898876404, 0.5194756554307116, 0.5110486891385768, 0.4378277153558052, 0.5102996254681648, 0.39925093632958797, 0.5702247191011236, 0.4639138576779026, 0.4574531835205992, 0.39700374531835203, 0.45597378277153555, 0.31928838951310856, 0.5430711610486891, 0.3382022471910112, 0.48164794007490636, 0.6177902621722846, 0.37134831460674156, 0.5318352059925093, 0.600936329588015, 0.4273408239700374, 0.4700374531835206, 0.4447565543071161, 0.4905805243445693, 0.49812734082397003, 0.397191011235955, 0.38108614232209737, 0.5102996254681648, 0.5574906367041198, 0.5395131086142322, 0.5297752808988764, 0.6037453183520599, 0.5097378277153558]",
         "3279",
         "SMI_25125"
        ],
        [
         "38",
         "0.4334",
         "[0.06338197166779014, 0.05589282749969057, 0.008607670366814193, 0.053305027543569646, 0.03449775864582357, 0.002654019822390285, 0.08403950642203803, 0.019255463816222874, 0.009020893274300877, 0.008909408229696186, 0.0023043696201344352, 0.0027790801157792575, 2.7998458349582083e-05, 2.3020478633280677e-05, 0.010203009969721188, 0.0447953480008158, 0.017762546380684457, 0.03316737619492644, 0.014625494783197041, 0.0014281978828614825, 0.01581670664803721, 0.02520382434365949, 0.023678459346213064, 0.006918350268423413, 0.027625604146007853, 0.10829977745410348, 0.01720336711710299, 0.024069730855536396, 0.05368285244986727, 0.00699812209162673, 0.03732710853200296, 0.02030115753602447, 0.04163778868470459, 0.0019337085103446861, 0.005513737683576875, 0.023278695317886053, 0.19941331810701057, 0.002941363422769446, 0.010677721697920615, 0.021044852082919258, 0.0031370665426979755, 0.028159132256515066, 0.022260494014317074, 0.026484997670805456, 0.005977913485744641, 0.018686182916206596, 0.005317498877280275, 0.17380212411602358, 0.003205641941277885, 0.021400810794433192, 0.00947659892800578, 0.018669768952916884]",
         "[0.4945692883895131, 0.35187265917602994, 0.465561797752809, 0.3808988764044944, 0.5142322097378277, 0.547752808988764, 0.5117977528089888, 0.4157303370786517, 0.37565543071161045, 0.5101123595505618, 0.45691011235955054, 0.37397003745318347, 0.499438202247191, 0.4599812734082397, 0.471310861423221, 0.44232209737827716, 0.47473595505617977, 0.48196629213483144, 0.4342696629213483, 0.5074906367041199, 0.46775280898876404, 0.5194756554307116, 0.5110486891385768, 0.4378277153558052, 0.5102996254681648, 0.39925093632958797, 0.5702247191011236, 0.4639138576779026, 0.4574531835205992, 0.39700374531835203, 0.45597378277153555, 0.31928838951310856, 0.5430711610486891, 0.3382022471910112, 0.48164794007490636, 0.6177902621722846, 0.37134831460674156, 0.5318352059925093, 0.600936329588015, 0.4273408239700374, 0.4700374531835206, 0.4447565543071161, 0.4905805243445693, 0.49812734082397003, 0.397191011235955, 0.38108614232209737, 0.5102996254681648, 0.5574906367041198, 0.5395131086142322, 0.5297752808988764, 0.6037453183520599, 0.5097378277153558]",
         "3279",
         "SMI_13815"
        ],
        [
         "39",
         "0.4876",
         "[0.06338197166779014, 0.05589282749969057, 0.008607670366814193, 0.053305027543569646, 0.03449775864582357, 0.002654019822390285, 0.08403950642203803, 0.019255463816222874, 0.009020893274300877, 0.008909408229696186, 0.0023043696201344352, 0.0027790801157792575, 2.7998458349582083e-05, 2.3020478633280677e-05, 0.010203009969721188, 0.0447953480008158, 0.017762546380684457, 0.03316737619492644, 0.014625494783197041, 0.0014281978828614825, 0.01581670664803721, 0.02520382434365949, 0.023678459346213064, 0.006918350268423413, 0.027625604146007853, 0.10829977745410348, 0.01720336711710299, 0.024069730855536396, 0.05368285244986727, 0.00699812209162673, 0.03732710853200296, 0.02030115753602447, 0.04163778868470459, 0.0019337085103446861, 0.005513737683576875, 0.023278695317886053, 0.19941331810701057, 0.002941363422769446, 0.010677721697920615, 0.021044852082919258, 0.0031370665426979755, 0.028159132256515066, 0.022260494014317074, 0.026484997670805456, 0.005977913485744641, 0.018686182916206596, 0.005317498877280275, 0.17380212411602358, 0.003205641941277885, 0.021400810794433192, 0.00947659892800578, 0.018669768952916884]",
         "[0.4945692883895131, 0.35187265917602994, 0.465561797752809, 0.3808988764044944, 0.5142322097378277, 0.547752808988764, 0.5117977528089888, 0.4157303370786517, 0.37565543071161045, 0.5101123595505618, 0.45691011235955054, 0.37397003745318347, 0.499438202247191, 0.4599812734082397, 0.471310861423221, 0.44232209737827716, 0.47473595505617977, 0.48196629213483144, 0.4342696629213483, 0.5074906367041199, 0.46775280898876404, 0.5194756554307116, 0.5110486891385768, 0.4378277153558052, 0.5102996254681648, 0.39925093632958797, 0.5702247191011236, 0.4639138576779026, 0.4574531835205992, 0.39700374531835203, 0.45597378277153555, 0.31928838951310856, 0.5430711610486891, 0.3382022471910112, 0.48164794007490636, 0.6177902621722846, 0.37134831460674156, 0.5318352059925093, 0.600936329588015, 0.4273408239700374, 0.4700374531835206, 0.4447565543071161, 0.4905805243445693, 0.49812734082397003, 0.397191011235955, 0.38108614232209737, 0.5102996254681648, 0.5574906367041198, 0.5395131086142322, 0.5297752808988764, 0.6037453183520599, 0.5097378277153558]",
         "3279",
         "SMI_11502"
        ],
        [
         "40",
         "0.4862",
         "[0.06338197166779014, 0.05589282749969057, 0.008607670366814193, 0.053305027543569646, 0.03449775864582357, 0.002654019822390285, 0.08403950642203803, 0.019255463816222874, 0.009020893274300877, 0.008909408229696186, 0.0023043696201344352, 0.0027790801157792575, 2.7998458349582083e-05, 2.3020478633280677e-05, 0.010203009969721188, 0.0447953480008158, 0.017762546380684457, 0.03316737619492644, 0.014625494783197041, 0.0014281978828614825, 0.01581670664803721, 0.02520382434365949, 0.023678459346213064, 0.006918350268423413, 0.027625604146007853, 0.10829977745410348, 0.01720336711710299, 0.024069730855536396, 0.05368285244986727, 0.00699812209162673, 0.03732710853200296, 0.02030115753602447, 0.04163778868470459, 0.0019337085103446861, 0.005513737683576875, 0.023278695317886053, 0.19941331810701057, 0.002941363422769446, 0.010677721697920615, 0.021044852082919258, 0.0031370665426979755, 0.028159132256515066, 0.022260494014317074, 0.026484997670805456, 0.005977913485744641, 0.018686182916206596, 0.005317498877280275, 0.17380212411602358, 0.003205641941277885, 0.021400810794433192, 0.00947659892800578, 0.018669768952916884]",
         "[0.4945692883895131, 0.35187265917602994, 0.465561797752809, 0.3808988764044944, 0.5142322097378277, 0.547752808988764, 0.5117977528089888, 0.4157303370786517, 0.37565543071161045, 0.5101123595505618, 0.45691011235955054, 0.37397003745318347, 0.499438202247191, 0.4599812734082397, 0.471310861423221, 0.44232209737827716, 0.47473595505617977, 0.48196629213483144, 0.4342696629213483, 0.5074906367041199, 0.46775280898876404, 0.5194756554307116, 0.5110486891385768, 0.4378277153558052, 0.5102996254681648, 0.39925093632958797, 0.5702247191011236, 0.4639138576779026, 0.4574531835205992, 0.39700374531835203, 0.45597378277153555, 0.31928838951310856, 0.5430711610486891, 0.3382022471910112, 0.48164794007490636, 0.6177902621722846, 0.37134831460674156, 0.5318352059925093, 0.600936329588015, 0.4273408239700374, 0.4700374531835206, 0.4447565543071161, 0.4905805243445693, 0.49812734082397003, 0.397191011235955, 0.38108614232209737, 0.5102996254681648, 0.5574906367041198, 0.5395131086142322, 0.5297752808988764, 0.6037453183520599, 0.5097378277153558]",
         "3279",
         "SMI_18541"
        ],
        [
         "41",
         "0.2761",
         "[0.06338197166779014, 0.05589282749969057, 0.008607670366814193, 0.053305027543569646, 0.03449775864582357, 0.002654019822390285, 0.08403950642203803, 0.019255463816222874, 0.009020893274300877, 0.008909408229696186, 0.0023043696201344352, 0.0027790801157792575, 2.7998458349582083e-05, 2.3020478633280677e-05, 0.010203009969721188, 0.0447953480008158, 0.017762546380684457, 0.03316737619492644, 0.014625494783197041, 0.0014281978828614825, 0.01581670664803721, 0.02520382434365949, 0.023678459346213064, 0.006918350268423413, 0.027625604146007853, 0.10829977745410348, 0.01720336711710299, 0.024069730855536396, 0.05368285244986727, 0.00699812209162673, 0.03732710853200296, 0.02030115753602447, 0.04163778868470459, 0.0019337085103446861, 0.005513737683576875, 0.023278695317886053, 0.19941331810701057, 0.002941363422769446, 0.010677721697920615, 0.021044852082919258, 0.0031370665426979755, 0.028159132256515066, 0.022260494014317074, 0.026484997670805456, 0.005977913485744641, 0.018686182916206596, 0.005317498877280275, 0.17380212411602358, 0.003205641941277885, 0.021400810794433192, 0.00947659892800578, 0.018669768952916884]",
         "[0.4945692883895131, 0.35187265917602994, 0.465561797752809, 0.3808988764044944, 0.5142322097378277, 0.547752808988764, 0.5117977528089888, 0.4157303370786517, 0.37565543071161045, 0.5101123595505618, 0.45691011235955054, 0.37397003745318347, 0.499438202247191, 0.4599812734082397, 0.471310861423221, 0.44232209737827716, 0.47473595505617977, 0.48196629213483144, 0.4342696629213483, 0.5074906367041199, 0.46775280898876404, 0.5194756554307116, 0.5110486891385768, 0.4378277153558052, 0.5102996254681648, 0.39925093632958797, 0.5702247191011236, 0.4639138576779026, 0.4574531835205992, 0.39700374531835203, 0.45597378277153555, 0.31928838951310856, 0.5430711610486891, 0.3382022471910112, 0.48164794007490636, 0.6177902621722846, 0.37134831460674156, 0.5318352059925093, 0.600936329588015, 0.4273408239700374, 0.4700374531835206, 0.4447565543071161, 0.4905805243445693, 0.49812734082397003, 0.397191011235955, 0.38108614232209737, 0.5102996254681648, 0.5574906367041198, 0.5395131086142322, 0.5297752808988764, 0.6037453183520599, 0.5097378277153558]",
         "3279",
         "SMI_20505"
        ],
        [
         "42",
         "0.9706",
         "[0.06338197166779014, 0.05589282749969057, 0.008607670366814193, 0.053305027543569646, 0.03449775864582357, 0.002654019822390285, 0.08403950642203803, 0.019255463816222874, 0.009020893274300877, 0.008909408229696186, 0.0023043696201344352, 0.0027790801157792575, 2.7998458349582083e-05, 2.3020478633280677e-05, 0.010203009969721188, 0.0447953480008158, 0.017762546380684457, 0.03316737619492644, 0.014625494783197041, 0.0014281978828614825, 0.01581670664803721, 0.02520382434365949, 0.023678459346213064, 0.006918350268423413, 0.027625604146007853, 0.10829977745410348, 0.01720336711710299, 0.024069730855536396, 0.05368285244986727, 0.00699812209162673, 0.03732710853200296, 0.02030115753602447, 0.04163778868470459, 0.0019337085103446861, 0.005513737683576875, 0.023278695317886053, 0.19941331810701057, 0.002941363422769446, 0.010677721697920615, 0.021044852082919258, 0.0031370665426979755, 0.028159132256515066, 0.022260494014317074, 0.026484997670805456, 0.005977913485744641, 0.018686182916206596, 0.005317498877280275, 0.17380212411602358, 0.003205641941277885, 0.021400810794433192, 0.00947659892800578, 0.018669768952916884]",
         "[0.4945692883895131, 0.35187265917602994, 0.465561797752809, 0.3808988764044944, 0.5142322097378277, 0.547752808988764, 0.5117977528089888, 0.4157303370786517, 0.37565543071161045, 0.5101123595505618, 0.45691011235955054, 0.37397003745318347, 0.499438202247191, 0.4599812734082397, 0.471310861423221, 0.44232209737827716, 0.47473595505617977, 0.48196629213483144, 0.4342696629213483, 0.5074906367041199, 0.46775280898876404, 0.5194756554307116, 0.5110486891385768, 0.4378277153558052, 0.5102996254681648, 0.39925093632958797, 0.5702247191011236, 0.4639138576779026, 0.4574531835205992, 0.39700374531835203, 0.45597378277153555, 0.31928838951310856, 0.5430711610486891, 0.3382022471910112, 0.48164794007490636, 0.6177902621722846, 0.37134831460674156, 0.5318352059925093, 0.600936329588015, 0.4273408239700374, 0.4700374531835206, 0.4447565543071161, 0.4905805243445693, 0.49812734082397003, 0.397191011235955, 0.38108614232209737, 0.5102996254681648, 0.5574906367041198, 0.5395131086142322, 0.5297752808988764, 0.6037453183520599, 0.5097378277153558]",
         "3279",
         "SMI_39432"
        ],
        [
         "43",
         "0.6825",
         "[0.06338197166779014, 0.05589282749969057, 0.008607670366814193, 0.053305027543569646, 0.03449775864582357, 0.002654019822390285, 0.08403950642203803, 0.019255463816222874, 0.009020893274300877, 0.008909408229696186, 0.0023043696201344352, 0.0027790801157792575, 2.7998458349582083e-05, 2.3020478633280677e-05, 0.010203009969721188, 0.0447953480008158, 0.017762546380684457, 0.03316737619492644, 0.014625494783197041, 0.0014281978828614825, 0.01581670664803721, 0.02520382434365949, 0.023678459346213064, 0.006918350268423413, 0.027625604146007853, 0.10829977745410348, 0.01720336711710299, 0.024069730855536396, 0.05368285244986727, 0.00699812209162673, 0.03732710853200296, 0.02030115753602447, 0.04163778868470459, 0.0019337085103446861, 0.005513737683576875, 0.023278695317886053, 0.19941331810701057, 0.002941363422769446, 0.010677721697920615, 0.021044852082919258, 0.0031370665426979755, 0.028159132256515066, 0.022260494014317074, 0.026484997670805456, 0.005977913485744641, 0.018686182916206596, 0.005317498877280275, 0.17380212411602358, 0.003205641941277885, 0.021400810794433192, 0.00947659892800578, 0.018669768952916884]",
         "[0.4945692883895131, 0.35187265917602994, 0.465561797752809, 0.3808988764044944, 0.5142322097378277, 0.547752808988764, 0.5117977528089888, 0.4157303370786517, 0.37565543071161045, 0.5101123595505618, 0.45691011235955054, 0.37397003745318347, 0.499438202247191, 0.4599812734082397, 0.471310861423221, 0.44232209737827716, 0.47473595505617977, 0.48196629213483144, 0.4342696629213483, 0.5074906367041199, 0.46775280898876404, 0.5194756554307116, 0.5110486891385768, 0.4378277153558052, 0.5102996254681648, 0.39925093632958797, 0.5702247191011236, 0.4639138576779026, 0.4574531835205992, 0.39700374531835203, 0.45597378277153555, 0.31928838951310856, 0.5430711610486891, 0.3382022471910112, 0.48164794007490636, 0.6177902621722846, 0.37134831460674156, 0.5318352059925093, 0.600936329588015, 0.4273408239700374, 0.4700374531835206, 0.4447565543071161, 0.4905805243445693, 0.49812734082397003, 0.397191011235955, 0.38108614232209737, 0.5102996254681648, 0.5574906367041198, 0.5395131086142322, 0.5297752808988764, 0.6037453183520599, 0.5097378277153558]",
         "3279",
         "SMI_24635"
        ],
        [
         "44",
         "0.7351",
         "[0.06338197166779014, 0.05589282749969057, 0.008607670366814193, 0.053305027543569646, 0.03449775864582357, 0.002654019822390285, 0.08403950642203803, 0.019255463816222874, 0.009020893274300877, 0.008909408229696186, 0.0023043696201344352, 0.0027790801157792575, 2.7998458349582083e-05, 2.3020478633280677e-05, 0.010203009969721188, 0.0447953480008158, 0.017762546380684457, 0.03316737619492644, 0.014625494783197041, 0.0014281978828614825, 0.01581670664803721, 0.02520382434365949, 0.023678459346213064, 0.006918350268423413, 0.027625604146007853, 0.10829977745410348, 0.01720336711710299, 0.024069730855536396, 0.05368285244986727, 0.00699812209162673, 0.03732710853200296, 0.02030115753602447, 0.04163778868470459, 0.0019337085103446861, 0.005513737683576875, 0.023278695317886053, 0.19941331810701057, 0.002941363422769446, 0.010677721697920615, 0.021044852082919258, 0.0031370665426979755, 0.028159132256515066, 0.022260494014317074, 0.026484997670805456, 0.005977913485744641, 0.018686182916206596, 0.005317498877280275, 0.17380212411602358, 0.003205641941277885, 0.021400810794433192, 0.00947659892800578, 0.018669768952916884]",
         "[0.4945692883895131, 0.35187265917602994, 0.465561797752809, 0.3808988764044944, 0.5142322097378277, 0.547752808988764, 0.5117977528089888, 0.4157303370786517, 0.37565543071161045, 0.5101123595505618, 0.45691011235955054, 0.37397003745318347, 0.499438202247191, 0.4599812734082397, 0.471310861423221, 0.44232209737827716, 0.47473595505617977, 0.48196629213483144, 0.4342696629213483, 0.5074906367041199, 0.46775280898876404, 0.5194756554307116, 0.5110486891385768, 0.4378277153558052, 0.5102996254681648, 0.39925093632958797, 0.5702247191011236, 0.4639138576779026, 0.4574531835205992, 0.39700374531835203, 0.45597378277153555, 0.31928838951310856, 0.5430711610486891, 0.3382022471910112, 0.48164794007490636, 0.6177902621722846, 0.37134831460674156, 0.5318352059925093, 0.600936329588015, 0.4273408239700374, 0.4700374531835206, 0.4447565543071161, 0.4905805243445693, 0.49812734082397003, 0.397191011235955, 0.38108614232209737, 0.5102996254681648, 0.5574906367041198, 0.5395131086142322, 0.5297752808988764, 0.6037453183520599, 0.5097378277153558]",
         "3279",
         "SMI_41952"
        ],
        [
         "45",
         "0.7262",
         "[0.06338197166779014, 0.05589282749969057, 0.008607670366814193, 0.053305027543569646, 0.03449775864582357, 0.002654019822390285, 0.08403950642203803, 0.019255463816222874, 0.009020893274300877, 0.008909408229696186, 0.0023043696201344352, 0.0027790801157792575, 2.7998458349582083e-05, 2.3020478633280677e-05, 0.010203009969721188, 0.0447953480008158, 0.017762546380684457, 0.03316737619492644, 0.014625494783197041, 0.0014281978828614825, 0.01581670664803721, 0.02520382434365949, 0.023678459346213064, 0.006918350268423413, 0.027625604146007853, 0.10829977745410348, 0.01720336711710299, 0.024069730855536396, 0.05368285244986727, 0.00699812209162673, 0.03732710853200296, 0.02030115753602447, 0.04163778868470459, 0.0019337085103446861, 0.005513737683576875, 0.023278695317886053, 0.19941331810701057, 0.002941363422769446, 0.010677721697920615, 0.021044852082919258, 0.0031370665426979755, 0.028159132256515066, 0.022260494014317074, 0.026484997670805456, 0.005977913485744641, 0.018686182916206596, 0.005317498877280275, 0.17380212411602358, 0.003205641941277885, 0.021400810794433192, 0.00947659892800578, 0.018669768952916884]",
         "[0.4945692883895131, 0.35187265917602994, 0.465561797752809, 0.3808988764044944, 0.5142322097378277, 0.547752808988764, 0.5117977528089888, 0.4157303370786517, 0.37565543071161045, 0.5101123595505618, 0.45691011235955054, 0.37397003745318347, 0.499438202247191, 0.4599812734082397, 0.471310861423221, 0.44232209737827716, 0.47473595505617977, 0.48196629213483144, 0.4342696629213483, 0.5074906367041199, 0.46775280898876404, 0.5194756554307116, 0.5110486891385768, 0.4378277153558052, 0.5102996254681648, 0.39925093632958797, 0.5702247191011236, 0.4639138576779026, 0.4574531835205992, 0.39700374531835203, 0.45597378277153555, 0.31928838951310856, 0.5430711610486891, 0.3382022471910112, 0.48164794007490636, 0.6177902621722846, 0.37134831460674156, 0.5318352059925093, 0.600936329588015, 0.4273408239700374, 0.4700374531835206, 0.4447565543071161, 0.4905805243445693, 0.49812734082397003, 0.397191011235955, 0.38108614232209737, 0.5102996254681648, 0.5574906367041198, 0.5395131086142322, 0.5297752808988764, 0.6037453183520599, 0.5097378277153558]",
         "3279",
         "SMI_6419"
        ],
        [
         "46",
         "0.7351",
         "[0.06338197166779014, 0.05589282749969057, 0.008607670366814193, 0.053305027543569646, 0.03449775864582357, 0.002654019822390285, 0.08403950642203803, 0.019255463816222874, 0.009020893274300877, 0.008909408229696186, 0.0023043696201344352, 0.0027790801157792575, 2.7998458349582083e-05, 2.3020478633280677e-05, 0.010203009969721188, 0.0447953480008158, 0.017762546380684457, 0.03316737619492644, 0.014625494783197041, 0.0014281978828614825, 0.01581670664803721, 0.02520382434365949, 0.023678459346213064, 0.006918350268423413, 0.027625604146007853, 0.10829977745410348, 0.01720336711710299, 0.024069730855536396, 0.05368285244986727, 0.00699812209162673, 0.03732710853200296, 0.02030115753602447, 0.04163778868470459, 0.0019337085103446861, 0.005513737683576875, 0.023278695317886053, 0.19941331810701057, 0.002941363422769446, 0.010677721697920615, 0.021044852082919258, 0.0031370665426979755, 0.028159132256515066, 0.022260494014317074, 0.026484997670805456, 0.005977913485744641, 0.018686182916206596, 0.005317498877280275, 0.17380212411602358, 0.003205641941277885, 0.021400810794433192, 0.00947659892800578, 0.018669768952916884]",
         "[0.4945692883895131, 0.35187265917602994, 0.465561797752809, 0.3808988764044944, 0.5142322097378277, 0.547752808988764, 0.5117977528089888, 0.4157303370786517, 0.37565543071161045, 0.5101123595505618, 0.45691011235955054, 0.37397003745318347, 0.499438202247191, 0.4599812734082397, 0.471310861423221, 0.44232209737827716, 0.47473595505617977, 0.48196629213483144, 0.4342696629213483, 0.5074906367041199, 0.46775280898876404, 0.5194756554307116, 0.5110486891385768, 0.4378277153558052, 0.5102996254681648, 0.39925093632958797, 0.5702247191011236, 0.4639138576779026, 0.4574531835205992, 0.39700374531835203, 0.45597378277153555, 0.31928838951310856, 0.5430711610486891, 0.3382022471910112, 0.48164794007490636, 0.6177902621722846, 0.37134831460674156, 0.5318352059925093, 0.600936329588015, 0.4273408239700374, 0.4700374531835206, 0.4447565543071161, 0.4905805243445693, 0.49812734082397003, 0.397191011235955, 0.38108614232209737, 0.5102996254681648, 0.5574906367041198, 0.5395131086142322, 0.5297752808988764, 0.6037453183520599, 0.5097378277153558]",
         "3279",
         "SMI_11509"
        ],
        [
         "47",
         "0.4544",
         "[0.06338197166779014, 0.05589282749969057, 0.008607670366814193, 0.053305027543569646, 0.03449775864582357, 0.002654019822390285, 0.08403950642203803, 0.019255463816222874, 0.009020893274300877, 0.008909408229696186, 0.0023043696201344352, 0.0027790801157792575, 2.7998458349582083e-05, 2.3020478633280677e-05, 0.010203009969721188, 0.0447953480008158, 0.017762546380684457, 0.03316737619492644, 0.014625494783197041, 0.0014281978828614825, 0.01581670664803721, 0.02520382434365949, 0.023678459346213064, 0.006918350268423413, 0.027625604146007853, 0.10829977745410348, 0.01720336711710299, 0.024069730855536396, 0.05368285244986727, 0.00699812209162673, 0.03732710853200296, 0.02030115753602447, 0.04163778868470459, 0.0019337085103446861, 0.005513737683576875, 0.023278695317886053, 0.19941331810701057, 0.002941363422769446, 0.010677721697920615, 0.021044852082919258, 0.0031370665426979755, 0.028159132256515066, 0.022260494014317074, 0.026484997670805456, 0.005977913485744641, 0.018686182916206596, 0.005317498877280275, 0.17380212411602358, 0.003205641941277885, 0.021400810794433192, 0.00947659892800578, 0.018669768952916884]",
         "[0.4945692883895131, 0.35187265917602994, 0.465561797752809, 0.3808988764044944, 0.5142322097378277, 0.547752808988764, 0.5117977528089888, 0.4157303370786517, 0.37565543071161045, 0.5101123595505618, 0.45691011235955054, 0.37397003745318347, 0.499438202247191, 0.4599812734082397, 0.471310861423221, 0.44232209737827716, 0.47473595505617977, 0.48196629213483144, 0.4342696629213483, 0.5074906367041199, 0.46775280898876404, 0.5194756554307116, 0.5110486891385768, 0.4378277153558052, 0.5102996254681648, 0.39925093632958797, 0.5702247191011236, 0.4639138576779026, 0.4574531835205992, 0.39700374531835203, 0.45597378277153555, 0.31928838951310856, 0.5430711610486891, 0.3382022471910112, 0.48164794007490636, 0.6177902621722846, 0.37134831460674156, 0.5318352059925093, 0.600936329588015, 0.4273408239700374, 0.4700374531835206, 0.4447565543071161, 0.4905805243445693, 0.49812734082397003, 0.397191011235955, 0.38108614232209737, 0.5102996254681648, 0.5574906367041198, 0.5395131086142322, 0.5297752808988764, 0.6037453183520599, 0.5097378277153558]",
         "3279",
         "SMI_20869"
        ],
        [
         "48",
         "0.6158",
         "[0.06338197166779014, 0.05589282749969057, 0.008607670366814193, 0.053305027543569646, 0.03449775864582357, 0.002654019822390285, 0.08403950642203803, 0.019255463816222874, 0.009020893274300877, 0.008909408229696186, 0.0023043696201344352, 0.0027790801157792575, 2.7998458349582083e-05, 2.3020478633280677e-05, 0.010203009969721188, 0.0447953480008158, 0.017762546380684457, 0.03316737619492644, 0.014625494783197041, 0.0014281978828614825, 0.01581670664803721, 0.02520382434365949, 0.023678459346213064, 0.006918350268423413, 0.027625604146007853, 0.10829977745410348, 0.01720336711710299, 0.024069730855536396, 0.05368285244986727, 0.00699812209162673, 0.03732710853200296, 0.02030115753602447, 0.04163778868470459, 0.0019337085103446861, 0.005513737683576875, 0.023278695317886053, 0.19941331810701057, 0.002941363422769446, 0.010677721697920615, 0.021044852082919258, 0.0031370665426979755, 0.028159132256515066, 0.022260494014317074, 0.026484997670805456, 0.005977913485744641, 0.018686182916206596, 0.005317498877280275, 0.17380212411602358, 0.003205641941277885, 0.021400810794433192, 0.00947659892800578, 0.018669768952916884]",
         "[0.4945692883895131, 0.35187265917602994, 0.465561797752809, 0.3808988764044944, 0.5142322097378277, 0.547752808988764, 0.5117977528089888, 0.4157303370786517, 0.37565543071161045, 0.5101123595505618, 0.45691011235955054, 0.37397003745318347, 0.499438202247191, 0.4599812734082397, 0.471310861423221, 0.44232209737827716, 0.47473595505617977, 0.48196629213483144, 0.4342696629213483, 0.5074906367041199, 0.46775280898876404, 0.5194756554307116, 0.5110486891385768, 0.4378277153558052, 0.5102996254681648, 0.39925093632958797, 0.5702247191011236, 0.4639138576779026, 0.4574531835205992, 0.39700374531835203, 0.45597378277153555, 0.31928838951310856, 0.5430711610486891, 0.3382022471910112, 0.48164794007490636, 0.6177902621722846, 0.37134831460674156, 0.5318352059925093, 0.600936329588015, 0.4273408239700374, 0.4700374531835206, 0.4447565543071161, 0.4905805243445693, 0.49812734082397003, 0.397191011235955, 0.38108614232209737, 0.5102996254681648, 0.5574906367041198, 0.5395131086142322, 0.5297752808988764, 0.6037453183520599, 0.5097378277153558]",
         "3279",
         "SMI_53126"
        ],
        [
         "49",
         "0.3213",
         "[0.06338197166779014, 0.05589282749969057, 0.008607670366814193, 0.053305027543569646, 0.03449775864582357, 0.002654019822390285, 0.08403950642203803, 0.019255463816222874, 0.009020893274300877, 0.008909408229696186, 0.0023043696201344352, 0.0027790801157792575, 2.7998458349582083e-05, 2.3020478633280677e-05, 0.010203009969721188, 0.0447953480008158, 0.017762546380684457, 0.03316737619492644, 0.014625494783197041, 0.0014281978828614825, 0.01581670664803721, 0.02520382434365949, 0.023678459346213064, 0.006918350268423413, 0.027625604146007853, 0.10829977745410348, 0.01720336711710299, 0.024069730855536396, 0.05368285244986727, 0.00699812209162673, 0.03732710853200296, 0.02030115753602447, 0.04163778868470459, 0.0019337085103446861, 0.005513737683576875, 0.023278695317886053, 0.19941331810701057, 0.002941363422769446, 0.010677721697920615, 0.021044852082919258, 0.0031370665426979755, 0.028159132256515066, 0.022260494014317074, 0.026484997670805456, 0.005977913485744641, 0.018686182916206596, 0.005317498877280275, 0.17380212411602358, 0.003205641941277885, 0.021400810794433192, 0.00947659892800578, 0.018669768952916884]",
         "[0.4945692883895131, 0.35187265917602994, 0.465561797752809, 0.3808988764044944, 0.5142322097378277, 0.547752808988764, 0.5117977528089888, 0.4157303370786517, 0.37565543071161045, 0.5101123595505618, 0.45691011235955054, 0.37397003745318347, 0.499438202247191, 0.4599812734082397, 0.471310861423221, 0.44232209737827716, 0.47473595505617977, 0.48196629213483144, 0.4342696629213483, 0.5074906367041199, 0.46775280898876404, 0.5194756554307116, 0.5110486891385768, 0.4378277153558052, 0.5102996254681648, 0.39925093632958797, 0.5702247191011236, 0.4639138576779026, 0.4574531835205992, 0.39700374531835203, 0.45597378277153555, 0.31928838951310856, 0.5430711610486891, 0.3382022471910112, 0.48164794007490636, 0.6177902621722846, 0.37134831460674156, 0.5318352059925093, 0.600936329588015, 0.4273408239700374, 0.4700374531835206, 0.4447565543071161, 0.4905805243445693, 0.49812734082397003, 0.397191011235955, 0.38108614232209737, 0.5102996254681648, 0.5574906367041198, 0.5395131086142322, 0.5297752808988764, 0.6037453183520599, 0.5097378277153558]",
         "3279",
         "SMI_28228"
        ]
       ],
       "shape": {
        "columns": 5,
        "rows": 664
       }
      },
      "text/html": [
       "<div>\n",
       "<style scoped>\n",
       "    .dataframe tbody tr th:only-of-type {\n",
       "        vertical-align: middle;\n",
       "    }\n",
       "\n",
       "    .dataframe tbody tr th {\n",
       "        vertical-align: top;\n",
       "    }\n",
       "\n",
       "    .dataframe thead th {\n",
       "        text-align: right;\n",
       "    }\n",
       "</style>\n",
       "<table border=\"1\" class=\"dataframe\">\n",
       "  <thead>\n",
       "    <tr style=\"text-align: right;\">\n",
       "      <th></th>\n",
       "      <th>dose_response_value</th>\n",
       "      <th>transcriptomics</th>\n",
       "      <th>proteomics</th>\n",
       "      <th>improve_sample_id</th>\n",
       "      <th>improve_drug_id</th>\n",
       "    </tr>\n",
       "  </thead>\n",
       "  <tbody>\n",
       "    <tr>\n",
       "      <th>0</th>\n",
       "      <td>0.8691</td>\n",
       "      <td>[0.2403429671694821, 0.5140137516443007, 0.654...</td>\n",
       "      <td>[0.44644194756554306, 0.5481273408239701, 0.46...</td>\n",
       "      <td>3247</td>\n",
       "      <td>SMI_7473</td>\n",
       "    </tr>\n",
       "    <tr>\n",
       "      <th>1</th>\n",
       "      <td>0.3227</td>\n",
       "      <td>[0.2403429671694821, 0.5140137516443007, 0.654...</td>\n",
       "      <td>[0.44644194756554306, 0.5481273408239701, 0.46...</td>\n",
       "      <td>3247</td>\n",
       "      <td>SMI_32681</td>\n",
       "    </tr>\n",
       "    <tr>\n",
       "      <th>2</th>\n",
       "      <td>0.6045</td>\n",
       "      <td>[0.0769903831192593, 0.11187755322864364, 0.02...</td>\n",
       "      <td>[0.44494382022471907, 0.4676779026217228, 0.46...</td>\n",
       "      <td>3268</td>\n",
       "      <td>SMI_55592</td>\n",
       "    </tr>\n",
       "    <tr>\n",
       "      <th>3</th>\n",
       "      <td>0.7913</td>\n",
       "      <td>[0.01224300411455304, 0.007865114438717567, 0....</td>\n",
       "      <td>[0.39269662921348314, 0.23033707865168537, 0.4...</td>\n",
       "      <td>3271</td>\n",
       "      <td>SMI_54944</td>\n",
       "    </tr>\n",
       "    <tr>\n",
       "      <th>4</th>\n",
       "      <td>0.7527</td>\n",
       "      <td>[0.01224300411455304, 0.007865114438717567, 0....</td>\n",
       "      <td>[0.39269662921348314, 0.23033707865168537, 0.4...</td>\n",
       "      <td>3271</td>\n",
       "      <td>SMI_55656</td>\n",
       "    </tr>\n",
       "    <tr>\n",
       "      <th>...</th>\n",
       "      <td>...</td>\n",
       "      <td>...</td>\n",
       "      <td>...</td>\n",
       "      <td>...</td>\n",
       "      <td>...</td>\n",
       "    </tr>\n",
       "    <tr>\n",
       "      <th>659</th>\n",
       "      <td>0.8636</td>\n",
       "      <td>[0.01225390530145441, 0.025113247899129314, 0....</td>\n",
       "      <td>[0.4848876404494382, 0.47532209737827713, 0.53...</td>\n",
       "      <td>3289</td>\n",
       "      <td>SMI_40153</td>\n",
       "    </tr>\n",
       "    <tr>\n",
       "      <th>660</th>\n",
       "      <td>0.5377</td>\n",
       "      <td>[0.01225390530145441, 0.025113247899129314, 0....</td>\n",
       "      <td>[0.4848876404494382, 0.47532209737827713, 0.53...</td>\n",
       "      <td>3289</td>\n",
       "      <td>SMI_34232</td>\n",
       "    </tr>\n",
       "    <tr>\n",
       "      <th>661</th>\n",
       "      <td>0.8301</td>\n",
       "      <td>[0.01225390530145441, 0.025113247899129314, 0....</td>\n",
       "      <td>[0.4848876404494382, 0.47532209737827713, 0.53...</td>\n",
       "      <td>3289</td>\n",
       "      <td>SMI_13100</td>\n",
       "    </tr>\n",
       "    <tr>\n",
       "      <th>662</th>\n",
       "      <td>0.9885</td>\n",
       "      <td>[0.01225390530145441, 0.025113247899129314, 0....</td>\n",
       "      <td>[0.4848876404494382, 0.47532209737827713, 0.53...</td>\n",
       "      <td>3289</td>\n",
       "      <td>SMI_16810</td>\n",
       "    </tr>\n",
       "    <tr>\n",
       "      <th>663</th>\n",
       "      <td>0.8753</td>\n",
       "      <td>[0.01225390530145441, 0.025113247899129314, 0....</td>\n",
       "      <td>[0.4848876404494382, 0.47532209737827713, 0.53...</td>\n",
       "      <td>3289</td>\n",
       "      <td>SMI_35928</td>\n",
       "    </tr>\n",
       "  </tbody>\n",
       "</table>\n",
       "<p>664 rows × 5 columns</p>\n",
       "</div>"
      ],
      "text/plain": [
       "     dose_response_value                                    transcriptomics  \\\n",
       "0                 0.8691  [0.2403429671694821, 0.5140137516443007, 0.654...   \n",
       "1                 0.3227  [0.2403429671694821, 0.5140137516443007, 0.654...   \n",
       "2                 0.6045  [0.0769903831192593, 0.11187755322864364, 0.02...   \n",
       "3                 0.7913  [0.01224300411455304, 0.007865114438717567, 0....   \n",
       "4                 0.7527  [0.01224300411455304, 0.007865114438717567, 0....   \n",
       "..                   ...                                                ...   \n",
       "659               0.8636  [0.01225390530145441, 0.025113247899129314, 0....   \n",
       "660               0.5377  [0.01225390530145441, 0.025113247899129314, 0....   \n",
       "661               0.8301  [0.01225390530145441, 0.025113247899129314, 0....   \n",
       "662               0.9885  [0.01225390530145441, 0.025113247899129314, 0....   \n",
       "663               0.8753  [0.01225390530145441, 0.025113247899129314, 0....   \n",
       "\n",
       "                                            proteomics  improve_sample_id  \\\n",
       "0    [0.44644194756554306, 0.5481273408239701, 0.46...               3247   \n",
       "1    [0.44644194756554306, 0.5481273408239701, 0.46...               3247   \n",
       "2    [0.44494382022471907, 0.4676779026217228, 0.46...               3268   \n",
       "3    [0.39269662921348314, 0.23033707865168537, 0.4...               3271   \n",
       "4    [0.39269662921348314, 0.23033707865168537, 0.4...               3271   \n",
       "..                                                 ...                ...   \n",
       "659  [0.4848876404494382, 0.47532209737827713, 0.53...               3289   \n",
       "660  [0.4848876404494382, 0.47532209737827713, 0.53...               3289   \n",
       "661  [0.4848876404494382, 0.47532209737827713, 0.53...               3289   \n",
       "662  [0.4848876404494382, 0.47532209737827713, 0.53...               3289   \n",
       "663  [0.4848876404494382, 0.47532209737827713, 0.53...               3289   \n",
       "\n",
       "    improve_drug_id  \n",
       "0          SMI_7473  \n",
       "1         SMI_32681  \n",
       "2         SMI_55592  \n",
       "3         SMI_54944  \n",
       "4         SMI_55656  \n",
       "..              ...  \n",
       "659       SMI_40153  \n",
       "660       SMI_34232  \n",
       "661       SMI_13100  \n",
       "662       SMI_16810  \n",
       "663       SMI_35928  \n",
       "\n",
       "[664 rows x 5 columns]"
      ]
     },
     "execution_count": 36,
     "metadata": {},
     "output_type": "execute_result"
    }
   ],
   "source": [
    "#Write [transcriptomics], [proteomics], and dose_response_value data to aggregated_df. These are all written in the same order as the unique_entrez_ids set.\n",
    "\n",
    "# # Extract the list of unique entrez_ids\n",
    "unique_entrez_ids = set(merged_df.entrez_id.unique())\n",
    "\n",
    "# # Construct the final DataFrame\n",
    "final_data = []\n",
    "for improve_sample_id, sample_id_data in data_dict.items():\n",
    "    for improve_drug_id, drug_id_data in sample_id_data.items():\n",
    "        transcriptomics = []\n",
    "        proteomics = []\n",
    "        for entrez_id in unique_entrez_ids:\n",
    "            if entrez_id in drug_id_data:\n",
    "                transcriptomics.append(drug_id_data[entrez_id]['transcriptomics'])\n",
    "                proteomics.append(drug_id_data[entrez_id]['proteomics'])\n",
    "                dose_response_value = drug_id_data[entrez_id]['dose_response_value']\n",
    "        final_data.append([dose_response_value, transcriptomics, proteomics, improve_sample_id,improve_drug_id])\n",
    "\n",
    "# # Create the DataFrame\n",
    "aggregated_df = pd.DataFrame(final_data, columns=['dose_response_value', 'transcriptomics', 'proteomics', 'improve_sample_id', \"improve_drug_id\"])\n",
    "aggregated_df"
   ]
  },
  {
   "cell_type": "markdown",
   "id": "f8a54dfe",
   "metadata": {},
   "source": [
    "The Fingerprint Variable dropped out. It is added back in here."
   ]
  },
  {
   "cell_type": "code",
   "execution_count": 37,
   "id": "737be8bd",
   "metadata": {},
   "outputs": [],
   "source": [
    "# Map in the fingerprint by improve_drug_id. Remove improve_drug_id.\n",
    "aggregated_df['fingerprint'] = aggregated_df['improve_drug_id'].map(fingerprint_dict)\n",
    "aggregated_df = aggregated_df[[\"dose_response_value\",\"transcriptomics\",\"proteomics\",\"fingerprint\"]]"
   ]
  },
  {
   "cell_type": "markdown",
   "id": "521d27e3",
   "metadata": {},
   "source": [
    "### View the Training Data Format\n",
    "AUC  will be trained, validated, evaluated by the transcriptomics, proteomics and fingerprint variables."
   ]
  },
  {
   "cell_type": "code",
   "execution_count": 38,
   "id": "7bc02823",
   "metadata": {},
   "outputs": [
    {
     "data": {
      "application/vnd.microsoft.datawrangler.viewer.v0+json": {
       "columns": [
        {
         "name": "index",
         "rawType": "int64",
         "type": "integer"
        },
        {
         "name": "dose_response_value",
         "rawType": "float64",
         "type": "float"
        },
        {
         "name": "transcriptomics",
         "rawType": "object",
         "type": "unknown"
        },
        {
         "name": "proteomics",
         "rawType": "object",
         "type": "unknown"
        },
        {
         "name": "fingerprint",
         "rawType": "object",
         "type": "unknown"
        }
       ],
       "ref": "4765b5de-4c2e-4f71-baac-394cd6b51ff1",
       "rows": [
        [
         "0",
         "0.8691",
         "[0.2403429671694821, 0.5140137516443007, 0.6546307688062354, 0.353785013911042, 0.011964931124634483, 0.013382032588037511, 0.015874975511467854, 0.029278564879530147, 0.09609561555320809, 0.004835867930073388, 0.0031899668817375417, 0.012690517506803216, 0.017828805819870574, 0.024643860325917658, 0.10437576788751596, 0.044264668648973465, 0.04530692297588069, 0.01493308241587405, 0.03943630014082044, 0.009061030109573962, 0.020567180905923254, 0.0037604676040534613, 0.024770511979098787, 0.21029620157566362, 0.023624913885108484, 0.01343596998205222, 0.03570746677233396, 0.02132339300477687, 0.005808887944389448, 0.007011124601479252, 0.006404894198597184, 0.008727485239364929, 0.019771159393383076, 0.04481654934448329, 0.017481604639796592, 0.035960808379153546, 0.017290242031515107, 0.017552692039223473, 0.03935040308027633, 0.020154853617663497, 0.004037607851950566, 0.014930858689140505, 0.0034449106435688773, 0.009305189599229114, 0.002817968163989038, 0.0027461585288251988, 0.00873421445118572, 0.07493122941888185, 0.011113365078494274, 0.00972951030917095, 0.2461436718297364, 0.006162539775186075, 0.032880417809320814, 0.03880259843950415, 0.014215940692396215, 0.02593664857744821, 0.005994792871571415, 0.049010953966505164, 0.02812745237496451, 0.036559902865153954, 0.018028551136489785, 0.050691065727899665, 0.045910949885663424, 0.07804983295369307, 0.00030540635131377796, 0.010369667355584178, 0.006514340900702904, 0.0394718718394782, 0.14087176804871301]",
         "[0.44644194756554306, 0.5481273408239701, 0.46722846441947563, 0.42677902621722846, 0.38520599250936327, 0.45168539325842694, 0.4288389513108614, 0.48138576779026215, 0.4642134831460674, 0.47320973782771536, 0.4941947565543071, 0.5121722846441947, 0.4599250936329588, 0.49228464419475654, 0.41872659176029964, 0.48194756554307117, 0.46340823970037454, 0.4159176029962547, 0.42715355805243443, 0.46788389513108614, 0.4411985018726592, 0.4413857677902622, 0.45724719101123595, 0.49644194756554305, 0.5451310861423221, 0.49161048689138576, 0.46728464419475657, 0.43595505617977526, 0.4544943820224719, 0.4897003745318352, 0.5610486891385768, 0.4557677902621723, 0.42940074906367043, 0.4864044943820225, 0.455187265917603, 0.41872659176029964, 0.46168539325842695, 0.500561797752809, 0.44007490636704116, 0.5007490636704119, 0.47071161048689136, 0.5204119850187265, 0.5074906367041199, 0.49550561797752807, 0.4174157303370786, 0.398876404494382, 0.449250936329588, 0.59625468164794, 0.473440074906367, 0.491685393258427, 0.47685393258426967, 0.43913857677902624, 0.48479400749063667, 0.4551310861423221, 0.5058052434456929, 0.4696067415730337, 0.49644194756554305, 0.4649250936329588, 0.43745318352059925, 0.47129213483146065, 0.5205992509363295, 0.5136704119850187, 0.4899812734082397, 0.48129213483146066, 0.3750936329588015, 0.4395131086142322, 0.4440074906367041, 0.4801498127340824, 0.5220973782771535]",
         "[0 0 0 ... 0 0 0]"
        ],
        [
         "1",
         "0.3227",
         "[0.2403429671694821, 0.5140137516443007, 0.6546307688062354, 0.353785013911042, 0.011964931124634483, 0.013382032588037511, 0.015874975511467854, 0.029278564879530147, 0.09609561555320809, 0.004835867930073388, 0.0031899668817375417, 0.012690517506803216, 0.017828805819870574, 0.024643860325917658, 0.10437576788751596, 0.044264668648973465, 0.04530692297588069, 0.01493308241587405, 0.03943630014082044, 0.009061030109573962, 0.020567180905923254, 0.0037604676040534613, 0.024770511979098787, 0.21029620157566362, 0.023624913885108484, 0.01343596998205222, 0.03570746677233396, 0.02132339300477687, 0.005808887944389448, 0.007011124601479252, 0.006404894198597184, 0.008727485239364929, 0.019771159393383076, 0.04481654934448329, 0.017481604639796592, 0.035960808379153546, 0.017290242031515107, 0.017552692039223473, 0.03935040308027633, 0.020154853617663497, 0.004037607851950566, 0.014930858689140505, 0.0034449106435688773, 0.009305189599229114, 0.002817968163989038, 0.0027461585288251988, 0.00873421445118572, 0.07493122941888185, 0.011113365078494274, 0.00972951030917095, 0.2461436718297364, 0.006162539775186075, 0.032880417809320814, 0.03880259843950415, 0.014215940692396215, 0.02593664857744821, 0.005994792871571415, 0.049010953966505164, 0.02812745237496451, 0.036559902865153954, 0.018028551136489785, 0.050691065727899665, 0.045910949885663424, 0.07804983295369307, 0.00030540635131377796, 0.010369667355584178, 0.006514340900702904, 0.0394718718394782, 0.14087176804871301]",
         "[0.44644194756554306, 0.5481273408239701, 0.46722846441947563, 0.42677902621722846, 0.38520599250936327, 0.45168539325842694, 0.4288389513108614, 0.48138576779026215, 0.4642134831460674, 0.47320973782771536, 0.4941947565543071, 0.5121722846441947, 0.4599250936329588, 0.49228464419475654, 0.41872659176029964, 0.48194756554307117, 0.46340823970037454, 0.4159176029962547, 0.42715355805243443, 0.46788389513108614, 0.4411985018726592, 0.4413857677902622, 0.45724719101123595, 0.49644194756554305, 0.5451310861423221, 0.49161048689138576, 0.46728464419475657, 0.43595505617977526, 0.4544943820224719, 0.4897003745318352, 0.5610486891385768, 0.4557677902621723, 0.42940074906367043, 0.4864044943820225, 0.455187265917603, 0.41872659176029964, 0.46168539325842695, 0.500561797752809, 0.44007490636704116, 0.5007490636704119, 0.47071161048689136, 0.5204119850187265, 0.5074906367041199, 0.49550561797752807, 0.4174157303370786, 0.398876404494382, 0.449250936329588, 0.59625468164794, 0.473440074906367, 0.491685393258427, 0.47685393258426967, 0.43913857677902624, 0.48479400749063667, 0.4551310861423221, 0.5058052434456929, 0.4696067415730337, 0.49644194756554305, 0.4649250936329588, 0.43745318352059925, 0.47129213483146065, 0.5205992509363295, 0.5136704119850187, 0.4899812734082397, 0.48129213483146066, 0.3750936329588015, 0.4395131086142322, 0.4440074906367041, 0.4801498127340824, 0.5220973782771535]",
         "[0 0 0 ... 0 0 0]"
        ],
        [
         "2",
         "0.6045",
         "[0.0769903831192593, 0.11187755322864364, 0.02635662692001061, 0.013585563340709268, 0.0802788218131158, 0.013812398946516395, 0.020167401951473162, 0.0026616137028785433, 0.10177649121850725, 0.007731945878911109, 0.018911855909277343, 0.013382589378282682, 0.007264579794066283, 0.0023002022764810207, 0.07927436204180141, 0.009648059618914096, 0.014300660289637735, 0.25987269959346604, 0.030059934015463533, 0.10498987604146805, 0.04468368160234291, 0.02438272375575985, 0.015385934952342216, 0.029387815106620148, 0.01310143435996066, 0.08058887496684408, 0.02364058575413446, 0.010591909388100368, 0.08916890745539585, 0.06385530014439465, 0.014931782382446045, 0.03140304347566597, 0.01281975012090719, 0.006679214733578674, 0.0, 0.06093965295557202, 0.015570986969448104, 0.019327940896920665, 0.015012953870564434, 0.014600094229552314, 0.018196208576748384, 0.0077325568365411825, 0.024635300811249303, 0.004987835452427646, 0.014142695003340878, 0.04992579505351394, 0.0035191127474253126, 0.06886412450079779, 0.004868743788307775, 0.013022349935956277, 0.048173633828127456, 0.005092424822454206, 7.051040328362934e-05, 0.024995318503546065, 0.025879341968861727, 0.012562634986956141, 0.013702728078644553, 0.01734904668275538, 0.04919684750349811, 0.021478043936657906, 0.02519774720607623, 0.04517804396992463, 0.11861913350058836, 0.01987652725082873, 0.00716877718011776, 0.01392008056041392, 0.02282817392397124]",
         "[0.44494382022471907, 0.4676779026217228, 0.4632584269662921, 0.47743445692883896, 0.4755767790262172, 0.44101123595505615, 0.48700374531835205, 0.35018726591760296, 0.4406367041198502, 0.3848314606741573, 0.4385767790262172, 0.485187265917603, 0.5187265917602997, 0.5436329588014981, 0.5378277153558052, 0.5441947565543072, 0.4632958801498127, 0.44981273408239697, 0.4895692883895131, 0.7247191011235956, 0.47147940074906364, 0.46191011235955054, 0.48333333333333334, 0.48764044943820223, 0.449063670411985, 0.49475655430711607, 0.4687078651685393, 0.4350187265917603, 0.49219101123595504, 0.4846816479400749, 0.43764044943820224, 0.5878277153558052, 0.46756554307116105, 0.747191011235955, 0.450187265917603, 0.47378041198501875, 0.4239700374531835, 0.5121722846441947, 0.41123595505617977, 0.5205992509363295, 0.5818352059925094, 0.4654681647940075, 0.46672284644194756, 0.4791573033707865, 0.48385767790262174, 0.4822471910112359, 0.5338951310861423, 0.41067415730337076, 0.38146067415730334, 0.4680337078651685, 0.4295880149812734, 0.4736565543071161, 0.3245318352059925, 0.7041198501872659, 0.44157303370786516, 0.4608239700374532, 0.4941947565543071, 0.44831460674157303, 0.5788389513108614, 0.5011235955056179, 0.4342696629213483, 0.4342696629213483, 0.5378277153558052, 0.48586142322097375, 0.4708801498127341, 0.5086142322097378, 0.4802434456928839]",
         "[0 0 0 ... 0 0 0]"
        ],
        [
         "3",
         "0.7913",
         "[0.01224300411455304, 0.007865114438717567, 0.005976491528644126, 0.2543641372219961, 0.015817920810002294, 0.006148165052546263, 0.02836471398086075, 0.015381268412609166, 0.009620030370245516, 0.008376485659610718, 0.009688705172508229, 0.008918884354369017, 0.010078516984619026, 0.023236616227162537, 0.3295004131110954, 0.011484440822315718, 0.007317690409899616, 0.06714672434842148, 0.017826211232528526, 0.03678806684523244, 0.01769842790053653, 0.01583826778335709, 0.008297062475324482, 0.03855190631816799, 0.013228614988180747, 0.025429889416740292, 0.05055207564515229, 0.009426536034856351, 0.02464762759562237, 0.007701357029972902, 0.06911983853881154, 0.02425026239805677, 0.0, 0.008656016987912579, 0.004609930322391465, 0.07710566264004984, 0.0195760444626501, 0.03157643406444292, 0.018853472122684598, 0.3251422430836356, 0.022950652970698204, 0.026888105723202372, 0.010651385463206856, 0.06332350416636874, 0.00019376983127529832, 0.02584334183796482, 0.0275848139598186, 0.009650177340301878, 0.0024768992682696316, 0.05215391337612082, 0.01084965771566939, 0.00786290487711265, 0.024115756907662194, 0.018250258952247404, 0.0370350204338817, 0.016358624234344754, 0.010654989620065268, 0.012317974241861021, 0.008998518294221243, 0.0763844702435682, 0.05711196525570363, 0.03228640988848141, 0.010539892712787106, 0.06314974465417005, 0.032554438218825976, 0.5758628620554569]",
         "[0.39269662921348314, 0.23033707865168537, 0.4099250936329588, 0.449250936329588, 0.4808426966292135, 0.40636704119850187, 0.5078651685393258, 0.43745318352059925, 0.5048689138576778, 0.6323970037453184, 0.41217228464419475, 0.5825842696629213, 0.5380149812734083, 0.5110486891385768, 0.44250936329588014, 0.42940074906367043, 0.5273408239700375, 0.4393258426966292, 0.501498127340824, 0.6181647940074906, 0.4554119850187266, 0.5185393258426966, 0.45840823970037453, 0.4728520599250936, 0.48226591760299625, 0.44737827715355805, 0.48621722846441945, 0.5734082397003746, 0.47388352059925093, 0.5011235955056179, 0.5256554307116105, 0.4776404494382022, 0.43014981273408237, 0.45644194756554307, 0.485, 0.43689138576779024, 0.46561797752808987, 0.47749063670411984, 0.37696629213483146, 0.3857677902621723, 0.5468164794007491, 0.4863670411985019, 0.47272284644194756, 0.4553183520599251, 0.44588014981273405, 0.40786516853932586, 0.5213483146067416, 0.4699812734082397, 0.4322097378277153, 0.5571161048689138, 0.47447565543071163, 0.4850374531835206, 0.4209737827715356, 0.45822097378277155, 0.503558052434457, 0.5228464419475656, 0.5093632958801498, 0.547003745318352, 0.5329588014981274, 0.5076779026217229, 0.2790262172284644, 0.49382022471910114, 0.4647940074906367, 0.5632958801498127, 0.399625468164794, 0.6065543071161048]",
         "[0 0 0 ... 0 0 0]"
        ],
        [
         "4",
         "0.7527",
         "[0.01224300411455304, 0.007865114438717567, 0.005976491528644126, 0.2543641372219961, 0.015817920810002294, 0.006148165052546263, 0.02836471398086075, 0.015381268412609166, 0.009620030370245516, 0.008376485659610718, 0.009688705172508229, 0.008918884354369017, 0.010078516984619026, 0.023236616227162537, 0.3295004131110954, 0.011484440822315718, 0.007317690409899616, 0.06714672434842148, 0.017826211232528526, 0.03678806684523244, 0.01769842790053653, 0.01583826778335709, 0.008297062475324482, 0.03855190631816799, 0.013228614988180747, 0.025429889416740292, 0.05055207564515229, 0.009426536034856351, 0.02464762759562237, 0.007701357029972902, 0.06911983853881154, 0.02425026239805677, 0.0, 0.008656016987912579, 0.004609930322391465, 0.07710566264004984, 0.0195760444626501, 0.03157643406444292, 0.018853472122684598, 0.3251422430836356, 0.022950652970698204, 0.026888105723202372, 0.010651385463206856, 0.06332350416636874, 0.00019376983127529832, 0.02584334183796482, 0.0275848139598186, 0.009650177340301878, 0.0024768992682696316, 0.05215391337612082, 0.01084965771566939, 0.00786290487711265, 0.024115756907662194, 0.018250258952247404, 0.0370350204338817, 0.016358624234344754, 0.010654989620065268, 0.012317974241861021, 0.008998518294221243, 0.0763844702435682, 0.05711196525570363, 0.03228640988848141, 0.010539892712787106, 0.06314974465417005, 0.032554438218825976, 0.5758628620554569]",
         "[0.39269662921348314, 0.23033707865168537, 0.4099250936329588, 0.449250936329588, 0.4808426966292135, 0.40636704119850187, 0.5078651685393258, 0.43745318352059925, 0.5048689138576778, 0.6323970037453184, 0.41217228464419475, 0.5825842696629213, 0.5380149812734083, 0.5110486891385768, 0.44250936329588014, 0.42940074906367043, 0.5273408239700375, 0.4393258426966292, 0.501498127340824, 0.6181647940074906, 0.4554119850187266, 0.5185393258426966, 0.45840823970037453, 0.4728520599250936, 0.48226591760299625, 0.44737827715355805, 0.48621722846441945, 0.5734082397003746, 0.47388352059925093, 0.5011235955056179, 0.5256554307116105, 0.4776404494382022, 0.43014981273408237, 0.45644194756554307, 0.485, 0.43689138576779024, 0.46561797752808987, 0.47749063670411984, 0.37696629213483146, 0.3857677902621723, 0.5468164794007491, 0.4863670411985019, 0.47272284644194756, 0.4553183520599251, 0.44588014981273405, 0.40786516853932586, 0.5213483146067416, 0.4699812734082397, 0.4322097378277153, 0.5571161048689138, 0.47447565543071163, 0.4850374531835206, 0.4209737827715356, 0.45822097378277155, 0.503558052434457, 0.5228464419475656, 0.5093632958801498, 0.547003745318352, 0.5329588014981274, 0.5076779026217229, 0.2790262172284644, 0.49382022471910114, 0.4647940074906367, 0.5632958801498127, 0.399625468164794, 0.6065543071161048]",
         "[0 1 0 ... 0 0 0]"
        ],
        [
         "5",
         "0.5425",
         "[0.07410537751458217, 0.007497824851676049, 0.00989498164872016, 0.009691187853498692, 0.0034970178423382394, 0.014183741064504825, 0.0629727968472583, 0.020192604747973995, 0.028424675045855736, 0.0, 0.011524849344971076, 0.0045502649105570465, 0.17558620342801173, 0.01836834364433678, 0.048151237432665535, 0.009236783573754239, 0.041212768459223836, 0.010194641704642855, 0.030976666269487575, 0.007233873072064496, 0.08800585950053345, 0.05884004159975219, 0.024858732097595298, 0.012880568229249103, 0.013470200091140848, 0.20391192232933028, 0.028127254072097867, 0.08497717748855371, 0.011225831882830715, 0.0824919905307483, 0.0030957303446371284, 0.03694018297029254, 0.012010756287180659, 0.0010878922830546668, 0.0034530006855771757, 0.0045072097263591255, 0.013242002485019602, 0.0047638655425770275, 0.03200303179605, 0.003323441330178365, 0.0030019436627631638, 0.001997760072229211, 0.045580695210702224, 0.012856134170497645, 0.017120313025103664, 0.00024270917368364244, 0.026219715814775998, 0.007094174346496001, 0.006447145946994026, 0.029414102525540546, 0.049389877566368215, 0.0028198802300953376, 0.012933361036440064, 0.014427769031463918, 0.017391597136147345, 0.13525011702881254, 0.006226793238992953, 0.007448152938907491, 0.007095645061226382, 0.0007169438374480547, 0.020457885325054905, 0.006865784100708023, 0.0017908178425589218, 0.025084663593807306, 0.052930249913310405, 0.006756807004973073, 0.0048363450507291125, 0.016528825675512032, 0.015911472757239697, 0.039986781806783646]",
         "[0.46818352059925095, 0.44719101123595506, 0.46668539325842695, 0.458876404494382, 0.447940074906367, 0.4649438202247191, 0.0, 0.6071161048689139, 0.4674531835205992, 0.3799625468164794, 0.5117977528089888, 0.46614232209737827, 0.23595505617977525, 0.5368913857677903, 0.48653558052434454, 0.44494382022471907, 0.45205992509363296, 0.6116104868913858, 0.38614232209737825, 0.5724719101123595, 0.48443820224719103, 0.5322097378277153, 0.5116104868913858, 0.4936329588014981, 0.48749063670411985, 0.5065543071161048, 0.489812734082397, 0.49307116104868914, 0.6543071161048689, 0.4342696629213483, 0.3702247191011236, 0.4323970037453183, 0.5220973782771535, 0.5303370786516854, 0.5294007490636704, 0.400374531835206, 0.500187265917603, 0.4091760299625468, 0.4562546816479401, 0.47197940074906364, 0.37808988764044943, 0.46801498127340824, 0.49189138576779023, 0.4882771535580524, 0.44681647940074903, 0.37284644194756555, 0.40805243445692885, 0.4243445692883895, 0.4656928838951311, 0.4337078651685393, 0.4544943820224719, 0.5140449438202247, 0.5348314606741573, 0.5417602996254681, 0.8464419475655431, 0.5189138576779027, 0.5234082397003745, 0.4956928838951311, 0.40486891385767787, 0.3677902621722846, 0.547752808988764, 0.5543071161048689, 0.5513108614232209, 0.5441947565543072, 0.399063670411985, 0.47199812734082397, 0.43670411985018726, 0.4700374531835206, 0.501685393258427, 0.46786516853932586]",
         "[0 0 0 ... 0 0 0]"
        ],
        [
         "6",
         "0.9183",
         "[0.008679288914902867, 0.007795781914657731, 0.0028546703013284116, 0.010816047238342914, 0.005242414661933075, 0.014107556613234573, 0.05095193897529907, 0.0018947057810761116, 0.02583679849007079, 0.005004531738860176, 0.0012235993145752633, 0.006353107169474914, 0.017325356628525183, 0.00842632616476699, 0.08421746422569253, 0.023608865586274112, 0.006011970136994578, 0.004624071909331596, 0.04619623331085203, 0.002654393526465399, 0.023689861585109342, 0.013094011486586187, 0.0028738470522616942, 0.018165116396627306, 0.012975846006790153, 0.010839175319849391, 0.007398654350900255, 0.006481558831692566, 0.003953785214813434, 0.010335923113503741, 0.05381011979845642, 0.014985143625024868, 0.008169083323490606, 0.0069496751702803, 0.005488204349890248, 0.018183399816789337, 0.05418871672080333, 0.015336037889323433, 0.001705892343596395, 0.006137864632918051, 0.01460952283993795, 0.00210550698541878, 0.0033911302339519347, 0.009380698362571691, 0.004685572710115093, 0.011391323937154661, 0.0894307358560836, 0.011821469351730046, 0.047538148830045895, 0.0026217718416303715, 0.21426006172945017, 0.004426066964427707, 0.004431461247040993, 0.01833229579840515, 0.006216482542778951, 0.018125622239449996, 0.08359078781246605, 0.014446722477629653, 0.010412065676980688, 0.004388050684937549, 0.008227596799241423, 0.0025619175906921848, 0.01227214040421948, 0.01744777635463964, 0.021817168850663163, 0.007450172942242894, 0.01784690323961585, 0.009685468757868266, 0.009539759020757422, 0.2818748933000893]",
         "[0.34531835205992506, 0.49241573033707864, 0.3767790262172285, 0.5101123595505618, 0.37958801498127337, 0.41067415730337076, 0.4348314606741573, 0.33202247191011236, 0.4443820224719101, 0.4353932584269663, 0.45280898876404496, 0.6162921348314607, 0.3882022471910112, 0.472940074906367, 0.3808988764044944, 0.5891385767790263, 0.5462546816479401, 0.4850749063670412, 0.45640449438202246, 0.6191011235955056, 0.5046816479400749, 0.5297752808988764, 0.46367041198501874, 0.4054307116104869, 0.47195318352059923, 0.5260299625468164, 0.3563670411985018, 0.33164794007490633, 0.5365168539325843, 0.5589887640449438, 0.5234082397003745, 0.45754681647940076, 0.5166666666666666, 0.3855805243445693, 0.48121722846441944, 0.4742865168539326, 0.6102996254681647, 0.44981273408239697, 0.3447565543071161, 0.4630337078651685, 0.5808988764044943, 0.5125468164794007, 0.2846441947565543, 0.48368913857677903, 0.5189138576779027, 0.4543071161048689, 0.4378277153558052, 0.5127340823970037, 0.5601123595505618, 0.3546816479400749, 0.49812734082397003, 0.46074906367041196, 0.27153558052434457, 0.4237827715355805, 0.47846441947565543, 0.44176029962546814, 0.4958801498127341, 0.40486891385767787, 0.4338951310861423, 0.37003745318352055, 0.4054307116104869, 0.4198501872659176, 0.4800936329588015, 0.49235955056179775, 0.5044943820224719, 0.37565543071161045, 0.59625468164794, 0.597565543071161, 0.42453183520599247, 0.6685393258426966]",
         "[0 0 0 ... 0 0 0]"
        ],
        [
         "7",
         "0.9556",
         "[0.008679288914902867, 0.007795781914657731, 0.0028546703013284116, 0.010816047238342914, 0.005242414661933075, 0.014107556613234573, 0.05095193897529907, 0.0018947057810761116, 0.02583679849007079, 0.005004531738860176, 0.0012235993145752633, 0.006353107169474914, 0.017325356628525183, 0.00842632616476699, 0.08421746422569253, 0.023608865586274112, 0.006011970136994578, 0.004624071909331596, 0.04619623331085203, 0.002654393526465399, 0.023689861585109342, 0.013094011486586187, 0.0028738470522616942, 0.018165116396627306, 0.012975846006790153, 0.010839175319849391, 0.007398654350900255, 0.006481558831692566, 0.003953785214813434, 0.010335923113503741, 0.05381011979845642, 0.014985143625024868, 0.008169083323490606, 0.0069496751702803, 0.005488204349890248, 0.018183399816789337, 0.05418871672080333, 0.015336037889323433, 0.001705892343596395, 0.006137864632918051, 0.01460952283993795, 0.00210550698541878, 0.0033911302339519347, 0.009380698362571691, 0.004685572710115093, 0.011391323937154661, 0.0894307358560836, 0.011821469351730046, 0.047538148830045895, 0.0026217718416303715, 0.21426006172945017, 0.004426066964427707, 0.004431461247040993, 0.01833229579840515, 0.006216482542778951, 0.018125622239449996, 0.08359078781246605, 0.014446722477629653, 0.010412065676980688, 0.004388050684937549, 0.008227596799241423, 0.0025619175906921848, 0.01227214040421948, 0.01744777635463964, 0.021817168850663163, 0.007450172942242894, 0.01784690323961585, 0.009685468757868266, 0.009539759020757422, 0.2818748933000893]",
         "[0.34531835205992506, 0.49241573033707864, 0.3767790262172285, 0.5101123595505618, 0.37958801498127337, 0.41067415730337076, 0.4348314606741573, 0.33202247191011236, 0.4443820224719101, 0.4353932584269663, 0.45280898876404496, 0.6162921348314607, 0.3882022471910112, 0.472940074906367, 0.3808988764044944, 0.5891385767790263, 0.5462546816479401, 0.4850749063670412, 0.45640449438202246, 0.6191011235955056, 0.5046816479400749, 0.5297752808988764, 0.46367041198501874, 0.4054307116104869, 0.47195318352059923, 0.5260299625468164, 0.3563670411985018, 0.33164794007490633, 0.5365168539325843, 0.5589887640449438, 0.5234082397003745, 0.45754681647940076, 0.5166666666666666, 0.3855805243445693, 0.48121722846441944, 0.4742865168539326, 0.6102996254681647, 0.44981273408239697, 0.3447565543071161, 0.4630337078651685, 0.5808988764044943, 0.5125468164794007, 0.2846441947565543, 0.48368913857677903, 0.5189138576779027, 0.4543071161048689, 0.4378277153558052, 0.5127340823970037, 0.5601123595505618, 0.3546816479400749, 0.49812734082397003, 0.46074906367041196, 0.27153558052434457, 0.4237827715355805, 0.47846441947565543, 0.44176029962546814, 0.4958801498127341, 0.40486891385767787, 0.4338951310861423, 0.37003745318352055, 0.4054307116104869, 0.4198501872659176, 0.4800936329588015, 0.49235955056179775, 0.5044943820224719, 0.37565543071161045, 0.59625468164794, 0.597565543071161, 0.42453183520599247, 0.6685393258426966]",
         "[0 0 0 ... 0 0 0]"
        ],
        [
         "8",
         "0.7298",
         "[0.06338197166779014, 0.05589282749969057, 0.008607670366814193, 0.053305027543569646, 0.03449775864582357, 0.002654019822390285, 0.08403950642203803, 0.019255463816222874, 0.009020893274300877, 0.008909408229696186, 0.0023043696201344352, 0.0027790801157792575, 2.7998458349582083e-05, 2.3020478633280677e-05, 0.010203009969721188, 0.0447953480008158, 0.017762546380684457, 0.03316737619492644, 0.014625494783197041, 0.0014281978828614825, 0.01581670664803721, 0.02520382434365949, 0.023678459346213064, 0.006918350268423413, 0.027625604146007853, 0.10829977745410348, 0.01720336711710299, 0.024069730855536396, 0.05368285244986727, 0.00699812209162673, 0.03732710853200296, 0.02030115753602447, 0.04163778868470459, 0.0019337085103446861, 0.005513737683576875, 0.023278695317886053, 0.19941331810701057, 0.002941363422769446, 0.010677721697920615, 0.021044852082919258, 0.0031370665426979755, 0.028159132256515066, 0.022260494014317074, 0.026484997670805456, 0.005977913485744641, 0.018686182916206596, 0.005317498877280275, 0.17380212411602358, 0.003205641941277885, 0.021400810794433192, 0.00947659892800578, 0.018669768952916884]",
         "[0.4945692883895131, 0.35187265917602994, 0.465561797752809, 0.3808988764044944, 0.5142322097378277, 0.547752808988764, 0.5117977528089888, 0.4157303370786517, 0.37565543071161045, 0.5101123595505618, 0.45691011235955054, 0.37397003745318347, 0.499438202247191, 0.4599812734082397, 0.471310861423221, 0.44232209737827716, 0.47473595505617977, 0.48196629213483144, 0.4342696629213483, 0.5074906367041199, 0.46775280898876404, 0.5194756554307116, 0.5110486891385768, 0.4378277153558052, 0.5102996254681648, 0.39925093632958797, 0.5702247191011236, 0.4639138576779026, 0.4574531835205992, 0.39700374531835203, 0.45597378277153555, 0.31928838951310856, 0.5430711610486891, 0.3382022471910112, 0.48164794007490636, 0.6177902621722846, 0.37134831460674156, 0.5318352059925093, 0.600936329588015, 0.4273408239700374, 0.4700374531835206, 0.4447565543071161, 0.4905805243445693, 0.49812734082397003, 0.397191011235955, 0.38108614232209737, 0.5102996254681648, 0.5574906367041198, 0.5395131086142322, 0.5297752808988764, 0.6037453183520599, 0.5097378277153558]",
         "[0 0 0 ... 0 0 0]"
        ],
        [
         "9",
         "0.5885",
         "[0.06338197166779014, 0.05589282749969057, 0.008607670366814193, 0.053305027543569646, 0.03449775864582357, 0.002654019822390285, 0.08403950642203803, 0.019255463816222874, 0.009020893274300877, 0.008909408229696186, 0.0023043696201344352, 0.0027790801157792575, 2.7998458349582083e-05, 2.3020478633280677e-05, 0.010203009969721188, 0.0447953480008158, 0.017762546380684457, 0.03316737619492644, 0.014625494783197041, 0.0014281978828614825, 0.01581670664803721, 0.02520382434365949, 0.023678459346213064, 0.006918350268423413, 0.027625604146007853, 0.10829977745410348, 0.01720336711710299, 0.024069730855536396, 0.05368285244986727, 0.00699812209162673, 0.03732710853200296, 0.02030115753602447, 0.04163778868470459, 0.0019337085103446861, 0.005513737683576875, 0.023278695317886053, 0.19941331810701057, 0.002941363422769446, 0.010677721697920615, 0.021044852082919258, 0.0031370665426979755, 0.028159132256515066, 0.022260494014317074, 0.026484997670805456, 0.005977913485744641, 0.018686182916206596, 0.005317498877280275, 0.17380212411602358, 0.003205641941277885, 0.021400810794433192, 0.00947659892800578, 0.018669768952916884]",
         "[0.4945692883895131, 0.35187265917602994, 0.465561797752809, 0.3808988764044944, 0.5142322097378277, 0.547752808988764, 0.5117977528089888, 0.4157303370786517, 0.37565543071161045, 0.5101123595505618, 0.45691011235955054, 0.37397003745318347, 0.499438202247191, 0.4599812734082397, 0.471310861423221, 0.44232209737827716, 0.47473595505617977, 0.48196629213483144, 0.4342696629213483, 0.5074906367041199, 0.46775280898876404, 0.5194756554307116, 0.5110486891385768, 0.4378277153558052, 0.5102996254681648, 0.39925093632958797, 0.5702247191011236, 0.4639138576779026, 0.4574531835205992, 0.39700374531835203, 0.45597378277153555, 0.31928838951310856, 0.5430711610486891, 0.3382022471910112, 0.48164794007490636, 0.6177902621722846, 0.37134831460674156, 0.5318352059925093, 0.600936329588015, 0.4273408239700374, 0.4700374531835206, 0.4447565543071161, 0.4905805243445693, 0.49812734082397003, 0.397191011235955, 0.38108614232209737, 0.5102996254681648, 0.5574906367041198, 0.5395131086142322, 0.5297752808988764, 0.6037453183520599, 0.5097378277153558]",
         "[0 0 0 ... 0 0 0]"
        ],
        [
         "10",
         "0.8854",
         "[0.06338197166779014, 0.05589282749969057, 0.008607670366814193, 0.053305027543569646, 0.03449775864582357, 0.002654019822390285, 0.08403950642203803, 0.019255463816222874, 0.009020893274300877, 0.008909408229696186, 0.0023043696201344352, 0.0027790801157792575, 2.7998458349582083e-05, 2.3020478633280677e-05, 0.010203009969721188, 0.0447953480008158, 0.017762546380684457, 0.03316737619492644, 0.014625494783197041, 0.0014281978828614825, 0.01581670664803721, 0.02520382434365949, 0.023678459346213064, 0.006918350268423413, 0.027625604146007853, 0.10829977745410348, 0.01720336711710299, 0.024069730855536396, 0.05368285244986727, 0.00699812209162673, 0.03732710853200296, 0.02030115753602447, 0.04163778868470459, 0.0019337085103446861, 0.005513737683576875, 0.023278695317886053, 0.19941331810701057, 0.002941363422769446, 0.010677721697920615, 0.021044852082919258, 0.0031370665426979755, 0.028159132256515066, 0.022260494014317074, 0.026484997670805456, 0.005977913485744641, 0.018686182916206596, 0.005317498877280275, 0.17380212411602358, 0.003205641941277885, 0.021400810794433192, 0.00947659892800578, 0.018669768952916884]",
         "[0.4945692883895131, 0.35187265917602994, 0.465561797752809, 0.3808988764044944, 0.5142322097378277, 0.547752808988764, 0.5117977528089888, 0.4157303370786517, 0.37565543071161045, 0.5101123595505618, 0.45691011235955054, 0.37397003745318347, 0.499438202247191, 0.4599812734082397, 0.471310861423221, 0.44232209737827716, 0.47473595505617977, 0.48196629213483144, 0.4342696629213483, 0.5074906367041199, 0.46775280898876404, 0.5194756554307116, 0.5110486891385768, 0.4378277153558052, 0.5102996254681648, 0.39925093632958797, 0.5702247191011236, 0.4639138576779026, 0.4574531835205992, 0.39700374531835203, 0.45597378277153555, 0.31928838951310856, 0.5430711610486891, 0.3382022471910112, 0.48164794007490636, 0.6177902621722846, 0.37134831460674156, 0.5318352059925093, 0.600936329588015, 0.4273408239700374, 0.4700374531835206, 0.4447565543071161, 0.4905805243445693, 0.49812734082397003, 0.397191011235955, 0.38108614232209737, 0.5102996254681648, 0.5574906367041198, 0.5395131086142322, 0.5297752808988764, 0.6037453183520599, 0.5097378277153558]",
         "[0 0 0 ... 0 0 0]"
        ],
        [
         "11",
         "0.818",
         "[0.06338197166779014, 0.05589282749969057, 0.008607670366814193, 0.053305027543569646, 0.03449775864582357, 0.002654019822390285, 0.08403950642203803, 0.019255463816222874, 0.009020893274300877, 0.008909408229696186, 0.0023043696201344352, 0.0027790801157792575, 2.7998458349582083e-05, 2.3020478633280677e-05, 0.010203009969721188, 0.0447953480008158, 0.017762546380684457, 0.03316737619492644, 0.014625494783197041, 0.0014281978828614825, 0.01581670664803721, 0.02520382434365949, 0.023678459346213064, 0.006918350268423413, 0.027625604146007853, 0.10829977745410348, 0.01720336711710299, 0.024069730855536396, 0.05368285244986727, 0.00699812209162673, 0.03732710853200296, 0.02030115753602447, 0.04163778868470459, 0.0019337085103446861, 0.005513737683576875, 0.023278695317886053, 0.19941331810701057, 0.002941363422769446, 0.010677721697920615, 0.021044852082919258, 0.0031370665426979755, 0.028159132256515066, 0.022260494014317074, 0.026484997670805456, 0.005977913485744641, 0.018686182916206596, 0.005317498877280275, 0.17380212411602358, 0.003205641941277885, 0.021400810794433192, 0.00947659892800578, 0.018669768952916884]",
         "[0.4945692883895131, 0.35187265917602994, 0.465561797752809, 0.3808988764044944, 0.5142322097378277, 0.547752808988764, 0.5117977528089888, 0.4157303370786517, 0.37565543071161045, 0.5101123595505618, 0.45691011235955054, 0.37397003745318347, 0.499438202247191, 0.4599812734082397, 0.471310861423221, 0.44232209737827716, 0.47473595505617977, 0.48196629213483144, 0.4342696629213483, 0.5074906367041199, 0.46775280898876404, 0.5194756554307116, 0.5110486891385768, 0.4378277153558052, 0.5102996254681648, 0.39925093632958797, 0.5702247191011236, 0.4639138576779026, 0.4574531835205992, 0.39700374531835203, 0.45597378277153555, 0.31928838951310856, 0.5430711610486891, 0.3382022471910112, 0.48164794007490636, 0.6177902621722846, 0.37134831460674156, 0.5318352059925093, 0.600936329588015, 0.4273408239700374, 0.4700374531835206, 0.4447565543071161, 0.4905805243445693, 0.49812734082397003, 0.397191011235955, 0.38108614232209737, 0.5102996254681648, 0.5574906367041198, 0.5395131086142322, 0.5297752808988764, 0.6037453183520599, 0.5097378277153558]",
         "[0 1 0 ... 0 0 0]"
        ],
        [
         "12",
         "0.2831",
         "[0.06338197166779014, 0.05589282749969057, 0.008607670366814193, 0.053305027543569646, 0.03449775864582357, 0.002654019822390285, 0.08403950642203803, 0.019255463816222874, 0.009020893274300877, 0.008909408229696186, 0.0023043696201344352, 0.0027790801157792575, 2.7998458349582083e-05, 2.3020478633280677e-05, 0.010203009969721188, 0.0447953480008158, 0.017762546380684457, 0.03316737619492644, 0.014625494783197041, 0.0014281978828614825, 0.01581670664803721, 0.02520382434365949, 0.023678459346213064, 0.006918350268423413, 0.027625604146007853, 0.10829977745410348, 0.01720336711710299, 0.024069730855536396, 0.05368285244986727, 0.00699812209162673, 0.03732710853200296, 0.02030115753602447, 0.04163778868470459, 0.0019337085103446861, 0.005513737683576875, 0.023278695317886053, 0.19941331810701057, 0.002941363422769446, 0.010677721697920615, 0.021044852082919258, 0.0031370665426979755, 0.028159132256515066, 0.022260494014317074, 0.026484997670805456, 0.005977913485744641, 0.018686182916206596, 0.005317498877280275, 0.17380212411602358, 0.003205641941277885, 0.021400810794433192, 0.00947659892800578, 0.018669768952916884]",
         "[0.4945692883895131, 0.35187265917602994, 0.465561797752809, 0.3808988764044944, 0.5142322097378277, 0.547752808988764, 0.5117977528089888, 0.4157303370786517, 0.37565543071161045, 0.5101123595505618, 0.45691011235955054, 0.37397003745318347, 0.499438202247191, 0.4599812734082397, 0.471310861423221, 0.44232209737827716, 0.47473595505617977, 0.48196629213483144, 0.4342696629213483, 0.5074906367041199, 0.46775280898876404, 0.5194756554307116, 0.5110486891385768, 0.4378277153558052, 0.5102996254681648, 0.39925093632958797, 0.5702247191011236, 0.4639138576779026, 0.4574531835205992, 0.39700374531835203, 0.45597378277153555, 0.31928838951310856, 0.5430711610486891, 0.3382022471910112, 0.48164794007490636, 0.6177902621722846, 0.37134831460674156, 0.5318352059925093, 0.600936329588015, 0.4273408239700374, 0.4700374531835206, 0.4447565543071161, 0.4905805243445693, 0.49812734082397003, 0.397191011235955, 0.38108614232209737, 0.5102996254681648, 0.5574906367041198, 0.5395131086142322, 0.5297752808988764, 0.6037453183520599, 0.5097378277153558]",
         "[0 0 0 ... 0 0 0]"
        ],
        [
         "13",
         "0.4595",
         "[0.06338197166779014, 0.05589282749969057, 0.008607670366814193, 0.053305027543569646, 0.03449775864582357, 0.002654019822390285, 0.08403950642203803, 0.019255463816222874, 0.009020893274300877, 0.008909408229696186, 0.0023043696201344352, 0.0027790801157792575, 2.7998458349582083e-05, 2.3020478633280677e-05, 0.010203009969721188, 0.0447953480008158, 0.017762546380684457, 0.03316737619492644, 0.014625494783197041, 0.0014281978828614825, 0.01581670664803721, 0.02520382434365949, 0.023678459346213064, 0.006918350268423413, 0.027625604146007853, 0.10829977745410348, 0.01720336711710299, 0.024069730855536396, 0.05368285244986727, 0.00699812209162673, 0.03732710853200296, 0.02030115753602447, 0.04163778868470459, 0.0019337085103446861, 0.005513737683576875, 0.023278695317886053, 0.19941331810701057, 0.002941363422769446, 0.010677721697920615, 0.021044852082919258, 0.0031370665426979755, 0.028159132256515066, 0.022260494014317074, 0.026484997670805456, 0.005977913485744641, 0.018686182916206596, 0.005317498877280275, 0.17380212411602358, 0.003205641941277885, 0.021400810794433192, 0.00947659892800578, 0.018669768952916884]",
         "[0.4945692883895131, 0.35187265917602994, 0.465561797752809, 0.3808988764044944, 0.5142322097378277, 0.547752808988764, 0.5117977528089888, 0.4157303370786517, 0.37565543071161045, 0.5101123595505618, 0.45691011235955054, 0.37397003745318347, 0.499438202247191, 0.4599812734082397, 0.471310861423221, 0.44232209737827716, 0.47473595505617977, 0.48196629213483144, 0.4342696629213483, 0.5074906367041199, 0.46775280898876404, 0.5194756554307116, 0.5110486891385768, 0.4378277153558052, 0.5102996254681648, 0.39925093632958797, 0.5702247191011236, 0.4639138576779026, 0.4574531835205992, 0.39700374531835203, 0.45597378277153555, 0.31928838951310856, 0.5430711610486891, 0.3382022471910112, 0.48164794007490636, 0.6177902621722846, 0.37134831460674156, 0.5318352059925093, 0.600936329588015, 0.4273408239700374, 0.4700374531835206, 0.4447565543071161, 0.4905805243445693, 0.49812734082397003, 0.397191011235955, 0.38108614232209737, 0.5102996254681648, 0.5574906367041198, 0.5395131086142322, 0.5297752808988764, 0.6037453183520599, 0.5097378277153558]",
         "[0 0 0 ... 0 0 0]"
        ],
        [
         "14",
         "1.0",
         "[0.06338197166779014, 0.05589282749969057, 0.008607670366814193, 0.053305027543569646, 0.03449775864582357, 0.002654019822390285, 0.08403950642203803, 0.019255463816222874, 0.009020893274300877, 0.008909408229696186, 0.0023043696201344352, 0.0027790801157792575, 2.7998458349582083e-05, 2.3020478633280677e-05, 0.010203009969721188, 0.0447953480008158, 0.017762546380684457, 0.03316737619492644, 0.014625494783197041, 0.0014281978828614825, 0.01581670664803721, 0.02520382434365949, 0.023678459346213064, 0.006918350268423413, 0.027625604146007853, 0.10829977745410348, 0.01720336711710299, 0.024069730855536396, 0.05368285244986727, 0.00699812209162673, 0.03732710853200296, 0.02030115753602447, 0.04163778868470459, 0.0019337085103446861, 0.005513737683576875, 0.023278695317886053, 0.19941331810701057, 0.002941363422769446, 0.010677721697920615, 0.021044852082919258, 0.0031370665426979755, 0.028159132256515066, 0.022260494014317074, 0.026484997670805456, 0.005977913485744641, 0.018686182916206596, 0.005317498877280275, 0.17380212411602358, 0.003205641941277885, 0.021400810794433192, 0.00947659892800578, 0.018669768952916884]",
         "[0.4945692883895131, 0.35187265917602994, 0.465561797752809, 0.3808988764044944, 0.5142322097378277, 0.547752808988764, 0.5117977528089888, 0.4157303370786517, 0.37565543071161045, 0.5101123595505618, 0.45691011235955054, 0.37397003745318347, 0.499438202247191, 0.4599812734082397, 0.471310861423221, 0.44232209737827716, 0.47473595505617977, 0.48196629213483144, 0.4342696629213483, 0.5074906367041199, 0.46775280898876404, 0.5194756554307116, 0.5110486891385768, 0.4378277153558052, 0.5102996254681648, 0.39925093632958797, 0.5702247191011236, 0.4639138576779026, 0.4574531835205992, 0.39700374531835203, 0.45597378277153555, 0.31928838951310856, 0.5430711610486891, 0.3382022471910112, 0.48164794007490636, 0.6177902621722846, 0.37134831460674156, 0.5318352059925093, 0.600936329588015, 0.4273408239700374, 0.4700374531835206, 0.4447565543071161, 0.4905805243445693, 0.49812734082397003, 0.397191011235955, 0.38108614232209737, 0.5102996254681648, 0.5574906367041198, 0.5395131086142322, 0.5297752808988764, 0.6037453183520599, 0.5097378277153558]",
         "[0 1 0 ... 0 0 0]"
        ],
        [
         "15",
         "0.9269",
         "[0.06338197166779014, 0.05589282749969057, 0.008607670366814193, 0.053305027543569646, 0.03449775864582357, 0.002654019822390285, 0.08403950642203803, 0.019255463816222874, 0.009020893274300877, 0.008909408229696186, 0.0023043696201344352, 0.0027790801157792575, 2.7998458349582083e-05, 2.3020478633280677e-05, 0.010203009969721188, 0.0447953480008158, 0.017762546380684457, 0.03316737619492644, 0.014625494783197041, 0.0014281978828614825, 0.01581670664803721, 0.02520382434365949, 0.023678459346213064, 0.006918350268423413, 0.027625604146007853, 0.10829977745410348, 0.01720336711710299, 0.024069730855536396, 0.05368285244986727, 0.00699812209162673, 0.03732710853200296, 0.02030115753602447, 0.04163778868470459, 0.0019337085103446861, 0.005513737683576875, 0.023278695317886053, 0.19941331810701057, 0.002941363422769446, 0.010677721697920615, 0.021044852082919258, 0.0031370665426979755, 0.028159132256515066, 0.022260494014317074, 0.026484997670805456, 0.005977913485744641, 0.018686182916206596, 0.005317498877280275, 0.17380212411602358, 0.003205641941277885, 0.021400810794433192, 0.00947659892800578, 0.018669768952916884]",
         "[0.4945692883895131, 0.35187265917602994, 0.465561797752809, 0.3808988764044944, 0.5142322097378277, 0.547752808988764, 0.5117977528089888, 0.4157303370786517, 0.37565543071161045, 0.5101123595505618, 0.45691011235955054, 0.37397003745318347, 0.499438202247191, 0.4599812734082397, 0.471310861423221, 0.44232209737827716, 0.47473595505617977, 0.48196629213483144, 0.4342696629213483, 0.5074906367041199, 0.46775280898876404, 0.5194756554307116, 0.5110486891385768, 0.4378277153558052, 0.5102996254681648, 0.39925093632958797, 0.5702247191011236, 0.4639138576779026, 0.4574531835205992, 0.39700374531835203, 0.45597378277153555, 0.31928838951310856, 0.5430711610486891, 0.3382022471910112, 0.48164794007490636, 0.6177902621722846, 0.37134831460674156, 0.5318352059925093, 0.600936329588015, 0.4273408239700374, 0.4700374531835206, 0.4447565543071161, 0.4905805243445693, 0.49812734082397003, 0.397191011235955, 0.38108614232209737, 0.5102996254681648, 0.5574906367041198, 0.5395131086142322, 0.5297752808988764, 0.6037453183520599, 0.5097378277153558]",
         "[0 0 0 ... 0 0 0]"
        ],
        [
         "16",
         "0.8257",
         "[0.06338197166779014, 0.05589282749969057, 0.008607670366814193, 0.053305027543569646, 0.03449775864582357, 0.002654019822390285, 0.08403950642203803, 0.019255463816222874, 0.009020893274300877, 0.008909408229696186, 0.0023043696201344352, 0.0027790801157792575, 2.7998458349582083e-05, 2.3020478633280677e-05, 0.010203009969721188, 0.0447953480008158, 0.017762546380684457, 0.03316737619492644, 0.014625494783197041, 0.0014281978828614825, 0.01581670664803721, 0.02520382434365949, 0.023678459346213064, 0.006918350268423413, 0.027625604146007853, 0.10829977745410348, 0.01720336711710299, 0.024069730855536396, 0.05368285244986727, 0.00699812209162673, 0.03732710853200296, 0.02030115753602447, 0.04163778868470459, 0.0019337085103446861, 0.005513737683576875, 0.023278695317886053, 0.19941331810701057, 0.002941363422769446, 0.010677721697920615, 0.021044852082919258, 0.0031370665426979755, 0.028159132256515066, 0.022260494014317074, 0.026484997670805456, 0.005977913485744641, 0.018686182916206596, 0.005317498877280275, 0.17380212411602358, 0.003205641941277885, 0.021400810794433192, 0.00947659892800578, 0.018669768952916884]",
         "[0.4945692883895131, 0.35187265917602994, 0.465561797752809, 0.3808988764044944, 0.5142322097378277, 0.547752808988764, 0.5117977528089888, 0.4157303370786517, 0.37565543071161045, 0.5101123595505618, 0.45691011235955054, 0.37397003745318347, 0.499438202247191, 0.4599812734082397, 0.471310861423221, 0.44232209737827716, 0.47473595505617977, 0.48196629213483144, 0.4342696629213483, 0.5074906367041199, 0.46775280898876404, 0.5194756554307116, 0.5110486891385768, 0.4378277153558052, 0.5102996254681648, 0.39925093632958797, 0.5702247191011236, 0.4639138576779026, 0.4574531835205992, 0.39700374531835203, 0.45597378277153555, 0.31928838951310856, 0.5430711610486891, 0.3382022471910112, 0.48164794007490636, 0.6177902621722846, 0.37134831460674156, 0.5318352059925093, 0.600936329588015, 0.4273408239700374, 0.4700374531835206, 0.4447565543071161, 0.4905805243445693, 0.49812734082397003, 0.397191011235955, 0.38108614232209737, 0.5102996254681648, 0.5574906367041198, 0.5395131086142322, 0.5297752808988764, 0.6037453183520599, 0.5097378277153558]",
         "[0 0 0 ... 0 0 0]"
        ],
        [
         "17",
         "0.9082",
         "[0.06338197166779014, 0.05589282749969057, 0.008607670366814193, 0.053305027543569646, 0.03449775864582357, 0.002654019822390285, 0.08403950642203803, 0.019255463816222874, 0.009020893274300877, 0.008909408229696186, 0.0023043696201344352, 0.0027790801157792575, 2.7998458349582083e-05, 2.3020478633280677e-05, 0.010203009969721188, 0.0447953480008158, 0.017762546380684457, 0.03316737619492644, 0.014625494783197041, 0.0014281978828614825, 0.01581670664803721, 0.02520382434365949, 0.023678459346213064, 0.006918350268423413, 0.027625604146007853, 0.10829977745410348, 0.01720336711710299, 0.024069730855536396, 0.05368285244986727, 0.00699812209162673, 0.03732710853200296, 0.02030115753602447, 0.04163778868470459, 0.0019337085103446861, 0.005513737683576875, 0.023278695317886053, 0.19941331810701057, 0.002941363422769446, 0.010677721697920615, 0.021044852082919258, 0.0031370665426979755, 0.028159132256515066, 0.022260494014317074, 0.026484997670805456, 0.005977913485744641, 0.018686182916206596, 0.005317498877280275, 0.17380212411602358, 0.003205641941277885, 0.021400810794433192, 0.00947659892800578, 0.018669768952916884]",
         "[0.4945692883895131, 0.35187265917602994, 0.465561797752809, 0.3808988764044944, 0.5142322097378277, 0.547752808988764, 0.5117977528089888, 0.4157303370786517, 0.37565543071161045, 0.5101123595505618, 0.45691011235955054, 0.37397003745318347, 0.499438202247191, 0.4599812734082397, 0.471310861423221, 0.44232209737827716, 0.47473595505617977, 0.48196629213483144, 0.4342696629213483, 0.5074906367041199, 0.46775280898876404, 0.5194756554307116, 0.5110486891385768, 0.4378277153558052, 0.5102996254681648, 0.39925093632958797, 0.5702247191011236, 0.4639138576779026, 0.4574531835205992, 0.39700374531835203, 0.45597378277153555, 0.31928838951310856, 0.5430711610486891, 0.3382022471910112, 0.48164794007490636, 0.6177902621722846, 0.37134831460674156, 0.5318352059925093, 0.600936329588015, 0.4273408239700374, 0.4700374531835206, 0.4447565543071161, 0.4905805243445693, 0.49812734082397003, 0.397191011235955, 0.38108614232209737, 0.5102996254681648, 0.5574906367041198, 0.5395131086142322, 0.5297752808988764, 0.6037453183520599, 0.5097378277153558]",
         "[0 1 0 ... 0 0 0]"
        ],
        [
         "18",
         "0.9356",
         "[0.06338197166779014, 0.05589282749969057, 0.008607670366814193, 0.053305027543569646, 0.03449775864582357, 0.002654019822390285, 0.08403950642203803, 0.019255463816222874, 0.009020893274300877, 0.008909408229696186, 0.0023043696201344352, 0.0027790801157792575, 2.7998458349582083e-05, 2.3020478633280677e-05, 0.010203009969721188, 0.0447953480008158, 0.017762546380684457, 0.03316737619492644, 0.014625494783197041, 0.0014281978828614825, 0.01581670664803721, 0.02520382434365949, 0.023678459346213064, 0.006918350268423413, 0.027625604146007853, 0.10829977745410348, 0.01720336711710299, 0.024069730855536396, 0.05368285244986727, 0.00699812209162673, 0.03732710853200296, 0.02030115753602447, 0.04163778868470459, 0.0019337085103446861, 0.005513737683576875, 0.023278695317886053, 0.19941331810701057, 0.002941363422769446, 0.010677721697920615, 0.021044852082919258, 0.0031370665426979755, 0.028159132256515066, 0.022260494014317074, 0.026484997670805456, 0.005977913485744641, 0.018686182916206596, 0.005317498877280275, 0.17380212411602358, 0.003205641941277885, 0.021400810794433192, 0.00947659892800578, 0.018669768952916884]",
         "[0.4945692883895131, 0.35187265917602994, 0.465561797752809, 0.3808988764044944, 0.5142322097378277, 0.547752808988764, 0.5117977528089888, 0.4157303370786517, 0.37565543071161045, 0.5101123595505618, 0.45691011235955054, 0.37397003745318347, 0.499438202247191, 0.4599812734082397, 0.471310861423221, 0.44232209737827716, 0.47473595505617977, 0.48196629213483144, 0.4342696629213483, 0.5074906367041199, 0.46775280898876404, 0.5194756554307116, 0.5110486891385768, 0.4378277153558052, 0.5102996254681648, 0.39925093632958797, 0.5702247191011236, 0.4639138576779026, 0.4574531835205992, 0.39700374531835203, 0.45597378277153555, 0.31928838951310856, 0.5430711610486891, 0.3382022471910112, 0.48164794007490636, 0.6177902621722846, 0.37134831460674156, 0.5318352059925093, 0.600936329588015, 0.4273408239700374, 0.4700374531835206, 0.4447565543071161, 0.4905805243445693, 0.49812734082397003, 0.397191011235955, 0.38108614232209737, 0.5102996254681648, 0.5574906367041198, 0.5395131086142322, 0.5297752808988764, 0.6037453183520599, 0.5097378277153558]",
         "[0 0 0 ... 0 0 0]"
        ],
        [
         "19",
         "0.6139",
         "[0.06338197166779014, 0.05589282749969057, 0.008607670366814193, 0.053305027543569646, 0.03449775864582357, 0.002654019822390285, 0.08403950642203803, 0.019255463816222874, 0.009020893274300877, 0.008909408229696186, 0.0023043696201344352, 0.0027790801157792575, 2.7998458349582083e-05, 2.3020478633280677e-05, 0.010203009969721188, 0.0447953480008158, 0.017762546380684457, 0.03316737619492644, 0.014625494783197041, 0.0014281978828614825, 0.01581670664803721, 0.02520382434365949, 0.023678459346213064, 0.006918350268423413, 0.027625604146007853, 0.10829977745410348, 0.01720336711710299, 0.024069730855536396, 0.05368285244986727, 0.00699812209162673, 0.03732710853200296, 0.02030115753602447, 0.04163778868470459, 0.0019337085103446861, 0.005513737683576875, 0.023278695317886053, 0.19941331810701057, 0.002941363422769446, 0.010677721697920615, 0.021044852082919258, 0.0031370665426979755, 0.028159132256515066, 0.022260494014317074, 0.026484997670805456, 0.005977913485744641, 0.018686182916206596, 0.005317498877280275, 0.17380212411602358, 0.003205641941277885, 0.021400810794433192, 0.00947659892800578, 0.018669768952916884]",
         "[0.4945692883895131, 0.35187265917602994, 0.465561797752809, 0.3808988764044944, 0.5142322097378277, 0.547752808988764, 0.5117977528089888, 0.4157303370786517, 0.37565543071161045, 0.5101123595505618, 0.45691011235955054, 0.37397003745318347, 0.499438202247191, 0.4599812734082397, 0.471310861423221, 0.44232209737827716, 0.47473595505617977, 0.48196629213483144, 0.4342696629213483, 0.5074906367041199, 0.46775280898876404, 0.5194756554307116, 0.5110486891385768, 0.4378277153558052, 0.5102996254681648, 0.39925093632958797, 0.5702247191011236, 0.4639138576779026, 0.4574531835205992, 0.39700374531835203, 0.45597378277153555, 0.31928838951310856, 0.5430711610486891, 0.3382022471910112, 0.48164794007490636, 0.6177902621722846, 0.37134831460674156, 0.5318352059925093, 0.600936329588015, 0.4273408239700374, 0.4700374531835206, 0.4447565543071161, 0.4905805243445693, 0.49812734082397003, 0.397191011235955, 0.38108614232209737, 0.5102996254681648, 0.5574906367041198, 0.5395131086142322, 0.5297752808988764, 0.6037453183520599, 0.5097378277153558]",
         "[0 0 0 ... 0 0 0]"
        ],
        [
         "20",
         "0.8992",
         "[0.06338197166779014, 0.05589282749969057, 0.008607670366814193, 0.053305027543569646, 0.03449775864582357, 0.002654019822390285, 0.08403950642203803, 0.019255463816222874, 0.009020893274300877, 0.008909408229696186, 0.0023043696201344352, 0.0027790801157792575, 2.7998458349582083e-05, 2.3020478633280677e-05, 0.010203009969721188, 0.0447953480008158, 0.017762546380684457, 0.03316737619492644, 0.014625494783197041, 0.0014281978828614825, 0.01581670664803721, 0.02520382434365949, 0.023678459346213064, 0.006918350268423413, 0.027625604146007853, 0.10829977745410348, 0.01720336711710299, 0.024069730855536396, 0.05368285244986727, 0.00699812209162673, 0.03732710853200296, 0.02030115753602447, 0.04163778868470459, 0.0019337085103446861, 0.005513737683576875, 0.023278695317886053, 0.19941331810701057, 0.002941363422769446, 0.010677721697920615, 0.021044852082919258, 0.0031370665426979755, 0.028159132256515066, 0.022260494014317074, 0.026484997670805456, 0.005977913485744641, 0.018686182916206596, 0.005317498877280275, 0.17380212411602358, 0.003205641941277885, 0.021400810794433192, 0.00947659892800578, 0.018669768952916884]",
         "[0.4945692883895131, 0.35187265917602994, 0.465561797752809, 0.3808988764044944, 0.5142322097378277, 0.547752808988764, 0.5117977528089888, 0.4157303370786517, 0.37565543071161045, 0.5101123595505618, 0.45691011235955054, 0.37397003745318347, 0.499438202247191, 0.4599812734082397, 0.471310861423221, 0.44232209737827716, 0.47473595505617977, 0.48196629213483144, 0.4342696629213483, 0.5074906367041199, 0.46775280898876404, 0.5194756554307116, 0.5110486891385768, 0.4378277153558052, 0.5102996254681648, 0.39925093632958797, 0.5702247191011236, 0.4639138576779026, 0.4574531835205992, 0.39700374531835203, 0.45597378277153555, 0.31928838951310856, 0.5430711610486891, 0.3382022471910112, 0.48164794007490636, 0.6177902621722846, 0.37134831460674156, 0.5318352059925093, 0.600936329588015, 0.4273408239700374, 0.4700374531835206, 0.4447565543071161, 0.4905805243445693, 0.49812734082397003, 0.397191011235955, 0.38108614232209737, 0.5102996254681648, 0.5574906367041198, 0.5395131086142322, 0.5297752808988764, 0.6037453183520599, 0.5097378277153558]",
         "[0 0 0 ... 0 0 0]"
        ],
        [
         "21",
         "0.9484",
         "[0.06338197166779014, 0.05589282749969057, 0.008607670366814193, 0.053305027543569646, 0.03449775864582357, 0.002654019822390285, 0.08403950642203803, 0.019255463816222874, 0.009020893274300877, 0.008909408229696186, 0.0023043696201344352, 0.0027790801157792575, 2.7998458349582083e-05, 2.3020478633280677e-05, 0.010203009969721188, 0.0447953480008158, 0.017762546380684457, 0.03316737619492644, 0.014625494783197041, 0.0014281978828614825, 0.01581670664803721, 0.02520382434365949, 0.023678459346213064, 0.006918350268423413, 0.027625604146007853, 0.10829977745410348, 0.01720336711710299, 0.024069730855536396, 0.05368285244986727, 0.00699812209162673, 0.03732710853200296, 0.02030115753602447, 0.04163778868470459, 0.0019337085103446861, 0.005513737683576875, 0.023278695317886053, 0.19941331810701057, 0.002941363422769446, 0.010677721697920615, 0.021044852082919258, 0.0031370665426979755, 0.028159132256515066, 0.022260494014317074, 0.026484997670805456, 0.005977913485744641, 0.018686182916206596, 0.005317498877280275, 0.17380212411602358, 0.003205641941277885, 0.021400810794433192, 0.00947659892800578, 0.018669768952916884]",
         "[0.4945692883895131, 0.35187265917602994, 0.465561797752809, 0.3808988764044944, 0.5142322097378277, 0.547752808988764, 0.5117977528089888, 0.4157303370786517, 0.37565543071161045, 0.5101123595505618, 0.45691011235955054, 0.37397003745318347, 0.499438202247191, 0.4599812734082397, 0.471310861423221, 0.44232209737827716, 0.47473595505617977, 0.48196629213483144, 0.4342696629213483, 0.5074906367041199, 0.46775280898876404, 0.5194756554307116, 0.5110486891385768, 0.4378277153558052, 0.5102996254681648, 0.39925093632958797, 0.5702247191011236, 0.4639138576779026, 0.4574531835205992, 0.39700374531835203, 0.45597378277153555, 0.31928838951310856, 0.5430711610486891, 0.3382022471910112, 0.48164794007490636, 0.6177902621722846, 0.37134831460674156, 0.5318352059925093, 0.600936329588015, 0.4273408239700374, 0.4700374531835206, 0.4447565543071161, 0.4905805243445693, 0.49812734082397003, 0.397191011235955, 0.38108614232209737, 0.5102996254681648, 0.5574906367041198, 0.5395131086142322, 0.5297752808988764, 0.6037453183520599, 0.5097378277153558]",
         "[0 0 0 ... 0 0 0]"
        ],
        [
         "22",
         "0.9381",
         "[0.06338197166779014, 0.05589282749969057, 0.008607670366814193, 0.053305027543569646, 0.03449775864582357, 0.002654019822390285, 0.08403950642203803, 0.019255463816222874, 0.009020893274300877, 0.008909408229696186, 0.0023043696201344352, 0.0027790801157792575, 2.7998458349582083e-05, 2.3020478633280677e-05, 0.010203009969721188, 0.0447953480008158, 0.017762546380684457, 0.03316737619492644, 0.014625494783197041, 0.0014281978828614825, 0.01581670664803721, 0.02520382434365949, 0.023678459346213064, 0.006918350268423413, 0.027625604146007853, 0.10829977745410348, 0.01720336711710299, 0.024069730855536396, 0.05368285244986727, 0.00699812209162673, 0.03732710853200296, 0.02030115753602447, 0.04163778868470459, 0.0019337085103446861, 0.005513737683576875, 0.023278695317886053, 0.19941331810701057, 0.002941363422769446, 0.010677721697920615, 0.021044852082919258, 0.0031370665426979755, 0.028159132256515066, 0.022260494014317074, 0.026484997670805456, 0.005977913485744641, 0.018686182916206596, 0.005317498877280275, 0.17380212411602358, 0.003205641941277885, 0.021400810794433192, 0.00947659892800578, 0.018669768952916884]",
         "[0.4945692883895131, 0.35187265917602994, 0.465561797752809, 0.3808988764044944, 0.5142322097378277, 0.547752808988764, 0.5117977528089888, 0.4157303370786517, 0.37565543071161045, 0.5101123595505618, 0.45691011235955054, 0.37397003745318347, 0.499438202247191, 0.4599812734082397, 0.471310861423221, 0.44232209737827716, 0.47473595505617977, 0.48196629213483144, 0.4342696629213483, 0.5074906367041199, 0.46775280898876404, 0.5194756554307116, 0.5110486891385768, 0.4378277153558052, 0.5102996254681648, 0.39925093632958797, 0.5702247191011236, 0.4639138576779026, 0.4574531835205992, 0.39700374531835203, 0.45597378277153555, 0.31928838951310856, 0.5430711610486891, 0.3382022471910112, 0.48164794007490636, 0.6177902621722846, 0.37134831460674156, 0.5318352059925093, 0.600936329588015, 0.4273408239700374, 0.4700374531835206, 0.4447565543071161, 0.4905805243445693, 0.49812734082397003, 0.397191011235955, 0.38108614232209737, 0.5102996254681648, 0.5574906367041198, 0.5395131086142322, 0.5297752808988764, 0.6037453183520599, 0.5097378277153558]",
         "[0 1 0 ... 0 0 0]"
        ],
        [
         "23",
         "0.6158",
         "[0.06338197166779014, 0.05589282749969057, 0.008607670366814193, 0.053305027543569646, 0.03449775864582357, 0.002654019822390285, 0.08403950642203803, 0.019255463816222874, 0.009020893274300877, 0.008909408229696186, 0.0023043696201344352, 0.0027790801157792575, 2.7998458349582083e-05, 2.3020478633280677e-05, 0.010203009969721188, 0.0447953480008158, 0.017762546380684457, 0.03316737619492644, 0.014625494783197041, 0.0014281978828614825, 0.01581670664803721, 0.02520382434365949, 0.023678459346213064, 0.006918350268423413, 0.027625604146007853, 0.10829977745410348, 0.01720336711710299, 0.024069730855536396, 0.05368285244986727, 0.00699812209162673, 0.03732710853200296, 0.02030115753602447, 0.04163778868470459, 0.0019337085103446861, 0.005513737683576875, 0.023278695317886053, 0.19941331810701057, 0.002941363422769446, 0.010677721697920615, 0.021044852082919258, 0.0031370665426979755, 0.028159132256515066, 0.022260494014317074, 0.026484997670805456, 0.005977913485744641, 0.018686182916206596, 0.005317498877280275, 0.17380212411602358, 0.003205641941277885, 0.021400810794433192, 0.00947659892800578, 0.018669768952916884]",
         "[0.4945692883895131, 0.35187265917602994, 0.465561797752809, 0.3808988764044944, 0.5142322097378277, 0.547752808988764, 0.5117977528089888, 0.4157303370786517, 0.37565543071161045, 0.5101123595505618, 0.45691011235955054, 0.37397003745318347, 0.499438202247191, 0.4599812734082397, 0.471310861423221, 0.44232209737827716, 0.47473595505617977, 0.48196629213483144, 0.4342696629213483, 0.5074906367041199, 0.46775280898876404, 0.5194756554307116, 0.5110486891385768, 0.4378277153558052, 0.5102996254681648, 0.39925093632958797, 0.5702247191011236, 0.4639138576779026, 0.4574531835205992, 0.39700374531835203, 0.45597378277153555, 0.31928838951310856, 0.5430711610486891, 0.3382022471910112, 0.48164794007490636, 0.6177902621722846, 0.37134831460674156, 0.5318352059925093, 0.600936329588015, 0.4273408239700374, 0.4700374531835206, 0.4447565543071161, 0.4905805243445693, 0.49812734082397003, 0.397191011235955, 0.38108614232209737, 0.5102996254681648, 0.5574906367041198, 0.5395131086142322, 0.5297752808988764, 0.6037453183520599, 0.5097378277153558]",
         "[0 0 0 ... 0 0 0]"
        ],
        [
         "24",
         "0.806",
         "[0.06338197166779014, 0.05589282749969057, 0.008607670366814193, 0.053305027543569646, 0.03449775864582357, 0.002654019822390285, 0.08403950642203803, 0.019255463816222874, 0.009020893274300877, 0.008909408229696186, 0.0023043696201344352, 0.0027790801157792575, 2.7998458349582083e-05, 2.3020478633280677e-05, 0.010203009969721188, 0.0447953480008158, 0.017762546380684457, 0.03316737619492644, 0.014625494783197041, 0.0014281978828614825, 0.01581670664803721, 0.02520382434365949, 0.023678459346213064, 0.006918350268423413, 0.027625604146007853, 0.10829977745410348, 0.01720336711710299, 0.024069730855536396, 0.05368285244986727, 0.00699812209162673, 0.03732710853200296, 0.02030115753602447, 0.04163778868470459, 0.0019337085103446861, 0.005513737683576875, 0.023278695317886053, 0.19941331810701057, 0.002941363422769446, 0.010677721697920615, 0.021044852082919258, 0.0031370665426979755, 0.028159132256515066, 0.022260494014317074, 0.026484997670805456, 0.005977913485744641, 0.018686182916206596, 0.005317498877280275, 0.17380212411602358, 0.003205641941277885, 0.021400810794433192, 0.00947659892800578, 0.018669768952916884]",
         "[0.4945692883895131, 0.35187265917602994, 0.465561797752809, 0.3808988764044944, 0.5142322097378277, 0.547752808988764, 0.5117977528089888, 0.4157303370786517, 0.37565543071161045, 0.5101123595505618, 0.45691011235955054, 0.37397003745318347, 0.499438202247191, 0.4599812734082397, 0.471310861423221, 0.44232209737827716, 0.47473595505617977, 0.48196629213483144, 0.4342696629213483, 0.5074906367041199, 0.46775280898876404, 0.5194756554307116, 0.5110486891385768, 0.4378277153558052, 0.5102996254681648, 0.39925093632958797, 0.5702247191011236, 0.4639138576779026, 0.4574531835205992, 0.39700374531835203, 0.45597378277153555, 0.31928838951310856, 0.5430711610486891, 0.3382022471910112, 0.48164794007490636, 0.6177902621722846, 0.37134831460674156, 0.5318352059925093, 0.600936329588015, 0.4273408239700374, 0.4700374531835206, 0.4447565543071161, 0.4905805243445693, 0.49812734082397003, 0.397191011235955, 0.38108614232209737, 0.5102996254681648, 0.5574906367041198, 0.5395131086142322, 0.5297752808988764, 0.6037453183520599, 0.5097378277153558]",
         "[0 0 0 ... 0 0 0]"
        ],
        [
         "25",
         "0.8609",
         "[0.06338197166779014, 0.05589282749969057, 0.008607670366814193, 0.053305027543569646, 0.03449775864582357, 0.002654019822390285, 0.08403950642203803, 0.019255463816222874, 0.009020893274300877, 0.008909408229696186, 0.0023043696201344352, 0.0027790801157792575, 2.7998458349582083e-05, 2.3020478633280677e-05, 0.010203009969721188, 0.0447953480008158, 0.017762546380684457, 0.03316737619492644, 0.014625494783197041, 0.0014281978828614825, 0.01581670664803721, 0.02520382434365949, 0.023678459346213064, 0.006918350268423413, 0.027625604146007853, 0.10829977745410348, 0.01720336711710299, 0.024069730855536396, 0.05368285244986727, 0.00699812209162673, 0.03732710853200296, 0.02030115753602447, 0.04163778868470459, 0.0019337085103446861, 0.005513737683576875, 0.023278695317886053, 0.19941331810701057, 0.002941363422769446, 0.010677721697920615, 0.021044852082919258, 0.0031370665426979755, 0.028159132256515066, 0.022260494014317074, 0.026484997670805456, 0.005977913485744641, 0.018686182916206596, 0.005317498877280275, 0.17380212411602358, 0.003205641941277885, 0.021400810794433192, 0.00947659892800578, 0.018669768952916884]",
         "[0.4945692883895131, 0.35187265917602994, 0.465561797752809, 0.3808988764044944, 0.5142322097378277, 0.547752808988764, 0.5117977528089888, 0.4157303370786517, 0.37565543071161045, 0.5101123595505618, 0.45691011235955054, 0.37397003745318347, 0.499438202247191, 0.4599812734082397, 0.471310861423221, 0.44232209737827716, 0.47473595505617977, 0.48196629213483144, 0.4342696629213483, 0.5074906367041199, 0.46775280898876404, 0.5194756554307116, 0.5110486891385768, 0.4378277153558052, 0.5102996254681648, 0.39925093632958797, 0.5702247191011236, 0.4639138576779026, 0.4574531835205992, 0.39700374531835203, 0.45597378277153555, 0.31928838951310856, 0.5430711610486891, 0.3382022471910112, 0.48164794007490636, 0.6177902621722846, 0.37134831460674156, 0.5318352059925093, 0.600936329588015, 0.4273408239700374, 0.4700374531835206, 0.4447565543071161, 0.4905805243445693, 0.49812734082397003, 0.397191011235955, 0.38108614232209737, 0.5102996254681648, 0.5574906367041198, 0.5395131086142322, 0.5297752808988764, 0.6037453183520599, 0.5097378277153558]",
         "[0 1 0 ... 0 0 0]"
        ],
        [
         "26",
         "0.4694",
         "[0.06338197166779014, 0.05589282749969057, 0.008607670366814193, 0.053305027543569646, 0.03449775864582357, 0.002654019822390285, 0.08403950642203803, 0.019255463816222874, 0.009020893274300877, 0.008909408229696186, 0.0023043696201344352, 0.0027790801157792575, 2.7998458349582083e-05, 2.3020478633280677e-05, 0.010203009969721188, 0.0447953480008158, 0.017762546380684457, 0.03316737619492644, 0.014625494783197041, 0.0014281978828614825, 0.01581670664803721, 0.02520382434365949, 0.023678459346213064, 0.006918350268423413, 0.027625604146007853, 0.10829977745410348, 0.01720336711710299, 0.024069730855536396, 0.05368285244986727, 0.00699812209162673, 0.03732710853200296, 0.02030115753602447, 0.04163778868470459, 0.0019337085103446861, 0.005513737683576875, 0.023278695317886053, 0.19941331810701057, 0.002941363422769446, 0.010677721697920615, 0.021044852082919258, 0.0031370665426979755, 0.028159132256515066, 0.022260494014317074, 0.026484997670805456, 0.005977913485744641, 0.018686182916206596, 0.005317498877280275, 0.17380212411602358, 0.003205641941277885, 0.021400810794433192, 0.00947659892800578, 0.018669768952916884]",
         "[0.4945692883895131, 0.35187265917602994, 0.465561797752809, 0.3808988764044944, 0.5142322097378277, 0.547752808988764, 0.5117977528089888, 0.4157303370786517, 0.37565543071161045, 0.5101123595505618, 0.45691011235955054, 0.37397003745318347, 0.499438202247191, 0.4599812734082397, 0.471310861423221, 0.44232209737827716, 0.47473595505617977, 0.48196629213483144, 0.4342696629213483, 0.5074906367041199, 0.46775280898876404, 0.5194756554307116, 0.5110486891385768, 0.4378277153558052, 0.5102996254681648, 0.39925093632958797, 0.5702247191011236, 0.4639138576779026, 0.4574531835205992, 0.39700374531835203, 0.45597378277153555, 0.31928838951310856, 0.5430711610486891, 0.3382022471910112, 0.48164794007490636, 0.6177902621722846, 0.37134831460674156, 0.5318352059925093, 0.600936329588015, 0.4273408239700374, 0.4700374531835206, 0.4447565543071161, 0.4905805243445693, 0.49812734082397003, 0.397191011235955, 0.38108614232209737, 0.5102996254681648, 0.5574906367041198, 0.5395131086142322, 0.5297752808988764, 0.6037453183520599, 0.5097378277153558]",
         "[0 0 0 ... 0 0 0]"
        ],
        [
         "27",
         "0.5821",
         "[0.06338197166779014, 0.05589282749969057, 0.008607670366814193, 0.053305027543569646, 0.03449775864582357, 0.002654019822390285, 0.08403950642203803, 0.019255463816222874, 0.009020893274300877, 0.008909408229696186, 0.0023043696201344352, 0.0027790801157792575, 2.7998458349582083e-05, 2.3020478633280677e-05, 0.010203009969721188, 0.0447953480008158, 0.017762546380684457, 0.03316737619492644, 0.014625494783197041, 0.0014281978828614825, 0.01581670664803721, 0.02520382434365949, 0.023678459346213064, 0.006918350268423413, 0.027625604146007853, 0.10829977745410348, 0.01720336711710299, 0.024069730855536396, 0.05368285244986727, 0.00699812209162673, 0.03732710853200296, 0.02030115753602447, 0.04163778868470459, 0.0019337085103446861, 0.005513737683576875, 0.023278695317886053, 0.19941331810701057, 0.002941363422769446, 0.010677721697920615, 0.021044852082919258, 0.0031370665426979755, 0.028159132256515066, 0.022260494014317074, 0.026484997670805456, 0.005977913485744641, 0.018686182916206596, 0.005317498877280275, 0.17380212411602358, 0.003205641941277885, 0.021400810794433192, 0.00947659892800578, 0.018669768952916884]",
         "[0.4945692883895131, 0.35187265917602994, 0.465561797752809, 0.3808988764044944, 0.5142322097378277, 0.547752808988764, 0.5117977528089888, 0.4157303370786517, 0.37565543071161045, 0.5101123595505618, 0.45691011235955054, 0.37397003745318347, 0.499438202247191, 0.4599812734082397, 0.471310861423221, 0.44232209737827716, 0.47473595505617977, 0.48196629213483144, 0.4342696629213483, 0.5074906367041199, 0.46775280898876404, 0.5194756554307116, 0.5110486891385768, 0.4378277153558052, 0.5102996254681648, 0.39925093632958797, 0.5702247191011236, 0.4639138576779026, 0.4574531835205992, 0.39700374531835203, 0.45597378277153555, 0.31928838951310856, 0.5430711610486891, 0.3382022471910112, 0.48164794007490636, 0.6177902621722846, 0.37134831460674156, 0.5318352059925093, 0.600936329588015, 0.4273408239700374, 0.4700374531835206, 0.4447565543071161, 0.4905805243445693, 0.49812734082397003, 0.397191011235955, 0.38108614232209737, 0.5102996254681648, 0.5574906367041198, 0.5395131086142322, 0.5297752808988764, 0.6037453183520599, 0.5097378277153558]",
         "[0 1 0 ... 0 0 0]"
        ],
        [
         "28",
         "0.2446",
         "[0.06338197166779014, 0.05589282749969057, 0.008607670366814193, 0.053305027543569646, 0.03449775864582357, 0.002654019822390285, 0.08403950642203803, 0.019255463816222874, 0.009020893274300877, 0.008909408229696186, 0.0023043696201344352, 0.0027790801157792575, 2.7998458349582083e-05, 2.3020478633280677e-05, 0.010203009969721188, 0.0447953480008158, 0.017762546380684457, 0.03316737619492644, 0.014625494783197041, 0.0014281978828614825, 0.01581670664803721, 0.02520382434365949, 0.023678459346213064, 0.006918350268423413, 0.027625604146007853, 0.10829977745410348, 0.01720336711710299, 0.024069730855536396, 0.05368285244986727, 0.00699812209162673, 0.03732710853200296, 0.02030115753602447, 0.04163778868470459, 0.0019337085103446861, 0.005513737683576875, 0.023278695317886053, 0.19941331810701057, 0.002941363422769446, 0.010677721697920615, 0.021044852082919258, 0.0031370665426979755, 0.028159132256515066, 0.022260494014317074, 0.026484997670805456, 0.005977913485744641, 0.018686182916206596, 0.005317498877280275, 0.17380212411602358, 0.003205641941277885, 0.021400810794433192, 0.00947659892800578, 0.018669768952916884]",
         "[0.4945692883895131, 0.35187265917602994, 0.465561797752809, 0.3808988764044944, 0.5142322097378277, 0.547752808988764, 0.5117977528089888, 0.4157303370786517, 0.37565543071161045, 0.5101123595505618, 0.45691011235955054, 0.37397003745318347, 0.499438202247191, 0.4599812734082397, 0.471310861423221, 0.44232209737827716, 0.47473595505617977, 0.48196629213483144, 0.4342696629213483, 0.5074906367041199, 0.46775280898876404, 0.5194756554307116, 0.5110486891385768, 0.4378277153558052, 0.5102996254681648, 0.39925093632958797, 0.5702247191011236, 0.4639138576779026, 0.4574531835205992, 0.39700374531835203, 0.45597378277153555, 0.31928838951310856, 0.5430711610486891, 0.3382022471910112, 0.48164794007490636, 0.6177902621722846, 0.37134831460674156, 0.5318352059925093, 0.600936329588015, 0.4273408239700374, 0.4700374531835206, 0.4447565543071161, 0.4905805243445693, 0.49812734082397003, 0.397191011235955, 0.38108614232209737, 0.5102996254681648, 0.5574906367041198, 0.5395131086142322, 0.5297752808988764, 0.6037453183520599, 0.5097378277153558]",
         "[0 0 0 ... 0 0 0]"
        ],
        [
         "29",
         "0.6938",
         "[0.06338197166779014, 0.05589282749969057, 0.008607670366814193, 0.053305027543569646, 0.03449775864582357, 0.002654019822390285, 0.08403950642203803, 0.019255463816222874, 0.009020893274300877, 0.008909408229696186, 0.0023043696201344352, 0.0027790801157792575, 2.7998458349582083e-05, 2.3020478633280677e-05, 0.010203009969721188, 0.0447953480008158, 0.017762546380684457, 0.03316737619492644, 0.014625494783197041, 0.0014281978828614825, 0.01581670664803721, 0.02520382434365949, 0.023678459346213064, 0.006918350268423413, 0.027625604146007853, 0.10829977745410348, 0.01720336711710299, 0.024069730855536396, 0.05368285244986727, 0.00699812209162673, 0.03732710853200296, 0.02030115753602447, 0.04163778868470459, 0.0019337085103446861, 0.005513737683576875, 0.023278695317886053, 0.19941331810701057, 0.002941363422769446, 0.010677721697920615, 0.021044852082919258, 0.0031370665426979755, 0.028159132256515066, 0.022260494014317074, 0.026484997670805456, 0.005977913485744641, 0.018686182916206596, 0.005317498877280275, 0.17380212411602358, 0.003205641941277885, 0.021400810794433192, 0.00947659892800578, 0.018669768952916884]",
         "[0.4945692883895131, 0.35187265917602994, 0.465561797752809, 0.3808988764044944, 0.5142322097378277, 0.547752808988764, 0.5117977528089888, 0.4157303370786517, 0.37565543071161045, 0.5101123595505618, 0.45691011235955054, 0.37397003745318347, 0.499438202247191, 0.4599812734082397, 0.471310861423221, 0.44232209737827716, 0.47473595505617977, 0.48196629213483144, 0.4342696629213483, 0.5074906367041199, 0.46775280898876404, 0.5194756554307116, 0.5110486891385768, 0.4378277153558052, 0.5102996254681648, 0.39925093632958797, 0.5702247191011236, 0.4639138576779026, 0.4574531835205992, 0.39700374531835203, 0.45597378277153555, 0.31928838951310856, 0.5430711610486891, 0.3382022471910112, 0.48164794007490636, 0.6177902621722846, 0.37134831460674156, 0.5318352059925093, 0.600936329588015, 0.4273408239700374, 0.4700374531835206, 0.4447565543071161, 0.4905805243445693, 0.49812734082397003, 0.397191011235955, 0.38108614232209737, 0.5102996254681648, 0.5574906367041198, 0.5395131086142322, 0.5297752808988764, 0.6037453183520599, 0.5097378277153558]",
         "[1 0 0 ... 0 0 0]"
        ],
        [
         "30",
         "0.0001",
         "[0.06338197166779014, 0.05589282749969057, 0.008607670366814193, 0.053305027543569646, 0.03449775864582357, 0.002654019822390285, 0.08403950642203803, 0.019255463816222874, 0.009020893274300877, 0.008909408229696186, 0.0023043696201344352, 0.0027790801157792575, 2.7998458349582083e-05, 2.3020478633280677e-05, 0.010203009969721188, 0.0447953480008158, 0.017762546380684457, 0.03316737619492644, 0.014625494783197041, 0.0014281978828614825, 0.01581670664803721, 0.02520382434365949, 0.023678459346213064, 0.006918350268423413, 0.027625604146007853, 0.10829977745410348, 0.01720336711710299, 0.024069730855536396, 0.05368285244986727, 0.00699812209162673, 0.03732710853200296, 0.02030115753602447, 0.04163778868470459, 0.0019337085103446861, 0.005513737683576875, 0.023278695317886053, 0.19941331810701057, 0.002941363422769446, 0.010677721697920615, 0.021044852082919258, 0.0031370665426979755, 0.028159132256515066, 0.022260494014317074, 0.026484997670805456, 0.005977913485744641, 0.018686182916206596, 0.005317498877280275, 0.17380212411602358, 0.003205641941277885, 0.021400810794433192, 0.00947659892800578, 0.018669768952916884]",
         "[0.4945692883895131, 0.35187265917602994, 0.465561797752809, 0.3808988764044944, 0.5142322097378277, 0.547752808988764, 0.5117977528089888, 0.4157303370786517, 0.37565543071161045, 0.5101123595505618, 0.45691011235955054, 0.37397003745318347, 0.499438202247191, 0.4599812734082397, 0.471310861423221, 0.44232209737827716, 0.47473595505617977, 0.48196629213483144, 0.4342696629213483, 0.5074906367041199, 0.46775280898876404, 0.5194756554307116, 0.5110486891385768, 0.4378277153558052, 0.5102996254681648, 0.39925093632958797, 0.5702247191011236, 0.4639138576779026, 0.4574531835205992, 0.39700374531835203, 0.45597378277153555, 0.31928838951310856, 0.5430711610486891, 0.3382022471910112, 0.48164794007490636, 0.6177902621722846, 0.37134831460674156, 0.5318352059925093, 0.600936329588015, 0.4273408239700374, 0.4700374531835206, 0.4447565543071161, 0.4905805243445693, 0.49812734082397003, 0.397191011235955, 0.38108614232209737, 0.5102996254681648, 0.5574906367041198, 0.5395131086142322, 0.5297752808988764, 0.6037453183520599, 0.5097378277153558]",
         "[0 0 0 ... 0 0 0]"
        ],
        [
         "31",
         "0.4024",
         "[0.06338197166779014, 0.05589282749969057, 0.008607670366814193, 0.053305027543569646, 0.03449775864582357, 0.002654019822390285, 0.08403950642203803, 0.019255463816222874, 0.009020893274300877, 0.008909408229696186, 0.0023043696201344352, 0.0027790801157792575, 2.7998458349582083e-05, 2.3020478633280677e-05, 0.010203009969721188, 0.0447953480008158, 0.017762546380684457, 0.03316737619492644, 0.014625494783197041, 0.0014281978828614825, 0.01581670664803721, 0.02520382434365949, 0.023678459346213064, 0.006918350268423413, 0.027625604146007853, 0.10829977745410348, 0.01720336711710299, 0.024069730855536396, 0.05368285244986727, 0.00699812209162673, 0.03732710853200296, 0.02030115753602447, 0.04163778868470459, 0.0019337085103446861, 0.005513737683576875, 0.023278695317886053, 0.19941331810701057, 0.002941363422769446, 0.010677721697920615, 0.021044852082919258, 0.0031370665426979755, 0.028159132256515066, 0.022260494014317074, 0.026484997670805456, 0.005977913485744641, 0.018686182916206596, 0.005317498877280275, 0.17380212411602358, 0.003205641941277885, 0.021400810794433192, 0.00947659892800578, 0.018669768952916884]",
         "[0.4945692883895131, 0.35187265917602994, 0.465561797752809, 0.3808988764044944, 0.5142322097378277, 0.547752808988764, 0.5117977528089888, 0.4157303370786517, 0.37565543071161045, 0.5101123595505618, 0.45691011235955054, 0.37397003745318347, 0.499438202247191, 0.4599812734082397, 0.471310861423221, 0.44232209737827716, 0.47473595505617977, 0.48196629213483144, 0.4342696629213483, 0.5074906367041199, 0.46775280898876404, 0.5194756554307116, 0.5110486891385768, 0.4378277153558052, 0.5102996254681648, 0.39925093632958797, 0.5702247191011236, 0.4639138576779026, 0.4574531835205992, 0.39700374531835203, 0.45597378277153555, 0.31928838951310856, 0.5430711610486891, 0.3382022471910112, 0.48164794007490636, 0.6177902621722846, 0.37134831460674156, 0.5318352059925093, 0.600936329588015, 0.4273408239700374, 0.4700374531835206, 0.4447565543071161, 0.4905805243445693, 0.49812734082397003, 0.397191011235955, 0.38108614232209737, 0.5102996254681648, 0.5574906367041198, 0.5395131086142322, 0.5297752808988764, 0.6037453183520599, 0.5097378277153558]",
         "[0 0 0 ... 0 0 0]"
        ],
        [
         "32",
         "0.8752",
         "[0.06338197166779014, 0.05589282749969057, 0.008607670366814193, 0.053305027543569646, 0.03449775864582357, 0.002654019822390285, 0.08403950642203803, 0.019255463816222874, 0.009020893274300877, 0.008909408229696186, 0.0023043696201344352, 0.0027790801157792575, 2.7998458349582083e-05, 2.3020478633280677e-05, 0.010203009969721188, 0.0447953480008158, 0.017762546380684457, 0.03316737619492644, 0.014625494783197041, 0.0014281978828614825, 0.01581670664803721, 0.02520382434365949, 0.023678459346213064, 0.006918350268423413, 0.027625604146007853, 0.10829977745410348, 0.01720336711710299, 0.024069730855536396, 0.05368285244986727, 0.00699812209162673, 0.03732710853200296, 0.02030115753602447, 0.04163778868470459, 0.0019337085103446861, 0.005513737683576875, 0.023278695317886053, 0.19941331810701057, 0.002941363422769446, 0.010677721697920615, 0.021044852082919258, 0.0031370665426979755, 0.028159132256515066, 0.022260494014317074, 0.026484997670805456, 0.005977913485744641, 0.018686182916206596, 0.005317498877280275, 0.17380212411602358, 0.003205641941277885, 0.021400810794433192, 0.00947659892800578, 0.018669768952916884]",
         "[0.4945692883895131, 0.35187265917602994, 0.465561797752809, 0.3808988764044944, 0.5142322097378277, 0.547752808988764, 0.5117977528089888, 0.4157303370786517, 0.37565543071161045, 0.5101123595505618, 0.45691011235955054, 0.37397003745318347, 0.499438202247191, 0.4599812734082397, 0.471310861423221, 0.44232209737827716, 0.47473595505617977, 0.48196629213483144, 0.4342696629213483, 0.5074906367041199, 0.46775280898876404, 0.5194756554307116, 0.5110486891385768, 0.4378277153558052, 0.5102996254681648, 0.39925093632958797, 0.5702247191011236, 0.4639138576779026, 0.4574531835205992, 0.39700374531835203, 0.45597378277153555, 0.31928838951310856, 0.5430711610486891, 0.3382022471910112, 0.48164794007490636, 0.6177902621722846, 0.37134831460674156, 0.5318352059925093, 0.600936329588015, 0.4273408239700374, 0.4700374531835206, 0.4447565543071161, 0.4905805243445693, 0.49812734082397003, 0.397191011235955, 0.38108614232209737, 0.5102996254681648, 0.5574906367041198, 0.5395131086142322, 0.5297752808988764, 0.6037453183520599, 0.5097378277153558]",
         "[1 1 0 ... 0 0 0]"
        ],
        [
         "33",
         "0.9152",
         "[0.06338197166779014, 0.05589282749969057, 0.008607670366814193, 0.053305027543569646, 0.03449775864582357, 0.002654019822390285, 0.08403950642203803, 0.019255463816222874, 0.009020893274300877, 0.008909408229696186, 0.0023043696201344352, 0.0027790801157792575, 2.7998458349582083e-05, 2.3020478633280677e-05, 0.010203009969721188, 0.0447953480008158, 0.017762546380684457, 0.03316737619492644, 0.014625494783197041, 0.0014281978828614825, 0.01581670664803721, 0.02520382434365949, 0.023678459346213064, 0.006918350268423413, 0.027625604146007853, 0.10829977745410348, 0.01720336711710299, 0.024069730855536396, 0.05368285244986727, 0.00699812209162673, 0.03732710853200296, 0.02030115753602447, 0.04163778868470459, 0.0019337085103446861, 0.005513737683576875, 0.023278695317886053, 0.19941331810701057, 0.002941363422769446, 0.010677721697920615, 0.021044852082919258, 0.0031370665426979755, 0.028159132256515066, 0.022260494014317074, 0.026484997670805456, 0.005977913485744641, 0.018686182916206596, 0.005317498877280275, 0.17380212411602358, 0.003205641941277885, 0.021400810794433192, 0.00947659892800578, 0.018669768952916884]",
         "[0.4945692883895131, 0.35187265917602994, 0.465561797752809, 0.3808988764044944, 0.5142322097378277, 0.547752808988764, 0.5117977528089888, 0.4157303370786517, 0.37565543071161045, 0.5101123595505618, 0.45691011235955054, 0.37397003745318347, 0.499438202247191, 0.4599812734082397, 0.471310861423221, 0.44232209737827716, 0.47473595505617977, 0.48196629213483144, 0.4342696629213483, 0.5074906367041199, 0.46775280898876404, 0.5194756554307116, 0.5110486891385768, 0.4378277153558052, 0.5102996254681648, 0.39925093632958797, 0.5702247191011236, 0.4639138576779026, 0.4574531835205992, 0.39700374531835203, 0.45597378277153555, 0.31928838951310856, 0.5430711610486891, 0.3382022471910112, 0.48164794007490636, 0.6177902621722846, 0.37134831460674156, 0.5318352059925093, 0.600936329588015, 0.4273408239700374, 0.4700374531835206, 0.4447565543071161, 0.4905805243445693, 0.49812734082397003, 0.397191011235955, 0.38108614232209737, 0.5102996254681648, 0.5574906367041198, 0.5395131086142322, 0.5297752808988764, 0.6037453183520599, 0.5097378277153558]",
         "[0 1 0 ... 0 0 0]"
        ],
        [
         "34",
         "0.4071",
         "[0.06338197166779014, 0.05589282749969057, 0.008607670366814193, 0.053305027543569646, 0.03449775864582357, 0.002654019822390285, 0.08403950642203803, 0.019255463816222874, 0.009020893274300877, 0.008909408229696186, 0.0023043696201344352, 0.0027790801157792575, 2.7998458349582083e-05, 2.3020478633280677e-05, 0.010203009969721188, 0.0447953480008158, 0.017762546380684457, 0.03316737619492644, 0.014625494783197041, 0.0014281978828614825, 0.01581670664803721, 0.02520382434365949, 0.023678459346213064, 0.006918350268423413, 0.027625604146007853, 0.10829977745410348, 0.01720336711710299, 0.024069730855536396, 0.05368285244986727, 0.00699812209162673, 0.03732710853200296, 0.02030115753602447, 0.04163778868470459, 0.0019337085103446861, 0.005513737683576875, 0.023278695317886053, 0.19941331810701057, 0.002941363422769446, 0.010677721697920615, 0.021044852082919258, 0.0031370665426979755, 0.028159132256515066, 0.022260494014317074, 0.026484997670805456, 0.005977913485744641, 0.018686182916206596, 0.005317498877280275, 0.17380212411602358, 0.003205641941277885, 0.021400810794433192, 0.00947659892800578, 0.018669768952916884]",
         "[0.4945692883895131, 0.35187265917602994, 0.465561797752809, 0.3808988764044944, 0.5142322097378277, 0.547752808988764, 0.5117977528089888, 0.4157303370786517, 0.37565543071161045, 0.5101123595505618, 0.45691011235955054, 0.37397003745318347, 0.499438202247191, 0.4599812734082397, 0.471310861423221, 0.44232209737827716, 0.47473595505617977, 0.48196629213483144, 0.4342696629213483, 0.5074906367041199, 0.46775280898876404, 0.5194756554307116, 0.5110486891385768, 0.4378277153558052, 0.5102996254681648, 0.39925093632958797, 0.5702247191011236, 0.4639138576779026, 0.4574531835205992, 0.39700374531835203, 0.45597378277153555, 0.31928838951310856, 0.5430711610486891, 0.3382022471910112, 0.48164794007490636, 0.6177902621722846, 0.37134831460674156, 0.5318352059925093, 0.600936329588015, 0.4273408239700374, 0.4700374531835206, 0.4447565543071161, 0.4905805243445693, 0.49812734082397003, 0.397191011235955, 0.38108614232209737, 0.5102996254681648, 0.5574906367041198, 0.5395131086142322, 0.5297752808988764, 0.6037453183520599, 0.5097378277153558]",
         "[0 0 0 ... 0 0 0]"
        ],
        [
         "35",
         "1.0",
         "[0.06338197166779014, 0.05589282749969057, 0.008607670366814193, 0.053305027543569646, 0.03449775864582357, 0.002654019822390285, 0.08403950642203803, 0.019255463816222874, 0.009020893274300877, 0.008909408229696186, 0.0023043696201344352, 0.0027790801157792575, 2.7998458349582083e-05, 2.3020478633280677e-05, 0.010203009969721188, 0.0447953480008158, 0.017762546380684457, 0.03316737619492644, 0.014625494783197041, 0.0014281978828614825, 0.01581670664803721, 0.02520382434365949, 0.023678459346213064, 0.006918350268423413, 0.027625604146007853, 0.10829977745410348, 0.01720336711710299, 0.024069730855536396, 0.05368285244986727, 0.00699812209162673, 0.03732710853200296, 0.02030115753602447, 0.04163778868470459, 0.0019337085103446861, 0.005513737683576875, 0.023278695317886053, 0.19941331810701057, 0.002941363422769446, 0.010677721697920615, 0.021044852082919258, 0.0031370665426979755, 0.028159132256515066, 0.022260494014317074, 0.026484997670805456, 0.005977913485744641, 0.018686182916206596, 0.005317498877280275, 0.17380212411602358, 0.003205641941277885, 0.021400810794433192, 0.00947659892800578, 0.018669768952916884]",
         "[0.4945692883895131, 0.35187265917602994, 0.465561797752809, 0.3808988764044944, 0.5142322097378277, 0.547752808988764, 0.5117977528089888, 0.4157303370786517, 0.37565543071161045, 0.5101123595505618, 0.45691011235955054, 0.37397003745318347, 0.499438202247191, 0.4599812734082397, 0.471310861423221, 0.44232209737827716, 0.47473595505617977, 0.48196629213483144, 0.4342696629213483, 0.5074906367041199, 0.46775280898876404, 0.5194756554307116, 0.5110486891385768, 0.4378277153558052, 0.5102996254681648, 0.39925093632958797, 0.5702247191011236, 0.4639138576779026, 0.4574531835205992, 0.39700374531835203, 0.45597378277153555, 0.31928838951310856, 0.5430711610486891, 0.3382022471910112, 0.48164794007490636, 0.6177902621722846, 0.37134831460674156, 0.5318352059925093, 0.600936329588015, 0.4273408239700374, 0.4700374531835206, 0.4447565543071161, 0.4905805243445693, 0.49812734082397003, 0.397191011235955, 0.38108614232209737, 0.5102996254681648, 0.5574906367041198, 0.5395131086142322, 0.5297752808988764, 0.6037453183520599, 0.5097378277153558]",
         "[0 0 1 ... 0 0 0]"
        ],
        [
         "36",
         "0.7663",
         "[0.06338197166779014, 0.05589282749969057, 0.008607670366814193, 0.053305027543569646, 0.03449775864582357, 0.002654019822390285, 0.08403950642203803, 0.019255463816222874, 0.009020893274300877, 0.008909408229696186, 0.0023043696201344352, 0.0027790801157792575, 2.7998458349582083e-05, 2.3020478633280677e-05, 0.010203009969721188, 0.0447953480008158, 0.017762546380684457, 0.03316737619492644, 0.014625494783197041, 0.0014281978828614825, 0.01581670664803721, 0.02520382434365949, 0.023678459346213064, 0.006918350268423413, 0.027625604146007853, 0.10829977745410348, 0.01720336711710299, 0.024069730855536396, 0.05368285244986727, 0.00699812209162673, 0.03732710853200296, 0.02030115753602447, 0.04163778868470459, 0.0019337085103446861, 0.005513737683576875, 0.023278695317886053, 0.19941331810701057, 0.002941363422769446, 0.010677721697920615, 0.021044852082919258, 0.0031370665426979755, 0.028159132256515066, 0.022260494014317074, 0.026484997670805456, 0.005977913485744641, 0.018686182916206596, 0.005317498877280275, 0.17380212411602358, 0.003205641941277885, 0.021400810794433192, 0.00947659892800578, 0.018669768952916884]",
         "[0.4945692883895131, 0.35187265917602994, 0.465561797752809, 0.3808988764044944, 0.5142322097378277, 0.547752808988764, 0.5117977528089888, 0.4157303370786517, 0.37565543071161045, 0.5101123595505618, 0.45691011235955054, 0.37397003745318347, 0.499438202247191, 0.4599812734082397, 0.471310861423221, 0.44232209737827716, 0.47473595505617977, 0.48196629213483144, 0.4342696629213483, 0.5074906367041199, 0.46775280898876404, 0.5194756554307116, 0.5110486891385768, 0.4378277153558052, 0.5102996254681648, 0.39925093632958797, 0.5702247191011236, 0.4639138576779026, 0.4574531835205992, 0.39700374531835203, 0.45597378277153555, 0.31928838951310856, 0.5430711610486891, 0.3382022471910112, 0.48164794007490636, 0.6177902621722846, 0.37134831460674156, 0.5318352059925093, 0.600936329588015, 0.4273408239700374, 0.4700374531835206, 0.4447565543071161, 0.4905805243445693, 0.49812734082397003, 0.397191011235955, 0.38108614232209737, 0.5102996254681648, 0.5574906367041198, 0.5395131086142322, 0.5297752808988764, 0.6037453183520599, 0.5097378277153558]",
         "[0 0 1 ... 0 0 0]"
        ],
        [
         "37",
         "0.8257",
         "[0.06338197166779014, 0.05589282749969057, 0.008607670366814193, 0.053305027543569646, 0.03449775864582357, 0.002654019822390285, 0.08403950642203803, 0.019255463816222874, 0.009020893274300877, 0.008909408229696186, 0.0023043696201344352, 0.0027790801157792575, 2.7998458349582083e-05, 2.3020478633280677e-05, 0.010203009969721188, 0.0447953480008158, 0.017762546380684457, 0.03316737619492644, 0.014625494783197041, 0.0014281978828614825, 0.01581670664803721, 0.02520382434365949, 0.023678459346213064, 0.006918350268423413, 0.027625604146007853, 0.10829977745410348, 0.01720336711710299, 0.024069730855536396, 0.05368285244986727, 0.00699812209162673, 0.03732710853200296, 0.02030115753602447, 0.04163778868470459, 0.0019337085103446861, 0.005513737683576875, 0.023278695317886053, 0.19941331810701057, 0.002941363422769446, 0.010677721697920615, 0.021044852082919258, 0.0031370665426979755, 0.028159132256515066, 0.022260494014317074, 0.026484997670805456, 0.005977913485744641, 0.018686182916206596, 0.005317498877280275, 0.17380212411602358, 0.003205641941277885, 0.021400810794433192, 0.00947659892800578, 0.018669768952916884]",
         "[0.4945692883895131, 0.35187265917602994, 0.465561797752809, 0.3808988764044944, 0.5142322097378277, 0.547752808988764, 0.5117977528089888, 0.4157303370786517, 0.37565543071161045, 0.5101123595505618, 0.45691011235955054, 0.37397003745318347, 0.499438202247191, 0.4599812734082397, 0.471310861423221, 0.44232209737827716, 0.47473595505617977, 0.48196629213483144, 0.4342696629213483, 0.5074906367041199, 0.46775280898876404, 0.5194756554307116, 0.5110486891385768, 0.4378277153558052, 0.5102996254681648, 0.39925093632958797, 0.5702247191011236, 0.4639138576779026, 0.4574531835205992, 0.39700374531835203, 0.45597378277153555, 0.31928838951310856, 0.5430711610486891, 0.3382022471910112, 0.48164794007490636, 0.6177902621722846, 0.37134831460674156, 0.5318352059925093, 0.600936329588015, 0.4273408239700374, 0.4700374531835206, 0.4447565543071161, 0.4905805243445693, 0.49812734082397003, 0.397191011235955, 0.38108614232209737, 0.5102996254681648, 0.5574906367041198, 0.5395131086142322, 0.5297752808988764, 0.6037453183520599, 0.5097378277153558]",
         "[0 0 0 ... 0 0 0]"
        ],
        [
         "38",
         "0.4334",
         "[0.06338197166779014, 0.05589282749969057, 0.008607670366814193, 0.053305027543569646, 0.03449775864582357, 0.002654019822390285, 0.08403950642203803, 0.019255463816222874, 0.009020893274300877, 0.008909408229696186, 0.0023043696201344352, 0.0027790801157792575, 2.7998458349582083e-05, 2.3020478633280677e-05, 0.010203009969721188, 0.0447953480008158, 0.017762546380684457, 0.03316737619492644, 0.014625494783197041, 0.0014281978828614825, 0.01581670664803721, 0.02520382434365949, 0.023678459346213064, 0.006918350268423413, 0.027625604146007853, 0.10829977745410348, 0.01720336711710299, 0.024069730855536396, 0.05368285244986727, 0.00699812209162673, 0.03732710853200296, 0.02030115753602447, 0.04163778868470459, 0.0019337085103446861, 0.005513737683576875, 0.023278695317886053, 0.19941331810701057, 0.002941363422769446, 0.010677721697920615, 0.021044852082919258, 0.0031370665426979755, 0.028159132256515066, 0.022260494014317074, 0.026484997670805456, 0.005977913485744641, 0.018686182916206596, 0.005317498877280275, 0.17380212411602358, 0.003205641941277885, 0.021400810794433192, 0.00947659892800578, 0.018669768952916884]",
         "[0.4945692883895131, 0.35187265917602994, 0.465561797752809, 0.3808988764044944, 0.5142322097378277, 0.547752808988764, 0.5117977528089888, 0.4157303370786517, 0.37565543071161045, 0.5101123595505618, 0.45691011235955054, 0.37397003745318347, 0.499438202247191, 0.4599812734082397, 0.471310861423221, 0.44232209737827716, 0.47473595505617977, 0.48196629213483144, 0.4342696629213483, 0.5074906367041199, 0.46775280898876404, 0.5194756554307116, 0.5110486891385768, 0.4378277153558052, 0.5102996254681648, 0.39925093632958797, 0.5702247191011236, 0.4639138576779026, 0.4574531835205992, 0.39700374531835203, 0.45597378277153555, 0.31928838951310856, 0.5430711610486891, 0.3382022471910112, 0.48164794007490636, 0.6177902621722846, 0.37134831460674156, 0.5318352059925093, 0.600936329588015, 0.4273408239700374, 0.4700374531835206, 0.4447565543071161, 0.4905805243445693, 0.49812734082397003, 0.397191011235955, 0.38108614232209737, 0.5102996254681648, 0.5574906367041198, 0.5395131086142322, 0.5297752808988764, 0.6037453183520599, 0.5097378277153558]",
         "[0 0 0 ... 0 0 0]"
        ],
        [
         "39",
         "0.4876",
         "[0.06338197166779014, 0.05589282749969057, 0.008607670366814193, 0.053305027543569646, 0.03449775864582357, 0.002654019822390285, 0.08403950642203803, 0.019255463816222874, 0.009020893274300877, 0.008909408229696186, 0.0023043696201344352, 0.0027790801157792575, 2.7998458349582083e-05, 2.3020478633280677e-05, 0.010203009969721188, 0.0447953480008158, 0.017762546380684457, 0.03316737619492644, 0.014625494783197041, 0.0014281978828614825, 0.01581670664803721, 0.02520382434365949, 0.023678459346213064, 0.006918350268423413, 0.027625604146007853, 0.10829977745410348, 0.01720336711710299, 0.024069730855536396, 0.05368285244986727, 0.00699812209162673, 0.03732710853200296, 0.02030115753602447, 0.04163778868470459, 0.0019337085103446861, 0.005513737683576875, 0.023278695317886053, 0.19941331810701057, 0.002941363422769446, 0.010677721697920615, 0.021044852082919258, 0.0031370665426979755, 0.028159132256515066, 0.022260494014317074, 0.026484997670805456, 0.005977913485744641, 0.018686182916206596, 0.005317498877280275, 0.17380212411602358, 0.003205641941277885, 0.021400810794433192, 0.00947659892800578, 0.018669768952916884]",
         "[0.4945692883895131, 0.35187265917602994, 0.465561797752809, 0.3808988764044944, 0.5142322097378277, 0.547752808988764, 0.5117977528089888, 0.4157303370786517, 0.37565543071161045, 0.5101123595505618, 0.45691011235955054, 0.37397003745318347, 0.499438202247191, 0.4599812734082397, 0.471310861423221, 0.44232209737827716, 0.47473595505617977, 0.48196629213483144, 0.4342696629213483, 0.5074906367041199, 0.46775280898876404, 0.5194756554307116, 0.5110486891385768, 0.4378277153558052, 0.5102996254681648, 0.39925093632958797, 0.5702247191011236, 0.4639138576779026, 0.4574531835205992, 0.39700374531835203, 0.45597378277153555, 0.31928838951310856, 0.5430711610486891, 0.3382022471910112, 0.48164794007490636, 0.6177902621722846, 0.37134831460674156, 0.5318352059925093, 0.600936329588015, 0.4273408239700374, 0.4700374531835206, 0.4447565543071161, 0.4905805243445693, 0.49812734082397003, 0.397191011235955, 0.38108614232209737, 0.5102996254681648, 0.5574906367041198, 0.5395131086142322, 0.5297752808988764, 0.6037453183520599, 0.5097378277153558]",
         "[0 0 0 ... 0 0 0]"
        ],
        [
         "40",
         "0.4862",
         "[0.06338197166779014, 0.05589282749969057, 0.008607670366814193, 0.053305027543569646, 0.03449775864582357, 0.002654019822390285, 0.08403950642203803, 0.019255463816222874, 0.009020893274300877, 0.008909408229696186, 0.0023043696201344352, 0.0027790801157792575, 2.7998458349582083e-05, 2.3020478633280677e-05, 0.010203009969721188, 0.0447953480008158, 0.017762546380684457, 0.03316737619492644, 0.014625494783197041, 0.0014281978828614825, 0.01581670664803721, 0.02520382434365949, 0.023678459346213064, 0.006918350268423413, 0.027625604146007853, 0.10829977745410348, 0.01720336711710299, 0.024069730855536396, 0.05368285244986727, 0.00699812209162673, 0.03732710853200296, 0.02030115753602447, 0.04163778868470459, 0.0019337085103446861, 0.005513737683576875, 0.023278695317886053, 0.19941331810701057, 0.002941363422769446, 0.010677721697920615, 0.021044852082919258, 0.0031370665426979755, 0.028159132256515066, 0.022260494014317074, 0.026484997670805456, 0.005977913485744641, 0.018686182916206596, 0.005317498877280275, 0.17380212411602358, 0.003205641941277885, 0.021400810794433192, 0.00947659892800578, 0.018669768952916884]",
         "[0.4945692883895131, 0.35187265917602994, 0.465561797752809, 0.3808988764044944, 0.5142322097378277, 0.547752808988764, 0.5117977528089888, 0.4157303370786517, 0.37565543071161045, 0.5101123595505618, 0.45691011235955054, 0.37397003745318347, 0.499438202247191, 0.4599812734082397, 0.471310861423221, 0.44232209737827716, 0.47473595505617977, 0.48196629213483144, 0.4342696629213483, 0.5074906367041199, 0.46775280898876404, 0.5194756554307116, 0.5110486891385768, 0.4378277153558052, 0.5102996254681648, 0.39925093632958797, 0.5702247191011236, 0.4639138576779026, 0.4574531835205992, 0.39700374531835203, 0.45597378277153555, 0.31928838951310856, 0.5430711610486891, 0.3382022471910112, 0.48164794007490636, 0.6177902621722846, 0.37134831460674156, 0.5318352059925093, 0.600936329588015, 0.4273408239700374, 0.4700374531835206, 0.4447565543071161, 0.4905805243445693, 0.49812734082397003, 0.397191011235955, 0.38108614232209737, 0.5102996254681648, 0.5574906367041198, 0.5395131086142322, 0.5297752808988764, 0.6037453183520599, 0.5097378277153558]",
         "[0 0 0 ... 0 0 0]"
        ],
        [
         "41",
         "0.2761",
         "[0.06338197166779014, 0.05589282749969057, 0.008607670366814193, 0.053305027543569646, 0.03449775864582357, 0.002654019822390285, 0.08403950642203803, 0.019255463816222874, 0.009020893274300877, 0.008909408229696186, 0.0023043696201344352, 0.0027790801157792575, 2.7998458349582083e-05, 2.3020478633280677e-05, 0.010203009969721188, 0.0447953480008158, 0.017762546380684457, 0.03316737619492644, 0.014625494783197041, 0.0014281978828614825, 0.01581670664803721, 0.02520382434365949, 0.023678459346213064, 0.006918350268423413, 0.027625604146007853, 0.10829977745410348, 0.01720336711710299, 0.024069730855536396, 0.05368285244986727, 0.00699812209162673, 0.03732710853200296, 0.02030115753602447, 0.04163778868470459, 0.0019337085103446861, 0.005513737683576875, 0.023278695317886053, 0.19941331810701057, 0.002941363422769446, 0.010677721697920615, 0.021044852082919258, 0.0031370665426979755, 0.028159132256515066, 0.022260494014317074, 0.026484997670805456, 0.005977913485744641, 0.018686182916206596, 0.005317498877280275, 0.17380212411602358, 0.003205641941277885, 0.021400810794433192, 0.00947659892800578, 0.018669768952916884]",
         "[0.4945692883895131, 0.35187265917602994, 0.465561797752809, 0.3808988764044944, 0.5142322097378277, 0.547752808988764, 0.5117977528089888, 0.4157303370786517, 0.37565543071161045, 0.5101123595505618, 0.45691011235955054, 0.37397003745318347, 0.499438202247191, 0.4599812734082397, 0.471310861423221, 0.44232209737827716, 0.47473595505617977, 0.48196629213483144, 0.4342696629213483, 0.5074906367041199, 0.46775280898876404, 0.5194756554307116, 0.5110486891385768, 0.4378277153558052, 0.5102996254681648, 0.39925093632958797, 0.5702247191011236, 0.4639138576779026, 0.4574531835205992, 0.39700374531835203, 0.45597378277153555, 0.31928838951310856, 0.5430711610486891, 0.3382022471910112, 0.48164794007490636, 0.6177902621722846, 0.37134831460674156, 0.5318352059925093, 0.600936329588015, 0.4273408239700374, 0.4700374531835206, 0.4447565543071161, 0.4905805243445693, 0.49812734082397003, 0.397191011235955, 0.38108614232209737, 0.5102996254681648, 0.5574906367041198, 0.5395131086142322, 0.5297752808988764, 0.6037453183520599, 0.5097378277153558]",
         "[0 0 0 ... 0 0 0]"
        ],
        [
         "42",
         "0.9706",
         "[0.06338197166779014, 0.05589282749969057, 0.008607670366814193, 0.053305027543569646, 0.03449775864582357, 0.002654019822390285, 0.08403950642203803, 0.019255463816222874, 0.009020893274300877, 0.008909408229696186, 0.0023043696201344352, 0.0027790801157792575, 2.7998458349582083e-05, 2.3020478633280677e-05, 0.010203009969721188, 0.0447953480008158, 0.017762546380684457, 0.03316737619492644, 0.014625494783197041, 0.0014281978828614825, 0.01581670664803721, 0.02520382434365949, 0.023678459346213064, 0.006918350268423413, 0.027625604146007853, 0.10829977745410348, 0.01720336711710299, 0.024069730855536396, 0.05368285244986727, 0.00699812209162673, 0.03732710853200296, 0.02030115753602447, 0.04163778868470459, 0.0019337085103446861, 0.005513737683576875, 0.023278695317886053, 0.19941331810701057, 0.002941363422769446, 0.010677721697920615, 0.021044852082919258, 0.0031370665426979755, 0.028159132256515066, 0.022260494014317074, 0.026484997670805456, 0.005977913485744641, 0.018686182916206596, 0.005317498877280275, 0.17380212411602358, 0.003205641941277885, 0.021400810794433192, 0.00947659892800578, 0.018669768952916884]",
         "[0.4945692883895131, 0.35187265917602994, 0.465561797752809, 0.3808988764044944, 0.5142322097378277, 0.547752808988764, 0.5117977528089888, 0.4157303370786517, 0.37565543071161045, 0.5101123595505618, 0.45691011235955054, 0.37397003745318347, 0.499438202247191, 0.4599812734082397, 0.471310861423221, 0.44232209737827716, 0.47473595505617977, 0.48196629213483144, 0.4342696629213483, 0.5074906367041199, 0.46775280898876404, 0.5194756554307116, 0.5110486891385768, 0.4378277153558052, 0.5102996254681648, 0.39925093632958797, 0.5702247191011236, 0.4639138576779026, 0.4574531835205992, 0.39700374531835203, 0.45597378277153555, 0.31928838951310856, 0.5430711610486891, 0.3382022471910112, 0.48164794007490636, 0.6177902621722846, 0.37134831460674156, 0.5318352059925093, 0.600936329588015, 0.4273408239700374, 0.4700374531835206, 0.4447565543071161, 0.4905805243445693, 0.49812734082397003, 0.397191011235955, 0.38108614232209737, 0.5102996254681648, 0.5574906367041198, 0.5395131086142322, 0.5297752808988764, 0.6037453183520599, 0.5097378277153558]",
         "[0 0 0 ... 0 0 0]"
        ],
        [
         "43",
         "0.6825",
         "[0.06338197166779014, 0.05589282749969057, 0.008607670366814193, 0.053305027543569646, 0.03449775864582357, 0.002654019822390285, 0.08403950642203803, 0.019255463816222874, 0.009020893274300877, 0.008909408229696186, 0.0023043696201344352, 0.0027790801157792575, 2.7998458349582083e-05, 2.3020478633280677e-05, 0.010203009969721188, 0.0447953480008158, 0.017762546380684457, 0.03316737619492644, 0.014625494783197041, 0.0014281978828614825, 0.01581670664803721, 0.02520382434365949, 0.023678459346213064, 0.006918350268423413, 0.027625604146007853, 0.10829977745410348, 0.01720336711710299, 0.024069730855536396, 0.05368285244986727, 0.00699812209162673, 0.03732710853200296, 0.02030115753602447, 0.04163778868470459, 0.0019337085103446861, 0.005513737683576875, 0.023278695317886053, 0.19941331810701057, 0.002941363422769446, 0.010677721697920615, 0.021044852082919258, 0.0031370665426979755, 0.028159132256515066, 0.022260494014317074, 0.026484997670805456, 0.005977913485744641, 0.018686182916206596, 0.005317498877280275, 0.17380212411602358, 0.003205641941277885, 0.021400810794433192, 0.00947659892800578, 0.018669768952916884]",
         "[0.4945692883895131, 0.35187265917602994, 0.465561797752809, 0.3808988764044944, 0.5142322097378277, 0.547752808988764, 0.5117977528089888, 0.4157303370786517, 0.37565543071161045, 0.5101123595505618, 0.45691011235955054, 0.37397003745318347, 0.499438202247191, 0.4599812734082397, 0.471310861423221, 0.44232209737827716, 0.47473595505617977, 0.48196629213483144, 0.4342696629213483, 0.5074906367041199, 0.46775280898876404, 0.5194756554307116, 0.5110486891385768, 0.4378277153558052, 0.5102996254681648, 0.39925093632958797, 0.5702247191011236, 0.4639138576779026, 0.4574531835205992, 0.39700374531835203, 0.45597378277153555, 0.31928838951310856, 0.5430711610486891, 0.3382022471910112, 0.48164794007490636, 0.6177902621722846, 0.37134831460674156, 0.5318352059925093, 0.600936329588015, 0.4273408239700374, 0.4700374531835206, 0.4447565543071161, 0.4905805243445693, 0.49812734082397003, 0.397191011235955, 0.38108614232209737, 0.5102996254681648, 0.5574906367041198, 0.5395131086142322, 0.5297752808988764, 0.6037453183520599, 0.5097378277153558]",
         "[0 0 0 ... 0 0 0]"
        ],
        [
         "44",
         "0.7351",
         "[0.06338197166779014, 0.05589282749969057, 0.008607670366814193, 0.053305027543569646, 0.03449775864582357, 0.002654019822390285, 0.08403950642203803, 0.019255463816222874, 0.009020893274300877, 0.008909408229696186, 0.0023043696201344352, 0.0027790801157792575, 2.7998458349582083e-05, 2.3020478633280677e-05, 0.010203009969721188, 0.0447953480008158, 0.017762546380684457, 0.03316737619492644, 0.014625494783197041, 0.0014281978828614825, 0.01581670664803721, 0.02520382434365949, 0.023678459346213064, 0.006918350268423413, 0.027625604146007853, 0.10829977745410348, 0.01720336711710299, 0.024069730855536396, 0.05368285244986727, 0.00699812209162673, 0.03732710853200296, 0.02030115753602447, 0.04163778868470459, 0.0019337085103446861, 0.005513737683576875, 0.023278695317886053, 0.19941331810701057, 0.002941363422769446, 0.010677721697920615, 0.021044852082919258, 0.0031370665426979755, 0.028159132256515066, 0.022260494014317074, 0.026484997670805456, 0.005977913485744641, 0.018686182916206596, 0.005317498877280275, 0.17380212411602358, 0.003205641941277885, 0.021400810794433192, 0.00947659892800578, 0.018669768952916884]",
         "[0.4945692883895131, 0.35187265917602994, 0.465561797752809, 0.3808988764044944, 0.5142322097378277, 0.547752808988764, 0.5117977528089888, 0.4157303370786517, 0.37565543071161045, 0.5101123595505618, 0.45691011235955054, 0.37397003745318347, 0.499438202247191, 0.4599812734082397, 0.471310861423221, 0.44232209737827716, 0.47473595505617977, 0.48196629213483144, 0.4342696629213483, 0.5074906367041199, 0.46775280898876404, 0.5194756554307116, 0.5110486891385768, 0.4378277153558052, 0.5102996254681648, 0.39925093632958797, 0.5702247191011236, 0.4639138576779026, 0.4574531835205992, 0.39700374531835203, 0.45597378277153555, 0.31928838951310856, 0.5430711610486891, 0.3382022471910112, 0.48164794007490636, 0.6177902621722846, 0.37134831460674156, 0.5318352059925093, 0.600936329588015, 0.4273408239700374, 0.4700374531835206, 0.4447565543071161, 0.4905805243445693, 0.49812734082397003, 0.397191011235955, 0.38108614232209737, 0.5102996254681648, 0.5574906367041198, 0.5395131086142322, 0.5297752808988764, 0.6037453183520599, 0.5097378277153558]",
         "[0 0 0 ... 0 0 0]"
        ],
        [
         "45",
         "0.7262",
         "[0.06338197166779014, 0.05589282749969057, 0.008607670366814193, 0.053305027543569646, 0.03449775864582357, 0.002654019822390285, 0.08403950642203803, 0.019255463816222874, 0.009020893274300877, 0.008909408229696186, 0.0023043696201344352, 0.0027790801157792575, 2.7998458349582083e-05, 2.3020478633280677e-05, 0.010203009969721188, 0.0447953480008158, 0.017762546380684457, 0.03316737619492644, 0.014625494783197041, 0.0014281978828614825, 0.01581670664803721, 0.02520382434365949, 0.023678459346213064, 0.006918350268423413, 0.027625604146007853, 0.10829977745410348, 0.01720336711710299, 0.024069730855536396, 0.05368285244986727, 0.00699812209162673, 0.03732710853200296, 0.02030115753602447, 0.04163778868470459, 0.0019337085103446861, 0.005513737683576875, 0.023278695317886053, 0.19941331810701057, 0.002941363422769446, 0.010677721697920615, 0.021044852082919258, 0.0031370665426979755, 0.028159132256515066, 0.022260494014317074, 0.026484997670805456, 0.005977913485744641, 0.018686182916206596, 0.005317498877280275, 0.17380212411602358, 0.003205641941277885, 0.021400810794433192, 0.00947659892800578, 0.018669768952916884]",
         "[0.4945692883895131, 0.35187265917602994, 0.465561797752809, 0.3808988764044944, 0.5142322097378277, 0.547752808988764, 0.5117977528089888, 0.4157303370786517, 0.37565543071161045, 0.5101123595505618, 0.45691011235955054, 0.37397003745318347, 0.499438202247191, 0.4599812734082397, 0.471310861423221, 0.44232209737827716, 0.47473595505617977, 0.48196629213483144, 0.4342696629213483, 0.5074906367041199, 0.46775280898876404, 0.5194756554307116, 0.5110486891385768, 0.4378277153558052, 0.5102996254681648, 0.39925093632958797, 0.5702247191011236, 0.4639138576779026, 0.4574531835205992, 0.39700374531835203, 0.45597378277153555, 0.31928838951310856, 0.5430711610486891, 0.3382022471910112, 0.48164794007490636, 0.6177902621722846, 0.37134831460674156, 0.5318352059925093, 0.600936329588015, 0.4273408239700374, 0.4700374531835206, 0.4447565543071161, 0.4905805243445693, 0.49812734082397003, 0.397191011235955, 0.38108614232209737, 0.5102996254681648, 0.5574906367041198, 0.5395131086142322, 0.5297752808988764, 0.6037453183520599, 0.5097378277153558]",
         "[0 0 0 ... 0 0 0]"
        ],
        [
         "46",
         "0.7351",
         "[0.06338197166779014, 0.05589282749969057, 0.008607670366814193, 0.053305027543569646, 0.03449775864582357, 0.002654019822390285, 0.08403950642203803, 0.019255463816222874, 0.009020893274300877, 0.008909408229696186, 0.0023043696201344352, 0.0027790801157792575, 2.7998458349582083e-05, 2.3020478633280677e-05, 0.010203009969721188, 0.0447953480008158, 0.017762546380684457, 0.03316737619492644, 0.014625494783197041, 0.0014281978828614825, 0.01581670664803721, 0.02520382434365949, 0.023678459346213064, 0.006918350268423413, 0.027625604146007853, 0.10829977745410348, 0.01720336711710299, 0.024069730855536396, 0.05368285244986727, 0.00699812209162673, 0.03732710853200296, 0.02030115753602447, 0.04163778868470459, 0.0019337085103446861, 0.005513737683576875, 0.023278695317886053, 0.19941331810701057, 0.002941363422769446, 0.010677721697920615, 0.021044852082919258, 0.0031370665426979755, 0.028159132256515066, 0.022260494014317074, 0.026484997670805456, 0.005977913485744641, 0.018686182916206596, 0.005317498877280275, 0.17380212411602358, 0.003205641941277885, 0.021400810794433192, 0.00947659892800578, 0.018669768952916884]",
         "[0.4945692883895131, 0.35187265917602994, 0.465561797752809, 0.3808988764044944, 0.5142322097378277, 0.547752808988764, 0.5117977528089888, 0.4157303370786517, 0.37565543071161045, 0.5101123595505618, 0.45691011235955054, 0.37397003745318347, 0.499438202247191, 0.4599812734082397, 0.471310861423221, 0.44232209737827716, 0.47473595505617977, 0.48196629213483144, 0.4342696629213483, 0.5074906367041199, 0.46775280898876404, 0.5194756554307116, 0.5110486891385768, 0.4378277153558052, 0.5102996254681648, 0.39925093632958797, 0.5702247191011236, 0.4639138576779026, 0.4574531835205992, 0.39700374531835203, 0.45597378277153555, 0.31928838951310856, 0.5430711610486891, 0.3382022471910112, 0.48164794007490636, 0.6177902621722846, 0.37134831460674156, 0.5318352059925093, 0.600936329588015, 0.4273408239700374, 0.4700374531835206, 0.4447565543071161, 0.4905805243445693, 0.49812734082397003, 0.397191011235955, 0.38108614232209737, 0.5102996254681648, 0.5574906367041198, 0.5395131086142322, 0.5297752808988764, 0.6037453183520599, 0.5097378277153558]",
         "[0 1 0 ... 0 0 0]"
        ],
        [
         "47",
         "0.4544",
         "[0.06338197166779014, 0.05589282749969057, 0.008607670366814193, 0.053305027543569646, 0.03449775864582357, 0.002654019822390285, 0.08403950642203803, 0.019255463816222874, 0.009020893274300877, 0.008909408229696186, 0.0023043696201344352, 0.0027790801157792575, 2.7998458349582083e-05, 2.3020478633280677e-05, 0.010203009969721188, 0.0447953480008158, 0.017762546380684457, 0.03316737619492644, 0.014625494783197041, 0.0014281978828614825, 0.01581670664803721, 0.02520382434365949, 0.023678459346213064, 0.006918350268423413, 0.027625604146007853, 0.10829977745410348, 0.01720336711710299, 0.024069730855536396, 0.05368285244986727, 0.00699812209162673, 0.03732710853200296, 0.02030115753602447, 0.04163778868470459, 0.0019337085103446861, 0.005513737683576875, 0.023278695317886053, 0.19941331810701057, 0.002941363422769446, 0.010677721697920615, 0.021044852082919258, 0.0031370665426979755, 0.028159132256515066, 0.022260494014317074, 0.026484997670805456, 0.005977913485744641, 0.018686182916206596, 0.005317498877280275, 0.17380212411602358, 0.003205641941277885, 0.021400810794433192, 0.00947659892800578, 0.018669768952916884]",
         "[0.4945692883895131, 0.35187265917602994, 0.465561797752809, 0.3808988764044944, 0.5142322097378277, 0.547752808988764, 0.5117977528089888, 0.4157303370786517, 0.37565543071161045, 0.5101123595505618, 0.45691011235955054, 0.37397003745318347, 0.499438202247191, 0.4599812734082397, 0.471310861423221, 0.44232209737827716, 0.47473595505617977, 0.48196629213483144, 0.4342696629213483, 0.5074906367041199, 0.46775280898876404, 0.5194756554307116, 0.5110486891385768, 0.4378277153558052, 0.5102996254681648, 0.39925093632958797, 0.5702247191011236, 0.4639138576779026, 0.4574531835205992, 0.39700374531835203, 0.45597378277153555, 0.31928838951310856, 0.5430711610486891, 0.3382022471910112, 0.48164794007490636, 0.6177902621722846, 0.37134831460674156, 0.5318352059925093, 0.600936329588015, 0.4273408239700374, 0.4700374531835206, 0.4447565543071161, 0.4905805243445693, 0.49812734082397003, 0.397191011235955, 0.38108614232209737, 0.5102996254681648, 0.5574906367041198, 0.5395131086142322, 0.5297752808988764, 0.6037453183520599, 0.5097378277153558]",
         "[0 0 0 ... 0 0 0]"
        ],
        [
         "48",
         "0.6158",
         "[0.06338197166779014, 0.05589282749969057, 0.008607670366814193, 0.053305027543569646, 0.03449775864582357, 0.002654019822390285, 0.08403950642203803, 0.019255463816222874, 0.009020893274300877, 0.008909408229696186, 0.0023043696201344352, 0.0027790801157792575, 2.7998458349582083e-05, 2.3020478633280677e-05, 0.010203009969721188, 0.0447953480008158, 0.017762546380684457, 0.03316737619492644, 0.014625494783197041, 0.0014281978828614825, 0.01581670664803721, 0.02520382434365949, 0.023678459346213064, 0.006918350268423413, 0.027625604146007853, 0.10829977745410348, 0.01720336711710299, 0.024069730855536396, 0.05368285244986727, 0.00699812209162673, 0.03732710853200296, 0.02030115753602447, 0.04163778868470459, 0.0019337085103446861, 0.005513737683576875, 0.023278695317886053, 0.19941331810701057, 0.002941363422769446, 0.010677721697920615, 0.021044852082919258, 0.0031370665426979755, 0.028159132256515066, 0.022260494014317074, 0.026484997670805456, 0.005977913485744641, 0.018686182916206596, 0.005317498877280275, 0.17380212411602358, 0.003205641941277885, 0.021400810794433192, 0.00947659892800578, 0.018669768952916884]",
         "[0.4945692883895131, 0.35187265917602994, 0.465561797752809, 0.3808988764044944, 0.5142322097378277, 0.547752808988764, 0.5117977528089888, 0.4157303370786517, 0.37565543071161045, 0.5101123595505618, 0.45691011235955054, 0.37397003745318347, 0.499438202247191, 0.4599812734082397, 0.471310861423221, 0.44232209737827716, 0.47473595505617977, 0.48196629213483144, 0.4342696629213483, 0.5074906367041199, 0.46775280898876404, 0.5194756554307116, 0.5110486891385768, 0.4378277153558052, 0.5102996254681648, 0.39925093632958797, 0.5702247191011236, 0.4639138576779026, 0.4574531835205992, 0.39700374531835203, 0.45597378277153555, 0.31928838951310856, 0.5430711610486891, 0.3382022471910112, 0.48164794007490636, 0.6177902621722846, 0.37134831460674156, 0.5318352059925093, 0.600936329588015, 0.4273408239700374, 0.4700374531835206, 0.4447565543071161, 0.4905805243445693, 0.49812734082397003, 0.397191011235955, 0.38108614232209737, 0.5102996254681648, 0.5574906367041198, 0.5395131086142322, 0.5297752808988764, 0.6037453183520599, 0.5097378277153558]",
         "[0 0 0 ... 0 0 0]"
        ],
        [
         "49",
         "0.3213",
         "[0.06338197166779014, 0.05589282749969057, 0.008607670366814193, 0.053305027543569646, 0.03449775864582357, 0.002654019822390285, 0.08403950642203803, 0.019255463816222874, 0.009020893274300877, 0.008909408229696186, 0.0023043696201344352, 0.0027790801157792575, 2.7998458349582083e-05, 2.3020478633280677e-05, 0.010203009969721188, 0.0447953480008158, 0.017762546380684457, 0.03316737619492644, 0.014625494783197041, 0.0014281978828614825, 0.01581670664803721, 0.02520382434365949, 0.023678459346213064, 0.006918350268423413, 0.027625604146007853, 0.10829977745410348, 0.01720336711710299, 0.024069730855536396, 0.05368285244986727, 0.00699812209162673, 0.03732710853200296, 0.02030115753602447, 0.04163778868470459, 0.0019337085103446861, 0.005513737683576875, 0.023278695317886053, 0.19941331810701057, 0.002941363422769446, 0.010677721697920615, 0.021044852082919258, 0.0031370665426979755, 0.028159132256515066, 0.022260494014317074, 0.026484997670805456, 0.005977913485744641, 0.018686182916206596, 0.005317498877280275, 0.17380212411602358, 0.003205641941277885, 0.021400810794433192, 0.00947659892800578, 0.018669768952916884]",
         "[0.4945692883895131, 0.35187265917602994, 0.465561797752809, 0.3808988764044944, 0.5142322097378277, 0.547752808988764, 0.5117977528089888, 0.4157303370786517, 0.37565543071161045, 0.5101123595505618, 0.45691011235955054, 0.37397003745318347, 0.499438202247191, 0.4599812734082397, 0.471310861423221, 0.44232209737827716, 0.47473595505617977, 0.48196629213483144, 0.4342696629213483, 0.5074906367041199, 0.46775280898876404, 0.5194756554307116, 0.5110486891385768, 0.4378277153558052, 0.5102996254681648, 0.39925093632958797, 0.5702247191011236, 0.4639138576779026, 0.4574531835205992, 0.39700374531835203, 0.45597378277153555, 0.31928838951310856, 0.5430711610486891, 0.3382022471910112, 0.48164794007490636, 0.6177902621722846, 0.37134831460674156, 0.5318352059925093, 0.600936329588015, 0.4273408239700374, 0.4700374531835206, 0.4447565543071161, 0.4905805243445693, 0.49812734082397003, 0.397191011235955, 0.38108614232209737, 0.5102996254681648, 0.5574906367041198, 0.5395131086142322, 0.5297752808988764, 0.6037453183520599, 0.5097378277153558]",
         "[0 0 0 ... 0 0 0]"
        ]
       ],
       "shape": {
        "columns": 4,
        "rows": 664
       }
      },
      "text/html": [
       "<div>\n",
       "<style scoped>\n",
       "    .dataframe tbody tr th:only-of-type {\n",
       "        vertical-align: middle;\n",
       "    }\n",
       "\n",
       "    .dataframe tbody tr th {\n",
       "        vertical-align: top;\n",
       "    }\n",
       "\n",
       "    .dataframe thead th {\n",
       "        text-align: right;\n",
       "    }\n",
       "</style>\n",
       "<table border=\"1\" class=\"dataframe\">\n",
       "  <thead>\n",
       "    <tr style=\"text-align: right;\">\n",
       "      <th></th>\n",
       "      <th>dose_response_value</th>\n",
       "      <th>transcriptomics</th>\n",
       "      <th>proteomics</th>\n",
       "      <th>fingerprint</th>\n",
       "    </tr>\n",
       "  </thead>\n",
       "  <tbody>\n",
       "    <tr>\n",
       "      <th>0</th>\n",
       "      <td>0.8691</td>\n",
       "      <td>[0.2403429671694821, 0.5140137516443007, 0.654...</td>\n",
       "      <td>[0.44644194756554306, 0.5481273408239701, 0.46...</td>\n",
       "      <td>[0, 0, 0, 0, 0, 0, 0, 0, 0, 1, 0, 0, 0, 0, 1, ...</td>\n",
       "    </tr>\n",
       "    <tr>\n",
       "      <th>1</th>\n",
       "      <td>0.3227</td>\n",
       "      <td>[0.2403429671694821, 0.5140137516443007, 0.654...</td>\n",
       "      <td>[0.44644194756554306, 0.5481273408239701, 0.46...</td>\n",
       "      <td>[0, 0, 0, 0, 0, 0, 0, 0, 0, 0, 0, 0, 0, 0, 0, ...</td>\n",
       "    </tr>\n",
       "    <tr>\n",
       "      <th>2</th>\n",
       "      <td>0.6045</td>\n",
       "      <td>[0.0769903831192593, 0.11187755322864364, 0.02...</td>\n",
       "      <td>[0.44494382022471907, 0.4676779026217228, 0.46...</td>\n",
       "      <td>[0, 0, 0, 0, 0, 0, 0, 0, 0, 0, 0, 0, 0, 0, 1, ...</td>\n",
       "    </tr>\n",
       "    <tr>\n",
       "      <th>3</th>\n",
       "      <td>0.7913</td>\n",
       "      <td>[0.01224300411455304, 0.007865114438717567, 0....</td>\n",
       "      <td>[0.39269662921348314, 0.23033707865168537, 0.4...</td>\n",
       "      <td>[0, 0, 0, 0, 0, 0, 0, 0, 0, 0, 0, 0, 0, 0, 0, ...</td>\n",
       "    </tr>\n",
       "    <tr>\n",
       "      <th>4</th>\n",
       "      <td>0.7527</td>\n",
       "      <td>[0.01224300411455304, 0.007865114438717567, 0....</td>\n",
       "      <td>[0.39269662921348314, 0.23033707865168537, 0.4...</td>\n",
       "      <td>[0, 1, 0, 0, 0, 0, 0, 0, 0, 0, 0, 0, 0, 1, 0, ...</td>\n",
       "    </tr>\n",
       "    <tr>\n",
       "      <th>...</th>\n",
       "      <td>...</td>\n",
       "      <td>...</td>\n",
       "      <td>...</td>\n",
       "      <td>...</td>\n",
       "    </tr>\n",
       "    <tr>\n",
       "      <th>659</th>\n",
       "      <td>0.8636</td>\n",
       "      <td>[0.01225390530145441, 0.025113247899129314, 0....</td>\n",
       "      <td>[0.4848876404494382, 0.47532209737827713, 0.53...</td>\n",
       "      <td>[0, 0, 0, 0, 0, 0, 0, 0, 0, 0, 0, 0, 0, 0, 0, ...</td>\n",
       "    </tr>\n",
       "    <tr>\n",
       "      <th>660</th>\n",
       "      <td>0.5377</td>\n",
       "      <td>[0.01225390530145441, 0.025113247899129314, 0....</td>\n",
       "      <td>[0.4848876404494382, 0.47532209737827713, 0.53...</td>\n",
       "      <td>[0, 1, 0, 0, 0, 0, 0, 0, 0, 0, 1, 0, 0, 0, 0, ...</td>\n",
       "    </tr>\n",
       "    <tr>\n",
       "      <th>661</th>\n",
       "      <td>0.8301</td>\n",
       "      <td>[0.01225390530145441, 0.025113247899129314, 0....</td>\n",
       "      <td>[0.4848876404494382, 0.47532209737827713, 0.53...</td>\n",
       "      <td>[0, 0, 0, 1, 0, 0, 0, 0, 0, 0, 0, 0, 0, 0, 0, ...</td>\n",
       "    </tr>\n",
       "    <tr>\n",
       "      <th>662</th>\n",
       "      <td>0.9885</td>\n",
       "      <td>[0.01225390530145441, 0.025113247899129314, 0....</td>\n",
       "      <td>[0.4848876404494382, 0.47532209737827713, 0.53...</td>\n",
       "      <td>[0, 0, 0, 0, 0, 0, 0, 0, 0, 0, 0, 0, 0, 0, 0, ...</td>\n",
       "    </tr>\n",
       "    <tr>\n",
       "      <th>663</th>\n",
       "      <td>0.8753</td>\n",
       "      <td>[0.01225390530145441, 0.025113247899129314, 0....</td>\n",
       "      <td>[0.4848876404494382, 0.47532209737827713, 0.53...</td>\n",
       "      <td>[0, 1, 0, 0, 0, 0, 0, 0, 0, 0, 0, 0, 0, 0, 0, ...</td>\n",
       "    </tr>\n",
       "  </tbody>\n",
       "</table>\n",
       "<p>664 rows × 4 columns</p>\n",
       "</div>"
      ],
      "text/plain": [
       "     dose_response_value                                    transcriptomics  \\\n",
       "0                 0.8691  [0.2403429671694821, 0.5140137516443007, 0.654...   \n",
       "1                 0.3227  [0.2403429671694821, 0.5140137516443007, 0.654...   \n",
       "2                 0.6045  [0.0769903831192593, 0.11187755322864364, 0.02...   \n",
       "3                 0.7913  [0.01224300411455304, 0.007865114438717567, 0....   \n",
       "4                 0.7527  [0.01224300411455304, 0.007865114438717567, 0....   \n",
       "..                   ...                                                ...   \n",
       "659               0.8636  [0.01225390530145441, 0.025113247899129314, 0....   \n",
       "660               0.5377  [0.01225390530145441, 0.025113247899129314, 0....   \n",
       "661               0.8301  [0.01225390530145441, 0.025113247899129314, 0....   \n",
       "662               0.9885  [0.01225390530145441, 0.025113247899129314, 0....   \n",
       "663               0.8753  [0.01225390530145441, 0.025113247899129314, 0....   \n",
       "\n",
       "                                            proteomics  \\\n",
       "0    [0.44644194756554306, 0.5481273408239701, 0.46...   \n",
       "1    [0.44644194756554306, 0.5481273408239701, 0.46...   \n",
       "2    [0.44494382022471907, 0.4676779026217228, 0.46...   \n",
       "3    [0.39269662921348314, 0.23033707865168537, 0.4...   \n",
       "4    [0.39269662921348314, 0.23033707865168537, 0.4...   \n",
       "..                                                 ...   \n",
       "659  [0.4848876404494382, 0.47532209737827713, 0.53...   \n",
       "660  [0.4848876404494382, 0.47532209737827713, 0.53...   \n",
       "661  [0.4848876404494382, 0.47532209737827713, 0.53...   \n",
       "662  [0.4848876404494382, 0.47532209737827713, 0.53...   \n",
       "663  [0.4848876404494382, 0.47532209737827713, 0.53...   \n",
       "\n",
       "                                           fingerprint  \n",
       "0    [0, 0, 0, 0, 0, 0, 0, 0, 0, 1, 0, 0, 0, 0, 1, ...  \n",
       "1    [0, 0, 0, 0, 0, 0, 0, 0, 0, 0, 0, 0, 0, 0, 0, ...  \n",
       "2    [0, 0, 0, 0, 0, 0, 0, 0, 0, 0, 0, 0, 0, 0, 1, ...  \n",
       "3    [0, 0, 0, 0, 0, 0, 0, 0, 0, 0, 0, 0, 0, 0, 0, ...  \n",
       "4    [0, 1, 0, 0, 0, 0, 0, 0, 0, 0, 0, 0, 0, 1, 0, ...  \n",
       "..                                                 ...  \n",
       "659  [0, 0, 0, 0, 0, 0, 0, 0, 0, 0, 0, 0, 0, 0, 0, ...  \n",
       "660  [0, 1, 0, 0, 0, 0, 0, 0, 0, 0, 1, 0, 0, 0, 0, ...  \n",
       "661  [0, 0, 0, 1, 0, 0, 0, 0, 0, 0, 0, 0, 0, 0, 0, ...  \n",
       "662  [0, 0, 0, 0, 0, 0, 0, 0, 0, 0, 0, 0, 0, 0, 0, ...  \n",
       "663  [0, 1, 0, 0, 0, 0, 0, 0, 0, 0, 0, 0, 0, 0, 0, ...  \n",
       "\n",
       "[664 rows x 4 columns]"
      ]
     },
     "execution_count": 38,
     "metadata": {},
     "output_type": "execute_result"
    }
   ],
   "source": [
    "# Training/Test/Validation Data is all under the name training_data.\n",
    "training_data = aggregated_df\n",
    "training_data"
   ]
  },
  {
   "cell_type": "markdown",
   "id": "dcce0e13",
   "metadata": {},
   "source": [
    "#### Split the Data into Training, Validating, and Testing Data\n",
    "The data here is split into 80% training, 10% validating, and 10% testing sets."
   ]
  },
  {
   "cell_type": "code",
   "execution_count": 39,
   "id": "6dfa6e04",
   "metadata": {},
   "outputs": [],
   "source": [
    "# Splitting the merged_data DataFrame into features (X) and target variable (y)\n",
    "X = training_data[['transcriptomics', 'proteomics',\"fingerprint\"]]  # These columns are your features\n",
    "y = training_data['dose_response_value']  # Using 'dose_response_value' column as the target variable"
   ]
  },
  {
   "cell_type": "code",
   "execution_count": 40,
   "id": "c1af66c8",
   "metadata": {},
   "outputs": [],
   "source": [
    "# Splitting data into training, validation, and testing sets\n",
    "X_train_val, X_test, y_train_val, y_test = train_test_split(X, y, test_size=0.1, random_state=42)\n",
    "X_train, X_val, y_train, y_val = train_test_split(X_train_val, y_train_val, test_size=0.1111, random_state=42) # 0.1111 * 90 = 10%"
   ]
  },
  {
   "cell_type": "markdown",
   "id": "6c40c3c1",
   "metadata": {},
   "source": [
    "#### Set the Model Parameters\n",
    "Here you may modify the inputs, layers, activation functions, and outputs of the model.\n",
    "See if you can improve upon our basic setup. \\\n",
    "Note: Running some of these steps multiple times  in the jupyter notebook may result in odd issues, please be careful with this behavior."
   ]
  },
  {
   "cell_type": "code",
   "execution_count": 41,
   "id": "15cce9fc",
   "metadata": {},
   "outputs": [],
   "source": [
    "#These are the array lengths of each feature set.\n",
    "num_proteomics = 7284\n",
    "num_transcriptomics = 7284  \n",
    "num_fingerprint = 1024  \n",
    "\n",
    "#Define inputs\n",
    "transcriptomics_input = keras.Input(\n",
    "    shape=(num_transcriptomics,), name=\"transcriptomics\"\n",
    ")  \n",
    "\n",
    "proteomics_input = keras.Input(\n",
    "    shape=(num_proteomics,), name=\"proteomics\"\n",
    ")  \n",
    "\n",
    "fingerprint_input = keras.Input(\n",
    "    shape=(num_fingerprint,), name=\"fingerprint\"\n",
    ")  \n",
    "\n",
    "# You may adjust these layers and activation functions to get better (or worse) results.\n",
    "# Merge all available features into a single large vector via concatenation\n",
    "x = layers.concatenate([transcriptomics_input, proteomics_input, fingerprint_input])\n",
    "x = layers.Dense(16, activation='relu')(x)\n",
    "x = layers.Dense(64, activation=\"relu\")(x)\n",
    "x = layers.Dropout(0.5)(x)\n",
    "x = layers.Dense(32, activation='relu')(x)\n",
    "x = layers.Dense(12, activation='relu')(x)\n",
    "\n",
    "# Priority prediction is here. You may add layers (and an output) after this too.\n",
    "# This just allows for an early prediction in case you have a large datset and want preliminary results.\n",
    "priority_pred = layers.Dense(1, name=\"priority\",activation='relu')(x)\n",
    "\n",
    "# Instantiate an end-to-end model predicting both priority and department\n",
    "model = keras.Model(\n",
    "    inputs=[transcriptomics_input, proteomics_input, fingerprint_input],\n",
    "    outputs={\"priority\": priority_pred},\n",
    ")\n"
   ]
  },
  {
   "cell_type": "code",
   "execution_count": 42,
   "id": "32cd9f42",
   "metadata": {},
   "outputs": [
    {
     "name": "stdout",
     "output_type": "stream",
     "text": [
      "You must install pydot (`pip install pydot`) for `plot_model` to work.\n"
     ]
    }
   ],
   "source": [
    "keras.utils.plot_model(model, \"multi_input_model.png\", show_shapes=True)"
   ]
  },
  {
   "cell_type": "markdown",
   "id": "be16b00b",
   "metadata": {},
   "source": [
    "### Compile the Model\n",
    "You may wish to test out different optimizers, learning rates, and metrics. \\\n",
    "For more information about the `keras` functions used below, `compile()`, `fit()`, `evaluate()` and `predict()`, navigate to the [keras API](https://keras.io/api/models/model_training_apis/#model-training-apis)."
   ]
  },
  {
   "cell_type": "code",
   "execution_count": 43,
   "id": "b365852f",
   "metadata": {},
   "outputs": [],
   "source": [
    "model.compile(\n",
    "    optimizer=keras.optimizers.Adam(learning_rate=0.0001),\n",
    "    loss={\n",
    "        \"priority\": keras.losses.MeanSquaredError(),\n",
    "    },\n",
    "    metrics=[MeanAbsoluteError()],\n",
    "    loss_weights={\"priority\": 1},\n",
    ")"
   ]
  },
  {
   "cell_type": "markdown",
   "id": "de9c4866",
   "metadata": {},
   "source": [
    "### Run your Model !\n",
    "The model does not allow for lists in the inputs, so these are converted to Arrays.\n",
    "Also ensure that the length of each array is the same on an input variable basis.\n",
    "For example, if the proteomics variable has two different length arrays, you get an uninformative error message.\n",
    "\n",
    "- In our case, we subsetted out many samples and imputed some values to avoid this issue. You may need to add padding (empty values) to some lists to ensure that this issue is avoided. Just make sure that this padding does not shift your proteomics/transcriptomics values out of order of the entrez_id mapping list.\n",
    "\n",
    "Feel free to change the epochs and batch size. "
   ]
  },
  {
   "cell_type": "code",
   "execution_count": 46,
   "id": "5ffdd8b5",
   "metadata": {},
   "outputs": [],
   "source": [
    "# Pad or truncate arrays to ensure consistency\n",
    "def pad_sequence(seq, target_length, pad_value=0):\n",
    "    \"\"\"Pad or truncate a sequence to a target length.\"\"\"\n",
    "    if len(seq) > target_length:  # Truncate if longer than target_length\n",
    "        return seq[:target_length]\n",
    "    elif len(seq) < target_length:  # Pad with zeros if shorter than target_length\n",
    "        return seq + [pad_value] * (target_length - len(seq))\n",
    "    else:\n",
    "        return seq\n",
    "\n",
    "# Example: Create fixed-length arrays\n",
    "X_train['transcriptomics'] = X_train['transcriptomics'].apply(lambda x: pad_sequence(x, target_length=7284))\n",
    "X_train['proteomics'] = X_train['proteomics'].apply(lambda x: pad_sequence(x, target_length=7284))\n",
    "X_train['fingerprint'] = X_train['fingerprint'].apply(lambda x: pad_sequence(x, target_length=1024))\n",
    "\n",
    "X_val['transcriptomics'] = X_val['transcriptomics'].apply(lambda x: pad_sequence(x, target_length=7284))\n",
    "X_val['proteomics'] = X_val['proteomics'].apply(lambda x: pad_sequence(x, target_length=7284))\n",
    "X_val['fingerprint'] = X_val['fingerprint'].apply(lambda x: pad_sequence(x, target_length=1024))"
   ]
  },
  {
   "cell_type": "code",
   "execution_count": 47,
   "id": "36b1dc6f",
   "metadata": {},
   "outputs": [
    {
     "name": "stdout",
     "output_type": "stream",
     "text": [
      "Epoch 1/100\n",
      "\u001b[1m17/17\u001b[0m \u001b[32m━━━━━━━━━━━━━━━━━━━━\u001b[0m\u001b[37m\u001b[0m \u001b[1m1s\u001b[0m 14ms/step - loss: 0.5250 - mean_absolute_error: 0.6931 - val_loss: 0.5031 - val_mean_absolute_error: 0.6749\n",
      "Epoch 2/100\n",
      "\u001b[1m17/17\u001b[0m \u001b[32m━━━━━━━━━━━━━━━━━━━━\u001b[0m\u001b[37m\u001b[0m \u001b[1m0s\u001b[0m 7ms/step - loss: 0.4665 - mean_absolute_error: 0.6505 - val_loss: 0.3868 - val_mean_absolute_error: 0.5853\n",
      "Epoch 3/100\n",
      "\u001b[1m17/17\u001b[0m \u001b[32m━━━━━━━━━━━━━━━━━━━━\u001b[0m\u001b[37m\u001b[0m \u001b[1m0s\u001b[0m 7ms/step - loss: 0.3643 - mean_absolute_error: 0.5635 - val_loss: 0.2386 - val_mean_absolute_error: 0.4461\n",
      "Epoch 4/100\n",
      "\u001b[1m17/17\u001b[0m \u001b[32m━━━━━━━━━━━━━━━━━━━━\u001b[0m\u001b[37m\u001b[0m \u001b[1m0s\u001b[0m 7ms/step - loss: 0.2313 - mean_absolute_error: 0.4319 - val_loss: 0.1212 - val_mean_absolute_error: 0.3085\n",
      "Epoch 5/100\n",
      "\u001b[1m17/17\u001b[0m \u001b[32m━━━━━━━━━━━━━━━━━━━━\u001b[0m\u001b[37m\u001b[0m \u001b[1m0s\u001b[0m 7ms/step - loss: 0.1439 - mean_absolute_error: 0.3185 - val_loss: 0.0650 - val_mean_absolute_error: 0.2144\n",
      "Epoch 6/100\n",
      "\u001b[1m17/17\u001b[0m \u001b[32m━━━━━━━━━━━━━━━━━━━━\u001b[0m\u001b[37m\u001b[0m \u001b[1m0s\u001b[0m 7ms/step - loss: 0.0975 - mean_absolute_error: 0.2590 - val_loss: 0.0529 - val_mean_absolute_error: 0.1906\n",
      "Epoch 7/100\n",
      "\u001b[1m17/17\u001b[0m \u001b[32m━━━━━━━━━━━━━━━━━━━━\u001b[0m\u001b[37m\u001b[0m \u001b[1m0s\u001b[0m 7ms/step - loss: 0.0926 - mean_absolute_error: 0.2481 - val_loss: 0.0505 - val_mean_absolute_error: 0.1852\n",
      "Epoch 8/100\n",
      "\u001b[1m17/17\u001b[0m \u001b[32m━━━━━━━━━━━━━━━━━━━━\u001b[0m\u001b[37m\u001b[0m \u001b[1m0s\u001b[0m 7ms/step - loss: 0.0988 - mean_absolute_error: 0.2601 - val_loss: 0.0491 - val_mean_absolute_error: 0.1821\n",
      "Epoch 9/100\n",
      "\u001b[1m17/17\u001b[0m \u001b[32m━━━━━━━━━━━━━━━━━━━━\u001b[0m\u001b[37m\u001b[0m \u001b[1m0s\u001b[0m 6ms/step - loss: 0.0925 - mean_absolute_error: 0.2473 - val_loss: 0.0479 - val_mean_absolute_error: 0.1799\n",
      "Epoch 10/100\n",
      "\u001b[1m17/17\u001b[0m \u001b[32m━━━━━━━━━━━━━━━━━━━━\u001b[0m\u001b[37m\u001b[0m \u001b[1m0s\u001b[0m 9ms/step - loss: 0.0758 - mean_absolute_error: 0.2176 - val_loss: 0.0462 - val_mean_absolute_error: 0.1768\n",
      "Epoch 11/100\n",
      "\u001b[1m17/17\u001b[0m \u001b[32m━━━━━━━━━━━━━━━━━━━━\u001b[0m\u001b[37m\u001b[0m \u001b[1m0s\u001b[0m 7ms/step - loss: 0.0795 - mean_absolute_error: 0.2322 - val_loss: 0.0444 - val_mean_absolute_error: 0.1733\n",
      "Epoch 12/100\n",
      "\u001b[1m17/17\u001b[0m \u001b[32m━━━━━━━━━━━━━━━━━━━━\u001b[0m\u001b[37m\u001b[0m \u001b[1m0s\u001b[0m 9ms/step - loss: 0.0717 - mean_absolute_error: 0.2191 - val_loss: 0.0442 - val_mean_absolute_error: 0.1736\n",
      "Epoch 13/100\n",
      "\u001b[1m17/17\u001b[0m \u001b[32m━━━━━━━━━━━━━━━━━━━━\u001b[0m\u001b[37m\u001b[0m \u001b[1m0s\u001b[0m 7ms/step - loss: 0.0722 - mean_absolute_error: 0.2194 - val_loss: 0.0439 - val_mean_absolute_error: 0.1730\n",
      "Epoch 14/100\n",
      "\u001b[1m17/17\u001b[0m \u001b[32m━━━━━━━━━━━━━━━━━━━━\u001b[0m\u001b[37m\u001b[0m \u001b[1m0s\u001b[0m 7ms/step - loss: 0.0699 - mean_absolute_error: 0.2073 - val_loss: 0.0437 - val_mean_absolute_error: 0.1728\n",
      "Epoch 15/100\n",
      "\u001b[1m17/17\u001b[0m \u001b[32m━━━━━━━━━━━━━━━━━━━━\u001b[0m\u001b[37m\u001b[0m \u001b[1m0s\u001b[0m 6ms/step - loss: 0.0589 - mean_absolute_error: 0.2010 - val_loss: 0.0421 - val_mean_absolute_error: 0.1698\n",
      "Epoch 16/100\n",
      "\u001b[1m17/17\u001b[0m \u001b[32m━━━━━━━━━━━━━━━━━━━━\u001b[0m\u001b[37m\u001b[0m \u001b[1m0s\u001b[0m 7ms/step - loss: 0.0711 - mean_absolute_error: 0.2206 - val_loss: 0.0401 - val_mean_absolute_error: 0.1647\n",
      "Epoch 17/100\n",
      "\u001b[1m17/17\u001b[0m \u001b[32m━━━━━━━━━━━━━━━━━━━━\u001b[0m\u001b[37m\u001b[0m \u001b[1m0s\u001b[0m 7ms/step - loss: 0.0599 - mean_absolute_error: 0.1955 - val_loss: 0.0409 - val_mean_absolute_error: 0.1682\n",
      "Epoch 18/100\n",
      "\u001b[1m17/17\u001b[0m \u001b[32m━━━━━━━━━━━━━━━━━━━━\u001b[0m\u001b[37m\u001b[0m \u001b[1m0s\u001b[0m 7ms/step - loss: 0.0588 - mean_absolute_error: 0.1959 - val_loss: 0.0400 - val_mean_absolute_error: 0.1661\n",
      "Epoch 19/100\n",
      "\u001b[1m17/17\u001b[0m \u001b[32m━━━━━━━━━━━━━━━━━━━━\u001b[0m\u001b[37m\u001b[0m \u001b[1m0s\u001b[0m 7ms/step - loss: 0.0533 - mean_absolute_error: 0.1825 - val_loss: 0.0387 - val_mean_absolute_error: 0.1623\n",
      "Epoch 20/100\n",
      "\u001b[1m17/17\u001b[0m \u001b[32m━━━━━━━━━━━━━━━━━━━━\u001b[0m\u001b[37m\u001b[0m \u001b[1m0s\u001b[0m 7ms/step - loss: 0.0578 - mean_absolute_error: 0.1930 - val_loss: 0.0390 - val_mean_absolute_error: 0.1639\n",
      "Epoch 21/100\n",
      "\u001b[1m17/17\u001b[0m \u001b[32m━━━━━━━━━━━━━━━━━━━━\u001b[0m\u001b[37m\u001b[0m \u001b[1m0s\u001b[0m 7ms/step - loss: 0.0518 - mean_absolute_error: 0.1848 - val_loss: 0.0383 - val_mean_absolute_error: 0.1620\n",
      "Epoch 22/100\n",
      "\u001b[1m17/17\u001b[0m \u001b[32m━━━━━━━━━━━━━━━━━━━━\u001b[0m\u001b[37m\u001b[0m \u001b[1m0s\u001b[0m 8ms/step - loss: 0.0549 - mean_absolute_error: 0.1901 - val_loss: 0.0385 - val_mean_absolute_error: 0.1627\n",
      "Epoch 23/100\n",
      "\u001b[1m17/17\u001b[0m \u001b[32m━━━━━━━━━━━━━━━━━━━━\u001b[0m\u001b[37m\u001b[0m \u001b[1m0s\u001b[0m 7ms/step - loss: 0.0517 - mean_absolute_error: 0.1802 - val_loss: 0.0355 - val_mean_absolute_error: 0.1529\n",
      "Epoch 24/100\n",
      "\u001b[1m17/17\u001b[0m \u001b[32m━━━━━━━━━━━━━━━━━━━━\u001b[0m\u001b[37m\u001b[0m \u001b[1m0s\u001b[0m 9ms/step - loss: 0.0518 - mean_absolute_error: 0.1847 - val_loss: 0.0354 - val_mean_absolute_error: 0.1525\n",
      "Epoch 25/100\n",
      "\u001b[1m17/17\u001b[0m \u001b[32m━━━━━━━━━━━━━━━━━━━━\u001b[0m\u001b[37m\u001b[0m \u001b[1m0s\u001b[0m 7ms/step - loss: 0.0489 - mean_absolute_error: 0.1732 - val_loss: 0.0374 - val_mean_absolute_error: 0.1578\n",
      "Epoch 26/100\n",
      "\u001b[1m17/17\u001b[0m \u001b[32m━━━━━━━━━━━━━━━━━━━━\u001b[0m\u001b[37m\u001b[0m \u001b[1m0s\u001b[0m 8ms/step - loss: 0.0442 - mean_absolute_error: 0.1643 - val_loss: 0.0366 - val_mean_absolute_error: 0.1557\n",
      "Epoch 27/100\n",
      "\u001b[1m17/17\u001b[0m \u001b[32m━━━━━━━━━━━━━━━━━━━━\u001b[0m\u001b[37m\u001b[0m \u001b[1m0s\u001b[0m 8ms/step - loss: 0.0434 - mean_absolute_error: 0.1677 - val_loss: 0.0358 - val_mean_absolute_error: 0.1529\n",
      "Epoch 28/100\n",
      "\u001b[1m17/17\u001b[0m \u001b[32m━━━━━━━━━━━━━━━━━━━━\u001b[0m\u001b[37m\u001b[0m \u001b[1m0s\u001b[0m 7ms/step - loss: 0.0446 - mean_absolute_error: 0.1722 - val_loss: 0.0373 - val_mean_absolute_error: 0.1569\n",
      "Epoch 29/100\n",
      "\u001b[1m17/17\u001b[0m \u001b[32m━━━━━━━━━━━━━━━━━━━━\u001b[0m\u001b[37m\u001b[0m \u001b[1m0s\u001b[0m 7ms/step - loss: 0.0433 - mean_absolute_error: 0.1666 - val_loss: 0.0358 - val_mean_absolute_error: 0.1520\n",
      "Epoch 30/100\n",
      "\u001b[1m17/17\u001b[0m \u001b[32m━━━━━━━━━━━━━━━━━━━━\u001b[0m\u001b[37m\u001b[0m \u001b[1m0s\u001b[0m 8ms/step - loss: 0.0483 - mean_absolute_error: 0.1773 - val_loss: 0.0346 - val_mean_absolute_error: 0.1477\n",
      "Epoch 31/100\n",
      "\u001b[1m17/17\u001b[0m \u001b[32m━━━━━━━━━━━━━━━━━━━━\u001b[0m\u001b[37m\u001b[0m \u001b[1m0s\u001b[0m 8ms/step - loss: 0.0402 - mean_absolute_error: 0.1596 - val_loss: 0.0391 - val_mean_absolute_error: 0.1596\n",
      "Epoch 32/100\n",
      "\u001b[1m17/17\u001b[0m \u001b[32m━━━━━━━━━━━━━━━━━━━━\u001b[0m\u001b[37m\u001b[0m \u001b[1m0s\u001b[0m 7ms/step - loss: 0.0385 - mean_absolute_error: 0.1552 - val_loss: 0.0366 - val_mean_absolute_error: 0.1521\n",
      "Epoch 33/100\n",
      "\u001b[1m17/17\u001b[0m \u001b[32m━━━━━━━━━━━━━━━━━━━━\u001b[0m\u001b[37m\u001b[0m \u001b[1m0s\u001b[0m 7ms/step - loss: 0.0407 - mean_absolute_error: 0.1631 - val_loss: 0.0364 - val_mean_absolute_error: 0.1508\n",
      "Epoch 34/100\n",
      "\u001b[1m17/17\u001b[0m \u001b[32m━━━━━━━━━━━━━━━━━━━━\u001b[0m\u001b[37m\u001b[0m \u001b[1m0s\u001b[0m 7ms/step - loss: 0.0409 - mean_absolute_error: 0.1610 - val_loss: 0.0382 - val_mean_absolute_error: 0.1560\n",
      "Epoch 35/100\n",
      "\u001b[1m17/17\u001b[0m \u001b[32m━━━━━━━━━━━━━━━━━━━━\u001b[0m\u001b[37m\u001b[0m \u001b[1m0s\u001b[0m 7ms/step - loss: 0.0360 - mean_absolute_error: 0.1467 - val_loss: 0.0378 - val_mean_absolute_error: 0.1544\n",
      "Epoch 36/100\n",
      "\u001b[1m17/17\u001b[0m \u001b[32m━━━━━━━━━━━━━━━━━━━━\u001b[0m\u001b[37m\u001b[0m \u001b[1m0s\u001b[0m 11ms/step - loss: 0.0378 - mean_absolute_error: 0.1520 - val_loss: 0.0373 - val_mean_absolute_error: 0.1532\n",
      "Epoch 37/100\n",
      "\u001b[1m17/17\u001b[0m \u001b[32m━━━━━━━━━━━━━━━━━━━━\u001b[0m\u001b[37m\u001b[0m \u001b[1m0s\u001b[0m 11ms/step - loss: 0.0444 - mean_absolute_error: 0.1626 - val_loss: 0.0394 - val_mean_absolute_error: 0.1585\n",
      "Epoch 38/100\n",
      "\u001b[1m17/17\u001b[0m \u001b[32m━━━━━━━━━━━━━━━━━━━━\u001b[0m\u001b[37m\u001b[0m \u001b[1m0s\u001b[0m 12ms/step - loss: 0.0391 - mean_absolute_error: 0.1580 - val_loss: 0.0373 - val_mean_absolute_error: 0.1527\n",
      "Epoch 39/100\n",
      "\u001b[1m17/17\u001b[0m \u001b[32m━━━━━━━━━━━━━━━━━━━━\u001b[0m\u001b[37m\u001b[0m \u001b[1m0s\u001b[0m 18ms/step - loss: 0.0439 - mean_absolute_error: 0.1633 - val_loss: 0.0385 - val_mean_absolute_error: 0.1558\n",
      "Epoch 40/100\n",
      "\u001b[1m17/17\u001b[0m \u001b[32m━━━━━━━━━━━━━━━━━━━━\u001b[0m\u001b[37m\u001b[0m \u001b[1m0s\u001b[0m 10ms/step - loss: 0.0381 - mean_absolute_error: 0.1545 - val_loss: 0.0416 - val_mean_absolute_error: 0.1632\n",
      "Epoch 41/100\n",
      "\u001b[1m17/17\u001b[0m \u001b[32m━━━━━━━━━━━━━━━━━━━━\u001b[0m\u001b[37m\u001b[0m \u001b[1m0s\u001b[0m 11ms/step - loss: 0.0382 - mean_absolute_error: 0.1544 - val_loss: 0.0407 - val_mean_absolute_error: 0.1617\n",
      "Epoch 42/100\n",
      "\u001b[1m17/17\u001b[0m \u001b[32m━━━━━━━━━━━━━━━━━━━━\u001b[0m\u001b[37m\u001b[0m \u001b[1m0s\u001b[0m 11ms/step - loss: 0.0371 - mean_absolute_error: 0.1511 - val_loss: 0.0358 - val_mean_absolute_error: 0.1493\n",
      "Epoch 43/100\n",
      "\u001b[1m17/17\u001b[0m \u001b[32m━━━━━━━━━━━━━━━━━━━━\u001b[0m\u001b[37m\u001b[0m \u001b[1m0s\u001b[0m 10ms/step - loss: 0.0352 - mean_absolute_error: 0.1486 - val_loss: 0.0390 - val_mean_absolute_error: 0.1574\n",
      "Epoch 44/100\n",
      "\u001b[1m17/17\u001b[0m \u001b[32m━━━━━━━━━━━━━━━━━━━━\u001b[0m\u001b[37m\u001b[0m \u001b[1m0s\u001b[0m 10ms/step - loss: 0.0371 - mean_absolute_error: 0.1517 - val_loss: 0.0392 - val_mean_absolute_error: 0.1574\n",
      "Epoch 45/100\n",
      "\u001b[1m17/17\u001b[0m \u001b[32m━━━━━━━━━━━━━━━━━━━━\u001b[0m\u001b[37m\u001b[0m \u001b[1m0s\u001b[0m 10ms/step - loss: 0.0339 - mean_absolute_error: 0.1420 - val_loss: 0.0411 - val_mean_absolute_error: 0.1616\n",
      "Epoch 46/100\n",
      "\u001b[1m17/17\u001b[0m \u001b[32m━━━━━━━━━━━━━━━━━━━━\u001b[0m\u001b[37m\u001b[0m \u001b[1m0s\u001b[0m 15ms/step - loss: 0.0348 - mean_absolute_error: 0.1476 - val_loss: 0.0411 - val_mean_absolute_error: 0.1615\n",
      "Epoch 47/100\n",
      "\u001b[1m17/17\u001b[0m \u001b[32m━━━━━━━━━━━━━━━━━━━━\u001b[0m\u001b[37m\u001b[0m \u001b[1m0s\u001b[0m 10ms/step - loss: 0.0354 - mean_absolute_error: 0.1468 - val_loss: 0.0400 - val_mean_absolute_error: 0.1586\n",
      "Epoch 48/100\n",
      "\u001b[1m17/17\u001b[0m \u001b[32m━━━━━━━━━━━━━━━━━━━━\u001b[0m\u001b[37m\u001b[0m \u001b[1m0s\u001b[0m 9ms/step - loss: 0.0300 - mean_absolute_error: 0.1409 - val_loss: 0.0398 - val_mean_absolute_error: 0.1582\n",
      "Epoch 49/100\n",
      "\u001b[1m17/17\u001b[0m \u001b[32m━━━━━━━━━━━━━━━━━━━━\u001b[0m\u001b[37m\u001b[0m \u001b[1m0s\u001b[0m 9ms/step - loss: 0.0339 - mean_absolute_error: 0.1441 - val_loss: 0.0409 - val_mean_absolute_error: 0.1605\n",
      "Epoch 50/100\n",
      "\u001b[1m17/17\u001b[0m \u001b[32m━━━━━━━━━━━━━━━━━━━━\u001b[0m\u001b[37m\u001b[0m \u001b[1m0s\u001b[0m 9ms/step - loss: 0.0337 - mean_absolute_error: 0.1483 - val_loss: 0.0417 - val_mean_absolute_error: 0.1626\n",
      "Epoch 51/100\n",
      "\u001b[1m17/17\u001b[0m \u001b[32m━━━━━━━━━━━━━━━━━━━━\u001b[0m\u001b[37m\u001b[0m \u001b[1m0s\u001b[0m 10ms/step - loss: 0.0326 - mean_absolute_error: 0.1433 - val_loss: 0.0369 - val_mean_absolute_error: 0.1506\n",
      "Epoch 52/100\n",
      "\u001b[1m17/17\u001b[0m \u001b[32m━━━━━━━━━━━━━━━━━━━━\u001b[0m\u001b[37m\u001b[0m \u001b[1m0s\u001b[0m 7ms/step - loss: 0.0363 - mean_absolute_error: 0.1524 - val_loss: 0.0423 - val_mean_absolute_error: 0.1640\n",
      "Epoch 53/100\n",
      "\u001b[1m17/17\u001b[0m \u001b[32m━━━━━━━━━━━━━━━━━━━━\u001b[0m\u001b[37m\u001b[0m \u001b[1m0s\u001b[0m 7ms/step - loss: 0.0287 - mean_absolute_error: 0.1351 - val_loss: 0.0409 - val_mean_absolute_error: 0.1605\n",
      "Epoch 54/100\n",
      "\u001b[1m17/17\u001b[0m \u001b[32m━━━━━━━━━━━━━━━━━━━━\u001b[0m\u001b[37m\u001b[0m \u001b[1m0s\u001b[0m 6ms/step - loss: 0.0315 - mean_absolute_error: 0.1374 - val_loss: 0.0388 - val_mean_absolute_error: 0.1550\n",
      "Epoch 55/100\n",
      "\u001b[1m17/17\u001b[0m \u001b[32m━━━━━━━━━━━━━━━━━━━━\u001b[0m\u001b[37m\u001b[0m \u001b[1m0s\u001b[0m 7ms/step - loss: 0.0346 - mean_absolute_error: 0.1384 - val_loss: 0.0435 - val_mean_absolute_error: 0.1668\n",
      "Epoch 56/100\n",
      "\u001b[1m17/17\u001b[0m \u001b[32m━━━━━━━━━━━━━━━━━━━━\u001b[0m\u001b[37m\u001b[0m \u001b[1m0s\u001b[0m 6ms/step - loss: 0.0268 - mean_absolute_error: 0.1282 - val_loss: 0.0386 - val_mean_absolute_error: 0.1541\n",
      "Epoch 57/100\n",
      "\u001b[1m17/17\u001b[0m \u001b[32m━━━━━━━━━━━━━━━━━━━━\u001b[0m\u001b[37m\u001b[0m \u001b[1m0s\u001b[0m 7ms/step - loss: 0.0324 - mean_absolute_error: 0.1422 - val_loss: 0.0422 - val_mean_absolute_error: 0.1628\n",
      "Epoch 58/100\n",
      "\u001b[1m17/17\u001b[0m \u001b[32m━━━━━━━━━━━━━━━━━━━━\u001b[0m\u001b[37m\u001b[0m \u001b[1m0s\u001b[0m 6ms/step - loss: 0.0284 - mean_absolute_error: 0.1317 - val_loss: 0.0419 - val_mean_absolute_error: 0.1617\n",
      "Epoch 59/100\n",
      "\u001b[1m17/17\u001b[0m \u001b[32m━━━━━━━━━━━━━━━━━━━━\u001b[0m\u001b[37m\u001b[0m \u001b[1m0s\u001b[0m 6ms/step - loss: 0.0296 - mean_absolute_error: 0.1381 - val_loss: 0.0431 - val_mean_absolute_error: 0.1641\n",
      "Epoch 60/100\n",
      "\u001b[1m17/17\u001b[0m \u001b[32m━━━━━━━━━━━━━━━━━━━━\u001b[0m\u001b[37m\u001b[0m \u001b[1m0s\u001b[0m 7ms/step - loss: 0.0283 - mean_absolute_error: 0.1321 - val_loss: 0.0403 - val_mean_absolute_error: 0.1578\n",
      "Epoch 61/100\n",
      "\u001b[1m17/17\u001b[0m \u001b[32m━━━━━━━━━━━━━━━━━━━━\u001b[0m\u001b[37m\u001b[0m \u001b[1m0s\u001b[0m 6ms/step - loss: 0.0299 - mean_absolute_error: 0.1380 - val_loss: 0.0423 - val_mean_absolute_error: 0.1627\n",
      "Epoch 62/100\n",
      "\u001b[1m17/17\u001b[0m \u001b[32m━━━━━━━━━━━━━━━━━━━━\u001b[0m\u001b[37m\u001b[0m \u001b[1m0s\u001b[0m 6ms/step - loss: 0.0282 - mean_absolute_error: 0.1332 - val_loss: 0.0443 - val_mean_absolute_error: 0.1680\n",
      "Epoch 63/100\n",
      "\u001b[1m17/17\u001b[0m \u001b[32m━━━━━━━━━━━━━━━━━━━━\u001b[0m\u001b[37m\u001b[0m \u001b[1m0s\u001b[0m 7ms/step - loss: 0.0343 - mean_absolute_error: 0.1419 - val_loss: 0.0418 - val_mean_absolute_error: 0.1616\n",
      "Epoch 64/100\n",
      "\u001b[1m17/17\u001b[0m \u001b[32m━━━━━━━━━━━━━━━━━━━━\u001b[0m\u001b[37m\u001b[0m \u001b[1m0s\u001b[0m 7ms/step - loss: 0.0265 - mean_absolute_error: 0.1281 - val_loss: 0.0441 - val_mean_absolute_error: 0.1673\n",
      "Epoch 65/100\n",
      "\u001b[1m17/17\u001b[0m \u001b[32m━━━━━━━━━━━━━━━━━━━━\u001b[0m\u001b[37m\u001b[0m \u001b[1m0s\u001b[0m 7ms/step - loss: 0.0288 - mean_absolute_error: 0.1300 - val_loss: 0.0436 - val_mean_absolute_error: 0.1663\n",
      "Epoch 66/100\n",
      "\u001b[1m17/17\u001b[0m \u001b[32m━━━━━━━━━━━━━━━━━━━━\u001b[0m\u001b[37m\u001b[0m \u001b[1m0s\u001b[0m 7ms/step - loss: 0.0281 - mean_absolute_error: 0.1302 - val_loss: 0.0420 - val_mean_absolute_error: 0.1620\n",
      "Epoch 67/100\n",
      "\u001b[1m17/17\u001b[0m \u001b[32m━━━━━━━━━━━━━━━━━━━━\u001b[0m\u001b[37m\u001b[0m \u001b[1m0s\u001b[0m 6ms/step - loss: 0.0219 - mean_absolute_error: 0.1170 - val_loss: 0.0416 - val_mean_absolute_error: 0.1616\n",
      "Epoch 68/100\n",
      "\u001b[1m17/17\u001b[0m \u001b[32m━━━━━━━━━━━━━━━━━━━━\u001b[0m\u001b[37m\u001b[0m \u001b[1m0s\u001b[0m 9ms/step - loss: 0.0321 - mean_absolute_error: 0.1402 - val_loss: 0.0420 - val_mean_absolute_error: 0.1623\n",
      "Epoch 69/100\n",
      "\u001b[1m17/17\u001b[0m \u001b[32m━━━━━━━━━━━━━━━━━━━━\u001b[0m\u001b[37m\u001b[0m \u001b[1m0s\u001b[0m 8ms/step - loss: 0.0313 - mean_absolute_error: 0.1368 - val_loss: 0.0440 - val_mean_absolute_error: 0.1676\n",
      "Epoch 70/100\n",
      "\u001b[1m17/17\u001b[0m \u001b[32m━━━━━━━━━━━━━━━━━━━━\u001b[0m\u001b[37m\u001b[0m \u001b[1m0s\u001b[0m 7ms/step - loss: 0.0326 - mean_absolute_error: 0.1380 - val_loss: 0.0440 - val_mean_absolute_error: 0.1672\n",
      "Epoch 71/100\n",
      "\u001b[1m17/17\u001b[0m \u001b[32m━━━━━━━━━━━━━━━━━━━━\u001b[0m\u001b[37m\u001b[0m \u001b[1m0s\u001b[0m 8ms/step - loss: 0.0254 - mean_absolute_error: 0.1243 - val_loss: 0.0442 - val_mean_absolute_error: 0.1680\n",
      "Epoch 72/100\n",
      "\u001b[1m17/17\u001b[0m \u001b[32m━━━━━━━━━━━━━━━━━━━━\u001b[0m\u001b[37m\u001b[0m \u001b[1m0s\u001b[0m 7ms/step - loss: 0.0260 - mean_absolute_error: 0.1243 - val_loss: 0.0429 - val_mean_absolute_error: 0.1646\n",
      "Epoch 73/100\n",
      "\u001b[1m17/17\u001b[0m \u001b[32m━━━━━━━━━━━━━━━━━━━━\u001b[0m\u001b[37m\u001b[0m \u001b[1m0s\u001b[0m 7ms/step - loss: 0.0241 - mean_absolute_error: 0.1174 - val_loss: 0.0422 - val_mean_absolute_error: 0.1625\n",
      "Epoch 74/100\n",
      "\u001b[1m17/17\u001b[0m \u001b[32m━━━━━━━━━━━━━━━━━━━━\u001b[0m\u001b[37m\u001b[0m \u001b[1m0s\u001b[0m 6ms/step - loss: 0.0254 - mean_absolute_error: 0.1250 - val_loss: 0.0444 - val_mean_absolute_error: 0.1679\n",
      "Epoch 75/100\n",
      "\u001b[1m17/17\u001b[0m \u001b[32m━━━━━━━━━━━━━━━━━━━━\u001b[0m\u001b[37m\u001b[0m \u001b[1m0s\u001b[0m 7ms/step - loss: 0.0248 - mean_absolute_error: 0.1194 - val_loss: 0.0417 - val_mean_absolute_error: 0.1613\n",
      "Epoch 76/100\n",
      "\u001b[1m17/17\u001b[0m \u001b[32m━━━━━━━━━━━━━━━━━━━━\u001b[0m\u001b[37m\u001b[0m \u001b[1m0s\u001b[0m 6ms/step - loss: 0.0271 - mean_absolute_error: 0.1265 - val_loss: 0.0430 - val_mean_absolute_error: 0.1650\n",
      "Epoch 77/100\n",
      "\u001b[1m17/17\u001b[0m \u001b[32m━━━━━━━━━━━━━━━━━━━━\u001b[0m\u001b[37m\u001b[0m \u001b[1m0s\u001b[0m 6ms/step - loss: 0.0255 - mean_absolute_error: 0.1266 - val_loss: 0.0417 - val_mean_absolute_error: 0.1619\n",
      "Epoch 78/100\n",
      "\u001b[1m17/17\u001b[0m \u001b[32m━━━━━━━━━━━━━━━━━━━━\u001b[0m\u001b[37m\u001b[0m \u001b[1m0s\u001b[0m 8ms/step - loss: 0.0250 - mean_absolute_error: 0.1249 - val_loss: 0.0441 - val_mean_absolute_error: 0.1681\n",
      "Epoch 79/100\n",
      "\u001b[1m17/17\u001b[0m \u001b[32m━━━━━━━━━━━━━━━━━━━━\u001b[0m\u001b[37m\u001b[0m \u001b[1m0s\u001b[0m 8ms/step - loss: 0.0286 - mean_absolute_error: 0.1301 - val_loss: 0.0428 - val_mean_absolute_error: 0.1648\n",
      "Epoch 80/100\n",
      "\u001b[1m17/17\u001b[0m \u001b[32m━━━━━━━━━━━━━━━━━━━━\u001b[0m\u001b[37m\u001b[0m \u001b[1m0s\u001b[0m 7ms/step - loss: 0.0241 - mean_absolute_error: 0.1201 - val_loss: 0.0432 - val_mean_absolute_error: 0.1659\n",
      "Epoch 81/100\n",
      "\u001b[1m17/17\u001b[0m \u001b[32m━━━━━━━━━━━━━━━━━━━━\u001b[0m\u001b[37m\u001b[0m \u001b[1m0s\u001b[0m 6ms/step - loss: 0.0269 - mean_absolute_error: 0.1244 - val_loss: 0.0418 - val_mean_absolute_error: 0.1623\n",
      "Epoch 82/100\n",
      "\u001b[1m17/17\u001b[0m \u001b[32m━━━━━━━━━━━━━━━━━━━━\u001b[0m\u001b[37m\u001b[0m \u001b[1m0s\u001b[0m 8ms/step - loss: 0.0246 - mean_absolute_error: 0.1180 - val_loss: 0.0444 - val_mean_absolute_error: 0.1687\n",
      "Epoch 83/100\n",
      "\u001b[1m17/17\u001b[0m \u001b[32m━━━━━━━━━━━━━━━━━━━━\u001b[0m\u001b[37m\u001b[0m \u001b[1m0s\u001b[0m 12ms/step - loss: 0.0302 - mean_absolute_error: 0.1318 - val_loss: 0.0428 - val_mean_absolute_error: 0.1641\n",
      "Epoch 84/100\n",
      "\u001b[1m17/17\u001b[0m \u001b[32m━━━━━━━━━━━━━━━━━━━━\u001b[0m\u001b[37m\u001b[0m \u001b[1m0s\u001b[0m 9ms/step - loss: 0.0256 - mean_absolute_error: 0.1190 - val_loss: 0.0433 - val_mean_absolute_error: 0.1653\n",
      "Epoch 85/100\n",
      "\u001b[1m17/17\u001b[0m \u001b[32m━━━━━━━━━━━━━━━━━━━━\u001b[0m\u001b[37m\u001b[0m \u001b[1m0s\u001b[0m 7ms/step - loss: 0.0252 - mean_absolute_error: 0.1215 - val_loss: 0.0424 - val_mean_absolute_error: 0.1632\n",
      "Epoch 86/100\n",
      "\u001b[1m17/17\u001b[0m \u001b[32m━━━━━━━━━━━━━━━━━━━━\u001b[0m\u001b[37m\u001b[0m \u001b[1m0s\u001b[0m 7ms/step - loss: 0.0239 - mean_absolute_error: 0.1194 - val_loss: 0.0448 - val_mean_absolute_error: 0.1692\n",
      "Epoch 87/100\n",
      "\u001b[1m17/17\u001b[0m \u001b[32m━━━━━━━━━━━━━━━━━━━━\u001b[0m\u001b[37m\u001b[0m \u001b[1m0s\u001b[0m 7ms/step - loss: 0.0223 - mean_absolute_error: 0.1123 - val_loss: 0.0437 - val_mean_absolute_error: 0.1660\n",
      "Epoch 88/100\n",
      "\u001b[1m17/17\u001b[0m \u001b[32m━━━━━━━━━━━━━━━━━━━━\u001b[0m\u001b[37m\u001b[0m \u001b[1m0s\u001b[0m 7ms/step - loss: 0.0221 - mean_absolute_error: 0.1163 - val_loss: 0.0433 - val_mean_absolute_error: 0.1653\n",
      "Epoch 89/100\n",
      "\u001b[1m17/17\u001b[0m \u001b[32m━━━━━━━━━━━━━━━━━━━━\u001b[0m\u001b[37m\u001b[0m \u001b[1m0s\u001b[0m 8ms/step - loss: 0.0258 - mean_absolute_error: 0.1267 - val_loss: 0.0437 - val_mean_absolute_error: 0.1665\n",
      "Epoch 90/100\n",
      "\u001b[1m17/17\u001b[0m \u001b[32m━━━━━━━━━━━━━━━━━━━━\u001b[0m\u001b[37m\u001b[0m \u001b[1m0s\u001b[0m 7ms/step - loss: 0.0250 - mean_absolute_error: 0.1219 - val_loss: 0.0439 - val_mean_absolute_error: 0.1676\n",
      "Epoch 91/100\n",
      "\u001b[1m17/17\u001b[0m \u001b[32m━━━━━━━━━━━━━━━━━━━━\u001b[0m\u001b[37m\u001b[0m \u001b[1m0s\u001b[0m 8ms/step - loss: 0.0247 - mean_absolute_error: 0.1227 - val_loss: 0.0433 - val_mean_absolute_error: 0.1658\n",
      "Epoch 92/100\n",
      "\u001b[1m17/17\u001b[0m \u001b[32m━━━━━━━━━━━━━━━━━━━━\u001b[0m\u001b[37m\u001b[0m \u001b[1m0s\u001b[0m 8ms/step - loss: 0.0232 - mean_absolute_error: 0.1224 - val_loss: 0.0427 - val_mean_absolute_error: 0.1638\n",
      "Epoch 93/100\n",
      "\u001b[1m17/17\u001b[0m \u001b[32m━━━━━━━━━━━━━━━━━━━━\u001b[0m\u001b[37m\u001b[0m \u001b[1m0s\u001b[0m 8ms/step - loss: 0.0229 - mean_absolute_error: 0.1168 - val_loss: 0.0450 - val_mean_absolute_error: 0.1698\n",
      "Epoch 94/100\n",
      "\u001b[1m17/17\u001b[0m \u001b[32m━━━━━━━━━━━━━━━━━━━━\u001b[0m\u001b[37m\u001b[0m \u001b[1m0s\u001b[0m 7ms/step - loss: 0.0232 - mean_absolute_error: 0.1179 - val_loss: 0.0428 - val_mean_absolute_error: 0.1639\n",
      "Epoch 95/100\n",
      "\u001b[1m17/17\u001b[0m \u001b[32m━━━━━━━━━━━━━━━━━━━━\u001b[0m\u001b[37m\u001b[0m \u001b[1m0s\u001b[0m 6ms/step - loss: 0.0270 - mean_absolute_error: 0.1286 - val_loss: 0.0432 - val_mean_absolute_error: 0.1655\n",
      "Epoch 96/100\n",
      "\u001b[1m17/17\u001b[0m \u001b[32m━━━━━━━━━━━━━━━━━━━━\u001b[0m\u001b[37m\u001b[0m \u001b[1m0s\u001b[0m 6ms/step - loss: 0.0241 - mean_absolute_error: 0.1217 - val_loss: 0.0444 - val_mean_absolute_error: 0.1685\n",
      "Epoch 97/100\n",
      "\u001b[1m17/17\u001b[0m \u001b[32m━━━━━━━━━━━━━━━━━━━━\u001b[0m\u001b[37m\u001b[0m \u001b[1m0s\u001b[0m 7ms/step - loss: 0.0223 - mean_absolute_error: 0.1158 - val_loss: 0.0436 - val_mean_absolute_error: 0.1669\n",
      "Epoch 98/100\n",
      "\u001b[1m17/17\u001b[0m \u001b[32m━━━━━━━━━━━━━━━━━━━━\u001b[0m\u001b[37m\u001b[0m \u001b[1m0s\u001b[0m 6ms/step - loss: 0.0285 - mean_absolute_error: 0.1310 - val_loss: 0.0438 - val_mean_absolute_error: 0.1674\n",
      "Epoch 99/100\n",
      "\u001b[1m17/17\u001b[0m \u001b[32m━━━━━━━━━━━━━━━━━━━━\u001b[0m\u001b[37m\u001b[0m \u001b[1m0s\u001b[0m 7ms/step - loss: 0.0241 - mean_absolute_error: 0.1181 - val_loss: 0.0455 - val_mean_absolute_error: 0.1719\n",
      "Epoch 100/100\n",
      "\u001b[1m17/17\u001b[0m \u001b[32m━━━━━━━━━━━━━━━━━━━━\u001b[0m\u001b[37m\u001b[0m \u001b[1m0s\u001b[0m 7ms/step - loss: 0.0234 - mean_absolute_error: 0.1139 - val_loss: 0.0432 - val_mean_absolute_error: 0.1663\n"
     ]
    }
   ],
   "source": [
    "history = model.fit(\n",
    "    [np.array(X_train['transcriptomics'].tolist()),\n",
    "     np.array(X_train['proteomics'].tolist()),\n",
    "     np.array(X_train['fingerprint'].tolist())\n",
    "    ], \n",
    "    y_train, \n",
    "    epochs=100, \n",
    "    batch_size=32, \n",
    "    validation_data=(\n",
    "        [\n",
    "            np.array(X_val['transcriptomics'].tolist()), \n",
    "            np.array(X_val['proteomics'].tolist()), \n",
    "            np.array(X_val['fingerprint'].tolist())\n",
    "        ], \n",
    "        y_val)\n",
    ")"
   ]
  },
  {
   "cell_type": "markdown",
   "id": "19f8b367",
   "metadata": {},
   "source": [
    "## Evaluate your Model\n",
    "Here we use the test data to evaluate our model"
   ]
  },
  {
   "cell_type": "code",
   "execution_count": 49,
   "id": "176bd1e0",
   "metadata": {},
   "outputs": [],
   "source": [
    "# Pad or truncate arrays to ensure consistency\n",
    "def pad_sequence(seq, target_length, pad_value=0):\n",
    "    \"\"\"Pad or truncate a sequence to a target length.\"\"\"\n",
    "    if len(seq) > target_length:  # Truncate if longer than target_length\n",
    "        return seq[:target_length]\n",
    "    elif len(seq) < target_length:  # Pad with zeros if shorter than target_length\n",
    "        return seq + [pad_value] * (target_length - len(seq))\n",
    "    else:\n",
    "        return seq\n",
    "\n",
    "# Example: Create fixed-length arrays\n",
    "X_test['transcriptomics'] = X_test['transcriptomics'].apply(lambda x: pad_sequence(x, target_length=7284))\n",
    "X_test['proteomics'] = X_test['proteomics'].apply(lambda x: pad_sequence(x, target_length=7284))\n",
    "X_test['fingerprint'] = X_test['fingerprint'].apply(lambda x: pad_sequence(x, target_length=1024))\n"
   ]
  },
  {
   "cell_type": "code",
   "execution_count": 50,
   "id": "71a40045",
   "metadata": {},
   "outputs": [
    {
     "name": "stdout",
     "output_type": "stream",
     "text": [
      "\u001b[1m3/3\u001b[0m \u001b[32m━━━━━━━━━━━━━━━━━━━━\u001b[0m\u001b[37m\u001b[0m \u001b[1m0s\u001b[0m 10ms/step - loss: 0.0350 - mean_absolute_error: 0.1573\n",
      "{'loss': 0.037629857659339905, 'mean_absolute_error': 0.1624205857515335}\n"
     ]
    }
   ],
   "source": [
    "losses = model.evaluate(\n",
    "    [np.array(X_test['transcriptomics'].tolist()),\n",
    "     np.array(X_test['proteomics'].tolist()),\n",
    "     np.array(X_test['fingerprint'].tolist())\n",
    "    ], \n",
    "    y_test, \n",
    "    return_dict=True) \n",
    "print(losses)"
   ]
  },
  {
   "cell_type": "markdown",
   "id": "da968f92",
   "metadata": {},
   "source": [
    "#### Plot Loss Function and Error of the Model\n",
    "These show how your model (hopefully) improve during training"
   ]
  },
  {
   "cell_type": "code",
   "execution_count": 51,
   "id": "7bb78cd5",
   "metadata": {},
   "outputs": [
    {
     "data": {
      "image/png": "[encoded data removed]",
      "text/plain": [
       "<Figure size 640x480 with 1 Axes>"
      ]
     },
     "metadata": {},
     "output_type": "display_data"
    },
    {
     "data": {
      "image/png": "[encoded data removed]",
      "text/plain": [
       "<Figure size 640x480 with 1 Axes>"
      ]
     },
     "metadata": {},
     "output_type": "display_data"
    }
   ],
   "source": [
    "# summarize history for accuracy\n",
    "plt.plot(history.history['val_mean_absolute_error'])\n",
    "plt.plot(history.history['mean_absolute_error'])\n",
    "plt.title('Mean Absolute Error of Deep Learning Model')\n",
    "plt.ylabel('Mean Absolute Error')\n",
    "plt.xlabel('epoch')\n",
    "plt.legend(['Validation Set','Training Set',], loc='upper right')\n",
    "plt.show()\n",
    "# summarize history for loss\n",
    "plt.plot(history.history['val_loss'])\n",
    "plt.plot(history.history['loss'])\n",
    "plt.title('Loss Function of Deep Learning Model')\n",
    "plt.ylabel('Loss')\n",
    "plt.xlabel('epoch')\n",
    "plt.legend(['Validation Set','Training Set'], loc='upper right')\n",
    "plt.show()"
   ]
  },
  {
   "cell_type": "markdown",
   "id": "5b02a45a",
   "metadata": {},
   "source": [
    "#### Predict Results using Your Model\n",
    "Here we use our test data again, but you'd likely want to apply this to other data. The inputs (and their format) must match the model that you trained above.\n",
    "\n",
    "Below we provide some plots and summary statistics for evaluating true vs predicated values.\n",
    "Try to create a model better than ours!"
   ]
  },
  {
   "cell_type": "code",
   "execution_count": 52,
   "id": "989b63df",
   "metadata": {},
   "outputs": [
    {
     "name": "stdout",
     "output_type": "stream",
     "text": [
      "\u001b[1m3/3\u001b[0m \u001b[32m━━━━━━━━━━━━━━━━━━━━\u001b[0m\u001b[37m\u001b[0m \u001b[1m0s\u001b[0m 40ms/step\n"
     ]
    }
   ],
   "source": [
    "# make a prediction\n",
    "predict = model.predict([np.array(X_test['transcriptomics'].tolist()),\n",
    "     np.array(X_test['proteomics'].tolist()),\n",
    "     np.array(X_test['fingerprint'].tolist())\n",
    "    ])"
   ]
  },
  {
   "cell_type": "code",
   "execution_count": 53,
   "id": "599c6713",
   "metadata": {},
   "outputs": [
    {
     "data": {
      "application/vnd.microsoft.datawrangler.viewer.v0+json": {
       "columns": [
        {
         "name": "index",
         "rawType": "int64",
         "type": "integer"
        },
        {
         "name": "Predicted Values",
         "rawType": "float64",
         "type": "float"
        },
        {
         "name": "True Values",
         "rawType": "float64",
         "type": "float"
        }
       ],
       "ref": "311bdaf0-a523-4c90-87ff-8924df794ced",
       "rows": [
        [
         "445",
         "0.48290133476257324",
         "0.0714"
        ],
        [
         "78",
         "0.646414577960968",
         "0.0963"
        ],
        [
         "81",
         "0.3561913073062897",
         "0.1431"
        ],
        [
         "164",
         "0.39114463329315186",
         "0.1547"
        ],
        [
         "155",
         "0.4336482882499695",
         "0.2638"
        ],
        [
         "398",
         "0.4482262134552002",
         "0.2943"
        ],
        [
         "199",
         "0.5233137011528015",
         "0.3126"
        ],
        [
         "54",
         "0.5522677302360535",
         "0.3413"
        ],
        [
         "436",
         "0.4067145884037018",
         "0.3443"
        ],
        [
         "332",
         "0.2933212220668793",
         "0.3757"
        ],
        [
         "31",
         "0.39904913306236267",
         "0.4024"
        ],
        [
         "334",
         "0.39278444647789",
         "0.4348"
        ],
        [
         "77",
         "0.5966184735298157",
         "0.4595"
        ],
        [
         "399",
         "0.4774984121322632",
         "0.5056"
        ],
        [
         "72",
         "0.5627275705337524",
         "0.5306"
        ],
        [
         "176",
         "0.4710634648799896",
         "0.5462"
        ],
        [
         "2",
         "0.582940936088562",
         "0.6045"
        ],
        [
         "76",
         "0.6585835814476013",
         "0.6241"
        ],
        [
         "90",
         "0.4791869819164276",
         "0.6399"
        ],
        [
         "588",
         "0.5539073348045349",
         "0.6442"
        ],
        [
         "55",
         "0.5972792506217957",
         "0.658"
        ],
        [
         "286",
         "0.6816526651382446",
         "0.671"
        ],
        [
         "346",
         "0.6418676376342773",
         "0.6762"
        ],
        [
         "101",
         "0.5111407041549683",
         "0.6968"
        ],
        [
         "341",
         "0.6013606786727905",
         "0.7012"
        ],
        [
         "227",
         "0.5484070181846619",
         "0.7083"
        ],
        [
         "514",
         "0.5851809978485107",
         "0.7083"
        ],
        [
         "63",
         "0.7207257747650146",
         "0.7116"
        ],
        [
         "271",
         "0.5161072611808777",
         "0.7166"
        ],
        [
         "547",
         "0.6190845370292664",
         "0.7172"
        ],
        [
         "118",
         "0.4868871569633484",
         "0.7229"
        ],
        [
         "422",
         "0.5714462995529175",
         "0.7236"
        ],
        [
         "120",
         "0.60173499584198",
         "0.7303"
        ],
        [
         "490",
         "0.627644956111908",
         "0.731"
        ],
        [
         "647",
         "0.8143019080162048",
         "0.7367"
        ],
        [
         "209",
         "0.6330790519714355",
         "0.7471"
        ],
        [
         "465",
         "0.76691734790802",
         "0.7529"
        ],
        [
         "352",
         "0.6186397671699524",
         "0.7707"
        ],
        [
         "470",
         "0.6053755283355713",
         "0.7723"
        ],
        [
         "109",
         "0.677226722240448",
         "0.7841"
        ],
        [
         "174",
         "0.5073961615562439",
         "0.7892"
        ],
        [
         "638",
         "0.49346551299095154",
         "0.794"
        ],
        [
         "182",
         "0.6814653277397156",
         "0.8145"
        ],
        [
         "633",
         "0.9029940962791443",
         "0.8219"
        ],
        [
         "163",
         "0.6681114435195923",
         "0.8282"
        ],
        [
         "511",
         "0.5894830226898193",
         "0.8357"
        ],
        [
         "473",
         "0.5530299544334412",
         "0.8525"
        ],
        [
         "618",
         "0.732080340385437",
         "0.8581"
        ],
        [
         "659",
         "0.7255871891975403",
         "0.8636"
        ],
        [
         "572",
         "0.7222214937210083",
         "0.8666"
        ]
       ],
       "shape": {
        "columns": 2,
        "rows": 67
       }
      },
      "text/html": [
       "<div>\n",
       "<style scoped>\n",
       "    .dataframe tbody tr th:only-of-type {\n",
       "        vertical-align: middle;\n",
       "    }\n",
       "\n",
       "    .dataframe tbody tr th {\n",
       "        vertical-align: top;\n",
       "    }\n",
       "\n",
       "    .dataframe thead th {\n",
       "        text-align: right;\n",
       "    }\n",
       "</style>\n",
       "<table border=\"1\" class=\"dataframe\">\n",
       "  <thead>\n",
       "    <tr style=\"text-align: right;\">\n",
       "      <th></th>\n",
       "      <th>Predicted Values</th>\n",
       "      <th>True Values</th>\n",
       "    </tr>\n",
       "  </thead>\n",
       "  <tbody>\n",
       "    <tr>\n",
       "      <th>445</th>\n",
       "      <td>0.482901</td>\n",
       "      <td>0.0714</td>\n",
       "    </tr>\n",
       "    <tr>\n",
       "      <th>78</th>\n",
       "      <td>0.646415</td>\n",
       "      <td>0.0963</td>\n",
       "    </tr>\n",
       "    <tr>\n",
       "      <th>81</th>\n",
       "      <td>0.356191</td>\n",
       "      <td>0.1431</td>\n",
       "    </tr>\n",
       "    <tr>\n",
       "      <th>164</th>\n",
       "      <td>0.391145</td>\n",
       "      <td>0.1547</td>\n",
       "    </tr>\n",
       "    <tr>\n",
       "      <th>155</th>\n",
       "      <td>0.433648</td>\n",
       "      <td>0.2638</td>\n",
       "    </tr>\n",
       "    <tr>\n",
       "      <th>...</th>\n",
       "      <td>...</td>\n",
       "      <td>...</td>\n",
       "    </tr>\n",
       "    <tr>\n",
       "      <th>655</th>\n",
       "      <td>0.929770</td>\n",
       "      <td>0.9842</td>\n",
       "    </tr>\n",
       "    <tr>\n",
       "      <th>296</th>\n",
       "      <td>0.762055</td>\n",
       "      <td>0.9842</td>\n",
       "    </tr>\n",
       "    <tr>\n",
       "      <th>357</th>\n",
       "      <td>0.818649</td>\n",
       "      <td>0.9872</td>\n",
       "    </tr>\n",
       "    <tr>\n",
       "      <th>136</th>\n",
       "      <td>0.759172</td>\n",
       "      <td>0.9972</td>\n",
       "    </tr>\n",
       "    <tr>\n",
       "      <th>277</th>\n",
       "      <td>0.566855</td>\n",
       "      <td>0.9983</td>\n",
       "    </tr>\n",
       "  </tbody>\n",
       "</table>\n",
       "<p>67 rows × 2 columns</p>\n",
       "</div>"
      ],
      "text/plain": [
       "     Predicted Values  True Values\n",
       "445          0.482901       0.0714\n",
       "78           0.646415       0.0963\n",
       "81           0.356191       0.1431\n",
       "164          0.391145       0.1547\n",
       "155          0.433648       0.2638\n",
       "..                ...          ...\n",
       "655          0.929770       0.9842\n",
       "296          0.762055       0.9842\n",
       "357          0.818649       0.9872\n",
       "136          0.759172       0.9972\n",
       "277          0.566855       0.9983\n",
       "\n",
       "[67 rows x 2 columns]"
      ]
     },
     "execution_count": 53,
     "metadata": {},
     "output_type": "execute_result"
    }
   ],
   "source": [
    "new_df = pd.DataFrame({\n",
    "    'Predicted Values': predict[\"priority\"].tolist(),\n",
    "    'True Values': y_test\n",
    "})\n",
    "new_df['Predicted Values'] = new_df['Predicted Values'].apply(lambda x: x[0] if isinstance(x, list) and len(x) == 1 else x)\n",
    "sorted_df = new_df.sort_values(by='True Values', ascending=True)  # Change 'ascending' to False for descending order\n",
    "sorted_df"
   ]
  },
  {
   "cell_type": "code",
   "execution_count": 54,
   "id": "1fa10ab3",
   "metadata": {},
   "outputs": [
    {
     "data": {
      "image/png": "[encoded data removed]",
      "text/plain": [
       "<Figure size 640x480 with 1 Axes>"
      ]
     },
     "metadata": {},
     "output_type": "display_data"
    }
   ],
   "source": [
    "true_values = np.array(sorted_df[\"True Values\"])\n",
    "predicted_values = np.array(sorted_df[\"Predicted Values\"])\n",
    "\n",
    "# Plot the true values and predicted values\n",
    "plt.plot(true_values)\n",
    "plt.plot(predicted_values)\n",
    "\n",
    "# Fit trendlines\n",
    "true_values_trendline = LinearRegression().fit(np.arange(len(true_values)).reshape(-1, 1), true_values.reshape(-1, 1)).predict(np.arange(len(true_values)).reshape(-1, 1))\n",
    "predicted_values_trendline = LinearRegression().fit(np.arange(len(predicted_values)).reshape(-1, 1), predicted_values.reshape(-1, 1)).predict(np.arange(len(predicted_values)).reshape(-1, 1))\n",
    "\n",
    "# Plot trendlines\n",
    "plt.plot(true_values_trendline, linestyle='--', color='blue', alpha=0.3)\n",
    "plt.plot(predicted_values_trendline, linestyle='--', color='orange', alpha=0.3)\n",
    "\n",
    "# Customize plot\n",
    "plt.title('Predicted AUC vs True AUC')\n",
    "plt.ylabel('Drug Response AUC')\n",
    "plt.xlabel('Values')\n",
    "plt.legend(['True Values', 'Predicted Values', 'True Values Trendline', 'Predicted Values Trendline'], loc='lower right')\n",
    "plt.show()"
   ]
  },
  {
   "cell_type": "code",
   "execution_count": 55,
   "id": "8168f39e",
   "metadata": {},
   "outputs": [
    {
     "data": {
      "image/png": "[encoded data removed]",
      "text/plain": [
       "<Figure size 640x480 with 1 Axes>"
      ]
     },
     "metadata": {},
     "output_type": "display_data"
    }
   ],
   "source": [
    "true_values = np.array(new_df[\"True Values\"])\n",
    "predicted_values = np.array(new_df[\"Predicted Values\"])\n",
    "\n",
    "# Plot the true values and predicted values\n",
    "plt.plot(true_values)\n",
    "plt.plot(predicted_values)\n",
    "\n",
    "# Fit trendlines\n",
    "true_values_trendline = LinearRegression().fit(np.arange(len(true_values)).reshape(-1, 1), true_values.reshape(-1, 1)).predict(np.arange(len(true_values)).reshape(-1, 1))\n",
    "predicted_values_trendline = LinearRegression().fit(np.arange(len(predicted_values)).reshape(-1, 1), predicted_values.reshape(-1, 1)).predict(np.arange(len(predicted_values)).reshape(-1, 1))\n",
    "\n",
    "\n",
    "# Customize plot\n",
    "plt.title('Predicted AUC vs True AUC')\n",
    "plt.ylabel('Drug Response AUC')\n",
    "plt.xlabel('Values')\n",
    "plt.legend(['True Values', 'Predicted Values', 'True Values Trendline', 'Predicted Values Trendline'], loc='lower right')\n",
    "plt.show()"
   ]
  },
  {
   "cell_type": "markdown",
   "id": "5de24908",
   "metadata": {},
   "source": [
    "#### Calculate Summary Statistics "
   ]
  },
  {
   "cell_type": "code",
   "execution_count": null,
   "id": "7086db3c",
   "metadata": {},
   "outputs": [
    {
     "name": "stdout",
     "output_type": "stream",
     "text": [
      "Mean Absolute Error (MAE): 0.162420572068798\n",
      "Root Mean Squared Error (RMSE): 0.1939841660647883\n",
      "R-squared (R2) Score: 0.33870446135832166\n",
      "\n",
      "\n",
      "       Predicted Values  True Values\n",
      "count         67.000000    67.000000\n",
      "mean           0.611181     0.695534\n",
      "std            0.130869     0.240344\n",
      "min            0.293321     0.071400\n",
      "25%            0.519710     0.614300\n",
      "50%            0.618640     0.731000\n",
      "75%            0.683152     0.876000\n",
      "max            0.929770     0.998300\n"
     ]
    }
   ],
   "source": [
    "# Calculate Mean Absolute Error (MAE)\n",
    "mae = mean_absolute_error(new_df['True Values'], new_df['Predicted Values'])\n",
    "\n",
    "# Calculate Root Mean Squared Error (RMSE)\n",
    "rmse = np.sqrt(mean_squared_error(new_df['True Values'], new_df['Predicted Values']))\n",
    "\n",
    "# Calculate R-squared (R2) score\n",
    "r2 = r2_score(new_df['True Values'], new_df['Predicted Values'])\n",
    "\n",
    "summary_statistics = new_df.describe()\n",
    "\n",
    "# Print the statistics\n",
    "print(\"Mean Absolute Error (MAE):\", mae)\n",
    "print(\"Root Mean Squared Error (RMSE):\", rmse)\n",
    "print(\"R-squared (R2) Score:\", r2)\n",
    "print(\"\\n\")\n",
    "# Print summary statistics\n",
    "print(summary_statistics)"
   ]
  },
  {
   "cell_type": "code",
   "execution_count": 57,
   "id": "b3b0c056",
   "metadata": {},
   "outputs": [
    {
     "data": {
      "application/vnd.microsoft.datawrangler.viewer.v0+json": {
       "columns": [
        {
         "name": "index",
         "rawType": "int64",
         "type": "integer"
        },
        {
         "name": "Predicted Values",
         "rawType": "float64",
         "type": "float"
        },
        {
         "name": "True Values",
         "rawType": "float64",
         "type": "float"
        }
       ],
       "ref": "2cd3481c-a603-4d25-9e30-2ee7da939c7a",
       "rows": [
        [
         "281",
         "0.7238930463790894",
         "0.9831"
        ],
        [
         "286",
         "0.6816526651382446",
         "0.671"
        ],
        [
         "473",
         "0.5530299544334412",
         "0.8525"
        ],
        [
         "227",
         "0.5484070181846619",
         "0.7083"
        ],
        [
         "436",
         "0.4067145884037018",
         "0.3443"
        ],
        [
         "360",
         "0.6799713969230652",
         "0.8894"
        ],
        [
         "647",
         "0.8143019080162048",
         "0.7367"
        ],
        [
         "465",
         "0.76691734790802",
         "0.7529"
        ],
        [
         "618",
         "0.732080340385437",
         "0.8581"
        ],
        [
         "90",
         "0.4791869819164276",
         "0.6399"
        ],
        [
         "81",
         "0.3561913073062897",
         "0.1431"
        ],
        [
         "430",
         "0.7970420122146606",
         "0.9242"
        ],
        [
         "352",
         "0.6186397671699524",
         "0.7707"
        ],
        [
         "174",
         "0.5073961615562439",
         "0.7892"
        ],
        [
         "209",
         "0.6330790519714355",
         "0.7471"
        ],
        [
         "63",
         "0.7207257747650146",
         "0.7116"
        ],
        [
         "54",
         "0.5522677302360535",
         "0.3413"
        ],
        [
         "199",
         "0.5233137011528015",
         "0.3126"
        ],
        [
         "212",
         "0.6846510171890259",
         "0.9332"
        ],
        [
         "155",
         "0.4336482882499695",
         "0.2638"
        ],
        [
         "109",
         "0.677226722240448",
         "0.7841"
        ],
        [
         "422",
         "0.5714462995529175",
         "0.7236"
        ],
        [
         "296",
         "0.7620548009872437",
         "0.9842"
        ],
        [
         "399",
         "0.4774984121322632",
         "0.5056"
        ],
        [
         "616",
         "0.6958522796630859",
         "0.8938"
        ],
        [
         "334",
         "0.39278444647789",
         "0.4348"
        ],
        [
         "514",
         "0.5851809978485107",
         "0.7083"
        ],
        [
         "244",
         "0.6613887548446655",
         "0.8876"
        ],
        [
         "341",
         "0.6013606786727905",
         "0.7012"
        ],
        [
         "76",
         "0.6585835814476013",
         "0.6241"
        ],
        [
         "588",
         "0.5539073348045349",
         "0.6442"
        ],
        [
         "547",
         "0.6190845370292664",
         "0.7172"
        ],
        [
         "655",
         "0.9297696352005005",
         "0.9842"
        ],
        [
         "135",
         "0.6400974988937378",
         "0.9365"
        ],
        [
         "136",
         "0.7591724395751953",
         "0.9972"
        ],
        [
         "101",
         "0.5111407041549683",
         "0.6968"
        ],
        [
         "72",
         "0.5627275705337524",
         "0.5306"
        ],
        [
         "626",
         "0.6431896686553955",
         "0.9129"
        ],
        [
         "10",
         "0.6394451856613159",
         "0.8854"
        ],
        [
         "651",
         "0.6348904371261597",
         "0.9522"
        ],
        [
         "572",
         "0.7222214937210083",
         "0.8666"
        ],
        [
         "511",
         "0.5894830226898193",
         "0.8357"
        ],
        [
         "31",
         "0.39904913306236267",
         "0.4024"
        ],
        [
         "176",
         "0.4710634648799896",
         "0.5462"
        ],
        [
         "346",
         "0.6418676376342773",
         "0.6762"
        ],
        [
         "445",
         "0.48290133476257324",
         "0.0714"
        ],
        [
         "601",
         "0.8536924123764038",
         "0.9353"
        ],
        [
         "118",
         "0.4868871569633484",
         "0.7229"
        ],
        [
         "55",
         "0.5972792506217957",
         "0.658"
        ],
        [
         "332",
         "0.2933212220668793",
         "0.3757"
        ]
       ],
       "shape": {
        "columns": 2,
        "rows": 50
       }
      },
      "text/html": [
       "<div>\n",
       "<style scoped>\n",
       "    .dataframe tbody tr th:only-of-type {\n",
       "        vertical-align: middle;\n",
       "    }\n",
       "\n",
       "    .dataframe tbody tr th {\n",
       "        vertical-align: top;\n",
       "    }\n",
       "\n",
       "    .dataframe thead th {\n",
       "        text-align: right;\n",
       "    }\n",
       "</style>\n",
       "<table border=\"1\" class=\"dataframe\">\n",
       "  <thead>\n",
       "    <tr style=\"text-align: right;\">\n",
       "      <th></th>\n",
       "      <th>Predicted Values</th>\n",
       "      <th>True Values</th>\n",
       "    </tr>\n",
       "  </thead>\n",
       "  <tbody>\n",
       "    <tr>\n",
       "      <th>281</th>\n",
       "      <td>0.723893</td>\n",
       "      <td>0.9831</td>\n",
       "    </tr>\n",
       "    <tr>\n",
       "      <th>286</th>\n",
       "      <td>0.681653</td>\n",
       "      <td>0.6710</td>\n",
       "    </tr>\n",
       "    <tr>\n",
       "      <th>473</th>\n",
       "      <td>0.553030</td>\n",
       "      <td>0.8525</td>\n",
       "    </tr>\n",
       "    <tr>\n",
       "      <th>227</th>\n",
       "      <td>0.548407</td>\n",
       "      <td>0.7083</td>\n",
       "    </tr>\n",
       "    <tr>\n",
       "      <th>436</th>\n",
       "      <td>0.406715</td>\n",
       "      <td>0.3443</td>\n",
       "    </tr>\n",
       "    <tr>\n",
       "      <th>360</th>\n",
       "      <td>0.679971</td>\n",
       "      <td>0.8894</td>\n",
       "    </tr>\n",
       "    <tr>\n",
       "      <th>647</th>\n",
       "      <td>0.814302</td>\n",
       "      <td>0.7367</td>\n",
       "    </tr>\n",
       "    <tr>\n",
       "      <th>465</th>\n",
       "      <td>0.766917</td>\n",
       "      <td>0.7529</td>\n",
       "    </tr>\n",
       "    <tr>\n",
       "      <th>618</th>\n",
       "      <td>0.732080</td>\n",
       "      <td>0.8581</td>\n",
       "    </tr>\n",
       "    <tr>\n",
       "      <th>90</th>\n",
       "      <td>0.479187</td>\n",
       "      <td>0.6399</td>\n",
       "    </tr>\n",
       "    <tr>\n",
       "      <th>81</th>\n",
       "      <td>0.356191</td>\n",
       "      <td>0.1431</td>\n",
       "    </tr>\n",
       "    <tr>\n",
       "      <th>430</th>\n",
       "      <td>0.797042</td>\n",
       "      <td>0.9242</td>\n",
       "    </tr>\n",
       "    <tr>\n",
       "      <th>352</th>\n",
       "      <td>0.618640</td>\n",
       "      <td>0.7707</td>\n",
       "    </tr>\n",
       "    <tr>\n",
       "      <th>174</th>\n",
       "      <td>0.507396</td>\n",
       "      <td>0.7892</td>\n",
       "    </tr>\n",
       "    <tr>\n",
       "      <th>209</th>\n",
       "      <td>0.633079</td>\n",
       "      <td>0.7471</td>\n",
       "    </tr>\n",
       "    <tr>\n",
       "      <th>63</th>\n",
       "      <td>0.720726</td>\n",
       "      <td>0.7116</td>\n",
       "    </tr>\n",
       "    <tr>\n",
       "      <th>54</th>\n",
       "      <td>0.552268</td>\n",
       "      <td>0.3413</td>\n",
       "    </tr>\n",
       "    <tr>\n",
       "      <th>199</th>\n",
       "      <td>0.523314</td>\n",
       "      <td>0.3126</td>\n",
       "    </tr>\n",
       "    <tr>\n",
       "      <th>212</th>\n",
       "      <td>0.684651</td>\n",
       "      <td>0.9332</td>\n",
       "    </tr>\n",
       "    <tr>\n",
       "      <th>155</th>\n",
       "      <td>0.433648</td>\n",
       "      <td>0.2638</td>\n",
       "    </tr>\n",
       "    <tr>\n",
       "      <th>109</th>\n",
       "      <td>0.677227</td>\n",
       "      <td>0.7841</td>\n",
       "    </tr>\n",
       "    <tr>\n",
       "      <th>422</th>\n",
       "      <td>0.571446</td>\n",
       "      <td>0.7236</td>\n",
       "    </tr>\n",
       "    <tr>\n",
       "      <th>296</th>\n",
       "      <td>0.762055</td>\n",
       "      <td>0.9842</td>\n",
       "    </tr>\n",
       "    <tr>\n",
       "      <th>399</th>\n",
       "      <td>0.477498</td>\n",
       "      <td>0.5056</td>\n",
       "    </tr>\n",
       "    <tr>\n",
       "      <th>616</th>\n",
       "      <td>0.695852</td>\n",
       "      <td>0.8938</td>\n",
       "    </tr>\n",
       "    <tr>\n",
       "      <th>334</th>\n",
       "      <td>0.392784</td>\n",
       "      <td>0.4348</td>\n",
       "    </tr>\n",
       "    <tr>\n",
       "      <th>514</th>\n",
       "      <td>0.585181</td>\n",
       "      <td>0.7083</td>\n",
       "    </tr>\n",
       "    <tr>\n",
       "      <th>244</th>\n",
       "      <td>0.661389</td>\n",
       "      <td>0.8876</td>\n",
       "    </tr>\n",
       "    <tr>\n",
       "      <th>341</th>\n",
       "      <td>0.601361</td>\n",
       "      <td>0.7012</td>\n",
       "    </tr>\n",
       "    <tr>\n",
       "      <th>76</th>\n",
       "      <td>0.658584</td>\n",
       "      <td>0.6241</td>\n",
       "    </tr>\n",
       "    <tr>\n",
       "      <th>588</th>\n",
       "      <td>0.553907</td>\n",
       "      <td>0.6442</td>\n",
       "    </tr>\n",
       "    <tr>\n",
       "      <th>547</th>\n",
       "      <td>0.619085</td>\n",
       "      <td>0.7172</td>\n",
       "    </tr>\n",
       "    <tr>\n",
       "      <th>655</th>\n",
       "      <td>0.929770</td>\n",
       "      <td>0.9842</td>\n",
       "    </tr>\n",
       "    <tr>\n",
       "      <th>135</th>\n",
       "      <td>0.640097</td>\n",
       "      <td>0.9365</td>\n",
       "    </tr>\n",
       "    <tr>\n",
       "      <th>136</th>\n",
       "      <td>0.759172</td>\n",
       "      <td>0.9972</td>\n",
       "    </tr>\n",
       "    <tr>\n",
       "      <th>101</th>\n",
       "      <td>0.511141</td>\n",
       "      <td>0.6968</td>\n",
       "    </tr>\n",
       "    <tr>\n",
       "      <th>72</th>\n",
       "      <td>0.562728</td>\n",
       "      <td>0.5306</td>\n",
       "    </tr>\n",
       "    <tr>\n",
       "      <th>626</th>\n",
       "      <td>0.643190</td>\n",
       "      <td>0.9129</td>\n",
       "    </tr>\n",
       "    <tr>\n",
       "      <th>10</th>\n",
       "      <td>0.639445</td>\n",
       "      <td>0.8854</td>\n",
       "    </tr>\n",
       "    <tr>\n",
       "      <th>651</th>\n",
       "      <td>0.634890</td>\n",
       "      <td>0.9522</td>\n",
       "    </tr>\n",
       "    <tr>\n",
       "      <th>572</th>\n",
       "      <td>0.722221</td>\n",
       "      <td>0.8666</td>\n",
       "    </tr>\n",
       "    <tr>\n",
       "      <th>511</th>\n",
       "      <td>0.589483</td>\n",
       "      <td>0.8357</td>\n",
       "    </tr>\n",
       "    <tr>\n",
       "      <th>31</th>\n",
       "      <td>0.399049</td>\n",
       "      <td>0.4024</td>\n",
       "    </tr>\n",
       "    <tr>\n",
       "      <th>176</th>\n",
       "      <td>0.471063</td>\n",
       "      <td>0.5462</td>\n",
       "    </tr>\n",
       "    <tr>\n",
       "      <th>346</th>\n",
       "      <td>0.641868</td>\n",
       "      <td>0.6762</td>\n",
       "    </tr>\n",
       "    <tr>\n",
       "      <th>445</th>\n",
       "      <td>0.482901</td>\n",
       "      <td>0.0714</td>\n",
       "    </tr>\n",
       "    <tr>\n",
       "      <th>601</th>\n",
       "      <td>0.853692</td>\n",
       "      <td>0.9353</td>\n",
       "    </tr>\n",
       "    <tr>\n",
       "      <th>118</th>\n",
       "      <td>0.486887</td>\n",
       "      <td>0.7229</td>\n",
       "    </tr>\n",
       "    <tr>\n",
       "      <th>55</th>\n",
       "      <td>0.597279</td>\n",
       "      <td>0.6580</td>\n",
       "    </tr>\n",
       "    <tr>\n",
       "      <th>332</th>\n",
       "      <td>0.293321</td>\n",
       "      <td>0.3757</td>\n",
       "    </tr>\n",
       "  </tbody>\n",
       "</table>\n",
       "</div>"
      ],
      "text/plain": [
       "     Predicted Values  True Values\n",
       "281          0.723893       0.9831\n",
       "286          0.681653       0.6710\n",
       "473          0.553030       0.8525\n",
       "227          0.548407       0.7083\n",
       "436          0.406715       0.3443\n",
       "360          0.679971       0.8894\n",
       "647          0.814302       0.7367\n",
       "465          0.766917       0.7529\n",
       "618          0.732080       0.8581\n",
       "90           0.479187       0.6399\n",
       "81           0.356191       0.1431\n",
       "430          0.797042       0.9242\n",
       "352          0.618640       0.7707\n",
       "174          0.507396       0.7892\n",
       "209          0.633079       0.7471\n",
       "63           0.720726       0.7116\n",
       "54           0.552268       0.3413\n",
       "199          0.523314       0.3126\n",
       "212          0.684651       0.9332\n",
       "155          0.433648       0.2638\n",
       "109          0.677227       0.7841\n",
       "422          0.571446       0.7236\n",
       "296          0.762055       0.9842\n",
       "399          0.477498       0.5056\n",
       "616          0.695852       0.8938\n",
       "334          0.392784       0.4348\n",
       "514          0.585181       0.7083\n",
       "244          0.661389       0.8876\n",
       "341          0.601361       0.7012\n",
       "76           0.658584       0.6241\n",
       "588          0.553907       0.6442\n",
       "547          0.619085       0.7172\n",
       "655          0.929770       0.9842\n",
       "135          0.640097       0.9365\n",
       "136          0.759172       0.9972\n",
       "101          0.511141       0.6968\n",
       "72           0.562728       0.5306\n",
       "626          0.643190       0.9129\n",
       "10           0.639445       0.8854\n",
       "651          0.634890       0.9522\n",
       "572          0.722221       0.8666\n",
       "511          0.589483       0.8357\n",
       "31           0.399049       0.4024\n",
       "176          0.471063       0.5462\n",
       "346          0.641868       0.6762\n",
       "445          0.482901       0.0714\n",
       "601          0.853692       0.9353\n",
       "118          0.486887       0.7229\n",
       "55           0.597279       0.6580\n",
       "332          0.293321       0.3757"
      ]
     },
     "execution_count": 57,
     "metadata": {},
     "output_type": "execute_result"
    }
   ],
   "source": [
    "#Side by side comparison for first 50 values.\n",
    "new_df[0:50]"
   ]
  }
 ],
 "metadata": {
  "kernelspec": {
   "display_name": "Python 3 (ipykernel)",
   "language": "python",
   "name": "python3"
  },
  "language_info": {
   "codemirror_mode": {
    "name": "ipython",
    "version": 3
   },
   "file_extension": ".py",
   "mimetype": "text/x-python",
   "name": "python",
   "nbconvert_exporter": "python",
   "pygments_lexer": "ipython3",
   "version": "3.12.0"
  }
 },
 "nbformat": 4,
 "nbformat_minor": 5
}

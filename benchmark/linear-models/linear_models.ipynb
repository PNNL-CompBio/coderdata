{
 "cells": [
  {
   "cell_type": "markdown",
   "metadata": {},
   "source": [
    "# Linear Model tests for GCSI using coderdata\n",
    "The goal is to evaluate the capability to predict drug responese AUC values of several linear models using the `coderdata` infrastructure for dataset generation."
   ]
  },
  {
   "cell_type": "markdown",
   "metadata": {},
   "source": [
    "## Imports & Dependecies"
   ]
  },
  {
   "cell_type": "code",
   "execution_count": 190,
   "metadata": {},
   "outputs": [
    {
     "name": "stdout",
     "output_type": "stream",
     "text": [
      "The autoreload extension is already loaded. To reload it, use:\n",
      "  %reload_ext autoreload\n"
     ]
    }
   ],
   "source": [
    "# iPython magic to autoreload modules everytime code is executed to propagate changes to the code\n",
    "%load_ext autoreload\n",
    "%autoreload 2"
   ]
  },
  {
   "cell_type": "code",
   "execution_count": 191,
   "metadata": {},
   "outputs": [],
   "source": [
    "from copy import deepcopy\n",
    "import logging\n",
    "import os\n",
    "from pathlib import Path\n",
    "\n",
    "import coderdata as cd\n",
    "import numpy as np\n",
    "\n",
    "from scipy.stats import pearsonr\n",
    "\n",
    "import matplotlib.pyplot as plt\n",
    "import seaborn as sns\n",
    "\n",
    "import pandas as pd\n",
    "\n",
    "import sklearn.linear_model as LM\n",
    "from sklearn import metrics\n",
    "from sklearn import svm"
   ]
  },
  {
   "cell_type": "markdown",
   "metadata": {},
   "source": [
    "The cell below sets up a \"magic\" function to skip the execution of a cell when rendering the notebook."
   ]
  },
  {
   "cell_type": "code",
   "execution_count": 192,
   "metadata": {},
   "outputs": [],
   "source": [
    "from IPython.core.magic import register_cell_magic\n",
    "@register_cell_magic\n",
    "def skip(line, cell):\n",
    "    return"
   ]
  },
  {
   "cell_type": "markdown",
   "metadata": {},
   "source": [
    "We also setup a logger for logging the progress."
   ]
  },
  {
   "cell_type": "code",
   "execution_count": 193,
   "metadata": {},
   "outputs": [],
   "source": [
    "logger = logging.getLogger('linear_models_logger')\n",
    "loglevel = logging.INFO # change to logging.DEBUG for increased verbosity\n",
    "logging.basicConfig(\n",
    "    format=\"{asctime} - {levelname} - {message}\",\n",
    "    style=\"{\",\n",
    "    datefmt=\"%Y-%m-%d %H:%M\",\n",
    "    level=loglevel\n",
    "    )"
   ]
  },
  {
   "cell_type": "markdown",
   "metadata": {},
   "source": [
    "## Data import\n",
    "We use `coderdata` to download and import drug response data as well as cancer metadata from the BeatAML study.\n",
    "\n",
    "First we generate a temporary folder (if it does not exist yet) and change into this directory."
   ]
  },
  {
   "cell_type": "code",
   "execution_count": 194,
   "metadata": {},
   "outputs": [],
   "source": [
    "local_path = Path('/tmp/coderdata_lin_mod_test')\n",
    "if not local_path.exists() or not local_path.is_dir():\n",
    "    local_path.mkdir(parents=True)\n",
    "os.chdir(local_path)"
   ]
  },
  {
   "cell_type": "markdown",
   "metadata": {},
   "source": [
    "Defining the dataset that we want to use (GCSI)"
   ]
  },
  {
   "cell_type": "code",
   "execution_count": 195,
   "metadata": {},
   "outputs": [],
   "source": [
    "dataset_name = 'gdscv2'"
   ]
  },
  {
   "cell_type": "markdown",
   "metadata": {},
   "source": [
    "Once the data for GCSI has be retrieved by the cell below and is available locally, we can uncomment the `%%skip` command such that the cell below is skipped in consecutive executions of the notebook. "
   ]
  },
  {
   "cell_type": "code",
   "execution_count": 196,
   "metadata": {},
   "outputs": [],
   "source": [
    "%%skip\n",
    "cd.download(\n",
    "    name=dataset_name,\n",
    "    local_path=local_path,\n",
    "    exist_ok=True\n",
    "    )"
   ]
  },
  {
   "cell_type": "code",
   "execution_count": 197,
   "metadata": {},
   "outputs": [
    {
     "name": "stderr",
     "output_type": "stream",
     "text": [
      "Importing raw data ...\n",
      "Importing 'transcriptomics' from /tmp/coderdata_lin_mod_test/gdscv2_transcriptomics.csv.gz ... DONE\n",
      "Importing 'mutations' from /tmp/coderdata_lin_mod_test/gdscv2_mutations.csv.gz ... DONE\n",
      "Importing 'copy_number' from /tmp/coderdata_lin_mod_test/gdscv2_copy_number.csv.gz ... DONE\n",
      "Importing 'samples' from /tmp/coderdata_lin_mod_test/gdscv2_samples.csv ... DONE\n",
      "Importing 'drugs' from /tmp/coderdata_lin_mod_test/gdscv2_drugs.tsv.gz ... DONE\n",
      "Importing 'proteomics' from /tmp/coderdata_lin_mod_test/gdscv2_proteomics.csv.gz ... DONE\n",
      "Importing 'genes' from /tmp/coderdata_lin_mod_test/genes.csv.gz ... DONE\n",
      "Importing 'experiments' from /tmp/coderdata_lin_mod_test/gdscv2_experiments.tsv.gz ... DONE\n",
      "Importing 'drug_descriptors' from /tmp/coderdata_lin_mod_test/gdscv2_drug_descriptors.tsv.gz ... DONE\n",
      "Importing raw data ... DONE\n"
     ]
    }
   ],
   "source": [
    "data = cd.load(\n",
    "    name=dataset_name,\n",
    "    local_path=local_path\n",
    "    )"
   ]
  },
  {
   "cell_type": "code",
   "execution_count": 199,
   "metadata": {},
   "outputs": [],
   "source": [
    "drug_response = data.format('experiments', shape='wide', metrics=['auc']).dropna()"
   ]
  },
  {
   "cell_type": "code",
   "execution_count": 200,
   "metadata": {},
   "outputs": [
    {
     "data": {
      "application/vnd.microsoft.datawrangler.viewer.v0+json": {
       "columns": [
        {
         "name": "improve_drug_id",
         "rawType": "object",
         "type": "string"
        },
        {
         "name": "source",
         "rawType": "int64",
         "type": "integer"
        },
        {
         "name": "improve_sample_id",
         "rawType": "int64",
         "type": "integer"
        },
        {
         "name": "study",
         "rawType": "int64",
         "type": "integer"
        },
        {
         "name": "time",
         "rawType": "int64",
         "type": "integer"
        },
        {
         "name": "time_unit",
         "rawType": "int64",
         "type": "integer"
        },
        {
         "name": "auc",
         "rawType": "int64",
         "type": "integer"
        }
       ],
       "conversionMethod": "pd.DataFrame",
       "ref": "42295e09-0e67-43e8-aa7f-7d974df73e51",
       "rows": [
        [
         "SMI_10143",
         "727",
         "727",
         "727",
         "727",
         "727",
         "727"
        ],
        [
         "SMI_10333",
         "749",
         "749",
         "749",
         "749",
         "749",
         "749"
        ],
        [
         "SMI_10376",
         "798",
         "798",
         "798",
         "798",
         "798",
         "798"
        ],
        [
         "SMI_10484",
         "749",
         "749",
         "749",
         "749",
         "749",
         "749"
        ],
        [
         "SMI_11007",
         "727",
         "727",
         "727",
         "727",
         "727",
         "727"
        ],
        [
         "SMI_11391",
         "801",
         "801",
         "801",
         "801",
         "801",
         "801"
        ],
        [
         "SMI_11483",
         "747",
         "747",
         "747",
         "747",
         "747",
         "747"
        ],
        [
         "SMI_11502",
         "763",
         "763",
         "763",
         "763",
         "763",
         "763"
        ],
        [
         "SMI_11831",
         "761",
         "761",
         "761",
         "761",
         "761",
         "761"
        ],
        [
         "SMI_12578",
         "264",
         "264",
         "264",
         "264",
         "264",
         "264"
        ],
        [
         "SMI_12635",
         "798",
         "798",
         "798",
         "798",
         "798",
         "798"
        ],
        [
         "SMI_129",
         "749",
         "749",
         "749",
         "749",
         "749",
         "749"
        ],
        [
         "SMI_12996",
         "749",
         "749",
         "749",
         "749",
         "749",
         "749"
        ],
        [
         "SMI_13200",
         "727",
         "727",
         "727",
         "727",
         "727",
         "727"
        ],
        [
         "SMI_14781",
         "749",
         "749",
         "749",
         "749",
         "749",
         "749"
        ],
        [
         "SMI_14902",
         "727",
         "727",
         "727",
         "727",
         "727",
         "727"
        ],
        [
         "SMI_154",
         "801",
         "801",
         "801",
         "801",
         "801",
         "801"
        ],
        [
         "SMI_15734",
         "727",
         "727",
         "727",
         "727",
         "727",
         "727"
        ],
        [
         "SMI_16069",
         "727",
         "727",
         "727",
         "727",
         "727",
         "727"
        ],
        [
         "SMI_16194",
         "749",
         "749",
         "749",
         "749",
         "749",
         "749"
        ],
        [
         "SMI_1635",
         "758",
         "758",
         "758",
         "758",
         "758",
         "758"
        ],
        [
         "SMI_16988",
         "749",
         "749",
         "749",
         "749",
         "749",
         "749"
        ],
        [
         "SMI_17074",
         "798",
         "798",
         "798",
         "798",
         "798",
         "798"
        ],
        [
         "SMI_1731",
         "727",
         "727",
         "727",
         "727",
         "727",
         "727"
        ],
        [
         "SMI_17341",
         "727",
         "727",
         "727",
         "727",
         "727",
         "727"
        ],
        [
         "SMI_17608",
         "749",
         "749",
         "749",
         "749",
         "749",
         "749"
        ],
        [
         "SMI_18055",
         "755",
         "755",
         "755",
         "755",
         "755",
         "755"
        ],
        [
         "SMI_18136",
         "95",
         "95",
         "95",
         "95",
         "95",
         "95"
        ],
        [
         "SMI_1821",
         "743",
         "743",
         "743",
         "743",
         "743",
         "743"
        ],
        [
         "SMI_18301",
         "753",
         "753",
         "753",
         "753",
         "753",
         "753"
        ],
        [
         "SMI_18303",
         "798",
         "798",
         "798",
         "798",
         "798",
         "798"
        ],
        [
         "SMI_18541",
         "749",
         "749",
         "749",
         "749",
         "749",
         "749"
        ],
        [
         "SMI_18905",
         "749",
         "749",
         "749",
         "749",
         "749",
         "749"
        ],
        [
         "SMI_19509",
         "727",
         "727",
         "727",
         "727",
         "727",
         "727"
        ],
        [
         "SMI_20210",
         "727",
         "727",
         "727",
         "727",
         "727",
         "727"
        ],
        [
         "SMI_2034",
         "804",
         "804",
         "804",
         "804",
         "804",
         "804"
        ],
        [
         "SMI_20869",
         "754",
         "754",
         "754",
         "754",
         "754",
         "754"
        ],
        [
         "SMI_23046",
         "727",
         "727",
         "727",
         "727",
         "727",
         "727"
        ],
        [
         "SMI_23414",
         "727",
         "727",
         "727",
         "727",
         "727",
         "727"
        ],
        [
         "SMI_23975",
         "727",
         "727",
         "727",
         "727",
         "727",
         "727"
        ],
        [
         "SMI_24140",
         "727",
         "727",
         "727",
         "727",
         "727",
         "727"
        ],
        [
         "SMI_24625",
         "800",
         "800",
         "800",
         "800",
         "800",
         "800"
        ],
        [
         "SMI_24635",
         "754",
         "754",
         "754",
         "754",
         "754",
         "754"
        ],
        [
         "SMI_24824",
         "749",
         "749",
         "749",
         "749",
         "749",
         "749"
        ],
        [
         "SMI_25218",
         "749",
         "749",
         "749",
         "749",
         "749",
         "749"
        ],
        [
         "SMI_25369",
         "798",
         "798",
         "798",
         "798",
         "798",
         "798"
        ],
        [
         "SMI_25616",
         "755",
         "755",
         "755",
         "755",
         "755",
         "755"
        ],
        [
         "SMI_25708",
         "803",
         "803",
         "803",
         "803",
         "803",
         "803"
        ],
        [
         "SMI_25958",
         "727",
         "727",
         "727",
         "727",
         "727",
         "727"
        ],
        [
         "SMI_26281",
         "804",
         "804",
         "804",
         "804",
         "804",
         "804"
        ]
       ],
       "shape": {
        "columns": 6,
        "rows": 169
       }
      },
      "text/html": [
       "<div>\n",
       "<style scoped>\n",
       "    .dataframe tbody tr th:only-of-type {\n",
       "        vertical-align: middle;\n",
       "    }\n",
       "\n",
       "    .dataframe tbody tr th {\n",
       "        vertical-align: top;\n",
       "    }\n",
       "\n",
       "    .dataframe thead th {\n",
       "        text-align: right;\n",
       "    }\n",
       "</style>\n",
       "<table border=\"1\" class=\"dataframe\">\n",
       "  <thead>\n",
       "    <tr style=\"text-align: right;\">\n",
       "      <th></th>\n",
       "      <th>source</th>\n",
       "      <th>improve_sample_id</th>\n",
       "      <th>study</th>\n",
       "      <th>time</th>\n",
       "      <th>time_unit</th>\n",
       "      <th>auc</th>\n",
       "    </tr>\n",
       "    <tr>\n",
       "      <th>improve_drug_id</th>\n",
       "      <th></th>\n",
       "      <th></th>\n",
       "      <th></th>\n",
       "      <th></th>\n",
       "      <th></th>\n",
       "      <th></th>\n",
       "    </tr>\n",
       "  </thead>\n",
       "  <tbody>\n",
       "    <tr>\n",
       "      <th>SMI_10143</th>\n",
       "      <td>727</td>\n",
       "      <td>727</td>\n",
       "      <td>727</td>\n",
       "      <td>727</td>\n",
       "      <td>727</td>\n",
       "      <td>727</td>\n",
       "    </tr>\n",
       "    <tr>\n",
       "      <th>SMI_10333</th>\n",
       "      <td>749</td>\n",
       "      <td>749</td>\n",
       "      <td>749</td>\n",
       "      <td>749</td>\n",
       "      <td>749</td>\n",
       "      <td>749</td>\n",
       "    </tr>\n",
       "    <tr>\n",
       "      <th>SMI_10376</th>\n",
       "      <td>798</td>\n",
       "      <td>798</td>\n",
       "      <td>798</td>\n",
       "      <td>798</td>\n",
       "      <td>798</td>\n",
       "      <td>798</td>\n",
       "    </tr>\n",
       "    <tr>\n",
       "      <th>SMI_10484</th>\n",
       "      <td>749</td>\n",
       "      <td>749</td>\n",
       "      <td>749</td>\n",
       "      <td>749</td>\n",
       "      <td>749</td>\n",
       "      <td>749</td>\n",
       "    </tr>\n",
       "    <tr>\n",
       "      <th>SMI_11007</th>\n",
       "      <td>727</td>\n",
       "      <td>727</td>\n",
       "      <td>727</td>\n",
       "      <td>727</td>\n",
       "      <td>727</td>\n",
       "      <td>727</td>\n",
       "    </tr>\n",
       "    <tr>\n",
       "      <th>...</th>\n",
       "      <td>...</td>\n",
       "      <td>...</td>\n",
       "      <td>...</td>\n",
       "      <td>...</td>\n",
       "      <td>...</td>\n",
       "      <td>...</td>\n",
       "    </tr>\n",
       "    <tr>\n",
       "      <th>SMI_8051</th>\n",
       "      <td>749</td>\n",
       "      <td>749</td>\n",
       "      <td>749</td>\n",
       "      <td>749</td>\n",
       "      <td>749</td>\n",
       "      <td>749</td>\n",
       "    </tr>\n",
       "    <tr>\n",
       "      <th>SMI_8098</th>\n",
       "      <td>727</td>\n",
       "      <td>727</td>\n",
       "      <td>727</td>\n",
       "      <td>727</td>\n",
       "      <td>727</td>\n",
       "      <td>727</td>\n",
       "    </tr>\n",
       "    <tr>\n",
       "      <th>SMI_8294</th>\n",
       "      <td>49</td>\n",
       "      <td>49</td>\n",
       "      <td>49</td>\n",
       "      <td>49</td>\n",
       "      <td>49</td>\n",
       "      <td>49</td>\n",
       "    </tr>\n",
       "    <tr>\n",
       "      <th>SMI_8312</th>\n",
       "      <td>727</td>\n",
       "      <td>727</td>\n",
       "      <td>727</td>\n",
       "      <td>727</td>\n",
       "      <td>727</td>\n",
       "      <td>727</td>\n",
       "    </tr>\n",
       "    <tr>\n",
       "      <th>SMI_8489</th>\n",
       "      <td>750</td>\n",
       "      <td>750</td>\n",
       "      <td>750</td>\n",
       "      <td>750</td>\n",
       "      <td>750</td>\n",
       "      <td>750</td>\n",
       "    </tr>\n",
       "  </tbody>\n",
       "</table>\n",
       "<p>169 rows × 6 columns</p>\n",
       "</div>"
      ],
      "text/plain": [
       "                 source  improve_sample_id  study  time  time_unit  auc\n",
       "improve_drug_id                                                        \n",
       "SMI_10143           727                727    727   727        727  727\n",
       "SMI_10333           749                749    749   749        749  749\n",
       "SMI_10376           798                798    798   798        798  798\n",
       "SMI_10484           749                749    749   749        749  749\n",
       "SMI_11007           727                727    727   727        727  727\n",
       "...                 ...                ...    ...   ...        ...  ...\n",
       "SMI_8051            749                749    749   749        749  749\n",
       "SMI_8098            727                727    727   727        727  727\n",
       "SMI_8294             49                 49     49    49         49   49\n",
       "SMI_8312            727                727    727   727        727  727\n",
       "SMI_8489            750                750    750   750        750  750\n",
       "\n",
       "[169 rows x 6 columns]"
      ]
     },
     "execution_count": 200,
     "metadata": {},
     "output_type": "execute_result"
    }
   ],
   "source": [
    "drug_response.groupby(\"improve_drug_id\").count()"
   ]
  },
  {
   "cell_type": "code",
   "execution_count": 201,
   "metadata": {},
   "outputs": [],
   "source": [
    "drug_counts = drug_response.groupby(\"improve_drug_id\").count()\n",
    "select_drugs = drug_counts[drug_counts['improve_sample_id']>=750].reset_index()\n",
    "data_for_plot = drug_response[drug_response['improve_drug_id'].isin(select_drugs['improve_drug_id'])]\n",
    "# data_for_plot = drug_response[drug_response['improve_drug_id'].isin(['SMI_46210'])]"
   ]
  },
  {
   "cell_type": "code",
   "execution_count": 202,
   "metadata": {},
   "outputs": [
    {
     "data": {
      "application/vnd.microsoft.datawrangler.viewer.v0+json": {
       "columns": [
        {
         "name": "index",
         "rawType": "int64",
         "type": "integer"
        },
        {
         "name": "source",
         "rawType": "object",
         "type": "string"
        },
        {
         "name": "improve_sample_id",
         "rawType": "float64",
         "type": "float"
        },
        {
         "name": "improve_drug_id",
         "rawType": "object",
         "type": "string"
        },
        {
         "name": "study",
         "rawType": "object",
         "type": "string"
        },
        {
         "name": "time",
         "rawType": "int64",
         "type": "integer"
        },
        {
         "name": "time_unit",
         "rawType": "object",
         "type": "string"
        },
        {
         "name": "auc",
         "rawType": "float64",
         "type": "float"
        }
       ],
       "conversionMethod": "pd.DataFrame",
       "ref": "600fdd2d-926a-4844-8858-2c220a09def5",
       "rows": [
        [
         "2",
         "pharmacoGX",
         "11.0",
         "SMI_10376",
         "GDSCv2",
         "72",
         "hours",
         "0.9713"
        ],
        [
         "5",
         "pharmacoGX",
         "11.0",
         "SMI_11391",
         "GDSCv2",
         "72",
         "hours",
         "0.982"
        ],
        [
         "6",
         "pharmacoGX",
         "11.0",
         "SMI_11502",
         "GDSCv2",
         "72",
         "hours",
         "0.9511"
        ],
        [
         "7",
         "pharmacoGX",
         "11.0",
         "SMI_11831",
         "GDSCv2",
         "72",
         "hours",
         "0.7694"
        ],
        [
         "9",
         "pharmacoGX",
         "11.0",
         "SMI_12635",
         "GDSCv2",
         "72",
         "hours",
         "0.9711"
        ],
        [
         "15",
         "pharmacoGX",
         "11.0",
         "SMI_154",
         "GDSCv2",
         "72",
         "hours",
         "0.9164"
        ],
        [
         "20",
         "pharmacoGX",
         "11.0",
         "SMI_17074",
         "GDSCv2",
         "72",
         "hours",
         "0.814"
        ],
        [
         "24",
         "pharmacoGX",
         "11.0",
         "SMI_18055",
         "GDSCv2",
         "72",
         "hours",
         "0.9315"
        ],
        [
         "25",
         "pharmacoGX",
         "11.0",
         "SMI_18301",
         "GDSCv2",
         "72",
         "hours",
         "0.9188"
        ],
        [
         "26",
         "pharmacoGX",
         "11.0",
         "SMI_18303",
         "GDSCv2",
         "72",
         "hours",
         "0.9559"
        ],
        [
         "30",
         "pharmacoGX",
         "11.0",
         "SMI_2034",
         "GDSCv2",
         "72",
         "hours",
         "0.8034"
        ],
        [
         "31",
         "pharmacoGX",
         "11.0",
         "SMI_20869",
         "GDSCv2",
         "72",
         "hours",
         "0.9517"
        ],
        [
         "36",
         "pharmacoGX",
         "11.0",
         "SMI_24625",
         "GDSCv2",
         "72",
         "hours",
         "0.8937"
        ],
        [
         "37",
         "pharmacoGX",
         "11.0",
         "SMI_24635",
         "GDSCv2",
         "72",
         "hours",
         "0.9686"
        ],
        [
         "40",
         "pharmacoGX",
         "11.0",
         "SMI_25369",
         "GDSCv2",
         "72",
         "hours",
         "0.9583"
        ],
        [
         "41",
         "pharmacoGX",
         "11.0",
         "SMI_25616",
         "GDSCv2",
         "72",
         "hours",
         "0.9919"
        ],
        [
         "42",
         "pharmacoGX",
         "11.0",
         "SMI_25708",
         "GDSCv2",
         "72",
         "hours",
         "0.9379"
        ],
        [
         "44",
         "pharmacoGX",
         "11.0",
         "SMI_26281",
         "GDSCv2",
         "72",
         "hours",
         "0.8283"
        ],
        [
         "45",
         "pharmacoGX",
         "11.0",
         "SMI_27249",
         "GDSCv2",
         "72",
         "hours",
         "0.764"
        ],
        [
         "46",
         "pharmacoGX",
         "11.0",
         "SMI_28189",
         "GDSCv2",
         "72",
         "hours",
         "0.8504"
        ],
        [
         "50",
         "pharmacoGX",
         "11.0",
         "SMI_3073",
         "GDSCv2",
         "72",
         "hours",
         "0.7602"
        ],
        [
         "51",
         "pharmacoGX",
         "11.0",
         "SMI_31570",
         "GDSCv2",
         "72",
         "hours",
         "0.9434"
        ],
        [
         "52",
         "pharmacoGX",
         "11.0",
         "SMI_31619",
         "GDSCv2",
         "72",
         "hours",
         "0.9336"
        ],
        [
         "53",
         "pharmacoGX",
         "11.0",
         "SMI_31858",
         "GDSCv2",
         "72",
         "hours",
         "0.9117"
        ],
        [
         "55",
         "pharmacoGX",
         "11.0",
         "SMI_32023",
         "GDSCv2",
         "72",
         "hours",
         "0.6565"
        ],
        [
         "58",
         "pharmacoGX",
         "11.0",
         "SMI_33215",
         "GDSCv2",
         "72",
         "hours",
         "0.8078"
        ],
        [
         "62",
         "pharmacoGX",
         "11.0",
         "SMI_37336",
         "GDSCv2",
         "72",
         "hours",
         "0.9672"
        ],
        [
         "64",
         "pharmacoGX",
         "11.0",
         "SMI_38231",
         "GDSCv2",
         "72",
         "hours",
         "0.9448"
        ],
        [
         "66",
         "pharmacoGX",
         "11.0",
         "SMI_39220",
         "GDSCv2",
         "72",
         "hours",
         "1.0"
        ],
        [
         "67",
         "pharmacoGX",
         "11.0",
         "SMI_39390",
         "GDSCv2",
         "72",
         "hours",
         "0.9376"
        ],
        [
         "69",
         "pharmacoGX",
         "11.0",
         "SMI_40153",
         "GDSCv2",
         "72",
         "hours",
         "0.9792"
        ],
        [
         "70",
         "pharmacoGX",
         "11.0",
         "SMI_41466",
         "GDSCv2",
         "72",
         "hours",
         "1.0"
        ],
        [
         "76",
         "pharmacoGX",
         "11.0",
         "SMI_43543",
         "GDSCv2",
         "72",
         "hours",
         "0.855"
        ],
        [
         "78",
         "pharmacoGX",
         "11.0",
         "SMI_45424",
         "GDSCv2",
         "72",
         "hours",
         "0.959"
        ],
        [
         "80",
         "pharmacoGX",
         "11.0",
         "SMI_4630",
         "GDSCv2",
         "72",
         "hours",
         "0.9874"
        ],
        [
         "83",
         "pharmacoGX",
         "11.0",
         "SMI_47080",
         "GDSCv2",
         "72",
         "hours",
         "0.8122"
        ],
        [
         "90",
         "pharmacoGX",
         "11.0",
         "SMI_52919",
         "GDSCv2",
         "72",
         "hours",
         "0.9604"
        ],
        [
         "93",
         "pharmacoGX",
         "11.0",
         "SMI_54062",
         "GDSCv2",
         "72",
         "hours",
         "0.9206"
        ],
        [
         "97",
         "pharmacoGX",
         "11.0",
         "SMI_55373",
         "GDSCv2",
         "72",
         "hours",
         "0.9451"
        ],
        [
         "98",
         "pharmacoGX",
         "11.0",
         "SMI_55473",
         "GDSCv2",
         "72",
         "hours",
         "0.8996"
        ],
        [
         "104",
         "pharmacoGX",
         "11.0",
         "SMI_55653",
         "GDSCv2",
         "72",
         "hours",
         "0.9298"
        ],
        [
         "120",
         "pharmacoGX",
         "11.0",
         "SMI_55689",
         "GDSCv2",
         "72",
         "hours",
         "0.9962"
        ],
        [
         "129",
         "pharmacoGX",
         "11.0",
         "SMI_659",
         "GDSCv2",
         "72",
         "hours",
         "0.9807"
        ],
        [
         "136",
         "pharmacoGX",
         "15.0",
         "SMI_10376",
         "GDSCv2",
         "72",
         "hours",
         "0.9735"
        ],
        [
         "138",
         "pharmacoGX",
         "15.0",
         "SMI_11391",
         "GDSCv2",
         "72",
         "hours",
         "0.8788"
        ],
        [
         "139",
         "pharmacoGX",
         "15.0",
         "SMI_11831",
         "GDSCv2",
         "72",
         "hours",
         "0.7963"
        ],
        [
         "141",
         "pharmacoGX",
         "15.0",
         "SMI_12635",
         "GDSCv2",
         "72",
         "hours",
         "0.9287"
        ],
        [
         "144",
         "pharmacoGX",
         "15.0",
         "SMI_154",
         "GDSCv2",
         "72",
         "hours",
         "0.9285"
        ],
        [
         "147",
         "pharmacoGX",
         "15.0",
         "SMI_1635",
         "GDSCv2",
         "72",
         "hours",
         "0.956"
        ],
        [
         "148",
         "pharmacoGX",
         "15.0",
         "SMI_17074",
         "GDSCv2",
         "72",
         "hours",
         "0.9212"
        ]
       ],
       "shape": {
        "columns": 7,
        "rows": 35775
       }
      },
      "text/html": [
       "<div>\n",
       "<style scoped>\n",
       "    .dataframe tbody tr th:only-of-type {\n",
       "        vertical-align: middle;\n",
       "    }\n",
       "\n",
       "    .dataframe tbody tr th {\n",
       "        vertical-align: top;\n",
       "    }\n",
       "\n",
       "    .dataframe thead th {\n",
       "        text-align: right;\n",
       "    }\n",
       "</style>\n",
       "<table border=\"1\" class=\"dataframe\">\n",
       "  <thead>\n",
       "    <tr style=\"text-align: right;\">\n",
       "      <th></th>\n",
       "      <th>source</th>\n",
       "      <th>improve_sample_id</th>\n",
       "      <th>improve_drug_id</th>\n",
       "      <th>study</th>\n",
       "      <th>time</th>\n",
       "      <th>time_unit</th>\n",
       "      <th>auc</th>\n",
       "    </tr>\n",
       "  </thead>\n",
       "  <tbody>\n",
       "    <tr>\n",
       "      <th>2</th>\n",
       "      <td>pharmacoGX</td>\n",
       "      <td>11.0</td>\n",
       "      <td>SMI_10376</td>\n",
       "      <td>GDSCv2</td>\n",
       "      <td>72</td>\n",
       "      <td>hours</td>\n",
       "      <td>0.9713</td>\n",
       "    </tr>\n",
       "    <tr>\n",
       "      <th>5</th>\n",
       "      <td>pharmacoGX</td>\n",
       "      <td>11.0</td>\n",
       "      <td>SMI_11391</td>\n",
       "      <td>GDSCv2</td>\n",
       "      <td>72</td>\n",
       "      <td>hours</td>\n",
       "      <td>0.9820</td>\n",
       "    </tr>\n",
       "    <tr>\n",
       "      <th>6</th>\n",
       "      <td>pharmacoGX</td>\n",
       "      <td>11.0</td>\n",
       "      <td>SMI_11502</td>\n",
       "      <td>GDSCv2</td>\n",
       "      <td>72</td>\n",
       "      <td>hours</td>\n",
       "      <td>0.9511</td>\n",
       "    </tr>\n",
       "    <tr>\n",
       "      <th>7</th>\n",
       "      <td>pharmacoGX</td>\n",
       "      <td>11.0</td>\n",
       "      <td>SMI_11831</td>\n",
       "      <td>GDSCv2</td>\n",
       "      <td>72</td>\n",
       "      <td>hours</td>\n",
       "      <td>0.7694</td>\n",
       "    </tr>\n",
       "    <tr>\n",
       "      <th>9</th>\n",
       "      <td>pharmacoGX</td>\n",
       "      <td>11.0</td>\n",
       "      <td>SMI_12635</td>\n",
       "      <td>GDSCv2</td>\n",
       "      <td>72</td>\n",
       "      <td>hours</td>\n",
       "      <td>0.9711</td>\n",
       "    </tr>\n",
       "    <tr>\n",
       "      <th>...</th>\n",
       "      <td>...</td>\n",
       "      <td>...</td>\n",
       "      <td>...</td>\n",
       "      <td>...</td>\n",
       "      <td>...</td>\n",
       "      <td>...</td>\n",
       "      <td>...</td>\n",
       "    </tr>\n",
       "    <tr>\n",
       "      <th>113921</th>\n",
       "      <td>pharmacoGX</td>\n",
       "      <td>1924.0</td>\n",
       "      <td>SMI_55473</td>\n",
       "      <td>GDSCv2</td>\n",
       "      <td>72</td>\n",
       "      <td>hours</td>\n",
       "      <td>0.5748</td>\n",
       "    </tr>\n",
       "    <tr>\n",
       "      <th>113928</th>\n",
       "      <td>pharmacoGX</td>\n",
       "      <td>1924.0</td>\n",
       "      <td>SMI_55653</td>\n",
       "      <td>GDSCv2</td>\n",
       "      <td>72</td>\n",
       "      <td>hours</td>\n",
       "      <td>0.8643</td>\n",
       "    </tr>\n",
       "    <tr>\n",
       "      <th>113947</th>\n",
       "      <td>pharmacoGX</td>\n",
       "      <td>1924.0</td>\n",
       "      <td>SMI_55689</td>\n",
       "      <td>GDSCv2</td>\n",
       "      <td>72</td>\n",
       "      <td>hours</td>\n",
       "      <td>0.9456</td>\n",
       "    </tr>\n",
       "    <tr>\n",
       "      <th>113958</th>\n",
       "      <td>pharmacoGX</td>\n",
       "      <td>1924.0</td>\n",
       "      <td>SMI_659</td>\n",
       "      <td>GDSCv2</td>\n",
       "      <td>72</td>\n",
       "      <td>hours</td>\n",
       "      <td>0.7537</td>\n",
       "    </tr>\n",
       "    <tr>\n",
       "      <th>113964</th>\n",
       "      <td>pharmacoGX</td>\n",
       "      <td>1924.0</td>\n",
       "      <td>SMI_8489</td>\n",
       "      <td>GDSCv2</td>\n",
       "      <td>72</td>\n",
       "      <td>hours</td>\n",
       "      <td>0.9856</td>\n",
       "    </tr>\n",
       "  </tbody>\n",
       "</table>\n",
       "<p>35775 rows × 7 columns</p>\n",
       "</div>"
      ],
      "text/plain": [
       "            source  improve_sample_id improve_drug_id   study  time time_unit  \\\n",
       "2       pharmacoGX               11.0       SMI_10376  GDSCv2    72     hours   \n",
       "5       pharmacoGX               11.0       SMI_11391  GDSCv2    72     hours   \n",
       "6       pharmacoGX               11.0       SMI_11502  GDSCv2    72     hours   \n",
       "7       pharmacoGX               11.0       SMI_11831  GDSCv2    72     hours   \n",
       "9       pharmacoGX               11.0       SMI_12635  GDSCv2    72     hours   \n",
       "...            ...                ...             ...     ...   ...       ...   \n",
       "113921  pharmacoGX             1924.0       SMI_55473  GDSCv2    72     hours   \n",
       "113928  pharmacoGX             1924.0       SMI_55653  GDSCv2    72     hours   \n",
       "113947  pharmacoGX             1924.0       SMI_55689  GDSCv2    72     hours   \n",
       "113958  pharmacoGX             1924.0         SMI_659  GDSCv2    72     hours   \n",
       "113964  pharmacoGX             1924.0        SMI_8489  GDSCv2    72     hours   \n",
       "\n",
       "           auc  \n",
       "2       0.9713  \n",
       "5       0.9820  \n",
       "6       0.9511  \n",
       "7       0.7694  \n",
       "9       0.9711  \n",
       "...        ...  \n",
       "113921  0.5748  \n",
       "113928  0.8643  \n",
       "113947  0.9456  \n",
       "113958  0.7537  \n",
       "113964  0.9856  \n",
       "\n",
       "[35775 rows x 7 columns]"
      ]
     },
     "execution_count": 202,
     "metadata": {},
     "output_type": "execute_result"
    }
   ],
   "source": [
    "data_for_plot"
   ]
  },
  {
   "cell_type": "code",
   "execution_count": 203,
   "metadata": {},
   "outputs": [],
   "source": [
    "grouping = data_for_plot.groupby('improve_drug_id')\n",
    "ordering = grouping.count().sort_values(by='improve_sample_id', ascending=False).index"
   ]
  },
  {
   "cell_type": "code",
   "execution_count": 204,
   "metadata": {},
   "outputs": [
    {
     "data": {
      "text/plain": [
       "(-0.05, 1.05)"
      ]
     },
     "execution_count": 204,
     "metadata": {},
     "output_type": "execute_result"
    },
    {
     "data": {
      "image/png": "[encoded data removed]",
      "text/plain": [
       "<Figure size 600x1000 with 1 Axes>"
      ]
     },
     "metadata": {},
     "output_type": "display_data"
    }
   ],
   "source": [
    "fig, ax = plt.subplots(figsize=(6,10))\n",
    "\n",
    "sns.set_context('notebook')\n",
    "plot = (\n",
    "    sns.boxplot(\n",
    "        data=data_for_plot,\n",
    "        y='improve_drug_id',\n",
    "        x='auc',\n",
    "        order=ordering,\n",
    "        ax=ax\n",
    "    )\n",
    ")\n",
    "ax.set_title(\"GDSC_v2 drugs with most response values in descending order\")\n",
    "ax.set_xlim(-0.05, 1.05)"
   ]
  },
  {
   "cell_type": "markdown",
   "metadata": {},
   "source": [
    "Based on the plot intersting drugs could be:\n",
    "- SMI_2034 <-> docetaxel\n",
    "- SMI_54062 <-> luminespib\n",
    "- SMI_17074 <-> actinomycin D / cosmegen\n",
    "- SMI_55473 <-> gemcitabine\n",
    "- SMI_39220 <-> paclitaxel"
   ]
  },
  {
   "cell_type": "code",
   "execution_count": 205,
   "metadata": {},
   "outputs": [
    {
     "data": {
      "application/vnd.microsoft.datawrangler.viewer.v0+json": {
       "columns": [
        {
         "name": "index",
         "rawType": "int64",
         "type": "integer"
        },
        {
         "name": "improve_drug_id",
         "rawType": "object",
         "type": "string"
        },
        {
         "name": "chem_name",
         "rawType": "object",
         "type": "string"
        },
        {
         "name": "pubchem_id",
         "rawType": "int64",
         "type": "integer"
        },
        {
         "name": "canSMILES",
         "rawType": "object",
         "type": "string"
        },
        {
         "name": "InChIKey",
         "rawType": "object",
         "type": "string"
        },
        {
         "name": "formula",
         "rawType": "object",
         "type": "string"
        },
        {
         "name": "weight",
         "rawType": "float64",
         "type": "float"
        }
       ],
       "conversionMethod": "pd.DataFrame",
       "ref": "a77b06ae-30c5-4d99-84e6-c7f0287cfe69",
       "rows": [
        [
         "8793",
         "SMI_46210",
         "selumetinib [usan]",
         "10127622",
         "CN1C=NC2=C1C=C(C(=C2F)NC3=C(C=C(C=C3)Br)Cl)C(=O)NOCCO",
         "CYOHGALHFOKKQC-UHFFFAOYSA-N",
         "C17H15BrClFN4O3",
         "457.7"
        ],
        [
         "8794",
         "SMI_46210",
         "selumetinib (arry142886/azd6244)",
         "10127622",
         "CN1C=NC2=C1C=C(C(=C2F)NC3=C(C=C(C=C3)Br)Cl)C(=O)NOCCO",
         "CYOHGALHFOKKQC-UHFFFAOYSA-N",
         "C17H15BrClFN4O3",
         "457.7"
        ],
        [
         "8796",
         "SMI_46210",
         "selumetinib [who-dd]",
         "10127622",
         "CN1C=NC2=C1C=C(C(=C2F)NC3=C(C=C(C=C3)Br)Cl)C(=O)NOCCO",
         "CYOHGALHFOKKQC-UHFFFAOYSA-N",
         "C17H15BrClFN4O3",
         "457.7"
        ],
        [
         "8807",
         "SMI_46210",
         "selumetinib [inn]",
         "10127622",
         "CN1C=NC2=C1C=C(C(=C2F)NC3=C(C=C(C=C3)Br)Cl)C(=O)NOCCO",
         "CYOHGALHFOKKQC-UHFFFAOYSA-N",
         "C17H15BrClFN4O3",
         "457.7"
        ],
        [
         "8809",
         "SMI_46210",
         "selumetinib [usan:inn]",
         "10127622",
         "CN1C=NC2=C1C=C(C(=C2F)NC3=C(C=C(C=C3)Br)Cl)C(=O)NOCCO",
         "CYOHGALHFOKKQC-UHFFFAOYSA-N",
         "C17H15BrClFN4O3",
         "457.7"
        ],
        [
         "8812",
         "SMI_46210",
         "selumetinibum",
         "10127622",
         "CN1C=NC2=C1C=C(C(=C2F)NC3=C(C=C(C=C3)Br)Cl)C(=O)NOCCO",
         "CYOHGALHFOKKQC-UHFFFAOYSA-N",
         "C17H15BrClFN4O3",
         "457.7"
        ],
        [
         "8823",
         "SMI_46210",
         "selumetinib (azd6244)",
         "10127622",
         "CN1C=NC2=C1C=C(C(=C2F)NC3=C(C=C(C=C3)Br)Cl)C(=O)NOCCO",
         "CYOHGALHFOKKQC-UHFFFAOYSA-N",
         "C17H15BrClFN4O3",
         "457.7"
        ],
        [
         "8828",
         "SMI_46210",
         "azd6244 (selumetinib,arry-142886)?",
         "10127622",
         "CN1C=NC2=C1C=C(C(=C2F)NC3=C(C=C(C=C3)Br)Cl)C(=O)NOCCO",
         "CYOHGALHFOKKQC-UHFFFAOYSA-N",
         "C17H15BrClFN4O3",
         "457.7"
        ],
        [
         "8840",
         "SMI_46210",
         "azd6244,selumetinib, arry-142886",
         "10127622",
         "CN1C=NC2=C1C=C(C(=C2F)NC3=C(C=C(C=C3)Br)Cl)C(=O)NOCCO",
         "CYOHGALHFOKKQC-UHFFFAOYSA-N",
         "C17H15BrClFN4O3",
         "457.7"
        ],
        [
         "8843",
         "SMI_46210",
         "selumetinib",
         "10127622",
         "CN1C=NC2=C1C=C(C(=C2F)NC3=C(C=C(C=C3)Br)Cl)C(=O)NOCCO",
         "CYOHGALHFOKKQC-UHFFFAOYSA-N",
         "C17H15BrClFN4O3",
         "457.7"
        ],
        [
         "8853",
         "SMI_46210",
         "azd6244 (selumetinib)",
         "10127622",
         "CN1C=NC2=C1C=C(C(=C2F)NC3=C(C=C(C=C3)Br)Cl)C(=O)NOCCO",
         "CYOHGALHFOKKQC-UHFFFAOYSA-N",
         "C17H15BrClFN4O3",
         "457.7"
        ],
        [
         "8858",
         "SMI_46210",
         "selumetinib (usan/inn)",
         "10127622",
         "CN1C=NC2=C1C=C(C(=C2F)NC3=C(C=C(C=C3)Br)Cl)C(=O)NOCCO",
         "CYOHGALHFOKKQC-UHFFFAOYSA-N",
         "C17H15BrClFN4O3",
         "457.7"
        ],
        [
         "8868",
         "SMI_46210",
         "selumetinib [mi]",
         "10127622",
         "CN1C=NC2=C1C=C(C(=C2F)NC3=C(C=C(C=C3)Br)Cl)C(=O)NOCCO",
         "CYOHGALHFOKKQC-UHFFFAOYSA-N",
         "C17H15BrClFN4O3",
         "457.7"
        ]
       ],
       "shape": {
        "columns": 7,
        "rows": 13
       }
      },
      "text/html": [
       "<div>\n",
       "<style scoped>\n",
       "    .dataframe tbody tr th:only-of-type {\n",
       "        vertical-align: middle;\n",
       "    }\n",
       "\n",
       "    .dataframe tbody tr th {\n",
       "        vertical-align: top;\n",
       "    }\n",
       "\n",
       "    .dataframe thead th {\n",
       "        text-align: right;\n",
       "    }\n",
       "</style>\n",
       "<table border=\"1\" class=\"dataframe\">\n",
       "  <thead>\n",
       "    <tr style=\"text-align: right;\">\n",
       "      <th></th>\n",
       "      <th>improve_drug_id</th>\n",
       "      <th>chem_name</th>\n",
       "      <th>pubchem_id</th>\n",
       "      <th>canSMILES</th>\n",
       "      <th>InChIKey</th>\n",
       "      <th>formula</th>\n",
       "      <th>weight</th>\n",
       "    </tr>\n",
       "  </thead>\n",
       "  <tbody>\n",
       "    <tr>\n",
       "      <th>8793</th>\n",
       "      <td>SMI_46210</td>\n",
       "      <td>selumetinib [usan]</td>\n",
       "      <td>10127622</td>\n",
       "      <td>CN1C=NC2=C1C=C(C(=C2F)NC3=C(C=C(C=C3)Br)Cl)C(=...</td>\n",
       "      <td>CYOHGALHFOKKQC-UHFFFAOYSA-N</td>\n",
       "      <td>C17H15BrClFN4O3</td>\n",
       "      <td>457.7</td>\n",
       "    </tr>\n",
       "    <tr>\n",
       "      <th>8794</th>\n",
       "      <td>SMI_46210</td>\n",
       "      <td>selumetinib (arry142886/azd6244)</td>\n",
       "      <td>10127622</td>\n",
       "      <td>CN1C=NC2=C1C=C(C(=C2F)NC3=C(C=C(C=C3)Br)Cl)C(=...</td>\n",
       "      <td>CYOHGALHFOKKQC-UHFFFAOYSA-N</td>\n",
       "      <td>C17H15BrClFN4O3</td>\n",
       "      <td>457.7</td>\n",
       "    </tr>\n",
       "    <tr>\n",
       "      <th>8796</th>\n",
       "      <td>SMI_46210</td>\n",
       "      <td>selumetinib [who-dd]</td>\n",
       "      <td>10127622</td>\n",
       "      <td>CN1C=NC2=C1C=C(C(=C2F)NC3=C(C=C(C=C3)Br)Cl)C(=...</td>\n",
       "      <td>CYOHGALHFOKKQC-UHFFFAOYSA-N</td>\n",
       "      <td>C17H15BrClFN4O3</td>\n",
       "      <td>457.7</td>\n",
       "    </tr>\n",
       "    <tr>\n",
       "      <th>8807</th>\n",
       "      <td>SMI_46210</td>\n",
       "      <td>selumetinib [inn]</td>\n",
       "      <td>10127622</td>\n",
       "      <td>CN1C=NC2=C1C=C(C(=C2F)NC3=C(C=C(C=C3)Br)Cl)C(=...</td>\n",
       "      <td>CYOHGALHFOKKQC-UHFFFAOYSA-N</td>\n",
       "      <td>C17H15BrClFN4O3</td>\n",
       "      <td>457.7</td>\n",
       "    </tr>\n",
       "    <tr>\n",
       "      <th>8809</th>\n",
       "      <td>SMI_46210</td>\n",
       "      <td>selumetinib [usan:inn]</td>\n",
       "      <td>10127622</td>\n",
       "      <td>CN1C=NC2=C1C=C(C(=C2F)NC3=C(C=C(C=C3)Br)Cl)C(=...</td>\n",
       "      <td>CYOHGALHFOKKQC-UHFFFAOYSA-N</td>\n",
       "      <td>C17H15BrClFN4O3</td>\n",
       "      <td>457.7</td>\n",
       "    </tr>\n",
       "    <tr>\n",
       "      <th>8812</th>\n",
       "      <td>SMI_46210</td>\n",
       "      <td>selumetinibum</td>\n",
       "      <td>10127622</td>\n",
       "      <td>CN1C=NC2=C1C=C(C(=C2F)NC3=C(C=C(C=C3)Br)Cl)C(=...</td>\n",
       "      <td>CYOHGALHFOKKQC-UHFFFAOYSA-N</td>\n",
       "      <td>C17H15BrClFN4O3</td>\n",
       "      <td>457.7</td>\n",
       "    </tr>\n",
       "    <tr>\n",
       "      <th>8823</th>\n",
       "      <td>SMI_46210</td>\n",
       "      <td>selumetinib (azd6244)</td>\n",
       "      <td>10127622</td>\n",
       "      <td>CN1C=NC2=C1C=C(C(=C2F)NC3=C(C=C(C=C3)Br)Cl)C(=...</td>\n",
       "      <td>CYOHGALHFOKKQC-UHFFFAOYSA-N</td>\n",
       "      <td>C17H15BrClFN4O3</td>\n",
       "      <td>457.7</td>\n",
       "    </tr>\n",
       "    <tr>\n",
       "      <th>8828</th>\n",
       "      <td>SMI_46210</td>\n",
       "      <td>azd6244 (selumetinib,arry-142886)?</td>\n",
       "      <td>10127622</td>\n",
       "      <td>CN1C=NC2=C1C=C(C(=C2F)NC3=C(C=C(C=C3)Br)Cl)C(=...</td>\n",
       "      <td>CYOHGALHFOKKQC-UHFFFAOYSA-N</td>\n",
       "      <td>C17H15BrClFN4O3</td>\n",
       "      <td>457.7</td>\n",
       "    </tr>\n",
       "    <tr>\n",
       "      <th>8840</th>\n",
       "      <td>SMI_46210</td>\n",
       "      <td>azd6244,selumetinib, arry-142886</td>\n",
       "      <td>10127622</td>\n",
       "      <td>CN1C=NC2=C1C=C(C(=C2F)NC3=C(C=C(C=C3)Br)Cl)C(=...</td>\n",
       "      <td>CYOHGALHFOKKQC-UHFFFAOYSA-N</td>\n",
       "      <td>C17H15BrClFN4O3</td>\n",
       "      <td>457.7</td>\n",
       "    </tr>\n",
       "    <tr>\n",
       "      <th>8843</th>\n",
       "      <td>SMI_46210</td>\n",
       "      <td>selumetinib</td>\n",
       "      <td>10127622</td>\n",
       "      <td>CN1C=NC2=C1C=C(C(=C2F)NC3=C(C=C(C=C3)Br)Cl)C(=...</td>\n",
       "      <td>CYOHGALHFOKKQC-UHFFFAOYSA-N</td>\n",
       "      <td>C17H15BrClFN4O3</td>\n",
       "      <td>457.7</td>\n",
       "    </tr>\n",
       "    <tr>\n",
       "      <th>8853</th>\n",
       "      <td>SMI_46210</td>\n",
       "      <td>azd6244 (selumetinib)</td>\n",
       "      <td>10127622</td>\n",
       "      <td>CN1C=NC2=C1C=C(C(=C2F)NC3=C(C=C(C=C3)Br)Cl)C(=...</td>\n",
       "      <td>CYOHGALHFOKKQC-UHFFFAOYSA-N</td>\n",
       "      <td>C17H15BrClFN4O3</td>\n",
       "      <td>457.7</td>\n",
       "    </tr>\n",
       "    <tr>\n",
       "      <th>8858</th>\n",
       "      <td>SMI_46210</td>\n",
       "      <td>selumetinib (usan/inn)</td>\n",
       "      <td>10127622</td>\n",
       "      <td>CN1C=NC2=C1C=C(C(=C2F)NC3=C(C=C(C=C3)Br)Cl)C(=...</td>\n",
       "      <td>CYOHGALHFOKKQC-UHFFFAOYSA-N</td>\n",
       "      <td>C17H15BrClFN4O3</td>\n",
       "      <td>457.7</td>\n",
       "    </tr>\n",
       "    <tr>\n",
       "      <th>8868</th>\n",
       "      <td>SMI_46210</td>\n",
       "      <td>selumetinib [mi]</td>\n",
       "      <td>10127622</td>\n",
       "      <td>CN1C=NC2=C1C=C(C(=C2F)NC3=C(C=C(C=C3)Br)Cl)C(=...</td>\n",
       "      <td>CYOHGALHFOKKQC-UHFFFAOYSA-N</td>\n",
       "      <td>C17H15BrClFN4O3</td>\n",
       "      <td>457.7</td>\n",
       "    </tr>\n",
       "  </tbody>\n",
       "</table>\n",
       "</div>"
      ],
      "text/plain": [
       "     improve_drug_id                           chem_name  pubchem_id  \\\n",
       "8793       SMI_46210                  selumetinib [usan]    10127622   \n",
       "8794       SMI_46210    selumetinib (arry142886/azd6244)    10127622   \n",
       "8796       SMI_46210                selumetinib [who-dd]    10127622   \n",
       "8807       SMI_46210                   selumetinib [inn]    10127622   \n",
       "8809       SMI_46210              selumetinib [usan:inn]    10127622   \n",
       "8812       SMI_46210                       selumetinibum    10127622   \n",
       "8823       SMI_46210               selumetinib (azd6244)    10127622   \n",
       "8828       SMI_46210  azd6244 (selumetinib,arry-142886)?    10127622   \n",
       "8840       SMI_46210    azd6244,selumetinib, arry-142886    10127622   \n",
       "8843       SMI_46210                         selumetinib    10127622   \n",
       "8853       SMI_46210               azd6244 (selumetinib)    10127622   \n",
       "8858       SMI_46210              selumetinib (usan/inn)    10127622   \n",
       "8868       SMI_46210                    selumetinib [mi]    10127622   \n",
       "\n",
       "                                              canSMILES  \\\n",
       "8793  CN1C=NC2=C1C=C(C(=C2F)NC3=C(C=C(C=C3)Br)Cl)C(=...   \n",
       "8794  CN1C=NC2=C1C=C(C(=C2F)NC3=C(C=C(C=C3)Br)Cl)C(=...   \n",
       "8796  CN1C=NC2=C1C=C(C(=C2F)NC3=C(C=C(C=C3)Br)Cl)C(=...   \n",
       "8807  CN1C=NC2=C1C=C(C(=C2F)NC3=C(C=C(C=C3)Br)Cl)C(=...   \n",
       "8809  CN1C=NC2=C1C=C(C(=C2F)NC3=C(C=C(C=C3)Br)Cl)C(=...   \n",
       "8812  CN1C=NC2=C1C=C(C(=C2F)NC3=C(C=C(C=C3)Br)Cl)C(=...   \n",
       "8823  CN1C=NC2=C1C=C(C(=C2F)NC3=C(C=C(C=C3)Br)Cl)C(=...   \n",
       "8828  CN1C=NC2=C1C=C(C(=C2F)NC3=C(C=C(C=C3)Br)Cl)C(=...   \n",
       "8840  CN1C=NC2=C1C=C(C(=C2F)NC3=C(C=C(C=C3)Br)Cl)C(=...   \n",
       "8843  CN1C=NC2=C1C=C(C(=C2F)NC3=C(C=C(C=C3)Br)Cl)C(=...   \n",
       "8853  CN1C=NC2=C1C=C(C(=C2F)NC3=C(C=C(C=C3)Br)Cl)C(=...   \n",
       "8858  CN1C=NC2=C1C=C(C(=C2F)NC3=C(C=C(C=C3)Br)Cl)C(=...   \n",
       "8868  CN1C=NC2=C1C=C(C(=C2F)NC3=C(C=C(C=C3)Br)Cl)C(=...   \n",
       "\n",
       "                         InChIKey          formula  weight  \n",
       "8793  CYOHGALHFOKKQC-UHFFFAOYSA-N  C17H15BrClFN4O3   457.7  \n",
       "8794  CYOHGALHFOKKQC-UHFFFAOYSA-N  C17H15BrClFN4O3   457.7  \n",
       "8796  CYOHGALHFOKKQC-UHFFFAOYSA-N  C17H15BrClFN4O3   457.7  \n",
       "8807  CYOHGALHFOKKQC-UHFFFAOYSA-N  C17H15BrClFN4O3   457.7  \n",
       "8809  CYOHGALHFOKKQC-UHFFFAOYSA-N  C17H15BrClFN4O3   457.7  \n",
       "8812  CYOHGALHFOKKQC-UHFFFAOYSA-N  C17H15BrClFN4O3   457.7  \n",
       "8823  CYOHGALHFOKKQC-UHFFFAOYSA-N  C17H15BrClFN4O3   457.7  \n",
       "8828  CYOHGALHFOKKQC-UHFFFAOYSA-N  C17H15BrClFN4O3   457.7  \n",
       "8840  CYOHGALHFOKKQC-UHFFFAOYSA-N  C17H15BrClFN4O3   457.7  \n",
       "8843  CYOHGALHFOKKQC-UHFFFAOYSA-N  C17H15BrClFN4O3   457.7  \n",
       "8853  CYOHGALHFOKKQC-UHFFFAOYSA-N  C17H15BrClFN4O3   457.7  \n",
       "8858  CYOHGALHFOKKQC-UHFFFAOYSA-N  C17H15BrClFN4O3   457.7  \n",
       "8868  CYOHGALHFOKKQC-UHFFFAOYSA-N  C17H15BrClFN4O3   457.7  "
      ]
     },
     "execution_count": 205,
     "metadata": {},
     "output_type": "execute_result"
    }
   ],
   "source": [
    "data.drugs[data.drugs['chem_name'].str.contains('selum')]"
   ]
  },
  {
   "cell_type": "markdown",
   "metadata": {},
   "source": [
    "Next we can take a look at the drugs which are used in the cancer dataset we selected."
   ]
  },
  {
   "cell_type": "code",
   "execution_count": 206,
   "metadata": {},
   "outputs": [
    {
     "data": {
      "application/vnd.microsoft.datawrangler.viewer.v0+json": {
       "columns": [
        {
         "name": "index",
         "rawType": "int64",
         "type": "integer"
        },
        {
         "name": "improve_drug_id",
         "rawType": "object",
         "type": "string"
        },
        {
         "name": "chem_name",
         "rawType": "object",
         "type": "string"
        },
        {
         "name": "pubchem_id",
         "rawType": "int64",
         "type": "integer"
        },
        {
         "name": "canSMILES",
         "rawType": "object",
         "type": "string"
        },
        {
         "name": "InChIKey",
         "rawType": "object",
         "type": "unknown"
        },
        {
         "name": "formula",
         "rawType": "object",
         "type": "unknown"
        },
        {
         "name": "weight",
         "rawType": "float64",
         "type": "float"
        }
       ],
       "conversionMethod": "pd.DataFrame",
       "ref": "77916865-e7f8-49a9-bd3c-d262d11fc5f4",
       "rows": [
        [
         "0",
         "SMI_129",
         "(3ar-(3aalpha,4beta,5beta,5abeta,9(3r*,5s*,7r*,9s*),10br*,13aalpha))-methyl 4-(acetyloxy)-3a-ethyl-9-(5-ethyl-1,4,5,6,7,8,9,10-octahydro-5-hydroxy-9- (methoxycarbonyl)-2h-3,7-methanoazacycloundecino(5,4-b)indol-9-yl)- 3a,4,5,5a,6,11,12,13a-octahydro-5-hydroxy-8-methoxy-6-methyl-1h-indolizino (8,1-cd)carbazole-5-carboxylate",
         "13342",
         "CCC1(CC2CC(C3=C(CCN(C2)C1)C4=CC=CC=C4N3)(C5=C(C=C6C(=C5)C78CCN9C7C(C=CC9)(C(C(C8N6C)(C(=O)OC)O)OC(=O)C)CC)OC)C(=O)OC)O",
         "JXLYSJRDGCGARV-CFWMRBGOSA-N",
         "C46H58N4O9",
         "811.0"
        ],
        [
         "1",
         "SMI_129",
         "vr-8",
         "13342",
         "CCC1(CC2CC(C3=C(CCN(C2)C1)C4=CC=CC=C4N3)(C5=C(C=C6C(=C5)C78CCN9C7C(C=CC9)(C(C(C8N6C)(C(=O)OC)O)OC(=O)C)CC)OC)C(=O)OC)O",
         "JXLYSJRDGCGARV-CFWMRBGOSA-N",
         "C46H58N4O9",
         "811.0"
        ],
        [
         "2",
         "SMI_129",
         "nci-c04842",
         "13342",
         "CCC1(CC2CC(C3=C(CCN(C2)C1)C4=CC=CC=C4N3)(C5=C(C=C6C(=C5)C78CCN9C7C(C=CC9)(C(C(C8N6C)(C(=O)OC)O)OC(=O)C)CC)OC)C(=O)OC)O",
         "JXLYSJRDGCGARV-CFWMRBGOSA-N",
         "C46H58N4O9",
         "811.0"
        ],
        [
         "3",
         "SMI_129",
         "nincaluicolflastine",
         "13342",
         "CCC1(CC2CC(C3=C(CCN(C2)C1)C4=CC=CC=C4N3)(C5=C(C=C6C(=C5)C78CCN9C7C(C=CC9)(C(C(C8N6C)(C(=O)OC)O)OC(=O)C)CC)OC)C(=O)OC)O",
         "JXLYSJRDGCGARV-CFWMRBGOSA-N",
         "C46H58N4O9",
         "811.0"
        ],
        [
         "4",
         "SMI_129",
         "chembl159",
         "13342",
         "CCC1(CC2CC(C3=C(CCN(C2)C1)C4=CC=CC=C4N3)(C5=C(C=C6C(=C5)C78CCN9C7C(C=CC9)(C(C(C8N6C)(C(=O)OC)O)OC(=O)C)CC)OC)C(=O)OC)O",
         "JXLYSJRDGCGARV-CFWMRBGOSA-N",
         "C46H58N4O9",
         "811.0"
        ],
        [
         "5",
         "SMI_129",
         "brd-k01188359-001-02-0",
         "13342",
         "CCC1(CC2CC(C3=C(CCN(C2)C1)C4=CC=CC=C4N3)(C5=C(C=C6C(=C5)C78CCN9C7C(C=CC9)(C(C(C8N6C)(C(=O)OC)O)OC(=O)C)CC)OC)C(=O)OC)O",
         "JXLYSJRDGCGARV-CFWMRBGOSA-N",
         "C46H58N4O9",
         "811.0"
        ],
        [
         "6",
         "SMI_129",
         "vincaleukoblastine",
         "13342",
         "CCC1(CC2CC(C3=C(CCN(C2)C1)C4=CC=CC=C4N3)(C5=C(C=C6C(=C5)C78CCN9C7C(C=CC9)(C(C(C8N6C)(C(=O)OC)O)OC(=O)C)CC)OC)C(=O)OC)O",
         "JXLYSJRDGCGARV-CFWMRBGOSA-N",
         "C46H58N4O9",
         "811.0"
        ],
        [
         "7",
         "SMI_129",
         "nsc-47842",
         "13342",
         "CCC1(CC2CC(C3=C(CCN(C2)C1)C4=CC=CC=C4N3)(C5=C(C=C6C(=C5)C78CCN9C7C(C=CC9)(C(C(C8N6C)(C(=O)OC)O)OC(=O)C)CC)OC)C(=O)OC)O",
         "JXLYSJRDGCGARV-CFWMRBGOSA-N",
         "C46H58N4O9",
         "811.0"
        ],
        [
         "8",
         "SMI_129",
         "vindesine sulfate impurity b [ep impurity]",
         "13342",
         "CCC1(CC2CC(C3=C(CCN(C2)C1)C4=CC=CC=C4N3)(C5=C(C=C6C(=C5)C78CCN9C7C(C=CC9)(C(C(C8N6C)(C(=O)OC)O)OC(=O)C)CC)OC)C(=O)OC)O",
         "JXLYSJRDGCGARV-CFWMRBGOSA-N",
         "C46H58N4O9",
         "811.0"
        ],
        [
         "9",
         "SMI_129",
         "vbl",
         "13342",
         "CCC1(CC2CC(C3=C(CCN(C2)C1)C4=CC=CC=C4N3)(C5=C(C=C6C(=C5)C78CCN9C7C(C=CC9)(C(C(C8N6C)(C(=O)OC)O)OC(=O)C)CC)OC)C(=O)OC)O",
         "JXLYSJRDGCGARV-CFWMRBGOSA-N",
         "C46H58N4O9",
         "811.0"
        ],
        [
         "10",
         "SMI_129",
         "(2alpha,2'beta,3alpha,5beta,19beta)-vincaleukoblastine",
         "13342",
         "CCC1(CC2CC(C3=C(CCN(C2)C1)C4=CC=CC=C4N3)(C5=C(C=C6C(=C5)C78CCN9C7C(C=CC9)(C(C(C8N6C)(C(=O)OC)O)OC(=O)C)CC)OC)C(=O)OC)O",
         "JXLYSJRDGCGARV-CFWMRBGOSA-N",
         "C46H58N4O9",
         "811.0"
        ],
        [
         "11",
         "SMI_129",
         "ac-24191",
         "13342",
         "CCC1(CC2CC(C3=C(CCN(C2)C1)C4=CC=CC=C4N3)(C5=C(C=C6C(=C5)C78CCN9C7C(C=CC9)(C(C(C8N6C)(C(=O)OC)O)OC(=O)C)CC)OC)C(=O)OC)O",
         "JXLYSJRDGCGARV-CFWMRBGOSA-N",
         "C46H58N4O9",
         "811.0"
        ],
        [
         "12",
         "SMI_129",
         "gtpl6851",
         "13342",
         "CCC1(CC2CC(C3=C(CCN(C2)C1)C4=CC=CC=C4N3)(C5=C(C=C6C(=C5)C78CCN9C7C(C=CC9)(C(C(C8N6C)(C(=O)OC)O)OC(=O)C)CC)OC)C(=O)OC)O",
         "JXLYSJRDGCGARV-CFWMRBGOSA-N",
         "C46H58N4O9",
         "811.0"
        ],
        [
         "13",
         "SMI_129",
         "brd-k01188359-065-23-1",
         "13342",
         "CCC1(CC2CC(C3=C(CCN(C2)C1)C4=CC=CC=C4N3)(C5=C(C=C6C(=C5)C78CCN9C7C(C=CC9)(C(C(C8N6C)(C(=O)OC)O)OC(=O)C)CC)OC)C(=O)OC)O",
         "JXLYSJRDGCGARV-CFWMRBGOSA-N",
         "C46H58N4O9",
         "811.0"
        ],
        [
         "14",
         "SMI_129",
         "vincoblastine",
         "13342",
         "CCC1(CC2CC(C3=C(CCN(C2)C1)C4=CC=CC=C4N3)(C5=C(C=C6C(=C5)C78CCN9C7C(C=CC9)(C(C(C8N6C)(C(=O)OC)O)OC(=O)C)CC)OC)C(=O)OC)O",
         "JXLYSJRDGCGARV-CFWMRBGOSA-N",
         "C46H58N4O9",
         "811.0"
        ],
        [
         "15",
         "SMI_129",
         "nsc 49842",
         "13342",
         "CCC1(CC2CC(C3=C(CCN(C2)C1)C4=CC=CC=C4N3)(C5=C(C=C6C(=C5)C78CCN9C7C(C=CC9)(C(C(C8N6C)(C(=O)OC)O)OC(=O)C)CC)OC)C(=O)OC)O",
         "JXLYSJRDGCGARV-CFWMRBGOSA-N",
         "C46H58N4O9",
         "811.0"
        ],
        [
         "16",
         "SMI_129",
         "vinblastine [vandf]",
         "13342",
         "CCC1(CC2CC(C3=C(CCN(C2)C1)C4=CC=CC=C4N3)(C5=C(C=C6C(=C5)C78CCN9C7C(C=CC9)(C(C(C8N6C)(C(=O)OC)O)OC(=O)C)CC)OC)C(=O)OC)O",
         "JXLYSJRDGCGARV-CFWMRBGOSA-N",
         "C46H58N4O9",
         "811.0"
        ],
        [
         "17",
         "SMI_129",
         "bspbio_001228",
         "13342",
         "CCC1(CC2CC(C3=C(CCN(C2)C1)C4=CC=CC=C4N3)(C5=C(C=C6C(=C5)C78CCN9C7C(C=CC9)(C(C(C8N6C)(C(=O)OC)O)OC(=O)C)CC)OC)C(=O)OC)O",
         "JXLYSJRDGCGARV-CFWMRBGOSA-N",
         "C46H58N4O9",
         "811.0"
        ],
        [
         "18",
         "SMI_129",
         "as-15821",
         "13342",
         "CCC1(CC2CC(C3=C(CCN(C2)C1)C4=CC=CC=C4N3)(C5=C(C=C6C(=C5)C78CCN9C7C(C=CC9)(C(C(C8N6C)(C(=O)OC)O)OC(=O)C)CC)OC)C(=O)OC)O",
         "JXLYSJRDGCGARV-CFWMRBGOSA-N",
         "C46H58N4O9",
         "811.0"
        ],
        [
         "19",
         "SMI_129",
         "einecs 212-734-0",
         "13342",
         "CCC1(CC2CC(C3=C(CCN(C2)C1)C4=CC=CC=C4N3)(C5=C(C=C6C(=C5)C78CCN9C7C(C=CC9)(C(C(C8N6C)(C(=O)OC)O)OC(=O)C)CC)OC)C(=O)OC)O",
         "JXLYSJRDGCGARV-CFWMRBGOSA-N",
         "C46H58N4O9",
         "811.0"
        ],
        [
         "20",
         "SMI_129",
         "(2alpha,2'beta,3beta,4alpha,5beta)-vincaleukoblastine",
         "13342",
         "CCC1(CC2CC(C3=C(CCN(C2)C1)C4=CC=CC=C4N3)(C5=C(C=C6C(=C5)C78CCN9C7C(C=CC9)(C(C(C8N6C)(C(=O)OC)O)OC(=O)C)CC)OC)C(=O)OC)O",
         "JXLYSJRDGCGARV-CFWMRBGOSA-N",
         "C46H58N4O9",
         "811.0"
        ],
        [
         "21",
         "SMI_129",
         "methyl (1r,9r,10s,11r,12r,19r)-11-acetyloxy-12-ethyl-4-[(13s,15r,17s)-17-ethyl-17-hydroxy-13-methoxycarbonyl-1,11-diazatetracyclo[13.3.1.04,12.05,10]nonadeca-4(12),5,7,9-tetraen-13-yl]-10-hydroxy-5-methoxy-8-methyl-8,16-diazapentacyclo[10.6.1.01,9.02,7.016,19]nonadeca-2,4,6,13-tetraene-10-carboxylate",
         "13342",
         "CCC1(CC2CC(C3=C(CCN(C2)C1)C4=CC=CC=C4N3)(C5=C(C=C6C(=C5)C78CCN9C7C(C=CC9)(C(C(C8N6C)(C(=O)OC)O)OC(=O)C)CC)OC)C(=O)OC)O",
         "JXLYSJRDGCGARV-CFWMRBGOSA-N",
         "C46H58N4O9",
         "811.0"
        ],
        [
         "22",
         "SMI_129",
         "vinblastine [hsdb]",
         "13342",
         "CCC1(CC2CC(C3=C(CCN(C2)C1)C4=CC=CC=C4N3)(C5=C(C=C6C(=C5)C78CCN9C7C(C=CC9)(C(C(C8N6C)(C(=O)OC)O)OC(=O)C)CC)OC)C(=O)OC)O",
         "JXLYSJRDGCGARV-CFWMRBGOSA-N",
         "C46H58N4O9",
         "811.0"
        ],
        [
         "23",
         "SMI_129",
         "schembl3628",
         "13342",
         "CCC1(CC2CC(C3=C(CCN(C2)C1)C4=CC=CC=C4N3)(C5=C(C=C6C(=C5)C78CCN9C7C(C=CC9)(C(C(C8N6C)(C(=O)OC)O)OC(=O)C)CC)OC)C(=O)OC)O",
         "JXLYSJRDGCGARV-CFWMRBGOSA-N",
         "C46H58N4O9",
         "811.0"
        ],
        [
         "24",
         "SMI_129",
         "bdbm50012278",
         "13342",
         "CCC1(CC2CC(C3=C(CCN(C2)C1)C4=CC=CC=C4N3)(C5=C(C=C6C(=C5)C78CCN9C7C(C=CC9)(C(C(C8N6C)(C(=O)OC)O)OC(=O)C)CC)OC)C(=O)OC)O",
         "JXLYSJRDGCGARV-CFWMRBGOSA-N",
         "C46H58N4O9",
         "811.0"
        ],
        [
         "25",
         "SMI_129",
         "(3ar-(3aalpha,4beta,5beta,5abeta,9(3r*,5s*,7r*,9s*),10br*,13aalpha))-methyl 4-(acetyloxy)-3a-ethyl-9-(5-ethyl-1,4,5,6,7,8,9,10-octahydro-5-hydroxy-9-(methoxycarbonyl)-2h-3,7-methanoazacycloundecino(5,4-b)indol-9-yl)-3a,4,5,5a,6,11,12,13a-octahydro-5-hydroxy-8-methoxy-6-methyl-1h-indolizino(8,1-cd)carbazole-5-carboxylate",
         "13342",
         "CCC1(CC2CC(C3=C(CCN(C2)C1)C4=CC=CC=C4N3)(C5=C(C=C6C(=C5)C78CCN9C7C(C=CC9)(C(C(C8N6C)(C(=O)OC)O)OC(=O)C)CC)OC)C(=O)OC)O",
         "JXLYSJRDGCGARV-CFWMRBGOSA-N",
         "C46H58N4O9",
         "811.0"
        ],
        [
         "26",
         "SMI_129",
         "vlb",
         "13342",
         "CCC1(CC2CC(C3=C(CCN(C2)C1)C4=CC=CC=C4N3)(C5=C(C=C6C(=C5)C78CCN9C7C(C=CC9)(C(C(C8N6C)(C(=O)OC)O)OC(=O)C)CC)OC)C(=O)OC)O",
         "JXLYSJRDGCGARV-CFWMRBGOSA-N",
         "C46H58N4O9",
         "811.0"
        ],
        [
         "27",
         "SMI_129",
         "[3h]-vinblastine",
         "13342",
         "CCC1(CC2CC(C3=C(CCN(C2)C1)C4=CC=CC=C4N3)(C5=C(C=C6C(=C5)C78CCN9C7C(C=CC9)(C(C(C8N6C)(C(=O)OC)O)OC(=O)C)CC)OC)C(=O)OC)O",
         "JXLYSJRDGCGARV-CFWMRBGOSA-N",
         "C46H58N4O9",
         "811.0"
        ],
        [
         "28",
         "SMI_129",
         "vinblastin",
         "13342",
         "CCC1(CC2CC(C3=C(CCN(C2)C1)C4=CC=CC=C4N3)(C5=C(C=C6C(=C5)C78CCN9C7C(C=CC9)(C(C(C8N6C)(C(=O)OC)O)OC(=O)C)CC)OC)C(=O)OC)O",
         "JXLYSJRDGCGARV-CFWMRBGOSA-N",
         "C46H58N4O9",
         "811.0"
        ],
        [
         "29",
         "SMI_129",
         "akos015965500",
         "13342",
         "CCC1(CC2CC(C3=C(CCN(C2)C1)C4=CC=CC=C4N3)(C5=C(C=C6C(=C5)C78CCN9C7C(C=CC9)(C(C(C8N6C)(C(=O)OC)O)OC(=O)C)CC)OC)C(=O)OC)O",
         "JXLYSJRDGCGARV-CFWMRBGOSA-N",
         "C46H58N4O9",
         "811.0"
        ],
        [
         "30",
         "SMI_129",
         "vinblastinum [inn-latin]",
         "13342",
         "CCC1(CC2CC(C3=C(CCN(C2)C1)C4=CC=CC=C4N3)(C5=C(C=C6C(=C5)C78CCN9C7C(C=CC9)(C(C(C8N6C)(C(=O)OC)O)OC(=O)C)CC)OC)C(=O)OC)O",
         "JXLYSJRDGCGARV-CFWMRBGOSA-N",
         "C46H58N4O9",
         "811.0"
        ],
        [
         "31",
         "SMI_129",
         "vinblastinum",
         "13342",
         "CCC1(CC2CC(C3=C(CCN(C2)C1)C4=CC=CC=C4N3)(C5=C(C=C6C(=C5)C78CCN9C7C(C=CC9)(C(C(C8N6C)(C(=O)OC)O)OC(=O)C)CC)OC)C(=O)OC)O",
         "JXLYSJRDGCGARV-CFWMRBGOSA-N",
         "C46H58N4O9",
         "811.0"
        ],
        [
         "32",
         "SMI_129",
         "ncgc00022585-04",
         "13342",
         "CCC1(CC2CC(C3=C(CCN(C2)C1)C4=CC=CC=C4N3)(C5=C(C=C6C(=C5)C78CCN9C7C(C=CC9)(C(C(C8N6C)(C(=O)OC)O)OC(=O)C)CC)OC)C(=O)OC)O",
         "JXLYSJRDGCGARV-CFWMRBGOSA-N",
         "C46H58N4O9",
         "811.0"
        ],
        [
         "33",
         "SMI_129",
         "rozevin",
         "13342",
         "CCC1(CC2CC(C3=C(CCN(C2)C1)C4=CC=CC=C4N3)(C5=C(C=C6C(=C5)C78CCN9C7C(C=CC9)(C(C(C8N6C)(C(=O)OC)O)OC(=O)C)CC)OC)C(=O)OC)O",
         "JXLYSJRDGCGARV-CFWMRBGOSA-N",
         "C46H58N4O9",
         "811.0"
        ],
        [
         "34",
         "SMI_129",
         "unii-5v9klz54cy",
         "13342",
         "CCC1(CC2CC(C3=C(CCN(C2)C1)C4=CC=CC=C4N3)(C5=C(C=C6C(=C5)C78CCN9C7C(C=CC9)(C(C(C8N6C)(C(=O)OC)O)OC(=O)C)CC)OC)C(=O)OC)O",
         "JXLYSJRDGCGARV-CFWMRBGOSA-N",
         "C46H58N4O9",
         "811.0"
        ],
        [
         "35",
         "SMI_129",
         "ncgc00022585-05",
         "13342",
         "CCC1(CC2CC(C3=C(CCN(C2)C1)C4=CC=CC=C4N3)(C5=C(C=C6C(=C5)C78CCN9C7C(C=CC9)(C(C(C8N6C)(C(=O)OC)O)OC(=O)C)CC)OC)C(=O)OC)O",
         "JXLYSJRDGCGARV-CFWMRBGOSA-N",
         "C46H58N4O9",
         "811.0"
        ],
        [
         "36",
         "SMI_129",
         "vinblastine [inn]",
         "13342",
         "CCC1(CC2CC(C3=C(CCN(C2)C1)C4=CC=CC=C4N3)(C5=C(C=C6C(=C5)C78CCN9C7C(C=CC9)(C(C(C8N6C)(C(=O)OC)O)OC(=O)C)CC)OC)C(=O)OC)O",
         "JXLYSJRDGCGARV-CFWMRBGOSA-N",
         "C46H58N4O9",
         "811.0"
        ],
        [
         "37",
         "SMI_129",
         "vinblastinum (inn-latin)",
         "13342",
         "CCC1(CC2CC(C3=C(CCN(C2)C1)C4=CC=CC=C4N3)(C5=C(C=C6C(=C5)C78CCN9C7C(C=CC9)(C(C(C8N6C)(C(=O)OC)O)OC(=O)C)CC)OC)C(=O)OC)O",
         "JXLYSJRDGCGARV-CFWMRBGOSA-N",
         "C46H58N4O9",
         "811.0"
        ],
        [
         "38",
         "SMI_129",
         "bidd:pxr0201",
         "13342",
         "CCC1(CC2CC(C3=C(CCN(C2)C1)C4=CC=CC=C4N3)(C5=C(C=C6C(=C5)C78CCN9C7C(C=CC9)(C(C(C8N6C)(C(=O)OC)O)OC(=O)C)CC)OC)C(=O)OC)O",
         "JXLYSJRDGCGARV-CFWMRBGOSA-N",
         "C46H58N4O9",
         "811.0"
        ],
        [
         "39",
         "SMI_129",
         "vinblastine [who-dd]",
         "13342",
         "CCC1(CC2CC(C3=C(CCN(C2)C1)C4=CC=CC=C4N3)(C5=C(C=C6C(=C5)C78CCN9C7C(C=CC9)(C(C(C8N6C)(C(=O)OC)O)OC(=O)C)CC)OC)C(=O)OC)O",
         "JXLYSJRDGCGARV-CFWMRBGOSA-N",
         "C46H58N4O9",
         "811.0"
        ],
        [
         "40",
         "SMI_129",
         "brd-k01188359-065-02-5",
         "13342",
         "CCC1(CC2CC(C3=C(CCN(C2)C1)C4=CC=CC=C4N3)(C5=C(C=C6C(=C5)C78CCN9C7C(C=CC9)(C(C(C8N6C)(C(=O)OC)O)OC(=O)C)CC)OC)C(=O)OC)O",
         "JXLYSJRDGCGARV-CFWMRBGOSA-N",
         "C46H58N4O9",
         "811.0"
        ],
        [
         "41",
         "SMI_129",
         "ncgc00485975-02",
         "13342",
         "CCC1(CC2CC(C3=C(CCN(C2)C1)C4=CC=CC=C4N3)(C5=C(C=C6C(=C5)C78CCN9C7C(C=CC9)(C(C(C8N6C)(C(=O)OC)O)OC(=O)C)CC)OC)C(=O)OC)O",
         "JXLYSJRDGCGARV-CFWMRBGOSA-N",
         "C46H58N4O9",
         "811.0"
        ],
        [
         "42",
         "SMI_129",
         "brd-k01188359-001-03-8",
         "13342",
         "CCC1(CC2CC(C3=C(CCN(C2)C1)C4=CC=CC=C4N3)(C5=C(C=C6C(=C5)C78CCN9C7C(C=CC9)(C(C(C8N6C)(C(=O)OC)O)OC(=O)C)CC)OC)C(=O)OC)O",
         "JXLYSJRDGCGARV-CFWMRBGOSA-N",
         "C46H58N4O9",
         "811.0"
        ],
        [
         "43",
         "SMI_129",
         "vincaleucoblastin",
         "13342",
         "CCC1(CC2CC(C3=C(CCN(C2)C1)C4=CC=CC=C4N3)(C5=C(C=C6C(=C5)C78CCN9C7C(C=CC9)(C(C(C8N6C)(C(=O)OC)O)OC(=O)C)CC)OC)C(=O)OC)O",
         "JXLYSJRDGCGARV-CFWMRBGOSA-N",
         "C46H58N4O9",
         "811.0"
        ],
        [
         "44",
         "SMI_129",
         "132142-72-4",
         "13342",
         "CCC1(CC2CC(C3=C(CCN(C2)C1)C4=CC=CC=C4N3)(C5=C(C=C6C(=C5)C78CCN9C7C(C=CC9)(C(C(C8N6C)(C(=O)OC)O)OC(=O)C)CC)OC)C(=O)OC)O",
         "JXLYSJRDGCGARV-CFWMRBGOSA-N",
         "C46H58N4O9",
         "811.0"
        ],
        [
         "45",
         "SMI_129",
         "vinblastine [inn:ban]",
         "13342",
         "CCC1(CC2CC(C3=C(CCN(C2)C1)C4=CC=CC=C4N3)(C5=C(C=C6C(=C5)C78CCN9C7C(C=CC9)(C(C(C8N6C)(C(=O)OC)O)OC(=O)C)CC)OC)C(=O)OC)O",
         "JXLYSJRDGCGARV-CFWMRBGOSA-N",
         "C46H58N4O9",
         "811.0"
        ],
        [
         "46",
         "SMI_129",
         "nsc 47842",
         "13342",
         "CCC1(CC2CC(C3=C(CCN(C2)C1)C4=CC=CC=C4N3)(C5=C(C=C6C(=C5)C78CCN9C7C(C=CC9)(C(C(C8N6C)(C(=O)OC)O)OC(=O)C)CC)OC)C(=O)OC)O",
         "JXLYSJRDGCGARV-CFWMRBGOSA-N",
         "C46H58N4O9",
         "811.0"
        ],
        [
         "47",
         "SMI_129",
         "(2alpha,2''''beta,3beta,4alpha,5beta)-vincaleukoblastine",
         "13342",
         "CCC1(CC2CC(C3=C(CCN(C2)C1)C4=CC=CC=C4N3)(C5=C(C=C6C(=C5)C78CCN9C7C(C=CC9)(C(C(C8N6C)(C(=O)OC)O)OC(=O)C)CC)OC)C(=O)OC)O",
         "JXLYSJRDGCGARV-CFWMRBGOSA-N",
         "C46H58N4O9",
         "811.0"
        ],
        [
         "48",
         "SMI_129",
         "vinblastine [mi]",
         "13342",
         "CCC1(CC2CC(C3=C(CCN(C2)C1)C4=CC=CC=C4N3)(C5=C(C=C6C(=C5)C78CCN9C7C(C=CC9)(C(C(C8N6C)(C(=O)OC)O)OC(=O)C)CC)OC)C(=O)OC)O",
         "JXLYSJRDGCGARV-CFWMRBGOSA-N",
         "C46H58N4O9",
         "811.0"
        ],
        [
         "49",
         "SMI_129",
         "methyl (1r,9r,10s,11r,12r,19r)-11-(acetyloxy)-12-ethyl-4-[(13s,15r,17s)-17-ethyl-17-hydroxy-13-(methoxycarbonyl)-1,11-diazatetracyclo[13.3.1.0^{4,12}.0^{5,10}]nonadeca-4(12),5(10),6,8-tetraen-13-yl]-10-hydroxy-5-methoxy-8-methyl-8,16-diazapentacyclo[10.6.1.0^{1,9}.0^{2,7}.0^{16,19}]nonadeca-2,4,6,13-tetraene-10-carboxylate",
         "13342",
         "CCC1(CC2CC(C3=C(CCN(C2)C1)C4=CC=CC=C4N3)(C5=C(C=C6C(=C5)C78CCN9C7C(C=CC9)(C(C(C8N6C)(C(=O)OC)O)OC(=O)C)CC)OC)C(=O)OC)O",
         "JXLYSJRDGCGARV-CFWMRBGOSA-N",
         "C46H58N4O9",
         "811.0"
        ]
       ],
       "shape": {
        "columns": 7,
        "rows": 13590
       }
      },
      "text/html": [
       "<div>\n",
       "<style scoped>\n",
       "    .dataframe tbody tr th:only-of-type {\n",
       "        vertical-align: middle;\n",
       "    }\n",
       "\n",
       "    .dataframe tbody tr th {\n",
       "        vertical-align: top;\n",
       "    }\n",
       "\n",
       "    .dataframe thead th {\n",
       "        text-align: right;\n",
       "    }\n",
       "</style>\n",
       "<table border=\"1\" class=\"dataframe\">\n",
       "  <thead>\n",
       "    <tr style=\"text-align: right;\">\n",
       "      <th></th>\n",
       "      <th>improve_drug_id</th>\n",
       "      <th>chem_name</th>\n",
       "      <th>pubchem_id</th>\n",
       "      <th>canSMILES</th>\n",
       "      <th>InChIKey</th>\n",
       "      <th>formula</th>\n",
       "      <th>weight</th>\n",
       "    </tr>\n",
       "  </thead>\n",
       "  <tbody>\n",
       "    <tr>\n",
       "      <th>0</th>\n",
       "      <td>SMI_129</td>\n",
       "      <td>(3ar-(3aalpha,4beta,5beta,5abeta,9(3r*,5s*,7r*...</td>\n",
       "      <td>13342</td>\n",
       "      <td>CCC1(CC2CC(C3=C(CCN(C2)C1)C4=CC=CC=C4N3)(C5=C(...</td>\n",
       "      <td>JXLYSJRDGCGARV-CFWMRBGOSA-N</td>\n",
       "      <td>C46H58N4O9</td>\n",
       "      <td>811.00</td>\n",
       "    </tr>\n",
       "    <tr>\n",
       "      <th>1</th>\n",
       "      <td>SMI_129</td>\n",
       "      <td>vr-8</td>\n",
       "      <td>13342</td>\n",
       "      <td>CCC1(CC2CC(C3=C(CCN(C2)C1)C4=CC=CC=C4N3)(C5=C(...</td>\n",
       "      <td>JXLYSJRDGCGARV-CFWMRBGOSA-N</td>\n",
       "      <td>C46H58N4O9</td>\n",
       "      <td>811.00</td>\n",
       "    </tr>\n",
       "    <tr>\n",
       "      <th>2</th>\n",
       "      <td>SMI_129</td>\n",
       "      <td>nci-c04842</td>\n",
       "      <td>13342</td>\n",
       "      <td>CCC1(CC2CC(C3=C(CCN(C2)C1)C4=CC=CC=C4N3)(C5=C(...</td>\n",
       "      <td>JXLYSJRDGCGARV-CFWMRBGOSA-N</td>\n",
       "      <td>C46H58N4O9</td>\n",
       "      <td>811.00</td>\n",
       "    </tr>\n",
       "    <tr>\n",
       "      <th>3</th>\n",
       "      <td>SMI_129</td>\n",
       "      <td>nincaluicolflastine</td>\n",
       "      <td>13342</td>\n",
       "      <td>CCC1(CC2CC(C3=C(CCN(C2)C1)C4=CC=CC=C4N3)(C5=C(...</td>\n",
       "      <td>JXLYSJRDGCGARV-CFWMRBGOSA-N</td>\n",
       "      <td>C46H58N4O9</td>\n",
       "      <td>811.00</td>\n",
       "    </tr>\n",
       "    <tr>\n",
       "      <th>4</th>\n",
       "      <td>SMI_129</td>\n",
       "      <td>chembl159</td>\n",
       "      <td>13342</td>\n",
       "      <td>CCC1(CC2CC(C3=C(CCN(C2)C1)C4=CC=CC=C4N3)(C5=C(...</td>\n",
       "      <td>JXLYSJRDGCGARV-CFWMRBGOSA-N</td>\n",
       "      <td>C46H58N4O9</td>\n",
       "      <td>811.00</td>\n",
       "    </tr>\n",
       "    <tr>\n",
       "      <th>...</th>\n",
       "      <td>...</td>\n",
       "      <td>...</td>\n",
       "      <td>...</td>\n",
       "      <td>...</td>\n",
       "      <td>...</td>\n",
       "      <td>...</td>\n",
       "      <td>...</td>\n",
       "    </tr>\n",
       "    <tr>\n",
       "      <th>13585</th>\n",
       "      <td>SMI_50270</td>\n",
       "      <td>akos024464752</td>\n",
       "      <td>46239015</td>\n",
       "      <td>CN1C=C(C=N1)C2=C3N=C(C(=C(N3N=C2)N)Br)C4CCCNC4</td>\n",
       "      <td>GMIZZEXBPRLVIV-SECBINFHSA-N</td>\n",
       "      <td>C15H18BrN7</td>\n",
       "      <td>376.25</td>\n",
       "    </tr>\n",
       "    <tr>\n",
       "      <th>13586</th>\n",
       "      <td>SMI_50270</td>\n",
       "      <td>k2zsf0992c</td>\n",
       "      <td>46239015</td>\n",
       "      <td>CN1C=C(C=N1)C2=C3N=C(C(=C(N3N=C2)N)Br)C4CCCNC4</td>\n",
       "      <td>GMIZZEXBPRLVIV-SECBINFHSA-N</td>\n",
       "      <td>C15H18BrN7</td>\n",
       "      <td>376.25</td>\n",
       "    </tr>\n",
       "    <tr>\n",
       "      <th>13587</th>\n",
       "      <td>SMI_50270</td>\n",
       "      <td>mk-8776 dihydrochloride</td>\n",
       "      <td>46239015</td>\n",
       "      <td>CN1C=C(C=N1)C2=C3N=C(C(=C(N3N=C2)N)Br)C4CCCNC4</td>\n",
       "      <td>GMIZZEXBPRLVIV-SECBINFHSA-N</td>\n",
       "      <td>C15H18BrN7</td>\n",
       "      <td>376.25</td>\n",
       "    </tr>\n",
       "    <tr>\n",
       "      <th>13588</th>\n",
       "      <td>SMI_50270</td>\n",
       "      <td>brd-k75009076-001-02-1</td>\n",
       "      <td>46239015</td>\n",
       "      <td>CN1C=C(C=N1)C2=C3N=C(C(=C(N3N=C2)N)Br)C4CCCNC4</td>\n",
       "      <td>GMIZZEXBPRLVIV-SECBINFHSA-N</td>\n",
       "      <td>C15H18BrN7</td>\n",
       "      <td>376.25</td>\n",
       "    </tr>\n",
       "    <tr>\n",
       "      <th>13589</th>\n",
       "      <td>SMI_50270</td>\n",
       "      <td>hy-15532</td>\n",
       "      <td>46239015</td>\n",
       "      <td>CN1C=C(C=N1)C2=C3N=C(C(=C(N3N=C2)N)Br)C4CCCNC4</td>\n",
       "      <td>GMIZZEXBPRLVIV-SECBINFHSA-N</td>\n",
       "      <td>C15H18BrN7</td>\n",
       "      <td>376.25</td>\n",
       "    </tr>\n",
       "  </tbody>\n",
       "</table>\n",
       "<p>13590 rows × 7 columns</p>\n",
       "</div>"
      ],
      "text/plain": [
       "      improve_drug_id                                          chem_name  \\\n",
       "0             SMI_129  (3ar-(3aalpha,4beta,5beta,5abeta,9(3r*,5s*,7r*...   \n",
       "1             SMI_129                                               vr-8   \n",
       "2             SMI_129                                         nci-c04842   \n",
       "3             SMI_129                                nincaluicolflastine   \n",
       "4             SMI_129                                          chembl159   \n",
       "...               ...                                                ...   \n",
       "13585       SMI_50270                                      akos024464752   \n",
       "13586       SMI_50270                                         k2zsf0992c   \n",
       "13587       SMI_50270                            mk-8776 dihydrochloride   \n",
       "13588       SMI_50270                             brd-k75009076-001-02-1   \n",
       "13589       SMI_50270                                           hy-15532   \n",
       "\n",
       "       pubchem_id                                          canSMILES  \\\n",
       "0           13342  CCC1(CC2CC(C3=C(CCN(C2)C1)C4=CC=CC=C4N3)(C5=C(...   \n",
       "1           13342  CCC1(CC2CC(C3=C(CCN(C2)C1)C4=CC=CC=C4N3)(C5=C(...   \n",
       "2           13342  CCC1(CC2CC(C3=C(CCN(C2)C1)C4=CC=CC=C4N3)(C5=C(...   \n",
       "3           13342  CCC1(CC2CC(C3=C(CCN(C2)C1)C4=CC=CC=C4N3)(C5=C(...   \n",
       "4           13342  CCC1(CC2CC(C3=C(CCN(C2)C1)C4=CC=CC=C4N3)(C5=C(...   \n",
       "...           ...                                                ...   \n",
       "13585    46239015     CN1C=C(C=N1)C2=C3N=C(C(=C(N3N=C2)N)Br)C4CCCNC4   \n",
       "13586    46239015     CN1C=C(C=N1)C2=C3N=C(C(=C(N3N=C2)N)Br)C4CCCNC4   \n",
       "13587    46239015     CN1C=C(C=N1)C2=C3N=C(C(=C(N3N=C2)N)Br)C4CCCNC4   \n",
       "13588    46239015     CN1C=C(C=N1)C2=C3N=C(C(=C(N3N=C2)N)Br)C4CCCNC4   \n",
       "13589    46239015     CN1C=C(C=N1)C2=C3N=C(C(=C(N3N=C2)N)Br)C4CCCNC4   \n",
       "\n",
       "                          InChIKey     formula  weight  \n",
       "0      JXLYSJRDGCGARV-CFWMRBGOSA-N  C46H58N4O9  811.00  \n",
       "1      JXLYSJRDGCGARV-CFWMRBGOSA-N  C46H58N4O9  811.00  \n",
       "2      JXLYSJRDGCGARV-CFWMRBGOSA-N  C46H58N4O9  811.00  \n",
       "3      JXLYSJRDGCGARV-CFWMRBGOSA-N  C46H58N4O9  811.00  \n",
       "4      JXLYSJRDGCGARV-CFWMRBGOSA-N  C46H58N4O9  811.00  \n",
       "...                            ...         ...     ...  \n",
       "13585  GMIZZEXBPRLVIV-SECBINFHSA-N  C15H18BrN7  376.25  \n",
       "13586  GMIZZEXBPRLVIV-SECBINFHSA-N  C15H18BrN7  376.25  \n",
       "13587  GMIZZEXBPRLVIV-SECBINFHSA-N  C15H18BrN7  376.25  \n",
       "13588  GMIZZEXBPRLVIV-SECBINFHSA-N  C15H18BrN7  376.25  \n",
       "13589  GMIZZEXBPRLVIV-SECBINFHSA-N  C15H18BrN7  376.25  \n",
       "\n",
       "[13590 rows x 7 columns]"
      ]
     },
     "execution_count": 206,
     "metadata": {},
     "output_type": "execute_result"
    }
   ],
   "source": [
    "data.drugs[data.drugs['improve_drug_id'].isin(data.experiments['improve_drug_id'].unique())]"
   ]
  },
  {
   "cell_type": "markdown",
   "metadata": {},
   "source": [
    "To make sure that we only be using data that is related to the selected drug we further need to subset the training / testing (and validation) data."
   ]
  },
  {
   "cell_type": "code",
   "execution_count": 207,
   "metadata": {},
   "outputs": [],
   "source": [
    "def filter_by_drugid(data, drug_id):\n",
    "    data_ret = deepcopy(data)\n",
    "    \n",
    "    data_ret.experiments = data_ret.experiments[\n",
    "        data_ret.experiments['improve_drug_id'] == drug_id\n",
    "        ]\n",
    "    data_ret.drugs = data_ret.drugs[\n",
    "        data_ret.drugs['improve_drug_id'] == drug_id\n",
    "        ]\n",
    "    \n",
    "    sample_ids = data_ret.experiments['improve_sample_id'].unique()\n",
    "\n",
    "    data_ret.mutations = data_ret.mutations[\n",
    "        data_ret.mutations['improve_sample_id'].isin(sample_ids)\n",
    "        ]\n",
    "    data_ret.proteomics = data_ret.proteomics[\n",
    "        data_ret.proteomics['improve_sample_id'].isin(sample_ids)\n",
    "        ]\n",
    "    data_ret.samples = data_ret.samples[\n",
    "        data_ret.samples['improve_sample_id'].isin(sample_ids)\n",
    "        ]\n",
    "    data_ret.transcriptomics = data_ret.transcriptomics[\n",
    "        data_ret.transcriptomics['improve_sample_id'].isin(sample_ids)\n",
    "        ]\n",
    "    \n",
    "    return data_ret"
   ]
  },
  {
   "cell_type": "markdown",
   "metadata": {},
   "source": [
    "Next we can generate the training, testing (and validation) splits. We are also going to define the arguments for the `coderdata` splitting function:"
   ]
  },
  {
   "cell_type": "code",
   "execution_count": 208,
   "metadata": {},
   "outputs": [],
   "source": [
    "def generate_model_input_matrices(\n",
    "        data: cd.Dataset,\n",
    "        split: cd.Dataset,\n",
    "        features:list,\n",
    "        response_metric: str\n",
    "        ) -> np.ndarray:\n",
    "    \n",
    "    \n",
    "    d_response = data.format(\n",
    "        data_type='experiments',\n",
    "        shape='wide',\n",
    "        metrics=response_metric\n",
    "        )\n",
    "    if len(features) == 1:\n",
    "        d_feature_tmp = data.format(\n",
    "            data_type=features[0],\n",
    "            ).reset_index()\n",
    "    else:\n",
    "        feature = features[0]\n",
    "        if feature in ['transcriptomics', 'proteomics']:\n",
    "            d_feature_tmp = data.format(\n",
    "                data_type=feature,\n",
    "                ).reset_index()\n",
    "        elif feature == 'mutations':\n",
    "            d_feature_tmp = data.format(\n",
    "                data_type=feature, mutation_type='Misssense_Mutation',\n",
    "                ).reset_index()\n",
    "    # else:\n",
    "    #     raise NotImplementedError(\"more than 1 feature type currently not implemented\")\n",
    "    \n",
    "    improve_sample_ids = split.experiments['improve_sample_id']\n",
    "\n",
    "    d_feature_tmp = d_feature_tmp[d_feature_tmp['improve_sample_id'].isin(improve_sample_ids)]\n",
    "    y = d_response.loc[d_response['improve_sample_id'].isin(d_feature_tmp['improve_sample_id']), response_metric].to_numpy()\n",
    "    x = d_feature_tmp.loc[:, d_feature_tmp.columns != 'improve_sample_id'].to_numpy(na_value=0)\n",
    "    \n",
    "    return x, y"
   ]
  },
  {
   "cell_type": "code",
   "execution_count": 209,
   "metadata": {},
   "outputs": [],
   "source": [
    "en_model = LM.ElasticNet( \n",
    "    random_state=0,\n",
    "    max_iter=100000, \n",
    "    fit_intercept=True,\n",
    "    l1_ratio=.7,\n",
    "    alpha=.9,\n",
    ")\n",
    "\n",
    "lasso_model = LM.Lasso(\n",
    "    alpha=0.1,\n",
    "    max_iter=100000, \n",
    "    fit_intercept=True,\n",
    ")\n",
    "\n",
    "svm_model = svm.SVR(C=1.0, epsilon=0.2, kernel='linear')\n",
    "svc_model = svm.SVC(C=1.0, kernel='linear')\n",
    "\n",
    "def run_sklearn(x_train, y_train, x_test, y_test, model, model_name, binarize=False):\n",
    "        \n",
    "    # don't think we need scaling? Can add in pretty quickly if we do\n",
    "#     pipe = pipeline.Pipeline([\n",
    "# #         ('scaler', preprocessing.StandardScaler()),\n",
    "#         ('model', model)\n",
    "#     ])\n",
    "    if binarize:\n",
    "        y_train, y_test = convert_to_binary(y_train, y_test)\n",
    "    \n",
    "    model.fit(x_train, y_train)\n",
    "    train_pred = model.predict(x_train)\n",
    "    preds = model.predict(x_test)\n",
    "    error, r2, pearson = score_all(y_test, preds)\n",
    "    coef = np.array(model.coef_).flatten()\n",
    "    # feature_names = model.feature_names_in_[coef>0]\n",
    "    auc = np.nan\n",
    "    if binarize:\n",
    "        auc = metrics.average_precision_score(y_test, preds)\n",
    "    return {\n",
    "        'test_prediction': preds,\n",
    "        'train_prediction': train_pred,\n",
    "        'pearsonr': pearsonr(y_test, preds)[0],\n",
    "        'mse': error,\n",
    "        'r2' : r2,\n",
    "        'model': model_name,\n",
    "        # 'feature_names': feature_names,\n",
    "        'auc': auc\n",
    "    }\n",
    "\n",
    "def convert_to_binary(y_train, y_test):\n",
    "    \"\"\" Binarize AUC \"\"\"\n",
    "    y_train_c = np.copy(y_train)\n",
    "    y_test_c = np.copy(y_test)\n",
    "    y_train_c[y_train_c<100] = 1\n",
    "    y_train_c[y_train_c>100] = 0\n",
    "    y_test_c[y_test_c<100] = 1\n",
    "    y_test_c[y_test_c>100] = 0\n",
    "    return y_train_c, y_test_c\n",
    "\n",
    "def score_all(y_test, preds):\n",
    "    error = np.sqrt(metrics.mean_squared_error(y_test, preds))\n",
    "    r2 = metrics.r2_score(y_test, preds)\n",
    "    pearson = pearsonr(y_test, preds)[0]\n",
    "    print(f\"RMSE: {error:0.3f} | R^2 {r2:0.3f} | R {pearson:0.3f}\")\n",
    "    return error, r2, pearson\n"
   ]
  },
  {
   "cell_type": "code",
   "execution_count": 210,
   "metadata": {},
   "outputs": [],
   "source": [
    "# drug_name = 'docetaxel'\n",
    "# drug_name = 'luminespib'\n",
    "# drug_name = 'cosmegen'\n",
    "drug_name = 'gemcitabine'\n",
    "# drug_name = 'paclitaxel'\n",
    "# drug_name = 'selumetinib'\n",
    "drug_id = data.drugs.loc[data.drugs['chem_name'] == drug_name, 'improve_drug_id'].values[0]"
   ]
  },
  {
   "cell_type": "code",
   "execution_count": null,
   "metadata": {},
   "outputs": [],
   "source": [
    "%%skip\n",
    "\n",
    "split_type = 'mixed-set'\n",
    "ratio = (8, 1, 1)\n",
    "random_state = 42\n",
    "\n",
    "data_filtered = filter_by_drugid(data, drug_id)\n",
    "split_filtered = data_filtered.split_train_test_validate(\n",
    "    split_type=split_type,\n",
    "    ratio=ratio,\n",
    "    stratify_by='fit_auc',\n",
    "    balance=True,\n",
    "    thresh=0.5,\n",
    "    random_state=random_state\n",
    ")\n",
    "train_filtered = split_filtered.train\n",
    "test_filtered = split_filtered.test\n",
    "val_filtered = split_filtered.validate"
   ]
  },
  {
   "cell_type": "code",
   "execution_count": 253,
   "metadata": {},
   "outputs": [],
   "source": [
    "# %%skip\n",
    "\n",
    "split_type = 'mixed-set'\n",
    "# split_type = 'cancer-blind'\n",
    "ratio = (9, 1)\n",
    "random_state = 42\n",
    "\n",
    "data_filtered = filter_by_drugid(data, drug_id)\n",
    "split_filtered = data_filtered.split_train_other(\n",
    "    split_type=split_type,\n",
    "    ratio=ratio,\n",
    "    stratify_by='fit_auc',\n",
    "    balance=True,\n",
    "    thresh=0.5,\n",
    "    random_state=random_state\n",
    ")\n",
    "train_filtered = split_filtered.train\n",
    "test_filtered = split_filtered.other"
   ]
  },
  {
   "cell_type": "code",
   "execution_count": 258,
   "metadata": {},
   "outputs": [],
   "source": [
    "response_metric = 'fit_auc'\n",
    "feature = 'transcriptomics'\n",
    "\n",
    "\n",
    "train_x, train_y = generate_model_input_matrices(\n",
    "    data=data_filtered,\n",
    "    split=train_filtered,\n",
    "    features=[feature],\n",
    "    response_metric=response_metric\n",
    "    )\n",
    "\n",
    "test_x, test_y = generate_model_input_matrices(\n",
    "    data=data_filtered,\n",
    "    split=test_filtered,\n",
    "    features=[feature],\n",
    "    response_metric=response_metric\n",
    "    )"
   ]
  },
  {
   "cell_type": "code",
   "execution_count": 249,
   "metadata": {},
   "outputs": [
    {
     "name": "stderr",
     "output_type": "stream",
     "text": [
      "/var/folders/81/d9jch6jj21z6tg8dndtgpry00000gn/T/ipykernel_9722/4041944660.py:61: ConstantInputWarning: An input array is constant; the correlation coefficient is not defined.\n",
      "  pearson = pearsonr(y_test, preds)[0]\n",
      "/var/folders/81/d9jch6jj21z6tg8dndtgpry00000gn/T/ipykernel_9722/4041944660.py:40: ConstantInputWarning: An input array is constant; the correlation coefficient is not defined.\n",
      "  'pearsonr': pearsonr(y_test, preds)[0],\n",
      "/var/folders/81/d9jch6jj21z6tg8dndtgpry00000gn/T/ipykernel_9722/4041944660.py:61: ConstantInputWarning: An input array is constant; the correlation coefficient is not defined.\n",
      "  pearson = pearsonr(y_test, preds)[0]\n",
      "/var/folders/81/d9jch6jj21z6tg8dndtgpry00000gn/T/ipykernel_9722/4041944660.py:40: ConstantInputWarning: An input array is constant; the correlation coefficient is not defined.\n",
      "  'pearsonr': pearsonr(y_test, preds)[0],\n"
     ]
    },
    {
     "name": "stdout",
     "output_type": "stream",
     "text": [
      "RMSE: 0.170 | R^2 -0.003 | R nan\n",
      "RMSE: 0.170 | R^2 -0.003 | R nan\n",
      "RMSE: 0.142 | R^2 0.294 | R 0.651\n"
     ]
    }
   ],
   "source": [
    "\n",
    "enet_results = run_sklearn(x_train=train_x, y_train=train_y, x_test=test_x, y_test=test_y, model=en_model, model_name='EN')\n",
    "lasso_results = run_sklearn(x_train=train_x, y_train=train_y, x_test=test_x, y_test=test_y, model=lasso_model, model_name='LASSO')\n",
    "svm_results = run_sklearn(x_train=train_x, y_train=train_y, x_test=test_x, y_test=test_y, model=svm_model, model_name='SVM')\n",
    "# svc_results = run_sklearn(x_train=train_x, y_train=train_y, x_test=test_x, y_test=test_y, model=svc_model, model_name='SVC')"
   ]
  },
  {
   "cell_type": "code",
   "execution_count": 239,
   "metadata": {},
   "outputs": [
    {
     "name": "stdout",
     "output_type": "stream",
     "text": [
      "RMSE: 0.159 | R^2 0.115 | R 0.651\n"
     ]
    },
    {
     "data": {
      "image/png": "[encoded data removed]",
      "text/plain": [
       "<Figure size 640x480 with 1 Axes>"
      ]
     },
     "metadata": {},
     "output_type": "display_data"
    }
   ],
   "source": [
    "avg = np.zeros(len(enet_results['test_prediction']))\n",
    "for i in [\n",
    "    # gbt_results,\n",
    "    enet_results, lasso_results, svm_results,\n",
    "    # svc_results\n",
    "    ]:\n",
    "    sns.regplot(x=test_y, y=i['test_prediction'], label=i['model'])\n",
    "    avg += i['test_prediction']\n",
    "avg = avg/3\n",
    "score_all(test_y, avg)\n",
    "sns.regplot(x=test_y, y=avg, label='Average')\n",
    "plt.xlabel(\"Actual\")\n",
    "plt.ylabel(\"Predicted\")\n",
    "plt.legend()\n",
    "plt.suptitle(f\"Drug: {drug_name}\")\n",
    "results = pd.DataFrame(\n",
    "    [\n",
    "        # gbt_results, gbt_binary_results,\n",
    "        enet_results, lasso_results, svm_results,\n",
    "        # svc_results\n",
    "        ]\n",
    ")"
   ]
  },
  {
   "cell_type": "code",
   "execution_count": null,
   "metadata": {},
   "outputs": [],
   "source": []
  },
  {
   "cell_type": "code",
   "execution_count": null,
   "metadata": {},
   "outputs": [],
   "source": []
  }
 ],
 "metadata": {
  "kernelspec": {
   "display_name": "coderdata-linear-model-test",
   "language": "python",
   "name": "python3"
  },
  "language_info": {
   "codemirror_mode": {
    "name": "ipython",
    "version": 3
   },
   "file_extension": ".py",
   "mimetype": "text/x-python",
   "name": "python",
   "nbconvert_exporter": "python",
   "pygments_lexer": "ipython3",
   "version": "3.13.2"
  }
 },
 "nbformat": 4,
 "nbformat_minor": 2
}

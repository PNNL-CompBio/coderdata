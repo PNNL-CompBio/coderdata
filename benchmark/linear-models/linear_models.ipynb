{
 "cells": [
  {
   "cell_type": "markdown",
   "metadata": {},
   "source": [
    "# Linear Model tests for GCSI using coderdata\n",
    "The goal is to evaluate the capability to predict drug responese AUC values of several linear models using the `coderdata` infrastructure for dataset generation."
   ]
  },
  {
   "cell_type": "markdown",
   "metadata": {},
   "source": [
    "## Imports & Dependecies"
   ]
  },
  {
   "cell_type": "code",
   "execution_count": 280,
   "metadata": {},
   "outputs": [],
   "source": [
    "from copy import deepcopy\n",
    "import logging\n",
    "import os\n",
    "from pathlib import Path\n",
    "\n",
    "import coderdata as cd\n",
    "import numpy as np\n",
    "\n",
    "from scipy.stats import pearsonr\n",
    "\n",
    "import matplotlib.pyplot as plt\n",
    "import seaborn as sns\n",
    "\n",
    "import pandas as pd\n",
    "\n",
    "import sklearn.linear_model as LM\n",
    "from sklearn import metrics\n",
    "from sklearn import svm"
   ]
  },
  {
   "cell_type": "markdown",
   "metadata": {},
   "source": [
    "The cell below sets up a \"magic\" function to skip the execution of a cell when rendering the notebook."
   ]
  },
  {
   "cell_type": "code",
   "execution_count": 281,
   "metadata": {},
   "outputs": [],
   "source": [
    "from IPython.core.magic import register_cell_magic\n",
    "@register_cell_magic\n",
    "def skip(line, cell):\n",
    "    return"
   ]
  },
  {
   "cell_type": "markdown",
   "metadata": {},
   "source": [
    "We also setup a logger for logging the progress."
   ]
  },
  {
   "cell_type": "code",
   "execution_count": 282,
   "metadata": {},
   "outputs": [],
   "source": [
    "logger = logging.getLogger('linear_models_logger')\n",
    "loglevel = logging.INFO # change to logging.DEBUG for increased verbosity\n",
    "logging.basicConfig(\n",
    "    format=\"{asctime} - {levelname} - {message}\",\n",
    "    style=\"{\",\n",
    "    datefmt=\"%Y-%m-%d %H:%M\",\n",
    "    level=loglevel\n",
    "    )"
   ]
  },
  {
   "cell_type": "markdown",
   "metadata": {},
   "source": [
    "## Data import\n",
    "We use `coderdata` to download and import drug response data as well as cancer metadata from the BeatAML study.\n",
    "\n",
    "First we generate a temporary folder (if it does not exist yet) and change into this directory."
   ]
  },
  {
   "cell_type": "code",
   "execution_count": 283,
   "metadata": {},
   "outputs": [],
   "source": [
    "local_path = Path('/tmp/coderdata_lin_mod_test')\n",
    "if not local_path.exists() or not local_path.is_dir():\n",
    "    local_path.mkdir(parents=True)\n",
    "os.chdir(local_path)"
   ]
  },
  {
   "cell_type": "markdown",
   "metadata": {},
   "source": [
    "Defining the dataset that we want to use (GCSI)"
   ]
  },
  {
   "cell_type": "code",
   "execution_count": 284,
   "metadata": {},
   "outputs": [],
   "source": [
    "dataset_name = 'gcsi'"
   ]
  },
  {
   "cell_type": "markdown",
   "metadata": {},
   "source": [
    "Once the data for GCSI has be retrieved by the cell below and is available locally, we can uncomment the `%%skip` command such that the cell below is skipped in consecutive executions of the notebook. "
   ]
  },
  {
   "cell_type": "code",
   "execution_count": 285,
   "metadata": {},
   "outputs": [],
   "source": [
    "%%skip\n",
    "cd.download(\n",
    "    name=dataset_name,\n",
    "    local_path=local_path,\n",
    "    exist_ok=True\n",
    "    )"
   ]
  },
  {
   "cell_type": "code",
   "execution_count": 286,
   "metadata": {},
   "outputs": [
    {
     "name": "stderr",
     "output_type": "stream",
     "text": [
      "Importing raw data ...\n",
      "Importing 'copy_number' from /tmp/coderdata_lin_mod_test/gcsi_copy_number.csv.gz ... DONE\n",
      "Importing 'mutations' from /tmp/coderdata_lin_mod_test/gcsi_mutations.csv.gz ... DONE\n",
      "Importing 'drugs' from /tmp/coderdata_lin_mod_test/gcsi_drugs.tsv.gz ... DONE\n",
      "Importing 'genes' from /tmp/coderdata_lin_mod_test/genes.csv.gz ... DONE\n",
      "Importing 'samples' from /tmp/coderdata_lin_mod_test/gcsi_samples.csv ... DONE\n",
      "Importing 'drug_descriptors' from /tmp/coderdata_lin_mod_test/gcsi_drug_descriptors.tsv.gz ... DONE\n",
      "Importing 'experiments' from /tmp/coderdata_lin_mod_test/gcsi_experiments.tsv.gz ... DONE\n",
      "Importing 'transcriptomics' from /tmp/coderdata_lin_mod_test/gcsi_transcriptomics.csv.gz ... DONE\n",
      "Importing 'proteomics' from /tmp/coderdata_lin_mod_test/gcsi_proteomics.csv.gz ... DONE\n",
      "Importing raw data ... DONE\n"
     ]
    }
   ],
   "source": [
    "data = cd.load(\n",
    "    name=dataset_name,\n",
    "    local_path=local_path\n",
    "    )"
   ]
  },
  {
   "cell_type": "markdown",
   "metadata": {},
   "source": [
    "Next we can take a look at the drugs which are used in the cancer dataset we selected."
   ]
  },
  {
   "cell_type": "code",
   "execution_count": 287,
   "metadata": {},
   "outputs": [
    {
     "data": {
      "application/vnd.microsoft.datawrangler.viewer.v0+json": {
       "columns": [
        {
         "name": "index",
         "rawType": "int64",
         "type": "integer"
        },
        {
         "name": "improve_drug_id",
         "rawType": "object",
         "type": "string"
        },
        {
         "name": "chem_name",
         "rawType": "object",
         "type": "string"
        },
        {
         "name": "pubchem_id",
         "rawType": "int64",
         "type": "integer"
        },
        {
         "name": "canSMILES",
         "rawType": "object",
         "type": "string"
        },
        {
         "name": "InChIKey",
         "rawType": "object",
         "type": "string"
        },
        {
         "name": "formula",
         "rawType": "object",
         "type": "string"
        },
        {
         "name": "weight",
         "rawType": "float64",
         "type": "float"
        }
       ],
       "conversionMethod": "pd.DataFrame",
       "ref": "618bbf53-7f63-4c0b-916a-7f4d63c18eef",
       "rows": [
        [
         "0",
         "SMI_129",
         "(3ar-(3aalpha,4beta,5beta,5abeta,9(3r*,5s*,7r*,9s*),10br*,13aalpha))-methyl 4-(acetyloxy)-3a-ethyl-9-(5-ethyl-1,4,5,6,7,8,9,10-octahydro-5-hydroxy-9- (methoxycarbonyl)-2h-3,7-methanoazacycloundecino(5,4-b)indol-9-yl)- 3a,4,5,5a,6,11,12,13a-octahydro-5-hydroxy-8-methoxy-6-methyl-1h-indolizino (8,1-cd)carbazole-5-carboxylate",
         "13342",
         "CCC1(CC2CC(C3=C(CCN(C2)C1)C4=CC=CC=C4N3)(C5=C(C=C6C(=C5)C78CCN9C7C(C=CC9)(C(C(C8N6C)(C(=O)OC)O)OC(=O)C)CC)OC)C(=O)OC)O",
         "JXLYSJRDGCGARV-CFWMRBGOSA-N",
         "C46H58N4O9",
         "811.0"
        ],
        [
         "1",
         "SMI_129",
         "vr-8",
         "13342",
         "CCC1(CC2CC(C3=C(CCN(C2)C1)C4=CC=CC=C4N3)(C5=C(C=C6C(=C5)C78CCN9C7C(C=CC9)(C(C(C8N6C)(C(=O)OC)O)OC(=O)C)CC)OC)C(=O)OC)O",
         "JXLYSJRDGCGARV-CFWMRBGOSA-N",
         "C46H58N4O9",
         "811.0"
        ],
        [
         "2",
         "SMI_129",
         "nci-c04842",
         "13342",
         "CCC1(CC2CC(C3=C(CCN(C2)C1)C4=CC=CC=C4N3)(C5=C(C=C6C(=C5)C78CCN9C7C(C=CC9)(C(C(C8N6C)(C(=O)OC)O)OC(=O)C)CC)OC)C(=O)OC)O",
         "JXLYSJRDGCGARV-CFWMRBGOSA-N",
         "C46H58N4O9",
         "811.0"
        ],
        [
         "3",
         "SMI_129",
         "nincaluicolflastine",
         "13342",
         "CCC1(CC2CC(C3=C(CCN(C2)C1)C4=CC=CC=C4N3)(C5=C(C=C6C(=C5)C78CCN9C7C(C=CC9)(C(C(C8N6C)(C(=O)OC)O)OC(=O)C)CC)OC)C(=O)OC)O",
         "JXLYSJRDGCGARV-CFWMRBGOSA-N",
         "C46H58N4O9",
         "811.0"
        ],
        [
         "4",
         "SMI_129",
         "chembl159",
         "13342",
         "CCC1(CC2CC(C3=C(CCN(C2)C1)C4=CC=CC=C4N3)(C5=C(C=C6C(=C5)C78CCN9C7C(C=CC9)(C(C(C8N6C)(C(=O)OC)O)OC(=O)C)CC)OC)C(=O)OC)O",
         "JXLYSJRDGCGARV-CFWMRBGOSA-N",
         "C46H58N4O9",
         "811.0"
        ],
        [
         "5",
         "SMI_129",
         "brd-k01188359-001-02-0",
         "13342",
         "CCC1(CC2CC(C3=C(CCN(C2)C1)C4=CC=CC=C4N3)(C5=C(C=C6C(=C5)C78CCN9C7C(C=CC9)(C(C(C8N6C)(C(=O)OC)O)OC(=O)C)CC)OC)C(=O)OC)O",
         "JXLYSJRDGCGARV-CFWMRBGOSA-N",
         "C46H58N4O9",
         "811.0"
        ],
        [
         "6",
         "SMI_129",
         "vincaleukoblastine",
         "13342",
         "CCC1(CC2CC(C3=C(CCN(C2)C1)C4=CC=CC=C4N3)(C5=C(C=C6C(=C5)C78CCN9C7C(C=CC9)(C(C(C8N6C)(C(=O)OC)O)OC(=O)C)CC)OC)C(=O)OC)O",
         "JXLYSJRDGCGARV-CFWMRBGOSA-N",
         "C46H58N4O9",
         "811.0"
        ],
        [
         "7",
         "SMI_129",
         "nsc-47842",
         "13342",
         "CCC1(CC2CC(C3=C(CCN(C2)C1)C4=CC=CC=C4N3)(C5=C(C=C6C(=C5)C78CCN9C7C(C=CC9)(C(C(C8N6C)(C(=O)OC)O)OC(=O)C)CC)OC)C(=O)OC)O",
         "JXLYSJRDGCGARV-CFWMRBGOSA-N",
         "C46H58N4O9",
         "811.0"
        ],
        [
         "8",
         "SMI_129",
         "vindesine sulfate impurity b [ep impurity]",
         "13342",
         "CCC1(CC2CC(C3=C(CCN(C2)C1)C4=CC=CC=C4N3)(C5=C(C=C6C(=C5)C78CCN9C7C(C=CC9)(C(C(C8N6C)(C(=O)OC)O)OC(=O)C)CC)OC)C(=O)OC)O",
         "JXLYSJRDGCGARV-CFWMRBGOSA-N",
         "C46H58N4O9",
         "811.0"
        ],
        [
         "9",
         "SMI_129",
         "vbl",
         "13342",
         "CCC1(CC2CC(C3=C(CCN(C2)C1)C4=CC=CC=C4N3)(C5=C(C=C6C(=C5)C78CCN9C7C(C=CC9)(C(C(C8N6C)(C(=O)OC)O)OC(=O)C)CC)OC)C(=O)OC)O",
         "JXLYSJRDGCGARV-CFWMRBGOSA-N",
         "C46H58N4O9",
         "811.0"
        ],
        [
         "10",
         "SMI_129",
         "(2alpha,2'beta,3alpha,5beta,19beta)-vincaleukoblastine",
         "13342",
         "CCC1(CC2CC(C3=C(CCN(C2)C1)C4=CC=CC=C4N3)(C5=C(C=C6C(=C5)C78CCN9C7C(C=CC9)(C(C(C8N6C)(C(=O)OC)O)OC(=O)C)CC)OC)C(=O)OC)O",
         "JXLYSJRDGCGARV-CFWMRBGOSA-N",
         "C46H58N4O9",
         "811.0"
        ],
        [
         "11",
         "SMI_129",
         "ac-24191",
         "13342",
         "CCC1(CC2CC(C3=C(CCN(C2)C1)C4=CC=CC=C4N3)(C5=C(C=C6C(=C5)C78CCN9C7C(C=CC9)(C(C(C8N6C)(C(=O)OC)O)OC(=O)C)CC)OC)C(=O)OC)O",
         "JXLYSJRDGCGARV-CFWMRBGOSA-N",
         "C46H58N4O9",
         "811.0"
        ],
        [
         "12",
         "SMI_129",
         "gtpl6851",
         "13342",
         "CCC1(CC2CC(C3=C(CCN(C2)C1)C4=CC=CC=C4N3)(C5=C(C=C6C(=C5)C78CCN9C7C(C=CC9)(C(C(C8N6C)(C(=O)OC)O)OC(=O)C)CC)OC)C(=O)OC)O",
         "JXLYSJRDGCGARV-CFWMRBGOSA-N",
         "C46H58N4O9",
         "811.0"
        ],
        [
         "13",
         "SMI_129",
         "brd-k01188359-065-23-1",
         "13342",
         "CCC1(CC2CC(C3=C(CCN(C2)C1)C4=CC=CC=C4N3)(C5=C(C=C6C(=C5)C78CCN9C7C(C=CC9)(C(C(C8N6C)(C(=O)OC)O)OC(=O)C)CC)OC)C(=O)OC)O",
         "JXLYSJRDGCGARV-CFWMRBGOSA-N",
         "C46H58N4O9",
         "811.0"
        ],
        [
         "14",
         "SMI_129",
         "vincoblastine",
         "13342",
         "CCC1(CC2CC(C3=C(CCN(C2)C1)C4=CC=CC=C4N3)(C5=C(C=C6C(=C5)C78CCN9C7C(C=CC9)(C(C(C8N6C)(C(=O)OC)O)OC(=O)C)CC)OC)C(=O)OC)O",
         "JXLYSJRDGCGARV-CFWMRBGOSA-N",
         "C46H58N4O9",
         "811.0"
        ],
        [
         "15",
         "SMI_129",
         "nsc 49842",
         "13342",
         "CCC1(CC2CC(C3=C(CCN(C2)C1)C4=CC=CC=C4N3)(C5=C(C=C6C(=C5)C78CCN9C7C(C=CC9)(C(C(C8N6C)(C(=O)OC)O)OC(=O)C)CC)OC)C(=O)OC)O",
         "JXLYSJRDGCGARV-CFWMRBGOSA-N",
         "C46H58N4O9",
         "811.0"
        ],
        [
         "16",
         "SMI_129",
         "vinblastine [vandf]",
         "13342",
         "CCC1(CC2CC(C3=C(CCN(C2)C1)C4=CC=CC=C4N3)(C5=C(C=C6C(=C5)C78CCN9C7C(C=CC9)(C(C(C8N6C)(C(=O)OC)O)OC(=O)C)CC)OC)C(=O)OC)O",
         "JXLYSJRDGCGARV-CFWMRBGOSA-N",
         "C46H58N4O9",
         "811.0"
        ],
        [
         "17",
         "SMI_129",
         "bspbio_001228",
         "13342",
         "CCC1(CC2CC(C3=C(CCN(C2)C1)C4=CC=CC=C4N3)(C5=C(C=C6C(=C5)C78CCN9C7C(C=CC9)(C(C(C8N6C)(C(=O)OC)O)OC(=O)C)CC)OC)C(=O)OC)O",
         "JXLYSJRDGCGARV-CFWMRBGOSA-N",
         "C46H58N4O9",
         "811.0"
        ],
        [
         "18",
         "SMI_129",
         "as-15821",
         "13342",
         "CCC1(CC2CC(C3=C(CCN(C2)C1)C4=CC=CC=C4N3)(C5=C(C=C6C(=C5)C78CCN9C7C(C=CC9)(C(C(C8N6C)(C(=O)OC)O)OC(=O)C)CC)OC)C(=O)OC)O",
         "JXLYSJRDGCGARV-CFWMRBGOSA-N",
         "C46H58N4O9",
         "811.0"
        ],
        [
         "19",
         "SMI_129",
         "einecs 212-734-0",
         "13342",
         "CCC1(CC2CC(C3=C(CCN(C2)C1)C4=CC=CC=C4N3)(C5=C(C=C6C(=C5)C78CCN9C7C(C=CC9)(C(C(C8N6C)(C(=O)OC)O)OC(=O)C)CC)OC)C(=O)OC)O",
         "JXLYSJRDGCGARV-CFWMRBGOSA-N",
         "C46H58N4O9",
         "811.0"
        ],
        [
         "20",
         "SMI_129",
         "(2alpha,2'beta,3beta,4alpha,5beta)-vincaleukoblastine",
         "13342",
         "CCC1(CC2CC(C3=C(CCN(C2)C1)C4=CC=CC=C4N3)(C5=C(C=C6C(=C5)C78CCN9C7C(C=CC9)(C(C(C8N6C)(C(=O)OC)O)OC(=O)C)CC)OC)C(=O)OC)O",
         "JXLYSJRDGCGARV-CFWMRBGOSA-N",
         "C46H58N4O9",
         "811.0"
        ],
        [
         "21",
         "SMI_129",
         "methyl (1r,9r,10s,11r,12r,19r)-11-acetyloxy-12-ethyl-4-[(13s,15r,17s)-17-ethyl-17-hydroxy-13-methoxycarbonyl-1,11-diazatetracyclo[13.3.1.04,12.05,10]nonadeca-4(12),5,7,9-tetraen-13-yl]-10-hydroxy-5-methoxy-8-methyl-8,16-diazapentacyclo[10.6.1.01,9.02,7.016,19]nonadeca-2,4,6,13-tetraene-10-carboxylate",
         "13342",
         "CCC1(CC2CC(C3=C(CCN(C2)C1)C4=CC=CC=C4N3)(C5=C(C=C6C(=C5)C78CCN9C7C(C=CC9)(C(C(C8N6C)(C(=O)OC)O)OC(=O)C)CC)OC)C(=O)OC)O",
         "JXLYSJRDGCGARV-CFWMRBGOSA-N",
         "C46H58N4O9",
         "811.0"
        ],
        [
         "22",
         "SMI_129",
         "vinblastine [hsdb]",
         "13342",
         "CCC1(CC2CC(C3=C(CCN(C2)C1)C4=CC=CC=C4N3)(C5=C(C=C6C(=C5)C78CCN9C7C(C=CC9)(C(C(C8N6C)(C(=O)OC)O)OC(=O)C)CC)OC)C(=O)OC)O",
         "JXLYSJRDGCGARV-CFWMRBGOSA-N",
         "C46H58N4O9",
         "811.0"
        ],
        [
         "23",
         "SMI_129",
         "schembl3628",
         "13342",
         "CCC1(CC2CC(C3=C(CCN(C2)C1)C4=CC=CC=C4N3)(C5=C(C=C6C(=C5)C78CCN9C7C(C=CC9)(C(C(C8N6C)(C(=O)OC)O)OC(=O)C)CC)OC)C(=O)OC)O",
         "JXLYSJRDGCGARV-CFWMRBGOSA-N",
         "C46H58N4O9",
         "811.0"
        ],
        [
         "24",
         "SMI_129",
         "bdbm50012278",
         "13342",
         "CCC1(CC2CC(C3=C(CCN(C2)C1)C4=CC=CC=C4N3)(C5=C(C=C6C(=C5)C78CCN9C7C(C=CC9)(C(C(C8N6C)(C(=O)OC)O)OC(=O)C)CC)OC)C(=O)OC)O",
         "JXLYSJRDGCGARV-CFWMRBGOSA-N",
         "C46H58N4O9",
         "811.0"
        ],
        [
         "25",
         "SMI_129",
         "(3ar-(3aalpha,4beta,5beta,5abeta,9(3r*,5s*,7r*,9s*),10br*,13aalpha))-methyl 4-(acetyloxy)-3a-ethyl-9-(5-ethyl-1,4,5,6,7,8,9,10-octahydro-5-hydroxy-9-(methoxycarbonyl)-2h-3,7-methanoazacycloundecino(5,4-b)indol-9-yl)-3a,4,5,5a,6,11,12,13a-octahydro-5-hydroxy-8-methoxy-6-methyl-1h-indolizino(8,1-cd)carbazole-5-carboxylate",
         "13342",
         "CCC1(CC2CC(C3=C(CCN(C2)C1)C4=CC=CC=C4N3)(C5=C(C=C6C(=C5)C78CCN9C7C(C=CC9)(C(C(C8N6C)(C(=O)OC)O)OC(=O)C)CC)OC)C(=O)OC)O",
         "JXLYSJRDGCGARV-CFWMRBGOSA-N",
         "C46H58N4O9",
         "811.0"
        ],
        [
         "26",
         "SMI_129",
         "vlb",
         "13342",
         "CCC1(CC2CC(C3=C(CCN(C2)C1)C4=CC=CC=C4N3)(C5=C(C=C6C(=C5)C78CCN9C7C(C=CC9)(C(C(C8N6C)(C(=O)OC)O)OC(=O)C)CC)OC)C(=O)OC)O",
         "JXLYSJRDGCGARV-CFWMRBGOSA-N",
         "C46H58N4O9",
         "811.0"
        ],
        [
         "27",
         "SMI_129",
         "[3h]-vinblastine",
         "13342",
         "CCC1(CC2CC(C3=C(CCN(C2)C1)C4=CC=CC=C4N3)(C5=C(C=C6C(=C5)C78CCN9C7C(C=CC9)(C(C(C8N6C)(C(=O)OC)O)OC(=O)C)CC)OC)C(=O)OC)O",
         "JXLYSJRDGCGARV-CFWMRBGOSA-N",
         "C46H58N4O9",
         "811.0"
        ],
        [
         "28",
         "SMI_129",
         "vinblastin",
         "13342",
         "CCC1(CC2CC(C3=C(CCN(C2)C1)C4=CC=CC=C4N3)(C5=C(C=C6C(=C5)C78CCN9C7C(C=CC9)(C(C(C8N6C)(C(=O)OC)O)OC(=O)C)CC)OC)C(=O)OC)O",
         "JXLYSJRDGCGARV-CFWMRBGOSA-N",
         "C46H58N4O9",
         "811.0"
        ],
        [
         "29",
         "SMI_129",
         "akos015965500",
         "13342",
         "CCC1(CC2CC(C3=C(CCN(C2)C1)C4=CC=CC=C4N3)(C5=C(C=C6C(=C5)C78CCN9C7C(C=CC9)(C(C(C8N6C)(C(=O)OC)O)OC(=O)C)CC)OC)C(=O)OC)O",
         "JXLYSJRDGCGARV-CFWMRBGOSA-N",
         "C46H58N4O9",
         "811.0"
        ],
        [
         "30",
         "SMI_129",
         "vinblastinum [inn-latin]",
         "13342",
         "CCC1(CC2CC(C3=C(CCN(C2)C1)C4=CC=CC=C4N3)(C5=C(C=C6C(=C5)C78CCN9C7C(C=CC9)(C(C(C8N6C)(C(=O)OC)O)OC(=O)C)CC)OC)C(=O)OC)O",
         "JXLYSJRDGCGARV-CFWMRBGOSA-N",
         "C46H58N4O9",
         "811.0"
        ],
        [
         "31",
         "SMI_129",
         "vinblastinum",
         "13342",
         "CCC1(CC2CC(C3=C(CCN(C2)C1)C4=CC=CC=C4N3)(C5=C(C=C6C(=C5)C78CCN9C7C(C=CC9)(C(C(C8N6C)(C(=O)OC)O)OC(=O)C)CC)OC)C(=O)OC)O",
         "JXLYSJRDGCGARV-CFWMRBGOSA-N",
         "C46H58N4O9",
         "811.0"
        ],
        [
         "32",
         "SMI_129",
         "ncgc00022585-04",
         "13342",
         "CCC1(CC2CC(C3=C(CCN(C2)C1)C4=CC=CC=C4N3)(C5=C(C=C6C(=C5)C78CCN9C7C(C=CC9)(C(C(C8N6C)(C(=O)OC)O)OC(=O)C)CC)OC)C(=O)OC)O",
         "JXLYSJRDGCGARV-CFWMRBGOSA-N",
         "C46H58N4O9",
         "811.0"
        ],
        [
         "33",
         "SMI_129",
         "rozevin",
         "13342",
         "CCC1(CC2CC(C3=C(CCN(C2)C1)C4=CC=CC=C4N3)(C5=C(C=C6C(=C5)C78CCN9C7C(C=CC9)(C(C(C8N6C)(C(=O)OC)O)OC(=O)C)CC)OC)C(=O)OC)O",
         "JXLYSJRDGCGARV-CFWMRBGOSA-N",
         "C46H58N4O9",
         "811.0"
        ],
        [
         "34",
         "SMI_129",
         "unii-5v9klz54cy",
         "13342",
         "CCC1(CC2CC(C3=C(CCN(C2)C1)C4=CC=CC=C4N3)(C5=C(C=C6C(=C5)C78CCN9C7C(C=CC9)(C(C(C8N6C)(C(=O)OC)O)OC(=O)C)CC)OC)C(=O)OC)O",
         "JXLYSJRDGCGARV-CFWMRBGOSA-N",
         "C46H58N4O9",
         "811.0"
        ],
        [
         "35",
         "SMI_129",
         "ncgc00022585-05",
         "13342",
         "CCC1(CC2CC(C3=C(CCN(C2)C1)C4=CC=CC=C4N3)(C5=C(C=C6C(=C5)C78CCN9C7C(C=CC9)(C(C(C8N6C)(C(=O)OC)O)OC(=O)C)CC)OC)C(=O)OC)O",
         "JXLYSJRDGCGARV-CFWMRBGOSA-N",
         "C46H58N4O9",
         "811.0"
        ],
        [
         "36",
         "SMI_129",
         "vinblastine [inn]",
         "13342",
         "CCC1(CC2CC(C3=C(CCN(C2)C1)C4=CC=CC=C4N3)(C5=C(C=C6C(=C5)C78CCN9C7C(C=CC9)(C(C(C8N6C)(C(=O)OC)O)OC(=O)C)CC)OC)C(=O)OC)O",
         "JXLYSJRDGCGARV-CFWMRBGOSA-N",
         "C46H58N4O9",
         "811.0"
        ],
        [
         "37",
         "SMI_129",
         "vinblastinum (inn-latin)",
         "13342",
         "CCC1(CC2CC(C3=C(CCN(C2)C1)C4=CC=CC=C4N3)(C5=C(C=C6C(=C5)C78CCN9C7C(C=CC9)(C(C(C8N6C)(C(=O)OC)O)OC(=O)C)CC)OC)C(=O)OC)O",
         "JXLYSJRDGCGARV-CFWMRBGOSA-N",
         "C46H58N4O9",
         "811.0"
        ],
        [
         "38",
         "SMI_129",
         "bidd:pxr0201",
         "13342",
         "CCC1(CC2CC(C3=C(CCN(C2)C1)C4=CC=CC=C4N3)(C5=C(C=C6C(=C5)C78CCN9C7C(C=CC9)(C(C(C8N6C)(C(=O)OC)O)OC(=O)C)CC)OC)C(=O)OC)O",
         "JXLYSJRDGCGARV-CFWMRBGOSA-N",
         "C46H58N4O9",
         "811.0"
        ],
        [
         "39",
         "SMI_129",
         "vinblastine [who-dd]",
         "13342",
         "CCC1(CC2CC(C3=C(CCN(C2)C1)C4=CC=CC=C4N3)(C5=C(C=C6C(=C5)C78CCN9C7C(C=CC9)(C(C(C8N6C)(C(=O)OC)O)OC(=O)C)CC)OC)C(=O)OC)O",
         "JXLYSJRDGCGARV-CFWMRBGOSA-N",
         "C46H58N4O9",
         "811.0"
        ],
        [
         "40",
         "SMI_129",
         "brd-k01188359-065-02-5",
         "13342",
         "CCC1(CC2CC(C3=C(CCN(C2)C1)C4=CC=CC=C4N3)(C5=C(C=C6C(=C5)C78CCN9C7C(C=CC9)(C(C(C8N6C)(C(=O)OC)O)OC(=O)C)CC)OC)C(=O)OC)O",
         "JXLYSJRDGCGARV-CFWMRBGOSA-N",
         "C46H58N4O9",
         "811.0"
        ],
        [
         "41",
         "SMI_129",
         "ncgc00485975-02",
         "13342",
         "CCC1(CC2CC(C3=C(CCN(C2)C1)C4=CC=CC=C4N3)(C5=C(C=C6C(=C5)C78CCN9C7C(C=CC9)(C(C(C8N6C)(C(=O)OC)O)OC(=O)C)CC)OC)C(=O)OC)O",
         "JXLYSJRDGCGARV-CFWMRBGOSA-N",
         "C46H58N4O9",
         "811.0"
        ],
        [
         "42",
         "SMI_129",
         "brd-k01188359-001-03-8",
         "13342",
         "CCC1(CC2CC(C3=C(CCN(C2)C1)C4=CC=CC=C4N3)(C5=C(C=C6C(=C5)C78CCN9C7C(C=CC9)(C(C(C8N6C)(C(=O)OC)O)OC(=O)C)CC)OC)C(=O)OC)O",
         "JXLYSJRDGCGARV-CFWMRBGOSA-N",
         "C46H58N4O9",
         "811.0"
        ],
        [
         "43",
         "SMI_129",
         "vincaleucoblastin",
         "13342",
         "CCC1(CC2CC(C3=C(CCN(C2)C1)C4=CC=CC=C4N3)(C5=C(C=C6C(=C5)C78CCN9C7C(C=CC9)(C(C(C8N6C)(C(=O)OC)O)OC(=O)C)CC)OC)C(=O)OC)O",
         "JXLYSJRDGCGARV-CFWMRBGOSA-N",
         "C46H58N4O9",
         "811.0"
        ],
        [
         "44",
         "SMI_129",
         "132142-72-4",
         "13342",
         "CCC1(CC2CC(C3=C(CCN(C2)C1)C4=CC=CC=C4N3)(C5=C(C=C6C(=C5)C78CCN9C7C(C=CC9)(C(C(C8N6C)(C(=O)OC)O)OC(=O)C)CC)OC)C(=O)OC)O",
         "JXLYSJRDGCGARV-CFWMRBGOSA-N",
         "C46H58N4O9",
         "811.0"
        ],
        [
         "45",
         "SMI_129",
         "vinblastine [inn:ban]",
         "13342",
         "CCC1(CC2CC(C3=C(CCN(C2)C1)C4=CC=CC=C4N3)(C5=C(C=C6C(=C5)C78CCN9C7C(C=CC9)(C(C(C8N6C)(C(=O)OC)O)OC(=O)C)CC)OC)C(=O)OC)O",
         "JXLYSJRDGCGARV-CFWMRBGOSA-N",
         "C46H58N4O9",
         "811.0"
        ],
        [
         "46",
         "SMI_129",
         "nsc 47842",
         "13342",
         "CCC1(CC2CC(C3=C(CCN(C2)C1)C4=CC=CC=C4N3)(C5=C(C=C6C(=C5)C78CCN9C7C(C=CC9)(C(C(C8N6C)(C(=O)OC)O)OC(=O)C)CC)OC)C(=O)OC)O",
         "JXLYSJRDGCGARV-CFWMRBGOSA-N",
         "C46H58N4O9",
         "811.0"
        ],
        [
         "47",
         "SMI_129",
         "(2alpha,2''''beta,3beta,4alpha,5beta)-vincaleukoblastine",
         "13342",
         "CCC1(CC2CC(C3=C(CCN(C2)C1)C4=CC=CC=C4N3)(C5=C(C=C6C(=C5)C78CCN9C7C(C=CC9)(C(C(C8N6C)(C(=O)OC)O)OC(=O)C)CC)OC)C(=O)OC)O",
         "JXLYSJRDGCGARV-CFWMRBGOSA-N",
         "C46H58N4O9",
         "811.0"
        ],
        [
         "48",
         "SMI_129",
         "vinblastine [mi]",
         "13342",
         "CCC1(CC2CC(C3=C(CCN(C2)C1)C4=CC=CC=C4N3)(C5=C(C=C6C(=C5)C78CCN9C7C(C=CC9)(C(C(C8N6C)(C(=O)OC)O)OC(=O)C)CC)OC)C(=O)OC)O",
         "JXLYSJRDGCGARV-CFWMRBGOSA-N",
         "C46H58N4O9",
         "811.0"
        ],
        [
         "49",
         "SMI_129",
         "methyl (1r,9r,10s,11r,12r,19r)-11-(acetyloxy)-12-ethyl-4-[(13s,15r,17s)-17-ethyl-17-hydroxy-13-(methoxycarbonyl)-1,11-diazatetracyclo[13.3.1.0^{4,12}.0^{5,10}]nonadeca-4(12),5(10),6,8-tetraen-13-yl]-10-hydroxy-5-methoxy-8-methyl-8,16-diazapentacyclo[10.6.1.0^{1,9}.0^{2,7}.0^{16,19}]nonadeca-2,4,6,13-tetraene-10-carboxylate",
         "13342",
         "CCC1(CC2CC(C3=C(CCN(C2)C1)C4=CC=CC=C4N3)(C5=C(C=C6C(=C5)C78CCN9C7C(C=CC9)(C(C(C8N6C)(C(=O)OC)O)OC(=O)C)CC)OC)C(=O)OC)O",
         "JXLYSJRDGCGARV-CFWMRBGOSA-N",
         "C46H58N4O9",
         "811.0"
        ]
       ],
       "shape": {
        "columns": 7,
        "rows": 4911
       }
      },
      "text/html": [
       "<div>\n",
       "<style scoped>\n",
       "    .dataframe tbody tr th:only-of-type {\n",
       "        vertical-align: middle;\n",
       "    }\n",
       "\n",
       "    .dataframe tbody tr th {\n",
       "        vertical-align: top;\n",
       "    }\n",
       "\n",
       "    .dataframe thead th {\n",
       "        text-align: right;\n",
       "    }\n",
       "</style>\n",
       "<table border=\"1\" class=\"dataframe\">\n",
       "  <thead>\n",
       "    <tr style=\"text-align: right;\">\n",
       "      <th></th>\n",
       "      <th>improve_drug_id</th>\n",
       "      <th>chem_name</th>\n",
       "      <th>pubchem_id</th>\n",
       "      <th>canSMILES</th>\n",
       "      <th>InChIKey</th>\n",
       "      <th>formula</th>\n",
       "      <th>weight</th>\n",
       "    </tr>\n",
       "  </thead>\n",
       "  <tbody>\n",
       "    <tr>\n",
       "      <th>0</th>\n",
       "      <td>SMI_129</td>\n",
       "      <td>(3ar-(3aalpha,4beta,5beta,5abeta,9(3r*,5s*,7r*...</td>\n",
       "      <td>13342</td>\n",
       "      <td>CCC1(CC2CC(C3=C(CCN(C2)C1)C4=CC=CC=C4N3)(C5=C(...</td>\n",
       "      <td>JXLYSJRDGCGARV-CFWMRBGOSA-N</td>\n",
       "      <td>C46H58N4O9</td>\n",
       "      <td>811.0</td>\n",
       "    </tr>\n",
       "    <tr>\n",
       "      <th>1</th>\n",
       "      <td>SMI_129</td>\n",
       "      <td>vr-8</td>\n",
       "      <td>13342</td>\n",
       "      <td>CCC1(CC2CC(C3=C(CCN(C2)C1)C4=CC=CC=C4N3)(C5=C(...</td>\n",
       "      <td>JXLYSJRDGCGARV-CFWMRBGOSA-N</td>\n",
       "      <td>C46H58N4O9</td>\n",
       "      <td>811.0</td>\n",
       "    </tr>\n",
       "    <tr>\n",
       "      <th>2</th>\n",
       "      <td>SMI_129</td>\n",
       "      <td>nci-c04842</td>\n",
       "      <td>13342</td>\n",
       "      <td>CCC1(CC2CC(C3=C(CCN(C2)C1)C4=CC=CC=C4N3)(C5=C(...</td>\n",
       "      <td>JXLYSJRDGCGARV-CFWMRBGOSA-N</td>\n",
       "      <td>C46H58N4O9</td>\n",
       "      <td>811.0</td>\n",
       "    </tr>\n",
       "    <tr>\n",
       "      <th>3</th>\n",
       "      <td>SMI_129</td>\n",
       "      <td>nincaluicolflastine</td>\n",
       "      <td>13342</td>\n",
       "      <td>CCC1(CC2CC(C3=C(CCN(C2)C1)C4=CC=CC=C4N3)(C5=C(...</td>\n",
       "      <td>JXLYSJRDGCGARV-CFWMRBGOSA-N</td>\n",
       "      <td>C46H58N4O9</td>\n",
       "      <td>811.0</td>\n",
       "    </tr>\n",
       "    <tr>\n",
       "      <th>4</th>\n",
       "      <td>SMI_129</td>\n",
       "      <td>chembl159</td>\n",
       "      <td>13342</td>\n",
       "      <td>CCC1(CC2CC(C3=C(CCN(C2)C1)C4=CC=CC=C4N3)(C5=C(...</td>\n",
       "      <td>JXLYSJRDGCGARV-CFWMRBGOSA-N</td>\n",
       "      <td>C46H58N4O9</td>\n",
       "      <td>811.0</td>\n",
       "    </tr>\n",
       "    <tr>\n",
       "      <th>...</th>\n",
       "      <td>...</td>\n",
       "      <td>...</td>\n",
       "      <td>...</td>\n",
       "      <td>...</td>\n",
       "      <td>...</td>\n",
       "      <td>...</td>\n",
       "      <td>...</td>\n",
       "    </tr>\n",
       "    <tr>\n",
       "      <th>4906</th>\n",
       "      <td>SMI_54714</td>\n",
       "      <td>gtpl7581</td>\n",
       "      <td>56671814</td>\n",
       "      <td>CC(C1=C(C=CC(=C1Cl)F)Cl)OC2=C(N=CC(=C2)C3=CN(N...</td>\n",
       "      <td>KTEIFNKAUNYNJU-LBPRGKRZSA-N</td>\n",
       "      <td>C21H22Cl2FN5O</td>\n",
       "      <td>450.3</td>\n",
       "    </tr>\n",
       "    <tr>\n",
       "      <th>4907</th>\n",
       "      <td>SMI_54714</td>\n",
       "      <td>ccg-269234</td>\n",
       "      <td>56671814</td>\n",
       "      <td>CC(C1=C(C=CC(=C1Cl)F)Cl)OC2=C(N=CC(=C2)C3=CN(N...</td>\n",
       "      <td>KTEIFNKAUNYNJU-LBPRGKRZSA-N</td>\n",
       "      <td>C21H22Cl2FN5O</td>\n",
       "      <td>450.3</td>\n",
       "    </tr>\n",
       "    <tr>\n",
       "      <th>4908</th>\n",
       "      <td>SMI_54714</td>\n",
       "      <td>akos025401749</td>\n",
       "      <td>56671814</td>\n",
       "      <td>CC(C1=C(C=CC(=C1Cl)F)Cl)OC2=C(N=CC(=C2)C3=CN(N...</td>\n",
       "      <td>KTEIFNKAUNYNJU-LBPRGKRZSA-N</td>\n",
       "      <td>C21H22Cl2FN5O</td>\n",
       "      <td>450.3</td>\n",
       "    </tr>\n",
       "    <tr>\n",
       "      <th>4909</th>\n",
       "      <td>SMI_54714</td>\n",
       "      <td>chebi:77555</td>\n",
       "      <td>56671814</td>\n",
       "      <td>CC(C1=C(C=CC(=C1Cl)F)Cl)OC2=C(N=CC(=C2)C3=CN(N...</td>\n",
       "      <td>KTEIFNKAUNYNJU-LBPRGKRZSA-N</td>\n",
       "      <td>C21H22Cl2FN5O</td>\n",
       "      <td>450.3</td>\n",
       "    </tr>\n",
       "    <tr>\n",
       "      <th>4910</th>\n",
       "      <td>SMI_54714</td>\n",
       "      <td>3-[(1s)-1-(2,6-dichloro-3-fluorophenyl)ethoxy]...</td>\n",
       "      <td>56671814</td>\n",
       "      <td>CC(C1=C(C=CC(=C1Cl)F)Cl)OC2=C(N=CC(=C2)C3=CN(N...</td>\n",
       "      <td>KTEIFNKAUNYNJU-LBPRGKRZSA-N</td>\n",
       "      <td>C21H22Cl2FN5O</td>\n",
       "      <td>450.3</td>\n",
       "    </tr>\n",
       "  </tbody>\n",
       "</table>\n",
       "<p>4911 rows × 7 columns</p>\n",
       "</div>"
      ],
      "text/plain": [
       "     improve_drug_id                                          chem_name  \\\n",
       "0            SMI_129  (3ar-(3aalpha,4beta,5beta,5abeta,9(3r*,5s*,7r*...   \n",
       "1            SMI_129                                               vr-8   \n",
       "2            SMI_129                                         nci-c04842   \n",
       "3            SMI_129                                nincaluicolflastine   \n",
       "4            SMI_129                                          chembl159   \n",
       "...              ...                                                ...   \n",
       "4906       SMI_54714                                           gtpl7581   \n",
       "4907       SMI_54714                                         ccg-269234   \n",
       "4908       SMI_54714                                      akos025401749   \n",
       "4909       SMI_54714                                        chebi:77555   \n",
       "4910       SMI_54714  3-[(1s)-1-(2,6-dichloro-3-fluorophenyl)ethoxy]...   \n",
       "\n",
       "      pubchem_id                                          canSMILES  \\\n",
       "0          13342  CCC1(CC2CC(C3=C(CCN(C2)C1)C4=CC=CC=C4N3)(C5=C(...   \n",
       "1          13342  CCC1(CC2CC(C3=C(CCN(C2)C1)C4=CC=CC=C4N3)(C5=C(...   \n",
       "2          13342  CCC1(CC2CC(C3=C(CCN(C2)C1)C4=CC=CC=C4N3)(C5=C(...   \n",
       "3          13342  CCC1(CC2CC(C3=C(CCN(C2)C1)C4=CC=CC=C4N3)(C5=C(...   \n",
       "4          13342  CCC1(CC2CC(C3=C(CCN(C2)C1)C4=CC=CC=C4N3)(C5=C(...   \n",
       "...          ...                                                ...   \n",
       "4906    56671814  CC(C1=C(C=CC(=C1Cl)F)Cl)OC2=C(N=CC(=C2)C3=CN(N...   \n",
       "4907    56671814  CC(C1=C(C=CC(=C1Cl)F)Cl)OC2=C(N=CC(=C2)C3=CN(N...   \n",
       "4908    56671814  CC(C1=C(C=CC(=C1Cl)F)Cl)OC2=C(N=CC(=C2)C3=CN(N...   \n",
       "4909    56671814  CC(C1=C(C=CC(=C1Cl)F)Cl)OC2=C(N=CC(=C2)C3=CN(N...   \n",
       "4910    56671814  CC(C1=C(C=CC(=C1Cl)F)Cl)OC2=C(N=CC(=C2)C3=CN(N...   \n",
       "\n",
       "                         InChIKey        formula  weight  \n",
       "0     JXLYSJRDGCGARV-CFWMRBGOSA-N     C46H58N4O9   811.0  \n",
       "1     JXLYSJRDGCGARV-CFWMRBGOSA-N     C46H58N4O9   811.0  \n",
       "2     JXLYSJRDGCGARV-CFWMRBGOSA-N     C46H58N4O9   811.0  \n",
       "3     JXLYSJRDGCGARV-CFWMRBGOSA-N     C46H58N4O9   811.0  \n",
       "4     JXLYSJRDGCGARV-CFWMRBGOSA-N     C46H58N4O9   811.0  \n",
       "...                           ...            ...     ...  \n",
       "4906  KTEIFNKAUNYNJU-LBPRGKRZSA-N  C21H22Cl2FN5O   450.3  \n",
       "4907  KTEIFNKAUNYNJU-LBPRGKRZSA-N  C21H22Cl2FN5O   450.3  \n",
       "4908  KTEIFNKAUNYNJU-LBPRGKRZSA-N  C21H22Cl2FN5O   450.3  \n",
       "4909  KTEIFNKAUNYNJU-LBPRGKRZSA-N  C21H22Cl2FN5O   450.3  \n",
       "4910  KTEIFNKAUNYNJU-LBPRGKRZSA-N  C21H22Cl2FN5O   450.3  \n",
       "\n",
       "[4911 rows x 7 columns]"
      ]
     },
     "execution_count": 287,
     "metadata": {},
     "output_type": "execute_result"
    }
   ],
   "source": [
    "data.drugs[data.drugs['improve_drug_id'].isin(data.experiments['improve_drug_id'].unique())]"
   ]
  },
  {
   "cell_type": "markdown",
   "metadata": {},
   "source": [
    "For this example we will be investigating erlotinib."
   ]
  },
  {
   "cell_type": "code",
   "execution_count": 288,
   "metadata": {},
   "outputs": [],
   "source": [
    "drug_name = 'erlotinib'\n",
    "# drug_name = 'vincoblastine'\n",
    "drug_id = data.drugs.loc[data.drugs['chem_name'] == drug_name, 'improve_drug_id'].values[0]"
   ]
  },
  {
   "cell_type": "markdown",
   "metadata": {},
   "source": [
    "To make sure that we only be using data that is related to the selected drug we further need to subset the training / testing (and validation) data."
   ]
  },
  {
   "cell_type": "code",
   "execution_count": 289,
   "metadata": {},
   "outputs": [],
   "source": [
    "def filter_by_drugid(data, drug_id):\n",
    "    data_ret = deepcopy(data)\n",
    "    \n",
    "    data_ret.experiments = data_ret.experiments[\n",
    "        data_ret.experiments['improve_drug_id'] == drug_id\n",
    "        ]\n",
    "    data_ret.drugs = data_ret.drugs[\n",
    "        data_ret.drugs['improve_drug_id'] == drug_id\n",
    "        ]\n",
    "    \n",
    "    sample_ids = data_ret.experiments['improve_sample_id'].unique()\n",
    "\n",
    "    data_ret.mutations = data_ret.mutations[\n",
    "        data_ret.mutations['improve_sample_id'].isin(sample_ids)\n",
    "        ]\n",
    "    data_ret.proteomics = data_ret.proteomics[\n",
    "        data_ret.proteomics['improve_sample_id'].isin(sample_ids)\n",
    "        ]\n",
    "    data_ret.samples = data_ret.samples[\n",
    "        data_ret.samples['improve_sample_id'].isin(sample_ids)\n",
    "        ]\n",
    "    data_ret.transcriptomics = data_ret.transcriptomics[\n",
    "        data_ret.transcriptomics['improve_sample_id'].isin(sample_ids)\n",
    "        ]\n",
    "    \n",
    "    return data_ret"
   ]
  },
  {
   "cell_type": "markdown",
   "metadata": {},
   "source": [
    "Next we can generate the training, testing (and validation) splits. We are also going to define the arguments for the `coderdata` splitting function:"
   ]
  },
  {
   "cell_type": "code",
   "execution_count": 290,
   "metadata": {},
   "outputs": [],
   "source": [
    "# %%skip\n",
    "\n",
    "split_type = 'mixed-set'\n",
    "ratio = (8, 1, 1)\n",
    "random_state = 42\n",
    "\n",
    "data_filtered = filter_by_drugid(data, drug_id)\n",
    "split_filtered = data_filtered.split_train_test_validate(\n",
    "    split_type=split_type,\n",
    "    ratio=ratio,\n",
    "    random_state=random_state\n",
    ")\n",
    "train_filtered = split_filtered.train\n",
    "test_filtered = split_filtered.test\n",
    "val_filtered = split_filtered.validate"
   ]
  },
  {
   "cell_type": "code",
   "execution_count": 291,
   "metadata": {},
   "outputs": [],
   "source": [
    "%%skip\n",
    "\n",
    "split_type = 'mixed-set'\n",
    "ratio = (9, 1)\n",
    "random_state = 42\n",
    "\n",
    "data_filtered = filter_by_drugid(data, drug_id)\n",
    "split_filtered = data_filtered.split_train_other(\n",
    "    split_type=split_type,\n",
    "    ratio=ratio,\n",
    "    random_state=random_state\n",
    ")\n",
    "train_filtered = split_filtered.train\n",
    "test_filtered = split_filtered.other"
   ]
  },
  {
   "cell_type": "code",
   "execution_count": 292,
   "metadata": {},
   "outputs": [],
   "source": [
    "def generate_model_input_matrices(\n",
    "        data: cd.Dataset,\n",
    "        features:list,\n",
    "        response_metric: str\n",
    "        ) -> np.ndarray:\n",
    "    \n",
    "    d_response = data.format(\n",
    "        data_type='experiments',\n",
    "        shape='wide',\n",
    "        metrics=response_metric\n",
    "        )\n",
    "    if len(features) == 1:\n",
    "        d_feature_tmp = data.format(\n",
    "            data_type=features[0],\n",
    "            ).reset_index()\n",
    "        \n",
    "    else:\n",
    "        raise NotImplementedError(\"more than 1 feature type currently not implemented\")\n",
    "    \n",
    "\n",
    "    y = d_response.loc[d_response['improve_sample_id'].isin(d_feature_tmp['improve_sample_id']), response_metric].to_numpy()\n",
    "    x = d_feature_tmp.loc[:, d_feature_tmp.columns != 'improve_sample_id'].to_numpy(na_value=0)\n",
    "    \n",
    "    return x, y"
   ]
  },
  {
   "cell_type": "code",
   "execution_count": 300,
   "metadata": {},
   "outputs": [],
   "source": [
    "response_metric = 'fit_auc'\n",
    "feature = 'transcriptomics'\n",
    "\n",
    "\n",
    "train_x, train_y = generate_model_input_matrices(\n",
    "    train_filtered,\n",
    "    features=[feature],\n",
    "    response_metric=response_metric\n",
    "    )\n",
    "\n",
    "test_x, test_y = generate_model_input_matrices(\n",
    "    test_filtered,\n",
    "    features=[feature],\n",
    "    response_metric=response_metric\n",
    "    )"
   ]
  },
  {
   "cell_type": "code",
   "execution_count": 301,
   "metadata": {},
   "outputs": [],
   "source": [
    "en_model = LM.ElasticNet( \n",
    "    random_state=0,\n",
    "    max_iter=100000, \n",
    "    fit_intercept=True,\n",
    "    l1_ratio=.7,\n",
    "    alpha=.9,\n",
    ")\n",
    "\n",
    "lasso_model = LM.Lasso(\n",
    "    alpha=0.1,\n",
    "    max_iter=100000, \n",
    "    fit_intercept=True,\n",
    ")\n",
    "\n",
    "svm_model = svm.SVR(C=1.0, epsilon=0.2, kernel='linear')\n",
    "svc_model = svm.SVC(C=1.0, kernel='linear')\n",
    "\n",
    "def run_sklearn(x_train, y_train, x_test, y_test, model, model_name, binarize=False):\n",
    "        \n",
    "    # don't think we need scaling? Can add in pretty quickly if we do\n",
    "#     pipe = pipeline.Pipeline([\n",
    "# #         ('scaler', preprocessing.StandardScaler()),\n",
    "#         ('model', model)\n",
    "#     ])\n",
    "    if binarize:\n",
    "        y_train, y_test = convert_to_binary(y_train, y_test)\n",
    "    \n",
    "    model.fit(x_train, y_train)\n",
    "    train_pred = model.predict(x_train)\n",
    "    preds = model.predict(x_test)\n",
    "    error, r2, pearson = score_all(y_test, preds)\n",
    "    coef = np.array(model.coef_).flatten()\n",
    "    # feature_names = model.feature_names_in_[coef>0]\n",
    "    auc = np.nan\n",
    "    if binarize:\n",
    "        auc = metrics.average_precision_score(y_test, preds)\n",
    "    return {\n",
    "        'test_prediction': preds,\n",
    "        'train_prediction': train_pred,\n",
    "        'pearsonr': pearsonr(y_test, preds)[0],\n",
    "        'mse': error,\n",
    "        'r2' : r2,\n",
    "        'model': model_name,\n",
    "        # 'feature_names': feature_names,\n",
    "        'auc': auc\n",
    "    }\n",
    "\n",
    "def convert_to_binary(y_train, y_test):\n",
    "    \"\"\" Binarize AUC \"\"\"\n",
    "    y_train_c = np.copy(y_train)\n",
    "    y_test_c = np.copy(y_test)\n",
    "    y_train_c[y_train_c<100] = 1\n",
    "    y_train_c[y_train_c>100] = 0\n",
    "    y_test_c[y_test_c<100] = 1\n",
    "    y_test_c[y_test_c>100] = 0\n",
    "    return y_train_c, y_test_c\n",
    "\n",
    "def score_all(y_test, preds):\n",
    "    error = np.sqrt(metrics.mean_squared_error(y_test, preds))\n",
    "    r2 = metrics.r2_score(y_test, preds)\n",
    "    pearson = pearsonr(y_test, preds)[0]\n",
    "#     print(f\"RMSE: {error:0.3f} | R^2 {r2:0.3f} | R {pearson:0.3f}\")\n",
    "    return error, r2, pearson\n"
   ]
  },
  {
   "cell_type": "code",
   "execution_count": 302,
   "metadata": {},
   "outputs": [],
   "source": [
    "\n",
    "enet_results = run_sklearn(x_train=train_x, y_train=train_y, x_test=test_x, y_test=test_y, model=en_model, model_name='EN')\n",
    "lasso_results = run_sklearn(x_train=train_x, y_train=train_y, x_test=test_x, y_test=test_y, model=lasso_model, model_name='LASSO')\n",
    "svm_results = run_sklearn(x_train=train_x, y_train=train_y, x_test=test_x, y_test=test_y, model=svm_model, model_name='SVM')\n",
    "# svc_results = run_sklearn(x_train=train_x, y_train=train_y, x_test=test_x, y_test=test_y, model=svc_model, model_name='SVC')"
   ]
  },
  {
   "cell_type": "code",
   "execution_count": 303,
   "metadata": {},
   "outputs": [
    {
     "data": {
      "image/png": "[encoded data removed]",
      "text/plain": [
       "<Figure size 640x480 with 1 Axes>"
      ]
     },
     "metadata": {},
     "output_type": "display_data"
    }
   ],
   "source": [
    "avg = np.zeros(len(enet_results['test_prediction']))\n",
    "for i in [\n",
    "    # gbt_results,\n",
    "    enet_results, lasso_results, svm_results,\n",
    "    # svc_results\n",
    "    ]:\n",
    "    sns.regplot(x=test_y, y=i['test_prediction'], label=i['model'])\n",
    "    avg += i['test_prediction']\n",
    "avg = avg/4\n",
    "score_all(test_y, avg)\n",
    "sns.regplot(x=test_y, y=avg, label='Average')\n",
    "plt.xlabel(\"Actual\")\n",
    "plt.ylabel(\"Predicted\")\n",
    "plt.legend()\n",
    "plt.suptitle(f\"Drug: {drug_name}\")\n",
    "results = pd.DataFrame(\n",
    "    [\n",
    "        # gbt_results, gbt_binary_results,\n",
    "        enet_results, lasso_results, svm_results,\n",
    "        # svc_results\n",
    "        ]\n",
    ")"
   ]
  }
 ],
 "metadata": {
  "kernelspec": {
   "display_name": "coderdata-linear-model-test",
   "language": "python",
   "name": "python3"
  },
  "language_info": {
   "codemirror_mode": {
    "name": "ipython",
    "version": 3
   },
   "file_extension": ".py",
   "mimetype": "text/x-python",
   "name": "python",
   "nbconvert_exporter": "python",
   "pygments_lexer": "ipython3",
   "version": "3.13.2"
  }
 },
 "nbformat": 4,
 "nbformat_minor": 2
}
